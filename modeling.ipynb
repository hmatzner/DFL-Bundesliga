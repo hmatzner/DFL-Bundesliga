{
  "nbformat": 4,
  "nbformat_minor": 0,
  "metadata": {
    "colab": {
      "provenance": []
    },
    "kernelspec": {
      "name": "python3",
      "display_name": "Python 3"
    },
    "language_info": {
      "name": "python"
    },
    "accelerator": "GPU",
    "gpuClass": "standard"
  },
  "cells": [
    {
      "cell_type": "code",
      "execution_count": 1,
      "metadata": {
        "id": "zJNtwKsy0VCp"
      },
      "outputs": [],
      "source": [
        "import os\n",
        "import cv2\n",
        "import sys\n",
        "import pandas as pd\n",
        "import numpy as np\n",
        "import matplotlib.pyplot as plt\n",
        "from sklearn.preprocessing import OneHotEncoder, OrdinalEncoder\n",
        "from sklearn.model_selection import train_test_split\n",
        "from sklearn.utils import class_weight\n",
        "from sklearn.metrics import ConfusionMatrixDisplay, classification_report, f1_score\n",
        "from tensorflow.keras.preprocessing.image import ImageDataGenerator\n",
        "from tensorflow.keras import Sequential\n",
        "from tensorflow.keras.layers import Rescaling, Flatten, Dense, Dropout, BatchNormalization\n",
        "from tensorflow.keras.callbacks import EarlyStopping\n",
        "from tensorflow.keras.models import load_model\n",
        "from tensorflow.keras.applications import VGG16\n",
        "from tensorflow.keras.optimizers import Adam"
      ]
    },
    {
      "cell_type": "code",
      "source": [
        "import absl.logging\n",
        "absl.logging.set_verbosity(absl.logging.ERROR)\n",
        "\n",
        "np.set_printoptions(suppress=True)"
      ],
      "metadata": {
        "id": "dGb-Bzjy0qq_"
      },
      "execution_count": 2,
      "outputs": []
    },
    {
      "cell_type": "code",
      "source": [
        "from google.colab import drive\n",
        "drive.mount('/content/drive')"
      ],
      "metadata": {
        "colab": {
          "base_uri": "https://localhost:8080/"
        },
        "id": "kX07atQD0tol",
        "outputId": "757a3763-78a6-4dfa-988a-6a6578221c24"
      },
      "execution_count": 3,
      "outputs": [
        {
          "output_type": "stream",
          "name": "stdout",
          "text": [
            "Drive already mounted at /content/drive; to attempt to forcibly remount, call drive.mount(\"/content/drive\", force_remount=True).\n"
          ]
        }
      ]
    },
    {
      "cell_type": "code",
      "source": [
        "GRAY_CROPPED_POSITIVES_FOLDER_PATH = '/content/drive/MyDrive/Bundesliga/PositiveFrames/frames_gray_dg/'"
      ],
      "metadata": {
        "id": "B9X5qm2Y0wiX"
      },
      "execution_count": 4,
      "outputs": []
    },
    {
      "cell_type": "code",
      "source": [
        "img_gen = ImageDataGenerator(\n",
        "    rescale=1/255,\n",
        "    horizontal_flip=True,\n",
        "    )"
      ],
      "metadata": {
        "id": "7MnkyHEd1jvN"
      },
      "execution_count": 5,
      "outputs": []
    },
    {
      "cell_type": "code",
      "source": [
        "class_mode = 'sparse'\n",
        "seed = 42\n",
        "target_size = (224, 224)\n",
        "batch_size = 64"
      ],
      "metadata": {
        "id": "9ZePf7OdigoM"
      },
      "execution_count": 9,
      "outputs": []
    },
    {
      "cell_type": "code",
      "source": [
        "train_data = img_gen.flow_from_directory(\n",
        "    GRAY_CROPPED_POSITIVES_FOLDER_PATH + 'train',\n",
        "    class_mode=class_mode, \n",
        "    batch_size=batch_size, \n",
        "    target_size=target_size,\n",
        "    seed=seed\n",
        "    )"
      ],
      "metadata": {
        "colab": {
          "base_uri": "https://localhost:8080/"
        },
        "id": "GMBZwX_I3KQe",
        "outputId": "18d6523b-a857-4dc1-9c2f-d1ff0aea445e"
      },
      "execution_count": 10,
      "outputs": [
        {
          "output_type": "stream",
          "name": "stdout",
          "text": [
            "Found 2543 images belonging to 3 classes.\n"
          ]
        }
      ]
    },
    {
      "cell_type": "code",
      "source": [
        "valid_data = img_gen.flow_from_directory(\n",
        "    GRAY_CROPPED_POSITIVES_FOLDER_PATH + 'val', \n",
        "    class_mode=class_mode, \n",
        "    batch_size=batch_size, \n",
        "    target_size=target_size,\n",
        "    seed=seed\n",
        "    )"
      ],
      "metadata": {
        "colab": {
          "base_uri": "https://localhost:8080/"
        },
        "id": "XJjiMVFt3sca",
        "outputId": "e2328440-1fb6-43b7-b59a-778640788bf6"
      },
      "execution_count": 11,
      "outputs": [
        {
          "output_type": "stream",
          "name": "stdout",
          "text": [
            "Found 677 images belonging to 3 classes.\n"
          ]
        }
      ]
    },
    {
      "cell_type": "code",
      "source": [
        "test_data = img_gen.flow_from_directory(\n",
        "    GRAY_CROPPED_POSITIVES_FOLDER_PATH + 'test', \n",
        "    class_mode=class_mode, \n",
        "    batch_size=batch_size, \n",
        "    target_size=target_size,\n",
        "    seed=seed\n",
        "    )"
      ],
      "metadata": {
        "colab": {
          "base_uri": "https://localhost:8080/"
        },
        "id": "a4BBgiUx4GV9",
        "outputId": "b3dc3fa7-4ea5-45a0-8372-48736c1c0edb"
      },
      "execution_count": 12,
      "outputs": [
        {
          "output_type": "stream",
          "name": "stdout",
          "text": [
            "Found 652 images belonging to 3 classes.\n"
          ]
        }
      ]
    },
    {
      "cell_type": "code",
      "source": [
        "# next(test_data)[0].shape"
      ],
      "metadata": {
        "id": "VjDmQ6Ja_G7Q"
      },
      "execution_count": 13,
      "outputs": []
    },
    {
      "cell_type": "code",
      "source": [
        "filecount = list()\n",
        "FOLDER = GRAY_CROPPED_POSITIVES_FOLDER_PATH\n",
        "\n",
        "for set_ in os.listdir(FOLDER):\n",
        "    for class_ in os.listdir(os.path.join(FOLDER, set_)):\n",
        "        filecount.append((set_, class_, len(os.listdir(os.path.join(FOLDER, set_, class_)))))"
      ],
      "metadata": {
        "id": "9nFarc_hA_6u"
      },
      "execution_count": 14,
      "outputs": []
    },
    {
      "cell_type": "code",
      "source": [
        "filecount"
      ],
      "metadata": {
        "colab": {
          "base_uri": "https://localhost:8080/"
        },
        "id": "sirQW5GppPp0",
        "outputId": "1b7ff760-669b-43cd-f499-9ad8e0f2e8c8"
      },
      "execution_count": 36,
      "outputs": [
        {
          "output_type": "execute_result",
          "data": {
            "text/plain": [
              "[('train', 'challenge', 344),\n",
              " ('train', 'throwin', 117),\n",
              " ('train', 'play', 2082),\n",
              " ('val', 'challenge', 94),\n",
              " ('val', 'throwin', 22),\n",
              " ('val', 'play', 561),\n",
              " ('test', 'challenge', 113),\n",
              " ('test', 'throwin', 21),\n",
              " ('test', 'play', 518)]"
            ]
          },
          "metadata": {},
          "execution_count": 36
        }
      ]
    },
    {
      "cell_type": "markdown",
      "source": [
        "### Creating the class weights:"
      ],
      "metadata": {
        "id": "tCfzjYgetTLC"
      }
    },
    {
      "cell_type": "code",
      "source": [
        "train_events = dict()\n",
        "for file in filecount:\n",
        "  if file[0] == 'train':\n",
        "    train_events[file[1]] = file[2]\n",
        "\n",
        "total_train_samples = sum(train_events.values())\n",
        "\n",
        "class_weights = dict()\n",
        "ordered_events = ['challenge', 'play', 'throwin']\n",
        "for i, event in enumerate(ordered_events):\n",
        "  class_weights[i] = total_train_samples / train_events[event]"
      ],
      "metadata": {
        "id": "Lk2j8UxRr5Bg"
      },
      "execution_count": 51,
      "outputs": []
    },
    {
      "cell_type": "code",
      "source": [
        "class_weights"
      ],
      "metadata": {
        "colab": {
          "base_uri": "https://localhost:8080/"
        },
        "id": "fqf8nn4ysuE_",
        "outputId": "9cb417cc-c258-41a3-87d8-655e5e4acbb7"
      },
      "execution_count": 46,
      "outputs": [
        {
          "output_type": "execute_result",
          "data": {
            "text/plain": [
              "{0: 7.392441860465116, 1: 1.2214217098943323, 2: 21.735042735042736}"
            ]
          },
          "metadata": {},
          "execution_count": 46
        }
      ]
    },
    {
      "cell_type": "code",
      "source": [
        "# class_weights = dict()\n",
        "\n",
        "# events = ['challenge', 'play', 'throwin']\n",
        "\n",
        "# for i, key in enumerate(events):\n",
        "#   for file_ in filecount:\n",
        "#     if file_[0] == 'train' and file_[1] == key:\n",
        "#       class_weights[i] = file_[2]\n",
        "#       break\n",
        "\n",
        "# samples = sum(class_weights.values())\n",
        "\n",
        "# for key in class_weights:\n",
        "#   class_weights[key] = samples / class_weights[key]\n",
        "\n",
        "# class_weights"
      ],
      "metadata": {
        "id": "femZkLUPtXmq"
      },
      "execution_count": 44,
      "outputs": []
    },
    {
      "cell_type": "markdown",
      "source": [
        "## Defining functions:"
      ],
      "metadata": {
        "id": "LfymHuP4EShO"
      }
    },
    {
      "cell_type": "code",
      "source": [
        "def create_model(with_dropout=False):\n",
        "  vgg_model = VGG16(include_top=False, input_shape=(224, 224, 3))\n",
        "  if with_dropout:\n",
        "    model = Sequential([\n",
        "        vgg_model,\n",
        "        Dropout(0.5),\n",
        "        Flatten(),\n",
        "        Dense(128, activation='relu'),\n",
        "        Dense(3, activation='softmax')\n",
        "    ])\n",
        "  else:\n",
        "    model = Sequential([\n",
        "        vgg_model,\n",
        "        Flatten(),\n",
        "        Dense(128, activation='relu'),\n",
        "        Dense(3, activation='softmax')\n",
        "    ])\n",
        "\n",
        "  return model"
      ],
      "metadata": {
        "id": "uorLy-gGCBc_"
      },
      "execution_count": 47,
      "outputs": []
    },
    {
      "cell_type": "code",
      "source": [
        "def compile_model(model, lr=0.001):\n",
        "  \"\"\"Compiles the model\"\"\"\n",
        "  optimizer = Adam(learning_rate=lr)\n",
        "\n",
        "  model.compile(loss='sparse_categorical_crossentropy',\n",
        "              optimizer=optimizer,\n",
        "              metrics='accuracy',\n",
        "              )\n",
        "  return model"
      ],
      "metadata": {
        "id": "LiXDCJiyCD3D"
      },
      "execution_count": 48,
      "outputs": []
    },
    {
      "cell_type": "code",
      "source": [
        "def train_model(model, train_data=train_data, valid_data=valid_data, epochs=100, batch_size=16, patience=5, account_weights=True):\n",
        "  \"\"\"Trains the model\"\"\"\n",
        "  callback = EarlyStopping(monitor='val_loss',\n",
        "                         patience=patience,\n",
        "                         restore_best_weights=True)\n",
        "  \n",
        "  if account_weights:\n",
        "    train_events = dict()\n",
        "    for file in filecount:\n",
        "      if file[0] == 'train':\n",
        "        train_events[file[1]] = file[2]\n",
        "\n",
        "    total_train_samples = sum(train_events.values())\n",
        "\n",
        "    class_weights = dict()\n",
        "    ordered_events = ['challenge', 'play', 'throwin']\n",
        "    for i, event in enumerate(ordered_events):\n",
        "      class_weights[i] = total_train_samples / train_events[event]\n",
        "\n",
        "\n",
        "  else:\n",
        "    class_weights = None\n",
        "\n",
        "  model.fit(train_data,\n",
        "            validation_data=valid_data, \n",
        "            batch_size=batch_size, \n",
        "            epochs=epochs,\n",
        "            class_weight=class_weights,\n",
        "            steps_per_epoch=len(train_data),\n",
        "            validation_steps=len(valid_data),\n",
        "            callbacks=[callback])\n",
        "  \n",
        "  return model"
      ],
      "metadata": {
        "id": "pgylmZCh-4-S"
      },
      "execution_count": 53,
      "outputs": []
    },
    {
      "cell_type": "markdown",
      "source": [
        "### Training model:"
      ],
      "metadata": {
        "id": "GsPVvy9EEWny"
      }
    },
    {
      "cell_type": "markdown",
      "source": [
        "1st try (fixing mistake from class weights (wrong order of events) and with Data Augmentation (horizontal flip):"
      ],
      "metadata": {
        "id": "WwoFLYRSSdzD"
      }
    },
    {
      "cell_type": "code",
      "source": [
        "vgg_model = VGG16(include_top=False, input_shape=(224, 224, 3))\n",
        "model = Sequential([vgg_model,\n",
        "                    Flatten(),\n",
        "                    Dense(128, activation='relu'),\n",
        "                    Dense(3, activation='softmax')\n",
        "])\n",
        "model = compile_model(model, lr=0.000001)\n",
        "model = train_model(model, epochs=10000, patience=50)"
      ],
      "metadata": {
        "colab": {
          "base_uri": "https://localhost:8080/"
        },
        "id": "PsqYqavUqelx",
        "outputId": "4937af83-a506-499f-8020-7ddddb43d473"
      },
      "execution_count": 67,
      "outputs": [
        {
          "output_type": "stream",
          "name": "stdout",
          "text": [
            "Epoch 1/10000\n",
            "40/40 [==============================] - 39s 939ms/step - loss: 3.7212 - accuracy: 0.6992 - val_loss: 0.9627 - val_accuracy: 0.6086\n",
            "Epoch 2/10000\n",
            "40/40 [==============================] - 37s 919ms/step - loss: 3.3310 - accuracy: 0.4310 - val_loss: 1.0534 - val_accuracy: 0.4372\n",
            "Epoch 3/10000\n",
            "40/40 [==============================] - 37s 922ms/step - loss: 3.2272 - accuracy: 0.4377 - val_loss: 1.0340 - val_accuracy: 0.4830\n",
            "Epoch 4/10000\n",
            "40/40 [==============================] - 37s 920ms/step - loss: 3.1362 - accuracy: 0.4282 - val_loss: 1.0392 - val_accuracy: 0.4742\n",
            "Epoch 5/10000\n",
            "40/40 [==============================] - 37s 921ms/step - loss: 3.1070 - accuracy: 0.4742 - val_loss: 1.0140 - val_accuracy: 0.5258\n",
            "Epoch 6/10000\n",
            "40/40 [==============================] - 39s 964ms/step - loss: 3.0210 - accuracy: 0.4919 - val_loss: 1.0015 - val_accuracy: 0.5347\n",
            "Epoch 7/10000\n",
            "40/40 [==============================] - 37s 916ms/step - loss: 3.0017 - accuracy: 0.5195 - val_loss: 0.9753 - val_accuracy: 0.5790\n",
            "Epoch 8/10000\n",
            "40/40 [==============================] - 39s 966ms/step - loss: 2.9158 - accuracy: 0.5171 - val_loss: 0.9618 - val_accuracy: 0.5775\n",
            "Epoch 9/10000\n",
            "40/40 [==============================] - 37s 918ms/step - loss: 2.8624 - accuracy: 0.5576 - val_loss: 0.9382 - val_accuracy: 0.6145\n",
            "Epoch 10/10000\n",
            "40/40 [==============================] - 37s 923ms/step - loss: 2.7934 - accuracy: 0.5415 - val_loss: 0.9200 - val_accuracy: 0.6278\n",
            "Epoch 11/10000\n",
            "40/40 [==============================] - 37s 920ms/step - loss: 2.7254 - accuracy: 0.5710 - val_loss: 0.9068 - val_accuracy: 0.6145\n",
            "Epoch 12/10000\n",
            "40/40 [==============================] - 37s 922ms/step - loss: 2.6443 - accuracy: 0.6032 - val_loss: 0.8916 - val_accuracy: 0.6307\n",
            "Epoch 13/10000\n",
            "40/40 [==============================] - 37s 923ms/step - loss: 2.5862 - accuracy: 0.5804 - val_loss: 0.8473 - val_accuracy: 0.6750\n",
            "Epoch 14/10000\n",
            "40/40 [==============================] - 37s 922ms/step - loss: 2.5013 - accuracy: 0.6370 - val_loss: 0.8543 - val_accuracy: 0.6484\n",
            "Epoch 15/10000\n",
            "40/40 [==============================] - 37s 927ms/step - loss: 2.4302 - accuracy: 0.6209 - val_loss: 0.8398 - val_accuracy: 0.6544\n",
            "Epoch 16/10000\n",
            "40/40 [==============================] - 39s 965ms/step - loss: 2.3070 - accuracy: 0.6425 - val_loss: 0.8190 - val_accuracy: 0.6750\n",
            "Epoch 17/10000\n",
            "40/40 [==============================] - 39s 965ms/step - loss: 2.2672 - accuracy: 0.6642 - val_loss: 0.8217 - val_accuracy: 0.6558\n",
            "Epoch 18/10000\n",
            "40/40 [==============================] - 37s 919ms/step - loss: 2.1970 - accuracy: 0.6599 - val_loss: 0.8335 - val_accuracy: 0.6366\n",
            "Epoch 19/10000\n",
            "40/40 [==============================] - 37s 923ms/step - loss: 2.0917 - accuracy: 0.6622 - val_loss: 0.7457 - val_accuracy: 0.7194\n",
            "Epoch 20/10000\n",
            "40/40 [==============================] - 37s 920ms/step - loss: 1.9989 - accuracy: 0.6929 - val_loss: 0.7848 - val_accuracy: 0.6898\n",
            "Epoch 21/10000\n",
            "40/40 [==============================] - 37s 922ms/step - loss: 1.9545 - accuracy: 0.6870 - val_loss: 0.7317 - val_accuracy: 0.7016\n",
            "Epoch 22/10000\n",
            "40/40 [==============================] - 37s 920ms/step - loss: 1.8884 - accuracy: 0.7204 - val_loss: 0.7342 - val_accuracy: 0.6898\n",
            "Epoch 23/10000\n",
            "40/40 [==============================] - 37s 923ms/step - loss: 1.8211 - accuracy: 0.7094 - val_loss: 0.7400 - val_accuracy: 0.7105\n",
            "Epoch 24/10000\n",
            "40/40 [==============================] - 37s 921ms/step - loss: 1.7246 - accuracy: 0.7389 - val_loss: 0.6915 - val_accuracy: 0.7194\n",
            "Epoch 25/10000\n",
            "40/40 [==============================] - 37s 921ms/step - loss: 1.6578 - accuracy: 0.7428 - val_loss: 0.7214 - val_accuracy: 0.6942\n",
            "Epoch 26/10000\n",
            "40/40 [==============================] - 37s 926ms/step - loss: 1.6223 - accuracy: 0.7420 - val_loss: 0.6786 - val_accuracy: 0.7179\n",
            "Epoch 27/10000\n",
            "40/40 [==============================] - 37s 921ms/step - loss: 1.5585 - accuracy: 0.7428 - val_loss: 0.6867 - val_accuracy: 0.7001\n",
            "Epoch 28/10000\n",
            "40/40 [==============================] - 37s 923ms/step - loss: 1.4674 - accuracy: 0.7601 - val_loss: 0.6849 - val_accuracy: 0.7164\n",
            "Epoch 29/10000\n",
            "40/40 [==============================] - 39s 965ms/step - loss: 1.3941 - accuracy: 0.7735 - val_loss: 0.6916 - val_accuracy: 0.7001\n",
            "Epoch 30/10000\n",
            "40/40 [==============================] - 37s 922ms/step - loss: 1.3579 - accuracy: 0.7747 - val_loss: 0.6410 - val_accuracy: 0.7312\n",
            "Epoch 31/10000\n",
            "40/40 [==============================] - 37s 922ms/step - loss: 1.3135 - accuracy: 0.7892 - val_loss: 0.6586 - val_accuracy: 0.7238\n",
            "Epoch 32/10000\n",
            "40/40 [==============================] - 37s 924ms/step - loss: 1.2340 - accuracy: 0.8053 - val_loss: 0.6309 - val_accuracy: 0.7386\n",
            "Epoch 33/10000\n",
            "40/40 [==============================] - 37s 920ms/step - loss: 1.1813 - accuracy: 0.8026 - val_loss: 0.6436 - val_accuracy: 0.7518\n",
            "Epoch 34/10000\n",
            "40/40 [==============================] - 37s 923ms/step - loss: 1.0876 - accuracy: 0.8238 - val_loss: 0.6532 - val_accuracy: 0.7267\n",
            "Epoch 35/10000\n",
            "40/40 [==============================] - 37s 921ms/step - loss: 1.0681 - accuracy: 0.8203 - val_loss: 0.6351 - val_accuracy: 0.7356\n",
            "Epoch 36/10000\n",
            "40/40 [==============================] - 37s 926ms/step - loss: 1.0154 - accuracy: 0.8400 - val_loss: 0.6054 - val_accuracy: 0.7445\n",
            "Epoch 37/10000\n",
            "40/40 [==============================] - 37s 920ms/step - loss: 0.9441 - accuracy: 0.8486 - val_loss: 0.6174 - val_accuracy: 0.7533\n",
            "Epoch 38/10000\n",
            "40/40 [==============================] - 37s 924ms/step - loss: 0.9158 - accuracy: 0.8592 - val_loss: 0.6401 - val_accuracy: 0.7386\n",
            "Epoch 39/10000\n",
            "40/40 [==============================] - 37s 922ms/step - loss: 0.8470 - accuracy: 0.8635 - val_loss: 0.5930 - val_accuracy: 0.7578\n",
            "Epoch 40/10000\n",
            "40/40 [==============================] - 37s 921ms/step - loss: 0.8182 - accuracy: 0.8647 - val_loss: 0.6190 - val_accuracy: 0.7504\n",
            "Epoch 41/10000\n",
            "40/40 [==============================] - 37s 925ms/step - loss: 0.7684 - accuracy: 0.8789 - val_loss: 0.6107 - val_accuracy: 0.7622\n",
            "Epoch 42/10000\n",
            "40/40 [==============================] - 37s 922ms/step - loss: 0.7369 - accuracy: 0.8793 - val_loss: 0.6206 - val_accuracy: 0.7489\n",
            "Epoch 43/10000\n",
            "40/40 [==============================] - 37s 922ms/step - loss: 0.7025 - accuracy: 0.8895 - val_loss: 0.6265 - val_accuracy: 0.7371\n",
            "Epoch 44/10000\n",
            "40/40 [==============================] - 37s 921ms/step - loss: 0.6560 - accuracy: 0.8895 - val_loss: 0.6195 - val_accuracy: 0.7445\n",
            "Epoch 45/10000\n",
            "40/40 [==============================] - 37s 922ms/step - loss: 0.6247 - accuracy: 0.9029 - val_loss: 0.6286 - val_accuracy: 0.7474\n",
            "Epoch 46/10000\n",
            "40/40 [==============================] - 37s 923ms/step - loss: 0.5832 - accuracy: 0.9056 - val_loss: 0.6635 - val_accuracy: 0.7504\n",
            "Epoch 47/10000\n",
            "40/40 [==============================] - 37s 922ms/step - loss: 0.5774 - accuracy: 0.8946 - val_loss: 0.6311 - val_accuracy: 0.7710\n",
            "Epoch 48/10000\n",
            "40/40 [==============================] - 37s 922ms/step - loss: 0.5099 - accuracy: 0.9214 - val_loss: 0.6406 - val_accuracy: 0.7607\n",
            "Epoch 49/10000\n",
            "40/40 [==============================] - 37s 922ms/step - loss: 0.5283 - accuracy: 0.9182 - val_loss: 0.6606 - val_accuracy: 0.7592\n",
            "Epoch 50/10000\n",
            "40/40 [==============================] - 37s 921ms/step - loss: 0.4784 - accuracy: 0.9253 - val_loss: 0.6268 - val_accuracy: 0.7755\n",
            "Epoch 51/10000\n",
            "40/40 [==============================] - 37s 921ms/step - loss: 0.4485 - accuracy: 0.9328 - val_loss: 0.6761 - val_accuracy: 0.7799\n",
            "Epoch 52/10000\n",
            "40/40 [==============================] - 37s 923ms/step - loss: 0.4325 - accuracy: 0.9387 - val_loss: 0.6684 - val_accuracy: 0.7681\n",
            "Epoch 53/10000\n",
            "40/40 [==============================] - 37s 921ms/step - loss: 0.4154 - accuracy: 0.9335 - val_loss: 0.6960 - val_accuracy: 0.7651\n",
            "Epoch 54/10000\n",
            "40/40 [==============================] - 37s 925ms/step - loss: 0.3820 - accuracy: 0.9434 - val_loss: 0.7233 - val_accuracy: 0.7637\n",
            "Epoch 55/10000\n",
            "40/40 [==============================] - 37s 920ms/step - loss: 0.3571 - accuracy: 0.9446 - val_loss: 0.6881 - val_accuracy: 0.7799\n",
            "Epoch 56/10000\n",
            "40/40 [==============================] - 37s 922ms/step - loss: 0.3339 - accuracy: 0.9564 - val_loss: 0.7391 - val_accuracy: 0.7755\n",
            "Epoch 57/10000\n",
            "40/40 [==============================] - 37s 922ms/step - loss: 0.3218 - accuracy: 0.9497 - val_loss: 0.7260 - val_accuracy: 0.7814\n",
            "Epoch 58/10000\n",
            "40/40 [==============================] - 37s 922ms/step - loss: 0.2941 - accuracy: 0.9595 - val_loss: 0.6937 - val_accuracy: 0.7888\n",
            "Epoch 59/10000\n",
            "40/40 [==============================] - 39s 968ms/step - loss: 0.2827 - accuracy: 0.9642 - val_loss: 0.7462 - val_accuracy: 0.7829\n",
            "Epoch 60/10000\n",
            "40/40 [==============================] - 37s 923ms/step - loss: 0.2547 - accuracy: 0.9654 - val_loss: 0.7506 - val_accuracy: 0.7858\n",
            "Epoch 61/10000\n",
            "40/40 [==============================] - 37s 924ms/step - loss: 0.2431 - accuracy: 0.9689 - val_loss: 0.7349 - val_accuracy: 0.7770\n",
            "Epoch 62/10000\n",
            "40/40 [==============================] - 37s 926ms/step - loss: 0.2228 - accuracy: 0.9737 - val_loss: 0.7831 - val_accuracy: 0.7784\n",
            "Epoch 63/10000\n",
            "40/40 [==============================] - 37s 923ms/step - loss: 0.2092 - accuracy: 0.9760 - val_loss: 0.7778 - val_accuracy: 0.7784\n",
            "Epoch 64/10000\n",
            "40/40 [==============================] - 37s 923ms/step - loss: 0.2082 - accuracy: 0.9756 - val_loss: 0.7657 - val_accuracy: 0.7843\n",
            "Epoch 65/10000\n",
            "40/40 [==============================] - 37s 928ms/step - loss: 0.1927 - accuracy: 0.9803 - val_loss: 0.7528 - val_accuracy: 0.7829\n",
            "Epoch 66/10000\n",
            "40/40 [==============================] - 37s 921ms/step - loss: 0.1761 - accuracy: 0.9847 - val_loss: 0.8254 - val_accuracy: 0.7799\n",
            "Epoch 67/10000\n",
            "40/40 [==============================] - 37s 922ms/step - loss: 0.1635 - accuracy: 0.9858 - val_loss: 0.8357 - val_accuracy: 0.7696\n",
            "Epoch 68/10000\n",
            "40/40 [==============================] - 37s 925ms/step - loss: 0.1637 - accuracy: 0.9823 - val_loss: 0.8359 - val_accuracy: 0.7903\n",
            "Epoch 69/10000\n",
            "40/40 [==============================] - 37s 922ms/step - loss: 0.1487 - accuracy: 0.9874 - val_loss: 0.8245 - val_accuracy: 0.7873\n",
            "Epoch 70/10000\n",
            "40/40 [==============================] - 37s 925ms/step - loss: 0.1364 - accuracy: 0.9894 - val_loss: 0.8788 - val_accuracy: 0.7888\n",
            "Epoch 71/10000\n",
            "40/40 [==============================] - 37s 922ms/step - loss: 0.1269 - accuracy: 0.9933 - val_loss: 0.8759 - val_accuracy: 0.7755\n",
            "Epoch 72/10000\n",
            "40/40 [==============================] - 37s 922ms/step - loss: 0.1203 - accuracy: 0.9941 - val_loss: 0.8687 - val_accuracy: 0.7873\n",
            "Epoch 73/10000\n",
            "40/40 [==============================] - 37s 924ms/step - loss: 0.1178 - accuracy: 0.9910 - val_loss: 0.8959 - val_accuracy: 0.7858\n",
            "Epoch 74/10000\n",
            "40/40 [==============================] - 37s 922ms/step - loss: 0.1061 - accuracy: 0.9941 - val_loss: 0.9594 - val_accuracy: 0.7725\n",
            "Epoch 75/10000\n",
            "40/40 [==============================] - 37s 924ms/step - loss: 0.0980 - accuracy: 0.9937 - val_loss: 0.8698 - val_accuracy: 0.7873\n",
            "Epoch 76/10000\n",
            "40/40 [==============================] - 37s 923ms/step - loss: 0.0934 - accuracy: 0.9965 - val_loss: 0.8971 - val_accuracy: 0.7814\n",
            "Epoch 77/10000\n",
            "40/40 [==============================] - 37s 924ms/step - loss: 0.0909 - accuracy: 0.9953 - val_loss: 1.0191 - val_accuracy: 0.7755\n",
            "Epoch 78/10000\n",
            "40/40 [==============================] - 37s 923ms/step - loss: 0.0824 - accuracy: 0.9965 - val_loss: 0.9871 - val_accuracy: 0.7932\n",
            "Epoch 79/10000\n",
            "40/40 [==============================] - 37s 924ms/step - loss: 0.0807 - accuracy: 0.9961 - val_loss: 0.9736 - val_accuracy: 0.7888\n",
            "Epoch 80/10000\n",
            "40/40 [==============================] - 37s 924ms/step - loss: 0.0733 - accuracy: 0.9976 - val_loss: 0.9857 - val_accuracy: 0.7888\n",
            "Epoch 81/10000\n",
            "40/40 [==============================] - 37s 926ms/step - loss: 0.0690 - accuracy: 0.9976 - val_loss: 1.0147 - val_accuracy: 0.7740\n",
            "Epoch 82/10000\n",
            "40/40 [==============================] - 37s 924ms/step - loss: 0.0642 - accuracy: 0.9984 - val_loss: 0.9867 - val_accuracy: 0.7888\n",
            "Epoch 83/10000\n",
            "40/40 [==============================] - 37s 924ms/step - loss: 0.0640 - accuracy: 0.9972 - val_loss: 0.9745 - val_accuracy: 0.7784\n",
            "Epoch 84/10000\n",
            "40/40 [==============================] - 37s 923ms/step - loss: 0.0577 - accuracy: 0.9980 - val_loss: 1.0297 - val_accuracy: 0.7947\n",
            "Epoch 85/10000\n",
            "40/40 [==============================] - 37s 925ms/step - loss: 0.0550 - accuracy: 0.9984 - val_loss: 1.0199 - val_accuracy: 0.7858\n",
            "Epoch 86/10000\n",
            "40/40 [==============================] - 37s 924ms/step - loss: 0.0513 - accuracy: 0.9984 - val_loss: 1.0354 - val_accuracy: 0.7873\n",
            "Epoch 87/10000\n",
            "40/40 [==============================] - 37s 923ms/step - loss: 0.0473 - accuracy: 0.9988 - val_loss: 1.0089 - val_accuracy: 0.7888\n",
            "Epoch 88/10000\n",
            "40/40 [==============================] - 37s 924ms/step - loss: 0.0459 - accuracy: 0.9992 - val_loss: 1.0930 - val_accuracy: 0.8021\n",
            "Epoch 89/10000\n",
            "40/40 [==============================] - 37s 926ms/step - loss: 0.0437 - accuracy: 0.9996 - val_loss: 1.0724 - val_accuracy: 0.8006\n"
          ]
        }
      ]
    },
    {
      "cell_type": "code",
      "source": [
        "from sklearn.metrics import confusion_matrix"
      ],
      "metadata": {
        "id": "PntFamyqRRbM"
      },
      "execution_count": 76,
      "outputs": []
    },
    {
      "cell_type": "code",
      "source": [
        "batch_size = 16\n",
        "num_of_test_samples = 652\n",
        "\n",
        "Y_pred = model.predict_generator(test_data, num_of_test_samples // batch_size+1)\n",
        "y_pred = np.argmax(Y_pred, axis=1)"
      ],
      "metadata": {
        "colab": {
          "base_uri": "https://localhost:8080/"
        },
        "id": "mTO80mmbQg73",
        "outputId": "befd9979-600d-4a8f-c3d4-eb5299f5b7c0"
      },
      "execution_count": 98,
      "outputs": [
        {
          "output_type": "stream",
          "name": "stderr",
          "text": [
            "/usr/local/lib/python3.7/dist-packages/ipykernel_launcher.py:4: UserWarning: `Model.predict_generator` is deprecated and will be removed in a future version. Please use `Model.predict`, which supports generators.\n",
            "  after removing the cwd from sys.path.\n",
            "WARNING:tensorflow:Your input ran out of data; interrupting training. Make sure that your dataset or generator can generate at least `steps_per_epoch * epochs` batches (in this case, 41 batches). You may need to use the repeat() function when building your dataset.\n"
          ]
        }
      ]
    },
    {
      "cell_type": "code",
      "source": [
        "target_names = ['challenge', 'play', 'throwin']\n",
        "print('Confusion Matrix')\n",
        "ConfusionMatrixDisplay.from_predictions(test_data.classes, y_pred, display_labels=target_names)\n",
        "plt.show()\n",
        "print('\\nClassification Report')\n",
        "print(classification_report(test_data.classes, y_pred, target_names=target_names))"
      ],
      "metadata": {
        "colab": {
          "base_uri": "https://localhost:8080/",
          "height": 511
        },
        "id": "DbNe07bFZX4o",
        "outputId": "cf7d00b8-2cff-4b5e-a042-21a29d9540e2"
      },
      "execution_count": 103,
      "outputs": [
        {
          "output_type": "stream",
          "name": "stdout",
          "text": [
            "Confusion Matrix\n"
          ]
        },
        {
          "output_type": "display_data",
          "data": {
            "text/plain": [
              "<Figure size 432x288 with 2 Axes>"
            ],
            "image/png": "[encoded data removed]"
          },
          "metadata": {
            "needs_background": "light"
          }
        },
        {
          "output_type": "stream",
          "name": "stdout",
          "text": [
            "\n",
            "Classification Report\n",
            "              precision    recall  f1-score   support\n",
            "\n",
            "   challenge       0.23      0.27      0.25       113\n",
            "        play       0.81      0.77      0.79       518\n",
            "     throwin       0.04      0.05      0.04        21\n",
            "\n",
            "    accuracy                           0.66       652\n",
            "   macro avg       0.36      0.36      0.36       652\n",
            "weighted avg       0.69      0.66      0.67       652\n",
            "\n"
          ]
        }
      ]
    },
    {
      "cell_type": "code",
      "source": [
        "model.save('/content/drive/MyDrive/Bundesliga/Models/model_ms4_1')"
      ],
      "metadata": {
        "id": "HVykbcFPH9IQ"
      },
      "execution_count": 85,
      "outputs": []
    },
    {
      "cell_type": "code",
      "source": [
        "# model = load_model('/content/drive/MyDrive/Bundesliga/Models/model_ms4_1')"
      ],
      "metadata": {
        "id": "CARi8FZtIApU"
      },
      "execution_count": null,
      "outputs": []
    },
    {
      "cell_type": "markdown",
      "source": [
        "2nd try:"
      ],
      "metadata": {
        "id": "obv73djLYiF1"
      }
    },
    {
      "cell_type": "code",
      "source": [
        "model = create_model(with_dropout=True)\n",
        "model = compile_model(model, lr=0.000001) # 6 decimals\n",
        "model = train_model(model, epochs=10000, patience=50)"
      ],
      "metadata": {
        "colab": {
          "base_uri": "https://localhost:8080/"
        },
        "id": "MkiYUy0WEAGl",
        "outputId": "64a04d54-061b-413d-e07f-10485b5e576f"
      },
      "execution_count": 113,
      "outputs": [
        {
          "output_type": "stream",
          "name": "stdout",
          "text": [
            "Epoch 1/10000\n",
            "40/40 [==============================] - 38s 930ms/step - loss: 4.3029 - accuracy: 0.1463 - val_loss: 1.6051 - val_accuracy: 0.1388\n",
            "Epoch 2/10000\n",
            "40/40 [==============================] - 37s 926ms/step - loss: 3.7967 - accuracy: 0.1998 - val_loss: 1.3258 - val_accuracy: 0.1507\n",
            "Epoch 3/10000\n",
            "40/40 [==============================] - 37s 921ms/step - loss: 3.6749 - accuracy: 0.2611 - val_loss: 1.2247 - val_accuracy: 0.1699\n",
            "Epoch 4/10000\n",
            "40/40 [==============================] - 37s 921ms/step - loss: 3.6541 - accuracy: 0.2949 - val_loss: 1.1646 - val_accuracy: 0.2541\n",
            "Epoch 5/10000\n",
            "40/40 [==============================] - 37s 919ms/step - loss: 3.5211 - accuracy: 0.3276 - val_loss: 1.1230 - val_accuracy: 0.3013\n",
            "Epoch 6/10000\n",
            "40/40 [==============================] - 37s 922ms/step - loss: 3.5018 - accuracy: 0.3295 - val_loss: 1.0932 - val_accuracy: 0.3501\n",
            "Epoch 7/10000\n",
            "40/40 [==============================] - 37s 921ms/step - loss: 3.4139 - accuracy: 0.3720 - val_loss: 1.0737 - val_accuracy: 0.4003\n",
            "Epoch 8/10000\n",
            "40/40 [==============================] - 37s 916ms/step - loss: 3.4315 - accuracy: 0.3586 - val_loss: 1.0785 - val_accuracy: 0.4106\n",
            "Epoch 9/10000\n",
            "40/40 [==============================] - 37s 923ms/step - loss: 3.4361 - accuracy: 0.3791 - val_loss: 1.0442 - val_accuracy: 0.4609\n",
            "Epoch 10/10000\n",
            "40/40 [==============================] - 37s 919ms/step - loss: 3.3862 - accuracy: 0.3826 - val_loss: 1.0599 - val_accuracy: 0.4298\n",
            "Epoch 11/10000\n",
            "40/40 [==============================] - 37s 922ms/step - loss: 3.4112 - accuracy: 0.3862 - val_loss: 1.0361 - val_accuracy: 0.4801\n",
            "Epoch 12/10000\n",
            "40/40 [==============================] - 37s 920ms/step - loss: 3.4138 - accuracy: 0.3854 - val_loss: 1.0428 - val_accuracy: 0.4801\n",
            "Epoch 13/10000\n",
            "40/40 [==============================] - 37s 919ms/step - loss: 3.3573 - accuracy: 0.3700 - val_loss: 1.0311 - val_accuracy: 0.5066\n",
            "Epoch 14/10000\n",
            "40/40 [==============================] - 37s 928ms/step - loss: 3.2935 - accuracy: 0.3991 - val_loss: 1.0148 - val_accuracy: 0.5377\n",
            "Epoch 15/10000\n",
            "40/40 [==============================] - 37s 919ms/step - loss: 3.2756 - accuracy: 0.4121 - val_loss: 0.9996 - val_accuracy: 0.5657\n",
            "Epoch 16/10000\n",
            "40/40 [==============================] - 37s 923ms/step - loss: 3.2225 - accuracy: 0.4074 - val_loss: 0.9995 - val_accuracy: 0.5510\n",
            "Epoch 17/10000\n",
            "40/40 [==============================] - 37s 920ms/step - loss: 3.1912 - accuracy: 0.4176 - val_loss: 0.9745 - val_accuracy: 0.5849\n",
            "Epoch 18/10000\n",
            "40/40 [==============================] - 37s 918ms/step - loss: 3.1704 - accuracy: 0.4251 - val_loss: 0.9870 - val_accuracy: 0.5908\n",
            "Epoch 19/10000\n",
            "40/40 [==============================] - 37s 922ms/step - loss: 3.2364 - accuracy: 0.4231 - val_loss: 0.9889 - val_accuracy: 0.5716\n",
            "Epoch 20/10000\n",
            "40/40 [==============================] - 37s 920ms/step - loss: 3.1820 - accuracy: 0.4074 - val_loss: 0.9616 - val_accuracy: 0.6130\n",
            "Epoch 21/10000\n",
            "40/40 [==============================] - 37s 923ms/step - loss: 3.1927 - accuracy: 0.4361 - val_loss: 0.9417 - val_accuracy: 0.6411\n",
            "Epoch 22/10000\n",
            "40/40 [==============================] - 37s 921ms/step - loss: 3.0505 - accuracy: 0.4432 - val_loss: 0.9376 - val_accuracy: 0.6352\n",
            "Epoch 23/10000\n",
            "40/40 [==============================] - 37s 920ms/step - loss: 3.0650 - accuracy: 0.4589 - val_loss: 0.9666 - val_accuracy: 0.5982\n",
            "Epoch 24/10000\n",
            "40/40 [==============================] - 37s 920ms/step - loss: 3.0362 - accuracy: 0.4597 - val_loss: 0.9560 - val_accuracy: 0.5953\n",
            "Epoch 25/10000\n",
            "40/40 [==============================] - 37s 924ms/step - loss: 3.0045 - accuracy: 0.4451 - val_loss: 0.9504 - val_accuracy: 0.6145\n",
            "Epoch 26/10000\n",
            "40/40 [==============================] - 37s 921ms/step - loss: 3.0298 - accuracy: 0.4392 - val_loss: 0.9081 - val_accuracy: 0.6544\n",
            "Epoch 27/10000\n",
            "40/40 [==============================] - 37s 919ms/step - loss: 2.9732 - accuracy: 0.4742 - val_loss: 0.9109 - val_accuracy: 0.6544\n",
            "Epoch 28/10000\n",
            "40/40 [==============================] - 37s 920ms/step - loss: 3.0230 - accuracy: 0.4778 - val_loss: 0.9270 - val_accuracy: 0.6322\n",
            "Epoch 29/10000\n",
            "40/40 [==============================] - 37s 920ms/step - loss: 2.9058 - accuracy: 0.4735 - val_loss: 0.9053 - val_accuracy: 0.6529\n",
            "Epoch 30/10000\n",
            "40/40 [==============================] - 37s 923ms/step - loss: 2.9175 - accuracy: 0.4915 - val_loss: 0.8833 - val_accuracy: 0.6647\n",
            "Epoch 31/10000\n",
            "40/40 [==============================] - 37s 919ms/step - loss: 2.7996 - accuracy: 0.5006 - val_loss: 0.8825 - val_accuracy: 0.6573\n",
            "Epoch 32/10000\n",
            "40/40 [==============================] - 37s 923ms/step - loss: 2.7829 - accuracy: 0.4939 - val_loss: 0.8658 - val_accuracy: 0.6558\n",
            "Epoch 33/10000\n",
            "40/40 [==============================] - 37s 920ms/step - loss: 2.8790 - accuracy: 0.5049 - val_loss: 0.8665 - val_accuracy: 0.6603\n",
            "Epoch 34/10000\n",
            "40/40 [==============================] - 37s 919ms/step - loss: 2.7798 - accuracy: 0.5053 - val_loss: 0.8761 - val_accuracy: 0.6411\n",
            "Epoch 35/10000\n",
            "40/40 [==============================] - 37s 921ms/step - loss: 2.7326 - accuracy: 0.5199 - val_loss: 0.8590 - val_accuracy: 0.6647\n",
            "Epoch 36/10000\n",
            "40/40 [==============================] - 37s 923ms/step - loss: 2.7680 - accuracy: 0.5356 - val_loss: 0.8527 - val_accuracy: 0.6455\n",
            "Epoch 37/10000\n",
            "40/40 [==============================] - 37s 923ms/step - loss: 2.7132 - accuracy: 0.5360 - val_loss: 0.8573 - val_accuracy: 0.6484\n",
            "Epoch 38/10000\n",
            "40/40 [==============================] - 37s 920ms/step - loss: 2.5976 - accuracy: 0.5360 - val_loss: 0.8036 - val_accuracy: 0.6588\n",
            "Epoch 39/10000\n",
            "40/40 [==============================] - 37s 924ms/step - loss: 2.6684 - accuracy: 0.5427 - val_loss: 0.8248 - val_accuracy: 0.6544\n",
            "Epoch 40/10000\n",
            "40/40 [==============================] - 37s 925ms/step - loss: 2.5410 - accuracy: 0.5663 - val_loss: 0.8188 - val_accuracy: 0.6706\n",
            "Epoch 41/10000\n",
            "40/40 [==============================] - 37s 923ms/step - loss: 2.5611 - accuracy: 0.5623 - val_loss: 0.7845 - val_accuracy: 0.6869\n",
            "Epoch 42/10000\n",
            "40/40 [==============================] - 37s 920ms/step - loss: 2.5068 - accuracy: 0.5714 - val_loss: 0.7925 - val_accuracy: 0.6736\n",
            "Epoch 43/10000\n",
            "40/40 [==============================] - 37s 919ms/step - loss: 2.4747 - accuracy: 0.5883 - val_loss: 0.7916 - val_accuracy: 0.6750\n",
            "Epoch 44/10000\n",
            "40/40 [==============================] - 37s 923ms/step - loss: 2.4623 - accuracy: 0.5796 - val_loss: 0.7956 - val_accuracy: 0.6677\n",
            "Epoch 45/10000\n",
            "40/40 [==============================] - 37s 921ms/step - loss: 2.4887 - accuracy: 0.5454 - val_loss: 0.7745 - val_accuracy: 0.6809\n",
            "Epoch 46/10000\n",
            "40/40 [==============================] - 37s 925ms/step - loss: 2.3506 - accuracy: 0.6009 - val_loss: 0.7636 - val_accuracy: 0.6928\n",
            "Epoch 47/10000\n",
            "40/40 [==============================] - 37s 923ms/step - loss: 2.3360 - accuracy: 0.5918 - val_loss: 0.7155 - val_accuracy: 0.7149\n",
            "Epoch 48/10000\n",
            "40/40 [==============================] - 37s 925ms/step - loss: 2.2685 - accuracy: 0.6064 - val_loss: 0.7421 - val_accuracy: 0.6854\n",
            "Epoch 49/10000\n",
            "40/40 [==============================] - 37s 922ms/step - loss: 2.2671 - accuracy: 0.6276 - val_loss: 0.7470 - val_accuracy: 0.6809\n",
            "Epoch 50/10000\n",
            "40/40 [==============================] - 37s 923ms/step - loss: 2.2947 - accuracy: 0.6024 - val_loss: 0.7366 - val_accuracy: 0.6721\n",
            "Epoch 51/10000\n",
            "40/40 [==============================] - 37s 919ms/step - loss: 2.2010 - accuracy: 0.6170 - val_loss: 0.7161 - val_accuracy: 0.6972\n",
            "Epoch 52/10000\n",
            "40/40 [==============================] - 37s 925ms/step - loss: 2.1518 - accuracy: 0.6374 - val_loss: 0.7512 - val_accuracy: 0.6750\n",
            "Epoch 53/10000\n",
            "40/40 [==============================] - 37s 921ms/step - loss: 2.1628 - accuracy: 0.6083 - val_loss: 0.7205 - val_accuracy: 0.6972\n",
            "Epoch 54/10000\n",
            "40/40 [==============================] - 37s 925ms/step - loss: 2.2334 - accuracy: 0.6351 - val_loss: 0.7462 - val_accuracy: 0.6721\n",
            "Epoch 55/10000\n",
            "40/40 [==============================] - 37s 924ms/step - loss: 2.1245 - accuracy: 0.6249 - val_loss: 0.7066 - val_accuracy: 0.6898\n",
            "Epoch 56/10000\n",
            "40/40 [==============================] - 37s 924ms/step - loss: 2.0387 - accuracy: 0.6488 - val_loss: 0.6682 - val_accuracy: 0.7194\n",
            "Epoch 57/10000\n",
            "40/40 [==============================] - 37s 924ms/step - loss: 2.1228 - accuracy: 0.6433 - val_loss: 0.7057 - val_accuracy: 0.6928\n",
            "Epoch 58/10000\n",
            "40/40 [==============================] - 37s 923ms/step - loss: 1.9982 - accuracy: 0.6335 - val_loss: 0.7102 - val_accuracy: 0.6957\n",
            "Epoch 59/10000\n",
            "40/40 [==============================] - 37s 927ms/step - loss: 1.9558 - accuracy: 0.6461 - val_loss: 0.7104 - val_accuracy: 0.6898\n",
            "Epoch 60/10000\n",
            "40/40 [==============================] - 39s 965ms/step - loss: 1.9442 - accuracy: 0.6492 - val_loss: 0.7073 - val_accuracy: 0.6928\n",
            "Epoch 61/10000\n",
            "40/40 [==============================] - 37s 927ms/step - loss: 1.8574 - accuracy: 0.6595 - val_loss: 0.6626 - val_accuracy: 0.7194\n",
            "Epoch 62/10000\n",
            "40/40 [==============================] - 37s 921ms/step - loss: 1.9341 - accuracy: 0.6890 - val_loss: 0.6937 - val_accuracy: 0.6942\n",
            "Epoch 63/10000\n",
            "40/40 [==============================] - 37s 927ms/step - loss: 1.8599 - accuracy: 0.6618 - val_loss: 0.6851 - val_accuracy: 0.6942\n",
            "Epoch 64/10000\n",
            "40/40 [==============================] - 37s 921ms/step - loss: 1.8652 - accuracy: 0.6697 - val_loss: 0.6723 - val_accuracy: 0.7208\n",
            "Epoch 65/10000\n",
            "40/40 [==============================] - 37s 925ms/step - loss: 1.7761 - accuracy: 0.6948 - val_loss: 0.6668 - val_accuracy: 0.7267\n",
            "Epoch 66/10000\n",
            "40/40 [==============================] - 37s 925ms/step - loss: 1.7915 - accuracy: 0.6787 - val_loss: 0.6583 - val_accuracy: 0.7208\n",
            "Epoch 67/10000\n",
            "40/40 [==============================] - 37s 926ms/step - loss: 1.7834 - accuracy: 0.6866 - val_loss: 0.6576 - val_accuracy: 0.7208\n",
            "Epoch 68/10000\n",
            "40/40 [==============================] - 37s 924ms/step - loss: 1.7616 - accuracy: 0.6846 - val_loss: 0.6463 - val_accuracy: 0.7149\n",
            "Epoch 69/10000\n",
            "40/40 [==============================] - 37s 923ms/step - loss: 1.7057 - accuracy: 0.6976 - val_loss: 0.6712 - val_accuracy: 0.6987\n",
            "Epoch 70/10000\n",
            "40/40 [==============================] - 37s 925ms/step - loss: 1.6668 - accuracy: 0.6831 - val_loss: 0.6503 - val_accuracy: 0.7267\n",
            "Epoch 71/10000\n",
            "40/40 [==============================] - 37s 928ms/step - loss: 1.6685 - accuracy: 0.6905 - val_loss: 0.6562 - val_accuracy: 0.7238\n",
            "Epoch 72/10000\n",
            "40/40 [==============================] - 37s 925ms/step - loss: 1.6600 - accuracy: 0.6996 - val_loss: 0.6374 - val_accuracy: 0.7400\n",
            "Epoch 73/10000\n",
            "40/40 [==============================] - 37s 924ms/step - loss: 1.6179 - accuracy: 0.7279 - val_loss: 0.6356 - val_accuracy: 0.7282\n",
            "Epoch 74/10000\n",
            "40/40 [==============================] - 37s 924ms/step - loss: 1.6772 - accuracy: 0.6956 - val_loss: 0.6464 - val_accuracy: 0.7223\n",
            "Epoch 75/10000\n",
            "40/40 [==============================] - 37s 924ms/step - loss: 1.6353 - accuracy: 0.6878 - val_loss: 0.6433 - val_accuracy: 0.7253\n",
            "Epoch 76/10000\n",
            "40/40 [==============================] - 37s 924ms/step - loss: 1.5880 - accuracy: 0.7188 - val_loss: 0.6352 - val_accuracy: 0.7415\n",
            "Epoch 77/10000\n",
            "40/40 [==============================] - 37s 928ms/step - loss: 1.5089 - accuracy: 0.7295 - val_loss: 0.6581 - val_accuracy: 0.7253\n",
            "Epoch 78/10000\n",
            "40/40 [==============================] - 37s 925ms/step - loss: 1.5452 - accuracy: 0.7259 - val_loss: 0.6513 - val_accuracy: 0.7149\n",
            "Epoch 79/10000\n",
            "40/40 [==============================] - 37s 928ms/step - loss: 1.4995 - accuracy: 0.7255 - val_loss: 0.6065 - val_accuracy: 0.7533\n",
            "Epoch 80/10000\n",
            "40/40 [==============================] - 37s 922ms/step - loss: 1.5350 - accuracy: 0.7350 - val_loss: 0.6687 - val_accuracy: 0.7194\n",
            "Epoch 81/10000\n",
            "40/40 [==============================] - 37s 926ms/step - loss: 1.4864 - accuracy: 0.7365 - val_loss: 0.6301 - val_accuracy: 0.7371\n",
            "Epoch 82/10000\n",
            "40/40 [==============================] - 37s 922ms/step - loss: 1.4339 - accuracy: 0.7420 - val_loss: 0.6299 - val_accuracy: 0.7253\n",
            "Epoch 83/10000\n",
            "40/40 [==============================] - 37s 927ms/step - loss: 1.5105 - accuracy: 0.7141 - val_loss: 0.6099 - val_accuracy: 0.7326\n",
            "Epoch 84/10000\n",
            "40/40 [==============================] - 37s 923ms/step - loss: 1.4810 - accuracy: 0.7503 - val_loss: 0.6033 - val_accuracy: 0.7430\n",
            "Epoch 85/10000\n",
            "40/40 [==============================] - 37s 925ms/step - loss: 1.4206 - accuracy: 0.7424 - val_loss: 0.6206 - val_accuracy: 0.7430\n",
            "Epoch 86/10000\n",
            "40/40 [==============================] - 37s 925ms/step - loss: 1.4521 - accuracy: 0.7385 - val_loss: 0.6263 - val_accuracy: 0.7238\n",
            "Epoch 87/10000\n",
            "40/40 [==============================] - 37s 924ms/step - loss: 1.3491 - accuracy: 0.7373 - val_loss: 0.5970 - val_accuracy: 0.7533\n",
            "Epoch 88/10000\n",
            "40/40 [==============================] - 37s 925ms/step - loss: 1.2801 - accuracy: 0.7770 - val_loss: 0.6028 - val_accuracy: 0.7533\n",
            "Epoch 89/10000\n",
            "40/40 [==============================] - 37s 925ms/step - loss: 1.3559 - accuracy: 0.7507 - val_loss: 0.6008 - val_accuracy: 0.7622\n",
            "Epoch 90/10000\n",
            "40/40 [==============================] - 37s 923ms/step - loss: 1.3111 - accuracy: 0.7605 - val_loss: 0.6159 - val_accuracy: 0.7371\n",
            "Epoch 91/10000\n",
            "40/40 [==============================] - 37s 924ms/step - loss: 1.3113 - accuracy: 0.7471 - val_loss: 0.6444 - val_accuracy: 0.7326\n",
            "Epoch 92/10000\n",
            "40/40 [==============================] - 37s 925ms/step - loss: 1.2484 - accuracy: 0.7778 - val_loss: 0.6041 - val_accuracy: 0.7504\n",
            "Epoch 93/10000\n",
            "40/40 [==============================] - 37s 925ms/step - loss: 1.2703 - accuracy: 0.7696 - val_loss: 0.6193 - val_accuracy: 0.7386\n",
            "Epoch 94/10000\n",
            "40/40 [==============================] - 37s 926ms/step - loss: 1.2346 - accuracy: 0.7794 - val_loss: 0.6285 - val_accuracy: 0.7459\n",
            "Epoch 95/10000\n",
            "40/40 [==============================] - 37s 921ms/step - loss: 1.1951 - accuracy: 0.7802 - val_loss: 0.6174 - val_accuracy: 0.7504\n",
            "Epoch 96/10000\n",
            "40/40 [==============================] - 37s 927ms/step - loss: 1.2363 - accuracy: 0.7613 - val_loss: 0.6079 - val_accuracy: 0.7430\n",
            "Epoch 97/10000\n",
            "40/40 [==============================] - 37s 924ms/step - loss: 1.2453 - accuracy: 0.7770 - val_loss: 0.6283 - val_accuracy: 0.7267\n",
            "Epoch 98/10000\n",
            "40/40 [==============================] - 37s 926ms/step - loss: 1.1512 - accuracy: 0.7924 - val_loss: 0.6071 - val_accuracy: 0.7415\n",
            "Epoch 99/10000\n",
            "40/40 [==============================] - 37s 926ms/step - loss: 1.1896 - accuracy: 0.7735 - val_loss: 0.6080 - val_accuracy: 0.7459\n",
            "Epoch 100/10000\n",
            "40/40 [==============================] - 37s 924ms/step - loss: 1.0997 - accuracy: 0.7955 - val_loss: 0.5889 - val_accuracy: 0.7607\n",
            "Epoch 101/10000\n",
            "40/40 [==============================] - 37s 927ms/step - loss: 1.1536 - accuracy: 0.7908 - val_loss: 0.5970 - val_accuracy: 0.7533\n",
            "Epoch 102/10000\n",
            "40/40 [==============================] - 37s 925ms/step - loss: 1.0790 - accuracy: 0.7943 - val_loss: 0.5990 - val_accuracy: 0.7622\n",
            "Epoch 103/10000\n",
            "40/40 [==============================] - 37s 925ms/step - loss: 1.1016 - accuracy: 0.7845 - val_loss: 0.6161 - val_accuracy: 0.7415\n",
            "Epoch 104/10000\n",
            "40/40 [==============================] - 37s 925ms/step - loss: 1.0453 - accuracy: 0.8042 - val_loss: 0.6074 - val_accuracy: 0.7578\n",
            "Epoch 105/10000\n",
            "40/40 [==============================] - 37s 926ms/step - loss: 1.0408 - accuracy: 0.8089 - val_loss: 0.5953 - val_accuracy: 0.7725\n",
            "Epoch 106/10000\n",
            "40/40 [==============================] - 37s 924ms/step - loss: 1.0657 - accuracy: 0.8061 - val_loss: 0.5995 - val_accuracy: 0.7548\n",
            "Epoch 107/10000\n",
            "40/40 [==============================] - 37s 925ms/step - loss: 1.0606 - accuracy: 0.8030 - val_loss: 0.6237 - val_accuracy: 0.7489\n",
            "Epoch 108/10000\n",
            "40/40 [==============================] - 37s 926ms/step - loss: 1.0378 - accuracy: 0.8046 - val_loss: 0.5787 - val_accuracy: 0.7696\n",
            "Epoch 109/10000\n",
            "40/40 [==============================] - 37s 923ms/step - loss: 1.0169 - accuracy: 0.8105 - val_loss: 0.6144 - val_accuracy: 0.7504\n",
            "Epoch 110/10000\n",
            "40/40 [==============================] - 37s 927ms/step - loss: 0.9894 - accuracy: 0.8156 - val_loss: 0.6147 - val_accuracy: 0.7548\n",
            "Epoch 111/10000\n",
            "40/40 [==============================] - 37s 923ms/step - loss: 0.9865 - accuracy: 0.8164 - val_loss: 0.5936 - val_accuracy: 0.7666\n",
            "Epoch 112/10000\n",
            "40/40 [==============================] - 37s 928ms/step - loss: 0.9599 - accuracy: 0.8262 - val_loss: 0.6096 - val_accuracy: 0.7518\n",
            "Epoch 113/10000\n",
            "40/40 [==============================] - 37s 925ms/step - loss: 0.9283 - accuracy: 0.8230 - val_loss: 0.6143 - val_accuracy: 0.7578\n",
            "Epoch 114/10000\n",
            "40/40 [==============================] - 37s 926ms/step - loss: 0.9209 - accuracy: 0.8301 - val_loss: 0.6142 - val_accuracy: 0.7637\n",
            "Epoch 115/10000\n",
            "40/40 [==============================] - 37s 925ms/step - loss: 0.9503 - accuracy: 0.8203 - val_loss: 0.5958 - val_accuracy: 0.7666\n",
            "Epoch 116/10000\n",
            "40/40 [==============================] - 37s 927ms/step - loss: 0.9711 - accuracy: 0.8301 - val_loss: 0.6037 - val_accuracy: 0.7651\n",
            "Epoch 117/10000\n",
            "40/40 [==============================] - 37s 925ms/step - loss: 0.8795 - accuracy: 0.8270 - val_loss: 0.6227 - val_accuracy: 0.7622\n",
            "Epoch 118/10000\n",
            "40/40 [==============================] - 37s 923ms/step - loss: 0.9322 - accuracy: 0.8325 - val_loss: 0.6193 - val_accuracy: 0.7651\n",
            "Epoch 119/10000\n",
            "40/40 [==============================] - 37s 925ms/step - loss: 0.9298 - accuracy: 0.8388 - val_loss: 0.6214 - val_accuracy: 0.7607\n",
            "Epoch 120/10000\n",
            "40/40 [==============================] - 37s 924ms/step - loss: 0.9311 - accuracy: 0.8230 - val_loss: 0.6012 - val_accuracy: 0.7814\n",
            "Epoch 121/10000\n",
            "40/40 [==============================] - 37s 924ms/step - loss: 0.8500 - accuracy: 0.8529 - val_loss: 0.6280 - val_accuracy: 0.7578\n",
            "Epoch 122/10000\n",
            "40/40 [==============================] - 37s 926ms/step - loss: 0.8218 - accuracy: 0.8392 - val_loss: 0.5835 - val_accuracy: 0.7962\n",
            "Epoch 123/10000\n",
            "40/40 [==============================] - 37s 924ms/step - loss: 0.9030 - accuracy: 0.8423 - val_loss: 0.6216 - val_accuracy: 0.7681\n",
            "Epoch 124/10000\n",
            "40/40 [==============================] - 37s 925ms/step - loss: 0.8012 - accuracy: 0.8584 - val_loss: 0.6070 - val_accuracy: 0.7622\n",
            "Epoch 125/10000\n",
            "40/40 [==============================] - 37s 926ms/step - loss: 0.8316 - accuracy: 0.8459 - val_loss: 0.6086 - val_accuracy: 0.7770\n",
            "Epoch 126/10000\n",
            "40/40 [==============================] - 37s 925ms/step - loss: 0.7862 - accuracy: 0.8451 - val_loss: 0.6011 - val_accuracy: 0.7784\n",
            "Epoch 127/10000\n",
            "40/40 [==============================] - 37s 923ms/step - loss: 0.7860 - accuracy: 0.8470 - val_loss: 0.6131 - val_accuracy: 0.7932\n",
            "Epoch 128/10000\n",
            "40/40 [==============================] - 37s 928ms/step - loss: 0.8061 - accuracy: 0.8675 - val_loss: 0.6036 - val_accuracy: 0.7607\n",
            "Epoch 129/10000\n",
            "40/40 [==============================] - 37s 925ms/step - loss: 0.8167 - accuracy: 0.8506 - val_loss: 0.6048 - val_accuracy: 0.7784\n",
            "Epoch 130/10000\n",
            "40/40 [==============================] - 37s 926ms/step - loss: 0.7747 - accuracy: 0.8494 - val_loss: 0.6187 - val_accuracy: 0.7755\n",
            "Epoch 131/10000\n",
            "40/40 [==============================] - 37s 923ms/step - loss: 0.7185 - accuracy: 0.8620 - val_loss: 0.6218 - val_accuracy: 0.7592\n",
            "Epoch 132/10000\n",
            "40/40 [==============================] - 37s 924ms/step - loss: 0.7633 - accuracy: 0.8553 - val_loss: 0.6142 - val_accuracy: 0.7666\n",
            "Epoch 133/10000\n",
            "40/40 [==============================] - 37s 926ms/step - loss: 0.8132 - accuracy: 0.8435 - val_loss: 0.6332 - val_accuracy: 0.7725\n",
            "Epoch 134/10000\n",
            "40/40 [==============================] - 37s 927ms/step - loss: 0.7139 - accuracy: 0.8663 - val_loss: 0.6151 - val_accuracy: 0.7755\n",
            "Epoch 135/10000\n",
            "40/40 [==============================] - 37s 925ms/step - loss: 0.7222 - accuracy: 0.8694 - val_loss: 0.6306 - val_accuracy: 0.7888\n",
            "Epoch 136/10000\n",
            "40/40 [==============================] - 37s 924ms/step - loss: 0.7423 - accuracy: 0.8706 - val_loss: 0.6000 - val_accuracy: 0.7814\n",
            "Epoch 137/10000\n",
            "40/40 [==============================] - 37s 929ms/step - loss: 0.6892 - accuracy: 0.8639 - val_loss: 0.6388 - val_accuracy: 0.7710\n",
            "Epoch 138/10000\n",
            "40/40 [==============================] - 37s 923ms/step - loss: 0.7459 - accuracy: 0.8596 - val_loss: 0.6362 - val_accuracy: 0.7681\n",
            "Epoch 139/10000\n",
            "40/40 [==============================] - 37s 928ms/step - loss: 0.6797 - accuracy: 0.8659 - val_loss: 0.6617 - val_accuracy: 0.7784\n",
            "Epoch 140/10000\n",
            "40/40 [==============================] - 37s 926ms/step - loss: 0.7098 - accuracy: 0.8643 - val_loss: 0.6414 - val_accuracy: 0.7770\n",
            "Epoch 141/10000\n",
            "40/40 [==============================] - 37s 926ms/step - loss: 0.7210 - accuracy: 0.8592 - val_loss: 0.6219 - val_accuracy: 0.7873\n",
            "Epoch 142/10000\n",
            "40/40 [==============================] - 37s 924ms/step - loss: 0.6255 - accuracy: 0.8844 - val_loss: 0.6477 - val_accuracy: 0.7799\n",
            "Epoch 143/10000\n",
            "40/40 [==============================] - 37s 931ms/step - loss: 0.6634 - accuracy: 0.8757 - val_loss: 0.6448 - val_accuracy: 0.7829\n",
            "Epoch 144/10000\n",
            "40/40 [==============================] - 37s 923ms/step - loss: 0.6306 - accuracy: 0.8848 - val_loss: 0.6369 - val_accuracy: 0.7770\n",
            "Epoch 145/10000\n",
            "40/40 [==============================] - 37s 928ms/step - loss: 0.6452 - accuracy: 0.8773 - val_loss: 0.6374 - val_accuracy: 0.7784\n",
            "Epoch 146/10000\n",
            "40/40 [==============================] - 37s 926ms/step - loss: 0.6651 - accuracy: 0.8706 - val_loss: 0.6188 - val_accuracy: 0.7962\n",
            "Epoch 147/10000\n",
            "40/40 [==============================] - 37s 925ms/step - loss: 0.6648 - accuracy: 0.8820 - val_loss: 0.6798 - val_accuracy: 0.7710\n",
            "Epoch 148/10000\n",
            "40/40 [==============================] - 37s 924ms/step - loss: 0.6316 - accuracy: 0.8753 - val_loss: 0.6488 - val_accuracy: 0.7932\n",
            "Epoch 149/10000\n",
            "40/40 [==============================] - 37s 926ms/step - loss: 0.6322 - accuracy: 0.8805 - val_loss: 0.6309 - val_accuracy: 0.7755\n",
            "Epoch 150/10000\n",
            "40/40 [==============================] - 37s 927ms/step - loss: 0.5939 - accuracy: 0.8903 - val_loss: 0.6518 - val_accuracy: 0.7784\n",
            "Epoch 151/10000\n",
            "40/40 [==============================] - 37s 927ms/step - loss: 0.6221 - accuracy: 0.8824 - val_loss: 0.6541 - val_accuracy: 0.7873\n",
            "Epoch 152/10000\n",
            "40/40 [==============================] - 37s 925ms/step - loss: 0.5850 - accuracy: 0.8903 - val_loss: 0.6450 - val_accuracy: 0.7888\n",
            "Epoch 153/10000\n",
            "40/40 [==============================] - 37s 925ms/step - loss: 0.6565 - accuracy: 0.8565 - val_loss: 0.6546 - val_accuracy: 0.8065\n",
            "Epoch 154/10000\n",
            "40/40 [==============================] - 37s 928ms/step - loss: 0.5694 - accuracy: 0.9021 - val_loss: 0.6530 - val_accuracy: 0.7962\n",
            "Epoch 155/10000\n",
            "40/40 [==============================] - 37s 927ms/step - loss: 0.5925 - accuracy: 0.9005 - val_loss: 0.6505 - val_accuracy: 0.7903\n",
            "Epoch 156/10000\n",
            "40/40 [==============================] - 37s 924ms/step - loss: 0.5970 - accuracy: 0.9005 - val_loss: 0.6558 - val_accuracy: 0.7784\n",
            "Epoch 157/10000\n",
            "40/40 [==============================] - 37s 929ms/step - loss: 0.5059 - accuracy: 0.9044 - val_loss: 0.6824 - val_accuracy: 0.7947\n",
            "Epoch 158/10000\n",
            "40/40 [==============================] - 37s 926ms/step - loss: 0.5323 - accuracy: 0.9060 - val_loss: 0.6754 - val_accuracy: 0.7903\n"
          ]
        }
      ]
    },
    {
      "cell_type": "code",
      "source": [
        "batch_size = 16\n",
        "num_of_test_samples = 652\n",
        "\n",
        "Y_pred = model.predict_generator(test_data, num_of_test_samples // batch_size+1)\n",
        "y_pred = np.argmax(Y_pred, axis=1)"
      ],
      "metadata": {
        "colab": {
          "base_uri": "https://localhost:8080/"
        },
        "id": "48dXC_Oeel0l",
        "outputId": "9b08d48b-4917-414d-bf65-37c8226691f5"
      },
      "execution_count": 13,
      "outputs": [
        {
          "output_type": "stream",
          "name": "stderr",
          "text": [
            "/usr/local/lib/python3.7/dist-packages/ipykernel_launcher.py:4: UserWarning: `Model.predict_generator` is deprecated and will be removed in a future version. Please use `Model.predict`, which supports generators.\n",
            "  after removing the cwd from sys.path.\n",
            "WARNING:tensorflow:Your input ran out of data; interrupting training. Make sure that your dataset or generator can generate at least `steps_per_epoch * epochs` batches (in this case, 41 batches). You may need to use the repeat() function when building your dataset.\n"
          ]
        }
      ]
    },
    {
      "cell_type": "code",
      "source": [
        "target_names = ['challenge', 'play', 'throwin']\n",
        "print('Confusion Matrix')\n",
        "ConfusionMatrixDisplay.from_predictions(test_data.classes, y_pred, display_labels=target_names)\n",
        "plt.show()\n",
        "print('\\nClassification Report')\n",
        "print(classification_report(test_data.classes, y_pred, target_names=target_names))"
      ],
      "metadata": {
        "colab": {
          "base_uri": "https://localhost:8080/",
          "height": 512
        },
        "id": "ZXC_uAym-y1q",
        "outputId": "5d428759-ae88-4424-b67d-585781d346c8"
      },
      "execution_count": 14,
      "outputs": [
        {
          "output_type": "stream",
          "name": "stdout",
          "text": [
            "Confusion Matrix\n"
          ]
        },
        {
          "output_type": "display_data",
          "data": {
            "text/plain": [
              "<Figure size 432x288 with 2 Axes>"
            ],
            "image/png": "[encoded data removed]"
          },
          "metadata": {
            "needs_background": "light"
          }
        },
        {
          "output_type": "stream",
          "name": "stdout",
          "text": [
            "\n",
            "Classification Report\n",
            "              precision    recall  f1-score   support\n",
            "\n",
            "   challenge       0.20      0.20      0.20       113\n",
            "        play       0.80      0.79      0.79       518\n",
            "     throwin       0.00      0.00      0.00        21\n",
            "\n",
            "    accuracy                           0.66       652\n",
            "   macro avg       0.33      0.33      0.33       652\n",
            "weighted avg       0.67      0.66      0.67       652\n",
            "\n"
          ]
        }
      ]
    },
    {
      "cell_type": "code",
      "source": [
        "from tqdm import tqdm"
      ],
      "metadata": {
        "id": "D4Giv3-Eggnf"
      },
      "execution_count": 19,
      "outputs": []
    },
    {
      "cell_type": "code",
      "source": [
        "batch_size = 64"
      ],
      "metadata": {
        "id": "QMn3GQGPgnpR"
      },
      "execution_count": 21,
      "outputs": []
    },
    {
      "cell_type": "code",
      "source": [
        "X_train, y_train = next(train_data)\n",
        "X_val, y_val = next(valid_data)\n",
        "X_test, y_test = next(test_data)"
      ],
      "metadata": {
        "id": "GDf--tadfPx8"
      },
      "execution_count": 15,
      "outputs": []
    },
    {
      "cell_type": "code",
      "source": [
        "X_train.shape, X_val.shape, X_test.shape, y_train.shape, y_val.shape, y_test.shape"
      ],
      "metadata": {
        "colab": {
          "base_uri": "https://localhost:8080/"
        },
        "id": "yEsisZcgf7DM",
        "outputId": "9710cd89-6b66-4265-f50b-985acf1f0a82"
      },
      "execution_count": 16,
      "outputs": [
        {
          "output_type": "execute_result",
          "data": {
            "text/plain": [
              "((64, 224, 224, 3), (64, 224, 224, 3), (64, 224, 224, 3), (64,), (64,), (64,))"
            ]
          },
          "metadata": {},
          "execution_count": 16
        }
      ]
    },
    {
      "cell_type": "code",
      "source": [
        "y_pred_test = model.predict(X_test)\n",
        "y_pred_test_b = [np.argmax(i, axis=0) for i in y_pred_test]\n",
        "ConfusionMatrixDisplay.from_predictions(y_val, y_pred_test_b)\n",
        "plt.show()"
      ],
      "metadata": {
        "id": "rQhCsUzYfjXs"
      },
      "execution_count": null,
      "outputs": []
    },
    {
      "cell_type": "code",
      "source": [],
      "metadata": {
        "id": "MfvbZAE3jFMC"
      },
      "execution_count": null,
      "outputs": []
    },
    {
      "cell_type": "code",
      "source": [
        "y_pred = model.predict(test_data)\n",
        "y_pred_b = np.array([np.argmax(i) for i in y_pred])"
      ],
      "metadata": {
        "colab": {
          "base_uri": "https://localhost:8080/"
        },
        "id": "BxlVDXP_jFQh",
        "outputId": "634de8b9-1293-4131-e36d-0cc72a1b1f3a"
      },
      "execution_count": 33,
      "outputs": [
        {
          "output_type": "stream",
          "name": "stdout",
          "text": [
            "11/11 [==============================] - 3s 293ms/step\n"
          ]
        }
      ]
    },
    {
      "cell_type": "code",
      "source": [
        "next(test_data)[1].tolist()"
      ],
      "metadata": {
        "colab": {
          "base_uri": "https://localhost:8080/"
        },
        "id": "3AiR9cxCkvU8",
        "outputId": "353075e7-5c2e-4681-d5e1-ff740b12abd0"
      },
      "execution_count": 55,
      "outputs": [
        {
          "output_type": "execute_result",
          "data": {
            "text/plain": [
              "array([0., 2., 0., 1., 1., 1., 1., 1., 1., 1., 0., 1., 1., 2., 1., 1., 1.,\n",
              "       1., 0., 1., 1., 1., 1., 0., 1., 1., 0., 0., 1., 1., 1., 1., 0., 1.,\n",
              "       1., 1., 1., 1., 1., 1., 1., 1., 1., 1., 1., 1., 1., 0., 0., 1., 1.,\n",
              "       1., 1., 1., 1., 1., 1., 1., 0., 0., 1., 0., 1., 1.], dtype=float32)"
            ]
          },
          "metadata": {},
          "execution_count": 55
        }
      ]
    },
    {
      "cell_type": "code",
      "source": [
        "y_true = list()\n",
        "while True:\n",
        "  y_true + next(test_data)[1].tolist()\n",
        "y_true"
      ],
      "metadata": {
        "colab": {
          "base_uri": "https://localhost:8080/",
          "height": 389
        },
        "id": "8tZTh1xSkUSR",
        "outputId": "430d4c3a-7c60-4e43-cc12-dbb8b786a851"
      },
      "execution_count": 56,
      "outputs": [
        {
          "output_type": "error",
          "ename": "KeyboardInterrupt",
          "evalue": "ignored",
          "traceback": [
            "\u001b[0;31m---------------------------------------------------------------------------\u001b[0m",
            "\u001b[0;31mKeyboardInterrupt\u001b[0m                         Traceback (most recent call last)",
            "\u001b[0;32m<ipython-input-56-fee2f805f907>\u001b[0m in \u001b[0;36m<module>\u001b[0;34m\u001b[0m\n\u001b[1;32m      1\u001b[0m \u001b[0my_true\u001b[0m \u001b[0;34m=\u001b[0m \u001b[0mlist\u001b[0m\u001b[0;34m(\u001b[0m\u001b[0;34m)\u001b[0m\u001b[0;34m\u001b[0m\u001b[0;34m\u001b[0m\u001b[0m\n\u001b[1;32m      2\u001b[0m \u001b[0;32mwhile\u001b[0m \u001b[0;32mTrue\u001b[0m\u001b[0;34m:\u001b[0m\u001b[0;34m\u001b[0m\u001b[0;34m\u001b[0m\u001b[0m\n\u001b[0;32m----> 3\u001b[0;31m   \u001b[0my_true\u001b[0m \u001b[0;34m+\u001b[0m \u001b[0mnext\u001b[0m\u001b[0;34m(\u001b[0m\u001b[0mtest_data\u001b[0m\u001b[0;34m)\u001b[0m\u001b[0;34m[\u001b[0m\u001b[0;36m1\u001b[0m\u001b[0;34m]\u001b[0m\u001b[0;34m.\u001b[0m\u001b[0mtolist\u001b[0m\u001b[0;34m(\u001b[0m\u001b[0;34m)\u001b[0m\u001b[0;34m\u001b[0m\u001b[0;34m\u001b[0m\u001b[0m\n\u001b[0m\u001b[1;32m      4\u001b[0m \u001b[0my_true\u001b[0m\u001b[0;34m\u001b[0m\u001b[0;34m\u001b[0m\u001b[0m\n",
            "\u001b[0;32m/usr/local/lib/python3.7/dist-packages/keras/preprocessing/image.py\u001b[0m in \u001b[0;36m__next__\u001b[0;34m(self, *args, **kwargs)\u001b[0m\n\u001b[1;32m    146\u001b[0m \u001b[0;34m\u001b[0m\u001b[0m\n\u001b[1;32m    147\u001b[0m   \u001b[0;32mdef\u001b[0m \u001b[0m__next__\u001b[0m\u001b[0;34m(\u001b[0m\u001b[0mself\u001b[0m\u001b[0;34m,\u001b[0m \u001b[0;34m*\u001b[0m\u001b[0margs\u001b[0m\u001b[0;34m,\u001b[0m \u001b[0;34m**\u001b[0m\u001b[0mkwargs\u001b[0m\u001b[0;34m)\u001b[0m\u001b[0;34m:\u001b[0m\u001b[0;34m\u001b[0m\u001b[0;34m\u001b[0m\u001b[0m\n\u001b[0;32m--> 148\u001b[0;31m     \u001b[0;32mreturn\u001b[0m \u001b[0mself\u001b[0m\u001b[0;34m.\u001b[0m\u001b[0mnext\u001b[0m\u001b[0;34m(\u001b[0m\u001b[0;34m*\u001b[0m\u001b[0margs\u001b[0m\u001b[0;34m,\u001b[0m \u001b[0;34m**\u001b[0m\u001b[0mkwargs\u001b[0m\u001b[0;34m)\u001b[0m\u001b[0;34m\u001b[0m\u001b[0;34m\u001b[0m\u001b[0m\n\u001b[0m\u001b[1;32m    149\u001b[0m \u001b[0;34m\u001b[0m\u001b[0m\n\u001b[1;32m    150\u001b[0m   \u001b[0;32mdef\u001b[0m \u001b[0mnext\u001b[0m\u001b[0;34m(\u001b[0m\u001b[0mself\u001b[0m\u001b[0;34m)\u001b[0m\u001b[0;34m:\u001b[0m\u001b[0;34m\u001b[0m\u001b[0;34m\u001b[0m\u001b[0m\n",
            "\u001b[0;32m/usr/local/lib/python3.7/dist-packages/keras/preprocessing/image.py\u001b[0m in \u001b[0;36mnext\u001b[0;34m(self)\u001b[0m\n\u001b[1;32m    158\u001b[0m     \u001b[0;31m# The transformation of images is not under thread lock\u001b[0m\u001b[0;34m\u001b[0m\u001b[0;34m\u001b[0m\u001b[0;34m\u001b[0m\u001b[0m\n\u001b[1;32m    159\u001b[0m     \u001b[0;31m# so it can be done in parallel\u001b[0m\u001b[0;34m\u001b[0m\u001b[0;34m\u001b[0m\u001b[0;34m\u001b[0m\u001b[0m\n\u001b[0;32m--> 160\u001b[0;31m     \u001b[0;32mreturn\u001b[0m \u001b[0mself\u001b[0m\u001b[0;34m.\u001b[0m\u001b[0m_get_batches_of_transformed_samples\u001b[0m\u001b[0;34m(\u001b[0m\u001b[0mindex_array\u001b[0m\u001b[0;34m)\u001b[0m\u001b[0;34m\u001b[0m\u001b[0;34m\u001b[0m\u001b[0m\n\u001b[0m\u001b[1;32m    161\u001b[0m \u001b[0;34m\u001b[0m\u001b[0m\n\u001b[1;32m    162\u001b[0m   \u001b[0;32mdef\u001b[0m \u001b[0m_get_batches_of_transformed_samples\u001b[0m\u001b[0;34m(\u001b[0m\u001b[0mself\u001b[0m\u001b[0;34m,\u001b[0m \u001b[0mindex_array\u001b[0m\u001b[0;34m)\u001b[0m\u001b[0;34m:\u001b[0m\u001b[0;34m\u001b[0m\u001b[0;34m\u001b[0m\u001b[0m\n",
            "\u001b[0;32m/usr/local/lib/python3.7/dist-packages/keras/preprocessing/image.py\u001b[0m in \u001b[0;36m_get_batches_of_transformed_samples\u001b[0;34m(self, index_array)\u001b[0m\n\u001b[1;32m    340\u001b[0m           \u001b[0mtarget_size\u001b[0m\u001b[0;34m=\u001b[0m\u001b[0mself\u001b[0m\u001b[0;34m.\u001b[0m\u001b[0mtarget_size\u001b[0m\u001b[0;34m,\u001b[0m\u001b[0;34m\u001b[0m\u001b[0;34m\u001b[0m\u001b[0m\n\u001b[1;32m    341\u001b[0m           \u001b[0minterpolation\u001b[0m\u001b[0;34m=\u001b[0m\u001b[0mself\u001b[0m\u001b[0;34m.\u001b[0m\u001b[0minterpolation\u001b[0m\u001b[0;34m,\u001b[0m\u001b[0;34m\u001b[0m\u001b[0;34m\u001b[0m\u001b[0m\n\u001b[0;32m--> 342\u001b[0;31m           keep_aspect_ratio=self.keep_aspect_ratio)\n\u001b[0m\u001b[1;32m    343\u001b[0m       \u001b[0mx\u001b[0m \u001b[0;34m=\u001b[0m \u001b[0mimage_utils\u001b[0m\u001b[0;34m.\u001b[0m\u001b[0mimg_to_array\u001b[0m\u001b[0;34m(\u001b[0m\u001b[0mimg\u001b[0m\u001b[0;34m,\u001b[0m \u001b[0mdata_format\u001b[0m\u001b[0;34m=\u001b[0m\u001b[0mself\u001b[0m\u001b[0;34m.\u001b[0m\u001b[0mdata_format\u001b[0m\u001b[0;34m)\u001b[0m\u001b[0;34m\u001b[0m\u001b[0;34m\u001b[0m\u001b[0m\n\u001b[1;32m    344\u001b[0m       \u001b[0;31m# Pillow images should be closed after `load_img`,\u001b[0m\u001b[0;34m\u001b[0m\u001b[0;34m\u001b[0m\u001b[0;34m\u001b[0m\u001b[0m\n",
            "\u001b[0;32m/usr/local/lib/python3.7/dist-packages/keras/utils/image_utils.py\u001b[0m in \u001b[0;36mload_img\u001b[0;34m(path, grayscale, color_mode, target_size, interpolation, keep_aspect_ratio)\u001b[0m\n\u001b[1;32m    391\u001b[0m     \u001b[0;32mif\u001b[0m \u001b[0misinstance\u001b[0m\u001b[0;34m(\u001b[0m\u001b[0mpath\u001b[0m\u001b[0;34m,\u001b[0m \u001b[0mpathlib\u001b[0m\u001b[0;34m.\u001b[0m\u001b[0mPath\u001b[0m\u001b[0;34m)\u001b[0m\u001b[0;34m:\u001b[0m\u001b[0;34m\u001b[0m\u001b[0;34m\u001b[0m\u001b[0m\n\u001b[1;32m    392\u001b[0m       \u001b[0mpath\u001b[0m \u001b[0;34m=\u001b[0m \u001b[0mstr\u001b[0m\u001b[0;34m(\u001b[0m\u001b[0mpath\u001b[0m\u001b[0;34m.\u001b[0m\u001b[0mresolve\u001b[0m\u001b[0;34m(\u001b[0m\u001b[0;34m)\u001b[0m\u001b[0;34m)\u001b[0m\u001b[0;34m\u001b[0m\u001b[0;34m\u001b[0m\u001b[0m\n\u001b[0;32m--> 393\u001b[0;31m     \u001b[0;32mwith\u001b[0m \u001b[0mopen\u001b[0m\u001b[0;34m(\u001b[0m\u001b[0mpath\u001b[0m\u001b[0;34m,\u001b[0m \u001b[0;34m'rb'\u001b[0m\u001b[0;34m)\u001b[0m \u001b[0;32mas\u001b[0m \u001b[0mf\u001b[0m\u001b[0;34m:\u001b[0m\u001b[0;34m\u001b[0m\u001b[0;34m\u001b[0m\u001b[0m\n\u001b[0m\u001b[1;32m    394\u001b[0m       \u001b[0mimg\u001b[0m \u001b[0;34m=\u001b[0m \u001b[0mpil_image\u001b[0m\u001b[0;34m.\u001b[0m\u001b[0mopen\u001b[0m\u001b[0;34m(\u001b[0m\u001b[0mio\u001b[0m\u001b[0;34m.\u001b[0m\u001b[0mBytesIO\u001b[0m\u001b[0;34m(\u001b[0m\u001b[0mf\u001b[0m\u001b[0;34m.\u001b[0m\u001b[0mread\u001b[0m\u001b[0;34m(\u001b[0m\u001b[0;34m)\u001b[0m\u001b[0;34m)\u001b[0m\u001b[0;34m)\u001b[0m\u001b[0;34m\u001b[0m\u001b[0;34m\u001b[0m\u001b[0m\n\u001b[1;32m    395\u001b[0m   \u001b[0;32melse\u001b[0m\u001b[0;34m:\u001b[0m\u001b[0;34m\u001b[0m\u001b[0;34m\u001b[0m\u001b[0m\n",
            "\u001b[0;31mKeyboardInterrupt\u001b[0m: "
          ]
        }
      ]
    },
    {
      "cell_type": "code",
      "source": [
        "y_true"
      ],
      "metadata": {
        "colab": {
          "base_uri": "https://localhost:8080/"
        },
        "id": "7snIdgpXn_YK",
        "outputId": "cb72b9d2-a089-4fec-f349-6b29d50dc5b6"
      },
      "execution_count": 57,
      "outputs": [
        {
          "output_type": "execute_result",
          "data": {
            "text/plain": [
              "[]"
            ]
          },
          "metadata": {},
          "execution_count": 57
        }
      ]
    },
    {
      "cell_type": "code",
      "source": [
        "y_pred_b"
      ],
      "metadata": {
        "colab": {
          "base_uri": "https://localhost:8080/"
        },
        "id": "d3bRUtk_j2QJ",
        "outputId": "4b7d2949-ed64-442b-a19f-9938b31cf31a"
      },
      "execution_count": 40,
      "outputs": [
        {
          "output_type": "execute_result",
          "data": {
            "text/plain": [
              "array([1, 1, 1, 0, 0, 1, 1, 1, 1, 1, 1, 1, 0, 1, 1, 1, 2, 1, 0, 0, 1, 0,\n",
              "       1, 1, 1, 1, 1, 2, 1, 1, 1, 0, 1, 1, 1, 1, 0, 1, 1, 1, 1, 1, 1, 1,\n",
              "       1, 1, 2, 1, 1, 1, 1, 0, 1, 1, 0, 1, 1, 1, 0, 1, 1, 1, 0, 1, 1, 1,\n",
              "       0, 1, 1, 1, 0, 0, 1, 1, 1, 0, 1, 1, 0, 0, 1, 1, 0, 1, 0, 1, 0, 1,\n",
              "       1, 1, 1, 2, 0, 1, 1, 0, 0, 0, 1, 0, 1, 1, 1, 1, 0, 1, 1, 1, 2, 1,\n",
              "       1, 1, 0, 1, 0, 1, 0, 1, 1, 1, 1, 1, 2, 1, 1, 1, 1, 2, 1, 1, 0, 1,\n",
              "       1, 1, 1, 1, 1, 1, 1, 0, 1, 1, 1, 1, 2, 1, 1, 1, 1, 1, 0, 1, 1, 1,\n",
              "       1, 1, 1, 1, 1, 1, 1, 1, 2, 1, 1, 1, 2, 1, 1, 1, 1, 2, 1, 1, 0, 0,\n",
              "       1, 1, 1, 1, 1, 1, 1, 0, 0, 1, 1, 1, 1, 1, 1, 1, 1, 1, 1, 1, 1, 1,\n",
              "       1, 1, 1, 1, 1, 1, 0, 1, 1, 1, 1, 1, 1, 1, 2, 1, 1, 1, 1, 1, 1, 1,\n",
              "       0, 1, 0, 1, 0, 1, 1, 1, 2, 1, 1, 1, 1, 1, 1, 1, 1, 0, 1, 2, 1, 0,\n",
              "       1, 1, 1, 1, 2, 1, 1, 1, 1, 1, 1, 1, 0, 1, 1, 1, 1, 1, 1, 1, 1, 1,\n",
              "       1, 1, 0, 1, 1, 1, 1, 1, 1, 1, 1, 1, 1, 1, 1, 1, 0, 0, 0, 0, 1, 2,\n",
              "       1, 0, 1, 1, 1, 1, 0, 0, 1, 1, 1, 1, 1, 1, 1, 1, 1, 1, 1, 1, 1, 1,\n",
              "       0, 1, 2, 1, 1, 1, 0, 1, 1, 1, 0, 1, 1, 1, 1, 0, 1, 1, 1, 0, 1, 1,\n",
              "       1, 1, 1, 1, 0, 2, 0, 1, 1, 1, 1, 1, 1, 1, 1, 1, 1, 1, 0, 1, 1, 1,\n",
              "       1, 0, 1, 1, 1, 1, 1, 1, 1, 0, 1, 1, 1, 1, 1, 1, 1, 0, 1, 1, 1, 1,\n",
              "       0, 1, 1, 1, 1, 1, 1, 1, 1, 0, 1, 1, 0, 1, 1, 1, 1, 1, 1, 0, 1, 1,\n",
              "       1, 0, 1, 1, 1, 1, 1, 1, 1, 1, 1, 1, 1, 1, 1, 1, 1, 1, 1, 1, 0, 0,\n",
              "       1, 1, 0, 1, 1, 1, 1, 1, 1, 0, 1, 1, 1, 0, 1, 1, 1, 1, 0, 1, 1, 1,\n",
              "       1, 1, 1, 1, 1, 1, 1, 2, 0, 1, 1, 1, 1, 1, 1, 2, 0, 0, 1, 1, 1, 0,\n",
              "       1, 1, 1, 0, 1, 0, 1, 1, 1, 1, 1, 1, 1, 0, 1, 0, 1, 1, 1, 1, 1, 1,\n",
              "       0, 0, 1, 1, 1, 1, 0, 1, 1, 1, 1, 1, 1, 1, 1, 1, 1, 1, 1, 1, 1, 1,\n",
              "       0, 0, 1, 1, 1, 0, 1, 1, 1, 0, 0, 0, 1, 1, 1, 1, 1, 1, 0, 1, 1, 1,\n",
              "       1, 1, 1, 1, 1, 1, 1, 0, 0, 1, 1, 1, 0, 1, 1, 0, 0, 1, 1, 0, 0, 1,\n",
              "       1, 1, 1, 1, 1, 0, 1, 1, 2, 0, 1, 0, 1, 1, 0, 1, 1, 0, 1, 0, 1, 1,\n",
              "       1, 1, 1, 1, 1, 1, 1, 1, 1, 1, 1, 1, 1, 1, 1, 0, 0, 1, 1, 1, 1, 0,\n",
              "       1, 1, 1, 1, 0, 1, 1, 1, 1, 1, 1, 1, 1, 1, 1, 1, 1, 1, 2, 1, 2, 1,\n",
              "       1, 0, 0, 1, 0, 1, 1, 1, 1, 1, 1, 1, 1, 1, 1, 2, 1, 1, 1, 1, 0, 0,\n",
              "       0, 1, 1, 1, 1, 1, 1, 1, 0, 1, 1, 1, 1, 0])"
            ]
          },
          "metadata": {},
          "execution_count": 40
        }
      ]
    },
    {
      "cell_type": "code",
      "source": [
        "IMAGES = 5\n",
        "plt.figure(figsize=(20, 5))\n",
        "\n",
        "for index in range(IMAGES):\n",
        "  if y_pred_b[index] == 0:\n",
        "    label = 'challenge'\n",
        "    confidence = y_pred[index][0]\n",
        "  else:\n",
        "    label = 'cat'\n",
        "    confidence = 1 - y_pred[index][0]\n",
        "\n",
        "  plt.subplot(1, IMAGES, index + 1)\n",
        "  plt.imshow(test_data[index][0])\n",
        "  plt.title(f'Label: {label}\\nConfidence = {confidence:.2%}', size=15)"
      ],
      "metadata": {
        "id": "tX8bIoGDjXEH"
      },
      "execution_count": 36,
      "outputs": []
    },
    {
      "cell_type": "code",
      "source": [
        "y_pred_b.shape"
      ],
      "metadata": {
        "colab": {
          "base_uri": "https://localhost:8080/"
        },
        "id": "QK8J-1QcjfuE",
        "outputId": "9716f5e7-f2cf-4b5e-eff0-56f1592f547c"
      },
      "execution_count": 39,
      "outputs": [
        {
          "output_type": "execute_result",
          "data": {
            "text/plain": [
              "(652,)"
            ]
          },
          "metadata": {},
          "execution_count": 39
        }
      ]
    },
    {
      "cell_type": "code",
      "source": [
        "model.save('/content/drive/MyDrive/Bundesliga/Models/model_ms4_2')"
      ],
      "metadata": {
        "id": "K91Wj3Tq-y35"
      },
      "execution_count": 114,
      "outputs": []
    },
    {
      "cell_type": "code",
      "source": [
        "model = load_model('/content/drive/MyDrive/Bundesliga/Models/model_ms4_2')"
      ],
      "metadata": {
        "id": "HEh34vjB-4kd"
      },
      "execution_count": 12,
      "outputs": []
    },
    {
      "cell_type": "code",
      "source": [],
      "metadata": {
        "id": "-QeaeB7zbHWn"
      },
      "execution_count": null,
      "outputs": []
    }
  ]
}