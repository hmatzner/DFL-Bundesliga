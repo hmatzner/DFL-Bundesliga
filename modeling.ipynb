{
  "nbformat": 4,
  "nbformat_minor": 0,
  "metadata": {
    "colab": {
      "provenance": []
    },
    "kernelspec": {
      "name": "python3",
      "display_name": "Python 3"
    },
    "language_info": {
      "name": "python"
    },
    "accelerator": "GPU",
    "gpuClass": "standard"
  },
  "cells": [
    {
      "cell_type": "code",
      "execution_count": 1,
      "metadata": {
        "id": "zJNtwKsy0VCp"
      },
      "outputs": [],
      "source": [
        "import os\n",
        "import cv2\n",
        "import sys\n",
        "import pandas as pd\n",
        "import numpy as np\n",
        "import matplotlib.pyplot as plt\n",
        "from sklearn.preprocessing import OneHotEncoder, OrdinalEncoder\n",
        "from sklearn.model_selection import train_test_split\n",
        "from sklearn.utils import class_weight\n",
        "from sklearn.metrics import ConfusionMatrixDisplay, classification_report, f1_score\n",
        "from tensorflow.keras.preprocessing.image import ImageDataGenerator\n",
        "from tensorflow.keras import Sequential\n",
        "from tensorflow.keras.layers import Rescaling, Conv2D, MaxPooling2D, AveragePooling2D, Flatten, Dense, Dropout, BatchNormalization\n",
        "from tensorflow.keras.callbacks import EarlyStopping\n",
        "from tensorflow.keras.models import load_model\n",
        "from tensorflow.keras.applications import VGG16\n",
        "from tensorflow.keras.optimizers import Adam"
      ]
    },
    {
      "cell_type": "code",
      "source": [
        "# PERFORM DATA AUGMENTATION"
      ],
      "metadata": {
        "id": "qQuwR4YJ0o9d"
      },
      "execution_count": 2,
      "outputs": []
    },
    {
      "cell_type": "code",
      "source": [
        "import absl.logging\n",
        "absl.logging.set_verbosity(absl.logging.ERROR)\n",
        "\n",
        "np.set_printoptions(suppress=True)"
      ],
      "metadata": {
        "id": "dGb-Bzjy0qq_"
      },
      "execution_count": 3,
      "outputs": []
    },
    {
      "cell_type": "code",
      "source": [
        "from google.colab import drive\n",
        "drive.mount('/content/drive')"
      ],
      "metadata": {
        "colab": {
          "base_uri": "https://localhost:8080/"
        },
        "id": "kX07atQD0tol",
        "outputId": "bca9e922-e52e-45cb-ce38-9bd2e07eb06f"
      },
      "execution_count": 4,
      "outputs": [
        {
          "output_type": "stream",
          "name": "stdout",
          "text": [
            "Drive already mounted at /content/drive; to attempt to forcibly remount, call drive.mount(\"/content/drive\", force_remount=True).\n"
          ]
        }
      ]
    },
    {
      "cell_type": "code",
      "source": [
        "GRAY_CROPPED_POSITIVES_FOLDER_PATH = '/content/drive/MyDrive/Bundesliga/PositiveFrames/frames_gray_dg/'"
      ],
      "metadata": {
        "id": "B9X5qm2Y0wiX"
      },
      "execution_count": 5,
      "outputs": []
    },
    {
      "cell_type": "code",
      "source": [
        "img_gen = ImageDataGenerator(rescale=1/255)"
      ],
      "metadata": {
        "id": "7MnkyHEd1jvN"
      },
      "execution_count": 63,
      "outputs": []
    },
    {
      "cell_type": "code",
      "source": [
        "train_data = img_gen.flow_from_directory(GRAY_CROPPED_POSITIVES_FOLDER_PATH + 'train', \n",
        "                                         class_mode='sparse', \n",
        "                                         batch_size=64, \n",
        "                                         target_size=(224, 224),\n",
        "                                         )"
      ],
      "metadata": {
        "colab": {
          "base_uri": "https://localhost:8080/"
        },
        "id": "GMBZwX_I3KQe",
        "outputId": "534fcbf9-80b8-4ab9-ea06-f1728f9b48a3"
      },
      "execution_count": 64,
      "outputs": [
        {
          "output_type": "stream",
          "name": "stdout",
          "text": [
            "Found 2543 images belonging to 3 classes.\n"
          ]
        }
      ]
    },
    {
      "cell_type": "code",
      "source": [
        "valid_data = img_gen.flow_from_directory(GRAY_CROPPED_POSITIVES_FOLDER_PATH + 'val', \n",
        "                                         class_mode='sparse', \n",
        "                                         batch_size=64, \n",
        "                                         target_size=(224, 224),\n",
        "                                         )"
      ],
      "metadata": {
        "colab": {
          "base_uri": "https://localhost:8080/"
        },
        "id": "XJjiMVFt3sca",
        "outputId": "76cfde13-0879-41a9-ed7d-374e90489eaf"
      },
      "execution_count": 65,
      "outputs": [
        {
          "output_type": "stream",
          "name": "stdout",
          "text": [
            "Found 677 images belonging to 3 classes.\n"
          ]
        }
      ]
    },
    {
      "cell_type": "code",
      "source": [
        "test_data = img_gen.flow_from_directory(GRAY_CROPPED_POSITIVES_FOLDER_PATH + 'test', \n",
        "                                         class_mode='sparse', \n",
        "                                         batch_size=64, \n",
        "                                         target_size=(224, 224),\n",
        "                                         )"
      ],
      "metadata": {
        "colab": {
          "base_uri": "https://localhost:8080/"
        },
        "id": "a4BBgiUx4GV9",
        "outputId": "5823a0eb-b919-4054-8df3-6c040940be04"
      },
      "execution_count": 66,
      "outputs": [
        {
          "output_type": "stream",
          "name": "stdout",
          "text": [
            "Found 652 images belonging to 3 classes.\n"
          ]
        }
      ]
    },
    {
      "cell_type": "code",
      "source": [
        "filecount = list()\n",
        "FOLDER = GRAY_CROPPED_POSITIVES_FOLDER_PATH\n",
        "\n",
        "for set_ in os.listdir(FOLDER):\n",
        "    for class_ in os.listdir(os.path.join(FOLDER, set_)):\n",
        "        filecount.append((set_, class_, len(os.listdir(os.path.join(FOLDER, set_, class_)))))"
      ],
      "metadata": {
        "id": "9nFarc_hA_6u"
      },
      "execution_count": 67,
      "outputs": []
    },
    {
      "cell_type": "code",
      "source": [
        "filecount"
      ],
      "metadata": {
        "colab": {
          "base_uri": "https://localhost:8080/"
        },
        "id": "7wwWoiWOBJes",
        "outputId": "4b58bf2a-b4ca-4798-b059-dd5a915bf90d"
      },
      "execution_count": 68,
      "outputs": [
        {
          "output_type": "execute_result",
          "data": {
            "text/plain": [
              "[('train', 'challenge', 344),\n",
              " ('train', 'throwin', 117),\n",
              " ('train', 'play', 2082),\n",
              " ('val', 'challenge', 94),\n",
              " ('val', 'throwin', 22),\n",
              " ('val', 'play', 561),\n",
              " ('test', 'challenge', 113),\n",
              " ('test', 'throwin', 21),\n",
              " ('test', 'play', 518)]"
            ]
          },
          "metadata": {},
          "execution_count": 68
        }
      ]
    },
    {
      "cell_type": "code",
      "source": [
        "class_weights = dict()\n",
        "events = list()\n",
        "idx = 0\n",
        "\n",
        "for file_ in filecount:\n",
        "  if file_[0] == 'train':\n",
        "    events.append(idx)\n",
        "    class_weights[idx] = file_[2]\n",
        "    idx += 1\n",
        "\n",
        "samples = sum(class_weights.values())\n",
        "\n",
        "for event in events:\n",
        "  class_weights[event] = samples / class_weights[event]\n",
        "\n",
        "class_weights"
      ],
      "metadata": {
        "colab": {
          "base_uri": "https://localhost:8080/"
        },
        "id": "en-HGfJKMMfS",
        "outputId": "490c552c-57b7-43a2-a5a4-a24d1444b420"
      },
      "execution_count": 58,
      "outputs": [
        {
          "output_type": "execute_result",
          "data": {
            "text/plain": [
              "{0: 7.392441860465116, 1: 21.735042735042736, 2: 1.2214217098943323}"
            ]
          },
          "metadata": {},
          "execution_count": 58
        }
      ]
    },
    {
      "cell_type": "code",
      "source": [
        "class_weights = dict()\n",
        "events = list()\n",
        "\n",
        "for file_ in filecount:\n",
        "  if file_[0] == 'train':\n",
        "    events.append(file_[1])\n",
        "    class_weights[events[-1]] = file_[2]\n",
        "\n",
        "samples = sum(class_weights.values())\n",
        "\n",
        "for event in events:\n",
        "  class_weights[event] = samples / class_weights[event]\n",
        "\n",
        "class_weights"
      ],
      "metadata": {
        "colab": {
          "base_uri": "https://localhost:8080/"
        },
        "id": "qE485Ph_LyAt",
        "outputId": "f8a71ab5-91be-4a9a-91d9-fa6a57b5794c"
      },
      "execution_count": 56,
      "outputs": [
        {
          "output_type": "execute_result",
          "data": {
            "text/plain": [
              "{'challenge': 7.392441860465116,\n",
              " 'throwin': 21.735042735042736,\n",
              " 'play': 1.2214217098943323}"
            ]
          },
          "metadata": {},
          "execution_count": 56
        }
      ]
    },
    {
      "cell_type": "code",
      "source": [
        "vgg_model = VGG16(include_top=False, input_shape=(224, 224, 3))"
      ],
      "metadata": {
        "colab": {
          "base_uri": "https://localhost:8080/"
        },
        "id": "O5Us0QO07rUn",
        "outputId": "70582246-5618-46ef-a6d4-998c912f1f7a"
      },
      "execution_count": 11,
      "outputs": [
        {
          "output_type": "stream",
          "name": "stdout",
          "text": [
            "Downloading data from https://storage.googleapis.com/tensorflow/keras-applications/vgg16/vgg16_weights_tf_dim_ordering_tf_kernels_notop.h5\n",
            "58889256/58889256 [==============================] - 4s 0us/step\n"
          ]
        }
      ]
    },
    {
      "cell_type": "code",
      "source": [
        "model = Sequential([vgg_model,\n",
        "                    Flatten(),\n",
        "                    Dense(128, activation='relu'),\n",
        "                    Dense(3, activation='softmax')\n",
        "])"
      ],
      "metadata": {
        "id": "n6MD4g209Nu-"
      },
      "execution_count": 69,
      "outputs": []
    },
    {
      "cell_type": "code",
      "source": [
        "model.summary()"
      ],
      "metadata": {
        "colab": {
          "base_uri": "https://localhost:8080/"
        },
        "id": "b2DzOVhS8zqG",
        "outputId": "bdbc909c-e477-48ea-9d99-9b69fbe056a4"
      },
      "execution_count": 70,
      "outputs": [
        {
          "output_type": "stream",
          "name": "stdout",
          "text": [
            "Model: \"sequential_1\"\n",
            "_________________________________________________________________\n",
            " Layer (type)                Output Shape              Param #   \n",
            "=================================================================\n",
            " vgg16 (Functional)          (None, 7, 7, 512)         14714688  \n",
            "                                                                 \n",
            " flatten_1 (Flatten)         (None, 25088)             0         \n",
            "                                                                 \n",
            " dense_2 (Dense)             (None, 128)               3211392   \n",
            "                                                                 \n",
            " dense_3 (Dense)             (None, 3)                 387       \n",
            "                                                                 \n",
            "=================================================================\n",
            "Total params: 17,926,467\n",
            "Trainable params: 3,211,779\n",
            "Non-trainable params: 14,714,688\n",
            "_________________________________________________________________\n"
          ]
        }
      ]
    },
    {
      "cell_type": "code",
      "source": [
        "model.input_shape"
      ],
      "metadata": {
        "colab": {
          "base_uri": "https://localhost:8080/"
        },
        "id": "4t9qYiJy80L6",
        "outputId": "c72bef77-ff74-40bb-8e7b-19fd79e54885"
      },
      "execution_count": 71,
      "outputs": [
        {
          "output_type": "execute_result",
          "data": {
            "text/plain": [
              "(None, 224, 224, 3)"
            ]
          },
          "metadata": {},
          "execution_count": 71
        }
      ]
    },
    {
      "cell_type": "code",
      "source": [
        "model.output_shape"
      ],
      "metadata": {
        "colab": {
          "base_uri": "https://localhost:8080/"
        },
        "id": "6jjHxBeh85xz",
        "outputId": "4a2f006c-e2e4-4e54-bf00-95e8dcbbc202"
      },
      "execution_count": 72,
      "outputs": [
        {
          "output_type": "execute_result",
          "data": {
            "text/plain": [
              "(None, 3)"
            ]
          },
          "metadata": {},
          "execution_count": 72
        }
      ]
    },
    {
      "cell_type": "code",
      "source": [
        "vgg_model.trainable=False"
      ],
      "metadata": {
        "id": "erltrfaY87Zl"
      },
      "execution_count": 73,
      "outputs": []
    },
    {
      "cell_type": "code",
      "source": [
        "model.summary()"
      ],
      "metadata": {
        "colab": {
          "base_uri": "https://localhost:8080/"
        },
        "id": "GC_guY-H9nGY",
        "outputId": "0232009b-b7ed-4194-d8ba-e66dcb43d03c"
      },
      "execution_count": 74,
      "outputs": [
        {
          "output_type": "stream",
          "name": "stdout",
          "text": [
            "Model: \"sequential_1\"\n",
            "_________________________________________________________________\n",
            " Layer (type)                Output Shape              Param #   \n",
            "=================================================================\n",
            " vgg16 (Functional)          (None, 7, 7, 512)         14714688  \n",
            "                                                                 \n",
            " flatten_1 (Flatten)         (None, 25088)             0         \n",
            "                                                                 \n",
            " dense_2 (Dense)             (None, 128)               3211392   \n",
            "                                                                 \n",
            " dense_3 (Dense)             (None, 3)                 387       \n",
            "                                                                 \n",
            "=================================================================\n",
            "Total params: 17,926,467\n",
            "Trainable params: 3,211,779\n",
            "Non-trainable params: 14,714,688\n",
            "_________________________________________________________________\n"
          ]
        }
      ]
    },
    {
      "cell_type": "code",
      "source": [
        "def train_model(model, train_data=train_data, valid_data=valid_data, epochs=100, batch_size=16, patience=3, account_weights=True):\n",
        "  \"\"\"Trains the model\"\"\"\n",
        "  callback = EarlyStopping(monitor='val_loss',\n",
        "                         patience=patience,\n",
        "                         restore_best_weights=True)\n",
        "  \n",
        "  if account_weights:\n",
        "    class_weights = dict()\n",
        "    events = list()\n",
        "    idx = 0\n",
        "\n",
        "    for file_ in filecount:\n",
        "      if file_[0] == 'train':\n",
        "        events.append(idx)\n",
        "        class_weights[idx] = file_[2]\n",
        "        idx += 1\n",
        "\n",
        "    samples = sum(class_weights.values())\n",
        "\n",
        "    for event in events:\n",
        "      class_weights[event] = samples / class_weights[event]\n",
        "\n",
        "\n",
        "  else:\n",
        "    class_weights = None\n",
        "\n",
        "  model.fit(train_data,\n",
        "            validation_data=valid_data, \n",
        "            batch_size=batch_size, \n",
        "            epochs=epochs,\n",
        "            class_weight=class_weights,\n",
        "            steps_per_epoch=len(train_data),\n",
        "            validation_steps=len(valid_data),\n",
        "            callbacks=[callback])\n",
        "  \n",
        "  return model"
      ],
      "metadata": {
        "id": "pgylmZCh-4-S"
      },
      "execution_count": 75,
      "outputs": []
    },
    {
      "cell_type": "code",
      "source": [
        "def compile_model(model, lr=0.0001):\n",
        "  \"\"\"Compiles the model\"\"\"\n",
        "  optimizer = Adam(learning_rate=lr)\n",
        "\n",
        "  model.compile(loss='sparse_categorical_crossentropy',\n",
        "              optimizer=optimizer,\n",
        "              metrics='accuracy',\n",
        "              )\n",
        "  return model"
      ],
      "metadata": {
        "id": "KWx6gJBV-9-Z"
      },
      "execution_count": 76,
      "outputs": []
    },
    {
      "cell_type": "code",
      "source": [
        "model = compile_model(model)"
      ],
      "metadata": {
        "id": "Sr-03N4vKdQg"
      },
      "execution_count": 77,
      "outputs": []
    },
    {
      "cell_type": "code",
      "source": [
        "model = train_model(model)"
      ],
      "metadata": {
        "colab": {
          "base_uri": "https://localhost:8080/"
        },
        "id": "riUryuEVKgVr",
        "outputId": "7c271d46-6662-469d-e9da-ac1c8a032dd4"
      },
      "execution_count": 78,
      "outputs": [
        {
          "output_type": "stream",
          "name": "stdout",
          "text": [
            "Epoch 1/100\n",
            "40/40 [==============================] - 780s 20s/step - loss: 5.8871 - accuracy: 0.7998 - val_loss: 0.8344 - val_accuracy: 0.8287\n",
            "Epoch 2/100\n",
            "40/40 [==============================] - 16s 390ms/step - loss: 4.1029 - accuracy: 0.8187 - val_loss: 0.6578 - val_accuracy: 0.8287\n",
            "Epoch 3/100\n",
            "40/40 [==============================] - 16s 398ms/step - loss: 3.5986 - accuracy: 0.8211 - val_loss: 0.5937 - val_accuracy: 0.8287\n",
            "Epoch 4/100\n",
            "40/40 [==============================] - 17s 411ms/step - loss: 3.4524 - accuracy: 0.8250 - val_loss: 0.6390 - val_accuracy: 0.8287\n",
            "Epoch 5/100\n",
            "40/40 [==============================] - 16s 393ms/step - loss: 3.1290 - accuracy: 0.8254 - val_loss: 0.6266 - val_accuracy: 0.8287\n",
            "Epoch 6/100\n",
            "40/40 [==============================] - 16s 391ms/step - loss: 2.9006 - accuracy: 0.8317 - val_loss: 0.6653 - val_accuracy: 0.8287\n"
          ]
        }
      ]
    },
    {
      "cell_type": "code",
      "source": [
        "model.save('/content/drive/MyDrive/Bundesliga/Models/model_ms4_1')"
      ],
      "metadata": {
        "id": "Ci2_Tm4BSo53"
      },
      "execution_count": 79,
      "outputs": []
    },
    {
      "cell_type": "code",
      "source": [
        "# model = load_model('/content/drive/MyDrive/Bundesliga/Models/model_ms3_6')"
      ],
      "metadata": {
        "id": "7YznWGsXSo8l"
      },
      "execution_count": null,
      "outputs": []
    },
    {
      "cell_type": "markdown",
      "source": [
        "2nd try:"
      ],
      "metadata": {
        "id": "WwoFLYRSSdzD"
      }
    },
    {
      "cell_type": "code",
      "source": [
        "model = compile_model(model, lr=0.00001)"
      ],
      "metadata": {
        "id": "udGNNGNKPdnQ"
      },
      "execution_count": 80,
      "outputs": []
    },
    {
      "cell_type": "code",
      "source": [
        "model = train_model(model)"
      ],
      "metadata": {
        "colab": {
          "base_uri": "https://localhost:8080/"
        },
        "id": "BZ18wAp1S6LA",
        "outputId": "e21f417c-8d16-46c0-db57-04f0668cf49f"
      },
      "execution_count": 81,
      "outputs": [
        {
          "output_type": "stream",
          "name": "stdout",
          "text": [
            "Epoch 1/100\n",
            "40/40 [==============================] - 17s 402ms/step - loss: 3.3659 - accuracy: 0.8207 - val_loss: 0.6698 - val_accuracy: 0.8287\n",
            "Epoch 2/100\n",
            "40/40 [==============================] - 16s 399ms/step - loss: 3.2971 - accuracy: 0.8219 - val_loss: 0.6478 - val_accuracy: 0.8287\n",
            "Epoch 3/100\n",
            "40/40 [==============================] - 16s 405ms/step - loss: 3.2541 - accuracy: 0.8227 - val_loss: 0.6648 - val_accuracy: 0.8287\n",
            "Epoch 4/100\n",
            "40/40 [==============================] - 16s 392ms/step - loss: 3.2157 - accuracy: 0.8230 - val_loss: 0.6583 - val_accuracy: 0.8287\n",
            "Epoch 5/100\n",
            "40/40 [==============================] - 16s 393ms/step - loss: 3.1720 - accuracy: 0.8230 - val_loss: 0.6458 - val_accuracy: 0.8287\n",
            "Epoch 6/100\n",
            "40/40 [==============================] - 16s 397ms/step - loss: 3.1407 - accuracy: 0.8254 - val_loss: 0.6874 - val_accuracy: 0.8287\n",
            "Epoch 7/100\n",
            "40/40 [==============================] - 16s 396ms/step - loss: 3.1206 - accuracy: 0.8258 - val_loss: 0.6547 - val_accuracy: 0.8287\n",
            "Epoch 8/100\n",
            "40/40 [==============================] - 16s 394ms/step - loss: 3.0616 - accuracy: 0.8258 - val_loss: 0.6595 - val_accuracy: 0.8287\n"
          ]
        }
      ]
    },
    {
      "cell_type": "code",
      "source": [],
      "metadata": {
        "id": "74pU9866S5ox"
      },
      "execution_count": null,
      "outputs": []
    }
  ]
}