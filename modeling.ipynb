{
  "nbformat": 4,
  "nbformat_minor": 0,
  "metadata": {
    "colab": {
      "provenance": []
    },
    "kernelspec": {
      "name": "python3",
      "display_name": "Python 3"
    },
    "language_info": {
      "name": "python"
    },
    "accelerator": "GPU",
    "gpuClass": "standard"
  },
  "cells": [
    {
      "cell_type": "code",
      "execution_count": 1,
      "metadata": {
        "id": "zJNtwKsy0VCp"
      },
      "outputs": [],
      "source": [
        "import os\n",
        "import cv2\n",
        "import sys\n",
        "import pandas as pd\n",
        "import numpy as np\n",
        "import matplotlib.pyplot as plt\n",
        "from sklearn.preprocessing import OneHotEncoder, OrdinalEncoder\n",
        "from sklearn.model_selection import train_test_split\n",
        "from sklearn.utils import class_weight\n",
        "from sklearn.metrics import ConfusionMatrixDisplay, classification_report, f1_score\n",
        "from tensorflow.keras.preprocessing.image import ImageDataGenerator\n",
        "from tensorflow.keras import Sequential\n",
        "from tensorflow.keras.layers import Rescaling, Conv2D, MaxPooling2D, AveragePooling2D, Flatten, Dense, Dropout, BatchNormalization\n",
        "from tensorflow.keras.callbacks import EarlyStopping\n",
        "from tensorflow.keras.models import load_model\n",
        "from tensorflow.keras.applications import VGG16\n",
        "from tensorflow.keras.optimizers import Adam"
      ]
    },
    {
      "cell_type": "code",
      "source": [
        "# PERFORM DATA AUGMENTATION"
      ],
      "metadata": {
        "id": "qQuwR4YJ0o9d"
      },
      "execution_count": 2,
      "outputs": []
    },
    {
      "cell_type": "code",
      "source": [
        "import absl.logging\n",
        "absl.logging.set_verbosity(absl.logging.ERROR)\n",
        "\n",
        "np.set_printoptions(suppress=True)"
      ],
      "metadata": {
        "id": "dGb-Bzjy0qq_"
      },
      "execution_count": 3,
      "outputs": []
    },
    {
      "cell_type": "code",
      "source": [
        "from google.colab import drive\n",
        "drive.mount('/content/drive')"
      ],
      "metadata": {
        "colab": {
          "base_uri": "https://localhost:8080/"
        },
        "id": "kX07atQD0tol",
        "outputId": "bca9e922-e52e-45cb-ce38-9bd2e07eb06f"
      },
      "execution_count": 4,
      "outputs": [
        {
          "output_type": "stream",
          "name": "stdout",
          "text": [
            "Drive already mounted at /content/drive; to attempt to forcibly remount, call drive.mount(\"/content/drive\", force_remount=True).\n"
          ]
        }
      ]
    },
    {
      "cell_type": "code",
      "source": [
        "GRAY_CROPPED_POSITIVES_FOLDER_PATH = '/content/drive/MyDrive/Bundesliga/PositiveFrames/frames_gray_dg/'"
      ],
      "metadata": {
        "id": "B9X5qm2Y0wiX"
      },
      "execution_count": 5,
      "outputs": []
    },
    {
      "cell_type": "code",
      "source": [
        "img_gen = ImageDataGenerator(rescale=1/255)"
      ],
      "metadata": {
        "id": "7MnkyHEd1jvN"
      },
      "execution_count": 63,
      "outputs": []
    },
    {
      "cell_type": "code",
      "source": [
        "train_data = img_gen.flow_from_directory(GRAY_CROPPED_POSITIVES_FOLDER_PATH + 'train', \n",
        "                                         class_mode='sparse', \n",
        "                                         batch_size=64, \n",
        "                                         target_size=(224, 224),\n",
        "                                         )"
      ],
      "metadata": {
        "colab": {
          "base_uri": "https://localhost:8080/"
        },
        "id": "GMBZwX_I3KQe",
        "outputId": "534fcbf9-80b8-4ab9-ea06-f1728f9b48a3"
      },
      "execution_count": 64,
      "outputs": [
        {
          "output_type": "stream",
          "name": "stdout",
          "text": [
            "Found 2543 images belonging to 3 classes.\n"
          ]
        }
      ]
    },
    {
      "cell_type": "code",
      "source": [
        "valid_data = img_gen.flow_from_directory(GRAY_CROPPED_POSITIVES_FOLDER_PATH + 'val', \n",
        "                                         class_mode='sparse', \n",
        "                                         batch_size=64, \n",
        "                                         target_size=(224, 224),\n",
        "                                         )"
      ],
      "metadata": {
        "colab": {
          "base_uri": "https://localhost:8080/"
        },
        "id": "XJjiMVFt3sca",
        "outputId": "76cfde13-0879-41a9-ed7d-374e90489eaf"
      },
      "execution_count": 65,
      "outputs": [
        {
          "output_type": "stream",
          "name": "stdout",
          "text": [
            "Found 677 images belonging to 3 classes.\n"
          ]
        }
      ]
    },
    {
      "cell_type": "code",
      "source": [
        "test_data = img_gen.flow_from_directory(GRAY_CROPPED_POSITIVES_FOLDER_PATH + 'test', \n",
        "                                         class_mode='sparse', \n",
        "                                         batch_size=64, \n",
        "                                         target_size=(224, 224),\n",
        "                                         )"
      ],
      "metadata": {
        "colab": {
          "base_uri": "https://localhost:8080/"
        },
        "id": "a4BBgiUx4GV9",
        "outputId": "5823a0eb-b919-4054-8df3-6c040940be04"
      },
      "execution_count": 66,
      "outputs": [
        {
          "output_type": "stream",
          "name": "stdout",
          "text": [
            "Found 652 images belonging to 3 classes.\n"
          ]
        }
      ]
    },
    {
      "cell_type": "code",
      "source": [
        "filecount = list()\n",
        "FOLDER = GRAY_CROPPED_POSITIVES_FOLDER_PATH\n",
        "\n",
        "for set_ in os.listdir(FOLDER):\n",
        "    for class_ in os.listdir(os.path.join(FOLDER, set_)):\n",
        "        filecount.append((set_, class_, len(os.listdir(os.path.join(FOLDER, set_, class_)))))"
      ],
      "metadata": {
        "id": "9nFarc_hA_6u"
      },
      "execution_count": 67,
      "outputs": []
    },
    {
      "cell_type": "code",
      "source": [
        "filecount"
      ],
      "metadata": {
        "colab": {
          "base_uri": "https://localhost:8080/"
        },
        "id": "7wwWoiWOBJes",
        "outputId": "4b58bf2a-b4ca-4798-b059-dd5a915bf90d"
      },
      "execution_count": 68,
      "outputs": [
        {
          "output_type": "execute_result",
          "data": {
            "text/plain": [
              "[('train', 'challenge', 344),\n",
              " ('train', 'throwin', 117),\n",
              " ('train', 'play', 2082),\n",
              " ('val', 'challenge', 94),\n",
              " ('val', 'throwin', 22),\n",
              " ('val', 'play', 561),\n",
              " ('test', 'challenge', 113),\n",
              " ('test', 'throwin', 21),\n",
              " ('test', 'play', 518)]"
            ]
          },
          "metadata": {},
          "execution_count": 68
        }
      ]
    },
    {
      "cell_type": "code",
      "source": [
        "class_weights = dict()\n",
        "events = list()\n",
        "idx = 0\n",
        "\n",
        "for file_ in filecount:\n",
        "  if file_[0] == 'train':\n",
        "    events.append(idx)\n",
        "    class_weights[idx] = file_[2]\n",
        "    idx += 1\n",
        "\n",
        "samples = sum(class_weights.values())\n",
        "\n",
        "for event in events:\n",
        "  class_weights[event] = samples / class_weights[event]\n",
        "\n",
        "class_weights"
      ],
      "metadata": {
        "colab": {
          "base_uri": "https://localhost:8080/"
        },
        "id": "en-HGfJKMMfS",
        "outputId": "490c552c-57b7-43a2-a5a4-a24d1444b420"
      },
      "execution_count": 58,
      "outputs": [
        {
          "output_type": "execute_result",
          "data": {
            "text/plain": [
              "{0: 7.392441860465116, 1: 21.735042735042736, 2: 1.2214217098943323}"
            ]
          },
          "metadata": {},
          "execution_count": 58
        }
      ]
    },
    {
      "cell_type": "code",
      "source": [
        "class_weights = dict()\n",
        "events = list()\n",
        "\n",
        "for file_ in filecount:\n",
        "  if file_[0] == 'train':\n",
        "    events.append(file_[1])\n",
        "    class_weights[events[-1]] = file_[2]\n",
        "\n",
        "samples = sum(class_weights.values())\n",
        "\n",
        "for event in events:\n",
        "  class_weights[event] = samples / class_weights[event]\n",
        "\n",
        "class_weights"
      ],
      "metadata": {
        "colab": {
          "base_uri": "https://localhost:8080/"
        },
        "id": "qE485Ph_LyAt",
        "outputId": "f8a71ab5-91be-4a9a-91d9-fa6a57b5794c"
      },
      "execution_count": 56,
      "outputs": [
        {
          "output_type": "execute_result",
          "data": {
            "text/plain": [
              "{'challenge': 7.392441860465116,\n",
              " 'throwin': 21.735042735042736,\n",
              " 'play': 1.2214217098943323}"
            ]
          },
          "metadata": {},
          "execution_count": 56
        }
      ]
    },
    {
      "cell_type": "code",
      "source": [
        "vgg_model = VGG16(include_top=False, input_shape=(224, 224, 3))"
      ],
      "metadata": {
        "colab": {
          "base_uri": "https://localhost:8080/"
        },
        "id": "O5Us0QO07rUn",
        "outputId": "70582246-5618-46ef-a6d4-998c912f1f7a"
      },
      "execution_count": 11,
      "outputs": [
        {
          "output_type": "stream",
          "name": "stdout",
          "text": [
            "Downloading data from https://storage.googleapis.com/tensorflow/keras-applications/vgg16/vgg16_weights_tf_dim_ordering_tf_kernels_notop.h5\n",
            "58889256/58889256 [==============================] - 4s 0us/step\n"
          ]
        }
      ]
    },
    {
      "cell_type": "code",
      "source": [
        "model = Sequential([vgg_model,\n",
        "                    Flatten(),\n",
        "                    Dense(128, activation='relu'),\n",
        "                    Dense(3, activation='softmax')\n",
        "])"
      ],
      "metadata": {
        "id": "n6MD4g209Nu-"
      },
      "execution_count": 69,
      "outputs": []
    },
    {
      "cell_type": "code",
      "source": [
        "model.summary()"
      ],
      "metadata": {
        "colab": {
          "base_uri": "https://localhost:8080/"
        },
        "id": "b2DzOVhS8zqG",
        "outputId": "bdbc909c-e477-48ea-9d99-9b69fbe056a4"
      },
      "execution_count": 70,
      "outputs": [
        {
          "output_type": "stream",
          "name": "stdout",
          "text": [
            "Model: \"sequential_1\"\n",
            "_________________________________________________________________\n",
            " Layer (type)                Output Shape              Param #   \n",
            "=================================================================\n",
            " vgg16 (Functional)          (None, 7, 7, 512)         14714688  \n",
            "                                                                 \n",
            " flatten_1 (Flatten)         (None, 25088)             0         \n",
            "                                                                 \n",
            " dense_2 (Dense)             (None, 128)               3211392   \n",
            "                                                                 \n",
            " dense_3 (Dense)             (None, 3)                 387       \n",
            "                                                                 \n",
            "=================================================================\n",
            "Total params: 17,926,467\n",
            "Trainable params: 3,211,779\n",
            "Non-trainable params: 14,714,688\n",
            "_________________________________________________________________\n"
          ]
        }
      ]
    },
    {
      "cell_type": "code",
      "source": [
        "model.input_shape"
      ],
      "metadata": {
        "colab": {
          "base_uri": "https://localhost:8080/"
        },
        "id": "4t9qYiJy80L6",
        "outputId": "c72bef77-ff74-40bb-8e7b-19fd79e54885"
      },
      "execution_count": 71,
      "outputs": [
        {
          "output_type": "execute_result",
          "data": {
            "text/plain": [
              "(None, 224, 224, 3)"
            ]
          },
          "metadata": {},
          "execution_count": 71
        }
      ]
    },
    {
      "cell_type": "code",
      "source": [
        "model.output_shape"
      ],
      "metadata": {
        "colab": {
          "base_uri": "https://localhost:8080/"
        },
        "id": "6jjHxBeh85xz",
        "outputId": "4a2f006c-e2e4-4e54-bf00-95e8dcbbc202"
      },
      "execution_count": 72,
      "outputs": [
        {
          "output_type": "execute_result",
          "data": {
            "text/plain": [
              "(None, 3)"
            ]
          },
          "metadata": {},
          "execution_count": 72
        }
      ]
    },
    {
      "cell_type": "code",
      "source": [
        "vgg_model.trainable=False"
      ],
      "metadata": {
        "id": "erltrfaY87Zl"
      },
      "execution_count": 73,
      "outputs": []
    },
    {
      "cell_type": "code",
      "source": [
        "model.summary()"
      ],
      "metadata": {
        "colab": {
          "base_uri": "https://localhost:8080/"
        },
        "id": "GC_guY-H9nGY",
        "outputId": "0232009b-b7ed-4194-d8ba-e66dcb43d03c"
      },
      "execution_count": 74,
      "outputs": [
        {
          "output_type": "stream",
          "name": "stdout",
          "text": [
            "Model: \"sequential_1\"\n",
            "_________________________________________________________________\n",
            " Layer (type)                Output Shape              Param #   \n",
            "=================================================================\n",
            " vgg16 (Functional)          (None, 7, 7, 512)         14714688  \n",
            "                                                                 \n",
            " flatten_1 (Flatten)         (None, 25088)             0         \n",
            "                                                                 \n",
            " dense_2 (Dense)             (None, 128)               3211392   \n",
            "                                                                 \n",
            " dense_3 (Dense)             (None, 3)                 387       \n",
            "                                                                 \n",
            "=================================================================\n",
            "Total params: 17,926,467\n",
            "Trainable params: 3,211,779\n",
            "Non-trainable params: 14,714,688\n",
            "_________________________________________________________________\n"
          ]
        }
      ]
    },
    {
      "cell_type": "code",
      "source": [
        "def train_model(model, train_data=train_data, valid_data=valid_data, epochs=100, batch_size=16, patience=3, account_weights=True):\n",
        "  \"\"\"Trains the model\"\"\"\n",
        "  callback = EarlyStopping(monitor='val_loss',\n",
        "                         patience=patience,\n",
        "                         restore_best_weights=True)\n",
        "  \n",
        "  if account_weights:\n",
        "    class_weights = dict()\n",
        "    events = list()\n",
        "    idx = 0\n",
        "\n",
        "    for file_ in filecount:\n",
        "      if file_[0] == 'train':\n",
        "        events.append(idx)\n",
        "        class_weights[idx] = file_[2]\n",
        "        idx += 1\n",
        "\n",
        "    samples = sum(class_weights.values())\n",
        "\n",
        "    for event in events:\n",
        "      class_weights[event] = samples / class_weights[event]\n",
        "\n",
        "\n",
        "  else:\n",
        "    class_weights = None\n",
        "\n",
        "  model.fit(train_data,\n",
        "            validation_data=valid_data, \n",
        "            batch_size=batch_size, \n",
        "            epochs=epochs,\n",
        "            class_weight=class_weights,\n",
        "            steps_per_epoch=len(train_data),\n",
        "            validation_steps=len(valid_data),\n",
        "            callbacks=[callback])\n",
        "  \n",
        "  return model"
      ],
      "metadata": {
        "id": "pgylmZCh-4-S"
      },
      "execution_count": 75,
      "outputs": []
    },
    {
      "cell_type": "code",
      "source": [
        "def compile_model(model, lr=0.0001):\n",
        "  \"\"\"Compiles the model\"\"\"\n",
        "  optimizer = Adam(learning_rate=lr)\n",
        "\n",
        "  model.compile(loss='sparse_categorical_crossentropy',\n",
        "              optimizer=optimizer,\n",
        "              metrics='accuracy',\n",
        "              )\n",
        "  return model"
      ],
      "metadata": {
        "id": "KWx6gJBV-9-Z"
      },
      "execution_count": 76,
      "outputs": []
    },
    {
      "cell_type": "code",
      "source": [
        "model = compile_model(model)"
      ],
      "metadata": {
        "id": "Sr-03N4vKdQg"
      },
      "execution_count": 77,
      "outputs": []
    },
    {
      "cell_type": "code",
      "source": [
        "model = train_model(model)"
      ],
      "metadata": {
        "colab": {
          "base_uri": "https://localhost:8080/"
        },
        "id": "riUryuEVKgVr",
        "outputId": "7c271d46-6662-469d-e9da-ac1c8a032dd4"
      },
      "execution_count": 78,
      "outputs": [
        {
          "output_type": "stream",
          "name": "stdout",
          "text": [
            "Epoch 1/100\n",
            "40/40 [==============================] - 780s 20s/step - loss: 5.8871 - accuracy: 0.7998 - val_loss: 0.8344 - val_accuracy: 0.8287\n",
            "Epoch 2/100\n",
            "40/40 [==============================] - 16s 390ms/step - loss: 4.1029 - accuracy: 0.8187 - val_loss: 0.6578 - val_accuracy: 0.8287\n",
            "Epoch 3/100\n",
            "40/40 [==============================] - 16s 398ms/step - loss: 3.5986 - accuracy: 0.8211 - val_loss: 0.5937 - val_accuracy: 0.8287\n",
            "Epoch 4/100\n",
            "40/40 [==============================] - 17s 411ms/step - loss: 3.4524 - accuracy: 0.8250 - val_loss: 0.6390 - val_accuracy: 0.8287\n",
            "Epoch 5/100\n",
            "40/40 [==============================] - 16s 393ms/step - loss: 3.1290 - accuracy: 0.8254 - val_loss: 0.6266 - val_accuracy: 0.8287\n",
            "Epoch 6/100\n",
            "40/40 [==============================] - 16s 391ms/step - loss: 2.9006 - accuracy: 0.8317 - val_loss: 0.6653 - val_accuracy: 0.8287\n"
          ]
        }
      ]
    },
    {
      "cell_type": "code",
      "source": [
        "model.save('/content/drive/MyDrive/Bundesliga/Models/model_ms4_1')"
      ],
      "metadata": {
        "id": "Ci2_Tm4BSo53"
      },
      "execution_count": 79,
      "outputs": []
    },
    {
      "cell_type": "code",
      "source": [
        "# model = load_model('/content/drive/MyDrive/Bundesliga/Models/model_ms3_6')"
      ],
      "metadata": {
        "id": "7YznWGsXSo8l"
      },
      "execution_count": null,
      "outputs": []
    },
    {
      "cell_type": "markdown",
      "source": [
        "2nd try:"
      ],
      "metadata": {
        "id": "WwoFLYRSSdzD"
      }
    },
    {
      "cell_type": "markdown",
      "source": [
        "3rd try:"
      ],
      "metadata": {
        "id": "obv73djLYiF1"
      }
    },
    {
      "cell_type": "code",
      "source": [
        "model = compile_model(model, lr=-0.0000001)"
      ],
      "metadata": {
        "id": "74pU9866S5ox"
      },
      "execution_count": 88,
      "outputs": []
    },
    {
      "cell_type": "code",
      "source": [
        "model = train_model(model, epochs=10000, patience=50)"
      ],
      "metadata": {
        "colab": {
          "base_uri": "https://localhost:8080/",
          "height": 1000
        },
        "id": "VKTi5cq7YkMR",
        "outputId": "e096fc52-8354-4270-803d-91ab34b22b3a"
      },
      "execution_count": 89,
      "outputs": [
        {
          "output_type": "stream",
          "name": "stdout",
          "text": [
            "Epoch 1/10000\n",
            "40/40 [==============================] - 17s 399ms/step - loss: 3.0020 - accuracy: 0.8282 - val_loss: 0.6532 - val_accuracy: 0.8287\n",
            "Epoch 2/10000\n",
            "40/40 [==============================] - 16s 396ms/step - loss: 3.0028 - accuracy: 0.8282 - val_loss: 0.6523 - val_accuracy: 0.8287\n",
            "Epoch 3/10000\n",
            "40/40 [==============================] - 16s 406ms/step - loss: 3.0033 - accuracy: 0.8282 - val_loss: 0.6519 - val_accuracy: 0.8287\n",
            "Epoch 4/10000\n",
            "40/40 [==============================] - 16s 401ms/step - loss: 3.0041 - accuracy: 0.8282 - val_loss: 0.6512 - val_accuracy: 0.8287\n",
            "Epoch 5/10000\n",
            "40/40 [==============================] - 16s 392ms/step - loss: 3.0049 - accuracy: 0.8285 - val_loss: 0.6495 - val_accuracy: 0.8287\n",
            "Epoch 6/10000\n",
            "40/40 [==============================] - 16s 392ms/step - loss: 3.0061 - accuracy: 0.8285 - val_loss: 0.6483 - val_accuracy: 0.8287\n",
            "Epoch 7/10000\n",
            "40/40 [==============================] - 16s 400ms/step - loss: 3.0076 - accuracy: 0.8289 - val_loss: 0.6468 - val_accuracy: 0.8287\n",
            "Epoch 8/10000\n",
            "40/40 [==============================] - 16s 396ms/step - loss: 3.0094 - accuracy: 0.8289 - val_loss: 0.6443 - val_accuracy: 0.8287\n",
            "Epoch 9/10000\n",
            "40/40 [==============================] - 16s 398ms/step - loss: 3.0122 - accuracy: 0.8301 - val_loss: 0.6419 - val_accuracy: 0.8287\n",
            "Epoch 10/10000\n",
            "40/40 [==============================] - 16s 394ms/step - loss: 3.0155 - accuracy: 0.8313 - val_loss: 0.6382 - val_accuracy: 0.8287\n",
            "Epoch 11/10000\n",
            "40/40 [==============================] - 16s 393ms/step - loss: 3.0213 - accuracy: 0.8321 - val_loss: 0.6349 - val_accuracy: 0.8287\n",
            "Epoch 12/10000\n",
            "40/40 [==============================] - 16s 398ms/step - loss: 3.0286 - accuracy: 0.8329 - val_loss: 0.6304 - val_accuracy: 0.8287\n",
            "Epoch 13/10000\n",
            "40/40 [==============================] - 16s 399ms/step - loss: 3.0402 - accuracy: 0.8337 - val_loss: 0.6258 - val_accuracy: 0.8287\n",
            "Epoch 14/10000\n",
            "40/40 [==============================] - 16s 397ms/step - loss: 3.0559 - accuracy: 0.8344 - val_loss: 0.6199 - val_accuracy: 0.8287\n",
            "Epoch 15/10000\n",
            "40/40 [==============================] - 16s 392ms/step - loss: 3.0798 - accuracy: 0.8364 - val_loss: 0.6132 - val_accuracy: 0.8287\n",
            "Epoch 16/10000\n",
            "40/40 [==============================] - 16s 397ms/step - loss: 3.1141 - accuracy: 0.8388 - val_loss: 0.6057 - val_accuracy: 0.8287\n",
            "Epoch 17/10000\n",
            "40/40 [==============================] - 16s 400ms/step - loss: 3.1637 - accuracy: 0.8403 - val_loss: 0.5973 - val_accuracy: 0.8287\n",
            "Epoch 18/10000\n",
            "40/40 [==============================] - 16s 400ms/step - loss: 3.2342 - accuracy: 0.8419 - val_loss: 0.5878 - val_accuracy: 0.8301\n",
            "Epoch 19/10000\n",
            "40/40 [==============================] - 16s 393ms/step - loss: 3.3404 - accuracy: 0.8451 - val_loss: 0.5787 - val_accuracy: 0.8301\n",
            "Epoch 20/10000\n",
            "40/40 [==============================] - 16s 392ms/step - loss: 3.4848 - accuracy: 0.8514 - val_loss: 0.5698 - val_accuracy: 0.8272\n",
            "Epoch 21/10000\n",
            "40/40 [==============================] - 16s 400ms/step - loss: 3.6851 - accuracy: 0.8576 - val_loss: 0.5621 - val_accuracy: 0.8272\n",
            "Epoch 22/10000\n",
            "40/40 [==============================] - 16s 400ms/step - loss: 3.9502 - accuracy: 0.8659 - val_loss: 0.5564 - val_accuracy: 0.8257\n",
            "Epoch 23/10000\n",
            "40/40 [==============================] - 16s 395ms/step - loss: 4.2967 - accuracy: 0.8722 - val_loss: 0.5538 - val_accuracy: 0.8242\n",
            "Epoch 24/10000\n",
            "40/40 [==============================] - 16s 394ms/step - loss: 4.7373 - accuracy: 0.8750 - val_loss: 0.5551 - val_accuracy: 0.8301\n",
            "Epoch 25/10000\n",
            "40/40 [==============================] - 16s 393ms/step - loss: 5.2870 - accuracy: 0.8750 - val_loss: 0.5612 - val_accuracy: 0.8183\n",
            "Epoch 26/10000\n",
            "40/40 [==============================] - 16s 393ms/step - loss: 5.9552 - accuracy: 0.8691 - val_loss: 0.5729 - val_accuracy: 0.8080\n",
            "Epoch 27/10000\n",
            "40/40 [==============================] - 16s 401ms/step - loss: 6.7455 - accuracy: 0.8561 - val_loss: 0.5909 - val_accuracy: 0.7947\n",
            "Epoch 28/10000\n",
            "40/40 [==============================] - 16s 392ms/step - loss: 7.6736 - accuracy: 0.8372 - val_loss: 0.6159 - val_accuracy: 0.7740\n",
            "Epoch 29/10000\n",
            "40/40 [==============================] - 16s 393ms/step - loss: 8.7365 - accuracy: 0.7998 - val_loss: 0.6476 - val_accuracy: 0.7533\n",
            "Epoch 30/10000\n",
            "40/40 [==============================] - 16s 397ms/step - loss: 9.9354 - accuracy: 0.7475 - val_loss: 0.6865 - val_accuracy: 0.7194\n",
            "Epoch 31/10000\n",
            "40/40 [==============================] - 16s 396ms/step - loss: 11.2730 - accuracy: 0.6925 - val_loss: 0.7321 - val_accuracy: 0.6677\n",
            "Epoch 32/10000\n",
            "40/40 [==============================] - 16s 392ms/step - loss: 12.7192 - accuracy: 0.6166 - val_loss: 0.7851 - val_accuracy: 0.6086\n",
            "Epoch 33/10000\n",
            "40/40 [==============================] - ETA: 0s - loss: 14.2979 - accuracy: 0.5376"
          ]
        },
        {
          "output_type": "error",
          "ename": "KeyboardInterrupt",
          "evalue": "ignored",
          "traceback": [
            "\u001b[0;31m---------------------------------------------------------------------------\u001b[0m",
            "\u001b[0;31mKeyboardInterrupt\u001b[0m                         Traceback (most recent call last)",
            "\u001b[0;32m<ipython-input-89-bdd1ed3fdf7a>\u001b[0m in \u001b[0;36m<module>\u001b[0;34m\u001b[0m\n\u001b[0;32m----> 1\u001b[0;31m \u001b[0mmodel\u001b[0m \u001b[0;34m=\u001b[0m \u001b[0mtrain_model\u001b[0m\u001b[0;34m(\u001b[0m\u001b[0mmodel\u001b[0m\u001b[0;34m,\u001b[0m \u001b[0mepochs\u001b[0m\u001b[0;34m=\u001b[0m\u001b[0;36m10000\u001b[0m\u001b[0;34m,\u001b[0m \u001b[0mpatience\u001b[0m\u001b[0;34m=\u001b[0m\u001b[0;36m50\u001b[0m\u001b[0;34m)\u001b[0m\u001b[0;34m\u001b[0m\u001b[0;34m\u001b[0m\u001b[0m\n\u001b[0m",
            "\u001b[0;32m<ipython-input-75-9d44ebcf51ea>\u001b[0m in \u001b[0;36mtrain_model\u001b[0;34m(model, train_data, valid_data, epochs, batch_size, patience, account_weights)\u001b[0m\n\u001b[1;32m     32\u001b[0m             \u001b[0msteps_per_epoch\u001b[0m\u001b[0;34m=\u001b[0m\u001b[0mlen\u001b[0m\u001b[0;34m(\u001b[0m\u001b[0mtrain_data\u001b[0m\u001b[0;34m)\u001b[0m\u001b[0;34m,\u001b[0m\u001b[0;34m\u001b[0m\u001b[0;34m\u001b[0m\u001b[0m\n\u001b[1;32m     33\u001b[0m             \u001b[0mvalidation_steps\u001b[0m\u001b[0;34m=\u001b[0m\u001b[0mlen\u001b[0m\u001b[0;34m(\u001b[0m\u001b[0mvalid_data\u001b[0m\u001b[0;34m)\u001b[0m\u001b[0;34m,\u001b[0m\u001b[0;34m\u001b[0m\u001b[0;34m\u001b[0m\u001b[0m\n\u001b[0;32m---> 34\u001b[0;31m             callbacks=[callback])\n\u001b[0m\u001b[1;32m     35\u001b[0m \u001b[0;34m\u001b[0m\u001b[0m\n\u001b[1;32m     36\u001b[0m   \u001b[0;32mreturn\u001b[0m \u001b[0mmodel\u001b[0m\u001b[0;34m\u001b[0m\u001b[0;34m\u001b[0m\u001b[0m\n",
            "\u001b[0;32m/usr/local/lib/python3.7/dist-packages/keras/utils/traceback_utils.py\u001b[0m in \u001b[0;36merror_handler\u001b[0;34m(*args, **kwargs)\u001b[0m\n\u001b[1;32m     62\u001b[0m     \u001b[0mfiltered_tb\u001b[0m \u001b[0;34m=\u001b[0m \u001b[0;32mNone\u001b[0m\u001b[0;34m\u001b[0m\u001b[0;34m\u001b[0m\u001b[0m\n\u001b[1;32m     63\u001b[0m     \u001b[0;32mtry\u001b[0m\u001b[0;34m:\u001b[0m\u001b[0;34m\u001b[0m\u001b[0;34m\u001b[0m\u001b[0m\n\u001b[0;32m---> 64\u001b[0;31m       \u001b[0;32mreturn\u001b[0m \u001b[0mfn\u001b[0m\u001b[0;34m(\u001b[0m\u001b[0;34m*\u001b[0m\u001b[0margs\u001b[0m\u001b[0;34m,\u001b[0m \u001b[0;34m**\u001b[0m\u001b[0mkwargs\u001b[0m\u001b[0;34m)\u001b[0m\u001b[0;34m\u001b[0m\u001b[0;34m\u001b[0m\u001b[0m\n\u001b[0m\u001b[1;32m     65\u001b[0m     \u001b[0;32mexcept\u001b[0m \u001b[0mException\u001b[0m \u001b[0;32mas\u001b[0m \u001b[0me\u001b[0m\u001b[0;34m:\u001b[0m  \u001b[0;31m# pylint: disable=broad-except\u001b[0m\u001b[0;34m\u001b[0m\u001b[0;34m\u001b[0m\u001b[0m\n\u001b[1;32m     66\u001b[0m       \u001b[0mfiltered_tb\u001b[0m \u001b[0;34m=\u001b[0m \u001b[0m_process_traceback_frames\u001b[0m\u001b[0;34m(\u001b[0m\u001b[0me\u001b[0m\u001b[0;34m.\u001b[0m\u001b[0m__traceback__\u001b[0m\u001b[0;34m)\u001b[0m\u001b[0;34m\u001b[0m\u001b[0;34m\u001b[0m\u001b[0m\n",
            "\u001b[0;32m/usr/local/lib/python3.7/dist-packages/keras/engine/training.py\u001b[0m in \u001b[0;36mfit\u001b[0;34m(self, x, y, batch_size, epochs, verbose, callbacks, validation_split, validation_data, shuffle, class_weight, sample_weight, initial_epoch, steps_per_epoch, validation_steps, validation_batch_size, validation_freq, max_queue_size, workers, use_multiprocessing)\u001b[0m\n\u001b[1;32m   1454\u001b[0m               \u001b[0muse_multiprocessing\u001b[0m\u001b[0;34m=\u001b[0m\u001b[0muse_multiprocessing\u001b[0m\u001b[0;34m,\u001b[0m\u001b[0;34m\u001b[0m\u001b[0;34m\u001b[0m\u001b[0m\n\u001b[1;32m   1455\u001b[0m               \u001b[0mreturn_dict\u001b[0m\u001b[0;34m=\u001b[0m\u001b[0;32mTrue\u001b[0m\u001b[0;34m,\u001b[0m\u001b[0;34m\u001b[0m\u001b[0;34m\u001b[0m\u001b[0m\n\u001b[0;32m-> 1456\u001b[0;31m               _use_cached_eval_dataset=True)\n\u001b[0m\u001b[1;32m   1457\u001b[0m           \u001b[0mval_logs\u001b[0m \u001b[0;34m=\u001b[0m \u001b[0;34m{\u001b[0m\u001b[0;34m'val_'\u001b[0m \u001b[0;34m+\u001b[0m \u001b[0mname\u001b[0m\u001b[0;34m:\u001b[0m \u001b[0mval\u001b[0m \u001b[0;32mfor\u001b[0m \u001b[0mname\u001b[0m\u001b[0;34m,\u001b[0m \u001b[0mval\u001b[0m \u001b[0;32min\u001b[0m \u001b[0mval_logs\u001b[0m\u001b[0;34m.\u001b[0m\u001b[0mitems\u001b[0m\u001b[0;34m(\u001b[0m\u001b[0;34m)\u001b[0m\u001b[0;34m}\u001b[0m\u001b[0;34m\u001b[0m\u001b[0;34m\u001b[0m\u001b[0m\n\u001b[1;32m   1458\u001b[0m           \u001b[0mepoch_logs\u001b[0m\u001b[0;34m.\u001b[0m\u001b[0mupdate\u001b[0m\u001b[0;34m(\u001b[0m\u001b[0mval_logs\u001b[0m\u001b[0;34m)\u001b[0m\u001b[0;34m\u001b[0m\u001b[0;34m\u001b[0m\u001b[0m\n",
            "\u001b[0;32m/usr/local/lib/python3.7/dist-packages/keras/utils/traceback_utils.py\u001b[0m in \u001b[0;36merror_handler\u001b[0;34m(*args, **kwargs)\u001b[0m\n\u001b[1;32m     62\u001b[0m     \u001b[0mfiltered_tb\u001b[0m \u001b[0;34m=\u001b[0m \u001b[0;32mNone\u001b[0m\u001b[0;34m\u001b[0m\u001b[0;34m\u001b[0m\u001b[0m\n\u001b[1;32m     63\u001b[0m     \u001b[0;32mtry\u001b[0m\u001b[0;34m:\u001b[0m\u001b[0;34m\u001b[0m\u001b[0;34m\u001b[0m\u001b[0m\n\u001b[0;32m---> 64\u001b[0;31m       \u001b[0;32mreturn\u001b[0m \u001b[0mfn\u001b[0m\u001b[0;34m(\u001b[0m\u001b[0;34m*\u001b[0m\u001b[0margs\u001b[0m\u001b[0;34m,\u001b[0m \u001b[0;34m**\u001b[0m\u001b[0mkwargs\u001b[0m\u001b[0;34m)\u001b[0m\u001b[0;34m\u001b[0m\u001b[0;34m\u001b[0m\u001b[0m\n\u001b[0m\u001b[1;32m     65\u001b[0m     \u001b[0;32mexcept\u001b[0m \u001b[0mException\u001b[0m \u001b[0;32mas\u001b[0m \u001b[0me\u001b[0m\u001b[0;34m:\u001b[0m  \u001b[0;31m# pylint: disable=broad-except\u001b[0m\u001b[0;34m\u001b[0m\u001b[0;34m\u001b[0m\u001b[0m\n\u001b[1;32m     66\u001b[0m       \u001b[0mfiltered_tb\u001b[0m \u001b[0;34m=\u001b[0m \u001b[0m_process_traceback_frames\u001b[0m\u001b[0;34m(\u001b[0m\u001b[0me\u001b[0m\u001b[0;34m.\u001b[0m\u001b[0m__traceback__\u001b[0m\u001b[0;34m)\u001b[0m\u001b[0;34m\u001b[0m\u001b[0;34m\u001b[0m\u001b[0m\n",
            "\u001b[0;32m/usr/local/lib/python3.7/dist-packages/keras/engine/training.py\u001b[0m in \u001b[0;36mevaluate\u001b[0;34m(self, x, y, batch_size, verbose, sample_weight, steps, callbacks, max_queue_size, workers, use_multiprocessing, return_dict, **kwargs)\u001b[0m\n\u001b[1;32m   1754\u001b[0m             \u001b[0;32mwith\u001b[0m \u001b[0mtf\u001b[0m\u001b[0;34m.\u001b[0m\u001b[0mprofiler\u001b[0m\u001b[0;34m.\u001b[0m\u001b[0mexperimental\u001b[0m\u001b[0;34m.\u001b[0m\u001b[0mTrace\u001b[0m\u001b[0;34m(\u001b[0m\u001b[0;34m'test'\u001b[0m\u001b[0;34m,\u001b[0m \u001b[0mstep_num\u001b[0m\u001b[0;34m=\u001b[0m\u001b[0mstep\u001b[0m\u001b[0;34m,\u001b[0m \u001b[0m_r\u001b[0m\u001b[0;34m=\u001b[0m\u001b[0;36m1\u001b[0m\u001b[0;34m)\u001b[0m\u001b[0;34m:\u001b[0m\u001b[0;34m\u001b[0m\u001b[0;34m\u001b[0m\u001b[0m\n\u001b[1;32m   1755\u001b[0m               \u001b[0mcallbacks\u001b[0m\u001b[0;34m.\u001b[0m\u001b[0mon_test_batch_begin\u001b[0m\u001b[0;34m(\u001b[0m\u001b[0mstep\u001b[0m\u001b[0;34m)\u001b[0m\u001b[0;34m\u001b[0m\u001b[0;34m\u001b[0m\u001b[0m\n\u001b[0;32m-> 1756\u001b[0;31m               \u001b[0mtmp_logs\u001b[0m \u001b[0;34m=\u001b[0m \u001b[0mself\u001b[0m\u001b[0;34m.\u001b[0m\u001b[0mtest_function\u001b[0m\u001b[0;34m(\u001b[0m\u001b[0miterator\u001b[0m\u001b[0;34m)\u001b[0m\u001b[0;34m\u001b[0m\u001b[0;34m\u001b[0m\u001b[0m\n\u001b[0m\u001b[1;32m   1757\u001b[0m               \u001b[0;32mif\u001b[0m \u001b[0mdata_handler\u001b[0m\u001b[0;34m.\u001b[0m\u001b[0mshould_sync\u001b[0m\u001b[0;34m:\u001b[0m\u001b[0;34m\u001b[0m\u001b[0;34m\u001b[0m\u001b[0m\n\u001b[1;32m   1758\u001b[0m                 \u001b[0mcontext\u001b[0m\u001b[0;34m.\u001b[0m\u001b[0masync_wait\u001b[0m\u001b[0;34m(\u001b[0m\u001b[0;34m)\u001b[0m\u001b[0;34m\u001b[0m\u001b[0;34m\u001b[0m\u001b[0m\n",
            "\u001b[0;32m/usr/local/lib/python3.7/dist-packages/tensorflow/python/util/traceback_utils.py\u001b[0m in \u001b[0;36merror_handler\u001b[0;34m(*args, **kwargs)\u001b[0m\n\u001b[1;32m    148\u001b[0m     \u001b[0mfiltered_tb\u001b[0m \u001b[0;34m=\u001b[0m \u001b[0;32mNone\u001b[0m\u001b[0;34m\u001b[0m\u001b[0;34m\u001b[0m\u001b[0m\n\u001b[1;32m    149\u001b[0m     \u001b[0;32mtry\u001b[0m\u001b[0;34m:\u001b[0m\u001b[0;34m\u001b[0m\u001b[0;34m\u001b[0m\u001b[0m\n\u001b[0;32m--> 150\u001b[0;31m       \u001b[0;32mreturn\u001b[0m \u001b[0mfn\u001b[0m\u001b[0;34m(\u001b[0m\u001b[0;34m*\u001b[0m\u001b[0margs\u001b[0m\u001b[0;34m,\u001b[0m \u001b[0;34m**\u001b[0m\u001b[0mkwargs\u001b[0m\u001b[0;34m)\u001b[0m\u001b[0;34m\u001b[0m\u001b[0;34m\u001b[0m\u001b[0m\n\u001b[0m\u001b[1;32m    151\u001b[0m     \u001b[0;32mexcept\u001b[0m \u001b[0mException\u001b[0m \u001b[0;32mas\u001b[0m \u001b[0me\u001b[0m\u001b[0;34m:\u001b[0m\u001b[0;34m\u001b[0m\u001b[0;34m\u001b[0m\u001b[0m\n\u001b[1;32m    152\u001b[0m       \u001b[0mfiltered_tb\u001b[0m \u001b[0;34m=\u001b[0m \u001b[0m_process_traceback_frames\u001b[0m\u001b[0;34m(\u001b[0m\u001b[0me\u001b[0m\u001b[0;34m.\u001b[0m\u001b[0m__traceback__\u001b[0m\u001b[0;34m)\u001b[0m\u001b[0;34m\u001b[0m\u001b[0;34m\u001b[0m\u001b[0m\n",
            "\u001b[0;32m/usr/local/lib/python3.7/dist-packages/tensorflow/python/eager/def_function.py\u001b[0m in \u001b[0;36m__call__\u001b[0;34m(self, *args, **kwds)\u001b[0m\n\u001b[1;32m    913\u001b[0m \u001b[0;34m\u001b[0m\u001b[0m\n\u001b[1;32m    914\u001b[0m       \u001b[0;32mwith\u001b[0m \u001b[0mOptionalXlaContext\u001b[0m\u001b[0;34m(\u001b[0m\u001b[0mself\u001b[0m\u001b[0;34m.\u001b[0m\u001b[0m_jit_compile\u001b[0m\u001b[0;34m)\u001b[0m\u001b[0;34m:\u001b[0m\u001b[0;34m\u001b[0m\u001b[0;34m\u001b[0m\u001b[0m\n\u001b[0;32m--> 915\u001b[0;31m         \u001b[0mresult\u001b[0m \u001b[0;34m=\u001b[0m \u001b[0mself\u001b[0m\u001b[0;34m.\u001b[0m\u001b[0m_call\u001b[0m\u001b[0;34m(\u001b[0m\u001b[0;34m*\u001b[0m\u001b[0margs\u001b[0m\u001b[0;34m,\u001b[0m \u001b[0;34m**\u001b[0m\u001b[0mkwds\u001b[0m\u001b[0;34m)\u001b[0m\u001b[0;34m\u001b[0m\u001b[0;34m\u001b[0m\u001b[0m\n\u001b[0m\u001b[1;32m    916\u001b[0m \u001b[0;34m\u001b[0m\u001b[0m\n\u001b[1;32m    917\u001b[0m       \u001b[0mnew_tracing_count\u001b[0m \u001b[0;34m=\u001b[0m \u001b[0mself\u001b[0m\u001b[0;34m.\u001b[0m\u001b[0mexperimental_get_tracing_count\u001b[0m\u001b[0;34m(\u001b[0m\u001b[0;34m)\u001b[0m\u001b[0;34m\u001b[0m\u001b[0;34m\u001b[0m\u001b[0m\n",
            "\u001b[0;32m/usr/local/lib/python3.7/dist-packages/tensorflow/python/eager/def_function.py\u001b[0m in \u001b[0;36m_call\u001b[0;34m(self, *args, **kwds)\u001b[0m\n\u001b[1;32m    952\u001b[0m       \u001b[0;31m# In this case we have not created variables on the first call. So we can\u001b[0m\u001b[0;34m\u001b[0m\u001b[0;34m\u001b[0m\u001b[0;34m\u001b[0m\u001b[0m\n\u001b[1;32m    953\u001b[0m       \u001b[0;31m# run the first trace but we should fail if variables are created.\u001b[0m\u001b[0;34m\u001b[0m\u001b[0;34m\u001b[0m\u001b[0;34m\u001b[0m\u001b[0m\n\u001b[0;32m--> 954\u001b[0;31m       \u001b[0mresults\u001b[0m \u001b[0;34m=\u001b[0m \u001b[0mself\u001b[0m\u001b[0;34m.\u001b[0m\u001b[0m_stateful_fn\u001b[0m\u001b[0;34m(\u001b[0m\u001b[0;34m*\u001b[0m\u001b[0margs\u001b[0m\u001b[0;34m,\u001b[0m \u001b[0;34m**\u001b[0m\u001b[0mkwds\u001b[0m\u001b[0;34m)\u001b[0m\u001b[0;34m\u001b[0m\u001b[0;34m\u001b[0m\u001b[0m\n\u001b[0m\u001b[1;32m    955\u001b[0m       \u001b[0;32mif\u001b[0m \u001b[0mself\u001b[0m\u001b[0;34m.\u001b[0m\u001b[0m_created_variables\u001b[0m \u001b[0;32mand\u001b[0m \u001b[0;32mnot\u001b[0m \u001b[0mALLOW_DYNAMIC_VARIABLE_CREATION\u001b[0m\u001b[0;34m:\u001b[0m\u001b[0;34m\u001b[0m\u001b[0;34m\u001b[0m\u001b[0m\n\u001b[1;32m    956\u001b[0m         raise ValueError(\"Creating variables on a non-first call to a function\"\n",
            "\u001b[0;32m/usr/local/lib/python3.7/dist-packages/tensorflow/python/eager/function.py\u001b[0m in \u001b[0;36m__call__\u001b[0;34m(self, *args, **kwargs)\u001b[0m\n\u001b[1;32m   2452\u001b[0m        filtered_flat_args) = self._maybe_define_function(args, kwargs)\n\u001b[1;32m   2453\u001b[0m     return graph_function._call_flat(\n\u001b[0;32m-> 2454\u001b[0;31m         filtered_flat_args, captured_inputs=graph_function.captured_inputs)  # pylint: disable=protected-access\n\u001b[0m\u001b[1;32m   2455\u001b[0m \u001b[0;34m\u001b[0m\u001b[0m\n\u001b[1;32m   2456\u001b[0m   \u001b[0;34m@\u001b[0m\u001b[0mproperty\u001b[0m\u001b[0;34m\u001b[0m\u001b[0;34m\u001b[0m\u001b[0m\n",
            "\u001b[0;32m/usr/local/lib/python3.7/dist-packages/tensorflow/python/eager/function.py\u001b[0m in \u001b[0;36m_call_flat\u001b[0;34m(self, args, captured_inputs, cancellation_manager)\u001b[0m\n\u001b[1;32m   1859\u001b[0m       \u001b[0;31m# No tape is watching; skip to running the function.\u001b[0m\u001b[0;34m\u001b[0m\u001b[0;34m\u001b[0m\u001b[0;34m\u001b[0m\u001b[0m\n\u001b[1;32m   1860\u001b[0m       return self._build_call_outputs(self._inference_function.call(\n\u001b[0;32m-> 1861\u001b[0;31m           ctx, args, cancellation_manager=cancellation_manager))\n\u001b[0m\u001b[1;32m   1862\u001b[0m     forward_backward = self._select_forward_and_backward_functions(\n\u001b[1;32m   1863\u001b[0m         \u001b[0margs\u001b[0m\u001b[0;34m,\u001b[0m\u001b[0;34m\u001b[0m\u001b[0;34m\u001b[0m\u001b[0m\n",
            "\u001b[0;32m/usr/local/lib/python3.7/dist-packages/tensorflow/python/eager/function.py\u001b[0m in \u001b[0;36mcall\u001b[0;34m(self, ctx, args, cancellation_manager)\u001b[0m\n\u001b[1;32m    500\u001b[0m               \u001b[0minputs\u001b[0m\u001b[0;34m=\u001b[0m\u001b[0margs\u001b[0m\u001b[0;34m,\u001b[0m\u001b[0;34m\u001b[0m\u001b[0;34m\u001b[0m\u001b[0m\n\u001b[1;32m    501\u001b[0m               \u001b[0mattrs\u001b[0m\u001b[0;34m=\u001b[0m\u001b[0mattrs\u001b[0m\u001b[0;34m,\u001b[0m\u001b[0;34m\u001b[0m\u001b[0;34m\u001b[0m\u001b[0m\n\u001b[0;32m--> 502\u001b[0;31m               ctx=ctx)\n\u001b[0m\u001b[1;32m    503\u001b[0m         \u001b[0;32melse\u001b[0m\u001b[0;34m:\u001b[0m\u001b[0;34m\u001b[0m\u001b[0;34m\u001b[0m\u001b[0m\n\u001b[1;32m    504\u001b[0m           outputs = execute.execute_with_cancellation(\n",
            "\u001b[0;32m/usr/local/lib/python3.7/dist-packages/tensorflow/python/eager/execute.py\u001b[0m in \u001b[0;36mquick_execute\u001b[0;34m(op_name, num_outputs, inputs, attrs, ctx, name)\u001b[0m\n\u001b[1;32m     53\u001b[0m     \u001b[0mctx\u001b[0m\u001b[0;34m.\u001b[0m\u001b[0mensure_initialized\u001b[0m\u001b[0;34m(\u001b[0m\u001b[0;34m)\u001b[0m\u001b[0;34m\u001b[0m\u001b[0;34m\u001b[0m\u001b[0m\n\u001b[1;32m     54\u001b[0m     tensors = pywrap_tfe.TFE_Py_Execute(ctx._handle, device_name, op_name,\n\u001b[0;32m---> 55\u001b[0;31m                                         inputs, attrs, num_outputs)\n\u001b[0m\u001b[1;32m     56\u001b[0m   \u001b[0;32mexcept\u001b[0m \u001b[0mcore\u001b[0m\u001b[0;34m.\u001b[0m\u001b[0m_NotOkStatusException\u001b[0m \u001b[0;32mas\u001b[0m \u001b[0me\u001b[0m\u001b[0;34m:\u001b[0m\u001b[0;34m\u001b[0m\u001b[0;34m\u001b[0m\u001b[0m\n\u001b[1;32m     57\u001b[0m     \u001b[0;32mif\u001b[0m \u001b[0mname\u001b[0m \u001b[0;32mis\u001b[0m \u001b[0;32mnot\u001b[0m \u001b[0;32mNone\u001b[0m\u001b[0;34m:\u001b[0m\u001b[0;34m\u001b[0m\u001b[0;34m\u001b[0m\u001b[0m\n",
            "\u001b[0;31mKeyboardInterrupt\u001b[0m: "
          ]
        }
      ]
    },
    {
      "cell_type": "markdown",
      "source": [
        "4th try:"
      ],
      "metadata": {
        "id": "BNX5s6IQfrMp"
      }
    },
    {
      "cell_type": "code",
      "source": [
        "model = compile_model(model, lr=0.0000001)"
      ],
      "metadata": {
        "id": "IziRNUIoYnlH"
      },
      "execution_count": 90,
      "outputs": []
    },
    {
      "cell_type": "code",
      "source": [
        "model = train_model(model, epochs=10000, patience=50)"
      ],
      "metadata": {
        "colab": {
          "base_uri": "https://localhost:8080/"
        },
        "id": "y5b_0VnkfuX-",
        "outputId": "777886f6-984c-4507-f335-acc65e199398"
      },
      "execution_count": 91,
      "outputs": [
        {
          "output_type": "stream",
          "name": "stdout",
          "text": [
            "Epoch 1/10000\n",
            "40/40 [==============================] - 17s 403ms/step - loss: 14.7489 - accuracy: 0.5195 - val_loss: 0.8160 - val_accuracy: 0.5894\n",
            "Epoch 2/10000\n",
            "40/40 [==============================] - 16s 401ms/step - loss: 14.0070 - accuracy: 0.5552 - val_loss: 0.7899 - val_accuracy: 0.6056\n",
            "Epoch 3/10000\n",
            "40/40 [==============================] - 16s 397ms/step - loss: 13.3045 - accuracy: 0.5859 - val_loss: 0.7658 - val_accuracy: 0.6352\n",
            "Epoch 4/10000\n",
            "40/40 [==============================] - 16s 394ms/step - loss: 12.6425 - accuracy: 0.6174 - val_loss: 0.7436 - val_accuracy: 0.6617\n",
            "Epoch 5/10000\n",
            "40/40 [==============================] - 16s 394ms/step - loss: 12.0169 - accuracy: 0.6532 - val_loss: 0.7233 - val_accuracy: 0.6750\n",
            "Epoch 6/10000\n",
            "40/40 [==============================] - 16s 395ms/step - loss: 11.4329 - accuracy: 0.6850 - val_loss: 0.7044 - val_accuracy: 0.6957\n",
            "Epoch 7/10000\n",
            "40/40 [==============================] - 16s 402ms/step - loss: 10.8791 - accuracy: 0.7114 - val_loss: 0.6873 - val_accuracy: 0.7194\n",
            "Epoch 8/10000\n",
            "40/40 [==============================] - 16s 393ms/step - loss: 10.3651 - accuracy: 0.7342 - val_loss: 0.6717 - val_accuracy: 0.7267\n",
            "Epoch 9/10000\n",
            "40/40 [==============================] - 16s 397ms/step - loss: 9.8795 - accuracy: 0.7530 - val_loss: 0.6576 - val_accuracy: 0.7430\n",
            "Epoch 10/10000\n",
            "40/40 [==============================] - 16s 395ms/step - loss: 9.4247 - accuracy: 0.7747 - val_loss: 0.6446 - val_accuracy: 0.7578\n",
            "Epoch 11/10000\n",
            "40/40 [==============================] - 16s 394ms/step - loss: 8.9991 - accuracy: 0.7924 - val_loss: 0.6329 - val_accuracy: 0.7696\n",
            "Epoch 12/10000\n",
            "40/40 [==============================] - 16s 395ms/step - loss: 8.6007 - accuracy: 0.8093 - val_loss: 0.6223 - val_accuracy: 0.7725\n",
            "Epoch 13/10000\n",
            "40/40 [==============================] - 16s 392ms/step - loss: 8.2291 - accuracy: 0.8242 - val_loss: 0.6129 - val_accuracy: 0.7784\n",
            "Epoch 14/10000\n",
            "40/40 [==============================] - 16s 400ms/step - loss: 7.8810 - accuracy: 0.8317 - val_loss: 0.6044 - val_accuracy: 0.7888\n",
            "Epoch 15/10000\n",
            "40/40 [==============================] - 16s 393ms/step - loss: 7.5569 - accuracy: 0.8407 - val_loss: 0.5968 - val_accuracy: 0.7932\n",
            "Epoch 16/10000\n",
            "40/40 [==============================] - 16s 393ms/step - loss: 7.2534 - accuracy: 0.8490 - val_loss: 0.5901 - val_accuracy: 0.8006\n",
            "Epoch 17/10000\n",
            "40/40 [==============================] - 16s 401ms/step - loss: 6.9686 - accuracy: 0.8525 - val_loss: 0.5842 - val_accuracy: 0.8050\n",
            "Epoch 18/10000\n",
            "40/40 [==============================] - 16s 393ms/step - loss: 6.7036 - accuracy: 0.8565 - val_loss: 0.5791 - val_accuracy: 0.8050\n",
            "Epoch 19/10000\n",
            "40/40 [==============================] - 16s 394ms/step - loss: 6.4570 - accuracy: 0.8624 - val_loss: 0.5745 - val_accuracy: 0.8080\n",
            "Epoch 20/10000\n",
            "40/40 [==============================] - 16s 404ms/step - loss: 6.2263 - accuracy: 0.8675 - val_loss: 0.5706 - val_accuracy: 0.8109\n",
            "Epoch 21/10000\n",
            "40/40 [==============================] - 16s 394ms/step - loss: 6.0121 - accuracy: 0.8683 - val_loss: 0.5673 - val_accuracy: 0.8154\n",
            "Epoch 22/10000\n",
            "40/40 [==============================] - 16s 392ms/step - loss: 5.8106 - accuracy: 0.8738 - val_loss: 0.5645 - val_accuracy: 0.8183\n",
            "Epoch 23/10000\n",
            "40/40 [==============================] - 16s 398ms/step - loss: 5.6226 - accuracy: 0.8753 - val_loss: 0.5621 - val_accuracy: 0.8198\n",
            "Epoch 24/10000\n",
            "40/40 [==============================] - 16s 400ms/step - loss: 5.4482 - accuracy: 0.8753 - val_loss: 0.5602 - val_accuracy: 0.8213\n",
            "Epoch 25/10000\n",
            "40/40 [==============================] - 16s 394ms/step - loss: 5.2849 - accuracy: 0.8734 - val_loss: 0.5587 - val_accuracy: 0.8257\n",
            "Epoch 26/10000\n",
            "40/40 [==============================] - 16s 393ms/step - loss: 5.1324 - accuracy: 0.8722 - val_loss: 0.5576 - val_accuracy: 0.8272\n",
            "Epoch 27/10000\n",
            "40/40 [==============================] - 16s 397ms/step - loss: 4.9906 - accuracy: 0.8722 - val_loss: 0.5567 - val_accuracy: 0.8287\n",
            "Epoch 28/10000\n",
            "40/40 [==============================] - 16s 396ms/step - loss: 4.8571 - accuracy: 0.8726 - val_loss: 0.5562 - val_accuracy: 0.8272\n",
            "Epoch 29/10000\n",
            "40/40 [==============================] - 16s 394ms/step - loss: 4.7333 - accuracy: 0.8726 - val_loss: 0.5560 - val_accuracy: 0.8257\n",
            "Epoch 30/10000\n",
            "40/40 [==============================] - 16s 395ms/step - loss: 4.6174 - accuracy: 0.8730 - val_loss: 0.5560 - val_accuracy: 0.8242\n",
            "Epoch 31/10000\n",
            "40/40 [==============================] - 16s 396ms/step - loss: 4.5099 - accuracy: 0.8722 - val_loss: 0.5562 - val_accuracy: 0.8242\n",
            "Epoch 32/10000\n",
            "40/40 [==============================] - 16s 393ms/step - loss: 4.4084 - accuracy: 0.8718 - val_loss: 0.5567 - val_accuracy: 0.8242\n",
            "Epoch 33/10000\n",
            "40/40 [==============================] - 16s 392ms/step - loss: 4.3140 - accuracy: 0.8710 - val_loss: 0.5573 - val_accuracy: 0.8242\n",
            "Epoch 34/10000\n",
            "40/40 [==============================] - 16s 394ms/step - loss: 4.2259 - accuracy: 0.8710 - val_loss: 0.5581 - val_accuracy: 0.8257\n",
            "Epoch 35/10000\n",
            "40/40 [==============================] - 18s 435ms/step - loss: 4.1437 - accuracy: 0.8702 - val_loss: 0.5591 - val_accuracy: 0.8257\n",
            "Epoch 36/10000\n",
            "40/40 [==============================] - 16s 395ms/step - loss: 4.0677 - accuracy: 0.8698 - val_loss: 0.5603 - val_accuracy: 0.8272\n",
            "Epoch 37/10000\n",
            "40/40 [==============================] - 16s 393ms/step - loss: 3.9955 - accuracy: 0.8675 - val_loss: 0.5615 - val_accuracy: 0.8272\n",
            "Epoch 38/10000\n",
            "40/40 [==============================] - 16s 398ms/step - loss: 3.9281 - accuracy: 0.8667 - val_loss: 0.5628 - val_accuracy: 0.8272\n",
            "Epoch 39/10000\n",
            "40/40 [==============================] - 16s 392ms/step - loss: 3.8656 - accuracy: 0.8651 - val_loss: 0.5643 - val_accuracy: 0.8272\n",
            "Epoch 40/10000\n",
            "40/40 [==============================] - 16s 391ms/step - loss: 3.8071 - accuracy: 0.8620 - val_loss: 0.5658 - val_accuracy: 0.8272\n",
            "Epoch 41/10000\n",
            "40/40 [==============================] - 16s 395ms/step - loss: 3.7523 - accuracy: 0.8592 - val_loss: 0.5674 - val_accuracy: 0.8272\n",
            "Epoch 42/10000\n",
            "40/40 [==============================] - 16s 395ms/step - loss: 3.7011 - accuracy: 0.8569 - val_loss: 0.5691 - val_accuracy: 0.8272\n",
            "Epoch 43/10000\n",
            "40/40 [==============================] - 16s 399ms/step - loss: 3.6530 - accuracy: 0.8557 - val_loss: 0.5708 - val_accuracy: 0.8272\n",
            "Epoch 44/10000\n",
            "40/40 [==============================] - 16s 391ms/step - loss: 3.6084 - accuracy: 0.8541 - val_loss: 0.5726 - val_accuracy: 0.8272\n",
            "Epoch 45/10000\n",
            "40/40 [==============================] - 16s 394ms/step - loss: 3.5665 - accuracy: 0.8529 - val_loss: 0.5744 - val_accuracy: 0.8272\n",
            "Epoch 46/10000\n",
            "40/40 [==============================] - 16s 397ms/step - loss: 3.5273 - accuracy: 0.8514 - val_loss: 0.5763 - val_accuracy: 0.8272\n",
            "Epoch 47/10000\n",
            "40/40 [==============================] - 16s 400ms/step - loss: 3.4907 - accuracy: 0.8506 - val_loss: 0.5781 - val_accuracy: 0.8287\n",
            "Epoch 48/10000\n",
            "40/40 [==============================] - 16s 391ms/step - loss: 3.4567 - accuracy: 0.8494 - val_loss: 0.5800 - val_accuracy: 0.8287\n",
            "Epoch 49/10000\n",
            "40/40 [==============================] - 16s 397ms/step - loss: 3.4249 - accuracy: 0.8478 - val_loss: 0.5820 - val_accuracy: 0.8287\n",
            "Epoch 50/10000\n",
            "40/40 [==============================] - 16s 393ms/step - loss: 3.3949 - accuracy: 0.8459 - val_loss: 0.5839 - val_accuracy: 0.8301\n",
            "Epoch 51/10000\n",
            "40/40 [==============================] - 16s 395ms/step - loss: 3.3671 - accuracy: 0.8455 - val_loss: 0.5858 - val_accuracy: 0.8301\n",
            "Epoch 52/10000\n",
            "40/40 [==============================] - 16s 394ms/step - loss: 3.3414 - accuracy: 0.8443 - val_loss: 0.5878 - val_accuracy: 0.8301\n",
            "Epoch 53/10000\n",
            "40/40 [==============================] - 16s 394ms/step - loss: 3.3171 - accuracy: 0.8435 - val_loss: 0.5897 - val_accuracy: 0.8301\n",
            "Epoch 54/10000\n",
            "40/40 [==============================] - 16s 399ms/step - loss: 3.2946 - accuracy: 0.8419 - val_loss: 0.5916 - val_accuracy: 0.8301\n",
            "Epoch 55/10000\n",
            "40/40 [==============================] - 16s 392ms/step - loss: 3.2737 - accuracy: 0.8415 - val_loss: 0.5936 - val_accuracy: 0.8301\n",
            "Epoch 56/10000\n",
            "40/40 [==============================] - 16s 393ms/step - loss: 3.2539 - accuracy: 0.8411 - val_loss: 0.5955 - val_accuracy: 0.8287\n",
            "Epoch 57/10000\n",
            "40/40 [==============================] - 16s 397ms/step - loss: 3.2356 - accuracy: 0.8411 - val_loss: 0.5974 - val_accuracy: 0.8287\n",
            "Epoch 58/10000\n",
            "40/40 [==============================] - 16s 393ms/step - loss: 3.2187 - accuracy: 0.8411 - val_loss: 0.5993 - val_accuracy: 0.8287\n",
            "Epoch 59/10000\n",
            "40/40 [==============================] - 16s 392ms/step - loss: 3.2028 - accuracy: 0.8411 - val_loss: 0.6011 - val_accuracy: 0.8287\n",
            "Epoch 60/10000\n",
            "40/40 [==============================] - 16s 395ms/step - loss: 3.1882 - accuracy: 0.8407 - val_loss: 0.6030 - val_accuracy: 0.8287\n",
            "Epoch 61/10000\n",
            "40/40 [==============================] - 16s 396ms/step - loss: 3.1744 - accuracy: 0.8403 - val_loss: 0.6048 - val_accuracy: 0.8287\n",
            "Epoch 62/10000\n",
            "40/40 [==============================] - 16s 392ms/step - loss: 3.1617 - accuracy: 0.8392 - val_loss: 0.6066 - val_accuracy: 0.8287\n",
            "Epoch 63/10000\n",
            "40/40 [==============================] - 16s 394ms/step - loss: 3.1497 - accuracy: 0.8388 - val_loss: 0.6084 - val_accuracy: 0.8287\n",
            "Epoch 64/10000\n",
            "40/40 [==============================] - 16s 393ms/step - loss: 3.1390 - accuracy: 0.8376 - val_loss: 0.6103 - val_accuracy: 0.8287\n",
            "Epoch 65/10000\n",
            "40/40 [==============================] - 16s 392ms/step - loss: 3.1285 - accuracy: 0.8376 - val_loss: 0.6119 - val_accuracy: 0.8287\n",
            "Epoch 66/10000\n",
            "40/40 [==============================] - 16s 393ms/step - loss: 3.1191 - accuracy: 0.8368 - val_loss: 0.6136 - val_accuracy: 0.8287\n",
            "Epoch 67/10000\n",
            "40/40 [==============================] - 16s 394ms/step - loss: 3.1105 - accuracy: 0.8368 - val_loss: 0.6154 - val_accuracy: 0.8287\n",
            "Epoch 68/10000\n",
            "40/40 [==============================] - 16s 394ms/step - loss: 3.1022 - accuracy: 0.8352 - val_loss: 0.6170 - val_accuracy: 0.8287\n",
            "Epoch 69/10000\n",
            "40/40 [==============================] - 16s 395ms/step - loss: 3.0946 - accuracy: 0.8352 - val_loss: 0.6186 - val_accuracy: 0.8287\n",
            "Epoch 70/10000\n",
            "40/40 [==============================] - 16s 392ms/step - loss: 3.0875 - accuracy: 0.8352 - val_loss: 0.6201 - val_accuracy: 0.8287\n",
            "Epoch 71/10000\n",
            "40/40 [==============================] - 16s 396ms/step - loss: 3.0810 - accuracy: 0.8352 - val_loss: 0.6216 - val_accuracy: 0.8287\n",
            "Epoch 72/10000\n",
            "40/40 [==============================] - 16s 396ms/step - loss: 3.0750 - accuracy: 0.8337 - val_loss: 0.6231 - val_accuracy: 0.8287\n",
            "Epoch 73/10000\n",
            "40/40 [==============================] - 16s 394ms/step - loss: 3.0695 - accuracy: 0.8337 - val_loss: 0.6247 - val_accuracy: 0.8287\n",
            "Epoch 74/10000\n",
            "40/40 [==============================] - 16s 394ms/step - loss: 3.0642 - accuracy: 0.8337 - val_loss: 0.6260 - val_accuracy: 0.8287\n",
            "Epoch 75/10000\n",
            "40/40 [==============================] - 16s 395ms/step - loss: 3.0596 - accuracy: 0.8337 - val_loss: 0.6274 - val_accuracy: 0.8287\n",
            "Epoch 76/10000\n",
            "40/40 [==============================] - 16s 393ms/step - loss: 3.0553 - accuracy: 0.8333 - val_loss: 0.6288 - val_accuracy: 0.8287\n",
            "Epoch 77/10000\n",
            "40/40 [==============================] - 16s 392ms/step - loss: 3.0511 - accuracy: 0.8333 - val_loss: 0.6301 - val_accuracy: 0.8287\n",
            "Epoch 78/10000\n",
            "40/40 [==============================] - 16s 393ms/step - loss: 3.0474 - accuracy: 0.8325 - val_loss: 0.6313 - val_accuracy: 0.8287\n",
            "Epoch 79/10000\n",
            "40/40 [==============================] - 16s 394ms/step - loss: 3.0440 - accuracy: 0.8321 - val_loss: 0.6325 - val_accuracy: 0.8287\n"
          ]
        }
      ]
    },
    {
      "cell_type": "code",
      "source": [],
      "metadata": {
        "id": "VThSuFGlfytT"
      },
      "execution_count": null,
      "outputs": []
    }
  ]
}