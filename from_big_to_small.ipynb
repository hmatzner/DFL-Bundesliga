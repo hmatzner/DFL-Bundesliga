{
  "nbformat": 4,
  "nbformat_minor": 0,
  "metadata": {
    "colab": {
      "provenance": []
    },
    "kernelspec": {
      "name": "python3",
      "display_name": "Python 3"
    },
    "language_info": {
      "name": "python"
    }
  },
  "cells": [
    {
      "cell_type": "markdown",
      "source": [
        "## Setup"
      ],
      "metadata": {
        "id": "TSD2IAAnU3Z2"
      }
    },
    {
      "cell_type": "code",
      "execution_count": 1,
      "metadata": {
        "id": "W-JMrk7uUwPO"
      },
      "outputs": [],
      "source": [
        "import sys\n",
        "import os\n",
        "import glob\n",
        "import numpy as np\n",
        "import matplotlib.pyplot as plt\n",
        "import cv2\n",
        "from scipy import spatial\n",
        "from scipy.spatial.distance import cdist\n",
        "from google.colab.patches import cv2_imshow"
      ]
    },
    {
      "cell_type": "code",
      "source": [
        "from google.colab import drive\n",
        "drive.mount('/content/drive')"
      ],
      "metadata": {
        "colab": {
          "base_uri": "https://localhost:8080/"
        },
        "id": "7BgBuv8oU6X3",
        "outputId": "a5a7a3d0-f8cd-4eac-b5bb-ebd71dcb8323"
      },
      "execution_count": 2,
      "outputs": [
        {
          "output_type": "stream",
          "name": "stdout",
          "text": [
            "Mounted at /content/drive\n"
          ]
        }
      ]
    },
    {
      "cell_type": "markdown",
      "source": [
        "## Defining variables"
      ],
      "metadata": {
        "id": "OgxGdDBfVo1z"
      }
    },
    {
      "cell_type": "code",
      "source": [
        "CLASS_INDEX = 0\n",
        "X_INDEX = 1\n",
        "Y_INDEX = 2\n",
        "PERSON_CLASS = '0'\n",
        "BALL_CLASS = '32'\n",
        "X_SIZE = 1928\n",
        "Y_SIZE = 1024\n",
        "CROP_SIZE = 224 # pixels, size of crop = (CROP_SIZExCROP_SIZE)\n",
        "radius = int(CROP_SIZE / 2)\n",
        "ANY_INDEX = 0\n",
        "CONFIDENCE_INDEX = 5"
      ],
      "metadata": {
        "id": "mPxkGrYLVmj3"
      },
      "execution_count": null,
      "outputs": []
    },
    {
      "cell_type": "code",
      "source": [
        "USE_PERSONS = True\n",
        "USE_PERSONS_THRESH = 15\n",
        "FIRST_FRAME_USED = 18\n",
        "FRAMES_PER_EVENT = 35\n",
        "NUM_CLASSES = 3\n",
        "CONFIDENCE_THRESHOLD = 0.38"
      ],
      "metadata": {
        "id": "mjP-28KrjLHM"
      },
      "execution_count": null,
      "outputs": []
    },
    {
      "cell_type": "code",
      "source": [
        "POSITIVES_FOLDER = '/content/drive/MyDrive/Bundesliga/PositiveFrames/'\n",
        "FOLDER_LABELS = POSITIVES_FOLDER + 'detect/'\n",
        "FOLDER_FRAMES = POSITIVES_FOLDER + 'frames_ms2/'"
      ],
      "metadata": {
        "id": "IFKn6V_6p4D3"
      },
      "execution_count": null,
      "outputs": []
    },
    {
      "cell_type": "code",
      "source": [
        "CURRENT_FOLDER = POSITIVES_FOLDER\n",
        "os.chdir(CURRENT_FOLDER)\n",
        "! pwd"
      ],
      "metadata": {
        "colab": {
          "base_uri": "https://localhost:8080/"
        },
        "id": "qA0qXb3up4G5",
        "outputId": "59401e8c-e536-4967-c479-e9da2ac82d0c"
      },
      "execution_count": null,
      "outputs": [
        {
          "output_type": "stream",
          "name": "stdout",
          "text": [
            "/content/drive/MyDrive/Bundesliga/PositiveFrames\n"
          ]
        }
      ]
    },
    {
      "cell_type": "markdown",
      "source": [
        "## Main code:"
      ],
      "metadata": {
        "id": "YILd4Fh8KVxf"
      }
    },
    {
      "cell_type": "markdown",
      "source": [
        "Challenges' frames between tolerances are respectively: 17 yes, 1 yes, 17 yes.\n",
        "\n",
        "For play and throw-in are respectively: 9 no, 8 yes, 1 yes, 8 yes, 9 no."
      ],
      "metadata": {
        "id": "3mflgiKujPeq"
      }
    },
    {
      "cell_type": "code",
      "source": [
        "EVENTS_PER_VIDEO = {\n",
        "    '1606b0e6_0': 396,\n",
        "    '1606b0e6_1': 507, \n",
        "    'cfbe2e94_0': 305,\n",
        "    'cfbe2e94_1': 285,\n",
        "    'ecf251d4_0': 386,\n",
        "    '3c993bd2_0': 414, \n",
        "    '3c993bd2_1': 376,\n",
        "    '4ffd5986_0': 302,\n",
        "    '9a97dae4_1': 291,\n",
        "    '35bd9041_0': 411,\n",
        "    '35bd9041_1': 359,\n",
        "    '407c5a9e_1': 350,\n",
        "    }"
      ],
      "metadata": {
        "id": "_qJBcx_0Ny-w"
      },
      "execution_count": 3,
      "outputs": []
    },
    {
      "cell_type": "code",
      "source": [
        "POSITIVES_FOLDER = '/content/drive/MyDrive/Bundesliga/PositiveFrames/'\n",
        "FOLDER_LABELS = POSITIVES_FOLDER + 'detect/'\n",
        "FOLDER_FRAMES = POSITIVES_FOLDER + 'frames_ms2/'\n",
        "\n",
        "FIRST_FRAMES = FOLDER_FRAMES + '1606b0e6_0/'\n",
        "SECOND_FRAMES = FOLDER_FRAMES + '1606b0e6_1/'"
      ],
      "metadata": {
        "id": "ACyLvsBe8Dwn"
      },
      "execution_count": 4,
      "outputs": []
    },
    {
      "cell_type": "code",
      "source": [
        "os.chdir(POSITIVES_FOLDER)\n",
        "! pwd"
      ],
      "metadata": {
        "colab": {
          "base_uri": "https://localhost:8080/"
        },
        "id": "zxXCT0VyOISa",
        "outputId": "e5a4b689-11ad-48d5-853d-31ee5210d755"
      },
      "execution_count": 5,
      "outputs": [
        {
          "output_type": "stream",
          "name": "stdout",
          "text": [
            "/content/drive/MyDrive/Bundesliga/PositiveFrames\n"
          ]
        }
      ]
    },
    {
      "cell_type": "code",
      "source": [
        "videos = [video for video in EVENTS_PER_VIDEO.keys()]"
      ],
      "metadata": {
        "id": "1KvZtTO2LYRx"
      },
      "execution_count": 2,
      "outputs": []
    },
    {
      "cell_type": "markdown",
      "source": [
        "### Cropping:"
      ],
      "metadata": {
        "id": "Sig8FCWIFXqF"
      }
    },
    {
      "cell_type": "code",
      "source": [
        "ball_close_to_person = True\n",
        "ball_person_threshold = 0.065\n",
        "y_camera_threshold = 0.75"
      ],
      "metadata": {
        "id": "nvXHFkIrlLKD"
      },
      "execution_count": null,
      "outputs": []
    },
    {
      "cell_type": "code",
      "source": [
        "for video in videos:\n",
        "  ! mkdir new_crops/$video\n",
        "  for event in range(EVENTS_PER_VIDEO[video]):\n",
        "    ball = False\n",
        "    current_event_balls = list()\n",
        "    substring = f'{FOLDER_LABELS}{video}/labels/{video}_{event}_'\n",
        "    file = glob.glob(f'{substring}*.txt')[ANY_INDEX]\n",
        "    len_subs = len(substring)\n",
        "    class_ = int(file[len_subs])\n",
        "    event_id = f'{video}_{event}_{class_}'\n",
        "\n",
        "    for frame in range(FIRST_FRAME_USED, FRAMES_PER_EVENT - 2):\n",
        "      frame_id = f'{event_id}_{frame}'\n",
        "      print(frame_id)\n",
        "      label_txt = f'{frame_id}.txt'\n",
        "      with open(f'{FOLDER_LABELS}{video}/labels/{label_txt}') as f:\n",
        "        reader = f.read()\n",
        "      detections = [i.split(' ') for i in reader.split('\\n')][:-1]\n",
        "\n",
        "      for detection in detections:\n",
        "\n",
        "        if detection[CLASS_INDEX] == BALL_CLASS:\n",
        "          ball = True\n",
        "          x = int(float(detection[X_INDEX]) * X_SIZE)\n",
        "          y = int(float(detection[Y_INDEX]) * Y_SIZE)\n",
        "          ymin = max(y - radius, 0)\n",
        "          ymax = min(y + radius, Y_SIZE)\n",
        "          xmin = max(x - radius, 0)\n",
        "          xmax = min(x + radius, X_SIZE)\n",
        "\n",
        "          if ymin == 0 or y > Y_SIZE * y_camera_threshold or xmin == 0 or xmax == X_SIZE:\n",
        "            ball = False\n",
        "          \n",
        "          elif float(detection[CONFIDENCE_INDEX]) < CONFIDENCE_THRESHOLD:\n",
        "            ball = False\n",
        "\n",
        "          elif ball_close_to_person:\n",
        "            arr = np.array(detections)\n",
        "            persons = arr[arr[:, 0] == PERSON_CLASS]\n",
        "            xy_persons = persons[:, X_INDEX:Y_INDEX + 1].astype(float)\n",
        "            xy_ball = np.array(detection[X_INDEX:Y_INDEX + 1]).astype(float)\n",
        "            xy_closest_person = xy_persons[spatial.KDTree(xy_persons).query(xy_ball)[1]]\n",
        "            distance, index = spatial.KDTree(xy_persons).query(xy_ball)\n",
        "            if distance > ball_person_threshold:\n",
        "              ball = False\n",
        "\n",
        "          if ball:\n",
        "            distance_middle_screen = Y_SIZE / 2 - y\n",
        "            current_event_balls.append([frame_id, ymin, ymax, xmin, xmax])\n",
        "\n",
        "            for r in range(frame - 3, frame):\n",
        "              img = cv2.imread(f'{FOLDER_FRAMES}{video}/{event_id}_{r}.jpg')\n",
        "              cropped_image = img[ymin:ymax, xmin:xmax]\n",
        "              cv2.imwrite(f'{POSITIVES_FOLDER}new_crops/{video}/{frame_id}_{r}cropped.jpg', cropped_image)\n",
        "            break # breaks loop of detections in a single frame (so there are 3 per frame only)\n",
        "\n",
        "      if ball:      \n",
        "        break # breaks loop of frame in frames per event (so there are 3 per event only)\n",
        "\n",
        "      elif frame == FRAMES_PER_EVENT - 3:\n",
        "        frame_id = f'{event_id}_{FIRST_FRAME_USED - 1}'\n",
        "        label_txt = f'{frame_id}.txt'\n",
        "        with open(f'{FOLDER_LABELS}{video}/labels/{label_txt}') as f:\n",
        "          reader = f.read()\n",
        "        detections = [i.split(' ') for i in reader.split('\\n')][:-1]\n",
        "        arr = np.array(detections)\n",
        "        persons = arr[arr[:, 0] == '0']\n",
        "        xy_persons = persons[:, X_INDEX:Y_INDEX + 1].astype(float)\n",
        "        dists = cdist(xy_persons, xy_persons)\n",
        "        dists[dists == 0] = dists.max()\n",
        "        arg1, arg2 = np.unravel_index(dists.argmin(), dists.shape)\n",
        "        two_people = xy_persons[[arg1, arg2]]\n",
        "        frame_center = np.mean(two_people, axis=0)\n",
        "        x, y = frame_center\n",
        "        x = int(x * X_SIZE)\n",
        "        y = int(y * Y_SIZE)\n",
        "        ymin = max(y - radius, 0)\n",
        "        ymax = min(y + radius, Y_SIZE)\n",
        "        xmin = max(x - radius, 0)\n",
        "        xmax = min(x + radius, X_SIZE)        \n",
        "        \n",
        "        if ymin == 0:\n",
        "          ymax = CROP_SIZE\n",
        "        elif ymax == Y_SIZE:\n",
        "          ymin = Y_SIZE - CROP_SIZE\n",
        "        if xmin == 0:\n",
        "          xmax = CROP_SIZE\n",
        "        elif xmax == X_SIZE:\n",
        "          xmin = X_SIZE - CROP_SIZE\n",
        "\n",
        "        for r in range(FIRST_FRAME_USED - 1, FIRST_FRAME_USED + 2):\n",
        "          img = cv2.imread(f'{FOLDER_FRAMES}{video}/{event_id}_{r}.jpg')\n",
        "          cropped_image = img[ymin:ymax, xmin:xmax]\n",
        "          cv2.imwrite(f'{POSITIVES_FOLDER}new_crops/{video}/{frame_id}_{r}cropped.jpg', cropped_image)\n",
        "        break"
      ],
      "metadata": {
        "id": "r6O0c5fHDvo3"
      },
      "execution_count": 1,
      "outputs": []
    },
    {
      "cell_type": "code",
      "source": [],
      "metadata": {
        "id": "q992zCYnoJkK"
      },
      "execution_count": null,
      "outputs": []
    }
  ]
}