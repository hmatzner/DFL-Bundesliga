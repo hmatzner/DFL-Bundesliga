{
  "cells": [
    {
      "cell_type": "code",
      "execution_count": 1,
      "id": "bdd5df7c",
      "metadata": {
        "id": "bdd5df7c"
      },
      "outputs": [],
      "source": [
        "import os\n",
        "import sys\n",
        "import pandas as pd\n",
        "import numpy as np\n",
        "import matplotlib.pyplot as plt\n",
        "from sklearn.preprocessing import OneHotEncoder\n",
        "from sklearn.model_selection import train_test_split\n",
        "from sklearn.metrics import ConfusionMatrixDisplay\n",
        "from tensorflow.keras import Sequential\n",
        "from tensorflow.keras.layers import Rescaling, Conv2D, MaxPooling2D, AveragePooling2D, Flatten, Dense, Dropout, BatchNormalization\n",
        "from tensorflow.keras.callbacks import EarlyStopping\n",
        "from tensorflow.keras.models import load_model"
      ]
    },
    {
      "cell_type": "code",
      "source": [
        "from google.colab import drive\n",
        "drive.mount('/content/drive')"
      ],
      "metadata": {
        "colab": {
          "base_uri": "https://localhost:8080/"
        },
        "id": "0Qa_p6bQwIuH",
        "outputId": "366e34d8-9d9a-4627-be4c-ad32a88e8a9e"
      },
      "id": "0Qa_p6bQwIuH",
      "execution_count": 2,
      "outputs": [
        {
          "output_type": "stream",
          "name": "stdout",
          "text": [
            "Drive already mounted at /content/drive; to attempt to forcibly remount, call drive.mount(\"/content/drive\", force_remount=True).\n"
          ]
        }
      ]
    },
    {
      "cell_type": "code",
      "execution_count": 107,
      "id": "d552a9f7",
      "metadata": {
        "id": "d552a9f7"
      },
      "outputs": [],
      "source": [
        "# Defining constant variables\n",
        "DRIVE_PATH = '/content/drive/MyDrive/Bundesliga/train.csv'\n",
        "POSITIVES_FOLDER_PATH = '/content/drive/MyDrive/Bundesliga/PicsFromVids/CompressedPic/'\n",
        "NEGATIVES_FOLDER_PATH = '/content/drive/MyDrive/Bundesliga/PicsFromVids/CompressedPic/Negatives/'\n",
        "GRAY_POSITIVES_FOLDER_PATH = '/content/drive/MyDrive/Bundesliga/PicsFromVids/CompressedPic/PositiveGray/'\n",
        "GRAY_NEGATIVES_FOLDER_PATH = '/content/drive/MyDrive/Bundesliga/PicsFromVids/CompressedPic/NegativeGray/'\n",
        "TRAIN_SIZE = 0.75\n",
        "MODEL = 'AlexNet'"
      ]
    },
    {
      "cell_type": "code",
      "source": [
        "def create_df_events():\n",
        "  \"\"\"Reading DataFrame and creating one with only relevant events\"\"\"\n",
        "  df = pd.read_csv(DRIVE_PATH)\n",
        "  df_events = df[~df['event_attributes'].isna()].copy()\n",
        "  df_events.reset_index(drop=True, inplace=True)\n",
        "  return df_events"
      ],
      "metadata": {
        "id": "Rlkr7clkqqFV"
      },
      "id": "Rlkr7clkqqFV",
      "execution_count": 4,
      "outputs": []
    },
    {
      "cell_type": "code",
      "source": [
        "def create_train_test_video_ids(df_events):\n",
        "  \"\"\"Creating two arrays with which videos are either part of the train or the test data\"\"\"\n",
        "  video_ids = df_events['video_id'].unique().tolist()\n",
        "  amount_videos = len(video_ids)\n",
        "  amount_train = round(amount_videos * TRAIN_SIZE)\n",
        "  train_videos = video_ids[:amount_train]\n",
        "  test_videos = video_ids[amount_train:]\n",
        "  return video_ids, train_videos, test_videos"
      ],
      "metadata": {
        "id": "9ql9kIOqqxQR"
      },
      "id": "9ql9kIOqqxQR",
      "execution_count": 5,
      "outputs": []
    },
    {
      "cell_type": "code",
      "source": [
        "def create_X(video_ids, negatives, gray):\n",
        "  \"\"\"Creating X array with all pictures for both train and test data\"\"\"\n",
        "  X = list()\n",
        "  for video_id in video_ids:\n",
        "    if gray:\n",
        "      current_video = np.load(f'{GRAY_POSITIVES_FOLDER_PATH}{video_id}.npz')\n",
        "    else:  \n",
        "      current_video = np.load(f'{POSITIVES_FOLDER_PATH}{video_id}.npz')\n",
        "    current_video = current_video.f.arr_0\n",
        "    X.append(current_video)\n",
        "  if negatives:\n",
        "    for video_id in video_ids[:-10]:\n",
        "      if gray:\n",
        "        current_neg_video = np.load(f'{GRAY_NEGATIVES_FOLDER_PATH}{video_id}.npz')\n",
        "      else:  \n",
        "        current_neg_video = np.load(f'{NEGATIVES_FOLDER_PATH}{video_id}.npz')\n",
        "      current_neg_video = current_neg_video.f.arr_0\n",
        "      X.append(current_video)\n",
        "  X = np.concatenate(X, axis=0)\n",
        "  return X"
      ],
      "metadata": {
        "id": "_0E8PMcwqxSV"
      },
      "id": "_0E8PMcwqxSV",
      "execution_count": 106,
      "outputs": []
    },
    {
      "cell_type": "code",
      "source": [
        "def train_test_X_split(df_events, X, train_videos, test_videos):\n",
        "  \"\"\"Splitting pictures in train and test data\"\"\"\n",
        "  train_idx = df_events[df_events['video_id'].isin(train_videos)].index\n",
        "  test_idx = df_events[df_events['video_id'].isin(test_videos)].index\n",
        "  X_train = X[train_idx]\n",
        "  X_test = X[test_idx]\n",
        "  assert df_events.shape[0] == X_train.shape[0] + X_test.shape[0]\n",
        "  return X_train, X_test, train_idx, test_idx"
      ],
      "metadata": {
        "id": "HBcw2nYJqxUs"
      },
      "id": "HBcw2nYJqxUs",
      "execution_count": 7,
      "outputs": []
    },
    {
      "cell_type": "code",
      "source": [
        "def train_test_y_split(df_events, train_idx, test_idx):\n",
        "  \"\"\"Creating DataFrame of labels for both train and test data using videos ids\"\"\"\n",
        "  y_train = df_events[df_events.index.isin(train_idx)]['event'].to_frame()\n",
        "  y_test = df_events[df_events.index.isin(test_idx)]['event'].to_frame()\n",
        "  return y_train, y_test"
      ],
      "metadata": {
        "id": "Y6vx6gtDqxXD"
      },
      "id": "Y6vx6gtDqxXD",
      "execution_count": 8,
      "outputs": []
    },
    {
      "cell_type": "code",
      "source": [
        "def append_negatives(df_events, X, X_train, X_test, y_train, y_test):\n",
        "  \"\"\" \"\"\"\n",
        "  len_positives = df_events.shape[0]\n",
        "  len_X = X.shape[0]\n",
        "  len_negatives = len_X - len_positives\n",
        "\n",
        "  START_IDX_NEGATIVES = df_events.shape[0]\n",
        "  START_IDX_NEG_TEST = round(START_IDX_NEGATIVES + len_negatives * TRAIN_SIZE)\n",
        "  X_train_neg = X[START_IDX_NEGATIVES:START_IDX_NEG_TEST]\n",
        "  X_test_neg = X[START_IDX_NEG_TEST:]\n",
        "  assert len_negatives == X_train_neg.shape[0] + X_test_neg.shape[0]\n",
        "\n",
        "  X_train = np.concatenate((X_train, X_train_neg), axis=0)\n",
        "  X_test = np.concatenate((X_test, X_test_neg), axis=0)\n",
        "\n",
        "  y_train = y_train.append(pd.DataFrame({'event':['negative'] * X_train_neg.shape[0]}))\n",
        "  y_train.reset_index(drop=True, inplace=True)\n",
        "  y_test = y_test.append(pd.DataFrame({'event':['negative'] * X_test_neg.shape[0]}))\n",
        "  return X_train, X_test, y_train, y_test"
      ],
      "metadata": {
        "id": "QmIyOAAvP9g-"
      },
      "id": "QmIyOAAvP9g-",
      "execution_count": 9,
      "outputs": []
    },
    {
      "cell_type": "code",
      "source": [
        "def create_array_to_drop_for_undersampling_in_play(y_train):\n",
        "  \"\"\"Creating array of indexes to drop to perform undersampling in column 'play'\"\"\"\n",
        "  play_indexes = y_train[y_train['event'] == 'play'].index\n",
        "  assert y_train.value_counts()['play'] == len(play_indexes)\n",
        "  play_amount = y_train.value_counts()['play']\n",
        "  challenge_amount = y_train.value_counts()['challenge']\n",
        "  drop_play_indexes = np.sort(np.random.choice(a=play_indexes, \n",
        "                                              size=play_amount - challenge_amount, \n",
        "                                              replace=False))\n",
        "  assert len(drop_play_indexes) == play_amount - challenge_amount\n",
        "  return drop_play_indexes"
      ],
      "metadata": {
        "id": "HFePTN4FqxZk"
      },
      "id": "HFePTN4FqxZk",
      "execution_count": 10,
      "outputs": []
    },
    {
      "cell_type": "code",
      "source": [
        "def perform_undersampling(X_train, y_train, drop_play_indexes):\n",
        "  \"\"\"Performing undersampling in 'play' category to balance it with 'challenge'\"\"\"\n",
        "  X_train = np.delete(X_train, drop_play_indexes, axis=0) # Numpy array\n",
        "  y_train.drop(drop_play_indexes, axis=0, inplace=True) # Pandas DataFrame\n",
        "  return X_train, y_train"
      ],
      "metadata": {
        "id": "YVpNrxhfqqHh"
      },
      "id": "YVpNrxhfqqHh",
      "execution_count": 11,
      "outputs": []
    },
    {
      "cell_type": "code",
      "source": [
        "def perform_ohe(y_train, y_test):\n",
        "  \"\"\"Performing one-hot-encoding on our labels\"\"\"\n",
        "  current_feat = ['event']\n",
        "  encoder = OneHotEncoder(sparse=False, handle_unknown='ignore')\n",
        "  encoder.fit(y_train[current_feat]) # Fit and transform data\n",
        "  y_train[encoder.get_feature_names_out(list(current_feat))] = encoder.transform(y_train[current_feat])\n",
        "  y_train = y_train.drop(columns=current_feat)\n",
        "\n",
        "  encoder = OneHotEncoder(sparse=False, handle_unknown='ignore')\n",
        "  encoder.fit(y_test[current_feat]) # Fit and transform data\n",
        "  y_test[encoder.get_feature_names_out(list(current_feat))] = encoder.transform(y_test[current_feat])\n",
        "  y_test = y_test.drop(columns=current_feat)\n",
        "  return y_train, y_test"
      ],
      "metadata": {
        "id": "8EdEYJSXse1Q"
      },
      "id": "8EdEYJSXse1Q",
      "execution_count": 12,
      "outputs": []
    },
    {
      "cell_type": "code",
      "source": [
        "def train_val_split(X_train, y_train):\n",
        "  \"\"\"Split train data into train and validation sets\"\"\"\n",
        "  X_train, X_val, y_train, y_val = train_test_split(X_train, y_train, train_size=.8, random_state=0)\n",
        "  return X_train, X_val, y_train, y_val"
      ],
      "metadata": {
        "id": "r0drENxbuE3Q"
      },
      "id": "r0drENxbuE3Q",
      "execution_count": 13,
      "outputs": []
    },
    {
      "cell_type": "code",
      "source": [
        "def del_X(X):\n",
        "  \"\"\"Deleting variable to free RAM\"\"\"\n",
        "  del X"
      ],
      "metadata": {
        "id": "NuWFnkBAse3Q"
      },
      "id": "NuWFnkBAse3Q",
      "execution_count": 16,
      "outputs": []
    },
    {
      "cell_type": "code",
      "source": [
        "def preprocessing(negatives=True, undersampling=False, gray=False, free_ram=True):\n",
        "  \"\"\"Run whole pipeline before building the model\"\"\"\n",
        "  df_events = create_df_events()\n",
        "  video_ids, train_videos, test_videos = create_train_test_video_ids(df_events)\n",
        "  X = create_X(video_ids, negatives, gray)\n",
        "  X_train, X_test, train_idx, test_idx = train_test_X_split(df_events, X, train_videos, test_videos)\n",
        "  y_train, y_test = train_test_y_split(df_events, train_idx, test_idx)\n",
        "  if negatives:\n",
        "    X_train, X_test, y_train, y_test = append_negatives(df_events, X, X_train, X_test, y_train, y_test)\n",
        "  if undersampling:\n",
        "    drop_play_indexes = create_array_to_drop_for_undersampling_in_play(y_train)\n",
        "    X_train, y_train = perform_undersampling(X_train, y_train, drop_play_indexes)\n",
        "  y_train, y_test = perform_ohe(y_train, y_test)\n",
        "  X_train, X_val, y_train, y_val = train_val_split(X_train, y_train)\n",
        "  if free_ram:\n",
        "    del_X(X)\n",
        "  return X_train, X_val, X_test, y_train, y_val, y_test"
      ],
      "metadata": {
        "id": "gXoXTmzNvgO9"
      },
      "id": "gXoXTmzNvgO9",
      "execution_count": 105,
      "outputs": []
    },
    {
      "cell_type": "code",
      "source": [
        "def build_model(X_train, y_train):\n",
        "  \"\"\" \"\"\"\n",
        "  input_shape = X_train.shape[1], X_train.shape[2], X_train.shape[3]\n",
        "  num_classes = y_train.shape[1]\n",
        "\n",
        "  if MODEL == 'AlexNet':\n",
        "    model = Sequential([\n",
        "        Rescaling(1/255, \n",
        "                  input_shape=input_shape),  \n",
        "\n",
        "        Conv2D(filters=96, \n",
        "               kernel_size=(11, 11), \n",
        "               strides=(4, 4), \n",
        "               activation='relu'),\n",
        "\n",
        "        BatchNormalization(),\n",
        "\n",
        "        MaxPooling2D(pool_size=(3, 3), \n",
        "                     strides=(2, 2)),\n",
        "\n",
        "        Conv2D(filters=256, \n",
        "               kernel_size=(5, 5),\n",
        "               strides=(3, 3), # (1, 1)\n",
        "               activation='relu',\n",
        "               padding='same'),\n",
        "\n",
        "        BatchNormalization(),\n",
        "\n",
        "        MaxPooling2D(pool_size=(3, 3), \n",
        "                     strides=(2, 2)),\n",
        "\n",
        "        Conv2D(filters=384, \n",
        "               kernel_size=(3, 3),\n",
        "               strides=(2, 2), # (1, 1)\n",
        "               activation='relu',\n",
        "               padding='same'),\n",
        "\n",
        "        BatchNormalization(),\n",
        "\n",
        "        Conv2D(filters=384, \n",
        "               kernel_size=(3, 3),\n",
        "               strides=(2, 2), # (1, 1)\n",
        "               activation='relu',\n",
        "               padding='same'),\n",
        "\n",
        "        BatchNormalization(),\n",
        "\n",
        "        Conv2D(filters=256, \n",
        "               kernel_size=(3, 3),\n",
        "               strides=(1, 1), \n",
        "               activation='relu',\n",
        "               padding='same'),\n",
        "\n",
        "        BatchNormalization(),\n",
        "\n",
        "        MaxPooling2D(pool_size=(3, 3), \n",
        "                     strides=(2, 2)),\n",
        "\n",
        "        Flatten(),\n",
        "\n",
        "        Dense(256, \n",
        "              activation='relu'),\n",
        "\n",
        "        Dropout(0.5), \n",
        "\n",
        "        Dense(256, \n",
        "              activation='relu'),\n",
        "\n",
        "        Dropout(0.5), \n",
        "\n",
        "        Dense(num_classes, \n",
        "              activation='softmax')\n",
        "        ])\n",
        "\n",
        "    return model"
      ],
      "metadata": {
        "id": "V11f-06k-hN2"
      },
      "id": "V11f-06k-hN2",
      "execution_count": 121,
      "outputs": []
    },
    {
      "cell_type": "code",
      "source": [
        "def compile_model(model):\n",
        "  \"\"\" \"\"\"\n",
        "  model.compile(loss='categorical_crossentropy',\n",
        "              optimizer='adam',\n",
        "              metrics='accuracy',\n",
        "              )\n",
        "  return model"
      ],
      "metadata": {
        "id": "aOZvepLXTdnq"
      },
      "id": "aOZvepLXTdnq",
      "execution_count": 20,
      "outputs": []
    },
    {
      "cell_type": "code",
      "source": [
        "def train_model(model, X_train, y_train, X_val, y_val, epochs=100, validation_split=0.2, batch_size=16, patience=3):\n",
        "  \"\"\" \"\"\"\n",
        "  callback = EarlyStopping(monitor='val_loss',\n",
        "                         patience=patience,\n",
        "                         restore_best_weights=True\n",
        "                         )\n",
        "\n",
        "  model.fit(X_train, \n",
        "            y_train, \n",
        "            validation_data=(X_val, y_val), \n",
        "            batch_size=batch_size, \n",
        "            epochs=epochs,\n",
        "            callbacks=[callback])\n",
        "  \n",
        "  return model"
      ],
      "metadata": {
        "id": "HmzGNXkwTdpS"
      },
      "id": "HmzGNXkwTdpS",
      "execution_count": 21,
      "outputs": []
    },
    {
      "cell_type": "markdown",
      "source": [
        "## Building 2nd baseline model - with negatives and without undersampling"
      ],
      "metadata": {
        "id": "lnLdhmIlxg6m"
      },
      "id": "lnLdhmIlxg6m"
    },
    {
      "cell_type": "code",
      "source": [
        "X_train, X_val, X_test, y_train, y_val, y_test = preprocessing()"
      ],
      "metadata": {
        "id": "QTiRwYndvaMx"
      },
      "id": "QTiRwYndvaMx",
      "execution_count": 22,
      "outputs": []
    },
    {
      "cell_type": "code",
      "source": [
        "model = build_model(X_train, y_train)\n",
        "model = compile_model(model)"
      ],
      "metadata": {
        "id": "-UHADNpXTZGr"
      },
      "id": "-UHADNpXTZGr",
      "execution_count": 122,
      "outputs": []
    },
    {
      "cell_type": "code",
      "source": [
        "model.summary()"
      ],
      "metadata": {
        "colab": {
          "base_uri": "https://localhost:8080/"
        },
        "id": "LoLpJhGfgJ9D",
        "outputId": "64931991-c761-427c-a67d-ae570099c516"
      },
      "id": "LoLpJhGfgJ9D",
      "execution_count": 123,
      "outputs": [
        {
          "output_type": "stream",
          "name": "stdout",
          "text": [
            "Model: \"sequential_3\"\n",
            "_________________________________________________________________\n",
            " Layer (type)                Output Shape              Param #   \n",
            "=================================================================\n",
            " rescaling_3 (Rescaling)     (None, 480, 640, 3)       0         \n",
            "                                                                 \n",
            " conv2d_15 (Conv2D)          (None, 118, 158, 96)      34944     \n",
            "                                                                 \n",
            " batch_normalization_15 (Bat  (None, 118, 158, 96)     384       \n",
            " chNormalization)                                                \n",
            "                                                                 \n",
            " max_pooling2d_9 (MaxPooling  (None, 58, 78, 96)       0         \n",
            " 2D)                                                             \n",
            "                                                                 \n",
            " conv2d_16 (Conv2D)          (None, 20, 26, 256)       614656    \n",
            "                                                                 \n",
            " batch_normalization_16 (Bat  (None, 20, 26, 256)      1024      \n",
            " chNormalization)                                                \n",
            "                                                                 \n",
            " max_pooling2d_10 (MaxPoolin  (None, 9, 12, 256)       0         \n",
            " g2D)                                                            \n",
            "                                                                 \n",
            " conv2d_17 (Conv2D)          (None, 5, 6, 384)         885120    \n",
            "                                                                 \n",
            " batch_normalization_17 (Bat  (None, 5, 6, 384)        1536      \n",
            " chNormalization)                                                \n",
            "                                                                 \n",
            " conv2d_18 (Conv2D)          (None, 3, 3, 384)         1327488   \n",
            "                                                                 \n",
            " batch_normalization_18 (Bat  (None, 3, 3, 384)        1536      \n",
            " chNormalization)                                                \n",
            "                                                                 \n",
            " conv2d_19 (Conv2D)          (None, 3, 3, 256)         884992    \n",
            "                                                                 \n",
            " batch_normalization_19 (Bat  (None, 3, 3, 256)        1024      \n",
            " chNormalization)                                                \n",
            "                                                                 \n",
            " max_pooling2d_11 (MaxPoolin  (None, 1, 1, 256)        0         \n",
            " g2D)                                                            \n",
            "                                                                 \n",
            " flatten_3 (Flatten)         (None, 256)               0         \n",
            "                                                                 \n",
            " dense_9 (Dense)             (None, 256)               65792     \n",
            "                                                                 \n",
            " dropout_6 (Dropout)         (None, 256)               0         \n",
            "                                                                 \n",
            " dense_10 (Dense)            (None, 256)               65792     \n",
            "                                                                 \n",
            " dropout_7 (Dropout)         (None, 256)               0         \n",
            "                                                                 \n",
            " dense_11 (Dense)            (None, 3)                 771       \n",
            "                                                                 \n",
            "=================================================================\n",
            "Total params: 3,885,059\n",
            "Trainable params: 3,882,307\n",
            "Non-trainable params: 2,752\n",
            "_________________________________________________________________\n"
          ]
        }
      ]
    },
    {
      "cell_type": "code",
      "source": [
        "model = train_model(model, X_train, y_train, X_val, y_val)"
      ],
      "metadata": {
        "colab": {
          "base_uri": "https://localhost:8080/"
        },
        "id": "VZ0cUKmRTcS8",
        "outputId": "f86af6c3-30d6-447a-c42e-267557dab4d4"
      },
      "id": "VZ0cUKmRTcS8",
      "execution_count": 26,
      "outputs": [
        {
          "output_type": "stream",
          "name": "stdout",
          "text": [
            "Epoch 1/100\n",
            "200/200 [==============================] - 267s 1s/step - loss: 0.8539 - accuracy: 0.7582 - val_loss: 0.6565 - val_accuracy: 0.7691\n",
            "Epoch 2/100\n",
            "200/200 [==============================] - 273s 1s/step - loss: 0.5773 - accuracy: 0.8259 - val_loss: 0.5988 - val_accuracy: 0.7992\n",
            "Epoch 3/100\n",
            "200/200 [==============================] - 264s 1s/step - loss: 0.5380 - accuracy: 0.8385 - val_loss: 0.5365 - val_accuracy: 0.8356\n",
            "Epoch 4/100\n",
            "200/200 [==============================] - 269s 1s/step - loss: 0.5197 - accuracy: 0.8441 - val_loss: 0.6867 - val_accuracy: 0.7754\n",
            "Epoch 5/100\n",
            "200/200 [==============================] - 270s 1s/step - loss: 0.5240 - accuracy: 0.8394 - val_loss: 0.5158 - val_accuracy: 0.8407\n",
            "Epoch 6/100\n",
            "200/200 [==============================] - 272s 1s/step - loss: 0.5182 - accuracy: 0.8397 - val_loss: 0.4861 - val_accuracy: 0.8407\n",
            "Epoch 7/100\n",
            "200/200 [==============================] - 263s 1s/step - loss: 0.4842 - accuracy: 0.8450 - val_loss: 0.5073 - val_accuracy: 0.8369\n",
            "Epoch 8/100\n",
            "200/200 [==============================] - 267s 1s/step - loss: 0.5085 - accuracy: 0.8397 - val_loss: 1.1924 - val_accuracy: 0.7102\n",
            "Epoch 9/100\n",
            "200/200 [==============================] - 273s 1s/step - loss: 0.4824 - accuracy: 0.8454 - val_loss: 0.5203 - val_accuracy: 0.8407\n"
          ]
        }
      ]
    },
    {
      "cell_type": "code",
      "source": [
        "INDEX_ACCURACY = 1\n",
        "print(f'\\nAccuracy on the test set: {model.evaluate(X_test, y_test)[INDEX_ACCURACY]:.4f}')"
      ],
      "metadata": {
        "colab": {
          "base_uri": "https://localhost:8080/"
        },
        "id": "dqB_tojtTEvy",
        "outputId": "a8b4abde-4430-4f43-daed-00635cb08670"
      },
      "id": "dqB_tojtTEvy",
      "execution_count": 30,
      "outputs": [
        {
          "output_type": "stream",
          "name": "stdout",
          "text": [
            "37/37 [==============================] - 22s 590ms/step - loss: 5.6115 - accuracy: 0.5706\n",
            "\n",
            "Accuracy on the test set: 0.5706\n"
          ]
        }
      ]
    },
    {
      "cell_type": "code",
      "source": [
        "INDEX_ACCURACY = 1\n",
        "print(f'\\nAccuracy on the test set: {model.evaluate(X_train, y_train)[INDEX_ACCURACY]:.4f}')"
      ],
      "metadata": {
        "colab": {
          "base_uri": "https://localhost:8080/"
        },
        "id": "W9dpMTGRNmcg",
        "outputId": "16f8a320-b059-45a2-f29f-91797cb43911"
      },
      "id": "W9dpMTGRNmcg",
      "execution_count": 72,
      "outputs": [
        {
          "output_type": "stream",
          "name": "stdout",
          "text": [
            "100/100 [==============================] - 55s 553ms/step - loss: 0.4609 - accuracy: 0.8457\n",
            "\n",
            "Accuracy on the test set: 0.8457\n"
          ]
        }
      ]
    },
    {
      "cell_type": "code",
      "source": [
        "new_y_train = y_train.idxmax(axis=1)\\\n",
        ".replace({'event_challenge': 0, 'event_negative': 1, 'event_play': 2, 'event_throwin': 3})"
      ],
      "metadata": {
        "id": "o7lFvmG_PuSj"
      },
      "id": "o7lFvmG_PuSj",
      "execution_count": 94,
      "outputs": []
    },
    {
      "cell_type": "code",
      "source": [
        "y_pred_train = model.predict(X_train)"
      ],
      "metadata": {
        "colab": {
          "base_uri": "https://localhost:8080/"
        },
        "id": "TtpmLXeXREhX",
        "outputId": "a02ba4b9-978d-4ab7-e461-d9e4cedab21e"
      },
      "id": "TtpmLXeXREhX",
      "execution_count": 93,
      "outputs": [
        {
          "output_type": "stream",
          "name": "stdout",
          "text": [
            "100/100 [==============================] - 57s 574ms/step\n"
          ]
        }
      ]
    },
    {
      "cell_type": "code",
      "source": [
        "y_pred_train_b = [np.argmax(i, axis=0) for i in y_pred_train]"
      ],
      "metadata": {
        "id": "KBafB6mWRCKQ"
      },
      "id": "KBafB6mWRCKQ",
      "execution_count": 96,
      "outputs": []
    },
    {
      "cell_type": "code",
      "source": [
        "ConfusionMatrixDisplay.from_predictions(new_y_train, y_pred_train_b)\n",
        "plt.show()"
      ],
      "metadata": {
        "colab": {
          "base_uri": "https://localhost:8080/",
          "height": 279
        },
        "id": "r6aCC1DtQ4wj",
        "outputId": "41600230-068d-40ba-82b7-89311eb43042"
      },
      "id": "r6aCC1DtQ4wj",
      "execution_count": 97,
      "outputs": [
        {
          "output_type": "display_data",
          "data": {
            "text/plain": [
              "<Figure size 432x288 with 2 Axes>"
            ],
            "image/png": "[encoded data removed]"
          },
          "metadata": {
            "needs_background": "light"
          }
        }
      ]
    },
    {
      "cell_type": "code",
      "source": [
        "INDEX_ACCURACY = 1\n",
        "print(f'\\nAccuracy on the test set: {model.evaluate(X_test[-600:-550], y_test.iloc[-600:-550])[INDEX_ACCURACY]:.4f}')"
      ],
      "metadata": {
        "colab": {
          "base_uri": "https://localhost:8080/"
        },
        "id": "LDCF48tEMEbY",
        "outputId": "d21ba1b4-294b-41ae-e825-32aa586a41b4"
      },
      "id": "LDCF48tEMEbY",
      "execution_count": 71,
      "outputs": [
        {
          "output_type": "stream",
          "name": "stdout",
          "text": [
            "2/2 [==============================] - 1s 406ms/step - loss: 11.2187 - accuracy: 0.3000\n",
            "\n",
            "Accuracy on the test set: 0.3000\n"
          ]
        }
      ]
    },
    {
      "cell_type": "code",
      "source": [
        "np.set_printoptions(suppress=True)"
      ],
      "metadata": {
        "id": "DoR88LhP7ZIo"
      },
      "id": "DoR88LhP7ZIo",
      "execution_count": 31,
      "outputs": []
    },
    {
      "cell_type": "code",
      "source": [
        "y_pred = model.predict(X_test)\n",
        "y_pred"
      ],
      "metadata": {
        "colab": {
          "base_uri": "https://localhost:8080/"
        },
        "id": "dIyO8EJjSzPm",
        "outputId": "d4c63a03-1f94-4e7c-adcb-b551a5eaa000"
      },
      "id": "dIyO8EJjSzPm",
      "execution_count": 32,
      "outputs": [
        {
          "output_type": "stream",
          "name": "stdout",
          "text": [
            "37/37 [==============================] - 21s 552ms/step\n"
          ]
        },
        {
          "output_type": "execute_result",
          "data": {
            "text/plain": [
              "array([[0.24396832, 0.00132348, 0.65313464, 0.10157349],\n",
              "       [0.24241799, 0.00090088, 0.66107225, 0.09560883],\n",
              "       [0.23714446, 0.0020777 , 0.65617394, 0.10460388],\n",
              "       ...,\n",
              "       [0.0000006 , 0.9999986 , 0.00000073, 0.00000001],\n",
              "       [0.00000006, 0.9999997 , 0.00000006, 0.        ],\n",
              "       [0.00000028, 0.9999995 , 0.0000003 , 0.        ]], dtype=float32)"
            ]
          },
          "metadata": {},
          "execution_count": 32
        }
      ]
    },
    {
      "cell_type": "code",
      "source": [
        "y_pred_b = [np.argmax(i, axis=0) for i in y_pred]"
      ],
      "metadata": {
        "id": "H23yLZF0J9Bn"
      },
      "id": "H23yLZF0J9Bn",
      "execution_count": 46,
      "outputs": []
    },
    {
      "cell_type": "code",
      "source": [
        "INDEX_PLAY = 2\n",
        "print(f\"Checking if the model always predicts 'play' (majority class): \\n\"\n",
        "      f\"{(np.argmax(y_pred, axis=1) == INDEX_PLAY).all()}\")"
      ],
      "metadata": {
        "colab": {
          "base_uri": "https://localhost:8080/"
        },
        "id": "4tShomlLT-30",
        "outputId": "68ed475d-e0d8-4625-c73f-58a1d7e2a9e7"
      },
      "id": "4tShomlLT-30",
      "execution_count": 45,
      "outputs": [
        {
          "output_type": "stream",
          "name": "stdout",
          "text": [
            "Checking if the model always predicts 'play' (majority class): \n",
            "False\n"
          ]
        }
      ]
    },
    {
      "cell_type": "code",
      "source": [
        "import absl.logging\n",
        "absl.logging.set_verbosity(absl.logging.ERROR)"
      ],
      "metadata": {
        "id": "g2OIPRsDVabk"
      },
      "id": "g2OIPRsDVabk",
      "execution_count": 36,
      "outputs": []
    },
    {
      "cell_type": "code",
      "source": [
        "model.save('/content/drive/MyDrive/Bundesliga/Models/baseline_model_2')"
      ],
      "metadata": {
        "id": "QdBRWVU1PCfK"
      },
      "id": "QdBRWVU1PCfK",
      "execution_count": 37,
      "outputs": []
    },
    {
      "cell_type": "code",
      "source": [
        "# model = load_model('/content/drive/MyDrive/Bundesliga/Models/baseline_model_2')"
      ],
      "metadata": {
        "id": "hYrC1UyLW0CJ"
      },
      "id": "hYrC1UyLW0CJ",
      "execution_count": 97,
      "outputs": []
    },
    {
      "cell_type": "markdown",
      "source": [
        "## Building 3rd baseline model - with negatives and undersampling"
      ],
      "metadata": {
        "id": "kQmHfD6nR2Ex"
      },
      "id": "kQmHfD6nR2Ex"
    },
    {
      "cell_type": "code",
      "source": [
        "X_train, X_val, X_test, y_train, y_val, y_test = preprocessing(undersampling=True)"
      ],
      "metadata": {
        "id": "iiXYQdjBRY-e"
      },
      "id": "iiXYQdjBRY-e",
      "execution_count": 98,
      "outputs": []
    },
    {
      "cell_type": "code",
      "source": [
        "model = build_model(X_train)\n",
        "model = compile_model(model)"
      ],
      "metadata": {
        "id": "1u7l5m3jRk2P"
      },
      "id": "1u7l5m3jRk2P",
      "execution_count": 99,
      "outputs": []
    },
    {
      "cell_type": "code",
      "source": [
        "model.summary()"
      ],
      "metadata": {
        "colab": {
          "base_uri": "https://localhost:8080/"
        },
        "id": "X377LoGVRk5i",
        "outputId": "b08d7e8d-8da6-4d7c-be33-4bfa6e731b65"
      },
      "id": "X377LoGVRk5i",
      "execution_count": 100,
      "outputs": [
        {
          "output_type": "stream",
          "name": "stdout",
          "text": [
            "Model: \"sequential_1\"\n",
            "_________________________________________________________________\n",
            " Layer (type)                Output Shape              Param #   \n",
            "=================================================================\n",
            " rescaling_1 (Rescaling)     (None, 480, 640, 3)       0         \n",
            "                                                                 \n",
            " conv2d_5 (Conv2D)           (None, 118, 158, 96)      34944     \n",
            "                                                                 \n",
            " batch_normalization_5 (Batc  (None, 118, 158, 96)     384       \n",
            " hNormalization)                                                 \n",
            "                                                                 \n",
            " max_pooling2d_3 (MaxPooling  (None, 58, 78, 96)       0         \n",
            " 2D)                                                             \n",
            "                                                                 \n",
            " conv2d_6 (Conv2D)           (None, 20, 26, 256)       614656    \n",
            "                                                                 \n",
            " batch_normalization_6 (Batc  (None, 20, 26, 256)      1024      \n",
            " hNormalization)                                                 \n",
            "                                                                 \n",
            " max_pooling2d_4 (MaxPooling  (None, 9, 12, 256)       0         \n",
            " 2D)                                                             \n",
            "                                                                 \n",
            " conv2d_7 (Conv2D)           (None, 5, 6, 384)         885120    \n",
            "                                                                 \n",
            " batch_normalization_7 (Batc  (None, 5, 6, 384)        1536      \n",
            " hNormalization)                                                 \n",
            "                                                                 \n",
            " conv2d_8 (Conv2D)           (None, 3, 3, 384)         1327488   \n",
            "                                                                 \n",
            " batch_normalization_8 (Batc  (None, 3, 3, 384)        1536      \n",
            " hNormalization)                                                 \n",
            "                                                                 \n",
            " conv2d_9 (Conv2D)           (None, 3, 3, 256)         884992    \n",
            "                                                                 \n",
            " batch_normalization_9 (Batc  (None, 3, 3, 256)        1024      \n",
            " hNormalization)                                                 \n",
            "                                                                 \n",
            " max_pooling2d_5 (MaxPooling  (None, 1, 1, 256)        0         \n",
            " 2D)                                                             \n",
            "                                                                 \n",
            " flatten_1 (Flatten)         (None, 256)               0         \n",
            "                                                                 \n",
            " dense_3 (Dense)             (None, 256)               65792     \n",
            "                                                                 \n",
            " dropout_2 (Dropout)         (None, 256)               0         \n",
            "                                                                 \n",
            " dense_4 (Dense)             (None, 256)               65792     \n",
            "                                                                 \n",
            " dropout_3 (Dropout)         (None, 256)               0         \n",
            "                                                                 \n",
            " dense_5 (Dense)             (None, 4)                 1028      \n",
            "                                                                 \n",
            "=================================================================\n",
            "Total params: 3,885,316\n",
            "Trainable params: 3,882,564\n",
            "Non-trainable params: 2,752\n",
            "_________________________________________________________________\n"
          ]
        }
      ]
    },
    {
      "cell_type": "code",
      "source": [
        "model = train_model(model, X_train, y_train, X_val, y_val)"
      ],
      "metadata": {
        "colab": {
          "base_uri": "https://localhost:8080/"
        },
        "id": "mGUCtYvARk7o",
        "outputId": "b04585a4-ad04-43f1-8dab-5278d3641232"
      },
      "id": "mGUCtYvARk7o",
      "execution_count": 102,
      "outputs": [
        {
          "output_type": "stream",
          "name": "stdout",
          "text": [
            "Epoch 1/100\n",
            "85/85 [==============================] - 118s 1s/step - loss: 1.1787 - accuracy: 0.5669 - val_loss: 0.9698 - val_accuracy: 0.5396\n",
            "Epoch 2/100\n",
            "85/85 [==============================] - 117s 1s/step - loss: 0.7976 - accuracy: 0.6051 - val_loss: 0.7561 - val_accuracy: 0.6393\n",
            "Epoch 3/100\n",
            "85/85 [==============================] - 117s 1s/step - loss: 0.7192 - accuracy: 0.6235 - val_loss: 0.7234 - val_accuracy: 0.6276\n",
            "Epoch 4/100\n",
            "85/85 [==============================] - 117s 1s/step - loss: 0.6713 - accuracy: 0.6419 - val_loss: 0.6428 - val_accuracy: 0.6012\n",
            "Epoch 5/100\n",
            "85/85 [==============================] - 117s 1s/step - loss: 0.6723 - accuracy: 0.6419 - val_loss: 0.6534 - val_accuracy: 0.6452\n",
            "Epoch 6/100\n",
            "85/85 [==============================] - 112s 1s/step - loss: 0.6594 - accuracy: 0.6390 - val_loss: 0.6180 - val_accuracy: 0.6276\n",
            "Epoch 7/100\n",
            "85/85 [==============================] - 113s 1s/step - loss: 0.6585 - accuracy: 0.6551 - val_loss: 0.6326 - val_accuracy: 0.6070\n",
            "Epoch 8/100\n",
            "85/85 [==============================] - 117s 1s/step - loss: 0.7112 - accuracy: 0.6243 - val_loss: 0.6283 - val_accuracy: 0.6393\n",
            "Epoch 9/100\n",
            "85/85 [==============================] - 113s 1s/step - loss: 0.6599 - accuracy: 0.6581 - val_loss: 0.6328 - val_accuracy: 0.6569\n"
          ]
        }
      ]
    },
    {
      "cell_type": "code",
      "source": [
        "INDEX_ACCURACY = 1\n",
        "print(f'\\nAccuracy on the test set: {model.evaluate(X_test, y_test)[INDEX_ACCURACY]:.4f}')"
      ],
      "metadata": {
        "colab": {
          "base_uri": "https://localhost:8080/"
        },
        "id": "R7A6kiVcSWJH",
        "outputId": "472ddf23-017c-43b7-a570-11148bfbe765"
      },
      "id": "R7A6kiVcSWJH",
      "execution_count": 109,
      "outputs": [
        {
          "output_type": "stream",
          "name": "stdout",
          "text": [
            "37/37 [==============================] - 21s 561ms/step - loss: 4.8980 - accuracy: 0.5355\n",
            "\n",
            "Accuracy on the test set: 0.5355\n"
          ]
        }
      ]
    },
    {
      "cell_type": "code",
      "source": [
        "y_pred = model.predict(X_test)\n",
        "y_pred"
      ],
      "metadata": {
        "colab": {
          "base_uri": "https://localhost:8080/"
        },
        "id": "ROn44NbSrDAj",
        "outputId": "205e66af-f736-487b-bb2d-ae7edce9a7b5"
      },
      "id": "ROn44NbSrDAj",
      "execution_count": 110,
      "outputs": [
        {
          "output_type": "stream",
          "name": "stdout",
          "text": [
            "37/37 [==============================] - 22s 586ms/step\n"
          ]
        },
        {
          "output_type": "execute_result",
          "data": {
            "text/plain": [
              "array([[0.44273853, 0.00241926, 0.45778066, 0.09706157],\n",
              "       [0.43851388, 0.00215782, 0.46522954, 0.09409876],\n",
              "       [0.4426998 , 0.00191462, 0.46170855, 0.09367706],\n",
              "       ...,\n",
              "       [0.00000127, 0.9999965 , 0.00000192, 0.00000028],\n",
              "       [0.00000011, 0.9999997 , 0.00000016, 0.00000002],\n",
              "       [0.00001513, 0.99995625, 0.00002477, 0.00000376]], dtype=float32)"
            ]
          },
          "metadata": {},
          "execution_count": 110
        }
      ]
    },
    {
      "cell_type": "code",
      "source": [
        "INDEX_PLAY = 2\n",
        "print(f\"Checking if the model always predicts 'play' (majority class): \\n\"\n",
        "      f\"{(np.argmax(y_pred, axis=1) == INDEX_PLAY).all()}\")"
      ],
      "metadata": {
        "colab": {
          "base_uri": "https://localhost:8080/"
        },
        "id": "CwU8tmSRrDDG",
        "outputId": "671f10ea-210a-44bb-c42c-8970b8801574"
      },
      "id": "CwU8tmSRrDDG",
      "execution_count": 111,
      "outputs": [
        {
          "output_type": "stream",
          "name": "stdout",
          "text": [
            "Checking if the model always predicts 'play' (majority class): \n",
            "False\n"
          ]
        }
      ]
    },
    {
      "cell_type": "code",
      "source": [
        "new_y_train = y_train.idxmax(axis=1)\\\n",
        ".replace({'event_challenge': 0, 'event_negative': 1, 'event_play': 2, 'event_throwin': 3})\n",
        "\n",
        "y_pred_train = model.predict(X_train)\n",
        "\n",
        "y_pred_train_b = [np.argmax(i, axis=0) for i in y_pred_train]\n",
        "\n",
        "ConfusionMatrixDisplay.from_predictions(new_y_train, y_pred_train_b)\n",
        "plt.show()"
      ],
      "metadata": {
        "colab": {
          "base_uri": "https://localhost:8080/",
          "height": 297
        },
        "id": "am2KULCEXf-Q",
        "outputId": "325616d7-4f47-4c40-b0c8-d2dc32fa59d4"
      },
      "id": "am2KULCEXf-Q",
      "execution_count": 113,
      "outputs": [
        {
          "output_type": "stream",
          "name": "stdout",
          "text": [
            "43/43 [==============================] - 23s 540ms/step\n"
          ]
        },
        {
          "output_type": "display_data",
          "data": {
            "text/plain": [
              "<Figure size 432x288 with 2 Axes>"
            ],
            "image/png": "[encoded data removed]"
          },
          "metadata": {
            "needs_background": "light"
          }
        }
      ]
    },
    {
      "cell_type": "code",
      "source": [
        "model.save('/content/drive/MyDrive/Bundesliga/Models/baseline_model_3')"
      ],
      "metadata": {
        "id": "xXH-lySarDGm"
      },
      "id": "xXH-lySarDGm",
      "execution_count": 112,
      "outputs": []
    },
    {
      "cell_type": "markdown",
      "source": [
        "## Building 2nd baseline model - without negatives and without undersampling"
      ],
      "metadata": {
        "id": "KUZSECFEY2zU"
      },
      "id": "KUZSECFEY2zU"
    },
    {
      "cell_type": "code",
      "source": [
        "X_train, X_val, X_test, y_train, y_val, y_test = preprocessing(negatives=False)"
      ],
      "metadata": {
        "id": "z-3PD8O1Y1Fw"
      },
      "id": "z-3PD8O1Y1Fw",
      "execution_count": 114,
      "outputs": []
    },
    {
      "cell_type": "code",
      "source": [
        "model = build_model(X_train, y_train)\n",
        "model = compile_model(model)"
      ],
      "metadata": {
        "id": "KOlO-WC6aKkp"
      },
      "id": "KOlO-WC6aKkp",
      "execution_count": 125,
      "outputs": []
    },
    {
      "cell_type": "code",
      "source": [
        "model.summary()"
      ],
      "metadata": {
        "colab": {
          "base_uri": "https://localhost:8080/"
        },
        "id": "iqnagwpLaKns",
        "outputId": "4fc2d539-51e6-4fbb-b2c9-27e9201cad82"
      },
      "id": "iqnagwpLaKns",
      "execution_count": 126,
      "outputs": [
        {
          "output_type": "stream",
          "name": "stdout",
          "text": [
            "Model: \"sequential_4\"\n",
            "_________________________________________________________________\n",
            " Layer (type)                Output Shape              Param #   \n",
            "=================================================================\n",
            " rescaling_4 (Rescaling)     (None, 480, 640, 3)       0         \n",
            "                                                                 \n",
            " conv2d_20 (Conv2D)          (None, 118, 158, 96)      34944     \n",
            "                                                                 \n",
            " batch_normalization_20 (Bat  (None, 118, 158, 96)     384       \n",
            " chNormalization)                                                \n",
            "                                                                 \n",
            " max_pooling2d_12 (MaxPoolin  (None, 58, 78, 96)       0         \n",
            " g2D)                                                            \n",
            "                                                                 \n",
            " conv2d_21 (Conv2D)          (None, 20, 26, 256)       614656    \n",
            "                                                                 \n",
            " batch_normalization_21 (Bat  (None, 20, 26, 256)      1024      \n",
            " chNormalization)                                                \n",
            "                                                                 \n",
            " max_pooling2d_13 (MaxPoolin  (None, 9, 12, 256)       0         \n",
            " g2D)                                                            \n",
            "                                                                 \n",
            " conv2d_22 (Conv2D)          (None, 5, 6, 384)         885120    \n",
            "                                                                 \n",
            " batch_normalization_22 (Bat  (None, 5, 6, 384)        1536      \n",
            " chNormalization)                                                \n",
            "                                                                 \n",
            " conv2d_23 (Conv2D)          (None, 3, 3, 384)         1327488   \n",
            "                                                                 \n",
            " batch_normalization_23 (Bat  (None, 3, 3, 384)        1536      \n",
            " chNormalization)                                                \n",
            "                                                                 \n",
            " conv2d_24 (Conv2D)          (None, 3, 3, 256)         884992    \n",
            "                                                                 \n",
            " batch_normalization_24 (Bat  (None, 3, 3, 256)        1024      \n",
            " chNormalization)                                                \n",
            "                                                                 \n",
            " max_pooling2d_14 (MaxPoolin  (None, 1, 1, 256)        0         \n",
            " g2D)                                                            \n",
            "                                                                 \n",
            " flatten_4 (Flatten)         (None, 256)               0         \n",
            "                                                                 \n",
            " dense_12 (Dense)            (None, 256)               65792     \n",
            "                                                                 \n",
            " dropout_8 (Dropout)         (None, 256)               0         \n",
            "                                                                 \n",
            " dense_13 (Dense)            (None, 256)               65792     \n",
            "                                                                 \n",
            " dropout_9 (Dropout)         (None, 256)               0         \n",
            "                                                                 \n",
            " dense_14 (Dense)            (None, 3)                 771       \n",
            "                                                                 \n",
            "=================================================================\n",
            "Total params: 3,885,059\n",
            "Trainable params: 3,882,307\n",
            "Non-trainable params: 2,752\n",
            "_________________________________________________________________\n"
          ]
        }
      ]
    },
    {
      "cell_type": "code",
      "source": [
        "model = train_model(model, X_train, y_train, X_val, y_val)"
      ],
      "metadata": {
        "colab": {
          "base_uri": "https://localhost:8080/"
        },
        "id": "e5tsUQVcaKwu",
        "outputId": "a6942656-61b4-4979-8e5f-cdb6beb47026"
      },
      "id": "e5tsUQVcaKwu",
      "execution_count": 127,
      "outputs": [
        {
          "output_type": "stream",
          "name": "stdout",
          "text": [
            "Epoch 1/100\n",
            "171/171 [==============================] - 245s 1s/step - loss: 0.7901 - accuracy: 0.7772 - val_loss: 0.5993 - val_accuracy: 0.8211\n",
            "Epoch 2/100\n",
            "171/171 [==============================] - 229s 1s/step - loss: 0.6180 - accuracy: 0.8120 - val_loss: 0.5803 - val_accuracy: 0.8211\n",
            "Epoch 3/100\n",
            "171/171 [==============================] - 230s 1s/step - loss: 0.6191 - accuracy: 0.8117 - val_loss: 0.5602 - val_accuracy: 0.8211\n",
            "Epoch 4/100\n",
            "171/171 [==============================] - 237s 1s/step - loss: 0.5920 - accuracy: 0.8183 - val_loss: 0.5647 - val_accuracy: 0.8211\n",
            "Epoch 5/100\n",
            "171/171 [==============================] - 235s 1s/step - loss: 0.5746 - accuracy: 0.8179 - val_loss: 0.5643 - val_accuracy: 0.8211\n",
            "Epoch 6/100\n",
            "171/171 [==============================] - 230s 1s/step - loss: 0.5744 - accuracy: 0.8183 - val_loss: 0.5604 - val_accuracy: 0.8211\n"
          ]
        }
      ]
    },
    {
      "cell_type": "code",
      "source": [
        "INDEX_ACCURACY = 1\n",
        "print(f'\\nAccuracy on the test set: {model.evaluate(X_test, y_test)[INDEX_ACCURACY]:.4f}')"
      ],
      "metadata": {
        "colab": {
          "base_uri": "https://localhost:8080/"
        },
        "id": "xYTpkjvvaK3L",
        "outputId": "c30e9f37-fe91-428f-cf70-b4ad94792645"
      },
      "id": "xYTpkjvvaK3L",
      "execution_count": 128,
      "outputs": [
        {
          "output_type": "stream",
          "name": "stdout",
          "text": [
            "31/31 [==============================] - 17s 539ms/step - loss: 0.6449 - accuracy: 0.8166\n",
            "\n",
            "Accuracy on the test set: 0.8166\n"
          ]
        }
      ]
    },
    {
      "cell_type": "code",
      "source": [
        "y_test.value_counts()"
      ],
      "metadata": {
        "colab": {
          "base_uri": "https://localhost:8080/"
        },
        "id": "uHfDUQZTb5H4",
        "outputId": "1104b391-ded9-44b0-9d2d-0160785fc654"
      },
      "id": "uHfDUQZTb5H4",
      "execution_count": 129,
      "outputs": [
        {
          "output_type": "execute_result",
          "data": {
            "text/plain": [
              "event_challenge  event_play  event_throwin\n",
              "0.0              1.0         0.0              797\n",
              "1.0              0.0         0.0              119\n",
              "0.0              0.0         1.0               60\n",
              "dtype: int64"
            ]
          },
          "metadata": {},
          "execution_count": 129
        }
      ]
    },
    {
      "cell_type": "code",
      "source": [
        "new_y_test = y_test.idxmax(axis=1)\\\n",
        ".replace({'event_challenge': 0, 'event_play': 1, 'event_throwin': 2})"
      ],
      "metadata": {
        "id": "q7XjUt3vY1nB"
      },
      "id": "q7XjUt3vY1nB",
      "execution_count": 131,
      "outputs": []
    },
    {
      "cell_type": "code",
      "source": [
        "y_pred_test = model.predict(X_test)"
      ],
      "metadata": {
        "colab": {
          "base_uri": "https://localhost:8080/"
        },
        "id": "JZVP6WxjY1ub",
        "outputId": "8fb71d2e-de5d-4c0c-a8b3-7fec6d55b809"
      },
      "id": "JZVP6WxjY1ub",
      "execution_count": 132,
      "outputs": [
        {
          "output_type": "stream",
          "name": "stdout",
          "text": [
            "31/31 [==============================] - 17s 550ms/step\n"
          ]
        }
      ]
    },
    {
      "cell_type": "code",
      "source": [
        "y_pred_test"
      ],
      "metadata": {
        "colab": {
          "base_uri": "https://localhost:8080/"
        },
        "id": "VRdAtr-FhnmH",
        "outputId": "88da427f-6756-4983-9e90-cc89da96acdb"
      },
      "id": "VRdAtr-FhnmH",
      "execution_count": 136,
      "outputs": [
        {
          "output_type": "execute_result",
          "data": {
            "text/plain": [
              "array([[0.26093358, 0.69313025, 0.04593618],\n",
              "       [0.26077488, 0.69341046, 0.04581472],\n",
              "       [0.24840511, 0.71047175, 0.04112311],\n",
              "       ...,\n",
              "       [0.23234387, 0.72367144, 0.04398466],\n",
              "       [0.25015563, 0.67972046, 0.07012384],\n",
              "       [0.19188392, 0.7704469 , 0.03766916]], dtype=float32)"
            ]
          },
          "metadata": {},
          "execution_count": 136
        }
      ]
    },
    {
      "cell_type": "code",
      "source": [
        "y_pred_test_b = [np.argmax(i, axis=0) for i in y_pred_test]"
      ],
      "metadata": {
        "id": "W02GwwuLb9Yj"
      },
      "id": "W02GwwuLb9Yj",
      "execution_count": 133,
      "outputs": []
    },
    {
      "cell_type": "code",
      "source": [
        "ConfusionMatrixDisplay.from_predictions(new_y_test, y_pred_test_b)\n",
        "plt.show()"
      ],
      "metadata": {
        "colab": {
          "base_uri": "https://localhost:8080/",
          "height": 279
        },
        "id": "D0ksEZM9Y1ze",
        "outputId": "f32a93b1-48ca-4647-8fba-5e35e504dcb7"
      },
      "id": "D0ksEZM9Y1ze",
      "execution_count": 134,
      "outputs": [
        {
          "output_type": "display_data",
          "data": {
            "text/plain": [
              "<Figure size 432x288 with 2 Axes>"
            ],
            "image/png": "[encoded data removed]"
          },
          "metadata": {
            "needs_background": "light"
          }
        }
      ]
    },
    {
      "cell_type": "code",
      "source": [
        "model.save('/content/drive/MyDrive/Bundesliga/Models/model_baseline_2')"
      ],
      "metadata": {
        "id": "HRdpCYDaeYdV"
      },
      "id": "HRdpCYDaeYdV",
      "execution_count": 135,
      "outputs": []
    },
    {
      "cell_type": "markdown",
      "source": [
        "## Building 3rd baseline model - without negatives and with undersampling"
      ],
      "metadata": {
        "id": "98rqFomPY7wc"
      },
      "id": "98rqFomPY7wc"
    },
    {
      "cell_type": "code",
      "source": [
        "X_train, X_val, X_test, y_train, y_val, y_test = preprocessing(negatives=False, undersampling=True)"
      ],
      "metadata": {
        "id": "U_e9whdsY11u"
      },
      "id": "U_e9whdsY11u",
      "execution_count": 137,
      "outputs": []
    },
    {
      "cell_type": "code",
      "source": [
        "X_train.shape, X_val.shape, X_test.shape, y_train.shape, y_val.shape, y_test.shape"
      ],
      "metadata": {
        "colab": {
          "base_uri": "https://localhost:8080/"
        },
        "id": "VcDmQmJwe-s7",
        "outputId": "9d73eede-1409-430e-dc3f-7576047b703f"
      },
      "id": "VcDmQmJwe-s7",
      "execution_count": 138,
      "outputs": [
        {
          "output_type": "execute_result",
          "data": {
            "text/plain": [
              "((897, 480, 640, 3),\n",
              " (225, 480, 640, 3),\n",
              " (976, 480, 640, 3),\n",
              " (897, 3),\n",
              " (225, 3),\n",
              " (976, 3))"
            ]
          },
          "metadata": {},
          "execution_count": 138
        }
      ]
    },
    {
      "cell_type": "code",
      "source": [
        "model = build_model(X_train, y_train)\n",
        "model = compile_model(model)"
      ],
      "metadata": {
        "id": "XSM5vtPne-x3"
      },
      "id": "XSM5vtPne-x3",
      "execution_count": 140,
      "outputs": []
    },
    {
      "cell_type": "code",
      "source": [
        "model.summary()"
      ],
      "metadata": {
        "colab": {
          "base_uri": "https://localhost:8080/"
        },
        "id": "6uIrGgU_fIiK",
        "outputId": "764be42a-03f6-4d9d-f348-85357bf8459b"
      },
      "id": "6uIrGgU_fIiK",
      "execution_count": 141,
      "outputs": [
        {
          "output_type": "stream",
          "name": "stdout",
          "text": [
            "Model: \"sequential_5\"\n",
            "_________________________________________________________________\n",
            " Layer (type)                Output Shape              Param #   \n",
            "=================================================================\n",
            " rescaling_5 (Rescaling)     (None, 480, 640, 3)       0         \n",
            "                                                                 \n",
            " conv2d_25 (Conv2D)          (None, 118, 158, 96)      34944     \n",
            "                                                                 \n",
            " batch_normalization_25 (Bat  (None, 118, 158, 96)     384       \n",
            " chNormalization)                                                \n",
            "                                                                 \n",
            " max_pooling2d_15 (MaxPoolin  (None, 58, 78, 96)       0         \n",
            " g2D)                                                            \n",
            "                                                                 \n",
            " conv2d_26 (Conv2D)          (None, 20, 26, 256)       614656    \n",
            "                                                                 \n",
            " batch_normalization_26 (Bat  (None, 20, 26, 256)      1024      \n",
            " chNormalization)                                                \n",
            "                                                                 \n",
            " max_pooling2d_16 (MaxPoolin  (None, 9, 12, 256)       0         \n",
            " g2D)                                                            \n",
            "                                                                 \n",
            " conv2d_27 (Conv2D)          (None, 5, 6, 384)         885120    \n",
            "                                                                 \n",
            " batch_normalization_27 (Bat  (None, 5, 6, 384)        1536      \n",
            " chNormalization)                                                \n",
            "                                                                 \n",
            " conv2d_28 (Conv2D)          (None, 3, 3, 384)         1327488   \n",
            "                                                                 \n",
            " batch_normalization_28 (Bat  (None, 3, 3, 384)        1536      \n",
            " chNormalization)                                                \n",
            "                                                                 \n",
            " conv2d_29 (Conv2D)          (None, 3, 3, 256)         884992    \n",
            "                                                                 \n",
            " batch_normalization_29 (Bat  (None, 3, 3, 256)        1024      \n",
            " chNormalization)                                                \n",
            "                                                                 \n",
            " max_pooling2d_17 (MaxPoolin  (None, 1, 1, 256)        0         \n",
            " g2D)                                                            \n",
            "                                                                 \n",
            " flatten_5 (Flatten)         (None, 256)               0         \n",
            "                                                                 \n",
            " dense_15 (Dense)            (None, 256)               65792     \n",
            "                                                                 \n",
            " dropout_10 (Dropout)        (None, 256)               0         \n",
            "                                                                 \n",
            " dense_16 (Dense)            (None, 256)               65792     \n",
            "                                                                 \n",
            " dropout_11 (Dropout)        (None, 256)               0         \n",
            "                                                                 \n",
            " dense_17 (Dense)            (None, 3)                 771       \n",
            "                                                                 \n",
            "=================================================================\n",
            "Total params: 3,885,059\n",
            "Trainable params: 3,882,307\n",
            "Non-trainable params: 2,752\n",
            "_________________________________________________________________\n"
          ]
        }
      ]
    },
    {
      "cell_type": "code",
      "source": [
        "model = train_model(model, X_train, y_train, X_val, y_val, patience=2)"
      ],
      "metadata": {
        "colab": {
          "base_uri": "https://localhost:8080/"
        },
        "id": "OS-__UeufIlq",
        "outputId": "a5002453-4d1e-4732-9188-2a4051bc72c5"
      },
      "id": "OS-__UeufIlq",
      "execution_count": 142,
      "outputs": [
        {
          "output_type": "stream",
          "name": "stdout",
          "text": [
            "Epoch 1/100\n",
            "57/57 [==============================] - 77s 1s/step - loss: 1.6477 - accuracy: 0.4493 - val_loss: 0.9988 - val_accuracy: 0.4756\n",
            "Epoch 2/100\n",
            "57/57 [==============================] - 74s 1s/step - loss: 1.0638 - accuracy: 0.4615 - val_loss: 0.9628 - val_accuracy: 0.4711\n",
            "Epoch 3/100\n",
            "57/57 [==============================] - 82s 1s/step - loss: 1.0134 - accuracy: 0.4838 - val_loss: 0.9726 - val_accuracy: 0.4578\n",
            "Epoch 4/100\n",
            "57/57 [==============================] - 74s 1s/step - loss: 0.9931 - accuracy: 0.4504 - val_loss: 0.9841 - val_accuracy: 0.4489\n"
          ]
        }
      ]
    },
    {
      "cell_type": "code",
      "source": [
        "INDEX_ACCURACY = 1\n",
        "print(f'\\nAccuracy on the test set: {model.evaluate(X_test, y_test)[INDEX_ACCURACY]:.4f}')"
      ],
      "metadata": {
        "colab": {
          "base_uri": "https://localhost:8080/"
        },
        "id": "jzZMhA1xfIv2",
        "outputId": "6c4446ae-acaf-4ef6-96c2-079856662dda"
      },
      "id": "jzZMhA1xfIv2",
      "execution_count": 143,
      "outputs": [
        {
          "output_type": "stream",
          "name": "stdout",
          "text": [
            "31/31 [==============================] - 18s 582ms/step - loss: 0.8787 - accuracy: 0.7162\n",
            "\n",
            "Accuracy on the test set: 0.7162\n"
          ]
        }
      ]
    },
    {
      "cell_type": "code",
      "source": [
        "new_y_test = y_test.idxmax(axis=1)\\\n",
        ".replace({'event_challenge': 0, 'event_play': 1, 'event_throwin': 2})"
      ],
      "metadata": {
        "id": "cDYUrEZOe-7h"
      },
      "id": "cDYUrEZOe-7h",
      "execution_count": 149,
      "outputs": []
    },
    {
      "cell_type": "code",
      "source": [
        "y_pred_test = model.predict(X_test)"
      ],
      "metadata": {
        "colab": {
          "base_uri": "https://localhost:8080/"
        },
        "id": "0Ob10x50Y19I",
        "outputId": "eba8c755-e3cd-43f4-e578-962d6b511869"
      },
      "id": "0Ob10x50Y19I",
      "execution_count": 150,
      "outputs": [
        {
          "output_type": "stream",
          "name": "stdout",
          "text": [
            "31/31 [==============================] - 17s 541ms/step\n"
          ]
        }
      ]
    },
    {
      "cell_type": "code",
      "source": [
        "y_pred_test_b = [np.argmax(i, axis=0) for i in y_pred_test]"
      ],
      "metadata": {
        "id": "jFTO5X0MjpjF"
      },
      "id": "jFTO5X0MjpjF",
      "execution_count": 151,
      "outputs": []
    },
    {
      "cell_type": "code",
      "source": [
        "ConfusionMatrixDisplay.from_predictions(new_y_test, y_pred_test_b)\n",
        "plt.show()"
      ],
      "metadata": {
        "colab": {
          "base_uri": "https://localhost:8080/",
          "height": 279
        },
        "id": "zRSveXb0jpp2",
        "outputId": "33619810-1f65-49ce-a4d6-cd430fb1a7a1"
      },
      "id": "zRSveXb0jpp2",
      "execution_count": 152,
      "outputs": [
        {
          "output_type": "display_data",
          "data": {
            "text/plain": [
              "<Figure size 432x288 with 2 Axes>"
            ],
            "image/png": "[encoded data removed]"
          },
          "metadata": {
            "needs_background": "light"
          }
        }
      ]
    },
    {
      "cell_type": "code",
      "source": [
        "model.save('/content/drive/MyDrive/Bundesliga/Models/model_baseline_3')"
      ],
      "metadata": {
        "id": "bLREKbQUY2Gb"
      },
      "id": "bLREKbQUY2Gb",
      "execution_count": 148,
      "outputs": []
    },
    {
      "cell_type": "markdown",
      "source": [
        "## Building 5th baseline model - with gray, without negatives, and with undersampling"
      ],
      "metadata": {
        "id": "4-IU407wY_9u"
      },
      "id": "4-IU407wY_9u"
    },
    {
      "cell_type": "code",
      "source": [
        "X_train, X_val, X_test, y_train, y_val, y_test = preprocessing(negatives=False, undersampling=True, gray=True)"
      ],
      "metadata": {
        "id": "femmRVpTSWL7"
      },
      "id": "femmRVpTSWL7",
      "execution_count": 153,
      "outputs": []
    },
    {
      "cell_type": "code",
      "source": [
        "model = build_model(X_train, y_train)\n",
        "model = compile_model(model)"
      ],
      "metadata": {
        "id": "Rvn0hK_wkd3D"
      },
      "id": "Rvn0hK_wkd3D",
      "execution_count": 154,
      "outputs": []
    },
    {
      "cell_type": "code",
      "source": [
        "model.summary()"
      ],
      "metadata": {
        "colab": {
          "base_uri": "https://localhost:8080/"
        },
        "id": "uQcrX2Erkd65",
        "outputId": "ec57b939-220a-44aa-b0cb-b3d5a2364754"
      },
      "id": "uQcrX2Erkd65",
      "execution_count": 155,
      "outputs": [
        {
          "output_type": "stream",
          "name": "stdout",
          "text": [
            "Model: \"sequential_6\"\n",
            "_________________________________________________________________\n",
            " Layer (type)                Output Shape              Param #   \n",
            "=================================================================\n",
            " rescaling_6 (Rescaling)     (None, 480, 640, 3)       0         \n",
            "                                                                 \n",
            " conv2d_30 (Conv2D)          (None, 118, 158, 96)      34944     \n",
            "                                                                 \n",
            " batch_normalization_30 (Bat  (None, 118, 158, 96)     384       \n",
            " chNormalization)                                                \n",
            "                                                                 \n",
            " max_pooling2d_18 (MaxPoolin  (None, 58, 78, 96)       0         \n",
            " g2D)                                                            \n",
            "                                                                 \n",
            " conv2d_31 (Conv2D)          (None, 20, 26, 256)       614656    \n",
            "                                                                 \n",
            " batch_normalization_31 (Bat  (None, 20, 26, 256)      1024      \n",
            " chNormalization)                                                \n",
            "                                                                 \n",
            " max_pooling2d_19 (MaxPoolin  (None, 9, 12, 256)       0         \n",
            " g2D)                                                            \n",
            "                                                                 \n",
            " conv2d_32 (Conv2D)          (None, 5, 6, 384)         885120    \n",
            "                                                                 \n",
            " batch_normalization_32 (Bat  (None, 5, 6, 384)        1536      \n",
            " chNormalization)                                                \n",
            "                                                                 \n",
            " conv2d_33 (Conv2D)          (None, 3, 3, 384)         1327488   \n",
            "                                                                 \n",
            " batch_normalization_33 (Bat  (None, 3, 3, 384)        1536      \n",
            " chNormalization)                                                \n",
            "                                                                 \n",
            " conv2d_34 (Conv2D)          (None, 3, 3, 256)         884992    \n",
            "                                                                 \n",
            " batch_normalization_34 (Bat  (None, 3, 3, 256)        1024      \n",
            " chNormalization)                                                \n",
            "                                                                 \n",
            " max_pooling2d_20 (MaxPoolin  (None, 1, 1, 256)        0         \n",
            " g2D)                                                            \n",
            "                                                                 \n",
            " flatten_6 (Flatten)         (None, 256)               0         \n",
            "                                                                 \n",
            " dense_18 (Dense)            (None, 256)               65792     \n",
            "                                                                 \n",
            " dropout_12 (Dropout)        (None, 256)               0         \n",
            "                                                                 \n",
            " dense_19 (Dense)            (None, 256)               65792     \n",
            "                                                                 \n",
            " dropout_13 (Dropout)        (None, 256)               0         \n",
            "                                                                 \n",
            " dense_20 (Dense)            (None, 3)                 771       \n",
            "                                                                 \n",
            "=================================================================\n",
            "Total params: 3,885,059\n",
            "Trainable params: 3,882,307\n",
            "Non-trainable params: 2,752\n",
            "_________________________________________________________________\n"
          ]
        }
      ]
    },
    {
      "cell_type": "code",
      "source": [
        "model = train_model(model, X_train, y_train, X_val, y_val)"
      ],
      "metadata": {
        "colab": {
          "base_uri": "https://localhost:8080/"
        },
        "id": "7viRxEIGkpME",
        "outputId": "d67d5495-a7bf-4d5a-ed16-5c9a1f373625"
      },
      "id": "7viRxEIGkpME",
      "execution_count": 156,
      "outputs": [
        {
          "output_type": "stream",
          "name": "stdout",
          "text": [
            "Epoch 1/100\n",
            "57/57 [==============================] - 82s 1s/step - loss: 1.5811 - accuracy: 0.4370 - val_loss: 1.0359 - val_accuracy: 0.4089\n",
            "Epoch 2/100\n",
            "57/57 [==============================] - 78s 1s/step - loss: 1.0736 - accuracy: 0.4426 - val_loss: 0.9612 - val_accuracy: 0.4044\n",
            "Epoch 3/100\n",
            "57/57 [==============================] - 76s 1s/step - loss: 1.0217 - accuracy: 0.4448 - val_loss: 0.9185 - val_accuracy: 0.5111\n",
            "Epoch 4/100\n",
            "57/57 [==============================] - 80s 1s/step - loss: 1.0050 - accuracy: 0.4214 - val_loss: 0.9270 - val_accuracy: 0.4756\n",
            "Epoch 5/100\n",
            "57/57 [==============================] - 75s 1s/step - loss: 0.9750 - accuracy: 0.4705 - val_loss: 0.9460 - val_accuracy: 0.4356\n",
            "Epoch 6/100\n",
            "57/57 [==============================] - 75s 1s/step - loss: 0.9784 - accuracy: 0.4849 - val_loss: 0.9162 - val_accuracy: 0.4800\n",
            "Epoch 7/100\n",
            "57/57 [==============================] - 75s 1s/step - loss: 0.9818 - accuracy: 0.4627 - val_loss: 0.9482 - val_accuracy: 0.4178\n",
            "Epoch 8/100\n",
            "57/57 [==============================] - 75s 1s/step - loss: 0.9607 - accuracy: 0.4716 - val_loss: 0.9456 - val_accuracy: 0.3956\n",
            "Epoch 9/100\n",
            "57/57 [==============================] - 80s 1s/step - loss: 0.9592 - accuracy: 0.4749 - val_loss: 0.9166 - val_accuracy: 0.5156\n"
          ]
        }
      ]
    },
    {
      "cell_type": "code",
      "source": [
        "INDEX_ACCURACY = 1\n",
        "print(f'\\nAccuracy on the test set: {model.evaluate(X_test, y_test)[INDEX_ACCURACY]:.4f}')"
      ],
      "metadata": {
        "colab": {
          "base_uri": "https://localhost:8080/"
        },
        "id": "-V6fVHclkpah",
        "outputId": "dbeeb767-1aaa-46cc-81a9-34f4a54934fc"
      },
      "id": "-V6fVHclkpah",
      "execution_count": 157,
      "outputs": [
        {
          "output_type": "stream",
          "name": "stdout",
          "text": [
            "31/31 [==============================] - 17s 536ms/step - loss: 1.0528 - accuracy: 0.1445\n",
            "\n",
            "Accuracy on the test set: 0.1445\n"
          ]
        }
      ]
    },
    {
      "cell_type": "code",
      "source": [
        "new_y_test = y_test.idxmax(axis=1)\\\n",
        ".replace({'event_challenge': 0, 'event_play': 1, 'event_throwin': 2})"
      ],
      "metadata": {
        "id": "En5tpNE2kpi7"
      },
      "id": "En5tpNE2kpi7",
      "execution_count": 158,
      "outputs": []
    },
    {
      "cell_type": "code",
      "source": [
        "y_pred_test = model.predict(X_test)"
      ],
      "metadata": {
        "colab": {
          "base_uri": "https://localhost:8080/"
        },
        "id": "QMJQFBtWkeDa",
        "outputId": "85d7e10a-0686-487a-a7fe-b2847ffa7ce7"
      },
      "id": "QMJQFBtWkeDa",
      "execution_count": 159,
      "outputs": [
        {
          "output_type": "stream",
          "name": "stdout",
          "text": [
            "31/31 [==============================] - 17s 537ms/step\n"
          ]
        }
      ]
    },
    {
      "cell_type": "code",
      "source": [
        "y_pred_test_b = [np.argmax(i, axis=0) for i in y_pred_test]"
      ],
      "metadata": {
        "id": "anQ1eFF4kecR"
      },
      "id": "anQ1eFF4kecR",
      "execution_count": 160,
      "outputs": []
    },
    {
      "cell_type": "code",
      "source": [
        "ConfusionMatrixDisplay.from_predictions(new_y_test, y_pred_test_b)\n",
        "plt.show()"
      ],
      "metadata": {
        "colab": {
          "base_uri": "https://localhost:8080/",
          "height": 279
        },
        "id": "hUh3by_Fkeh7",
        "outputId": "4c715f80-5d95-4b7d-b553-c3ad6f5d346a"
      },
      "id": "hUh3by_Fkeh7",
      "execution_count": 161,
      "outputs": [
        {
          "output_type": "display_data",
          "data": {
            "text/plain": [
              "<Figure size 432x288 with 2 Axes>"
            ],
            "image/png": "[encoded data removed]"
          },
          "metadata": {
            "needs_background": "light"
          }
        }
      ]
    },
    {
      "cell_type": "code",
      "source": [
        "model.save('/content/drive/MyDrive/Bundesliga/Models/model_baseline_5')"
      ],
      "metadata": {
        "id": "y3m4XWdZSWQP"
      },
      "id": "y3m4XWdZSWQP",
      "execution_count": 164,
      "outputs": []
    },
    {
      "cell_type": "markdown",
      "source": [
        "## Building 4th baseline model - with gray, without negatives, and without undersampling"
      ],
      "metadata": {
        "id": "rXOOp-RIZP6m"
      },
      "id": "rXOOp-RIZP6m"
    },
    {
      "cell_type": "code",
      "source": [
        "X_train, X_val, X_test, y_train, y_val, y_test = preprocessing(negatives=False, gray=True)"
      ],
      "metadata": {
        "id": "RpQ2YwRBZOjG"
      },
      "id": "RpQ2YwRBZOjG",
      "execution_count": 165,
      "outputs": []
    },
    {
      "cell_type": "code",
      "source": [
        "model = build_model(X_train, y_train)\n",
        "model = compile_model(model)"
      ],
      "metadata": {
        "id": "3MaqQMl4ZOnV"
      },
      "id": "3MaqQMl4ZOnV",
      "execution_count": 166,
      "outputs": []
    },
    {
      "cell_type": "code",
      "source": [
        "model.summary()"
      ],
      "metadata": {
        "colab": {
          "base_uri": "https://localhost:8080/"
        },
        "id": "m29IM_tDaE3t",
        "outputId": "fd281150-dac2-46c2-d742-ad840a874983"
      },
      "id": "m29IM_tDaE3t",
      "execution_count": 167,
      "outputs": [
        {
          "output_type": "stream",
          "name": "stdout",
          "text": [
            "Model: \"sequential_7\"\n",
            "_________________________________________________________________\n",
            " Layer (type)                Output Shape              Param #   \n",
            "=================================================================\n",
            " rescaling_7 (Rescaling)     (None, 480, 640, 3)       0         \n",
            "                                                                 \n",
            " conv2d_35 (Conv2D)          (None, 118, 158, 96)      34944     \n",
            "                                                                 \n",
            " batch_normalization_35 (Bat  (None, 118, 158, 96)     384       \n",
            " chNormalization)                                                \n",
            "                                                                 \n",
            " max_pooling2d_21 (MaxPoolin  (None, 58, 78, 96)       0         \n",
            " g2D)                                                            \n",
            "                                                                 \n",
            " conv2d_36 (Conv2D)          (None, 20, 26, 256)       614656    \n",
            "                                                                 \n",
            " batch_normalization_36 (Bat  (None, 20, 26, 256)      1024      \n",
            " chNormalization)                                                \n",
            "                                                                 \n",
            " max_pooling2d_22 (MaxPoolin  (None, 9, 12, 256)       0         \n",
            " g2D)                                                            \n",
            "                                                                 \n",
            " conv2d_37 (Conv2D)          (None, 5, 6, 384)         885120    \n",
            "                                                                 \n",
            " batch_normalization_37 (Bat  (None, 5, 6, 384)        1536      \n",
            " chNormalization)                                                \n",
            "                                                                 \n",
            " conv2d_38 (Conv2D)          (None, 3, 3, 384)         1327488   \n",
            "                                                                 \n",
            " batch_normalization_38 (Bat  (None, 3, 3, 384)        1536      \n",
            " chNormalization)                                                \n",
            "                                                                 \n",
            " conv2d_39 (Conv2D)          (None, 3, 3, 256)         884992    \n",
            "                                                                 \n",
            " batch_normalization_39 (Bat  (None, 3, 3, 256)        1024      \n",
            " chNormalization)                                                \n",
            "                                                                 \n",
            " max_pooling2d_23 (MaxPoolin  (None, 1, 1, 256)        0         \n",
            " g2D)                                                            \n",
            "                                                                 \n",
            " flatten_7 (Flatten)         (None, 256)               0         \n",
            "                                                                 \n",
            " dense_21 (Dense)            (None, 256)               65792     \n",
            "                                                                 \n",
            " dropout_14 (Dropout)        (None, 256)               0         \n",
            "                                                                 \n",
            " dense_22 (Dense)            (None, 256)               65792     \n",
            "                                                                 \n",
            " dropout_15 (Dropout)        (None, 256)               0         \n",
            "                                                                 \n",
            " dense_23 (Dense)            (None, 3)                 771       \n",
            "                                                                 \n",
            "=================================================================\n",
            "Total params: 3,885,059\n",
            "Trainable params: 3,882,307\n",
            "Non-trainable params: 2,752\n",
            "_________________________________________________________________\n"
          ]
        }
      ]
    },
    {
      "cell_type": "code",
      "source": [
        "model = train_model(model, X_train, y_train, X_val, y_val)"
      ],
      "metadata": {
        "colab": {
          "base_uri": "https://localhost:8080/"
        },
        "id": "UNorbU9gaE9i",
        "outputId": "60056ae3-7efb-470d-e2d9-fb7dfff4af5a"
      },
      "id": "UNorbU9gaE9i",
      "execution_count": 168,
      "outputs": [
        {
          "output_type": "stream",
          "name": "stdout",
          "text": [
            "Epoch 1/100\n",
            "171/171 [==============================] - 213s 1s/step - loss: 0.7735 - accuracy: 0.7849 - val_loss: 0.5908 - val_accuracy: 0.8211\n",
            "Epoch 2/100\n",
            "171/171 [==============================] - 219s 1s/step - loss: 0.6219 - accuracy: 0.8139 - val_loss: 0.5902 - val_accuracy: 0.8211\n",
            "Epoch 3/100\n",
            "171/171 [==============================] - 217s 1s/step - loss: 0.6027 - accuracy: 0.8183 - val_loss: 0.5593 - val_accuracy: 0.8211\n",
            "Epoch 4/100\n",
            "171/171 [==============================] - 221s 1s/step - loss: 0.5946 - accuracy: 0.8183 - val_loss: 0.5446 - val_accuracy: 0.8211\n",
            "Epoch 5/100\n",
            "171/171 [==============================] - 225s 1s/step - loss: 0.5742 - accuracy: 0.8183 - val_loss: 0.5564 - val_accuracy: 0.8211\n",
            "Epoch 6/100\n",
            "171/171 [==============================] - 216s 1s/step - loss: 0.5685 - accuracy: 0.8183 - val_loss: 0.5627 - val_accuracy: 0.8211\n",
            "Epoch 7/100\n",
            "171/171 [==============================] - 214s 1s/step - loss: 0.5699 - accuracy: 0.8179 - val_loss: 0.5983 - val_accuracy: 0.8211\n"
          ]
        }
      ]
    },
    {
      "cell_type": "code",
      "source": [
        "INDEX_ACCURACY = 1\n",
        "print(f'\\nAccuracy on the test set: {model.evaluate(X_test, y_test)[INDEX_ACCURACY]:.4f}')"
      ],
      "metadata": {
        "colab": {
          "base_uri": "https://localhost:8080/"
        },
        "id": "bO3Gvg9XaFBn",
        "outputId": "8333fbdc-6528-4534-dc21-bfc9dee49063"
      },
      "id": "bO3Gvg9XaFBn",
      "execution_count": 169,
      "outputs": [
        {
          "output_type": "stream",
          "name": "stdout",
          "text": [
            "31/31 [==============================] - 17s 556ms/step - loss: 0.6335 - accuracy: 0.8166\n",
            "\n",
            "Accuracy on the test set: 0.8166\n"
          ]
        }
      ]
    },
    {
      "cell_type": "code",
      "source": [
        "new_y_test = y_test.idxmax(axis=1)\\\n",
        ".replace({'event_challenge': 0, 'event_play': 1, 'event_throwin': 2})"
      ],
      "metadata": {
        "id": "oqBTZsvOmFK1"
      },
      "id": "oqBTZsvOmFK1",
      "execution_count": 170,
      "outputs": []
    },
    {
      "cell_type": "code",
      "source": [
        "y_pred_test = model.predict(X_test)"
      ],
      "metadata": {
        "colab": {
          "base_uri": "https://localhost:8080/"
        },
        "id": "cFLFU84KmFRN",
        "outputId": "6395c36d-9458-45b2-c4a9-b0d1b035297b"
      },
      "id": "cFLFU84KmFRN",
      "execution_count": 171,
      "outputs": [
        {
          "output_type": "stream",
          "name": "stdout",
          "text": [
            "31/31 [==============================] - 17s 541ms/step\n"
          ]
        }
      ]
    },
    {
      "cell_type": "code",
      "source": [
        "y_pred_test"
      ],
      "metadata": {
        "colab": {
          "base_uri": "https://localhost:8080/"
        },
        "id": "zGT9azQLuhqz",
        "outputId": "5f580e4f-6665-4386-ad60-98e66f1c43d0"
      },
      "id": "zGT9azQLuhqz",
      "execution_count": 175,
      "outputs": [
        {
          "output_type": "execute_result",
          "data": {
            "text/plain": [
              "array([[0.15586776, 0.8135165 , 0.03061571],\n",
              "       [0.15354751, 0.81639475, 0.03005778],\n",
              "       [0.16790268, 0.7999405 , 0.03215671],\n",
              "       ...,\n",
              "       [0.21948591, 0.7063011 , 0.07421295],\n",
              "       [0.22412258, 0.6849496 , 0.09092791],\n",
              "       [0.21324569, 0.73492104, 0.05183332]], dtype=float32)"
            ]
          },
          "metadata": {},
          "execution_count": 175
        }
      ]
    },
    {
      "cell_type": "code",
      "source": [
        "y_pred_test_b = [np.argmax(i, axis=0) for i in y_pred_test]"
      ],
      "metadata": {
        "id": "R1lOt41PmFZ7"
      },
      "id": "R1lOt41PmFZ7",
      "execution_count": 172,
      "outputs": []
    },
    {
      "cell_type": "code",
      "source": [
        "ConfusionMatrixDisplay.from_predictions(new_y_test, y_pred_test_b)\n",
        "plt.show()"
      ],
      "metadata": {
        "colab": {
          "base_uri": "https://localhost:8080/",
          "height": 279
        },
        "id": "PK5YT7MRmFjW",
        "outputId": "d2a479f9-1a43-4e76-d41d-014761e5b086"
      },
      "id": "PK5YT7MRmFjW",
      "execution_count": 173,
      "outputs": [
        {
          "output_type": "display_data",
          "data": {
            "text/plain": [
              "<Figure size 432x288 with 2 Axes>"
            ],
            "image/png": "[encoded data removed]"
          },
          "metadata": {
            "needs_background": "light"
          }
        }
      ]
    },
    {
      "cell_type": "code",
      "source": [
        "model.save('/content/drive/MyDrive/Bundesliga/Models/model_baseline_4')"
      ],
      "metadata": {
        "id": "K5N4uCKSaFE_"
      },
      "id": "K5N4uCKSaFE_",
      "execution_count": 174,
      "outputs": []
    },
    {
      "cell_type": "markdown",
      "source": [
        "## Building 6th baseline model - like 5th but CNN architecture more complex"
      ],
      "metadata": {
        "id": "R86HanZUrRWb"
      },
      "id": "R86HanZUrRWb"
    },
    {
      "cell_type": "code",
      "source": [
        "def build_model(X_train, y_train):\n",
        "  \"\"\" \"\"\"\n",
        "  input_shape = X_train.shape[1], X_train.shape[2], X_train.shape[3]\n",
        "  num_classes = y_train.shape[1]\n",
        "\n",
        "  if MODEL == 'AlexNet':\n",
        "    model = Sequential([\n",
        "        Rescaling(1/255, \n",
        "                  input_shape=input_shape),  \n",
        "\n",
        "        Conv2D(filters=96, \n",
        "               kernel_size=(11, 11), \n",
        "               strides=(4, 4), \n",
        "               activation='relu'),\n",
        "\n",
        "        BatchNormalization(),\n",
        "\n",
        "        MaxPooling2D(pool_size=(3, 3), \n",
        "                     strides=(2, 2)),\n",
        "\n",
        "        Conv2D(filters=256, \n",
        "               kernel_size=(5, 5),\n",
        "               strides=(1, 1), # (3, 3)\n",
        "               activation='relu',\n",
        "               padding='same'),\n",
        "\n",
        "        BatchNormalization(),\n",
        "\n",
        "        MaxPooling2D(pool_size=(3, 3), \n",
        "                     strides=(2, 2)),\n",
        "\n",
        "        Conv2D(filters=384, \n",
        "               kernel_size=(3, 3),\n",
        "               strides=(1, 1), # (2, 2)\n",
        "               activation='relu',\n",
        "               padding='same'),\n",
        "\n",
        "        BatchNormalization(),\n",
        "\n",
        "        Conv2D(filters=384, \n",
        "               kernel_size=(3, 3),\n",
        "               strides=(1, 1), # (2, 2)\n",
        "               activation='relu',\n",
        "               padding='same'),\n",
        "\n",
        "        BatchNormalization(),\n",
        "\n",
        "        Conv2D(filters=256, \n",
        "               kernel_size=(3, 3),\n",
        "               strides=(1, 1), \n",
        "               activation='relu',\n",
        "               padding='same'),\n",
        "\n",
        "        BatchNormalization(),\n",
        "\n",
        "        MaxPooling2D(pool_size=(3, 3), \n",
        "                     strides=(2, 2)),\n",
        "\n",
        "        Flatten(),\n",
        "\n",
        "        Dense(256, \n",
        "              activation='relu'),\n",
        "\n",
        "        Dropout(0.5), \n",
        "\n",
        "        Dense(256, \n",
        "              activation='relu'),\n",
        "\n",
        "        Dropout(0.5), \n",
        "\n",
        "        Dense(num_classes, \n",
        "              activation='softmax')\n",
        "        ])\n",
        "\n",
        "    return model"
      ],
      "metadata": {
        "id": "mV4USJrIZOwa"
      },
      "id": "mV4USJrIZOwa",
      "execution_count": 177,
      "outputs": []
    },
    {
      "cell_type": "code",
      "source": [
        "X_train, X_val, X_test, y_train, y_val, y_test = preprocessing(negatives=False, undersampling=True, gray=True)"
      ],
      "metadata": {
        "id": "Y930qv_rZO1Q"
      },
      "id": "Y930qv_rZO1Q",
      "execution_count": 178,
      "outputs": []
    },
    {
      "cell_type": "code",
      "source": [
        "model = build_model(X_train, y_train)\n",
        "model = compile_model(model)"
      ],
      "metadata": {
        "id": "RfPSgs4KSWS2"
      },
      "id": "RfPSgs4KSWS2",
      "execution_count": 179,
      "outputs": []
    },
    {
      "cell_type": "code",
      "source": [
        "model.summary()"
      ],
      "metadata": {
        "colab": {
          "base_uri": "https://localhost:8080/"
        },
        "id": "oySy3YMIrzfB",
        "outputId": "f33cee87-a750-4eec-edb6-df11afcbd476"
      },
      "id": "oySy3YMIrzfB",
      "execution_count": 180,
      "outputs": [
        {
          "output_type": "stream",
          "name": "stdout",
          "text": [
            "Model: \"sequential_8\"\n",
            "_________________________________________________________________\n",
            " Layer (type)                Output Shape              Param #   \n",
            "=================================================================\n",
            " rescaling_8 (Rescaling)     (None, 480, 640, 3)       0         \n",
            "                                                                 \n",
            " conv2d_40 (Conv2D)          (None, 118, 158, 96)      34944     \n",
            "                                                                 \n",
            " batch_normalization_40 (Bat  (None, 118, 158, 96)     384       \n",
            " chNormalization)                                                \n",
            "                                                                 \n",
            " max_pooling2d_24 (MaxPoolin  (None, 58, 78, 96)       0         \n",
            " g2D)                                                            \n",
            "                                                                 \n",
            " conv2d_41 (Conv2D)          (None, 58, 78, 256)       614656    \n",
            "                                                                 \n",
            " batch_normalization_41 (Bat  (None, 58, 78, 256)      1024      \n",
            " chNormalization)                                                \n",
            "                                                                 \n",
            " max_pooling2d_25 (MaxPoolin  (None, 28, 38, 256)      0         \n",
            " g2D)                                                            \n",
            "                                                                 \n",
            " conv2d_42 (Conv2D)          (None, 28, 38, 384)       885120    \n",
            "                                                                 \n",
            " batch_normalization_42 (Bat  (None, 28, 38, 384)      1536      \n",
            " chNormalization)                                                \n",
            "                                                                 \n",
            " conv2d_43 (Conv2D)          (None, 28, 38, 384)       1327488   \n",
            "                                                                 \n",
            " batch_normalization_43 (Bat  (None, 28, 38, 384)      1536      \n",
            " chNormalization)                                                \n",
            "                                                                 \n",
            " conv2d_44 (Conv2D)          (None, 28, 38, 256)       884992    \n",
            "                                                                 \n",
            " batch_normalization_44 (Bat  (None, 28, 38, 256)      1024      \n",
            " chNormalization)                                                \n",
            "                                                                 \n",
            " max_pooling2d_26 (MaxPoolin  (None, 13, 18, 256)      0         \n",
            " g2D)                                                            \n",
            "                                                                 \n",
            " flatten_8 (Flatten)         (None, 59904)             0         \n",
            "                                                                 \n",
            " dense_24 (Dense)            (None, 256)               15335680  \n",
            "                                                                 \n",
            " dropout_16 (Dropout)        (None, 256)               0         \n",
            "                                                                 \n",
            " dense_25 (Dense)            (None, 256)               65792     \n",
            "                                                                 \n",
            " dropout_17 (Dropout)        (None, 256)               0         \n",
            "                                                                 \n",
            " dense_26 (Dense)            (None, 3)                 771       \n",
            "                                                                 \n",
            "=================================================================\n",
            "Total params: 19,154,947\n",
            "Trainable params: 19,152,195\n",
            "Non-trainable params: 2,752\n",
            "_________________________________________________________________\n"
          ]
        }
      ]
    },
    {
      "cell_type": "code",
      "source": [
        "model = train_model(model, X_train, y_train, X_val, y_val)"
      ],
      "metadata": {
        "colab": {
          "base_uri": "https://localhost:8080/"
        },
        "id": "rPS8YqdUrztC",
        "outputId": "aada2913-326c-416d-92c7-ec3c85a7e68c"
      },
      "id": "rPS8YqdUrztC",
      "execution_count": 181,
      "outputs": [
        {
          "output_type": "stream",
          "name": "stdout",
          "text": [
            "Epoch 1/100\n",
            "57/57 [==============================] - 302s 5s/step - loss: 11.8612 - accuracy: 0.4225 - val_loss: 141.1526 - val_accuracy: 0.5111\n",
            "Epoch 2/100\n",
            "57/57 [==============================] - 306s 5s/step - loss: 1.3551 - accuracy: 0.4247 - val_loss: 2.3697 - val_accuracy: 0.4400\n",
            "Epoch 3/100\n",
            "57/57 [==============================] - 299s 5s/step - loss: 1.0040 - accuracy: 0.4292 - val_loss: 1.2681 - val_accuracy: 0.4978\n",
            "Epoch 4/100\n",
            "57/57 [==============================] - 303s 5s/step - loss: 0.9695 - accuracy: 0.4370 - val_loss: 1.2092 - val_accuracy: 0.5111\n",
            "Epoch 5/100\n",
            "57/57 [==============================] - 298s 5s/step - loss: 0.9641 - accuracy: 0.4615 - val_loss: 1.1250 - val_accuracy: 0.4533\n",
            "Epoch 6/100\n",
            "57/57 [==============================] - 297s 5s/step - loss: 0.9553 - accuracy: 0.4426 - val_loss: 1.0192 - val_accuracy: 0.3822\n",
            "Epoch 7/100\n",
            "57/57 [==============================] - 299s 5s/step - loss: 0.9569 - accuracy: 0.4470 - val_loss: 0.9823 - val_accuracy: 0.4178\n",
            "Epoch 8/100\n",
            "57/57 [==============================] - 303s 5s/step - loss: 0.9514 - accuracy: 0.4470 - val_loss: 0.9556 - val_accuracy: 0.3911\n",
            "Epoch 9/100\n",
            "57/57 [==============================] - 299s 5s/step - loss: 0.9841 - accuracy: 0.4749 - val_loss: 1.0006 - val_accuracy: 0.3778\n",
            "Epoch 10/100\n",
            "57/57 [==============================] - 306s 5s/step - loss: 0.9538 - accuracy: 0.4526 - val_loss: 0.9581 - val_accuracy: 0.3867\n",
            "Epoch 11/100\n",
            "57/57 [==============================] - 301s 5s/step - loss: 0.9481 - accuracy: 0.4760 - val_loss: 0.9571 - val_accuracy: 0.3867\n"
          ]
        }
      ]
    },
    {
      "cell_type": "code",
      "source": [
        "INDEX_ACCURACY = 1\n",
        "print(f'\\nAccuracy on the test set: {model.evaluate(X_test, y_test)[INDEX_ACCURACY]:.4f}')"
      ],
      "metadata": {
        "colab": {
          "base_uri": "https://localhost:8080/"
        },
        "id": "4EbKaKYmrzy4",
        "outputId": "010503d2-cf01-48fe-f409-362e3fbe2311"
      },
      "id": "4EbKaKYmrzy4",
      "execution_count": 182,
      "outputs": [
        {
          "output_type": "stream",
          "name": "stdout",
          "text": [
            "31/31 [==============================] - 84s 3s/step - loss: 0.8605 - accuracy: 0.7766\n",
            "\n",
            "Accuracy on the test set: 0.7766\n"
          ]
        }
      ]
    },
    {
      "cell_type": "code",
      "source": [
        "new_y_test = y_test.idxmax(axis=1)\\\n",
        ".replace({'event_challenge': 0, 'event_play': 1, 'event_throwin': 2})"
      ],
      "metadata": {
        "id": "zwYF-dCPrz4Z"
      },
      "id": "zwYF-dCPrz4Z",
      "execution_count": 183,
      "outputs": []
    },
    {
      "cell_type": "code",
      "source": [
        "y_pred_test = model.predict(X_test)"
      ],
      "metadata": {
        "colab": {
          "base_uri": "https://localhost:8080/"
        },
        "id": "coCfu8q-r0CF",
        "outputId": "0294496a-04ba-464b-942b-04d91a3d8479"
      },
      "id": "coCfu8q-r0CF",
      "execution_count": 184,
      "outputs": [
        {
          "output_type": "stream",
          "name": "stdout",
          "text": [
            "31/31 [==============================] - 86s 3s/step\n"
          ]
        }
      ]
    },
    {
      "cell_type": "code",
      "source": [
        "y_pred_test_b = [np.argmax(i, axis=0) for i in y_pred_test]"
      ],
      "metadata": {
        "id": "4jK79gRPSWV5"
      },
      "id": "4jK79gRPSWV5",
      "execution_count": 185,
      "outputs": []
    },
    {
      "cell_type": "code",
      "source": [
        "ConfusionMatrixDisplay.from_predictions(new_y_test, y_pred_test_b)\n",
        "plt.show()"
      ],
      "metadata": {
        "colab": {
          "base_uri": "https://localhost:8080/",
          "height": 279
        },
        "id": "jNdovRNCsD3W",
        "outputId": "438e5e5c-13e6-4799-c9d5-2a52ace5ec7e"
      },
      "id": "jNdovRNCsD3W",
      "execution_count": 186,
      "outputs": [
        {
          "output_type": "display_data",
          "data": {
            "text/plain": [
              "<Figure size 432x288 with 2 Axes>"
            ],
            "image/png": "[encoded data removed]"
          },
          "metadata": {
            "needs_background": "light"
          }
        }
      ]
    },
    {
      "cell_type": "code",
      "source": [
        "model.save('/content/drive/MyDrive/Bundesliga/Models/model_baseline_6')"
      ],
      "metadata": {
        "id": "yl-kM38msD8k"
      },
      "id": "yl-kM38msD8k",
      "execution_count": 187,
      "outputs": []
    }
  ],
  "metadata": {
    "kernelspec": {
      "display_name": "Python 3 (ipykernel)",
      "language": "python",
      "name": "python3"
    },
    "language_info": {
      "codemirror_mode": {
        "name": "ipython",
        "version": 3
      },
      "file_extension": ".py",
      "mimetype": "text/x-python",
      "name": "python",
      "nbconvert_exporter": "python",
      "pygments_lexer": "ipython3",
      "version": "3.9.6"
    },
    "colab": {
      "provenance": [],
      "machine_shape": "hm"
    }
  },
  "nbformat": 4,
  "nbformat_minor": 5
}