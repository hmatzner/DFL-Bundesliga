{
  "cells": [
    {
      "cell_type": "markdown",
      "source": [
        "## Setup"
      ],
      "metadata": {
        "id": "GpAsh3Bc7wes"
      },
      "id": "GpAsh3Bc7wes"
    },
    {
      "cell_type": "code",
      "execution_count": 150,
      "id": "bdd5df7c",
      "metadata": {
        "id": "bdd5df7c"
      },
      "outputs": [],
      "source": [
        "import os\n",
        "import sys\n",
        "import pandas as pd\n",
        "import numpy as np\n",
        "import matplotlib.pyplot as plt\n",
        "from sklearn.preprocessing import OneHotEncoder\n",
        "from sklearn.model_selection import train_test_split\n",
        "from sklearn.metrics import ConfusionMatrixDisplay, classification_report, f1_score\n",
        "from tensorflow.keras import Sequential\n",
        "from tensorflow.keras.layers import Rescaling, Conv2D, MaxPooling2D, AveragePooling2D, Flatten, Dense, Dropout, BatchNormalization\n",
        "from tensorflow.keras.callbacks import EarlyStopping\n",
        "from tensorflow.keras.models import load_model"
      ]
    },
    {
      "cell_type": "code",
      "source": [
        "import absl.logging\n",
        "absl.logging.set_verbosity(absl.logging.ERROR)\n",
        "\n",
        "np.set_printoptions(suppress=True)"
      ],
      "metadata": {
        "id": "O7r39l1SJeMf"
      },
      "id": "O7r39l1SJeMf",
      "execution_count": 43,
      "outputs": []
    },
    {
      "cell_type": "code",
      "source": [
        "from google.colab import drive\n",
        "drive.mount('/content/drive')"
      ],
      "metadata": {
        "colab": {
          "base_uri": "https://localhost:8080/"
        },
        "id": "0Qa_p6bQwIuH",
        "outputId": "d0e1021f-ef6c-4eab-bd0d-ab14fd882565"
      },
      "id": "0Qa_p6bQwIuH",
      "execution_count": 44,
      "outputs": [
        {
          "output_type": "stream",
          "name": "stdout",
          "text": [
            "Drive already mounted at /content/drive; to attempt to forcibly remount, call drive.mount(\"/content/drive\", force_remount=True).\n"
          ]
        }
      ]
    },
    {
      "cell_type": "code",
      "execution_count": 78,
      "id": "d552a9f7",
      "metadata": {
        "id": "d552a9f7"
      },
      "outputs": [],
      "source": [
        "# Defining constant variables\n",
        "DRIVE_PATH = '/content/drive/MyDrive/Bundesliga/train.csv'\n",
        "POSITIVES_FOLDER_PATH = '/content/drive/MyDrive/Bundesliga/PicsFromVids/CompressedPic/'\n",
        "NEGATIVES_FOLDER_PATH = '/content/drive/MyDrive/Bundesliga/PicsFromVids/CompressedPic/Negatives/'\n",
        "GRAY_POSITIVES_FOLDER_PATH = '/content/drive/MyDrive/Bundesliga/PicsFromVids/CompressedPic/PositiveGray/'\n",
        "GRAY_NEGATIVES_FOLDER_PATH = '/content/drive/MyDrive/Bundesliga/PicsFromVids/CompressedPic/NegativeGray/'"
      ]
    },
    {
      "cell_type": "markdown",
      "source": [
        "## Defining functions"
      ],
      "metadata": {
        "id": "x39a1Wl-78KJ"
      },
      "id": "x39a1Wl-78KJ"
    },
    {
      "cell_type": "code",
      "source": [
        "def create_df_events():\n",
        "  \"\"\"Reads original DataFrame and creates antoher one with only relevant events\"\"\"\n",
        "  df = pd.read_csv(DRIVE_PATH)\n",
        "  df_events = df[~df['event_attributes'].isna()].copy()\n",
        "  df_events.reset_index(drop=True, inplace=True)\n",
        "  return df_events"
      ],
      "metadata": {
        "id": "Rlkr7clkqqFV"
      },
      "id": "Rlkr7clkqqFV",
      "execution_count": 98,
      "outputs": []
    },
    {
      "cell_type": "code",
      "source": [
        "def create_train_test_video_ids(df_events, train_size):\n",
        "  \"\"\"Creates two arrays with which videos are either part of the train or the test data\"\"\"\n",
        "  video_ids = df_events['video_id'].unique().tolist()\n",
        "  amount_videos = len(video_ids)\n",
        "  amount_train = round(amount_videos * train_size)\n",
        "  train_videos = video_ids[:amount_train]\n",
        "  test_videos = video_ids[amount_train:]\n",
        "  return video_ids, train_videos, test_videos"
      ],
      "metadata": {
        "id": "9ql9kIOqqxQR"
      },
      "id": "9ql9kIOqqxQR",
      "execution_count": 102,
      "outputs": []
    },
    {
      "cell_type": "code",
      "source": [
        "def create_X(video_ids, negatives, gray):\n",
        "  \"\"\"Creates X array with all pictures for both train and test data\"\"\"\n",
        "  X = list()\n",
        "  POS_PATH, NEG_PATH = POSITIVES_FOLDER_PATH, NEGATIVES_FOLDER_PATH\n",
        "  if gray:\n",
        "    POS_PATH, NEG_PATH = GRAY_POSITIVES_FOLDER_PATH, GRAY_NEGATIVES_FOLDER_PATH\n",
        "  for video_id in video_ids:\n",
        "    current_video = np.load(f'{POS_PATH}{video_id}.npz')\n",
        "    current_video = current_video.f.arr_0\n",
        "    X.append(current_video)\n",
        "  if negatives:\n",
        "    for video_id in video_ids: # [:-10]\n",
        "      current_neg_video = np.load(f'{NEG_PATH}{video_id}.npz')\n",
        "      current_neg_video = current_neg_video.f.arr_0\n",
        "      X.append(current_neg_video)\n",
        "  X = np.concatenate(X, axis=0)\n",
        "  return X"
      ],
      "metadata": {
        "id": "_0E8PMcwqxSV"
      },
      "id": "_0E8PMcwqxSV",
      "execution_count": 95,
      "outputs": []
    },
    {
      "cell_type": "code",
      "source": [
        "def train_test_X_split(df_events, X, train_videos, test_videos):\n",
        "  \"\"\"Splits pictures in train and test data\"\"\"\n",
        "  train_idx = df_events[df_events['video_id'].isin(train_videos)].index\n",
        "  test_idx = df_events[df_events['video_id'].isin(test_videos)].index\n",
        "  X_train = X[train_idx]\n",
        "  X_test = X[test_idx]\n",
        "  assert df_events.shape[0] == X_train.shape[0] + X_test.shape[0]\n",
        "  return X_train, X_test, train_idx, test_idx"
      ],
      "metadata": {
        "id": "HBcw2nYJqxUs"
      },
      "id": "HBcw2nYJqxUs",
      "execution_count": 94,
      "outputs": []
    },
    {
      "cell_type": "code",
      "source": [
        "def train_test_y_split(df_events, train_idx, test_idx):\n",
        "  \"\"\"Creates DataFrame of labels for both train and test data using videos ids\"\"\"\n",
        "  y_train = df_events[df_events.index.isin(train_idx)]['event'].to_frame()\n",
        "  y_test = df_events[df_events.index.isin(test_idx)]['event'].to_frame()\n",
        "  return y_train, y_test"
      ],
      "metadata": {
        "id": "Y6vx6gtDqxXD"
      },
      "id": "Y6vx6gtDqxXD",
      "execution_count": 93,
      "outputs": []
    },
    {
      "cell_type": "code",
      "source": [
        "def append_negatives(df_events, X, X_train, X_test, y_train, y_test, train_size):\n",
        "  \"\"\"Appends negative samples created to both train and both test datasets\"\"\"\n",
        "  len_positives = df_events.shape[0]\n",
        "  len_X = X.shape[0]\n",
        "  len_negatives = len_X - len_positives\n",
        "\n",
        "  START_IDX_NEGATIVES = df_events.shape[0]\n",
        "  START_IDX_NEG_TEST = round(START_IDX_NEGATIVES + len_negatives * train_size)\n",
        "  X_train_neg = X[START_IDX_NEGATIVES:START_IDX_NEG_TEST]\n",
        "  X_test_neg = X[START_IDX_NEG_TEST:]\n",
        "  assert len_negatives == X_train_neg.shape[0] + X_test_neg.shape[0]\n",
        "\n",
        "  X_train = np.concatenate((X_train, X_train_neg), axis=0)\n",
        "  X_test = np.concatenate((X_test, X_test_neg), axis=0)\n",
        "\n",
        "  y_train = y_train.append(pd.DataFrame({'event':['negative'] * X_train_neg.shape[0]}))\n",
        "  y_train.reset_index(drop=True, inplace=True)\n",
        "  y_test = y_test.append(pd.DataFrame({'event':['negative'] * X_test_neg.shape[0]}))\n",
        "  return X_train, X_test, y_train, y_test"
      ],
      "metadata": {
        "id": "QmIyOAAvP9g-"
      },
      "id": "QmIyOAAvP9g-",
      "execution_count": 92,
      "outputs": []
    },
    {
      "cell_type": "code",
      "source": [
        "def create_array_to_drop_for_undersampling_in_play(y_train):\n",
        "  \"\"\"Creates array of indexes to drop and perform undersampling in column 'play'\"\"\"\n",
        "  play_indexes = y_train[y_train['event'] == 'play'].index\n",
        "  assert y_train.value_counts()['play'] == len(play_indexes)\n",
        "  play_amount = y_train.value_counts()['play']\n",
        "  challenge_amount = y_train.value_counts()['challenge']\n",
        "  drop_play_indexes = np.sort(np.random.choice(a=play_indexes, \n",
        "                                              size=play_amount - challenge_amount, \n",
        "                                              replace=False))\n",
        "  assert len(drop_play_indexes) == play_amount - challenge_amount\n",
        "  return drop_play_indexes"
      ],
      "metadata": {
        "id": "HFePTN4FqxZk"
      },
      "id": "HFePTN4FqxZk",
      "execution_count": 91,
      "outputs": []
    },
    {
      "cell_type": "code",
      "source": [
        "def perform_undersampling(X_train, y_train, drop_play_indexes):\n",
        "  \"\"\"Performs undersampling in 'play' category to balance it with 'challenge'\"\"\"\n",
        "  X_train = np.delete(X_train, drop_play_indexes, axis=0) # Numpy array\n",
        "  y_train.drop(drop_play_indexes, axis=0, inplace=True) # Pandas DataFrame\n",
        "  return X_train, y_train"
      ],
      "metadata": {
        "id": "YVpNrxhfqqHh"
      },
      "id": "YVpNrxhfqqHh",
      "execution_count": 89,
      "outputs": []
    },
    {
      "cell_type": "code",
      "source": [
        "def perform_ohe(y_train, y_test):\n",
        "  \"\"\"Performs one-hot-encoding on our labels\"\"\"\n",
        "  current_feat = ['event']\n",
        "  encoder = OneHotEncoder(sparse=False, handle_unknown='ignore')\n",
        "  encoder.fit(y_train[current_feat]) # Fit and transform data\n",
        "  y_train[encoder.get_feature_names_out(list(current_feat))] = encoder.transform(y_train[current_feat])\n",
        "  y_train = y_train.drop(columns=current_feat)\n",
        "\n",
        "  encoder = OneHotEncoder(sparse=False, handle_unknown='ignore')\n",
        "  encoder.fit(y_test[current_feat]) # Fit and transform data\n",
        "  y_test[encoder.get_feature_names_out(list(current_feat))] = encoder.transform(y_test[current_feat])\n",
        "  y_test = y_test.drop(columns=current_feat)\n",
        "  return y_train, y_test"
      ],
      "metadata": {
        "id": "8EdEYJSXse1Q"
      },
      "id": "8EdEYJSXse1Q",
      "execution_count": 88,
      "outputs": []
    },
    {
      "cell_type": "code",
      "source": [
        "def train_val_split(X_train, y_train, train_size):\n",
        "  \"\"\"Splits train data into train and validation sets\"\"\"\n",
        "  X_train, X_val, y_train, y_val = train_test_split(X_train, y_train, train_size=train_size, random_state=0)\n",
        "  return X_train, X_val, y_train, y_val"
      ],
      "metadata": {
        "id": "r0drENxbuE3Q"
      },
      "id": "r0drENxbuE3Q",
      "execution_count": 165,
      "outputs": []
    },
    {
      "cell_type": "code",
      "source": [
        "def del_X(X):\n",
        "  \"\"\"Deletes heavy variable X to free RAM\"\"\"\n",
        "  del X"
      ],
      "metadata": {
        "id": "NuWFnkBAse3Q"
      },
      "id": "NuWFnkBAse3Q",
      "execution_count": 166,
      "outputs": []
    },
    {
      "cell_type": "code",
      "source": [
        "def preprocessing(train_test_ratio=0.75, train_val_ratio=0.8, negatives=True, undersampling=False, gray=False, free_ram=True):\n",
        "  \"\"\"Runs the whole pipeline before building the model\"\"\"\n",
        "  df_events = create_df_events()\n",
        "  video_ids, train_videos, test_videos = create_train_test_video_ids(df_events, train_test_ratio)\n",
        "  X = create_X(video_ids, negatives, gray)\n",
        "  X_train, X_test, train_idx, test_idx = train_test_X_split(df_events, X, train_videos, test_videos)\n",
        "  y_train, y_test = train_test_y_split(df_events, train_idx, test_idx)\n",
        "  if negatives:\n",
        "    X_train, X_test, y_train, y_test = append_negatives(df_events, X, X_train, X_test, y_train, y_test, train_test_ratio)\n",
        "  if undersampling:\n",
        "    drop_play_indexes = create_array_to_drop_for_undersampling_in_play(y_train)\n",
        "    X_train, y_train = perform_undersampling(X_train, y_train, drop_play_indexes)\n",
        "  y_train, y_test = perform_ohe(y_train, y_test)\n",
        "  X_train, X_val, y_train, y_val = train_val_split(X_train, y_train, train_val_ratio)\n",
        "  if free_ram:\n",
        "    del_X(X)\n",
        "  return X_train, X_val, X_test, y_train, y_val, y_test"
      ],
      "metadata": {
        "id": "HfTnNbKsMNQE"
      },
      "id": "HfTnNbKsMNQE",
      "execution_count": 177,
      "outputs": []
    },
    {
      "cell_type": "code",
      "source": [
        "def build_model(X_train, y_train, architecture='AlexNet'):\n",
        "  \"\"\"Builds CNN architecture of the model\"\"\"\n",
        "  input_shape = X_train.shape[1], X_train.shape[2], X_train.shape[3]\n",
        "  num_classes = y_train.shape[1]\n",
        "\n",
        "  if architecture == 'AlexNet':\n",
        "    model = Sequential([\n",
        "        Rescaling(1/255, \n",
        "                  input_shape=input_shape),  \n",
        "\n",
        "        Conv2D(filters=96, \n",
        "               kernel_size=(11, 11), \n",
        "               strides=(4, 4), \n",
        "               activation='relu'),\n",
        "\n",
        "        BatchNormalization(),\n",
        "\n",
        "        MaxPooling2D(pool_size=(3, 3), \n",
        "                     strides=(2, 2)),\n",
        "\n",
        "        Conv2D(filters=256, \n",
        "               kernel_size=(5, 5),\n",
        "               strides=(3, 3), # (1, 1)\n",
        "               activation='relu',\n",
        "               padding='same'),\n",
        "\n",
        "        BatchNormalization(),\n",
        "\n",
        "        MaxPooling2D(pool_size=(3, 3), \n",
        "                     strides=(2, 2)),\n",
        "\n",
        "        Conv2D(filters=384, \n",
        "               kernel_size=(3, 3),\n",
        "               strides=(2, 2), # (1, 1)\n",
        "               activation='relu',\n",
        "               padding='same'),\n",
        "\n",
        "        BatchNormalization(),\n",
        "\n",
        "        Conv2D(filters=384, \n",
        "               kernel_size=(3, 3),\n",
        "               strides=(2, 2), # (1, 1)\n",
        "               activation='relu',\n",
        "               padding='same'),\n",
        "\n",
        "        BatchNormalization(),\n",
        "\n",
        "        Conv2D(filters=256, \n",
        "               kernel_size=(3, 3),\n",
        "               strides=(1, 1), \n",
        "               activation='relu',\n",
        "               padding='same'),\n",
        "\n",
        "        BatchNormalization(),\n",
        "\n",
        "        MaxPooling2D(pool_size=(3, 3), \n",
        "                     strides=(2, 2)),\n",
        "\n",
        "        Flatten(),\n",
        "\n",
        "        Dense(256, \n",
        "              activation='relu'),\n",
        "\n",
        "        Dropout(0.5), \n",
        "\n",
        "        Dense(256, \n",
        "              activation='relu'),\n",
        "\n",
        "        Dropout(0.5), \n",
        "\n",
        "        Dense(num_classes, \n",
        "              activation='softmax')\n",
        "        ])\n",
        "\n",
        "    return model"
      ],
      "metadata": {
        "id": "V11f-06k-hN2"
      },
      "id": "V11f-06k-hN2",
      "execution_count": 136,
      "outputs": []
    },
    {
      "cell_type": "code",
      "source": [
        "def compile_model(model, optimizer='adam'):\n",
        "  \"\"\"Compiles the model\"\"\"\n",
        "  model.compile(loss='categorical_crossentropy',\n",
        "              optimizer=optimizer,\n",
        "              metrics='accuracy',\n",
        "              )\n",
        "  return model"
      ],
      "metadata": {
        "id": "aOZvepLXTdnq"
      },
      "id": "aOZvepLXTdnq",
      "execution_count": 115,
      "outputs": []
    },
    {
      "cell_type": "code",
      "source": [
        "def train_model(model, X_train, y_train, X_val, y_val, epochs=100, batch_size=16, patience=3):\n",
        "  \"\"\"Trains the model\"\"\"\n",
        "  callback = EarlyStopping(monitor='val_loss',\n",
        "                         patience=patience,\n",
        "                         restore_best_weights=True\n",
        "                         )\n",
        "\n",
        "  model.fit(X_train, \n",
        "            y_train, \n",
        "            validation_data=(X_val, y_val), \n",
        "            batch_size=batch_size, \n",
        "            epochs=epochs,\n",
        "            callbacks=[callback])\n",
        "  \n",
        "  return model"
      ],
      "metadata": {
        "id": "HmzGNXkwTdpS"
      },
      "id": "HmzGNXkwTdpS",
      "execution_count": 192,
      "outputs": []
    },
    {
      "cell_type": "markdown",
      "source": [
        "## Building 1st baseline model - with negatives and without undersampling"
      ],
      "metadata": {
        "id": "lnLdhmIlxg6m"
      },
      "id": "lnLdhmIlxg6m"
    },
    {
      "cell_type": "code",
      "source": [
        "X_train, X_val, X_test, y_train, y_val, y_test = preprocessing()"
      ],
      "metadata": {
        "id": "QTiRwYndvaMx"
      },
      "id": "QTiRwYndvaMx",
      "execution_count": 128,
      "outputs": []
    },
    {
      "cell_type": "code",
      "source": [
        "X_train.shape, X_val.shape, X_test.shape, y_train.shape, y_val.shape, y_test.shape"
      ],
      "metadata": {
        "colab": {
          "base_uri": "https://localhost:8080/"
        },
        "id": "qA5gRzf1Bgbv",
        "outputId": "e27b8ef8-5c9a-4f22-8867-4e18c8caec61"
      },
      "id": "qA5gRzf1Bgbv",
      "execution_count": 138,
      "outputs": [
        {
          "output_type": "execute_result",
          "data": {
            "text/plain": [
              "((3185, 480, 640, 3),\n",
              " (797, 480, 640, 3),\n",
              " (1120, 480, 640, 3),\n",
              " (3185, 4),\n",
              " (797, 4),\n",
              " (1120, 4))"
            ]
          },
          "metadata": {},
          "execution_count": 138
        }
      ]
    },
    {
      "cell_type": "code",
      "source": [
        "model = build_model(X_train, y_train)\n",
        "model = compile_model(model)"
      ],
      "metadata": {
        "id": "-UHADNpXTZGr"
      },
      "id": "-UHADNpXTZGr",
      "execution_count": 137,
      "outputs": []
    },
    {
      "cell_type": "code",
      "source": [
        "model.summary()"
      ],
      "metadata": {
        "colab": {
          "base_uri": "https://localhost:8080/"
        },
        "id": "LoLpJhGfgJ9D",
        "outputId": "853282c6-8a06-45d8-c580-90d1ee4c80b7"
      },
      "id": "LoLpJhGfgJ9D",
      "execution_count": 139,
      "outputs": [
        {
          "output_type": "stream",
          "name": "stdout",
          "text": [
            "Model: \"sequential_5\"\n",
            "_________________________________________________________________\n",
            " Layer (type)                Output Shape              Param #   \n",
            "=================================================================\n",
            " rescaling_5 (Rescaling)     (None, 480, 640, 3)       0         \n",
            "                                                                 \n",
            " conv2d_25 (Conv2D)          (None, 118, 158, 96)      34944     \n",
            "                                                                 \n",
            " batch_normalization_25 (Bat  (None, 118, 158, 96)     384       \n",
            " chNormalization)                                                \n",
            "                                                                 \n",
            " max_pooling2d_15 (MaxPoolin  (None, 58, 78, 96)       0         \n",
            " g2D)                                                            \n",
            "                                                                 \n",
            " conv2d_26 (Conv2D)          (None, 20, 26, 256)       614656    \n",
            "                                                                 \n",
            " batch_normalization_26 (Bat  (None, 20, 26, 256)      1024      \n",
            " chNormalization)                                                \n",
            "                                                                 \n",
            " max_pooling2d_16 (MaxPoolin  (None, 9, 12, 256)       0         \n",
            " g2D)                                                            \n",
            "                                                                 \n",
            " conv2d_27 (Conv2D)          (None, 5, 6, 384)         885120    \n",
            "                                                                 \n",
            " batch_normalization_27 (Bat  (None, 5, 6, 384)        1536      \n",
            " chNormalization)                                                \n",
            "                                                                 \n",
            " conv2d_28 (Conv2D)          (None, 3, 3, 384)         1327488   \n",
            "                                                                 \n",
            " batch_normalization_28 (Bat  (None, 3, 3, 384)        1536      \n",
            " chNormalization)                                                \n",
            "                                                                 \n",
            " conv2d_29 (Conv2D)          (None, 3, 3, 256)         884992    \n",
            "                                                                 \n",
            " batch_normalization_29 (Bat  (None, 3, 3, 256)        1024      \n",
            " chNormalization)                                                \n",
            "                                                                 \n",
            " max_pooling2d_17 (MaxPoolin  (None, 1, 1, 256)        0         \n",
            " g2D)                                                            \n",
            "                                                                 \n",
            " flatten_5 (Flatten)         (None, 256)               0         \n",
            "                                                                 \n",
            " dense_15 (Dense)            (None, 256)               65792     \n",
            "                                                                 \n",
            " dropout_10 (Dropout)        (None, 256)               0         \n",
            "                                                                 \n",
            " dense_16 (Dense)            (None, 256)               65792     \n",
            "                                                                 \n",
            " dropout_11 (Dropout)        (None, 256)               0         \n",
            "                                                                 \n",
            " dense_17 (Dense)            (None, 4)                 1028      \n",
            "                                                                 \n",
            "=================================================================\n",
            "Total params: 3,885,316\n",
            "Trainable params: 3,882,564\n",
            "Non-trainable params: 2,752\n",
            "_________________________________________________________________\n"
          ]
        }
      ]
    },
    {
      "cell_type": "code",
      "source": [
        "model = train_model(model, X_train, y_train, X_val, y_val)"
      ],
      "metadata": {
        "colab": {
          "base_uri": "https://localhost:8080/"
        },
        "id": "VZ0cUKmRTcS8",
        "outputId": "8c79cebf-d2bc-43da-e709-fc929680169a"
      },
      "id": "VZ0cUKmRTcS8",
      "execution_count": 140,
      "outputs": [
        {
          "output_type": "stream",
          "name": "stdout",
          "text": [
            "Epoch 1/100\n",
            "200/200 [==============================] - 353s 2s/step - loss: 1.1218 - accuracy: 0.6578 - val_loss: 0.8911 - val_accuracy: 0.6888\n",
            "Epoch 2/100\n",
            "200/200 [==============================] - 344s 2s/step - loss: 0.9626 - accuracy: 0.6989 - val_loss: 0.8806 - val_accuracy: 0.6901\n",
            "Epoch 3/100\n",
            "200/200 [==============================] - 346s 2s/step - loss: 0.9254 - accuracy: 0.7008 - val_loss: 0.8839 - val_accuracy: 0.6888\n",
            "Epoch 4/100\n",
            "200/200 [==============================] - 334s 2s/step - loss: 0.8964 - accuracy: 0.7071 - val_loss: 0.8823 - val_accuracy: 0.6964\n",
            "Epoch 5/100\n",
            "200/200 [==============================] - 349s 2s/step - loss: 0.8809 - accuracy: 0.7089 - val_loss: 0.8843 - val_accuracy: 0.6951\n"
          ]
        }
      ]
    },
    {
      "cell_type": "code",
      "source": [
        "y_train.value_counts()"
      ],
      "metadata": {
        "colab": {
          "base_uri": "https://localhost:8080/"
        },
        "id": "IpGzF5UaCS9U",
        "outputId": "d45ba401-78de-4d3d-9522-aff0d3b41fd2"
      },
      "id": "IpGzF5UaCS9U",
      "execution_count": 143,
      "outputs": [
        {
          "output_type": "execute_result",
          "data": {
            "text/plain": [
              "event_challenge  event_negative  event_play  event_throwin\n",
              "0.0              0.0             1.0         0.0              2240\n",
              "                 1.0             0.0         0.0               447\n",
              "1.0              0.0             0.0         0.0               405\n",
              "0.0              0.0             0.0         1.0                93\n",
              "dtype: int64"
            ]
          },
          "metadata": {},
          "execution_count": 143
        }
      ]
    },
    {
      "cell_type": "code",
      "source": [
        "y_test.value_counts()"
      ],
      "metadata": {
        "colab": {
          "base_uri": "https://localhost:8080/"
        },
        "id": "ljpgDR0ECaaA",
        "outputId": "31013c20-4343-4e2e-b0b2-a850c4a69a6e"
      },
      "id": "ljpgDR0ECaaA",
      "execution_count": 144,
      "outputs": [
        {
          "output_type": "execute_result",
          "data": {
            "text/plain": [
              "event_challenge  event_negative  event_play  event_throwin\n",
              "0.0              0.0             1.0         0.0              797\n",
              "                 1.0             0.0         0.0              144\n",
              "1.0              0.0             0.0         0.0              119\n",
              "0.0              0.0             0.0         1.0               60\n",
              "dtype: int64"
            ]
          },
          "metadata": {},
          "execution_count": 144
        }
      ]
    },
    {
      "cell_type": "code",
      "source": [
        "new_y_test = y_test.idxmax(axis=1)\\\n",
        ".replace({'event_challenge': 0, 'event_negative': 1, 'event_play': 2, 'event_throwin': 3})"
      ],
      "metadata": {
        "id": "o7lFvmG_PuSj"
      },
      "id": "o7lFvmG_PuSj",
      "execution_count": 145,
      "outputs": []
    },
    {
      "cell_type": "code",
      "source": [
        "y_pred_test = model.predict(X_test)"
      ],
      "metadata": {
        "colab": {
          "base_uri": "https://localhost:8080/"
        },
        "id": "TtpmLXeXREhX",
        "outputId": "58eb4c98-98d8-46c6-cdbd-e2faab18ed67"
      },
      "id": "TtpmLXeXREhX",
      "execution_count": 146,
      "outputs": [
        {
          "output_type": "stream",
          "name": "stdout",
          "text": [
            "35/35 [==============================] - 32s 917ms/step\n"
          ]
        }
      ]
    },
    {
      "cell_type": "code",
      "source": [
        "y_pred_test_b = [np.argmax(i, axis=0) for i in y_pred_test]"
      ],
      "metadata": {
        "id": "KBafB6mWRCKQ"
      },
      "id": "KBafB6mWRCKQ",
      "execution_count": 147,
      "outputs": []
    },
    {
      "cell_type": "code",
      "source": [
        "ConfusionMatrixDisplay.from_predictions(new_y_test, y_pred_test_b)\n",
        "plt.show()"
      ],
      "metadata": {
        "colab": {
          "base_uri": "https://localhost:8080/",
          "height": 279
        },
        "id": "r6aCC1DtQ4wj",
        "outputId": "c54e75b5-ffba-4b80-ab2e-49b176fefaef"
      },
      "id": "r6aCC1DtQ4wj",
      "execution_count": 148,
      "outputs": [
        {
          "output_type": "display_data",
          "data": {
            "text/plain": [
              "<Figure size 432x288 with 2 Axes>"
            ],
            "image/png": "[encoded data removed]"
          },
          "metadata": {
            "needs_background": "light"
          }
        }
      ]
    },
    {
      "cell_type": "code",
      "source": [
        "print(f\"Macro F1 score: {f1_score(new_y_test, y_pred_test_b, average='macro'):.4f}\")"
      ],
      "metadata": {
        "colab": {
          "base_uri": "https://localhost:8080/"
        },
        "id": "4BJMFMg8By7H",
        "outputId": "3f3f526c-2962-490a-a95e-90277d03b4e0"
      },
      "id": "4BJMFMg8By7H",
      "execution_count": 154,
      "outputs": [
        {
          "output_type": "stream",
          "name": "stdout",
          "text": [
            "Macro F1 score: 0.2097\n"
          ]
        }
      ]
    },
    {
      "cell_type": "code",
      "source": [
        "INDEX_ACCURACY = 1\n",
        "print(f'\\nAccuracy on the test set: {model.evaluate(X_test, y_test)[INDEX_ACCURACY]:.4f}')"
      ],
      "metadata": {
        "colab": {
          "base_uri": "https://localhost:8080/"
        },
        "id": "LDCF48tEMEbY",
        "outputId": "ea0157dc-9af6-4e33-8449-1fcefc2e863c"
      },
      "id": "LDCF48tEMEbY",
      "execution_count": 155,
      "outputs": [
        {
          "output_type": "stream",
          "name": "stdout",
          "text": [
            "35/35 [==============================] - 28s 798ms/step - loss: 0.9953 - accuracy: 0.7027\n",
            "\n",
            "Accuracy on the test set: 0.7027\n"
          ]
        }
      ]
    },
    {
      "cell_type": "code",
      "source": [
        "model.save('/content/drive/MyDrive/Bundesliga/Models/baseline_model_1')"
      ],
      "metadata": {
        "id": "QdBRWVU1PCfK"
      },
      "id": "QdBRWVU1PCfK",
      "execution_count": 156,
      "outputs": []
    },
    {
      "cell_type": "code",
      "source": [
        "# model = load_model('/content/drive/MyDrive/Bundesliga/Models/baseline_model_1')"
      ],
      "metadata": {
        "id": "hYrC1UyLW0CJ"
      },
      "id": "hYrC1UyLW0CJ",
      "execution_count": 164,
      "outputs": []
    },
    {
      "cell_type": "markdown",
      "source": [
        "## Building 2nd baseline model - with negatives and undersampling"
      ],
      "metadata": {
        "id": "kQmHfD6nR2Ex"
      },
      "id": "kQmHfD6nR2Ex"
    },
    {
      "cell_type": "code",
      "source": [
        "X_train, X_val, X_test, y_train, y_val, y_test = preprocessing(undersampling=True)"
      ],
      "metadata": {
        "id": "iiXYQdjBRY-e"
      },
      "id": "iiXYQdjBRY-e",
      "execution_count": 157,
      "outputs": []
    },
    {
      "cell_type": "code",
      "source": [
        "X_train.shape, X_val.shape, X_test.shape, y_train.shape, y_val.shape, y_test.shape"
      ],
      "metadata": {
        "colab": {
          "base_uri": "https://localhost:8080/"
        },
        "id": "uIzQ2zE9EOSu",
        "outputId": "d1888d8a-3bdb-48e4-c3c2-05d3dc3b2073"
      },
      "id": "uIzQ2zE9EOSu",
      "execution_count": 160,
      "outputs": [
        {
          "output_type": "execute_result",
          "data": {
            "text/plain": [
              "((1358, 480, 640, 3),\n",
              " (340, 480, 640, 3),\n",
              " (1120, 480, 640, 3),\n",
              " (1358, 4),\n",
              " (340, 4),\n",
              " (1120, 4))"
            ]
          },
          "metadata": {},
          "execution_count": 160
        }
      ]
    },
    {
      "cell_type": "code",
      "source": [
        "model = build_model(X_train, y_train)\n",
        "model = compile_model(model)"
      ],
      "metadata": {
        "id": "1u7l5m3jRk2P"
      },
      "id": "1u7l5m3jRk2P",
      "execution_count": 161,
      "outputs": []
    },
    {
      "cell_type": "code",
      "source": [
        "model = train_model(model, X_train, y_train, X_val, y_val)"
      ],
      "metadata": {
        "colab": {
          "base_uri": "https://localhost:8080/"
        },
        "id": "mGUCtYvARk7o",
        "outputId": "b0d29a27-c180-4bcb-fccc-7c2357adccb3"
      },
      "id": "mGUCtYvARk7o",
      "execution_count": 163,
      "outputs": [
        {
          "output_type": "stream",
          "name": "stdout",
          "text": [
            "Epoch 1/100\n",
            "85/85 [==============================] - 159s 2s/step - loss: 1.7385 - accuracy: 0.3299 - val_loss: 1.2923 - val_accuracy: 0.3412\n",
            "Epoch 2/100\n",
            "85/85 [==============================] - 147s 2s/step - loss: 1.3104 - accuracy: 0.3387 - val_loss: 1.2839 - val_accuracy: 0.3147\n",
            "Epoch 3/100\n",
            "85/85 [==============================] - 143s 2s/step - loss: 1.2996 - accuracy: 0.3380 - val_loss: 1.2713 - val_accuracy: 0.3588\n",
            "Epoch 4/100\n",
            "85/85 [==============================] - 158s 2s/step - loss: 1.2760 - accuracy: 0.3623 - val_loss: 1.2653 - val_accuracy: 0.3529\n",
            "Epoch 5/100\n",
            "85/85 [==============================] - 145s 2s/step - loss: 1.2765 - accuracy: 0.3402 - val_loss: 1.2630 - val_accuracy: 0.3588\n",
            "Epoch 6/100\n",
            "85/85 [==============================] - 143s 2s/step - loss: 1.2534 - accuracy: 0.3292 - val_loss: 1.2629 - val_accuracy: 0.3588\n",
            "Epoch 7/100\n",
            "85/85 [==============================] - 141s 2s/step - loss: 1.2434 - accuracy: 0.3328 - val_loss: 1.2834 - val_accuracy: 0.3235\n",
            "Epoch 8/100\n",
            "85/85 [==============================] - 153s 2s/step - loss: 1.2451 - accuracy: 0.3594 - val_loss: 1.2518 - val_accuracy: 0.3647\n",
            "Epoch 9/100\n",
            "85/85 [==============================] - 150s 2s/step - loss: 1.2417 - accuracy: 0.3270 - val_loss: 1.2653 - val_accuracy: 0.3088\n",
            "Epoch 10/100\n",
            "85/85 [==============================] - 144s 2s/step - loss: 1.2421 - accuracy: 0.3395 - val_loss: 1.2532 - val_accuracy: 0.3412\n",
            "Epoch 11/100\n",
            "85/85 [==============================] - 145s 2s/step - loss: 1.2377 - accuracy: 0.3461 - val_loss: 1.2584 - val_accuracy: 0.3206\n"
          ]
        }
      ]
    },
    {
      "cell_type": "code",
      "source": [
        "y_train.value_counts()"
      ],
      "metadata": {
        "colab": {
          "base_uri": "https://localhost:8080/"
        },
        "id": "dYxotz2AEZFD",
        "outputId": "e4e403bf-4663-4d97-d070-d624710d0b2e"
      },
      "id": "dYxotz2AEZFD",
      "execution_count": 167,
      "outputs": [
        {
          "output_type": "execute_result",
          "data": {
            "text/plain": [
              "event_challenge  event_negative  event_play  event_throwin\n",
              "0.0              1.0             0.0         0.0              465\n",
              "                 0.0             1.0         0.0              402\n",
              "1.0              0.0             0.0         0.0              401\n",
              "0.0              0.0             0.0         1.0               90\n",
              "dtype: int64"
            ]
          },
          "metadata": {},
          "execution_count": 167
        }
      ]
    },
    {
      "cell_type": "code",
      "source": [
        "y_test.value_counts()"
      ],
      "metadata": {
        "colab": {
          "base_uri": "https://localhost:8080/"
        },
        "id": "uen4DEK1EZTG",
        "outputId": "62b3ff09-c1d1-4ffe-e8eb-70416cb09535"
      },
      "id": "uen4DEK1EZTG",
      "execution_count": 168,
      "outputs": [
        {
          "output_type": "execute_result",
          "data": {
            "text/plain": [
              "event_challenge  event_negative  event_play  event_throwin\n",
              "0.0              0.0             1.0         0.0              797\n",
              "                 1.0             0.0         0.0              144\n",
              "1.0              0.0             0.0         0.0              119\n",
              "0.0              0.0             0.0         1.0               60\n",
              "dtype: int64"
            ]
          },
          "metadata": {},
          "execution_count": 168
        }
      ]
    },
    {
      "cell_type": "code",
      "source": [
        "new_y_test = y_test.idxmax(axis=1)\\\n",
        ".replace({'event_challenge': 0, 'event_negative': 1, 'event_play': 2, 'event_throwin': 3})"
      ],
      "metadata": {
        "id": "am2KULCEXf-Q"
      },
      "id": "am2KULCEXf-Q",
      "execution_count": 169,
      "outputs": []
    },
    {
      "cell_type": "code",
      "source": [
        "y_pred_test = model.predict(X_test)\n",
        "y_pred_test"
      ],
      "metadata": {
        "colab": {
          "base_uri": "https://localhost:8080/"
        },
        "id": "h01zT2AFD7Bv",
        "outputId": "bf67f8f0-544f-4f29-b54f-5a7230af736f"
      },
      "id": "h01zT2AFD7Bv",
      "execution_count": 170,
      "outputs": [
        {
          "output_type": "stream",
          "name": "stdout",
          "text": [
            "35/35 [==============================] - 27s 773ms/step\n"
          ]
        },
        {
          "output_type": "execute_result",
          "data": {
            "text/plain": [
              "array([[0.00267016, 0.987425  , 0.00603648, 0.00386815],\n",
              "       [0.00265423, 0.9873436 , 0.00611001, 0.00389227],\n",
              "       [0.0039089 , 0.9808896 , 0.00985101, 0.00535036],\n",
              "       ...,\n",
              "       [0.29665706, 0.31993678, 0.29723728, 0.08616886],\n",
              "       [0.2871848 , 0.33717072, 0.28238067, 0.09326389],\n",
              "       [0.2772716 , 0.34768862, 0.29145598, 0.08358379]], dtype=float32)"
            ]
          },
          "metadata": {},
          "execution_count": 170
        }
      ]
    },
    {
      "cell_type": "code",
      "source": [
        "y_pred_test_b = [np.argmax(i, axis=0) for i in y_pred_test]"
      ],
      "metadata": {
        "id": "8ILnheNFD7nA"
      },
      "id": "8ILnheNFD7nA",
      "execution_count": 171,
      "outputs": []
    },
    {
      "cell_type": "code",
      "source": [
        "ConfusionMatrixDisplay.from_predictions(new_y_test, y_pred_test_b)\n",
        "plt.show()"
      ],
      "metadata": {
        "colab": {
          "base_uri": "https://localhost:8080/",
          "height": 279
        },
        "id": "-sk1JjYbD7pG",
        "outputId": "a619afc3-a753-4dfa-f496-ac348697994e"
      },
      "id": "-sk1JjYbD7pG",
      "execution_count": 172,
      "outputs": [
        {
          "output_type": "display_data",
          "data": {
            "text/plain": [
              "<Figure size 432x288 with 2 Axes>"
            ],
            "image/png": "[encoded data removed]"
          },
          "metadata": {
            "needs_background": "light"
          }
        }
      ]
    },
    {
      "cell_type": "code",
      "source": [
        "print(f\"Macro F1 score: {f1_score(new_y_test, y_pred_test_b, average='macro'):.4f}\")"
      ],
      "metadata": {
        "colab": {
          "base_uri": "https://localhost:8080/"
        },
        "id": "26Q6u-WjExgX",
        "outputId": "0f5db00e-6fc6-4907-bf6a-40da1940829c"
      },
      "id": "26Q6u-WjExgX",
      "execution_count": 173,
      "outputs": [
        {
          "output_type": "stream",
          "name": "stdout",
          "text": [
            "Macro F1 score: 0.1528\n"
          ]
        }
      ]
    },
    {
      "cell_type": "code",
      "source": [
        "INDEX_ACCURACY = 1\n",
        "print(f'\\nAccuracy on the test set: {model.evaluate(X_test, y_test)[INDEX_ACCURACY]:.4f}')"
      ],
      "metadata": {
        "colab": {
          "base_uri": "https://localhost:8080/"
        },
        "id": "u0yfnT2pE3H2",
        "outputId": "3f97d3ad-0e2c-4a95-b5b0-bff0a1e48bc5"
      },
      "id": "u0yfnT2pE3H2",
      "execution_count": 174,
      "outputs": [
        {
          "output_type": "stream",
          "name": "stdout",
          "text": [
            "35/35 [==============================] - 27s 783ms/step - loss: 2.3058 - accuracy: 0.2830\n",
            "\n",
            "Accuracy on the test set: 0.2830\n"
          ]
        }
      ]
    },
    {
      "cell_type": "code",
      "source": [
        "model.save('/content/drive/MyDrive/Bundesliga/Models/baseline_model_2')"
      ],
      "metadata": {
        "id": "xXH-lySarDGm"
      },
      "id": "xXH-lySarDGm",
      "execution_count": 175,
      "outputs": []
    },
    {
      "cell_type": "code",
      "source": [
        "# model = load_model('/content/drive/MyDrive/Bundesliga/Models/baseline_model_2')"
      ],
      "metadata": {
        "id": "Jdn9aVPcE61S"
      },
      "id": "Jdn9aVPcE61S",
      "execution_count": null,
      "outputs": []
    },
    {
      "cell_type": "markdown",
      "source": [
        "## Building 3rd baseline model - with gray, with negatives, and with undersampling"
      ],
      "metadata": {
        "id": "AMIv_lVRFFEE"
      },
      "id": "AMIv_lVRFFEE"
    },
    {
      "cell_type": "code",
      "source": [
        "X_train, X_val, X_test, y_train, y_val, y_test = preprocessing(undersampling=True, gray=True, train_test_ratio=0.83)"
      ],
      "metadata": {
        "id": "Cr4lgeHDFab_"
      },
      "id": "Cr4lgeHDFab_",
      "execution_count": 196,
      "outputs": []
    },
    {
      "cell_type": "code",
      "source": [
        "X_train.shape, X_val.shape, X_test.shape, y_train.shape, y_val.shape, y_test.shape"
      ],
      "metadata": {
        "colab": {
          "base_uri": "https://localhost:8080/"
        },
        "id": "Gy7O6KpgsGpD",
        "outputId": "bc843e08-6169-47ba-e10d-5c060d542d6a"
      },
      "id": "Gy7O6KpgsGpD",
      "execution_count": 197,
      "outputs": [
        {
          "output_type": "execute_result",
          "data": {
            "text/plain": [
              "((1455, 480, 640, 3),\n",
              " (364, 480, 640, 3),\n",
              " (793, 480, 640, 3),\n",
              " (1455, 4),\n",
              " (364, 4),\n",
              " (793, 4))"
            ]
          },
          "metadata": {},
          "execution_count": 197
        }
      ]
    },
    {
      "cell_type": "code",
      "source": [
        "model = build_model(X_train, y_train)\n",
        "model = compile_model(model)"
      ],
      "metadata": {
        "id": "ujTxN8VuFaeq"
      },
      "id": "ujTxN8VuFaeq",
      "execution_count": 117,
      "outputs": []
    },
    {
      "cell_type": "code",
      "source": [
        "model = train_model(model, X_train, y_train, X_val, y_val)"
      ],
      "metadata": {
        "colab": {
          "base_uri": "https://localhost:8080/"
        },
        "id": "3qMi-i1VFaj5",
        "outputId": "546eabe3-fa18-4015-d270-59bc009a1a1e"
      },
      "id": "3qMi-i1VFaj5",
      "execution_count": 119,
      "outputs": [
        {
          "output_type": "stream",
          "name": "stdout",
          "text": [
            "Epoch 1/100\n",
            "90/90 [==============================] - 148s 2s/step - loss: 1.7618 - accuracy: 0.2937 - val_loss: 1.3163 - val_accuracy: 0.3278\n",
            "Epoch 2/100\n",
            "90/90 [==============================] - 147s 2s/step - loss: 1.3327 - accuracy: 0.3145 - val_loss: 1.3381 - val_accuracy: 0.3194\n",
            "Epoch 3/100\n",
            "90/90 [==============================] - 157s 2s/step - loss: 1.3067 - accuracy: 0.3396 - val_loss: 1.3208 - val_accuracy: 0.3167\n",
            "Epoch 4/100\n",
            "90/90 [==============================] - 145s 2s/step - loss: 1.3015 - accuracy: 0.3375 - val_loss: 1.3118 - val_accuracy: 0.2667\n",
            "Epoch 5/100\n",
            "90/90 [==============================] - 145s 2s/step - loss: 1.2789 - accuracy: 0.3354 - val_loss: 1.3108 - val_accuracy: 0.2972\n",
            "Epoch 6/100\n",
            "90/90 [==============================] - 144s 2s/step - loss: 1.2765 - accuracy: 0.3312 - val_loss: 1.3470 - val_accuracy: 0.2972\n",
            "Epoch 7/100\n",
            "90/90 [==============================] - 153s 2s/step - loss: 1.2743 - accuracy: 0.3396 - val_loss: 1.3098 - val_accuracy: 0.3139\n",
            "Epoch 8/100\n",
            "90/90 [==============================] - 145s 2s/step - loss: 1.2652 - accuracy: 0.3591 - val_loss: 1.3374 - val_accuracy: 0.2944\n",
            "Epoch 9/100\n",
            "90/90 [==============================] - 145s 2s/step - loss: 1.2633 - accuracy: 0.3264 - val_loss: 1.3274 - val_accuracy: 0.3333\n",
            "Epoch 10/100\n",
            "90/90 [==============================] - 146s 2s/step - loss: 1.2613 - accuracy: 0.3417 - val_loss: 1.3243 - val_accuracy: 0.3056\n"
          ]
        }
      ]
    },
    {
      "cell_type": "code",
      "source": [
        "new_y_test = y_test.idxmax(axis=1)\\\n",
        ".replace({'event_challenge': 0, 'event_negative': 1, 'event_play': 2, 'event_throwin': 3})"
      ],
      "metadata": {
        "id": "rc_bautCFaow"
      },
      "id": "rc_bautCFaow",
      "execution_count": 199,
      "outputs": []
    },
    {
      "cell_type": "code",
      "source": [
        "y_pred_test = model.predict(X_test)"
      ],
      "metadata": {
        "colab": {
          "base_uri": "https://localhost:8080/"
        },
        "id": "JqtcxJKPFarL",
        "outputId": "557e8bc7-e2f3-4a35-af3e-c6f1cb230219"
      },
      "id": "JqtcxJKPFarL",
      "execution_count": 200,
      "outputs": [
        {
          "output_type": "stream",
          "name": "stdout",
          "text": [
            "25/25 [==============================] - 19s 747ms/step\n"
          ]
        }
      ]
    },
    {
      "cell_type": "code",
      "source": [
        "y_pred_test_b = [np.argmax(i, axis=0) for i in y_pred_test]"
      ],
      "metadata": {
        "id": "2JuX7R8PFate"
      },
      "id": "2JuX7R8PFate",
      "execution_count": 201,
      "outputs": []
    },
    {
      "cell_type": "code",
      "source": [
        "y_train.value_counts()"
      ],
      "metadata": {
        "colab": {
          "base_uri": "https://localhost:8080/"
        },
        "id": "J1_hIW8ljhoy",
        "outputId": "eccf97b7-993f-4e30-899a-92a1f3cdbc77"
      },
      "id": "J1_hIW8ljhoy",
      "execution_count": 202,
      "outputs": [
        {
          "output_type": "execute_result",
          "data": {
            "text/plain": [
              "event_challenge  event_negative  event_play  event_throwin\n",
              "0.0              1.0             0.0         0.0              477\n",
              "                 0.0             1.0         0.0              436\n",
              "1.0              0.0             0.0         0.0              430\n",
              "0.0              0.0             0.0         1.0              112\n",
              "dtype: int64"
            ]
          },
          "metadata": {},
          "execution_count": 202
        }
      ]
    },
    {
      "cell_type": "code",
      "source": [
        "y_test.value_counts()"
      ],
      "metadata": {
        "colab": {
          "base_uri": "https://localhost:8080/"
        },
        "id": "k1jUan6Wjjyt",
        "outputId": "de577801-b55f-4993-a468-be1dd57f98b7"
      },
      "id": "k1jUan6Wjjyt",
      "execution_count": 203,
      "outputs": [
        {
          "output_type": "execute_result",
          "data": {
            "text/plain": [
              "event_challenge  event_negative  event_play  event_throwin\n",
              "0.0              0.0             1.0         0.0              556\n",
              "                 1.0             0.0         0.0              122\n",
              "1.0              0.0             0.0         0.0               84\n",
              "0.0              0.0             0.0         1.0               31\n",
              "dtype: int64"
            ]
          },
          "metadata": {},
          "execution_count": 203
        }
      ]
    },
    {
      "cell_type": "code",
      "source": [
        "ConfusionMatrixDisplay.from_predictions(new_y_test, y_pred_test_b)\n",
        "plt.show()"
      ],
      "metadata": {
        "colab": {
          "base_uri": "https://localhost:8080/",
          "height": 279
        },
        "id": "p-4DHtu3FawJ",
        "outputId": "24c0b6ca-8897-44e6-eec7-40c8f1dbe25b"
      },
      "id": "p-4DHtu3FawJ",
      "execution_count": 204,
      "outputs": [
        {
          "output_type": "display_data",
          "data": {
            "text/plain": [
              "<Figure size 432x288 with 2 Axes>"
            ],
            "image/png": "[encoded data removed]"
          },
          "metadata": {
            "needs_background": "light"
          }
        }
      ]
    },
    {
      "cell_type": "code",
      "source": [
        "print(f\"Macro F1 score: {f1_score(new_y_test, y_pred_test_b, average='macro'):.4f}\")"
      ],
      "metadata": {
        "colab": {
          "base_uri": "https://localhost:8080/"
        },
        "id": "QyitDEZIrsXz",
        "outputId": "4334c3f7-5f84-4884-9a94-fdff457cd13c"
      },
      "id": "QyitDEZIrsXz",
      "execution_count": 205,
      "outputs": [
        {
          "output_type": "stream",
          "name": "stdout",
          "text": [
            "Macro F1 score: 0.2703\n"
          ]
        }
      ]
    },
    {
      "cell_type": "code",
      "source": [
        "INDEX_ACCURACY = 1\n",
        "print(f'\\nAccuracy on the test set: {model.evaluate(X_test, y_test)[INDEX_ACCURACY]:.4f}')"
      ],
      "metadata": {
        "colab": {
          "base_uri": "https://localhost:8080/"
        },
        "id": "759OeTGzrx1g",
        "outputId": "7883f4bc-9753-4272-e203-0b9acadd0b6f"
      },
      "id": "759OeTGzrx1g",
      "execution_count": 198,
      "outputs": [
        {
          "output_type": "stream",
          "name": "stdout",
          "text": [
            "25/25 [==============================] - 19s 752ms/step - loss: 1.2495 - accuracy: 0.6040\n",
            "\n",
            "Accuracy on the test set: 0.6040\n"
          ]
        }
      ]
    },
    {
      "cell_type": "code",
      "source": [
        "model.save('/content/drive/MyDrive/Bundesliga/Models/baseline_model_3')"
      ],
      "metadata": {
        "id": "4nCvR7LHFayc"
      },
      "id": "4nCvR7LHFayc",
      "execution_count": 190,
      "outputs": []
    },
    {
      "cell_type": "code",
      "source": [
        "# model = load_model('/content/drive/MyDrive/Bundesliga/Models/baseline_model_3')"
      ],
      "metadata": {
        "id": "_e-t_JElFa1c"
      },
      "id": "_e-t_JElFa1c",
      "execution_count": 193,
      "outputs": []
    }
  ],
  "metadata": {
    "kernelspec": {
      "display_name": "Python 3 (ipykernel)",
      "language": "python",
      "name": "python3"
    },
    "language_info": {
      "codemirror_mode": {
        "name": "ipython",
        "version": 3
      },
      "file_extension": ".py",
      "mimetype": "text/x-python",
      "name": "python",
      "nbconvert_exporter": "python",
      "pygments_lexer": "ipython3",
      "version": "3.9.6"
    },
    "colab": {
      "provenance": [],
      "machine_shape": "hm"
    }
  },
  "nbformat": 4,
  "nbformat_minor": 5
}