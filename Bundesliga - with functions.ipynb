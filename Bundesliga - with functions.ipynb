{
  "cells": [
    {
      "cell_type": "markdown",
      "source": [
        "## Setup"
      ],
      "metadata": {
        "id": "GpAsh3Bc7wes"
      },
      "id": "GpAsh3Bc7wes"
    },
    {
      "cell_type": "code",
      "execution_count": 62,
      "id": "bdd5df7c",
      "metadata": {
        "id": "bdd5df7c"
      },
      "outputs": [],
      "source": [
        "import os\n",
        "import sys\n",
        "import pandas as pd\n",
        "import numpy as np\n",
        "import matplotlib.pyplot as plt\n",
        "from sklearn.preprocessing import OneHotEncoder, OrdinalEncoder\n",
        "from sklearn.model_selection import train_test_split\n",
        "from sklearn.utils import class_weight\n",
        "from sklearn.metrics import ConfusionMatrixDisplay, classification_report, f1_score\n",
        "from tensorflow.keras import Sequential\n",
        "from tensorflow.keras.layers import Rescaling, Conv2D, MaxPooling2D, AveragePooling2D, Flatten, Dense, Dropout, BatchNormalization\n",
        "from tensorflow.keras.callbacks import EarlyStopping\n",
        "from tensorflow.keras.models import load_model\n"
      ]
    },
    {
      "cell_type": "code",
      "source": [
        "import absl.logging\n",
        "absl.logging.set_verbosity(absl.logging.ERROR)\n",
        "\n",
        "np.set_printoptions(suppress=True)"
      ],
      "metadata": {
        "id": "O7r39l1SJeMf"
      },
      "id": "O7r39l1SJeMf",
      "execution_count": 2,
      "outputs": []
    },
    {
      "cell_type": "code",
      "source": [
        "from google.colab import drive\n",
        "drive.mount('/content/drive')"
      ],
      "metadata": {
        "colab": {
          "base_uri": "https://localhost:8080/"
        },
        "id": "0Qa_p6bQwIuH",
        "outputId": "363130ed-f976-4df8-927f-cd8dad98c4f8"
      },
      "id": "0Qa_p6bQwIuH",
      "execution_count": 3,
      "outputs": [
        {
          "output_type": "stream",
          "name": "stdout",
          "text": [
            "Drive already mounted at /content/drive; to attempt to forcibly remount, call drive.mount(\"/content/drive\", force_remount=True).\n"
          ]
        }
      ]
    },
    {
      "cell_type": "code",
      "execution_count": 4,
      "id": "d552a9f7",
      "metadata": {
        "id": "d552a9f7"
      },
      "outputs": [],
      "source": [
        "# Defining constant variables\n",
        "TRAIN_PATH = '/content/drive/MyDrive/Bundesliga/train.csv'\n",
        "POSITIVES_FOLDER_PATH = '/content/drive/MyDrive/Bundesliga/PicsFromVids/CompressedPic/'\n",
        "NEGATIVES_FOLDER_PATH = '/content/drive/MyDrive/Bundesliga/PicsFromVids/CompressedPic/Negatives/'\n",
        "GRAY_POSITIVES_FOLDER_PATH = '/content/drive/MyDrive/Bundesliga/PicsFromVids/CompressedPic/PositiveGray/'\n",
        "GRAY_NEGATIVES_FOLDER_PATH = '/content/drive/MyDrive/Bundesliga/PicsFromVids/CompressedPic/NegativeGray/'"
      ]
    },
    {
      "cell_type": "markdown",
      "source": [
        "## Defining functions"
      ],
      "metadata": {
        "id": "x39a1Wl-78KJ"
      },
      "id": "x39a1Wl-78KJ"
    },
    {
      "cell_type": "code",
      "source": [
        "def create_df_events():\n",
        "  \"\"\"Reads original DataFrame and creates antoher one with only relevant events\"\"\"\n",
        "  df = pd.read_csv(TRAIN_PATH)\n",
        "  df_events = df[~df['event_attributes'].isna()].copy()\n",
        "  df_events.reset_index(drop=True, inplace=True)\n",
        "  return df, df_events"
      ],
      "metadata": {
        "id": "Rlkr7clkqqFV"
      },
      "id": "Rlkr7clkqqFV",
      "execution_count": 5,
      "outputs": []
    },
    {
      "cell_type": "code",
      "source": [
        "def create_train_test_video_ids(df_events, train_size):\n",
        "  \"\"\"Creates two arrays with which videos are either part of the train or the test data\"\"\"\n",
        "  video_ids = df_events['video_id'].unique().tolist()\n",
        "  amount_videos = len(video_ids)\n",
        "  amount_train = round(amount_videos * train_size)\n",
        "  train_videos = video_ids[:amount_train]\n",
        "  test_videos = video_ids[amount_train:]\n",
        "  return video_ids, train_videos, test_videos"
      ],
      "metadata": {
        "id": "9ql9kIOqqxQR"
      },
      "id": "9ql9kIOqqxQR",
      "execution_count": 6,
      "outputs": []
    },
    {
      "cell_type": "code",
      "source": [
        "def create_X(video_ids, negatives, gray):\n",
        "  \"\"\"Creates X array with all pictures for both train and test data\"\"\"\n",
        "  X = list()\n",
        "  POS_PATH, NEG_PATH = POSITIVES_FOLDER_PATH, NEGATIVES_FOLDER_PATH\n",
        "  if gray:\n",
        "    POS_PATH, NEG_PATH = GRAY_POSITIVES_FOLDER_PATH, GRAY_NEGATIVES_FOLDER_PATH\n",
        "  for video_id in video_ids:\n",
        "    current_video = np.load(f'{POS_PATH}{video_id}.npz')\n",
        "    current_video = current_video.f.arr_0\n",
        "    X.append(current_video)\n",
        "  if negatives:\n",
        "    for video_id in video_ids:\n",
        "      current_neg_video = np.load(f'{NEG_PATH}{video_id}.npz')\n",
        "      current_neg_video = current_neg_video.f.arr_0\n",
        "      X.append(current_neg_video)\n",
        "  X = np.concatenate(X, axis=0)\n",
        "  return X"
      ],
      "metadata": {
        "id": "_0E8PMcwqxSV"
      },
      "id": "_0E8PMcwqxSV",
      "execution_count": 7,
      "outputs": []
    },
    {
      "cell_type": "code",
      "source": [
        "def train_test_X_split(df_events, X, train_videos, test_videos):\n",
        "  \"\"\"Splits pictures in train and test data\"\"\"\n",
        "  train_idx = df_events[df_events['video_id'].isin(train_videos)].index\n",
        "  test_idx = df_events[df_events['video_id'].isin(test_videos)].index\n",
        "  X_train = X[train_idx]\n",
        "  X_test = X[test_idx]\n",
        "  assert df_events.shape[0] == X_train.shape[0] + X_test.shape[0]\n",
        "  return X_train, X_test, train_idx, test_idx"
      ],
      "metadata": {
        "id": "HBcw2nYJqxUs"
      },
      "id": "HBcw2nYJqxUs",
      "execution_count": 8,
      "outputs": []
    },
    {
      "cell_type": "code",
      "source": [
        "def train_test_y_split(df_events, train_idx, test_idx):\n",
        "  \"\"\"Creates DataFrame of labels for both train and test data using videos ids\"\"\"\n",
        "  y_train = df_events[df_events.index.isin(train_idx)]['event'].to_frame()\n",
        "  y_test = df_events[df_events.index.isin(test_idx)]['event'].to_frame()\n",
        "  return y_train, y_test"
      ],
      "metadata": {
        "id": "Y6vx6gtDqxXD"
      },
      "id": "Y6vx6gtDqxXD",
      "execution_count": 9,
      "outputs": []
    },
    {
      "cell_type": "code",
      "source": [
        "def append_negatives(df_events, X, X_train, X_test, y_train, y_test, train_size):\n",
        "  \"\"\"Appends negative samples created to both train and both test datasets\"\"\"\n",
        "  len_positives = df_events.shape[0]\n",
        "  len_X = X.shape[0]\n",
        "  len_negatives = len_X - len_positives\n",
        "\n",
        "  START_IDX_NEGATIVES = df_events.shape[0]\n",
        "  START_IDX_NEG_TEST = round(START_IDX_NEGATIVES + len_negatives * train_size)\n",
        "  X_train_neg = X[START_IDX_NEGATIVES:START_IDX_NEG_TEST]\n",
        "  X_test_neg = X[START_IDX_NEG_TEST:]\n",
        "  assert len_negatives == X_train_neg.shape[0] + X_test_neg.shape[0]\n",
        "\n",
        "  X_train = np.concatenate((X_train, X_train_neg), axis=0)\n",
        "  X_test = np.concatenate((X_test, X_test_neg), axis=0)\n",
        "\n",
        "  y_train = y_train.append(pd.DataFrame({'event':['negative'] * X_train_neg.shape[0]}))\n",
        "  y_train.reset_index(drop=True, inplace=True)\n",
        "  y_test = y_test.append(pd.DataFrame({'event':['negative'] * X_test_neg.shape[0]}))\n",
        "  return X_train, X_test, y_train, y_test"
      ],
      "metadata": {
        "id": "QmIyOAAvP9g-"
      },
      "id": "QmIyOAAvP9g-",
      "execution_count": 10,
      "outputs": []
    },
    {
      "cell_type": "code",
      "source": [
        "def create_array_to_drop_for_undersampling_in_play(y_train):\n",
        "  \"\"\"Creates array of indexes to drop and perform undersampling in column 'play'\"\"\"\n",
        "  play_indexes = y_train[y_train['event'] == 'play'].index\n",
        "  assert y_train.value_counts()['play'] == len(play_indexes)\n",
        "  play_amount = y_train.value_counts()['play']\n",
        "  challenge_amount = y_train.value_counts()['challenge']\n",
        "  drop_play_indexes = np.sort(np.random.choice(a=play_indexes, \n",
        "                                              size=play_amount - challenge_amount, \n",
        "                                              replace=False))\n",
        "  assert len(drop_play_indexes) == play_amount - challenge_amount\n",
        "  return drop_play_indexes"
      ],
      "metadata": {
        "id": "HFePTN4FqxZk"
      },
      "id": "HFePTN4FqxZk",
      "execution_count": 11,
      "outputs": []
    },
    {
      "cell_type": "code",
      "source": [
        "def perform_undersampling(X_train, y_train, drop_play_indexes):\n",
        "  \"\"\"Performs undersampling in 'play' category to balance it with 'challenge'\"\"\"\n",
        "  X_train = np.delete(X_train, drop_play_indexes, axis=0) # Numpy array\n",
        "  y_train.drop(drop_play_indexes, axis=0, inplace=True) # Pandas DataFrame\n",
        "  return X_train, y_train"
      ],
      "metadata": {
        "id": "YVpNrxhfqqHh"
      },
      "id": "YVpNrxhfqqHh",
      "execution_count": 12,
      "outputs": []
    },
    {
      "cell_type": "code",
      "source": [
        "def ordinal_encoding(y_train, y_test):\n",
        "  \"\"\"Performs ordinal encoding on our labels\"\"\"\n",
        "  encoder = OrdinalEncoder()\n",
        "  y_train = pd.Series(encoder.fit_transform(y_train).ravel())\n",
        "  y_test = pd.Series(encoder.fit_transform(y_test).ravel())\n",
        "  return y_train, y_test"
      ],
      "metadata": {
        "id": "8EdEYJSXse1Q"
      },
      "id": "8EdEYJSXse1Q",
      "execution_count": 13,
      "outputs": []
    },
    {
      "cell_type": "code",
      "source": [
        "def train_val_split(X_train, y_train, train_size):\n",
        "  \"\"\"Splits train data into train and validation sets\"\"\"\n",
        "  X_train, X_val, y_train, y_val = train_test_split(X_train, y_train, train_size=train_size, random_state=0)\n",
        "  return X_train, X_val, y_train, y_val"
      ],
      "metadata": {
        "id": "r0drENxbuE3Q"
      },
      "id": "r0drENxbuE3Q",
      "execution_count": 14,
      "outputs": []
    },
    {
      "cell_type": "code",
      "source": [
        "def del_X(X):\n",
        "  \"\"\"Deletes heavy variable X to free RAM\"\"\"\n",
        "  del X"
      ],
      "metadata": {
        "id": "NuWFnkBAse3Q"
      },
      "id": "NuWFnkBAse3Q",
      "execution_count": 15,
      "outputs": []
    },
    {
      "cell_type": "code",
      "source": [
        "def preprocessing(train_test_ratio=0.75, train_val_ratio=0.8, negatives=True, undersampling=False, gray=False, free_ram=True):\n",
        "  \"\"\"Runs the whole pipeline before building the model\"\"\"\n",
        "  df, df_events = create_df_events()\n",
        "  video_ids, train_videos, test_videos = create_train_test_video_ids(df_events, train_test_ratio)\n",
        "  X = create_X(video_ids, negatives, gray)\n",
        "  X_train, X_test, train_idx, test_idx = train_test_X_split(df_events, X, train_videos, test_videos)\n",
        "  y_train, y_test = train_test_y_split(df_events, train_idx, test_idx)\n",
        "  if negatives:\n",
        "    X_train, X_test, y_train, y_test = append_negatives(df_events, X, X_train, X_test, y_train, y_test, train_test_ratio)\n",
        "  if undersampling:\n",
        "    drop_play_indexes = create_array_to_drop_for_undersampling_in_play(y_train)\n",
        "    X_train, y_train = perform_undersampling(X_train, y_train, drop_play_indexes)\n",
        "  # display(y_train) # ERASE AFTER DEBUG\n",
        "  y_train, y_test = ordinal_encoding(y_train, y_test)\n",
        "  # display(y_train) # ERASE AFTER DEBUG\n",
        "  X_train, X_val, y_train, y_val = train_val_split(X_train, y_train, train_val_ratio)\n",
        "  if free_ram:\n",
        "    del_X(X)\n",
        "  return X_train, X_val, X_test, y_train, y_val, y_test"
      ],
      "metadata": {
        "id": "HfTnNbKsMNQE"
      },
      "id": "HfTnNbKsMNQE",
      "execution_count": 16,
      "outputs": []
    },
    {
      "cell_type": "code",
      "source": [
        "def build_model(X_train, y_train, architecture='AlexNet'):\n",
        "  \"\"\"Builds CNN architecture of the model\"\"\"\n",
        "  input_shape = X_train.shape[1], X_train.shape[2], X_train.shape[3]\n",
        "  num_classes = y_train.nunique()\n",
        "\n",
        "  if architecture == 'AlexNet':\n",
        "    model = Sequential([\n",
        "        Rescaling(1/255, \n",
        "                  input_shape=input_shape),  \n",
        "\n",
        "        Conv2D(filters=96, \n",
        "               kernel_size=(11, 11), \n",
        "               strides=(4, 4), \n",
        "               activation='relu'),\n",
        "\n",
        "        BatchNormalization(),\n",
        "\n",
        "        MaxPooling2D(pool_size=(3, 3), \n",
        "                     strides=(2, 2)),\n",
        "\n",
        "        Conv2D(filters=256, \n",
        "               kernel_size=(5, 5),\n",
        "               strides=(3, 3), # (1, 1)\n",
        "               activation='relu',\n",
        "               padding='same'),\n",
        "\n",
        "        BatchNormalization(),\n",
        "\n",
        "        MaxPooling2D(pool_size=(3, 3), \n",
        "                     strides=(2, 2)),\n",
        "\n",
        "        Conv2D(filters=384, \n",
        "               kernel_size=(3, 3),\n",
        "               strides=(2, 2), # (1, 1)\n",
        "               activation='relu',\n",
        "               padding='same'),\n",
        "\n",
        "        BatchNormalization(),\n",
        "\n",
        "        Conv2D(filters=384, \n",
        "               kernel_size=(3, 3),\n",
        "               strides=(2, 2), # (1, 1)\n",
        "               activation='relu',\n",
        "               padding='same'),\n",
        "\n",
        "        BatchNormalization(),\n",
        "\n",
        "        Conv2D(filters=256, \n",
        "               kernel_size=(3, 3),\n",
        "               strides=(1, 1), \n",
        "               activation='relu',\n",
        "               padding='same'),\n",
        "\n",
        "        BatchNormalization(),\n",
        "\n",
        "        MaxPooling2D(pool_size=(3, 3), \n",
        "                     strides=(2, 2)),\n",
        "\n",
        "        Flatten(),\n",
        "\n",
        "        Dense(256, \n",
        "              activation='relu'),\n",
        "\n",
        "        Dropout(0.5), \n",
        "\n",
        "        Dense(256, \n",
        "              activation='relu'),\n",
        "\n",
        "        Dropout(0.5), \n",
        "\n",
        "        Dense(num_classes, \n",
        "              activation='softmax')\n",
        "        ])\n",
        "\n",
        "    return model"
      ],
      "metadata": {
        "id": "V11f-06k-hN2"
      },
      "id": "V11f-06k-hN2",
      "execution_count": 34,
      "outputs": []
    },
    {
      "cell_type": "code",
      "source": [
        "def compile_model(model, optimizer='adam'):\n",
        "  \"\"\"Compiles the model\"\"\"\n",
        "  model.compile(loss='sparse_categorical_crossentropy',\n",
        "              optimizer=optimizer,\n",
        "              metrics='accuracy',\n",
        "              )\n",
        "  return model"
      ],
      "metadata": {
        "id": "aOZvepLXTdnq"
      },
      "id": "aOZvepLXTdnq",
      "execution_count": 52,
      "outputs": []
    },
    {
      "cell_type": "code",
      "source": [
        "def train_model(model, X_train, y_train, X_val, y_val, epochs=100, batch_size=16, patience=3, account_weights=False):\n",
        "  \"\"\"Trains the model\"\"\"\n",
        "  callback = EarlyStopping(monitor='val_loss',\n",
        "                         patience=patience,\n",
        "                         restore_best_weights=True\n",
        "                         )\n",
        "  \n",
        "  if account_weights == True:\n",
        "    weights = class_weight.compute_class_weight('balanced',\n",
        "                                                classes=np.unique(y_train),\n",
        "                                                y=y_train)\n",
        "    class_weights = dict()\n",
        "    for i, value in enumerate(weights):\n",
        "      class_weights[i] = value\n",
        "\n",
        "  else:\n",
        "    class_weights = None\n",
        "\n",
        "  model.fit(X_train, \n",
        "            y_train, \n",
        "            validation_data=(X_val, y_val), \n",
        "            batch_size=batch_size, \n",
        "            epochs=epochs,\n",
        "            class_weight=class_weights,\n",
        "            callbacks=[callback])\n",
        "  \n",
        "  return model"
      ],
      "metadata": {
        "id": "HmzGNXkwTdpS"
      },
      "id": "HmzGNXkwTdpS",
      "execution_count": 83,
      "outputs": []
    },
    {
      "cell_type": "markdown",
      "source": [
        "## Building 1st baseline model - with negatives and without undersampling"
      ],
      "metadata": {
        "id": "lnLdhmIlxg6m"
      },
      "id": "lnLdhmIlxg6m"
    },
    {
      "cell_type": "code",
      "source": [
        "X_train, X_val, X_test, y_train, y_val, y_test = preprocessing()"
      ],
      "metadata": {
        "id": "QTiRwYndvaMx"
      },
      "id": "QTiRwYndvaMx",
      "execution_count": 31,
      "outputs": []
    },
    {
      "cell_type": "code",
      "source": [
        "X_train.shape, X_val.shape, X_test.shape, y_train.shape, y_val.shape, y_test.shape"
      ],
      "metadata": {
        "id": "zbuk5GO_264m",
        "colab": {
          "base_uri": "https://localhost:8080/"
        },
        "outputId": "5fbdaafc-3e92-4e86-e3aa-83fb431df357"
      },
      "id": "zbuk5GO_264m",
      "execution_count": 23,
      "outputs": [
        {
          "output_type": "execute_result",
          "data": {
            "text/plain": [
              "((3156, 480, 640, 3),\n",
              " (790, 480, 640, 3),\n",
              " (1156, 480, 640, 3),\n",
              " (3156, 4),\n",
              " (790, 4),\n",
              " (1156, 4))"
            ]
          },
          "metadata": {},
          "execution_count": 23
        }
      ]
    },
    {
      "cell_type": "code",
      "source": [
        "model = build_model(X_train, y_train)\n",
        "model = compile_model(model)"
      ],
      "metadata": {
        "id": "-UHADNpXTZGr"
      },
      "id": "-UHADNpXTZGr",
      "execution_count": 24,
      "outputs": []
    },
    {
      "cell_type": "code",
      "source": [
        "model.summary()"
      ],
      "metadata": {
        "colab": {
          "base_uri": "https://localhost:8080/"
        },
        "id": "LoLpJhGfgJ9D",
        "outputId": "1612a7d6-9149-4c89-e379-9b324eca6a87"
      },
      "id": "LoLpJhGfgJ9D",
      "execution_count": 25,
      "outputs": [
        {
          "output_type": "stream",
          "name": "stdout",
          "text": [
            "Model: \"sequential\"\n",
            "_________________________________________________________________\n",
            " Layer (type)                Output Shape              Param #   \n",
            "=================================================================\n",
            " rescaling (Rescaling)       (None, 480, 640, 3)       0         \n",
            "                                                                 \n",
            " conv2d (Conv2D)             (None, 118, 158, 96)      34944     \n",
            "                                                                 \n",
            " batch_normalization (BatchN  (None, 118, 158, 96)     384       \n",
            " ormalization)                                                   \n",
            "                                                                 \n",
            " max_pooling2d (MaxPooling2D  (None, 58, 78, 96)       0         \n",
            " )                                                               \n",
            "                                                                 \n",
            " conv2d_1 (Conv2D)           (None, 20, 26, 256)       614656    \n",
            "                                                                 \n",
            " batch_normalization_1 (Batc  (None, 20, 26, 256)      1024      \n",
            " hNormalization)                                                 \n",
            "                                                                 \n",
            " max_pooling2d_1 (MaxPooling  (None, 9, 12, 256)       0         \n",
            " 2D)                                                             \n",
            "                                                                 \n",
            " conv2d_2 (Conv2D)           (None, 5, 6, 384)         885120    \n",
            "                                                                 \n",
            " batch_normalization_2 (Batc  (None, 5, 6, 384)        1536      \n",
            " hNormalization)                                                 \n",
            "                                                                 \n",
            " conv2d_3 (Conv2D)           (None, 3, 3, 384)         1327488   \n",
            "                                                                 \n",
            " batch_normalization_3 (Batc  (None, 3, 3, 384)        1536      \n",
            " hNormalization)                                                 \n",
            "                                                                 \n",
            " conv2d_4 (Conv2D)           (None, 3, 3, 256)         884992    \n",
            "                                                                 \n",
            " batch_normalization_4 (Batc  (None, 3, 3, 256)        1024      \n",
            " hNormalization)                                                 \n",
            "                                                                 \n",
            " max_pooling2d_2 (MaxPooling  (None, 1, 1, 256)        0         \n",
            " 2D)                                                             \n",
            "                                                                 \n",
            " flatten (Flatten)           (None, 256)               0         \n",
            "                                                                 \n",
            " dense (Dense)               (None, 256)               65792     \n",
            "                                                                 \n",
            " dropout (Dropout)           (None, 256)               0         \n",
            "                                                                 \n",
            " dense_1 (Dense)             (None, 256)               65792     \n",
            "                                                                 \n",
            " dropout_1 (Dropout)         (None, 256)               0         \n",
            "                                                                 \n",
            " dense_2 (Dense)             (None, 4)                 1028      \n",
            "                                                                 \n",
            "=================================================================\n",
            "Total params: 3,885,316\n",
            "Trainable params: 3,882,564\n",
            "Non-trainable params: 2,752\n",
            "_________________________________________________________________\n"
          ]
        }
      ]
    },
    {
      "cell_type": "code",
      "source": [
        "model = train_model(model, X_train, y_train, X_val, y_val)"
      ],
      "metadata": {
        "colab": {
          "base_uri": "https://localhost:8080/"
        },
        "id": "VZ0cUKmRTcS8",
        "outputId": "3f58918b-70fe-4b0a-b7c5-c4a3c7efa7e3"
      },
      "id": "VZ0cUKmRTcS8",
      "execution_count": 26,
      "outputs": [
        {
          "output_type": "stream",
          "name": "stdout",
          "text": [
            "Epoch 1/100\n",
            "198/198 [==============================] - 330s 2s/step - loss: 1.1150 - accuracy: 0.6606 - val_loss: 0.9144 - val_accuracy: 0.7063\n",
            "Epoch 2/100\n",
            "198/198 [==============================] - 319s 2s/step - loss: 0.9342 - accuracy: 0.7060 - val_loss: 0.8631 - val_accuracy: 0.7063\n",
            "Epoch 3/100\n",
            "198/198 [==============================] - 315s 2s/step - loss: 0.9363 - accuracy: 0.7037 - val_loss: 0.8906 - val_accuracy: 0.7063\n",
            "Epoch 4/100\n",
            "198/198 [==============================] - 316s 2s/step - loss: 0.8962 - accuracy: 0.7075 - val_loss: 0.8945 - val_accuracy: 0.7063\n",
            "Epoch 5/100\n",
            "198/198 [==============================] - 315s 2s/step - loss: 0.8866 - accuracy: 0.7066 - val_loss: 0.8719 - val_accuracy: 0.7051\n"
          ]
        }
      ]
    },
    {
      "cell_type": "code",
      "source": [
        "y_train.value_counts()"
      ],
      "metadata": {
        "colab": {
          "base_uri": "https://localhost:8080/"
        },
        "id": "IpGzF5UaCS9U",
        "outputId": "2ab036eb-6fe2-48bd-ef7a-dfcfb6a2b5db"
      },
      "id": "IpGzF5UaCS9U",
      "execution_count": 27,
      "outputs": [
        {
          "output_type": "execute_result",
          "data": {
            "text/plain": [
              "event_challenge  event_negative  event_play  event_throwin\n",
              "0.0              0.0             1.0         0.0              2231\n",
              "                 1.0             0.0         0.0               427\n",
              "1.0              0.0             0.0         0.0               407\n",
              "0.0              0.0             0.0         1.0                91\n",
              "dtype: int64"
            ]
          },
          "metadata": {},
          "execution_count": 27
        }
      ]
    },
    {
      "cell_type": "code",
      "source": [
        "y_test.value_counts()"
      ],
      "metadata": {
        "colab": {
          "base_uri": "https://localhost:8080/"
        },
        "id": "ljpgDR0ECaaA",
        "outputId": "b51094f7-a885-49e1-d764-d0ba4429e078"
      },
      "id": "ljpgDR0ECaaA",
      "execution_count": 28,
      "outputs": [
        {
          "output_type": "execute_result",
          "data": {
            "text/plain": [
              "event_challenge  event_negative  event_play  event_throwin\n",
              "0.0              0.0             1.0         0.0              797\n",
              "                 1.0             0.0         0.0              180\n",
              "1.0              0.0             0.0         0.0              119\n",
              "0.0              0.0             0.0         1.0               60\n",
              "dtype: int64"
            ]
          },
          "metadata": {},
          "execution_count": 28
        }
      ]
    },
    {
      "cell_type": "code",
      "source": [
        "new_y_test = y_test.idxmax(axis=1)\\\n",
        ".replace({'event_challenge': 0, 'event_negative': 1, 'event_play': 2, 'event_throwin': 3})"
      ],
      "metadata": {
        "id": "o7lFvmG_PuSj"
      },
      "id": "o7lFvmG_PuSj",
      "execution_count": 29,
      "outputs": []
    },
    {
      "cell_type": "code",
      "source": [
        "y_pred_test = model.predict(X_test)"
      ],
      "metadata": {
        "colab": {
          "base_uri": "https://localhost:8080/"
        },
        "id": "TtpmLXeXREhX",
        "outputId": "83ee65bd-0f26-4b40-b107-55e69210595b"
      },
      "id": "TtpmLXeXREhX",
      "execution_count": 30,
      "outputs": [
        {
          "output_type": "stream",
          "name": "stdout",
          "text": [
            "37/37 [==============================] - 28s 752ms/step\n"
          ]
        }
      ]
    },
    {
      "cell_type": "code",
      "source": [
        "y_pred_test_b = [np.argmax(i, axis=0) for i in y_pred_test]"
      ],
      "metadata": {
        "id": "KBafB6mWRCKQ"
      },
      "id": "KBafB6mWRCKQ",
      "execution_count": 31,
      "outputs": []
    },
    {
      "cell_type": "code",
      "source": [
        "ConfusionMatrixDisplay.from_predictions(new_y_test, y_pred_test_b)\n",
        "plt.show()"
      ],
      "metadata": {
        "colab": {
          "base_uri": "https://localhost:8080/",
          "height": 279
        },
        "id": "r6aCC1DtQ4wj",
        "outputId": "98adb3bb-be90-42af-f5cf-61f32b06b934"
      },
      "id": "r6aCC1DtQ4wj",
      "execution_count": 32,
      "outputs": [
        {
          "output_type": "display_data",
          "data": {
            "text/plain": [
              "<Figure size 432x288 with 2 Axes>"
            ],
            "image/png": "[encoded data removed]"
          },
          "metadata": {
            "needs_background": "light"
          }
        }
      ]
    },
    {
      "cell_type": "code",
      "source": [
        "print(f\"Macro F1 score: {f1_score(new_y_test, y_pred_test_b, average='macro'):.4f}\")"
      ],
      "metadata": {
        "colab": {
          "base_uri": "https://localhost:8080/"
        },
        "id": "4BJMFMg8By7H",
        "outputId": "b59fb056-71bc-4604-a7d0-e4fd9bc3d308"
      },
      "id": "4BJMFMg8By7H",
      "execution_count": 33,
      "outputs": [
        {
          "output_type": "stream",
          "name": "stdout",
          "text": [
            "Macro F1 score: 0.2040\n"
          ]
        }
      ]
    },
    {
      "cell_type": "code",
      "source": [
        "INDEX_ACCURACY = 1\n",
        "print(f'\\nAccuracy on the test set: {model.evaluate(X_test, y_test)[INDEX_ACCURACY]:.4f}')"
      ],
      "metadata": {
        "colab": {
          "base_uri": "https://localhost:8080/"
        },
        "id": "LDCF48tEMEbY",
        "outputId": "f8c88009-f758-4fea-c674-fb128b0d1c56"
      },
      "id": "LDCF48tEMEbY",
      "execution_count": 34,
      "outputs": [
        {
          "output_type": "stream",
          "name": "stdout",
          "text": [
            "37/37 [==============================] - 27s 721ms/step - loss: 0.9714 - accuracy: 0.6894\n",
            "\n",
            "Accuracy on the test set: 0.6894\n"
          ]
        }
      ]
    },
    {
      "cell_type": "code",
      "source": [
        "# model.save('/content/drive/MyDrive/Bundesliga/Models/baseline_model_1')"
      ],
      "metadata": {
        "id": "QdBRWVU1PCfK"
      },
      "id": "QdBRWVU1PCfK",
      "execution_count": null,
      "outputs": []
    },
    {
      "cell_type": "code",
      "source": [
        "# model = load_model('/content/drive/MyDrive/Bundesliga/Models/baseline_model_1')"
      ],
      "metadata": {
        "id": "hYrC1UyLW0CJ"
      },
      "id": "hYrC1UyLW0CJ",
      "execution_count": null,
      "outputs": []
    },
    {
      "cell_type": "markdown",
      "source": [
        "## Building 2nd baseline model - with negatives and undersampling"
      ],
      "metadata": {
        "id": "kQmHfD6nR2Ex"
      },
      "id": "kQmHfD6nR2Ex"
    },
    {
      "cell_type": "code",
      "source": [
        "X_train, X_val, X_test, y_train, y_val, y_test = preprocessing(undersampling=True)"
      ],
      "metadata": {
        "id": "iiXYQdjBRY-e"
      },
      "id": "iiXYQdjBRY-e",
      "execution_count": null,
      "outputs": []
    },
    {
      "cell_type": "code",
      "source": [
        "X_train.shape, X_val.shape, X_test.shape, y_train.shape, y_val.shape, y_test.shape"
      ],
      "metadata": {
        "colab": {
          "base_uri": "https://localhost:8080/"
        },
        "id": "uIzQ2zE9EOSu",
        "outputId": "d1888d8a-3bdb-48e4-c3c2-05d3dc3b2073"
      },
      "id": "uIzQ2zE9EOSu",
      "execution_count": null,
      "outputs": [
        {
          "output_type": "execute_result",
          "data": {
            "text/plain": [
              "((1358, 480, 640, 3),\n",
              " (340, 480, 640, 3),\n",
              " (1120, 480, 640, 3),\n",
              " (1358, 4),\n",
              " (340, 4),\n",
              " (1120, 4))"
            ]
          },
          "metadata": {},
          "execution_count": 160
        }
      ]
    },
    {
      "cell_type": "code",
      "source": [
        "model = build_model(X_train, y_train)\n",
        "model = compile_model(model)"
      ],
      "metadata": {
        "id": "1u7l5m3jRk2P"
      },
      "id": "1u7l5m3jRk2P",
      "execution_count": null,
      "outputs": []
    },
    {
      "cell_type": "code",
      "source": [
        "model = train_model(model, X_train, y_train, X_val, y_val)"
      ],
      "metadata": {
        "colab": {
          "base_uri": "https://localhost:8080/"
        },
        "id": "mGUCtYvARk7o",
        "outputId": "b0d29a27-c180-4bcb-fccc-7c2357adccb3"
      },
      "id": "mGUCtYvARk7o",
      "execution_count": null,
      "outputs": [
        {
          "output_type": "stream",
          "name": "stdout",
          "text": [
            "Epoch 1/100\n",
            "85/85 [==============================] - 159s 2s/step - loss: 1.7385 - accuracy: 0.3299 - val_loss: 1.2923 - val_accuracy: 0.3412\n",
            "Epoch 2/100\n",
            "85/85 [==============================] - 147s 2s/step - loss: 1.3104 - accuracy: 0.3387 - val_loss: 1.2839 - val_accuracy: 0.3147\n",
            "Epoch 3/100\n",
            "85/85 [==============================] - 143s 2s/step - loss: 1.2996 - accuracy: 0.3380 - val_loss: 1.2713 - val_accuracy: 0.3588\n",
            "Epoch 4/100\n",
            "85/85 [==============================] - 158s 2s/step - loss: 1.2760 - accuracy: 0.3623 - val_loss: 1.2653 - val_accuracy: 0.3529\n",
            "Epoch 5/100\n",
            "85/85 [==============================] - 145s 2s/step - loss: 1.2765 - accuracy: 0.3402 - val_loss: 1.2630 - val_accuracy: 0.3588\n",
            "Epoch 6/100\n",
            "85/85 [==============================] - 143s 2s/step - loss: 1.2534 - accuracy: 0.3292 - val_loss: 1.2629 - val_accuracy: 0.3588\n",
            "Epoch 7/100\n",
            "85/85 [==============================] - 141s 2s/step - loss: 1.2434 - accuracy: 0.3328 - val_loss: 1.2834 - val_accuracy: 0.3235\n",
            "Epoch 8/100\n",
            "85/85 [==============================] - 153s 2s/step - loss: 1.2451 - accuracy: 0.3594 - val_loss: 1.2518 - val_accuracy: 0.3647\n",
            "Epoch 9/100\n",
            "85/85 [==============================] - 150s 2s/step - loss: 1.2417 - accuracy: 0.3270 - val_loss: 1.2653 - val_accuracy: 0.3088\n",
            "Epoch 10/100\n",
            "85/85 [==============================] - 144s 2s/step - loss: 1.2421 - accuracy: 0.3395 - val_loss: 1.2532 - val_accuracy: 0.3412\n",
            "Epoch 11/100\n",
            "85/85 [==============================] - 145s 2s/step - loss: 1.2377 - accuracy: 0.3461 - val_loss: 1.2584 - val_accuracy: 0.3206\n"
          ]
        }
      ]
    },
    {
      "cell_type": "code",
      "source": [
        "y_train.value_counts()"
      ],
      "metadata": {
        "colab": {
          "base_uri": "https://localhost:8080/"
        },
        "id": "dYxotz2AEZFD",
        "outputId": "e4e403bf-4663-4d97-d070-d624710d0b2e"
      },
      "id": "dYxotz2AEZFD",
      "execution_count": null,
      "outputs": [
        {
          "output_type": "execute_result",
          "data": {
            "text/plain": [
              "event_challenge  event_negative  event_play  event_throwin\n",
              "0.0              1.0             0.0         0.0              465\n",
              "                 0.0             1.0         0.0              402\n",
              "1.0              0.0             0.0         0.0              401\n",
              "0.0              0.0             0.0         1.0               90\n",
              "dtype: int64"
            ]
          },
          "metadata": {},
          "execution_count": 167
        }
      ]
    },
    {
      "cell_type": "code",
      "source": [
        "y_test.value_counts()"
      ],
      "metadata": {
        "colab": {
          "base_uri": "https://localhost:8080/"
        },
        "id": "uen4DEK1EZTG",
        "outputId": "62b3ff09-c1d1-4ffe-e8eb-70416cb09535"
      },
      "id": "uen4DEK1EZTG",
      "execution_count": null,
      "outputs": [
        {
          "output_type": "execute_result",
          "data": {
            "text/plain": [
              "event_challenge  event_negative  event_play  event_throwin\n",
              "0.0              0.0             1.0         0.0              797\n",
              "                 1.0             0.0         0.0              144\n",
              "1.0              0.0             0.0         0.0              119\n",
              "0.0              0.0             0.0         1.0               60\n",
              "dtype: int64"
            ]
          },
          "metadata": {},
          "execution_count": 168
        }
      ]
    },
    {
      "cell_type": "code",
      "source": [
        "new_y_test = y_test.idxmax(axis=1)\\\n",
        ".replace({'event_challenge': 0, 'event_negative': 1, 'event_play': 2, 'event_throwin': 3})"
      ],
      "metadata": {
        "id": "am2KULCEXf-Q"
      },
      "id": "am2KULCEXf-Q",
      "execution_count": null,
      "outputs": []
    },
    {
      "cell_type": "code",
      "source": [
        "y_pred_test = model.predict(X_test)\n",
        "y_pred_test"
      ],
      "metadata": {
        "colab": {
          "base_uri": "https://localhost:8080/"
        },
        "id": "h01zT2AFD7Bv",
        "outputId": "bf67f8f0-544f-4f29-b54f-5a7230af736f"
      },
      "id": "h01zT2AFD7Bv",
      "execution_count": null,
      "outputs": [
        {
          "output_type": "stream",
          "name": "stdout",
          "text": [
            "35/35 [==============================] - 27s 773ms/step\n"
          ]
        },
        {
          "output_type": "execute_result",
          "data": {
            "text/plain": [
              "array([[0.00267016, 0.987425  , 0.00603648, 0.00386815],\n",
              "       [0.00265423, 0.9873436 , 0.00611001, 0.00389227],\n",
              "       [0.0039089 , 0.9808896 , 0.00985101, 0.00535036],\n",
              "       ...,\n",
              "       [0.29665706, 0.31993678, 0.29723728, 0.08616886],\n",
              "       [0.2871848 , 0.33717072, 0.28238067, 0.09326389],\n",
              "       [0.2772716 , 0.34768862, 0.29145598, 0.08358379]], dtype=float32)"
            ]
          },
          "metadata": {},
          "execution_count": 170
        }
      ]
    },
    {
      "cell_type": "code",
      "source": [
        "y_pred_test_b = [np.argmax(i, axis=0) for i in y_pred_test]"
      ],
      "metadata": {
        "id": "8ILnheNFD7nA"
      },
      "id": "8ILnheNFD7nA",
      "execution_count": null,
      "outputs": []
    },
    {
      "cell_type": "code",
      "source": [
        "ConfusionMatrixDisplay.from_predictions(new_y_test, y_pred_test_b)\n",
        "plt.show()"
      ],
      "metadata": {
        "colab": {
          "base_uri": "https://localhost:8080/",
          "height": 279
        },
        "id": "-sk1JjYbD7pG",
        "outputId": "a619afc3-a753-4dfa-f496-ac348697994e"
      },
      "id": "-sk1JjYbD7pG",
      "execution_count": null,
      "outputs": [
        {
          "output_type": "display_data",
          "data": {
            "text/plain": [
              "<Figure size 432x288 with 2 Axes>"
            ],
            "image/png": "[encoded data removed]"
          },
          "metadata": {
            "needs_background": "light"
          }
        }
      ]
    },
    {
      "cell_type": "code",
      "source": [
        "print(f\"Macro F1 score: {f1_score(new_y_test, y_pred_test_b, average='macro'):.4f}\")"
      ],
      "metadata": {
        "colab": {
          "base_uri": "https://localhost:8080/"
        },
        "id": "26Q6u-WjExgX",
        "outputId": "0f5db00e-6fc6-4907-bf6a-40da1940829c"
      },
      "id": "26Q6u-WjExgX",
      "execution_count": null,
      "outputs": [
        {
          "output_type": "stream",
          "name": "stdout",
          "text": [
            "Macro F1 score: 0.1528\n"
          ]
        }
      ]
    },
    {
      "cell_type": "code",
      "source": [
        "INDEX_ACCURACY = 1\n",
        "print(f'\\nAccuracy on the test set: {model.evaluate(X_test, y_test)[INDEX_ACCURACY]:.4f}')"
      ],
      "metadata": {
        "colab": {
          "base_uri": "https://localhost:8080/"
        },
        "id": "u0yfnT2pE3H2",
        "outputId": "3f97d3ad-0e2c-4a95-b5b0-bff0a1e48bc5"
      },
      "id": "u0yfnT2pE3H2",
      "execution_count": null,
      "outputs": [
        {
          "output_type": "stream",
          "name": "stdout",
          "text": [
            "35/35 [==============================] - 27s 783ms/step - loss: 2.3058 - accuracy: 0.2830\n",
            "\n",
            "Accuracy on the test set: 0.2830\n"
          ]
        }
      ]
    },
    {
      "cell_type": "code",
      "source": [
        "model.save('/content/drive/MyDrive/Bundesliga/Models/baseline_model_2')"
      ],
      "metadata": {
        "id": "xXH-lySarDGm"
      },
      "id": "xXH-lySarDGm",
      "execution_count": null,
      "outputs": []
    },
    {
      "cell_type": "code",
      "source": [
        "# model = load_model('/content/drive/MyDrive/Bundesliga/Models/baseline_model_2')"
      ],
      "metadata": {
        "id": "Jdn9aVPcE61S"
      },
      "id": "Jdn9aVPcE61S",
      "execution_count": null,
      "outputs": []
    },
    {
      "cell_type": "markdown",
      "source": [
        "## Building 3rd baseline model - with gray, with negatives, and with undersampling"
      ],
      "metadata": {
        "id": "AMIv_lVRFFEE"
      },
      "id": "AMIv_lVRFFEE"
    },
    {
      "cell_type": "code",
      "source": [
        "X_train, X_val, X_test, y_train, y_val, y_test = preprocessing(undersampling=True, gray=True, train_test_ratio=0.83)"
      ],
      "metadata": {
        "id": "Cr4lgeHDFab_"
      },
      "id": "Cr4lgeHDFab_",
      "execution_count": null,
      "outputs": []
    },
    {
      "cell_type": "code",
      "source": [
        "X_train.shape, X_val.shape, X_test.shape, y_train.shape, y_val.shape, y_test.shape"
      ],
      "metadata": {
        "colab": {
          "base_uri": "https://localhost:8080/"
        },
        "id": "Gy7O6KpgsGpD",
        "outputId": "bc843e08-6169-47ba-e10d-5c060d542d6a"
      },
      "id": "Gy7O6KpgsGpD",
      "execution_count": null,
      "outputs": [
        {
          "output_type": "execute_result",
          "data": {
            "text/plain": [
              "((1455, 480, 640, 3),\n",
              " (364, 480, 640, 3),\n",
              " (793, 480, 640, 3),\n",
              " (1455, 4),\n",
              " (364, 4),\n",
              " (793, 4))"
            ]
          },
          "metadata": {},
          "execution_count": 197
        }
      ]
    },
    {
      "cell_type": "code",
      "source": [
        "model = build_model(X_train, y_train)\n",
        "model = compile_model(model)"
      ],
      "metadata": {
        "id": "ujTxN8VuFaeq"
      },
      "id": "ujTxN8VuFaeq",
      "execution_count": null,
      "outputs": []
    },
    {
      "cell_type": "code",
      "source": [
        "model = train_model(model, X_train, y_train, X_val, y_val)"
      ],
      "metadata": {
        "colab": {
          "base_uri": "https://localhost:8080/"
        },
        "id": "3qMi-i1VFaj5",
        "outputId": "546eabe3-fa18-4015-d270-59bc009a1a1e"
      },
      "id": "3qMi-i1VFaj5",
      "execution_count": null,
      "outputs": [
        {
          "output_type": "stream",
          "name": "stdout",
          "text": [
            "Epoch 1/100\n",
            "90/90 [==============================] - 148s 2s/step - loss: 1.7618 - accuracy: 0.2937 - val_loss: 1.3163 - val_accuracy: 0.3278\n",
            "Epoch 2/100\n",
            "90/90 [==============================] - 147s 2s/step - loss: 1.3327 - accuracy: 0.3145 - val_loss: 1.3381 - val_accuracy: 0.3194\n",
            "Epoch 3/100\n",
            "90/90 [==============================] - 157s 2s/step - loss: 1.3067 - accuracy: 0.3396 - val_loss: 1.3208 - val_accuracy: 0.3167\n",
            "Epoch 4/100\n",
            "90/90 [==============================] - 145s 2s/step - loss: 1.3015 - accuracy: 0.3375 - val_loss: 1.3118 - val_accuracy: 0.2667\n",
            "Epoch 5/100\n",
            "90/90 [==============================] - 145s 2s/step - loss: 1.2789 - accuracy: 0.3354 - val_loss: 1.3108 - val_accuracy: 0.2972\n",
            "Epoch 6/100\n",
            "90/90 [==============================] - 144s 2s/step - loss: 1.2765 - accuracy: 0.3312 - val_loss: 1.3470 - val_accuracy: 0.2972\n",
            "Epoch 7/100\n",
            "90/90 [==============================] - 153s 2s/step - loss: 1.2743 - accuracy: 0.3396 - val_loss: 1.3098 - val_accuracy: 0.3139\n",
            "Epoch 8/100\n",
            "90/90 [==============================] - 145s 2s/step - loss: 1.2652 - accuracy: 0.3591 - val_loss: 1.3374 - val_accuracy: 0.2944\n",
            "Epoch 9/100\n",
            "90/90 [==============================] - 145s 2s/step - loss: 1.2633 - accuracy: 0.3264 - val_loss: 1.3274 - val_accuracy: 0.3333\n",
            "Epoch 10/100\n",
            "90/90 [==============================] - 146s 2s/step - loss: 1.2613 - accuracy: 0.3417 - val_loss: 1.3243 - val_accuracy: 0.3056\n"
          ]
        }
      ]
    },
    {
      "cell_type": "code",
      "source": [
        "new_y_test = y_test.idxmax(axis=1)\\\n",
        ".replace({'event_challenge': 0, 'event_negative': 1, 'event_play': 2, 'event_throwin': 3})"
      ],
      "metadata": {
        "id": "rc_bautCFaow"
      },
      "id": "rc_bautCFaow",
      "execution_count": null,
      "outputs": []
    },
    {
      "cell_type": "code",
      "source": [
        "y_pred_test = model.predict(X_test)"
      ],
      "metadata": {
        "colab": {
          "base_uri": "https://localhost:8080/"
        },
        "id": "JqtcxJKPFarL",
        "outputId": "557e8bc7-e2f3-4a35-af3e-c6f1cb230219"
      },
      "id": "JqtcxJKPFarL",
      "execution_count": null,
      "outputs": [
        {
          "output_type": "stream",
          "name": "stdout",
          "text": [
            "25/25 [==============================] - 19s 747ms/step\n"
          ]
        }
      ]
    },
    {
      "cell_type": "code",
      "source": [
        "y_pred_test_b = [np.argmax(i, axis=0) for i in y_pred_test]"
      ],
      "metadata": {
        "id": "2JuX7R8PFate"
      },
      "id": "2JuX7R8PFate",
      "execution_count": null,
      "outputs": []
    },
    {
      "cell_type": "code",
      "source": [
        "y_train.value_counts()"
      ],
      "metadata": {
        "colab": {
          "base_uri": "https://localhost:8080/"
        },
        "id": "J1_hIW8ljhoy",
        "outputId": "eccf97b7-993f-4e30-899a-92a1f3cdbc77"
      },
      "id": "J1_hIW8ljhoy",
      "execution_count": null,
      "outputs": [
        {
          "output_type": "execute_result",
          "data": {
            "text/plain": [
              "event_challenge  event_negative  event_play  event_throwin\n",
              "0.0              1.0             0.0         0.0              477\n",
              "                 0.0             1.0         0.0              436\n",
              "1.0              0.0             0.0         0.0              430\n",
              "0.0              0.0             0.0         1.0              112\n",
              "dtype: int64"
            ]
          },
          "metadata": {},
          "execution_count": 202
        }
      ]
    },
    {
      "cell_type": "code",
      "source": [
        "y_test.value_counts()"
      ],
      "metadata": {
        "colab": {
          "base_uri": "https://localhost:8080/"
        },
        "id": "k1jUan6Wjjyt",
        "outputId": "de577801-b55f-4993-a468-be1dd57f98b7"
      },
      "id": "k1jUan6Wjjyt",
      "execution_count": null,
      "outputs": [
        {
          "output_type": "execute_result",
          "data": {
            "text/plain": [
              "event_challenge  event_negative  event_play  event_throwin\n",
              "0.0              0.0             1.0         0.0              556\n",
              "                 1.0             0.0         0.0              122\n",
              "1.0              0.0             0.0         0.0               84\n",
              "0.0              0.0             0.0         1.0               31\n",
              "dtype: int64"
            ]
          },
          "metadata": {},
          "execution_count": 203
        }
      ]
    },
    {
      "cell_type": "code",
      "source": [
        "ConfusionMatrixDisplay.from_predictions(new_y_test, y_pred_test_b)\n",
        "plt.show()"
      ],
      "metadata": {
        "colab": {
          "base_uri": "https://localhost:8080/",
          "height": 279
        },
        "id": "p-4DHtu3FawJ",
        "outputId": "24c0b6ca-8897-44e6-eec7-40c8f1dbe25b"
      },
      "id": "p-4DHtu3FawJ",
      "execution_count": null,
      "outputs": [
        {
          "output_type": "display_data",
          "data": {
            "text/plain": [
              "<Figure size 432x288 with 2 Axes>"
            ],
            "image/png": "[encoded data removed]"
          },
          "metadata": {
            "needs_background": "light"
          }
        }
      ]
    },
    {
      "cell_type": "code",
      "source": [
        "print(f\"Macro F1 score: {f1_score(new_y_test, y_pred_test_b, average='macro'):.4f}\")"
      ],
      "metadata": {
        "colab": {
          "base_uri": "https://localhost:8080/"
        },
        "id": "QyitDEZIrsXz",
        "outputId": "4334c3f7-5f84-4884-9a94-fdff457cd13c"
      },
      "id": "QyitDEZIrsXz",
      "execution_count": null,
      "outputs": [
        {
          "output_type": "stream",
          "name": "stdout",
          "text": [
            "Macro F1 score: 0.2703\n"
          ]
        }
      ]
    },
    {
      "cell_type": "code",
      "source": [
        "INDEX_ACCURACY = 1\n",
        "print(f'\\nAccuracy on the test set: {model.evaluate(X_test, y_test)[INDEX_ACCURACY]:.4f}')"
      ],
      "metadata": {
        "colab": {
          "base_uri": "https://localhost:8080/"
        },
        "id": "759OeTGzrx1g",
        "outputId": "7883f4bc-9753-4272-e203-0b9acadd0b6f"
      },
      "id": "759OeTGzrx1g",
      "execution_count": null,
      "outputs": [
        {
          "output_type": "stream",
          "name": "stdout",
          "text": [
            "25/25 [==============================] - 19s 752ms/step - loss: 1.2495 - accuracy: 0.6040\n",
            "\n",
            "Accuracy on the test set: 0.6040\n"
          ]
        }
      ]
    },
    {
      "cell_type": "code",
      "source": [
        "model.save('/content/drive/MyDrive/Bundesliga/Models/baseline_model_3')"
      ],
      "metadata": {
        "id": "4nCvR7LHFayc"
      },
      "id": "4nCvR7LHFayc",
      "execution_count": null,
      "outputs": []
    },
    {
      "cell_type": "code",
      "source": [
        "# model = load_model('/content/drive/MyDrive/Bundesliga/Models/baseline_model_3')"
      ],
      "metadata": {
        "id": "_e-t_JElFa1c"
      },
      "id": "_e-t_JElFa1c",
      "execution_count": null,
      "outputs": []
    },
    {
      "cell_type": "markdown",
      "source": [
        "## Building 4th baseline model - with gray, with negatives, without undersampling, and with class weights"
      ],
      "metadata": {
        "id": "4e_1RKV9vrIN"
      },
      "id": "4e_1RKV9vrIN"
    },
    {
      "cell_type": "code",
      "source": [
        "X_train, X_val, X_test, y_train, y_val, y_test = preprocessing(gray=True, train_test_ratio=0.83)"
      ],
      "metadata": {
        "id": "uopqWveQv0Bk"
      },
      "id": "uopqWveQv0Bk",
      "execution_count": 19,
      "outputs": []
    },
    {
      "cell_type": "code",
      "source": [
        "y_train.value_counts()"
      ],
      "metadata": {
        "colab": {
          "base_uri": "https://localhost:8080/"
        },
        "id": "99-7TeY1CRQj",
        "outputId": "2ce77392-99ce-4abe-a3d3-b1058e070994"
      },
      "id": "99-7TeY1CRQj",
      "execution_count": 20,
      "outputs": [
        {
          "output_type": "execute_result",
          "data": {
            "text/plain": [
              "2.0    2427\n",
              "1.0     479\n",
              "0.0     423\n",
              "3.0     118\n",
              "dtype: int64"
            ]
          },
          "metadata": {},
          "execution_count": 20
        }
      ]
    },
    {
      "cell_type": "code",
      "source": [
        "X_train.shape, X_val.shape, X_test.shape, y_train.shape, y_val.shape, y_test.shape"
      ],
      "metadata": {
        "colab": {
          "base_uri": "https://localhost:8080/"
        },
        "id": "J0vk1PKtv0GB",
        "outputId": "5eccaa2b-5a82-49b8-ed6f-527ebf530d23"
      },
      "id": "J0vk1PKtv0GB",
      "execution_count": 21,
      "outputs": [
        {
          "output_type": "execute_result",
          "data": {
            "text/plain": [
              "((3447, 480, 640, 3),\n",
              " (862, 480, 640, 3),\n",
              " (793, 480, 640, 3),\n",
              " (3447,),\n",
              " (862,),\n",
              " (793,))"
            ]
          },
          "metadata": {},
          "execution_count": 21
        }
      ]
    },
    {
      "cell_type": "code",
      "source": [
        "model = build_model(X_train, y_train)\n",
        "model = compile_model(model)"
      ],
      "metadata": {
        "id": "clQwCsT7v0LZ"
      },
      "id": "clQwCsT7v0LZ",
      "execution_count": 53,
      "outputs": []
    },
    {
      "cell_type": "code",
      "source": [
        "model = train_model(model, X_train, y_train, X_val, y_val, account_weights=True)"
      ],
      "metadata": {
        "colab": {
          "base_uri": "https://localhost:8080/"
        },
        "id": "daDUtFfnx4ql",
        "outputId": "8761464e-cc7d-4a6e-fa40-9f194aeb9c5b"
      },
      "id": "daDUtFfnx4ql",
      "execution_count": null,
      "outputs": [
        {
          "output_type": "stream",
          "name": "stdout",
          "text": [
            "Epoch 1/100\n",
            "102/216 [=============>................] - ETA: 2:56 - loss: 1.8440 - accuracy: 0.2537"
          ]
        }
      ]
    },
    {
      "cell_type": "code",
      "source": [],
      "metadata": {
        "id": "c_DHVtFmx4r8"
      },
      "id": "c_DHVtFmx4r8",
      "execution_count": null,
      "outputs": []
    },
    {
      "cell_type": "code",
      "source": [],
      "metadata": {
        "id": "XFVjnpUlx4vg"
      },
      "id": "XFVjnpUlx4vg",
      "execution_count": null,
      "outputs": []
    },
    {
      "cell_type": "code",
      "source": [],
      "metadata": {
        "id": "h08utbyIx4yB"
      },
      "id": "h08utbyIx4yB",
      "execution_count": null,
      "outputs": []
    },
    {
      "cell_type": "code",
      "source": [],
      "metadata": {
        "id": "PDqRpGQ4x414"
      },
      "id": "PDqRpGQ4x414",
      "execution_count": null,
      "outputs": []
    },
    {
      "cell_type": "markdown",
      "source": [
        "## Augmentator"
      ],
      "metadata": {
        "id": "g3jGtg6YiKVF"
      },
      "id": "g3jGtg6YiKVF"
    },
    {
      "cell_type": "code",
      "source": [
        "# ! pip install Augmentor"
      ],
      "metadata": {
        "id": "us4ss-ytiuTd"
      },
      "id": "us4ss-ytiuTd",
      "execution_count": 23,
      "outputs": []
    },
    {
      "cell_type": "code",
      "source": [
        "import Augmentor\n",
        "\n",
        "path_to_data = GRAY_POSITIVES_FOLDER_PATH\n",
        "\n",
        "# Create a pipeline\n",
        "p = Augmentor.Pipeline(path_to_data)"
      ],
      "metadata": {
        "colab": {
          "base_uri": "https://localhost:8080/"
        },
        "id": "wHyTFqzKiMZB",
        "outputId": "83a303e8-81b3-4937-9d37-9c922fb5a23e"
      },
      "id": "wHyTFqzKiMZB",
      "execution_count": 29,
      "outputs": [
        {
          "output_type": "stream",
          "name": "stdout",
          "text": [
            "Initialised with 1 image(s) found.\n",
            "Output directory set to /content/drive/MyDrive/Bundesliga/PicsFromVids/CompressedPic/PositiveGray/output."
          ]
        }
      ]
    },
    {
      "cell_type": "code",
      "source": [
        "p.flip_left_right(probability=1)\n",
        "num_of_samples = 1\n",
        "\n",
        "# Now we can sample from the pipeline:\n",
        "p.sample(num_of_samples)"
      ],
      "metadata": {
        "colab": {
          "base_uri": "https://localhost:8080/"
        },
        "id": "lQS_ozSSijgh",
        "outputId": "e7c355ed-7eef-4dbd-d330-51ee66def77b"
      },
      "id": "lQS_ozSSijgh",
      "execution_count": 30,
      "outputs": [
        {
          "output_type": "stream",
          "name": "stderr",
          "text": [
            "Processing <PIL.Image.Image image mode=RGBA size=2090x1232 at 0x7F2E080AEF10>: 100%|██████████| 1/1 [00:00<00:00,  1.90 Samples/s]\n"
          ]
        }
      ]
    },
    {
      "cell_type": "markdown",
      "source": [
        "## Tolerances and new labelling"
      ],
      "metadata": {
        "id": "UTeJ4wvqOiQH"
      },
      "id": "UTeJ4wvqOiQH"
    },
    {
      "cell_type": "code",
      "source": [
        "error_tolerances = {'challenge': [0.30, 0.40, 0.50, 0.60, 0.70],\n",
        "                    'play': [0.15, 0.20, 0.25, 0.30, 0.35],\n",
        "                    'throwin': [0.15, 0.20, 0.25, 0.30, 0.35]\n",
        "}"
      ],
      "metadata": {
        "id": "pYdoNM7ZOrcC"
      },
      "id": "pYdoNM7ZOrcC",
      "execution_count": 34,
      "outputs": []
    },
    {
      "cell_type": "code",
      "source": [
        "events = [event for event in error_tolerances.keys()]"
      ],
      "metadata": {
        "id": "-hQYqAkuPfDM"
      },
      "id": "-hQYqAkuPfDM",
      "execution_count": 45,
      "outputs": []
    },
    {
      "cell_type": "code",
      "source": [
        "df, df_events = create_df_events()"
      ],
      "metadata": {
        "id": "5KuXDVAdPt-9"
      },
      "id": "5KuXDVAdPt-9",
      "execution_count": 49,
      "outputs": []
    },
    {
      "cell_type": "code",
      "source": [
        "df"
      ],
      "metadata": {
        "colab": {
          "base_uri": "https://localhost:8080/",
          "height": 424
        },
        "id": "TGBRYnBJQRCb",
        "outputId": "9b963f98-66bf-4897-89ec-4e7833639d1e"
      },
      "id": "TGBRYnBJQRCb",
      "execution_count": 50,
      "outputs": [
        {
          "output_type": "execute_result",
          "data": {
            "text/plain": [
              "         video_id         time      event           event_attributes\n",
              "0      1606b0e6_0   200.265822      start                        NaN\n",
              "1      1606b0e6_0   201.150000  challenge     ['ball_action_forced']\n",
              "2      1606b0e6_0   202.765822        end                        NaN\n",
              "3      1606b0e6_0   210.124111      start                        NaN\n",
              "4      1606b0e6_0   210.870000  challenge  ['opponent_dispossessed']\n",
              "...           ...          ...        ...                        ...\n",
              "11213  ecf251d4_0  3056.587000  challenge  ['opponent_dispossessed']\n",
              "11214  ecf251d4_0  3058.072895        end                        NaN\n",
              "11215  ecf251d4_0  3068.280519      start                        NaN\n",
              "11216  ecf251d4_0  3069.547000    throwin                   ['pass']\n",
              "11217  ecf251d4_0  3070.780519        end                        NaN\n",
              "\n",
              "[11218 rows x 4 columns]"
            ],
            "text/html": [
              "\n",
              "  <div id=\"df-72001d5c-b60d-4536-95a8-62805816aeee\">\n",
              "    <div class=\"colab-df-container\">\n",
              "      <div>\n",
              "<style scoped>\n",
              "    .dataframe tbody tr th:only-of-type {\n",
              "        vertical-align: middle;\n",
              "    }\n",
              "\n",
              "    .dataframe tbody tr th {\n",
              "        vertical-align: top;\n",
              "    }\n",
              "\n",
              "    .dataframe thead th {\n",
              "        text-align: right;\n",
              "    }\n",
              "</style>\n",
              "<table border=\"1\" class=\"dataframe\">\n",
              "  <thead>\n",
              "    <tr style=\"text-align: right;\">\n",
              "      <th></th>\n",
              "      <th>video_id</th>\n",
              "      <th>time</th>\n",
              "      <th>event</th>\n",
              "      <th>event_attributes</th>\n",
              "    </tr>\n",
              "  </thead>\n",
              "  <tbody>\n",
              "    <tr>\n",
              "      <th>0</th>\n",
              "      <td>1606b0e6_0</td>\n",
              "      <td>200.265822</td>\n",
              "      <td>start</td>\n",
              "      <td>NaN</td>\n",
              "    </tr>\n",
              "    <tr>\n",
              "      <th>1</th>\n",
              "      <td>1606b0e6_0</td>\n",
              "      <td>201.150000</td>\n",
              "      <td>challenge</td>\n",
              "      <td>['ball_action_forced']</td>\n",
              "    </tr>\n",
              "    <tr>\n",
              "      <th>2</th>\n",
              "      <td>1606b0e6_0</td>\n",
              "      <td>202.765822</td>\n",
              "      <td>end</td>\n",
              "      <td>NaN</td>\n",
              "    </tr>\n",
              "    <tr>\n",
              "      <th>3</th>\n",
              "      <td>1606b0e6_0</td>\n",
              "      <td>210.124111</td>\n",
              "      <td>start</td>\n",
              "      <td>NaN</td>\n",
              "    </tr>\n",
              "    <tr>\n",
              "      <th>4</th>\n",
              "      <td>1606b0e6_0</td>\n",
              "      <td>210.870000</td>\n",
              "      <td>challenge</td>\n",
              "      <td>['opponent_dispossessed']</td>\n",
              "    </tr>\n",
              "    <tr>\n",
              "      <th>...</th>\n",
              "      <td>...</td>\n",
              "      <td>...</td>\n",
              "      <td>...</td>\n",
              "      <td>...</td>\n",
              "    </tr>\n",
              "    <tr>\n",
              "      <th>11213</th>\n",
              "      <td>ecf251d4_0</td>\n",
              "      <td>3056.587000</td>\n",
              "      <td>challenge</td>\n",
              "      <td>['opponent_dispossessed']</td>\n",
              "    </tr>\n",
              "    <tr>\n",
              "      <th>11214</th>\n",
              "      <td>ecf251d4_0</td>\n",
              "      <td>3058.072895</td>\n",
              "      <td>end</td>\n",
              "      <td>NaN</td>\n",
              "    </tr>\n",
              "    <tr>\n",
              "      <th>11215</th>\n",
              "      <td>ecf251d4_0</td>\n",
              "      <td>3068.280519</td>\n",
              "      <td>start</td>\n",
              "      <td>NaN</td>\n",
              "    </tr>\n",
              "    <tr>\n",
              "      <th>11216</th>\n",
              "      <td>ecf251d4_0</td>\n",
              "      <td>3069.547000</td>\n",
              "      <td>throwin</td>\n",
              "      <td>['pass']</td>\n",
              "    </tr>\n",
              "    <tr>\n",
              "      <th>11217</th>\n",
              "      <td>ecf251d4_0</td>\n",
              "      <td>3070.780519</td>\n",
              "      <td>end</td>\n",
              "      <td>NaN</td>\n",
              "    </tr>\n",
              "  </tbody>\n",
              "</table>\n",
              "<p>11218 rows × 4 columns</p>\n",
              "</div>\n",
              "      <button class=\"colab-df-convert\" onclick=\"convertToInteractive('df-72001d5c-b60d-4536-95a8-62805816aeee')\"\n",
              "              title=\"Convert this dataframe to an interactive table.\"\n",
              "              style=\"display:none;\">\n",
              "        \n",
              "  <svg xmlns=\"http://www.w3.org/2000/svg\" height=\"24px\"viewBox=\"0 0 24 24\"\n",
              "       width=\"24px\">\n",
              "    <path d=\"M0 0h24v24H0V0z\" fill=\"none\"/>\n",
              "    <path d=\"M18.56 5.44l.94 2.06.94-2.06 2.06-.94-2.06-.94-.94-2.06-.94 2.06-2.06.94zm-11 1L8.5 8.5l.94-2.06 2.06-.94-2.06-.94L8.5 2.5l-.94 2.06-2.06.94zm10 10l.94 2.06.94-2.06 2.06-.94-2.06-.94-.94-2.06-.94 2.06-2.06.94z\"/><path d=\"M17.41 7.96l-1.37-1.37c-.4-.4-.92-.59-1.43-.59-.52 0-1.04.2-1.43.59L10.3 9.45l-7.72 7.72c-.78.78-.78 2.05 0 2.83L4 21.41c.39.39.9.59 1.41.59.51 0 1.02-.2 1.41-.59l7.78-7.78 2.81-2.81c.8-.78.8-2.07 0-2.86zM5.41 20L4 18.59l7.72-7.72 1.47 1.35L5.41 20z\"/>\n",
              "  </svg>\n",
              "      </button>\n",
              "      \n",
              "  <style>\n",
              "    .colab-df-container {\n",
              "      display:flex;\n",
              "      flex-wrap:wrap;\n",
              "      gap: 12px;\n",
              "    }\n",
              "\n",
              "    .colab-df-convert {\n",
              "      background-color: #E8F0FE;\n",
              "      border: none;\n",
              "      border-radius: 50%;\n",
              "      cursor: pointer;\n",
              "      display: none;\n",
              "      fill: #1967D2;\n",
              "      height: 32px;\n",
              "      padding: 0 0 0 0;\n",
              "      width: 32px;\n",
              "    }\n",
              "\n",
              "    .colab-df-convert:hover {\n",
              "      background-color: #E2EBFA;\n",
              "      box-shadow: 0px 1px 2px rgba(60, 64, 67, 0.3), 0px 1px 3px 1px rgba(60, 64, 67, 0.15);\n",
              "      fill: #174EA6;\n",
              "    }\n",
              "\n",
              "    [theme=dark] .colab-df-convert {\n",
              "      background-color: #3B4455;\n",
              "      fill: #D2E3FC;\n",
              "    }\n",
              "\n",
              "    [theme=dark] .colab-df-convert:hover {\n",
              "      background-color: #434B5C;\n",
              "      box-shadow: 0px 1px 3px 1px rgba(0, 0, 0, 0.15);\n",
              "      filter: drop-shadow(0px 1px 2px rgba(0, 0, 0, 0.3));\n",
              "      fill: #FFFFFF;\n",
              "    }\n",
              "  </style>\n",
              "\n",
              "      <script>\n",
              "        const buttonEl =\n",
              "          document.querySelector('#df-72001d5c-b60d-4536-95a8-62805816aeee button.colab-df-convert');\n",
              "        buttonEl.style.display =\n",
              "          google.colab.kernel.accessAllowed ? 'block' : 'none';\n",
              "\n",
              "        async function convertToInteractive(key) {\n",
              "          const element = document.querySelector('#df-72001d5c-b60d-4536-95a8-62805816aeee');\n",
              "          const dataTable =\n",
              "            await google.colab.kernel.invokeFunction('convertToInteractive',\n",
              "                                                     [key], {});\n",
              "          if (!dataTable) return;\n",
              "\n",
              "          const docLinkHtml = 'Like what you see? Visit the ' +\n",
              "            '<a target=\"_blank\" href=https://colab.research.google.com/notebooks/data_table.ipynb>data table notebook</a>'\n",
              "            + ' to learn more about interactive tables.';\n",
              "          element.innerHTML = '';\n",
              "          dataTable['output_type'] = 'display_data';\n",
              "          await google.colab.output.renderOutput(dataTable, element);\n",
              "          const docLink = document.createElement('div');\n",
              "          docLink.innerHTML = docLinkHtml;\n",
              "          element.appendChild(docLink);\n",
              "        }\n",
              "      </script>\n",
              "    </div>\n",
              "  </div>\n",
              "  "
            ]
          },
          "metadata": {},
          "execution_count": 50
        }
      ]
    },
    {
      "cell_type": "code",
      "source": [
        "new_events = list()\n",
        "INDEX_TOL = 0\n",
        "for row in df.values:\n",
        "  if row[2] in error_tolerances:\n",
        "    tolerance = error_tolerances[row[2]][INDEX_TOL] / 2\n",
        "    new_events.append([row[0], row[1] - tolerance, 'start_' + row[2], row[3]])\n",
        "    new_events.append([row[0], row[1] + tolerance, 'end_' + row[2], row[3]])\n",
        "df = pd.concat([df, pd.DataFrame(new_events, columns=df.columns)])\n",
        "df = df[~df['event'].isin(events)]\n",
        "df = df.sort_values(['video_id', 'time']).reset_index(drop=True)"
      ],
      "metadata": {
        "id": "V85IWLUHS1G0"
      },
      "id": "V85IWLUHS1G0",
      "execution_count": 65,
      "outputs": []
    },
    {
      "cell_type": "code",
      "source": [
        "df"
      ],
      "metadata": {
        "colab": {
          "base_uri": "https://localhost:8080/",
          "height": 424
        },
        "id": "Ge8U_yuCQ3og",
        "outputId": "6f3907f7-41d6-4590-b656-02263990c940"
      },
      "id": "Ge8U_yuCQ3og",
      "execution_count": 66,
      "outputs": [
        {
          "output_type": "execute_result",
          "data": {
            "text/plain": [
              "         video_id         time            event        event_attributes\n",
              "0      1606b0e6_0   200.265822            start                     NaN\n",
              "1      1606b0e6_0   201.000000  start_challenge  ['ball_action_forced']\n",
              "2      1606b0e6_0   201.300000    end_challenge  ['ball_action_forced']\n",
              "3      1606b0e6_0   202.765822              end                     NaN\n",
              "4      1606b0e6_0   210.124111            start                     NaN\n",
              "...           ...          ...              ...                     ...\n",
              "15595  ecf251d4_0  3058.072895              end                     NaN\n",
              "15596  ecf251d4_0  3068.280519            start                     NaN\n",
              "15597  ecf251d4_0  3069.472000    start_throwin                ['pass']\n",
              "15598  ecf251d4_0  3069.622000      end_throwin                ['pass']\n",
              "15599  ecf251d4_0  3070.780519              end                     NaN\n",
              "\n",
              "[15600 rows x 4 columns]"
            ],
            "text/html": [
              "\n",
              "  <div id=\"df-0bc3b363-0e54-46a8-808c-90709ad93034\">\n",
              "    <div class=\"colab-df-container\">\n",
              "      <div>\n",
              "<style scoped>\n",
              "    .dataframe tbody tr th:only-of-type {\n",
              "        vertical-align: middle;\n",
              "    }\n",
              "\n",
              "    .dataframe tbody tr th {\n",
              "        vertical-align: top;\n",
              "    }\n",
              "\n",
              "    .dataframe thead th {\n",
              "        text-align: right;\n",
              "    }\n",
              "</style>\n",
              "<table border=\"1\" class=\"dataframe\">\n",
              "  <thead>\n",
              "    <tr style=\"text-align: right;\">\n",
              "      <th></th>\n",
              "      <th>video_id</th>\n",
              "      <th>time</th>\n",
              "      <th>event</th>\n",
              "      <th>event_attributes</th>\n",
              "    </tr>\n",
              "  </thead>\n",
              "  <tbody>\n",
              "    <tr>\n",
              "      <th>0</th>\n",
              "      <td>1606b0e6_0</td>\n",
              "      <td>200.265822</td>\n",
              "      <td>start</td>\n",
              "      <td>NaN</td>\n",
              "    </tr>\n",
              "    <tr>\n",
              "      <th>1</th>\n",
              "      <td>1606b0e6_0</td>\n",
              "      <td>201.000000</td>\n",
              "      <td>start_challenge</td>\n",
              "      <td>['ball_action_forced']</td>\n",
              "    </tr>\n",
              "    <tr>\n",
              "      <th>2</th>\n",
              "      <td>1606b0e6_0</td>\n",
              "      <td>201.300000</td>\n",
              "      <td>end_challenge</td>\n",
              "      <td>['ball_action_forced']</td>\n",
              "    </tr>\n",
              "    <tr>\n",
              "      <th>3</th>\n",
              "      <td>1606b0e6_0</td>\n",
              "      <td>202.765822</td>\n",
              "      <td>end</td>\n",
              "      <td>NaN</td>\n",
              "    </tr>\n",
              "    <tr>\n",
              "      <th>4</th>\n",
              "      <td>1606b0e6_0</td>\n",
              "      <td>210.124111</td>\n",
              "      <td>start</td>\n",
              "      <td>NaN</td>\n",
              "    </tr>\n",
              "    <tr>\n",
              "      <th>...</th>\n",
              "      <td>...</td>\n",
              "      <td>...</td>\n",
              "      <td>...</td>\n",
              "      <td>...</td>\n",
              "    </tr>\n",
              "    <tr>\n",
              "      <th>15595</th>\n",
              "      <td>ecf251d4_0</td>\n",
              "      <td>3058.072895</td>\n",
              "      <td>end</td>\n",
              "      <td>NaN</td>\n",
              "    </tr>\n",
              "    <tr>\n",
              "      <th>15596</th>\n",
              "      <td>ecf251d4_0</td>\n",
              "      <td>3068.280519</td>\n",
              "      <td>start</td>\n",
              "      <td>NaN</td>\n",
              "    </tr>\n",
              "    <tr>\n",
              "      <th>15597</th>\n",
              "      <td>ecf251d4_0</td>\n",
              "      <td>3069.472000</td>\n",
              "      <td>start_throwin</td>\n",
              "      <td>['pass']</td>\n",
              "    </tr>\n",
              "    <tr>\n",
              "      <th>15598</th>\n",
              "      <td>ecf251d4_0</td>\n",
              "      <td>3069.622000</td>\n",
              "      <td>end_throwin</td>\n",
              "      <td>['pass']</td>\n",
              "    </tr>\n",
              "    <tr>\n",
              "      <th>15599</th>\n",
              "      <td>ecf251d4_0</td>\n",
              "      <td>3070.780519</td>\n",
              "      <td>end</td>\n",
              "      <td>NaN</td>\n",
              "    </tr>\n",
              "  </tbody>\n",
              "</table>\n",
              "<p>15600 rows × 4 columns</p>\n",
              "</div>\n",
              "      <button class=\"colab-df-convert\" onclick=\"convertToInteractive('df-0bc3b363-0e54-46a8-808c-90709ad93034')\"\n",
              "              title=\"Convert this dataframe to an interactive table.\"\n",
              "              style=\"display:none;\">\n",
              "        \n",
              "  <svg xmlns=\"http://www.w3.org/2000/svg\" height=\"24px\"viewBox=\"0 0 24 24\"\n",
              "       width=\"24px\">\n",
              "    <path d=\"M0 0h24v24H0V0z\" fill=\"none\"/>\n",
              "    <path d=\"M18.56 5.44l.94 2.06.94-2.06 2.06-.94-2.06-.94-.94-2.06-.94 2.06-2.06.94zm-11 1L8.5 8.5l.94-2.06 2.06-.94-2.06-.94L8.5 2.5l-.94 2.06-2.06.94zm10 10l.94 2.06.94-2.06 2.06-.94-2.06-.94-.94-2.06-.94 2.06-2.06.94z\"/><path d=\"M17.41 7.96l-1.37-1.37c-.4-.4-.92-.59-1.43-.59-.52 0-1.04.2-1.43.59L10.3 9.45l-7.72 7.72c-.78.78-.78 2.05 0 2.83L4 21.41c.39.39.9.59 1.41.59.51 0 1.02-.2 1.41-.59l7.78-7.78 2.81-2.81c.8-.78.8-2.07 0-2.86zM5.41 20L4 18.59l7.72-7.72 1.47 1.35L5.41 20z\"/>\n",
              "  </svg>\n",
              "      </button>\n",
              "      \n",
              "  <style>\n",
              "    .colab-df-container {\n",
              "      display:flex;\n",
              "      flex-wrap:wrap;\n",
              "      gap: 12px;\n",
              "    }\n",
              "\n",
              "    .colab-df-convert {\n",
              "      background-color: #E8F0FE;\n",
              "      border: none;\n",
              "      border-radius: 50%;\n",
              "      cursor: pointer;\n",
              "      display: none;\n",
              "      fill: #1967D2;\n",
              "      height: 32px;\n",
              "      padding: 0 0 0 0;\n",
              "      width: 32px;\n",
              "    }\n",
              "\n",
              "    .colab-df-convert:hover {\n",
              "      background-color: #E2EBFA;\n",
              "      box-shadow: 0px 1px 2px rgba(60, 64, 67, 0.3), 0px 1px 3px 1px rgba(60, 64, 67, 0.15);\n",
              "      fill: #174EA6;\n",
              "    }\n",
              "\n",
              "    [theme=dark] .colab-df-convert {\n",
              "      background-color: #3B4455;\n",
              "      fill: #D2E3FC;\n",
              "    }\n",
              "\n",
              "    [theme=dark] .colab-df-convert:hover {\n",
              "      background-color: #434B5C;\n",
              "      box-shadow: 0px 1px 3px 1px rgba(0, 0, 0, 0.15);\n",
              "      filter: drop-shadow(0px 1px 2px rgba(0, 0, 0, 0.3));\n",
              "      fill: #FFFFFF;\n",
              "    }\n",
              "  </style>\n",
              "\n",
              "      <script>\n",
              "        const buttonEl =\n",
              "          document.querySelector('#df-0bc3b363-0e54-46a8-808c-90709ad93034 button.colab-df-convert');\n",
              "        buttonEl.style.display =\n",
              "          google.colab.kernel.accessAllowed ? 'block' : 'none';\n",
              "\n",
              "        async function convertToInteractive(key) {\n",
              "          const element = document.querySelector('#df-0bc3b363-0e54-46a8-808c-90709ad93034');\n",
              "          const dataTable =\n",
              "            await google.colab.kernel.invokeFunction('convertToInteractive',\n",
              "                                                     [key], {});\n",
              "          if (!dataTable) return;\n",
              "\n",
              "          const docLinkHtml = 'Like what you see? Visit the ' +\n",
              "            '<a target=\"_blank\" href=https://colab.research.google.com/notebooks/data_table.ipynb>data table notebook</a>'\n",
              "            + ' to learn more about interactive tables.';\n",
              "          element.innerHTML = '';\n",
              "          dataTable['output_type'] = 'display_data';\n",
              "          await google.colab.output.renderOutput(dataTable, element);\n",
              "          const docLink = document.createElement('div');\n",
              "          docLink.innerHTML = docLinkHtml;\n",
              "          element.appendChild(docLink);\n",
              "        }\n",
              "      </script>\n",
              "    </div>\n",
              "  </div>\n",
              "  "
            ]
          },
          "metadata": {},
          "execution_count": 66
        }
      ]
    },
    {
      "cell_type": "code",
      "source": [],
      "metadata": {
        "id": "pmjlSHBgUsaZ"
      },
      "id": "pmjlSHBgUsaZ",
      "execution_count": null,
      "outputs": []
    }
  ],
  "metadata": {
    "kernelspec": {
      "display_name": "Python 3 (ipykernel)",
      "language": "python",
      "name": "python3"
    },
    "language_info": {
      "codemirror_mode": {
        "name": "ipython",
        "version": 3
      },
      "file_extension": ".py",
      "mimetype": "text/x-python",
      "name": "python",
      "nbconvert_exporter": "python",
      "pygments_lexer": "ipython3",
      "version": "3.9.6"
    },
    "colab": {
      "provenance": [],
      "machine_shape": "hm"
    },
    "gpuClass": "standard"
  },
  "nbformat": 4,
  "nbformat_minor": 5
}