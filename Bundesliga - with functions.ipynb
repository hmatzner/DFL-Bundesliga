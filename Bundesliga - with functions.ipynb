{
  "cells": [
    {
      "cell_type": "code",
      "execution_count": 1,
      "id": "bdd5df7c",
      "metadata": {
        "id": "bdd5df7c"
      },
      "outputs": [],
      "source": [
        "import os\n",
        "import sys\n",
        "import pandas as pd\n",
        "import numpy as np\n",
        "from sklearn.preprocessing import OneHotEncoder\n",
        "from tensorflow.keras import Sequential\n",
        "from tensorflow.keras.layers import Rescaling, Conv2D, MaxPooling2D, Flatten, Dense, Dropout\n",
        "from tensorflow.keras.callbacks import EarlyStopping"
      ]
    },
    {
      "cell_type": "code",
      "source": [
        "from google.colab import drive\n",
        "drive.mount('/content/drive')"
      ],
      "metadata": {
        "id": "0Qa_p6bQwIuH"
      },
      "id": "0Qa_p6bQwIuH",
      "execution_count": null,
      "outputs": []
    },
    {
      "cell_type": "code",
      "execution_count": 2,
      "id": "d552a9f7",
      "metadata": {
        "id": "d552a9f7"
      },
      "outputs": [],
      "source": [
        "# Defining constant variables\n",
        "DRIVE_PATH = '/content/drive/MyDrive/Bundesliga/train.csv'\n",
        "COMPRESSED_FOLDER_PATH = '/content/drive/MyDrive/Bundesliga/PicsFromVids/CompressedPic/'\n",
        "TRAIN_SIZE = 0.75\n",
        "UNDERSAMPLING = True\n",
        "FREE_RAM = True"
      ]
    },
    {
      "cell_type": "code",
      "source": [
        "def create_df_events():\n",
        "  \"\"\"Reading DataFrame and creating one with only relevant events\"\"\"\n",
        "  df = pd.read_csv(DRIVE_PATH)\n",
        "  df_events = df[~df['event_attributes'].isna()].copy()\n",
        "  df_events.reset_index(drop=True, inplace=True)\n",
        "  return df_events"
      ],
      "metadata": {
        "id": "Rlkr7clkqqFV"
      },
      "id": "Rlkr7clkqqFV",
      "execution_count": 3,
      "outputs": []
    },
    {
      "cell_type": "code",
      "source": [
        "# df_pass = df[df['event_attributes'].str[:6] == \"['pass\"]\n",
        "# print(f\"Accuracy if classifying every class as {df_events['event_attributes'].describe()['top']}: \"\n",
        "#       f\"{df_events['event_attributes'].describe()['freq'] / df_events['event_attributes'].describe()['count']:.2%}\")\n",
        "# print(f'Accuracy if classifying every class as a pass (in general) {df_pass.shape[0] / df_events.shape[0]:.2%}')"
      ],
      "metadata": {
        "id": "fUf41XBnqxNr"
      },
      "id": "fUf41XBnqxNr",
      "execution_count": 4,
      "outputs": []
    },
    {
      "cell_type": "code",
      "source": [
        "def create_train_test_video_ids(df_events):\n",
        "  \"\"\"Creating two arrays with which videos are either part of the train or the test data\"\"\"\n",
        "  video_ids = df_events['video_id'].unique().tolist()\n",
        "  amount_videos = len(video_ids)\n",
        "  amount_train = round(amount_videos * TRAIN_SIZE)\n",
        "  train_videos = video_ids[:amount_train]\n",
        "  test_videos = video_ids[amount_train:]\n",
        "  return video_ids, train_videos, test_videos"
      ],
      "metadata": {
        "id": "9ql9kIOqqxQR"
      },
      "id": "9ql9kIOqqxQR",
      "execution_count": 5,
      "outputs": []
    },
    {
      "cell_type": "code",
      "source": [
        "def create_X(video_ids):\n",
        "  \"\"\"Creating X array with all pictures for both train and test data\"\"\"\n",
        "  X = list()\n",
        "  for video_id in video_ids:\n",
        "    current_video = np.load(f'{COMPRESSED_FOLDER_PATH}{video_id}.npz')\n",
        "    current_video = current_video.f.arr_0\n",
        "    X.append(current_video)\n",
        "  X = np.concatenate(X, axis=0)\n",
        "  return X"
      ],
      "metadata": {
        "id": "_0E8PMcwqxSV"
      },
      "id": "_0E8PMcwqxSV",
      "execution_count": 6,
      "outputs": []
    },
    {
      "cell_type": "code",
      "source": [
        "def train_test_X_split(df_events, train_videos, test_videos):\n",
        "  \"\"\"Splitting pictures in train and test data\"\"\"\n",
        "  train_idx = df_events[df_events['video_id'].isin(train_videos)].index\n",
        "  test_idx = df_events[df_events['video_id'].isin(test_videos)].index\n",
        "  X_train = X[train_idx]\n",
        "  X_test = X[test_idx]\n",
        "  assert df_events.shape[0] == X_train.shape[0] + X_test.shape[0]\n",
        "  return X_train, X_test, train_idx, test_idx"
      ],
      "metadata": {
        "id": "HBcw2nYJqxUs"
      },
      "id": "HBcw2nYJqxUs",
      "execution_count": 7,
      "outputs": []
    },
    {
      "cell_type": "code",
      "source": [
        "def train_test_y_split(df_events, train_idx, test_idx):\n",
        "  \"\"\"Creating DataFrame of labels for both train and test data using videos ids\"\"\"\n",
        "  y_train = df_events[df_events.index.isin(train_idx) ]['event'].to_frame()\n",
        "  y_test = df_events[df_events.index.isin(test_idx) ]['event'].to_frame()\n",
        "  return y_train, y_test"
      ],
      "metadata": {
        "id": "Y6vx6gtDqxXD"
      },
      "id": "Y6vx6gtDqxXD",
      "execution_count": 8,
      "outputs": []
    },
    {
      "cell_type": "code",
      "source": [
        "def create_array_to_drop_for_undersampling_in_play(y_train):\n",
        "  \"\"\"Creating array of indexes to drop to perform undersampling in column 'play'\"\"\"\n",
        "  play_indexes = y_train[y_train['event'] == 'play'].index\n",
        "  assert y_train.value_counts()['play'] == len(play_indexes)\n",
        "  play_amount = y_train.value_counts()['play']\n",
        "  challenge_amount = y_train.value_counts()['challenge']\n",
        "  drop_play_indexes = np.sort(np.random.choice(a=play_indexes, \n",
        "                                              size=play_amount - challenge_amount, \n",
        "                                              replace=False))\n",
        "  assert len(drop_play_indexes) == play_amount - challenge_amount\n",
        "  return drop_play_indexes"
      ],
      "metadata": {
        "id": "HFePTN4FqxZk"
      },
      "id": "HFePTN4FqxZk",
      "execution_count": 9,
      "outputs": []
    },
    {
      "cell_type": "code",
      "source": [
        "def perform_undersampling(X_train, y_train, drop_play_indexes):\n",
        "  \"\"\"Performing undersampling in 'play' category to balance it with 'challenge'\"\"\"\n",
        "  y_train.drop(drop_play_indexes, axis=0, inplace=True)\n",
        "  X_train = np.delete(X_train, drop_play_indexes, axis=0)\n",
        "  return X_train, y_train"
      ],
      "metadata": {
        "id": "YVpNrxhfqqHh"
      },
      "id": "YVpNrxhfqqHh",
      "execution_count": 10,
      "outputs": []
    },
    {
      "cell_type": "code",
      "source": [
        "def perform_ohe(y_train, y_test):\n",
        "  \"\"\"Performing one-hot-encoding on our labels\"\"\"\n",
        "  current_feat = ['event']\n",
        "  encoder = OneHotEncoder(sparse=False, handle_unknown='ignore')\n",
        "  encoder.fit(y_train[current_feat]) # Fit and transform data\n",
        "  y_train[encoder.get_feature_names_out(list(current_feat))] = encoder.transform(y_train[current_feat])\n",
        "  y_train = y_train.drop(columns=current_feat)\n",
        "\n",
        "  encoder = OneHotEncoder(sparse=False, handle_unknown='ignore')\n",
        "  encoder.fit(y_test[current_feat]) # Fit and transform data\n",
        "  y_test[encoder.get_feature_names_out(list(current_feat))] = encoder.transform(y_test[current_feat])\n",
        "  y_test = y_test.drop(columns=current_feat)\n",
        "  return y_train, y_test"
      ],
      "metadata": {
        "id": "8EdEYJSXse1Q"
      },
      "id": "8EdEYJSXse1Q",
      "execution_count": 11,
      "outputs": []
    },
    {
      "cell_type": "code",
      "source": [
        "def del_X(X):\n",
        "  \"\"\"Deleting variable to free RAM\"\"\"\n",
        "  del X"
      ],
      "metadata": {
        "id": "NuWFnkBAse3Q"
      },
      "id": "NuWFnkBAse3Q",
      "execution_count": 12,
      "outputs": []
    },
    {
      "cell_type": "code",
      "source": [
        "df_events = create_df_events()\n",
        "video_ids, train_videos, test_videos = create_train_test_video_ids(df_events)\n",
        "X = create_X(video_ids)\n",
        "X_train, X_test, train_idx, test_idx = train_test_X_split(df_events, train_videos, test_videos)\n",
        "y_train, y_test = train_test_y_split(df_events, train_idx, test_idx)\n",
        "drop_play_indexes = create_array_to_drop_for_undersampling_in_play(y_train)\n",
        "if UNDERSAMPLING:\n",
        "  X_train, y_train = perform_undersampling(X_train, y_train, drop_play_indexes)\n",
        "y_train, y_test = perform_ohe(y_train, y_test)\n",
        "if FREE_RAM:\n",
        "  del_X(X)"
      ],
      "metadata": {
        "id": "6tCt54XuqqJn"
      },
      "id": "6tCt54XuqqJn",
      "execution_count": 16,
      "outputs": []
    },
    {
      "cell_type": "code",
      "source": [
        "X_train.shape, X_test.shape, y_train.shape, y_test.shape"
      ],
      "metadata": {
        "colab": {
          "base_uri": "https://localhost:8080/"
        },
        "id": "pRq0VLPUwewE",
        "outputId": "ee83d45b-14b8-406a-faaf-ff4dc55ecf87"
      },
      "id": "pRq0VLPUwewE",
      "execution_count": 17,
      "outputs": [
        {
          "output_type": "execute_result",
          "data": {
            "text/plain": [
              "((1122, 480, 640, 3), (976, 480, 640, 3), (1122, 3), (976, 3))"
            ]
          },
          "metadata": {},
          "execution_count": 17
        }
      ]
    },
    {
      "cell_type": "code",
      "source": [],
      "metadata": {
        "id": "EuBV2umFwjHw"
      },
      "id": "EuBV2umFwjHw",
      "execution_count": null,
      "outputs": []
    }
  ],
  "metadata": {
    "kernelspec": {
      "display_name": "Python 3 (ipykernel)",
      "language": "python",
      "name": "python3"
    },
    "language_info": {
      "codemirror_mode": {
        "name": "ipython",
        "version": 3
      },
      "file_extension": ".py",
      "mimetype": "text/x-python",
      "name": "python",
      "nbconvert_exporter": "python",
      "pygments_lexer": "ipython3",
      "version": "3.9.6"
    },
    "colab": {
      "provenance": []
    }
  },
  "nbformat": 4,
  "nbformat_minor": 5
}