{
  "cells": [
    {
      "cell_type": "code",
      "execution_count": 1,
      "id": "bdd5df7c",
      "metadata": {
        "id": "bdd5df7c"
      },
      "outputs": [],
      "source": [
        "import os\n",
        "import sys\n",
        "import pandas as pd\n",
        "import numpy as np\n",
        "from sklearn.preprocessing import OneHotEncoder\n",
        "from tensorflow.keras import Sequential\n",
        "from tensorflow.keras.layers import Rescaling, Conv2D, MaxPooling2D, Flatten, Dense, Dropout\n",
        "from tensorflow.keras.callbacks import EarlyStopping"
      ]
    },
    {
      "cell_type": "code",
      "source": [
        "from google.colab import drive\n",
        "drive.mount('/content/drive')"
      ],
      "metadata": {
        "colab": {
          "base_uri": "https://localhost:8080/"
        },
        "id": "0Qa_p6bQwIuH",
        "outputId": "06226e21-c0a2-44bf-8dcc-6494bb30894c"
      },
      "id": "0Qa_p6bQwIuH",
      "execution_count": 2,
      "outputs": [
        {
          "output_type": "stream",
          "name": "stdout",
          "text": [
            "Drive already mounted at /content/drive; to attempt to forcibly remount, call drive.mount(\"/content/drive\", force_remount=True).\n"
          ]
        }
      ]
    },
    {
      "cell_type": "code",
      "execution_count": 3,
      "id": "d552a9f7",
      "metadata": {
        "id": "d552a9f7"
      },
      "outputs": [],
      "source": [
        "# Defining constant variables\n",
        "DRIVE_PATH = '/content/drive/MyDrive/Bundesliga/train.csv'\n",
        "POSITIVES_FOLDER_PATH = '/content/drive/MyDrive/Bundesliga/PicsFromVids/CompressedPic/'\n",
        "NEGATIVES_FOLDER_PATH = '/content/drive/MyDrive/Bundesliga/PicsFromVids/CompressedPic/Negatives/'\n",
        "TRAIN_SIZE = 0.75\n",
        "NEGATIVES = True\n",
        "UNDERSAMPLING = False\n",
        "FREE_RAM = True"
      ]
    },
    {
      "cell_type": "code",
      "source": [
        "def create_df_events():\n",
        "  \"\"\"Reading DataFrame and creating one with only relevant events\"\"\"\n",
        "  df = pd.read_csv(DRIVE_PATH)\n",
        "  df_events = df[~df['event_attributes'].isna()].copy()\n",
        "  df_events.reset_index(drop=True, inplace=True)\n",
        "  return df_events"
      ],
      "metadata": {
        "id": "Rlkr7clkqqFV"
      },
      "id": "Rlkr7clkqqFV",
      "execution_count": 4,
      "outputs": []
    },
    {
      "cell_type": "code",
      "source": [
        "# df_pass = df[df['event_attributes'].str[:6] == \"['pass\"]\n",
        "# print(f\"Accuracy if classifying every class as {df_events['event_attributes'].describe()['top']}: \"\n",
        "#       f\"{df_events['event_attributes'].describe()['freq'] / df_events['event_attributes'].describe()['count']:.2%}\")\n",
        "# print(f'Accuracy if classifying every class as a pass (in general) {df_pass.shape[0] / df_events.shape[0]:.2%}')"
      ],
      "metadata": {
        "id": "fUf41XBnqxNr"
      },
      "id": "fUf41XBnqxNr",
      "execution_count": 5,
      "outputs": []
    },
    {
      "cell_type": "code",
      "source": [
        "def create_train_test_video_ids(df_events):\n",
        "  \"\"\"Creating two arrays with which videos are either part of the train or the test data\"\"\"\n",
        "  video_ids = df_events['video_id'].unique().tolist()\n",
        "  amount_videos = len(video_ids)\n",
        "  amount_train = round(amount_videos * TRAIN_SIZE)\n",
        "  train_videos = video_ids[:amount_train]\n",
        "  test_videos = video_ids[amount_train:]\n",
        "  return video_ids, train_videos, test_videos"
      ],
      "metadata": {
        "id": "9ql9kIOqqxQR"
      },
      "id": "9ql9kIOqqxQR",
      "execution_count": 6,
      "outputs": []
    },
    {
      "cell_type": "code",
      "source": [
        "def create_X(video_ids):\n",
        "  \"\"\"Creating X array with all pictures for both train and test data\"\"\"\n",
        "  X = list()\n",
        "  for video_id in video_ids:\n",
        "    current_video = np.load(f'{POSITIVES_FOLDER_PATH}{video_id}.npz')\n",
        "    current_video = current_video.f.arr_0\n",
        "    X.append(current_video)\n",
        "  if NEGATIVES:\n",
        "    for video_id in video_ids[:-10]:\n",
        "      current_neg_video = np.load(f'{NEGATIVES_FOLDER_PATH}{video_id}.npz')\n",
        "      current_neg_video = current_neg_video.f.arr_0\n",
        "      X.append(current_video)\n",
        "  X = np.concatenate(X, axis=0)\n",
        "  return X"
      ],
      "metadata": {
        "id": "_0E8PMcwqxSV"
      },
      "id": "_0E8PMcwqxSV",
      "execution_count": 7,
      "outputs": []
    },
    {
      "cell_type": "code",
      "source": [
        "def train_test_X_split(df_events, train_videos, test_videos):\n",
        "  \"\"\"Splitting pictures in train and test data\"\"\"\n",
        "  train_idx = df_events[df_events['video_id'].isin(train_videos)].index\n",
        "  test_idx = df_events[df_events['video_id'].isin(test_videos)].index\n",
        "  X_train = X[train_idx]\n",
        "  X_test = X[test_idx]\n",
        "  assert df_events.shape[0] == X_train.shape[0] + X_test.shape[0]\n",
        "  return X_train, X_test, train_idx, test_idx"
      ],
      "metadata": {
        "id": "HBcw2nYJqxUs"
      },
      "id": "HBcw2nYJqxUs",
      "execution_count": 8,
      "outputs": []
    },
    {
      "cell_type": "code",
      "source": [
        "def train_test_y_split(df_events, train_idx, test_idx):\n",
        "  \"\"\"Creating DataFrame of labels for both train and test data using videos ids\"\"\"\n",
        "  y_train = df_events[df_events.index.isin(train_idx)]['event'].to_frame()\n",
        "  y_test = df_events[df_events.index.isin(test_idx)]['event'].to_frame()\n",
        "  return y_train, y_test"
      ],
      "metadata": {
        "id": "Y6vx6gtDqxXD"
      },
      "id": "Y6vx6gtDqxXD",
      "execution_count": 9,
      "outputs": []
    },
    {
      "cell_type": "code",
      "source": [
        "def append_negatives(df_events, X, X_train, X_test, y_train, y_test):\n",
        "  \"\"\" \"\"\"\n",
        "  len_positives = df_events.shape[0]\n",
        "  len_X = X.shape[0]\n",
        "  len_negatives = len_X - len_positives\n",
        "\n",
        "  START_IDX_NEGATIVES = df_events.shape[0]\n",
        "  START_IDX_NEG_TEST = round(START_IDX_NEGATIVES + len_negatives * TRAIN_SIZE)\n",
        "  X_train_neg = X[START_IDX_NEGATIVES:START_IDX_NEG_TEST]\n",
        "  X_test_neg = X[START_IDX_NEG_TEST:]\n",
        "  assert len_negatives == X_train_neg.shape[0] + X_test_neg.shape[0]\n",
        "\n",
        "  X_train = np.concatenate((X_train, X_train_neg), axis=0)\n",
        "  X_test = np.concatenate((X_test, X_test_neg), axis=0)\n",
        "\n",
        "  y_train = y_train.append(pd.DataFrame({'event':['negative'] * X_train_neg.shape[0]}))\n",
        "  y_test = y_test.append(pd.DataFrame({'event':['negative'] * X_test_neg.shape[0]}))\n",
        "  return X_train, X_test, y_train, y_test"
      ],
      "metadata": {
        "id": "QmIyOAAvP9g-"
      },
      "id": "QmIyOAAvP9g-",
      "execution_count": 10,
      "outputs": []
    },
    {
      "cell_type": "code",
      "source": [
        "def create_array_to_drop_for_undersampling_in_play(y_train):\n",
        "  \"\"\"Creating array of indexes to drop to perform undersampling in column 'play'\"\"\"\n",
        "  play_indexes = y_train[y_train['event'] == 'play'].index\n",
        "  assert y_train.value_counts()['play'] == len(play_indexes)\n",
        "  play_amount = y_train.value_counts()['play']\n",
        "  challenge_amount = y_train.value_counts()['challenge']\n",
        "  drop_play_indexes = np.sort(np.random.choice(a=play_indexes, \n",
        "                                              size=play_amount - challenge_amount, \n",
        "                                              replace=False))\n",
        "  assert len(drop_play_indexes) == play_amount - challenge_amount\n",
        "  return drop_play_indexes"
      ],
      "metadata": {
        "id": "HFePTN4FqxZk"
      },
      "id": "HFePTN4FqxZk",
      "execution_count": 11,
      "outputs": []
    },
    {
      "cell_type": "code",
      "source": [
        "def perform_undersampling(X_train, y_train, drop_play_indexes):\n",
        "  \"\"\"Performing undersampling in 'play' category to balance it with 'challenge'\"\"\"\n",
        "  y_train.drop(drop_play_indexes, axis=0, inplace=True)\n",
        "  X_train = np.delete(X_train, drop_play_indexes, axis=0)\n",
        "  return X_train, y_train"
      ],
      "metadata": {
        "id": "YVpNrxhfqqHh"
      },
      "id": "YVpNrxhfqqHh",
      "execution_count": 12,
      "outputs": []
    },
    {
      "cell_type": "code",
      "source": [
        "def perform_ohe(y_train, y_test):\n",
        "  \"\"\"Performing one-hot-encoding on our labels\"\"\"\n",
        "  current_feat = ['event']\n",
        "  encoder = OneHotEncoder(sparse=False, handle_unknown='ignore')\n",
        "  encoder.fit(y_train[current_feat]) # Fit and transform data\n",
        "  y_train[encoder.get_feature_names_out(list(current_feat))] = encoder.transform(y_train[current_feat])\n",
        "  y_train = y_train.drop(columns=current_feat)\n",
        "\n",
        "  encoder = OneHotEncoder(sparse=False, handle_unknown='ignore')\n",
        "  encoder.fit(y_test[current_feat]) # Fit and transform data\n",
        "  y_test[encoder.get_feature_names_out(list(current_feat))] = encoder.transform(y_test[current_feat])\n",
        "  y_test = y_test.drop(columns=current_feat)\n",
        "  return y_train, y_test"
      ],
      "metadata": {
        "id": "8EdEYJSXse1Q"
      },
      "id": "8EdEYJSXse1Q",
      "execution_count": 13,
      "outputs": []
    },
    {
      "cell_type": "code",
      "source": [
        "def del_X(X):\n",
        "  \"\"\"Deleting variable to free RAM\"\"\"\n",
        "  del X"
      ],
      "metadata": {
        "id": "NuWFnkBAse3Q"
      },
      "id": "NuWFnkBAse3Q",
      "execution_count": 14,
      "outputs": []
    },
    {
      "cell_type": "code",
      "source": [
        "df_events = create_df_events()\n",
        "video_ids, train_videos, test_videos = create_train_test_video_ids(df_events)\n",
        "X = create_X(video_ids)\n",
        "X_train, X_test, train_idx, test_idx = train_test_X_split(df_events, train_videos, test_videos)\n",
        "y_train, y_test = train_test_y_split(df_events, train_idx, test_idx)\n",
        "drop_play_indexes = create_array_to_drop_for_undersampling_in_play(y_train)\n",
        "if NEGATIVES:\n",
        "  X_train, X_test, y_train, y_test = append_negatives(df_events, X, X_train, X_test, y_train, y_test)\n",
        "if UNDERSAMPLING:\n",
        "  X_train, y_train = perform_undersampling(X_train, y_train, drop_play_indexes)\n",
        "y_train, y_test = perform_ohe(y_train, y_test)\n",
        "if FREE_RAM:\n",
        "  del_X(X)"
      ],
      "metadata": {
        "id": "6tCt54XuqqJn"
      },
      "id": "6tCt54XuqqJn",
      "execution_count": 15,
      "outputs": []
    },
    {
      "cell_type": "code",
      "source": [
        "X_train.shape, X_test.shape, y_train.shape, y_test.shape"
      ],
      "metadata": {
        "colab": {
          "base_uri": "https://localhost:8080/"
        },
        "id": "pRq0VLPUwewE",
        "outputId": "4d53df2a-9399-4fb4-8578-e18653e8ded2"
      },
      "id": "pRq0VLPUwewE",
      "execution_count": 16,
      "outputs": [
        {
          "output_type": "execute_result",
          "data": {
            "text/plain": [
              "((3985, 480, 640, 3), (1169, 480, 640, 3), (3985, 4), (1169, 4))"
            ]
          },
          "metadata": {},
          "execution_count": 16
        }
      ]
    },
    {
      "cell_type": "code",
      "source": [
        "y_train.value_counts()"
      ],
      "metadata": {
        "colab": {
          "base_uri": "https://localhost:8080/"
        },
        "id": "kwK-RVM83XRK",
        "outputId": "80f62550-894e-4207-9f9e-782675e9fe4e"
      },
      "id": "kwK-RVM83XRK",
      "execution_count": 17,
      "outputs": [
        {
          "output_type": "execute_result",
          "data": {
            "text/plain": [
              "event_challenge  event_negative  event_play  event_throwin\n",
              "0.0              0.0             1.0         0.0              2789\n",
              "                 1.0             0.0         0.0               579\n",
              "1.0              0.0             0.0         0.0               505\n",
              "0.0              0.0             0.0         1.0               112\n",
              "dtype: int64"
            ]
          },
          "metadata": {},
          "execution_count": 17
        }
      ]
    },
    {
      "cell_type": "code",
      "source": [],
      "metadata": {
        "id": "R7A6kiVcSWJH"
      },
      "id": "R7A6kiVcSWJH",
      "execution_count": null,
      "outputs": []
    },
    {
      "cell_type": "code",
      "source": [],
      "metadata": {
        "id": "femmRVpTSWL7"
      },
      "id": "femmRVpTSWL7",
      "execution_count": null,
      "outputs": []
    },
    {
      "cell_type": "code",
      "source": [],
      "metadata": {
        "id": "h4QmVxOPSWPL"
      },
      "id": "h4QmVxOPSWPL",
      "execution_count": null,
      "outputs": []
    },
    {
      "cell_type": "code",
      "source": [],
      "metadata": {
        "id": "y3m4XWdZSWQP"
      },
      "id": "y3m4XWdZSWQP",
      "execution_count": null,
      "outputs": []
    },
    {
      "cell_type": "code",
      "source": [],
      "metadata": {
        "id": "RfPSgs4KSWS2"
      },
      "id": "RfPSgs4KSWS2",
      "execution_count": null,
      "outputs": []
    },
    {
      "cell_type": "code",
      "source": [],
      "metadata": {
        "id": "4jK79gRPSWV5"
      },
      "id": "4jK79gRPSWV5",
      "execution_count": null,
      "outputs": []
    },
    {
      "cell_type": "code",
      "source": [
        "# df = pd.read_csv(DRIVE_PATH)\n",
        "# df_events = df[~df['event_attributes'].isna()].copy()\n",
        "# df_events.reset_index(drop=True, inplace=True)"
      ],
      "metadata": {
        "id": "_g37jhNr3XTw"
      },
      "id": "_g37jhNr3XTw",
      "execution_count": 4,
      "outputs": []
    },
    {
      "cell_type": "code",
      "source": [
        "# video_ids = df_events['video_id'].unique().tolist()\n",
        "# amount_videos = len(video_ids)\n",
        "# amount_train = round(amount_videos * TRAIN_SIZE)\n",
        "# train_videos = video_ids[:amount_train]\n",
        "# test_videos = video_ids[amount_train:]"
      ],
      "metadata": {
        "id": "pzPjHlXS3XWB"
      },
      "id": "pzPjHlXS3XWB",
      "execution_count": 5,
      "outputs": []
    },
    {
      "cell_type": "code",
      "source": [
        "# video_ids"
      ],
      "metadata": {
        "colab": {
          "base_uri": "https://localhost:8080/"
        },
        "id": "JNYaW2Wo8ZOm",
        "outputId": "2837ebf2-9cc4-4245-bb15-dfab9815df69"
      },
      "id": "JNYaW2Wo8ZOm",
      "execution_count": 6,
      "outputs": [
        {
          "output_type": "execute_result",
          "data": {
            "text/plain": [
              "['1606b0e6_0',\n",
              " '1606b0e6_1',\n",
              " '35bd9041_0',\n",
              " '35bd9041_1',\n",
              " '3c993bd2_0',\n",
              " '3c993bd2_1',\n",
              " '407c5a9e_1',\n",
              " '4ffd5986_0',\n",
              " '9a97dae4_1',\n",
              " 'cfbe2e94_0',\n",
              " 'cfbe2e94_1',\n",
              " 'ecf251d4_0']"
            ]
          },
          "metadata": {},
          "execution_count": 6
        }
      ]
    },
    {
      "cell_type": "code",
      "source": [
        "# X = None\n",
        "# for video_id in video_ids:\n",
        "#   if X is None:\n",
        "#     current_video = np.load(f'{POSITIVES_FOLDER_PATH}{video_id}.npz')\n",
        "#     X = current_video.f.arr_0\n",
        "#   else:\n",
        "#     current_video = np.load(f'{POSITIVES_FOLDER_PATH}{video_id}.npz')\n",
        "#     current_video = current_video.f.arr_0\n",
        "#     X = np.concatenate([X, current_video], axis=0)\n",
        "\n",
        "# len_positives = 0\n",
        "# for i in X:\n",
        "#   len_positives += i.shape[0]\n",
        "\n",
        "\n",
        "# if NEGATIVES:\n",
        "#   for video_id in video_ids[:-9]:\n",
        "#     current_neg_video = np.load(f'{NEGATIVES_FOLDER_PATH}{video_id}.npz')\n",
        "#     current_neg_video = current_neg_video.f.arr_0\n",
        "#     X = np.concatenate([X, current_video], axis=0)"
      ],
      "metadata": {
        "id": "A6aWOGzh6uTp"
      },
      "id": "A6aWOGzh6uTp",
      "execution_count": 7,
      "outputs": []
    },
    {
      "cell_type": "code",
      "source": [
        "# X = list()\n",
        "# for video_id in video_ids:\n",
        "#   current_video = np.load(f'{POSITIVES_FOLDER_PATH}{video_id}.npz')\n",
        "#   current_video = current_video.f.arr_0\n",
        "#   X.append(current_video)\n",
        "# if NEGATIVES:\n",
        "#   for video_id in video_ids[:-10]:\n",
        "#     current_neg_video = np.load(f'{NEGATIVES_FOLDER_PATH}{video_id}.npz')\n",
        "#     current_neg_video = current_neg_video.f.arr_0\n",
        "#     X.append(current_video)\n",
        "# X = np.concatenate(X, axis=0)"
      ],
      "metadata": {
        "id": "wcZ_B6N23XYI"
      },
      "id": "wcZ_B6N23XYI",
      "execution_count": 28,
      "outputs": []
    },
    {
      "cell_type": "code",
      "source": [
        "# train_idx = df_events[df_events['video_id'].isin(train_videos)].index\n",
        "# test_idx = df_events[df_events['video_id'].isin(test_videos)].index\n",
        "# X_train = X[train_idx]\n",
        "# X_test = X[test_idx]\n",
        "# assert df_events.shape[0] == X_train.shape[0] + X_test.shape[0]\n",
        "\n",
        "# y_train = df_events[df_events.index.isin(train_idx) ]['event'].to_frame()\n",
        "# y_test = df_events[df_events.index.isin(test_idx) ]['event'].to_frame()\n",
        "\n",
        "\n",
        "\n",
        "# len_positives = df_events.shape[0]\n",
        "# len_X = X.shape[0]\n",
        "# len_negatives = len_X - len_positives\n",
        "\n",
        "# START_IDX_NEGATIVES = df_events.shape[0]\n",
        "# START_IDX_NEG_TEST = round(START_IDX_NEGATIVES + len_negatives * TRAIN_SIZE)\n",
        "# X_train_neg = X[START_IDX_NEGATIVES:START_IDX_NEG_TEST]\n",
        "# X_test_neg = X[START_IDX_NEG_TEST:]\n",
        "# assert len_negatives == X_train_neg.shape[0] + X_test_neg.shape[0]\n",
        "\n",
        "# X_train = np.concatenate((X_train, X_train_neg), axis=0)\n",
        "# X_test = np.concatenate((X_test, X_test_neg), axis=0)\n",
        "\n",
        "# y_train = y_train.append(pd.DataFrame({'event':['negative'] * X_train_neg.shape[0]}))\n",
        "# y_test = y_test.append(pd.DataFrame({'event':['negative'] * X_test_neg.shape[0]}))"
      ],
      "metadata": {
        "id": "GfaCVN5wODgc"
      },
      "id": "GfaCVN5wODgc",
      "execution_count": null,
      "outputs": []
    },
    {
      "cell_type": "code",
      "source": [
        "# len_positives = df_events.shape[0]\n",
        "# len_positives"
      ],
      "metadata": {
        "colab": {
          "base_uri": "https://localhost:8080/"
        },
        "id": "Raszm04pCQZm",
        "outputId": "0d2fff04-5e6a-4ec9-d159-24e6825f255a"
      },
      "id": "Raszm04pCQZm",
      "execution_count": 29,
      "outputs": [
        {
          "output_type": "execute_result",
          "data": {
            "text/plain": [
              "4382"
            ]
          },
          "metadata": {},
          "execution_count": 29
        }
      ]
    },
    {
      "cell_type": "code",
      "source": [
        "# len_X = X.shape[0]\n",
        "# len_negatives = len_X - len_positives\n",
        "# len_negatives"
      ],
      "metadata": {
        "colab": {
          "base_uri": "https://localhost:8080/"
        },
        "id": "8dH-uliECdEd",
        "outputId": "eb8f0b26-2801-4e54-a276-f8878785fd04"
      },
      "id": "8dH-uliECdEd",
      "execution_count": 30,
      "outputs": [
        {
          "output_type": "execute_result",
          "data": {
            "text/plain": [
              "772"
            ]
          },
          "metadata": {},
          "execution_count": 30
        }
      ]
    },
    {
      "cell_type": "code",
      "source": [
        "# df_events['event'].value_counts()"
      ],
      "metadata": {
        "colab": {
          "base_uri": "https://localhost:8080/"
        },
        "id": "0KNo5xUOCzmC",
        "outputId": "835f8775-a322-4c7b-fa63-5a4f64276e42"
      },
      "id": "0KNo5xUOCzmC",
      "execution_count": 31,
      "outputs": [
        {
          "output_type": "execute_result",
          "data": {
            "text/plain": [
              "play         3586\n",
              "challenge     624\n",
              "throwin       172\n",
              "Name: event, dtype: int64"
            ]
          },
          "metadata": {},
          "execution_count": 31
        }
      ]
    },
    {
      "cell_type": "code",
      "source": [
        "# train_idx = df_events[df_events['video_id'].isin(train_videos)].index\n",
        "# test_idx = df_events[df_events['video_id'].isin(test_videos)].index\n",
        "# X_train = X[train_idx]\n",
        "# X_test = X[test_idx]\n",
        "# assert df_events.shape[0] == X_train.shape[0] + X_test.shape[0]"
      ],
      "metadata": {
        "id": "QBMOdL1p3Xab"
      },
      "id": "QBMOdL1p3Xab",
      "execution_count": 32,
      "outputs": []
    },
    {
      "cell_type": "code",
      "source": [
        "# y_train = df_events[df_events.index.isin(train_idx) ]['event'].to_frame()\n",
        "# y_test = df_events[df_events.index.isin(test_idx) ]['event'].to_frame()"
      ],
      "metadata": {
        "id": "p2nBUc6s3Xck"
      },
      "id": "p2nBUc6s3Xck",
      "execution_count": 33,
      "outputs": []
    },
    {
      "cell_type": "code",
      "source": [
        "# X.shape"
      ],
      "metadata": {
        "colab": {
          "base_uri": "https://localhost:8080/"
        },
        "id": "wYP3bK6R3Xez",
        "outputId": "ead20a84-698d-4a0a-9f36-b4351f36ffa5"
      },
      "id": "wYP3bK6R3Xez",
      "execution_count": 34,
      "outputs": [
        {
          "output_type": "execute_result",
          "data": {
            "text/plain": [
              "(5154, 480, 640, 3)"
            ]
          },
          "metadata": {},
          "execution_count": 34
        }
      ]
    },
    {
      "cell_type": "code",
      "source": [
        "# X_train.shape, X_test.shape"
      ],
      "metadata": {
        "colab": {
          "base_uri": "https://localhost:8080/"
        },
        "id": "ZVIW3WAyKGlW",
        "outputId": "e3eddbf7-ba6e-4027-d59c-652b8426660e"
      },
      "id": "ZVIW3WAyKGlW",
      "execution_count": 35,
      "outputs": [
        {
          "output_type": "execute_result",
          "data": {
            "text/plain": [
              "((3406, 480, 640, 3), (976, 480, 640, 3))"
            ]
          },
          "metadata": {},
          "execution_count": 35
        }
      ]
    },
    {
      "cell_type": "code",
      "source": [
        "# START_IDX_NEGATIVES = df_events.shape[0]\n",
        "# START_IDX_NEGATIVES"
      ],
      "metadata": {
        "colab": {
          "base_uri": "https://localhost:8080/"
        },
        "id": "jH7tW2U2EgjZ",
        "outputId": "d2ca797d-6713-48d4-db52-058954e6b909"
      },
      "id": "jH7tW2U2EgjZ",
      "execution_count": 36,
      "outputs": [
        {
          "output_type": "execute_result",
          "data": {
            "text/plain": [
              "4382"
            ]
          },
          "metadata": {},
          "execution_count": 36
        }
      ]
    },
    {
      "cell_type": "code",
      "source": [
        "# START_IDX_NEG_TEST = round(START_IDX_NEGATIVES + len_negatives * TRAIN_SIZE)\n",
        "# START_IDX_NEG_TEST"
      ],
      "metadata": {
        "colab": {
          "base_uri": "https://localhost:8080/"
        },
        "id": "M8XBxRjDEq9P",
        "outputId": "0fcb6a5b-0750-4b39-ab34-900577b09734"
      },
      "id": "M8XBxRjDEq9P",
      "execution_count": 37,
      "outputs": [
        {
          "output_type": "execute_result",
          "data": {
            "text/plain": [
              "4961"
            ]
          },
          "metadata": {},
          "execution_count": 37
        }
      ]
    },
    {
      "cell_type": "code",
      "source": [
        "# X_train_neg = X[START_IDX_NEGATIVES:START_IDX_NEG_TEST]\n",
        "# X_test_neg = X[START_IDX_NEG_TEST:]"
      ],
      "metadata": {
        "id": "Bh20E25VEbqy"
      },
      "id": "Bh20E25VEbqy",
      "execution_count": 38,
      "outputs": []
    },
    {
      "cell_type": "code",
      "source": [
        "# X_train_neg.shape[0], X_test_neg.shape[0]"
      ],
      "metadata": {
        "colab": {
          "base_uri": "https://localhost:8080/"
        },
        "id": "33CaxlVvNUaA",
        "outputId": "8319e872-76fc-481a-bbb1-c116c7e8b1c2"
      },
      "id": "33CaxlVvNUaA",
      "execution_count": 58,
      "outputs": [
        {
          "output_type": "execute_result",
          "data": {
            "text/plain": [
              "(579, 193)"
            ]
          },
          "metadata": {},
          "execution_count": 58
        }
      ]
    },
    {
      "cell_type": "code",
      "source": [
        "# assert len_negatives == X_train_neg.shape[0] + X_test_neg.shape[0]"
      ],
      "metadata": {
        "id": "nzlpZKgwFKP5"
      },
      "id": "nzlpZKgwFKP5",
      "execution_count": 39,
      "outputs": []
    },
    {
      "cell_type": "code",
      "source": [
        "# del X"
      ],
      "metadata": {
        "id": "KxadcvhfGEPi"
      },
      "id": "KxadcvhfGEPi",
      "execution_count": 40,
      "outputs": []
    },
    {
      "cell_type": "code",
      "source": [
        "# X_train = np.concatenate((X_train, X_train_neg), axis=0)\n",
        "# X_train.shape"
      ],
      "metadata": {
        "colab": {
          "base_uri": "https://localhost:8080/"
        },
        "id": "LNwZtwA73Xg2",
        "outputId": "b78508aa-5e19-4319-d913-686017e16b6a"
      },
      "id": "LNwZtwA73Xg2",
      "execution_count": 41,
      "outputs": [
        {
          "output_type": "execute_result",
          "data": {
            "text/plain": [
              "(3985, 480, 640, 3)"
            ]
          },
          "metadata": {},
          "execution_count": 41
        }
      ]
    },
    {
      "cell_type": "code",
      "source": [
        "# X_test = np.concatenate((X_test, X_test_neg), axis=0)\n",
        "# X_test.shape"
      ],
      "metadata": {
        "colab": {
          "base_uri": "https://localhost:8080/"
        },
        "id": "kZSWATJJ3XjB",
        "outputId": "a1118754-8e1a-4de8-f725-93b8b0685513"
      },
      "id": "kZSWATJJ3XjB",
      "execution_count": 42,
      "outputs": [
        {
          "output_type": "execute_result",
          "data": {
            "text/plain": [
              "(1169, 480, 640, 3)"
            ]
          },
          "metadata": {},
          "execution_count": 42
        }
      ]
    },
    {
      "cell_type": "code",
      "source": [
        "# 772*0.75"
      ],
      "metadata": {
        "colab": {
          "base_uri": "https://localhost:8080/"
        },
        "id": "1ME1GF7GMqhJ",
        "outputId": "5703e930-1722-40d2-de94-77ed2ad720bf"
      },
      "id": "1ME1GF7GMqhJ",
      "execution_count": 48,
      "outputs": [
        {
          "output_type": "execute_result",
          "data": {
            "text/plain": [
              "579.0"
            ]
          },
          "metadata": {},
          "execution_count": 48
        }
      ]
    },
    {
      "cell_type": "code",
      "source": [
        "# y_train"
      ],
      "metadata": {
        "colab": {
          "base_uri": "https://localhost:8080/",
          "height": 424
        },
        "id": "sAxDhqWu3XsB",
        "outputId": "5fc16325-1b53-4722-c2f4-700159512e52"
      },
      "id": "sAxDhqWu3XsB",
      "execution_count": 47,
      "outputs": [
        {
          "output_type": "execute_result",
          "data": {
            "text/plain": [
              "          event\n",
              "0     challenge\n",
              "1     challenge\n",
              "2       throwin\n",
              "3          play\n",
              "4          play\n",
              "...         ...\n",
              "3401  challenge\n",
              "3402       play\n",
              "3403  challenge\n",
              "3404  challenge\n",
              "3405  challenge\n",
              "\n",
              "[3406 rows x 1 columns]"
            ],
            "text/html": [
              "\n",
              "  <div id=\"df-6cbed3ef-e5a1-44ba-a499-ca51995fd85c\">\n",
              "    <div class=\"colab-df-container\">\n",
              "      <div>\n",
              "<style scoped>\n",
              "    .dataframe tbody tr th:only-of-type {\n",
              "        vertical-align: middle;\n",
              "    }\n",
              "\n",
              "    .dataframe tbody tr th {\n",
              "        vertical-align: top;\n",
              "    }\n",
              "\n",
              "    .dataframe thead th {\n",
              "        text-align: right;\n",
              "    }\n",
              "</style>\n",
              "<table border=\"1\" class=\"dataframe\">\n",
              "  <thead>\n",
              "    <tr style=\"text-align: right;\">\n",
              "      <th></th>\n",
              "      <th>event</th>\n",
              "    </tr>\n",
              "  </thead>\n",
              "  <tbody>\n",
              "    <tr>\n",
              "      <th>0</th>\n",
              "      <td>challenge</td>\n",
              "    </tr>\n",
              "    <tr>\n",
              "      <th>1</th>\n",
              "      <td>challenge</td>\n",
              "    </tr>\n",
              "    <tr>\n",
              "      <th>2</th>\n",
              "      <td>throwin</td>\n",
              "    </tr>\n",
              "    <tr>\n",
              "      <th>3</th>\n",
              "      <td>play</td>\n",
              "    </tr>\n",
              "    <tr>\n",
              "      <th>4</th>\n",
              "      <td>play</td>\n",
              "    </tr>\n",
              "    <tr>\n",
              "      <th>...</th>\n",
              "      <td>...</td>\n",
              "    </tr>\n",
              "    <tr>\n",
              "      <th>3401</th>\n",
              "      <td>challenge</td>\n",
              "    </tr>\n",
              "    <tr>\n",
              "      <th>3402</th>\n",
              "      <td>play</td>\n",
              "    </tr>\n",
              "    <tr>\n",
              "      <th>3403</th>\n",
              "      <td>challenge</td>\n",
              "    </tr>\n",
              "    <tr>\n",
              "      <th>3404</th>\n",
              "      <td>challenge</td>\n",
              "    </tr>\n",
              "    <tr>\n",
              "      <th>3405</th>\n",
              "      <td>challenge</td>\n",
              "    </tr>\n",
              "  </tbody>\n",
              "</table>\n",
              "<p>3406 rows × 1 columns</p>\n",
              "</div>\n",
              "      <button class=\"colab-df-convert\" onclick=\"convertToInteractive('df-6cbed3ef-e5a1-44ba-a499-ca51995fd85c')\"\n",
              "              title=\"Convert this dataframe to an interactive table.\"\n",
              "              style=\"display:none;\">\n",
              "        \n",
              "  <svg xmlns=\"http://www.w3.org/2000/svg\" height=\"24px\"viewBox=\"0 0 24 24\"\n",
              "       width=\"24px\">\n",
              "    <path d=\"M0 0h24v24H0V0z\" fill=\"none\"/>\n",
              "    <path d=\"M18.56 5.44l.94 2.06.94-2.06 2.06-.94-2.06-.94-.94-2.06-.94 2.06-2.06.94zm-11 1L8.5 8.5l.94-2.06 2.06-.94-2.06-.94L8.5 2.5l-.94 2.06-2.06.94zm10 10l.94 2.06.94-2.06 2.06-.94-2.06-.94-.94-2.06-.94 2.06-2.06.94z\"/><path d=\"M17.41 7.96l-1.37-1.37c-.4-.4-.92-.59-1.43-.59-.52 0-1.04.2-1.43.59L10.3 9.45l-7.72 7.72c-.78.78-.78 2.05 0 2.83L4 21.41c.39.39.9.59 1.41.59.51 0 1.02-.2 1.41-.59l7.78-7.78 2.81-2.81c.8-.78.8-2.07 0-2.86zM5.41 20L4 18.59l7.72-7.72 1.47 1.35L5.41 20z\"/>\n",
              "  </svg>\n",
              "      </button>\n",
              "      \n",
              "  <style>\n",
              "    .colab-df-container {\n",
              "      display:flex;\n",
              "      flex-wrap:wrap;\n",
              "      gap: 12px;\n",
              "    }\n",
              "\n",
              "    .colab-df-convert {\n",
              "      background-color: #E8F0FE;\n",
              "      border: none;\n",
              "      border-radius: 50%;\n",
              "      cursor: pointer;\n",
              "      display: none;\n",
              "      fill: #1967D2;\n",
              "      height: 32px;\n",
              "      padding: 0 0 0 0;\n",
              "      width: 32px;\n",
              "    }\n",
              "\n",
              "    .colab-df-convert:hover {\n",
              "      background-color: #E2EBFA;\n",
              "      box-shadow: 0px 1px 2px rgba(60, 64, 67, 0.3), 0px 1px 3px 1px rgba(60, 64, 67, 0.15);\n",
              "      fill: #174EA6;\n",
              "    }\n",
              "\n",
              "    [theme=dark] .colab-df-convert {\n",
              "      background-color: #3B4455;\n",
              "      fill: #D2E3FC;\n",
              "    }\n",
              "\n",
              "    [theme=dark] .colab-df-convert:hover {\n",
              "      background-color: #434B5C;\n",
              "      box-shadow: 0px 1px 3px 1px rgba(0, 0, 0, 0.15);\n",
              "      filter: drop-shadow(0px 1px 2px rgba(0, 0, 0, 0.3));\n",
              "      fill: #FFFFFF;\n",
              "    }\n",
              "  </style>\n",
              "\n",
              "      <script>\n",
              "        const buttonEl =\n",
              "          document.querySelector('#df-6cbed3ef-e5a1-44ba-a499-ca51995fd85c button.colab-df-convert');\n",
              "        buttonEl.style.display =\n",
              "          google.colab.kernel.accessAllowed ? 'block' : 'none';\n",
              "\n",
              "        async function convertToInteractive(key) {\n",
              "          const element = document.querySelector('#df-6cbed3ef-e5a1-44ba-a499-ca51995fd85c');\n",
              "          const dataTable =\n",
              "            await google.colab.kernel.invokeFunction('convertToInteractive',\n",
              "                                                     [key], {});\n",
              "          if (!dataTable) return;\n",
              "\n",
              "          const docLinkHtml = 'Like what you see? Visit the ' +\n",
              "            '<a target=\"_blank\" href=https://colab.research.google.com/notebooks/data_table.ipynb>data table notebook</a>'\n",
              "            + ' to learn more about interactive tables.';\n",
              "          element.innerHTML = '';\n",
              "          dataTable['output_type'] = 'display_data';\n",
              "          await google.colab.output.renderOutput(dataTable, element);\n",
              "          const docLink = document.createElement('div');\n",
              "          docLink.innerHTML = docLinkHtml;\n",
              "          element.appendChild(docLink);\n",
              "        }\n",
              "      </script>\n",
              "    </div>\n",
              "  </div>\n",
              "  "
            ]
          },
          "metadata": {},
          "execution_count": 47
        }
      ]
    },
    {
      "cell_type": "code",
      "source": [
        "# y_train = y_train.append(pd.DataFrame({'event':['negative'] * X_train_neg.shape[0]}))\n",
        "# y_test = y_test.append(pd.DataFrame({'event':['negative'] * X_test_neg.shape[0]}))"
      ],
      "metadata": {
        "id": "j7L1qFciK4Ly"
      },
      "id": "j7L1qFciK4Ly",
      "execution_count": 59,
      "outputs": []
    },
    {
      "cell_type": "code",
      "source": [],
      "metadata": {
        "id": "vAjOcEN9K4S2"
      },
      "id": "vAjOcEN9K4S2",
      "execution_count": null,
      "outputs": []
    },
    {
      "cell_type": "code",
      "source": [
        "input_shape = X_train.shape[1], X_train.shape[2], X_train.shape[3]\n",
        "\n",
        "model = Sequential([\n",
        "    Rescaling(1/255, \n",
        "              input_shape=input_shape),   \n",
        "    Conv2D(96, \n",
        "           11, \n",
        "           strides=4, \n",
        "           activation='relu'),\n",
        "    MaxPooling2D(pool_size=3, \n",
        "                 strides=2),\n",
        "    Conv2D(256, \n",
        "           5, \n",
        "           activation='relu'),\n",
        "    MaxPooling2D(pool_size=3, \n",
        "                 strides=2),\n",
        "    Conv2D(384, \n",
        "           3, \n",
        "           activation='relu'),\n",
        "    Conv2D(384, \n",
        "           3, \n",
        "           activation='relu'),\n",
        "    Conv2D(256, \n",
        "           3, \n",
        "           activation='relu'),\n",
        "    MaxPooling2D(),\n",
        "    Flatten(),\n",
        "    Dense(256, \n",
        "          activation='relu'),\n",
        "    Dense(256, \n",
        "          activation='relu'),\n",
        "    Dense(3, \n",
        "          activation='softmax')\n",
        "])"
      ],
      "metadata": {
        "id": "EuBV2umFwjHw"
      },
      "id": "EuBV2umFwjHw",
      "execution_count": null,
      "outputs": []
    },
    {
      "cell_type": "code",
      "source": [
        "model.compile(loss='categorical_crossentropy',\n",
        "              optimizer='adam',\n",
        "              metrics='accuracy',\n",
        "              )"
      ],
      "metadata": {
        "id": "CUZG3Lgrw_wO"
      },
      "id": "CUZG3Lgrw_wO",
      "execution_count": null,
      "outputs": []
    },
    {
      "cell_type": "code",
      "source": [
        "callback = EarlyStopping(monitor='val_loss',\n",
        "                         patience=3,\n",
        "                         restore_best_weights=True\n",
        "                         )"
      ],
      "metadata": {
        "id": "3Jcp0h-QxCU1"
      },
      "id": "3Jcp0h-QxCU1",
      "execution_count": null,
      "outputs": []
    },
    {
      "cell_type": "code",
      "source": [
        "EPOCHS = 100\n",
        "model.fit(X_train, \n",
        "          y_train, \n",
        "          validation_split=0.2, \n",
        "          batch_size=16, \n",
        "          epochs=EPOCHS,\n",
        "          callbacks=[callback])"
      ],
      "metadata": {
        "id": "gtCcpWnhxCWs"
      },
      "id": "gtCcpWnhxCWs",
      "execution_count": null,
      "outputs": []
    },
    {
      "cell_type": "code",
      "source": [
        "INDEX_ACCURACY = 1\n",
        "print(f'\\nAccuracy on the test set: {model.evaluate(X_test, y_test)[INDEX_ACCURACY]:.4f}')"
      ],
      "metadata": {
        "id": "E9INxIM5xCY0"
      },
      "id": "E9INxIM5xCY0",
      "execution_count": null,
      "outputs": []
    },
    {
      "cell_type": "code",
      "source": [
        "y_pred = model.predict(X_test)\n",
        "np.set_printoptions(threshold=sys.maxsize)\n",
        "print(y_pred)"
      ],
      "metadata": {
        "id": "D8fT1u4HxCaz"
      },
      "id": "D8fT1u4HxCaz",
      "execution_count": null,
      "outputs": []
    }
  ],
  "metadata": {
    "kernelspec": {
      "display_name": "Python 3 (ipykernel)",
      "language": "python",
      "name": "python3"
    },
    "language_info": {
      "codemirror_mode": {
        "name": "ipython",
        "version": 3
      },
      "file_extension": ".py",
      "mimetype": "text/x-python",
      "name": "python",
      "nbconvert_exporter": "python",
      "pygments_lexer": "ipython3",
      "version": "3.9.6"
    },
    "colab": {
      "provenance": [],
      "machine_shape": "hm"
    }
  },
  "nbformat": 4,
  "nbformat_minor": 5
}