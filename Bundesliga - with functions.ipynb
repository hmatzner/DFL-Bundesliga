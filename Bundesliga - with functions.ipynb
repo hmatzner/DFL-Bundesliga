{
  "cells": [
    {
      "cell_type": "code",
      "execution_count": 1,
      "id": "bdd5df7c",
      "metadata": {
        "id": "bdd5df7c"
      },
      "outputs": [],
      "source": [
        "import os\n",
        "import sys\n",
        "import pandas as pd\n",
        "import numpy as np\n",
        "from sklearn.preprocessing import OneHotEncoder\n",
        "from sklearn.model_selection import train_test_split\n",
        "from tensorflow.keras import Sequential\n",
        "from tensorflow.keras.layers import Rescaling, Conv2D, MaxPooling2D, AveragePooling2D, Flatten, Dense, Dropout, BatchNormalization\n",
        "from tensorflow.keras.callbacks import EarlyStopping\n",
        "from tensorflow.keras.models import load_model"
      ]
    },
    {
      "cell_type": "code",
      "source": [
        "from google.colab import drive\n",
        "drive.mount('/content/drive')"
      ],
      "metadata": {
        "colab": {
          "base_uri": "https://localhost:8080/"
        },
        "id": "0Qa_p6bQwIuH",
        "outputId": "366e34d8-9d9a-4627-be4c-ad32a88e8a9e"
      },
      "id": "0Qa_p6bQwIuH",
      "execution_count": 2,
      "outputs": [
        {
          "output_type": "stream",
          "name": "stdout",
          "text": [
            "Drive already mounted at /content/drive; to attempt to forcibly remount, call drive.mount(\"/content/drive\", force_remount=True).\n"
          ]
        }
      ]
    },
    {
      "cell_type": "code",
      "execution_count": 3,
      "id": "d552a9f7",
      "metadata": {
        "id": "d552a9f7"
      },
      "outputs": [],
      "source": [
        "# Defining constant variables\n",
        "DRIVE_PATH = '/content/drive/MyDrive/Bundesliga/train.csv'\n",
        "POSITIVES_FOLDER_PATH = '/content/drive/MyDrive/Bundesliga/PicsFromVids/CompressedPic/'\n",
        "NEGATIVES_FOLDER_PATH = '/content/drive/MyDrive/Bundesliga/PicsFromVids/CompressedPic/Negatives/'\n",
        "TRAIN_SIZE = 0.75\n",
        "MODEL = 'AlexNet'\n",
        "# MODEL = 'LeNet-5'"
      ]
    },
    {
      "cell_type": "code",
      "source": [
        "def create_df_events():\n",
        "  \"\"\"Reading DataFrame and creating one with only relevant events\"\"\"\n",
        "  df = pd.read_csv(DRIVE_PATH)\n",
        "  df_events = df[~df['event_attributes'].isna()].copy()\n",
        "  df_events.reset_index(drop=True, inplace=True)\n",
        "  return df_events"
      ],
      "metadata": {
        "id": "Rlkr7clkqqFV"
      },
      "id": "Rlkr7clkqqFV",
      "execution_count": 4,
      "outputs": []
    },
    {
      "cell_type": "code",
      "source": [
        "def create_train_test_video_ids(df_events):\n",
        "  \"\"\"Creating two arrays with which videos are either part of the train or the test data\"\"\"\n",
        "  video_ids = df_events['video_id'].unique().tolist()\n",
        "  amount_videos = len(video_ids)\n",
        "  amount_train = round(amount_videos * TRAIN_SIZE)\n",
        "  train_videos = video_ids[:amount_train]\n",
        "  test_videos = video_ids[amount_train:]\n",
        "  return video_ids, train_videos, test_videos"
      ],
      "metadata": {
        "id": "9ql9kIOqqxQR"
      },
      "id": "9ql9kIOqqxQR",
      "execution_count": 5,
      "outputs": []
    },
    {
      "cell_type": "code",
      "source": [
        "def create_X(video_ids, negatives):\n",
        "  \"\"\"Creating X array with all pictures for both train and test data\"\"\"\n",
        "  X = list()\n",
        "  for video_id in video_ids:\n",
        "    current_video = np.load(f'{POSITIVES_FOLDER_PATH}{video_id}.npz')\n",
        "    current_video = current_video.f.arr_0\n",
        "    X.append(current_video)\n",
        "  if negatives:\n",
        "    for video_id in video_ids[:-10]:\n",
        "      current_neg_video = np.load(f'{NEGATIVES_FOLDER_PATH}{video_id}.npz')\n",
        "      current_neg_video = current_neg_video.f.arr_0\n",
        "      X.append(current_video)\n",
        "  X = np.concatenate(X, axis=0)\n",
        "  return X"
      ],
      "metadata": {
        "id": "_0E8PMcwqxSV"
      },
      "id": "_0E8PMcwqxSV",
      "execution_count": 6,
      "outputs": []
    },
    {
      "cell_type": "code",
      "source": [
        "def train_test_X_split(df_events, X, train_videos, test_videos):\n",
        "  \"\"\"Splitting pictures in train and test data\"\"\"\n",
        "  train_idx = df_events[df_events['video_id'].isin(train_videos)].index\n",
        "  test_idx = df_events[df_events['video_id'].isin(test_videos)].index\n",
        "  X_train = X[train_idx]\n",
        "  X_test = X[test_idx]\n",
        "  assert df_events.shape[0] == X_train.shape[0] + X_test.shape[0]\n",
        "  return X_train, X_test, train_idx, test_idx"
      ],
      "metadata": {
        "id": "HBcw2nYJqxUs"
      },
      "id": "HBcw2nYJqxUs",
      "execution_count": 7,
      "outputs": []
    },
    {
      "cell_type": "code",
      "source": [
        "def train_test_y_split(df_events, train_idx, test_idx):\n",
        "  \"\"\"Creating DataFrame of labels for both train and test data using videos ids\"\"\"\n",
        "  y_train = df_events[df_events.index.isin(train_idx)]['event'].to_frame()\n",
        "  y_test = df_events[df_events.index.isin(test_idx)]['event'].to_frame()\n",
        "  return y_train, y_test"
      ],
      "metadata": {
        "id": "Y6vx6gtDqxXD"
      },
      "id": "Y6vx6gtDqxXD",
      "execution_count": 8,
      "outputs": []
    },
    {
      "cell_type": "code",
      "source": [
        "def append_negatives(df_events, X, X_train, X_test, y_train, y_test):\n",
        "  \"\"\" \"\"\"\n",
        "  len_positives = df_events.shape[0]\n",
        "  len_X = X.shape[0]\n",
        "  len_negatives = len_X - len_positives\n",
        "\n",
        "  START_IDX_NEGATIVES = df_events.shape[0]\n",
        "  START_IDX_NEG_TEST = round(START_IDX_NEGATIVES + len_negatives * TRAIN_SIZE)\n",
        "  X_train_neg = X[START_IDX_NEGATIVES:START_IDX_NEG_TEST]\n",
        "  X_test_neg = X[START_IDX_NEG_TEST:]\n",
        "  assert len_negatives == X_train_neg.shape[0] + X_test_neg.shape[0]\n",
        "\n",
        "  X_train = np.concatenate((X_train, X_train_neg), axis=0)\n",
        "  X_test = np.concatenate((X_test, X_test_neg), axis=0)\n",
        "\n",
        "  y_train = y_train.append(pd.DataFrame({'event':['negative'] * X_train_neg.shape[0]}))\n",
        "  y_train.reset_index(drop=True, inplace=True)\n",
        "  y_test = y_test.append(pd.DataFrame({'event':['negative'] * X_test_neg.shape[0]}))\n",
        "  return X_train, X_test, y_train, y_test"
      ],
      "metadata": {
        "id": "QmIyOAAvP9g-"
      },
      "id": "QmIyOAAvP9g-",
      "execution_count": 9,
      "outputs": []
    },
    {
      "cell_type": "code",
      "source": [
        "def create_array_to_drop_for_undersampling_in_play(y_train):\n",
        "  \"\"\"Creating array of indexes to drop to perform undersampling in column 'play'\"\"\"\n",
        "  play_indexes = y_train[y_train['event'] == 'play'].index\n",
        "  assert y_train.value_counts()['play'] == len(play_indexes)\n",
        "  play_amount = y_train.value_counts()['play']\n",
        "  challenge_amount = y_train.value_counts()['challenge']\n",
        "  drop_play_indexes = np.sort(np.random.choice(a=play_indexes, \n",
        "                                              size=play_amount - challenge_amount, \n",
        "                                              replace=False))\n",
        "  assert len(drop_play_indexes) == play_amount - challenge_amount\n",
        "  return drop_play_indexes"
      ],
      "metadata": {
        "id": "HFePTN4FqxZk"
      },
      "id": "HFePTN4FqxZk",
      "execution_count": 10,
      "outputs": []
    },
    {
      "cell_type": "code",
      "source": [
        "def perform_undersampling(X_train, y_train, drop_play_indexes):\n",
        "  \"\"\"Performing undersampling in 'play' category to balance it with 'challenge'\"\"\"\n",
        "  X_train = np.delete(X_train, drop_play_indexes, axis=0) # Numpy array\n",
        "  y_train.drop(drop_play_indexes, axis=0, inplace=True) # Pandas DataFrame\n",
        "  return X_train, y_train"
      ],
      "metadata": {
        "id": "YVpNrxhfqqHh"
      },
      "id": "YVpNrxhfqqHh",
      "execution_count": 11,
      "outputs": []
    },
    {
      "cell_type": "code",
      "source": [
        "def perform_ohe(y_train, y_test):\n",
        "  \"\"\"Performing one-hot-encoding on our labels\"\"\"\n",
        "  current_feat = ['event']\n",
        "  encoder = OneHotEncoder(sparse=False, handle_unknown='ignore')\n",
        "  encoder.fit(y_train[current_feat]) # Fit and transform data\n",
        "  y_train[encoder.get_feature_names_out(list(current_feat))] = encoder.transform(y_train[current_feat])\n",
        "  y_train = y_train.drop(columns=current_feat)\n",
        "\n",
        "  encoder = OneHotEncoder(sparse=False, handle_unknown='ignore')\n",
        "  encoder.fit(y_test[current_feat]) # Fit and transform data\n",
        "  y_test[encoder.get_feature_names_out(list(current_feat))] = encoder.transform(y_test[current_feat])\n",
        "  y_test = y_test.drop(columns=current_feat)\n",
        "  return y_train, y_test"
      ],
      "metadata": {
        "id": "8EdEYJSXse1Q"
      },
      "id": "8EdEYJSXse1Q",
      "execution_count": 12,
      "outputs": []
    },
    {
      "cell_type": "code",
      "source": [
        "def train_val_split(X_train, y_train):\n",
        "  \"\"\"Split train data into train and validation sets\"\"\"\n",
        "  X_train, X_val, y_train, y_val = train_test_split(X_train, y_train, train_size=.8, random_state=0)\n",
        "  return X_train, X_val, y_train, y_val"
      ],
      "metadata": {
        "id": "r0drENxbuE3Q"
      },
      "id": "r0drENxbuE3Q",
      "execution_count": 13,
      "outputs": []
    },
    {
      "cell_type": "code",
      "source": [
        "def del_X(X):\n",
        "  \"\"\"Deleting variable to free RAM\"\"\"\n",
        "  del X"
      ],
      "metadata": {
        "id": "NuWFnkBAse3Q"
      },
      "id": "NuWFnkBAse3Q",
      "execution_count": 16,
      "outputs": []
    },
    {
      "cell_type": "code",
      "source": [
        "def preprocessing(negatives=True, undersampling=False, free_ram=True):\n",
        "  \"\"\"Run whole pipeline before building the model\"\"\"\n",
        "  df_events = create_df_events()\n",
        "  video_ids, train_videos, test_videos = create_train_test_video_ids(df_events)\n",
        "  X = create_X(video_ids, negatives)\n",
        "  X_train, X_test, train_idx, test_idx = train_test_X_split(df_events, X, train_videos, test_videos)\n",
        "  y_train, y_test = train_test_y_split(df_events, train_idx, test_idx)\n",
        "  if negatives:\n",
        "    X_train, X_test, y_train, y_test = append_negatives(df_events, X, X_train, X_test, y_train, y_test)\n",
        "  if undersampling:\n",
        "    drop_play_indexes = create_array_to_drop_for_undersampling_in_play(y_train)\n",
        "    X_train, y_train = perform_undersampling(X_train, y_train, drop_play_indexes)\n",
        "  y_train, y_test = perform_ohe(y_train, y_test)\n",
        "  X_train, X_val, y_train, y_val = train_val_split(X_train, y_train)\n",
        "  if free_ram:\n",
        "    del_X(X)\n",
        "  return X_train, X_val, X_test, y_train, y_val, y_test"
      ],
      "metadata": {
        "id": "gXoXTmzNvgO9"
      },
      "id": "gXoXTmzNvgO9",
      "execution_count": 17,
      "outputs": []
    },
    {
      "cell_type": "code",
      "source": [
        "def build_model(X_train):\n",
        "  \"\"\" \"\"\"\n",
        "  input_shape = X_train.shape[1], X_train.shape[2], X_train.shape[3]\n",
        "\n",
        "  if MODEL == 'AlexNet':\n",
        "    model = Sequential([\n",
        "        Rescaling(1/255, \n",
        "                  input_shape=input_shape),  \n",
        "\n",
        "        Conv2D(filters=96, \n",
        "               kernel_size=(11, 11), \n",
        "               strides=(4, 4), \n",
        "               activation='relu'),\n",
        "\n",
        "        BatchNormalization(),\n",
        "\n",
        "        MaxPooling2D(pool_size=(3, 3), \n",
        "                     strides=(2, 2)),\n",
        "\n",
        "        Conv2D(filters=256, \n",
        "               kernel_size=(5, 5),\n",
        "               strides=(3, 3), # (1, 1)\n",
        "               activation='relu',\n",
        "               padding='same'),\n",
        "\n",
        "        BatchNormalization(),\n",
        "\n",
        "        MaxPooling2D(pool_size=(3, 3), \n",
        "                     strides=(2, 2)),\n",
        "\n",
        "        Conv2D(filters=384, \n",
        "               kernel_size=(3, 3),\n",
        "               strides=(2, 2), # (1, 1)\n",
        "               activation='relu',\n",
        "               padding='same'),\n",
        "\n",
        "        BatchNormalization(),\n",
        "\n",
        "        Conv2D(filters=384, \n",
        "               kernel_size=(3, 3),\n",
        "               strides=(2, 2), # (1, 1)\n",
        "               activation='relu',\n",
        "               padding='same'),\n",
        "\n",
        "        BatchNormalization(),\n",
        "\n",
        "        Conv2D(filters=256, \n",
        "               kernel_size=(3, 3),\n",
        "               strides=(1, 1), \n",
        "               activation='relu',\n",
        "               padding='same'),\n",
        "\n",
        "        BatchNormalization(),\n",
        "\n",
        "        MaxPooling2D(pool_size=(3, 3), \n",
        "                     strides=(2, 2)),\n",
        "\n",
        "        Flatten(),\n",
        "\n",
        "        Dense(256, \n",
        "              activation='relu'),\n",
        "\n",
        "        Dropout(0.5), \n",
        "\n",
        "        Dense(256, \n",
        "              activation='relu'),\n",
        "\n",
        "        Dropout(0.5), \n",
        "\n",
        "        Dense(4, \n",
        "              activation='softmax')\n",
        "        ])\n",
        "\n",
        "    return model"
      ],
      "metadata": {
        "id": "V11f-06k-hN2"
      },
      "id": "V11f-06k-hN2",
      "execution_count": 18,
      "outputs": []
    },
    {
      "cell_type": "code",
      "source": [
        "# def build_model(X_train):\n",
        "#   \"\"\" \"\"\"\n",
        "#   input_shape = X_train.shape[1], X_train.shape[2], X_train.shape[3]\n",
        "\n",
        "#   if MODEL == 'AlexNet':\n",
        "\n",
        "#     model = Sequential([\n",
        "#         Rescaling(1/255, \n",
        "#                   input_shape=input_shape),   \n",
        "#         Conv2D(filters=96, \n",
        "#               kernel_size=(11, 11), \n",
        "#               strides=(4, 4), \n",
        "#               activation='relu'),\n",
        "#         MaxPooling2D(pool_size=3, \n",
        "#                     strides=2),\n",
        "#         Conv2D(256, \n",
        "#               5, \n",
        "#               activation='relu'),\n",
        "#         MaxPooling2D(pool_size=3, \n",
        "#                     strides=2),\n",
        "#         Conv2D(384, \n",
        "#               3, \n",
        "#               activation='relu'),\n",
        "#         Conv2D(384, \n",
        "#               3, \n",
        "#               activation='relu'),\n",
        "#         Conv2D(256, \n",
        "#               3, \n",
        "#               activation='relu'),\n",
        "#         MaxPooling2D(),\n",
        "#         Flatten(),\n",
        "#         Dense(256, \n",
        "#               activation='relu'),\n",
        "#         Dense(256, \n",
        "#               activation='relu'),\n",
        "#         Dense(4, \n",
        "#               activation='softmax')\n",
        "#     ])\n",
        "\n",
        "#   elif MODEL == 'LeNet-5' and input_shape[:-1] == (480, 640):\n",
        "#     model = Sequential([\n",
        "#         Rescaling(1/255, \n",
        "#                   input_shape=input_shape),   \n",
        "#         Conv2D(6, # input 480, output 480\n",
        "#               5, \n",
        "#               strides=1, \n",
        "#               activation='tanh'),\n",
        "#         AveragePooling2D(pool_size=2, # input 480, output 240\n",
        "#                          strides=2),\n",
        "#         Conv2D(16, \n",
        "#               5, \n",
        "#               activation='tanh'), # input 240, output 236\n",
        "#         AveragePooling2D(pool_size=2, \n",
        "#                          strides=2), # input 236, output 118\n",
        "#         Conv2D(120, \n",
        "#               5, \n",
        "#               activation='tanh'), # input 118, output 114\n",
        "\n",
        "\n",
        "\n",
        "#         # AveragePooling2D(pool_size=6, \n",
        "#         #                  strides=6), # input 114, output 19\n",
        "#         # Conv2D(120, \n",
        "#         #       5, \n",
        "#         #       activation='tanh'), # input 19, output 15\n",
        "#         # AveragePooling2D(pool_size=7, \n",
        "#         #                  strides=2), # input 15, output 5\n",
        "#         # Conv2D(120, \n",
        "#         #       5, \n",
        "#         #       activation='tanh'), # input 5, output 1\n",
        "#         Flatten(),\n",
        "#         Dense(256, \n",
        "#               activation='relu'),\n",
        "#         # Dense(256, \n",
        "#         #       activation='relu'),\n",
        "#         Dense(4, \n",
        "#               activation='softmax')\n",
        "#     ])\n",
        "\n",
        "#   return model"
      ],
      "metadata": {
        "id": "s6jHxVMxTC_G"
      },
      "id": "s6jHxVMxTC_G",
      "execution_count": 19,
      "outputs": []
    },
    {
      "cell_type": "code",
      "source": [
        "def compile_model(model):\n",
        "  \"\"\" \"\"\"\n",
        "  model.compile(loss='categorical_crossentropy',\n",
        "              optimizer='adam',\n",
        "              metrics='accuracy',\n",
        "              )\n",
        "  return model"
      ],
      "metadata": {
        "id": "aOZvepLXTdnq"
      },
      "id": "aOZvepLXTdnq",
      "execution_count": 20,
      "outputs": []
    },
    {
      "cell_type": "code",
      "source": [
        "def train_model(model, X_train, y_train, X_val, y_val, epochs=100, validation_split=0.2, batch_size=16, patience=3):\n",
        "  \"\"\" \"\"\"\n",
        "  callback = EarlyStopping(monitor='val_loss',\n",
        "                         patience=patience,\n",
        "                         restore_best_weights=True\n",
        "                         )\n",
        "\n",
        "  model.fit(X_train, \n",
        "            y_train, \n",
        "            validation_data=(X_val, y_val), \n",
        "            batch_size=batch_size, \n",
        "            epochs=epochs,\n",
        "            callbacks=[callback])\n",
        "  \n",
        "  return model"
      ],
      "metadata": {
        "id": "HmzGNXkwTdpS"
      },
      "id": "HmzGNXkwTdpS",
      "execution_count": 21,
      "outputs": []
    },
    {
      "cell_type": "markdown",
      "source": [
        "## Building 2nd baseline model - with negatives and without undersampling"
      ],
      "metadata": {
        "id": "lnLdhmIlxg6m"
      },
      "id": "lnLdhmIlxg6m"
    },
    {
      "cell_type": "code",
      "source": [
        "X_train, X_val, X_test, y_train, y_val, y_test = preprocessing()"
      ],
      "metadata": {
        "id": "QTiRwYndvaMx"
      },
      "id": "QTiRwYndvaMx",
      "execution_count": 22,
      "outputs": []
    },
    {
      "cell_type": "code",
      "source": [
        "X_train.shape, X_val.shape, X_test.shape, y_train.shape, y_val.shape, y_test.shape"
      ],
      "metadata": {
        "colab": {
          "base_uri": "https://localhost:8080/"
        },
        "id": "TGFvovMmv2cZ",
        "outputId": "9d2d126f-bec0-4a74-9a12-6c5ccd2a93a6"
      },
      "id": "TGFvovMmv2cZ",
      "execution_count": 23,
      "outputs": [
        {
          "output_type": "execute_result",
          "data": {
            "text/plain": [
              "((3188, 480, 640, 3),\n",
              " (797, 480, 640, 3),\n",
              " (1169, 480, 640, 3),\n",
              " (3188, 4),\n",
              " (797, 4),\n",
              " (1169, 4))"
            ]
          },
          "metadata": {},
          "execution_count": 23
        }
      ]
    },
    {
      "cell_type": "code",
      "source": [
        "model = build_model(X_train)\n",
        "model = compile_model(model)"
      ],
      "metadata": {
        "id": "-UHADNpXTZGr"
      },
      "id": "-UHADNpXTZGr",
      "execution_count": 24,
      "outputs": []
    },
    {
      "cell_type": "code",
      "source": [
        "model.summary()"
      ],
      "metadata": {
        "colab": {
          "base_uri": "https://localhost:8080/"
        },
        "id": "LoLpJhGfgJ9D",
        "outputId": "aebd822c-ec0c-45f7-fa10-1cdf7f8fcad6"
      },
      "id": "LoLpJhGfgJ9D",
      "execution_count": 25,
      "outputs": [
        {
          "output_type": "stream",
          "name": "stdout",
          "text": [
            "Model: \"sequential\"\n",
            "_________________________________________________________________\n",
            " Layer (type)                Output Shape              Param #   \n",
            "=================================================================\n",
            " rescaling (Rescaling)       (None, 480, 640, 3)       0         \n",
            "                                                                 \n",
            " conv2d (Conv2D)             (None, 118, 158, 96)      34944     \n",
            "                                                                 \n",
            " batch_normalization (BatchN  (None, 118, 158, 96)     384       \n",
            " ormalization)                                                   \n",
            "                                                                 \n",
            " max_pooling2d (MaxPooling2D  (None, 58, 78, 96)       0         \n",
            " )                                                               \n",
            "                                                                 \n",
            " conv2d_1 (Conv2D)           (None, 20, 26, 256)       614656    \n",
            "                                                                 \n",
            " batch_normalization_1 (Batc  (None, 20, 26, 256)      1024      \n",
            " hNormalization)                                                 \n",
            "                                                                 \n",
            " max_pooling2d_1 (MaxPooling  (None, 9, 12, 256)       0         \n",
            " 2D)                                                             \n",
            "                                                                 \n",
            " conv2d_2 (Conv2D)           (None, 5, 6, 384)         885120    \n",
            "                                                                 \n",
            " batch_normalization_2 (Batc  (None, 5, 6, 384)        1536      \n",
            " hNormalization)                                                 \n",
            "                                                                 \n",
            " conv2d_3 (Conv2D)           (None, 3, 3, 384)         1327488   \n",
            "                                                                 \n",
            " batch_normalization_3 (Batc  (None, 3, 3, 384)        1536      \n",
            " hNormalization)                                                 \n",
            "                                                                 \n",
            " conv2d_4 (Conv2D)           (None, 3, 3, 256)         884992    \n",
            "                                                                 \n",
            " batch_normalization_4 (Batc  (None, 3, 3, 256)        1024      \n",
            " hNormalization)                                                 \n",
            "                                                                 \n",
            " max_pooling2d_2 (MaxPooling  (None, 1, 1, 256)        0         \n",
            " 2D)                                                             \n",
            "                                                                 \n",
            " flatten (Flatten)           (None, 256)               0         \n",
            "                                                                 \n",
            " dense (Dense)               (None, 256)               65792     \n",
            "                                                                 \n",
            " dropout (Dropout)           (None, 256)               0         \n",
            "                                                                 \n",
            " dense_1 (Dense)             (None, 256)               65792     \n",
            "                                                                 \n",
            " dropout_1 (Dropout)         (None, 256)               0         \n",
            "                                                                 \n",
            " dense_2 (Dense)             (None, 4)                 1028      \n",
            "                                                                 \n",
            "=================================================================\n",
            "Total params: 3,885,316\n",
            "Trainable params: 3,882,564\n",
            "Non-trainable params: 2,752\n",
            "_________________________________________________________________\n"
          ]
        }
      ]
    },
    {
      "cell_type": "code",
      "source": [
        "model = train_model(model, X_train, y_train, X_val, y_val)"
      ],
      "metadata": {
        "colab": {
          "base_uri": "https://localhost:8080/"
        },
        "id": "VZ0cUKmRTcS8",
        "outputId": "f86af6c3-30d6-447a-c42e-267557dab4d4"
      },
      "id": "VZ0cUKmRTcS8",
      "execution_count": 26,
      "outputs": [
        {
          "output_type": "stream",
          "name": "stdout",
          "text": [
            "Epoch 1/100\n",
            "200/200 [==============================] - 267s 1s/step - loss: 0.8539 - accuracy: 0.7582 - val_loss: 0.6565 - val_accuracy: 0.7691\n",
            "Epoch 2/100\n",
            "200/200 [==============================] - 273s 1s/step - loss: 0.5773 - accuracy: 0.8259 - val_loss: 0.5988 - val_accuracy: 0.7992\n",
            "Epoch 3/100\n",
            "200/200 [==============================] - 264s 1s/step - loss: 0.5380 - accuracy: 0.8385 - val_loss: 0.5365 - val_accuracy: 0.8356\n",
            "Epoch 4/100\n",
            "200/200 [==============================] - 269s 1s/step - loss: 0.5197 - accuracy: 0.8441 - val_loss: 0.6867 - val_accuracy: 0.7754\n",
            "Epoch 5/100\n",
            "200/200 [==============================] - 270s 1s/step - loss: 0.5240 - accuracy: 0.8394 - val_loss: 0.5158 - val_accuracy: 0.8407\n",
            "Epoch 6/100\n",
            "200/200 [==============================] - 272s 1s/step - loss: 0.5182 - accuracy: 0.8397 - val_loss: 0.4861 - val_accuracy: 0.8407\n",
            "Epoch 7/100\n",
            "200/200 [==============================] - 263s 1s/step - loss: 0.4842 - accuracy: 0.8450 - val_loss: 0.5073 - val_accuracy: 0.8369\n",
            "Epoch 8/100\n",
            "200/200 [==============================] - 267s 1s/step - loss: 0.5085 - accuracy: 0.8397 - val_loss: 1.1924 - val_accuracy: 0.7102\n",
            "Epoch 9/100\n",
            "200/200 [==============================] - 273s 1s/step - loss: 0.4824 - accuracy: 0.8454 - val_loss: 0.5203 - val_accuracy: 0.8407\n"
          ]
        }
      ]
    },
    {
      "cell_type": "code",
      "source": [
        "y_train.value_counts()"
      ],
      "metadata": {
        "colab": {
          "base_uri": "https://localhost:8080/"
        },
        "id": "OOe7-HIdSoFj",
        "outputId": "ed4a94b7-946b-4a1b-a424-780131d2f422"
      },
      "id": "OOe7-HIdSoFj",
      "execution_count": 27,
      "outputs": [
        {
          "output_type": "execute_result",
          "data": {
            "text/plain": [
              "event_challenge  event_negative  event_play  event_throwin\n",
              "0.0              0.0             1.0         0.0              2234\n",
              "                 1.0             0.0         0.0               464\n",
              "1.0              0.0             0.0         0.0               402\n",
              "0.0              0.0             0.0         1.0                88\n",
              "dtype: int64"
            ]
          },
          "metadata": {},
          "execution_count": 27
        }
      ]
    },
    {
      "cell_type": "code",
      "source": [
        "y_test.value_counts()"
      ],
      "metadata": {
        "colab": {
          "base_uri": "https://localhost:8080/"
        },
        "id": "6K8P-90b6xzU",
        "outputId": "e7014ff5-8667-4361-d806-77d46279ef68"
      },
      "id": "6K8P-90b6xzU",
      "execution_count": 28,
      "outputs": [
        {
          "output_type": "execute_result",
          "data": {
            "text/plain": [
              "event_challenge  event_negative  event_play  event_throwin\n",
              "0.0              0.0             1.0         0.0              797\n",
              "                 1.0             0.0         0.0              193\n",
              "1.0              0.0             0.0         0.0              119\n",
              "0.0              0.0             0.0         1.0               60\n",
              "dtype: int64"
            ]
          },
          "metadata": {},
          "execution_count": 28
        }
      ]
    },
    {
      "cell_type": "code",
      "source": [
        "y_test"
      ],
      "metadata": {
        "colab": {
          "base_uri": "https://localhost:8080/",
          "height": 424
        },
        "id": "84oUmMy2I0n1",
        "outputId": "98c68700-e484-470e-9f4f-86130d4c6bcf"
      },
      "id": "84oUmMy2I0n1",
      "execution_count": 29,
      "outputs": [
        {
          "output_type": "execute_result",
          "data": {
            "text/plain": [
              "      event_challenge  event_negative  event_play  event_throwin\n",
              "3406              0.0             0.0         1.0            0.0\n",
              "3407              0.0             0.0         1.0            0.0\n",
              "3408              0.0             0.0         1.0            0.0\n",
              "3409              0.0             0.0         1.0            0.0\n",
              "3410              0.0             0.0         1.0            0.0\n",
              "...               ...             ...         ...            ...\n",
              "188               0.0             1.0         0.0            0.0\n",
              "189               0.0             1.0         0.0            0.0\n",
              "190               0.0             1.0         0.0            0.0\n",
              "191               0.0             1.0         0.0            0.0\n",
              "192               0.0             1.0         0.0            0.0\n",
              "\n",
              "[1169 rows x 4 columns]"
            ],
            "text/html": [
              "\n",
              "  <div id=\"df-273e4bf2-b776-470a-81a8-f2001e957585\">\n",
              "    <div class=\"colab-df-container\">\n",
              "      <div>\n",
              "<style scoped>\n",
              "    .dataframe tbody tr th:only-of-type {\n",
              "        vertical-align: middle;\n",
              "    }\n",
              "\n",
              "    .dataframe tbody tr th {\n",
              "        vertical-align: top;\n",
              "    }\n",
              "\n",
              "    .dataframe thead th {\n",
              "        text-align: right;\n",
              "    }\n",
              "</style>\n",
              "<table border=\"1\" class=\"dataframe\">\n",
              "  <thead>\n",
              "    <tr style=\"text-align: right;\">\n",
              "      <th></th>\n",
              "      <th>event_challenge</th>\n",
              "      <th>event_negative</th>\n",
              "      <th>event_play</th>\n",
              "      <th>event_throwin</th>\n",
              "    </tr>\n",
              "  </thead>\n",
              "  <tbody>\n",
              "    <tr>\n",
              "      <th>3406</th>\n",
              "      <td>0.0</td>\n",
              "      <td>0.0</td>\n",
              "      <td>1.0</td>\n",
              "      <td>0.0</td>\n",
              "    </tr>\n",
              "    <tr>\n",
              "      <th>3407</th>\n",
              "      <td>0.0</td>\n",
              "      <td>0.0</td>\n",
              "      <td>1.0</td>\n",
              "      <td>0.0</td>\n",
              "    </tr>\n",
              "    <tr>\n",
              "      <th>3408</th>\n",
              "      <td>0.0</td>\n",
              "      <td>0.0</td>\n",
              "      <td>1.0</td>\n",
              "      <td>0.0</td>\n",
              "    </tr>\n",
              "    <tr>\n",
              "      <th>3409</th>\n",
              "      <td>0.0</td>\n",
              "      <td>0.0</td>\n",
              "      <td>1.0</td>\n",
              "      <td>0.0</td>\n",
              "    </tr>\n",
              "    <tr>\n",
              "      <th>3410</th>\n",
              "      <td>0.0</td>\n",
              "      <td>0.0</td>\n",
              "      <td>1.0</td>\n",
              "      <td>0.0</td>\n",
              "    </tr>\n",
              "    <tr>\n",
              "      <th>...</th>\n",
              "      <td>...</td>\n",
              "      <td>...</td>\n",
              "      <td>...</td>\n",
              "      <td>...</td>\n",
              "    </tr>\n",
              "    <tr>\n",
              "      <th>188</th>\n",
              "      <td>0.0</td>\n",
              "      <td>1.0</td>\n",
              "      <td>0.0</td>\n",
              "      <td>0.0</td>\n",
              "    </tr>\n",
              "    <tr>\n",
              "      <th>189</th>\n",
              "      <td>0.0</td>\n",
              "      <td>1.0</td>\n",
              "      <td>0.0</td>\n",
              "      <td>0.0</td>\n",
              "    </tr>\n",
              "    <tr>\n",
              "      <th>190</th>\n",
              "      <td>0.0</td>\n",
              "      <td>1.0</td>\n",
              "      <td>0.0</td>\n",
              "      <td>0.0</td>\n",
              "    </tr>\n",
              "    <tr>\n",
              "      <th>191</th>\n",
              "      <td>0.0</td>\n",
              "      <td>1.0</td>\n",
              "      <td>0.0</td>\n",
              "      <td>0.0</td>\n",
              "    </tr>\n",
              "    <tr>\n",
              "      <th>192</th>\n",
              "      <td>0.0</td>\n",
              "      <td>1.0</td>\n",
              "      <td>0.0</td>\n",
              "      <td>0.0</td>\n",
              "    </tr>\n",
              "  </tbody>\n",
              "</table>\n",
              "<p>1169 rows × 4 columns</p>\n",
              "</div>\n",
              "      <button class=\"colab-df-convert\" onclick=\"convertToInteractive('df-273e4bf2-b776-470a-81a8-f2001e957585')\"\n",
              "              title=\"Convert this dataframe to an interactive table.\"\n",
              "              style=\"display:none;\">\n",
              "        \n",
              "  <svg xmlns=\"http://www.w3.org/2000/svg\" height=\"24px\"viewBox=\"0 0 24 24\"\n",
              "       width=\"24px\">\n",
              "    <path d=\"M0 0h24v24H0V0z\" fill=\"none\"/>\n",
              "    <path d=\"M18.56 5.44l.94 2.06.94-2.06 2.06-.94-2.06-.94-.94-2.06-.94 2.06-2.06.94zm-11 1L8.5 8.5l.94-2.06 2.06-.94-2.06-.94L8.5 2.5l-.94 2.06-2.06.94zm10 10l.94 2.06.94-2.06 2.06-.94-2.06-.94-.94-2.06-.94 2.06-2.06.94z\"/><path d=\"M17.41 7.96l-1.37-1.37c-.4-.4-.92-.59-1.43-.59-.52 0-1.04.2-1.43.59L10.3 9.45l-7.72 7.72c-.78.78-.78 2.05 0 2.83L4 21.41c.39.39.9.59 1.41.59.51 0 1.02-.2 1.41-.59l7.78-7.78 2.81-2.81c.8-.78.8-2.07 0-2.86zM5.41 20L4 18.59l7.72-7.72 1.47 1.35L5.41 20z\"/>\n",
              "  </svg>\n",
              "      </button>\n",
              "      \n",
              "  <style>\n",
              "    .colab-df-container {\n",
              "      display:flex;\n",
              "      flex-wrap:wrap;\n",
              "      gap: 12px;\n",
              "    }\n",
              "\n",
              "    .colab-df-convert {\n",
              "      background-color: #E8F0FE;\n",
              "      border: none;\n",
              "      border-radius: 50%;\n",
              "      cursor: pointer;\n",
              "      display: none;\n",
              "      fill: #1967D2;\n",
              "      height: 32px;\n",
              "      padding: 0 0 0 0;\n",
              "      width: 32px;\n",
              "    }\n",
              "\n",
              "    .colab-df-convert:hover {\n",
              "      background-color: #E2EBFA;\n",
              "      box-shadow: 0px 1px 2px rgba(60, 64, 67, 0.3), 0px 1px 3px 1px rgba(60, 64, 67, 0.15);\n",
              "      fill: #174EA6;\n",
              "    }\n",
              "\n",
              "    [theme=dark] .colab-df-convert {\n",
              "      background-color: #3B4455;\n",
              "      fill: #D2E3FC;\n",
              "    }\n",
              "\n",
              "    [theme=dark] .colab-df-convert:hover {\n",
              "      background-color: #434B5C;\n",
              "      box-shadow: 0px 1px 3px 1px rgba(0, 0, 0, 0.15);\n",
              "      filter: drop-shadow(0px 1px 2px rgba(0, 0, 0, 0.3));\n",
              "      fill: #FFFFFF;\n",
              "    }\n",
              "  </style>\n",
              "\n",
              "      <script>\n",
              "        const buttonEl =\n",
              "          document.querySelector('#df-273e4bf2-b776-470a-81a8-f2001e957585 button.colab-df-convert');\n",
              "        buttonEl.style.display =\n",
              "          google.colab.kernel.accessAllowed ? 'block' : 'none';\n",
              "\n",
              "        async function convertToInteractive(key) {\n",
              "          const element = document.querySelector('#df-273e4bf2-b776-470a-81a8-f2001e957585');\n",
              "          const dataTable =\n",
              "            await google.colab.kernel.invokeFunction('convertToInteractive',\n",
              "                                                     [key], {});\n",
              "          if (!dataTable) return;\n",
              "\n",
              "          const docLinkHtml = 'Like what you see? Visit the ' +\n",
              "            '<a target=\"_blank\" href=https://colab.research.google.com/notebooks/data_table.ipynb>data table notebook</a>'\n",
              "            + ' to learn more about interactive tables.';\n",
              "          element.innerHTML = '';\n",
              "          dataTable['output_type'] = 'display_data';\n",
              "          await google.colab.output.renderOutput(dataTable, element);\n",
              "          const docLink = document.createElement('div');\n",
              "          docLink.innerHTML = docLinkHtml;\n",
              "          element.appendChild(docLink);\n",
              "        }\n",
              "      </script>\n",
              "    </div>\n",
              "  </div>\n",
              "  "
            ]
          },
          "metadata": {},
          "execution_count": 29
        }
      ]
    },
    {
      "cell_type": "code",
      "source": [
        "INDEX_ACCURACY = 1\n",
        "print(f'\\nAccuracy on the test set: {model.evaluate(X_test, y_test)[INDEX_ACCURACY]:.4f}')"
      ],
      "metadata": {
        "colab": {
          "base_uri": "https://localhost:8080/"
        },
        "id": "dqB_tojtTEvy",
        "outputId": "a8b4abde-4430-4f43-daed-00635cb08670"
      },
      "id": "dqB_tojtTEvy",
      "execution_count": 30,
      "outputs": [
        {
          "output_type": "stream",
          "name": "stdout",
          "text": [
            "37/37 [==============================] - 22s 590ms/step - loss: 5.6115 - accuracy: 0.5706\n",
            "\n",
            "Accuracy on the test set: 0.5706\n"
          ]
        }
      ]
    },
    {
      "cell_type": "code",
      "source": [
        "INDEX_ACCURACY = 1\n",
        "print(f'\\nAccuracy on the test set: {model.evaluate(X_train, y_train)[INDEX_ACCURACY]:.4f}')"
      ],
      "metadata": {
        "colab": {
          "base_uri": "https://localhost:8080/"
        },
        "id": "W9dpMTGRNmcg",
        "outputId": "16f8a320-b059-45a2-f29f-91797cb43911"
      },
      "id": "W9dpMTGRNmcg",
      "execution_count": 72,
      "outputs": [
        {
          "output_type": "stream",
          "name": "stdout",
          "text": [
            "100/100 [==============================] - 55s 553ms/step - loss: 0.4609 - accuracy: 0.8457\n",
            "\n",
            "Accuracy on the test set: 0.8457\n"
          ]
        }
      ]
    },
    {
      "cell_type": "code",
      "source": [
        "new_y_train = y_train.idxmax(axis=1)\\\n",
        ".replace({'event_challenge': 0, 'event_negative': 1, 'event_play': 2, 'event_throwin': 3})"
      ],
      "metadata": {
        "id": "o7lFvmG_PuSj"
      },
      "id": "o7lFvmG_PuSj",
      "execution_count": 94,
      "outputs": []
    },
    {
      "cell_type": "code",
      "source": [
        "y_pred_train = model.predict(X_train)"
      ],
      "metadata": {
        "colab": {
          "base_uri": "https://localhost:8080/"
        },
        "id": "TtpmLXeXREhX",
        "outputId": "a02ba4b9-978d-4ab7-e461-d9e4cedab21e"
      },
      "id": "TtpmLXeXREhX",
      "execution_count": 93,
      "outputs": [
        {
          "output_type": "stream",
          "name": "stdout",
          "text": [
            "100/100 [==============================] - 57s 574ms/step\n"
          ]
        }
      ]
    },
    {
      "cell_type": "code",
      "source": [
        "y_pred_train_b = [np.argmax(i, axis=0) for i in y_pred_train]"
      ],
      "metadata": {
        "id": "KBafB6mWRCKQ"
      },
      "id": "KBafB6mWRCKQ",
      "execution_count": 96,
      "outputs": []
    },
    {
      "cell_type": "code",
      "source": [
        "ConfusionMatrixDisplay.from_predictions(new_y_train, y_pred_train_b)\n",
        "plt.show()"
      ],
      "metadata": {
        "colab": {
          "base_uri": "https://localhost:8080/",
          "height": 279
        },
        "id": "r6aCC1DtQ4wj",
        "outputId": "41600230-068d-40ba-82b7-89311eb43042"
      },
      "id": "r6aCC1DtQ4wj",
      "execution_count": 97,
      "outputs": [
        {
          "output_type": "display_data",
          "data": {
            "text/plain": [
              "<Figure size 432x288 with 2 Axes>"
            ],
            "image/png": "[encoded data removed]"
          },
          "metadata": {
            "needs_background": "light"
          }
        }
      ]
    },
    {
      "cell_type": "code",
      "source": [
        "INDEX_ACCURACY = 1\n",
        "print(f'\\nAccuracy on the test set: {model.evaluate(X_test[-600:-550], y_test.iloc[-600:-550])[INDEX_ACCURACY]:.4f}')"
      ],
      "metadata": {
        "colab": {
          "base_uri": "https://localhost:8080/"
        },
        "id": "LDCF48tEMEbY",
        "outputId": "d21ba1b4-294b-41ae-e825-32aa586a41b4"
      },
      "id": "LDCF48tEMEbY",
      "execution_count": 71,
      "outputs": [
        {
          "output_type": "stream",
          "name": "stdout",
          "text": [
            "2/2 [==============================] - 1s 406ms/step - loss: 11.2187 - accuracy: 0.3000\n",
            "\n",
            "Accuracy on the test set: 0.3000\n"
          ]
        }
      ]
    },
    {
      "cell_type": "code",
      "source": [
        "np.set_printoptions(suppress=True)"
      ],
      "metadata": {
        "id": "DoR88LhP7ZIo"
      },
      "id": "DoR88LhP7ZIo",
      "execution_count": 31,
      "outputs": []
    },
    {
      "cell_type": "code",
      "source": [
        "y_test"
      ],
      "metadata": {
        "colab": {
          "base_uri": "https://localhost:8080/",
          "height": 424
        },
        "id": "gfItKgpZJSr5",
        "outputId": "1b0ee0d0-77d9-4e08-e6a2-b71b43800725"
      },
      "id": "gfItKgpZJSr5",
      "execution_count": 34,
      "outputs": [
        {
          "output_type": "execute_result",
          "data": {
            "text/plain": [
              "      event_challenge  event_negative  event_play  event_throwin\n",
              "3406              0.0             0.0         1.0            0.0\n",
              "3407              0.0             0.0         1.0            0.0\n",
              "3408              0.0             0.0         1.0            0.0\n",
              "3409              0.0             0.0         1.0            0.0\n",
              "3410              0.0             0.0         1.0            0.0\n",
              "...               ...             ...         ...            ...\n",
              "188               0.0             1.0         0.0            0.0\n",
              "189               0.0             1.0         0.0            0.0\n",
              "190               0.0             1.0         0.0            0.0\n",
              "191               0.0             1.0         0.0            0.0\n",
              "192               0.0             1.0         0.0            0.0\n",
              "\n",
              "[1169 rows x 4 columns]"
            ],
            "text/html": [
              "\n",
              "  <div id=\"df-b7c52ada-5632-459a-81ad-24e5707d7b92\">\n",
              "    <div class=\"colab-df-container\">\n",
              "      <div>\n",
              "<style scoped>\n",
              "    .dataframe tbody tr th:only-of-type {\n",
              "        vertical-align: middle;\n",
              "    }\n",
              "\n",
              "    .dataframe tbody tr th {\n",
              "        vertical-align: top;\n",
              "    }\n",
              "\n",
              "    .dataframe thead th {\n",
              "        text-align: right;\n",
              "    }\n",
              "</style>\n",
              "<table border=\"1\" class=\"dataframe\">\n",
              "  <thead>\n",
              "    <tr style=\"text-align: right;\">\n",
              "      <th></th>\n",
              "      <th>event_challenge</th>\n",
              "      <th>event_negative</th>\n",
              "      <th>event_play</th>\n",
              "      <th>event_throwin</th>\n",
              "    </tr>\n",
              "  </thead>\n",
              "  <tbody>\n",
              "    <tr>\n",
              "      <th>3406</th>\n",
              "      <td>0.0</td>\n",
              "      <td>0.0</td>\n",
              "      <td>1.0</td>\n",
              "      <td>0.0</td>\n",
              "    </tr>\n",
              "    <tr>\n",
              "      <th>3407</th>\n",
              "      <td>0.0</td>\n",
              "      <td>0.0</td>\n",
              "      <td>1.0</td>\n",
              "      <td>0.0</td>\n",
              "    </tr>\n",
              "    <tr>\n",
              "      <th>3408</th>\n",
              "      <td>0.0</td>\n",
              "      <td>0.0</td>\n",
              "      <td>1.0</td>\n",
              "      <td>0.0</td>\n",
              "    </tr>\n",
              "    <tr>\n",
              "      <th>3409</th>\n",
              "      <td>0.0</td>\n",
              "      <td>0.0</td>\n",
              "      <td>1.0</td>\n",
              "      <td>0.0</td>\n",
              "    </tr>\n",
              "    <tr>\n",
              "      <th>3410</th>\n",
              "      <td>0.0</td>\n",
              "      <td>0.0</td>\n",
              "      <td>1.0</td>\n",
              "      <td>0.0</td>\n",
              "    </tr>\n",
              "    <tr>\n",
              "      <th>...</th>\n",
              "      <td>...</td>\n",
              "      <td>...</td>\n",
              "      <td>...</td>\n",
              "      <td>...</td>\n",
              "    </tr>\n",
              "    <tr>\n",
              "      <th>188</th>\n",
              "      <td>0.0</td>\n",
              "      <td>1.0</td>\n",
              "      <td>0.0</td>\n",
              "      <td>0.0</td>\n",
              "    </tr>\n",
              "    <tr>\n",
              "      <th>189</th>\n",
              "      <td>0.0</td>\n",
              "      <td>1.0</td>\n",
              "      <td>0.0</td>\n",
              "      <td>0.0</td>\n",
              "    </tr>\n",
              "    <tr>\n",
              "      <th>190</th>\n",
              "      <td>0.0</td>\n",
              "      <td>1.0</td>\n",
              "      <td>0.0</td>\n",
              "      <td>0.0</td>\n",
              "    </tr>\n",
              "    <tr>\n",
              "      <th>191</th>\n",
              "      <td>0.0</td>\n",
              "      <td>1.0</td>\n",
              "      <td>0.0</td>\n",
              "      <td>0.0</td>\n",
              "    </tr>\n",
              "    <tr>\n",
              "      <th>192</th>\n",
              "      <td>0.0</td>\n",
              "      <td>1.0</td>\n",
              "      <td>0.0</td>\n",
              "      <td>0.0</td>\n",
              "    </tr>\n",
              "  </tbody>\n",
              "</table>\n",
              "<p>1169 rows × 4 columns</p>\n",
              "</div>\n",
              "      <button class=\"colab-df-convert\" onclick=\"convertToInteractive('df-b7c52ada-5632-459a-81ad-24e5707d7b92')\"\n",
              "              title=\"Convert this dataframe to an interactive table.\"\n",
              "              style=\"display:none;\">\n",
              "        \n",
              "  <svg xmlns=\"http://www.w3.org/2000/svg\" height=\"24px\"viewBox=\"0 0 24 24\"\n",
              "       width=\"24px\">\n",
              "    <path d=\"M0 0h24v24H0V0z\" fill=\"none\"/>\n",
              "    <path d=\"M18.56 5.44l.94 2.06.94-2.06 2.06-.94-2.06-.94-.94-2.06-.94 2.06-2.06.94zm-11 1L8.5 8.5l.94-2.06 2.06-.94-2.06-.94L8.5 2.5l-.94 2.06-2.06.94zm10 10l.94 2.06.94-2.06 2.06-.94-2.06-.94-.94-2.06-.94 2.06-2.06.94z\"/><path d=\"M17.41 7.96l-1.37-1.37c-.4-.4-.92-.59-1.43-.59-.52 0-1.04.2-1.43.59L10.3 9.45l-7.72 7.72c-.78.78-.78 2.05 0 2.83L4 21.41c.39.39.9.59 1.41.59.51 0 1.02-.2 1.41-.59l7.78-7.78 2.81-2.81c.8-.78.8-2.07 0-2.86zM5.41 20L4 18.59l7.72-7.72 1.47 1.35L5.41 20z\"/>\n",
              "  </svg>\n",
              "      </button>\n",
              "      \n",
              "  <style>\n",
              "    .colab-df-container {\n",
              "      display:flex;\n",
              "      flex-wrap:wrap;\n",
              "      gap: 12px;\n",
              "    }\n",
              "\n",
              "    .colab-df-convert {\n",
              "      background-color: #E8F0FE;\n",
              "      border: none;\n",
              "      border-radius: 50%;\n",
              "      cursor: pointer;\n",
              "      display: none;\n",
              "      fill: #1967D2;\n",
              "      height: 32px;\n",
              "      padding: 0 0 0 0;\n",
              "      width: 32px;\n",
              "    }\n",
              "\n",
              "    .colab-df-convert:hover {\n",
              "      background-color: #E2EBFA;\n",
              "      box-shadow: 0px 1px 2px rgba(60, 64, 67, 0.3), 0px 1px 3px 1px rgba(60, 64, 67, 0.15);\n",
              "      fill: #174EA6;\n",
              "    }\n",
              "\n",
              "    [theme=dark] .colab-df-convert {\n",
              "      background-color: #3B4455;\n",
              "      fill: #D2E3FC;\n",
              "    }\n",
              "\n",
              "    [theme=dark] .colab-df-convert:hover {\n",
              "      background-color: #434B5C;\n",
              "      box-shadow: 0px 1px 3px 1px rgba(0, 0, 0, 0.15);\n",
              "      filter: drop-shadow(0px 1px 2px rgba(0, 0, 0, 0.3));\n",
              "      fill: #FFFFFF;\n",
              "    }\n",
              "  </style>\n",
              "\n",
              "      <script>\n",
              "        const buttonEl =\n",
              "          document.querySelector('#df-b7c52ada-5632-459a-81ad-24e5707d7b92 button.colab-df-convert');\n",
              "        buttonEl.style.display =\n",
              "          google.colab.kernel.accessAllowed ? 'block' : 'none';\n",
              "\n",
              "        async function convertToInteractive(key) {\n",
              "          const element = document.querySelector('#df-b7c52ada-5632-459a-81ad-24e5707d7b92');\n",
              "          const dataTable =\n",
              "            await google.colab.kernel.invokeFunction('convertToInteractive',\n",
              "                                                     [key], {});\n",
              "          if (!dataTable) return;\n",
              "\n",
              "          const docLinkHtml = 'Like what you see? Visit the ' +\n",
              "            '<a target=\"_blank\" href=https://colab.research.google.com/notebooks/data_table.ipynb>data table notebook</a>'\n",
              "            + ' to learn more about interactive tables.';\n",
              "          element.innerHTML = '';\n",
              "          dataTable['output_type'] = 'display_data';\n",
              "          await google.colab.output.renderOutput(dataTable, element);\n",
              "          const docLink = document.createElement('div');\n",
              "          docLink.innerHTML = docLinkHtml;\n",
              "          element.appendChild(docLink);\n",
              "        }\n",
              "      </script>\n",
              "    </div>\n",
              "  </div>\n",
              "  "
            ]
          },
          "metadata": {},
          "execution_count": 34
        }
      ]
    },
    {
      "cell_type": "code",
      "source": [
        "y_pred = model.predict(X_test)\n",
        "y_pred"
      ],
      "metadata": {
        "colab": {
          "base_uri": "https://localhost:8080/"
        },
        "id": "dIyO8EJjSzPm",
        "outputId": "d4c63a03-1f94-4e7c-adcb-b551a5eaa000"
      },
      "id": "dIyO8EJjSzPm",
      "execution_count": 32,
      "outputs": [
        {
          "output_type": "stream",
          "name": "stdout",
          "text": [
            "37/37 [==============================] - 21s 552ms/step\n"
          ]
        },
        {
          "output_type": "execute_result",
          "data": {
            "text/plain": [
              "array([[0.24396832, 0.00132348, 0.65313464, 0.10157349],\n",
              "       [0.24241799, 0.00090088, 0.66107225, 0.09560883],\n",
              "       [0.23714446, 0.0020777 , 0.65617394, 0.10460388],\n",
              "       ...,\n",
              "       [0.0000006 , 0.9999986 , 0.00000073, 0.00000001],\n",
              "       [0.00000006, 0.9999997 , 0.00000006, 0.        ],\n",
              "       [0.00000028, 0.9999995 , 0.0000003 , 0.        ]], dtype=float32)"
            ]
          },
          "metadata": {},
          "execution_count": 32
        }
      ]
    },
    {
      "cell_type": "code",
      "source": [
        "y_pred_b = [np.argmax(i, axis=0) for i in y_pred]"
      ],
      "metadata": {
        "id": "H23yLZF0J9Bn"
      },
      "id": "H23yLZF0J9Bn",
      "execution_count": 46,
      "outputs": []
    },
    {
      "cell_type": "code",
      "source": [
        "y_test"
      ],
      "metadata": {
        "colab": {
          "base_uri": "https://localhost:8080/",
          "height": 424
        },
        "id": "GbAePndwLPYP",
        "outputId": "41f7aa5c-0c11-4e68-abb5-543e6b4dd610"
      },
      "id": "GbAePndwLPYP",
      "execution_count": 51,
      "outputs": [
        {
          "output_type": "execute_result",
          "data": {
            "text/plain": [
              "      event_challenge  event_negative  event_play  event_throwin\n",
              "3406              0.0             0.0         1.0            0.0\n",
              "3407              0.0             0.0         1.0            0.0\n",
              "3408              0.0             0.0         1.0            0.0\n",
              "3409              0.0             0.0         1.0            0.0\n",
              "3410              0.0             0.0         1.0            0.0\n",
              "...               ...             ...         ...            ...\n",
              "188               0.0             1.0         0.0            0.0\n",
              "189               0.0             1.0         0.0            0.0\n",
              "190               0.0             1.0         0.0            0.0\n",
              "191               0.0             1.0         0.0            0.0\n",
              "192               0.0             1.0         0.0            0.0\n",
              "\n",
              "[1169 rows x 4 columns]"
            ],
            "text/html": [
              "\n",
              "  <div id=\"df-3e4ccdea-5165-4e96-95b8-b8159c96efed\">\n",
              "    <div class=\"colab-df-container\">\n",
              "      <div>\n",
              "<style scoped>\n",
              "    .dataframe tbody tr th:only-of-type {\n",
              "        vertical-align: middle;\n",
              "    }\n",
              "\n",
              "    .dataframe tbody tr th {\n",
              "        vertical-align: top;\n",
              "    }\n",
              "\n",
              "    .dataframe thead th {\n",
              "        text-align: right;\n",
              "    }\n",
              "</style>\n",
              "<table border=\"1\" class=\"dataframe\">\n",
              "  <thead>\n",
              "    <tr style=\"text-align: right;\">\n",
              "      <th></th>\n",
              "      <th>event_challenge</th>\n",
              "      <th>event_negative</th>\n",
              "      <th>event_play</th>\n",
              "      <th>event_throwin</th>\n",
              "    </tr>\n",
              "  </thead>\n",
              "  <tbody>\n",
              "    <tr>\n",
              "      <th>3406</th>\n",
              "      <td>0.0</td>\n",
              "      <td>0.0</td>\n",
              "      <td>1.0</td>\n",
              "      <td>0.0</td>\n",
              "    </tr>\n",
              "    <tr>\n",
              "      <th>3407</th>\n",
              "      <td>0.0</td>\n",
              "      <td>0.0</td>\n",
              "      <td>1.0</td>\n",
              "      <td>0.0</td>\n",
              "    </tr>\n",
              "    <tr>\n",
              "      <th>3408</th>\n",
              "      <td>0.0</td>\n",
              "      <td>0.0</td>\n",
              "      <td>1.0</td>\n",
              "      <td>0.0</td>\n",
              "    </tr>\n",
              "    <tr>\n",
              "      <th>3409</th>\n",
              "      <td>0.0</td>\n",
              "      <td>0.0</td>\n",
              "      <td>1.0</td>\n",
              "      <td>0.0</td>\n",
              "    </tr>\n",
              "    <tr>\n",
              "      <th>3410</th>\n",
              "      <td>0.0</td>\n",
              "      <td>0.0</td>\n",
              "      <td>1.0</td>\n",
              "      <td>0.0</td>\n",
              "    </tr>\n",
              "    <tr>\n",
              "      <th>...</th>\n",
              "      <td>...</td>\n",
              "      <td>...</td>\n",
              "      <td>...</td>\n",
              "      <td>...</td>\n",
              "    </tr>\n",
              "    <tr>\n",
              "      <th>188</th>\n",
              "      <td>0.0</td>\n",
              "      <td>1.0</td>\n",
              "      <td>0.0</td>\n",
              "      <td>0.0</td>\n",
              "    </tr>\n",
              "    <tr>\n",
              "      <th>189</th>\n",
              "      <td>0.0</td>\n",
              "      <td>1.0</td>\n",
              "      <td>0.0</td>\n",
              "      <td>0.0</td>\n",
              "    </tr>\n",
              "    <tr>\n",
              "      <th>190</th>\n",
              "      <td>0.0</td>\n",
              "      <td>1.0</td>\n",
              "      <td>0.0</td>\n",
              "      <td>0.0</td>\n",
              "    </tr>\n",
              "    <tr>\n",
              "      <th>191</th>\n",
              "      <td>0.0</td>\n",
              "      <td>1.0</td>\n",
              "      <td>0.0</td>\n",
              "      <td>0.0</td>\n",
              "    </tr>\n",
              "    <tr>\n",
              "      <th>192</th>\n",
              "      <td>0.0</td>\n",
              "      <td>1.0</td>\n",
              "      <td>0.0</td>\n",
              "      <td>0.0</td>\n",
              "    </tr>\n",
              "  </tbody>\n",
              "</table>\n",
              "<p>1169 rows × 4 columns</p>\n",
              "</div>\n",
              "      <button class=\"colab-df-convert\" onclick=\"convertToInteractive('df-3e4ccdea-5165-4e96-95b8-b8159c96efed')\"\n",
              "              title=\"Convert this dataframe to an interactive table.\"\n",
              "              style=\"display:none;\">\n",
              "        \n",
              "  <svg xmlns=\"http://www.w3.org/2000/svg\" height=\"24px\"viewBox=\"0 0 24 24\"\n",
              "       width=\"24px\">\n",
              "    <path d=\"M0 0h24v24H0V0z\" fill=\"none\"/>\n",
              "    <path d=\"M18.56 5.44l.94 2.06.94-2.06 2.06-.94-2.06-.94-.94-2.06-.94 2.06-2.06.94zm-11 1L8.5 8.5l.94-2.06 2.06-.94-2.06-.94L8.5 2.5l-.94 2.06-2.06.94zm10 10l.94 2.06.94-2.06 2.06-.94-2.06-.94-.94-2.06-.94 2.06-2.06.94z\"/><path d=\"M17.41 7.96l-1.37-1.37c-.4-.4-.92-.59-1.43-.59-.52 0-1.04.2-1.43.59L10.3 9.45l-7.72 7.72c-.78.78-.78 2.05 0 2.83L4 21.41c.39.39.9.59 1.41.59.51 0 1.02-.2 1.41-.59l7.78-7.78 2.81-2.81c.8-.78.8-2.07 0-2.86zM5.41 20L4 18.59l7.72-7.72 1.47 1.35L5.41 20z\"/>\n",
              "  </svg>\n",
              "      </button>\n",
              "      \n",
              "  <style>\n",
              "    .colab-df-container {\n",
              "      display:flex;\n",
              "      flex-wrap:wrap;\n",
              "      gap: 12px;\n",
              "    }\n",
              "\n",
              "    .colab-df-convert {\n",
              "      background-color: #E8F0FE;\n",
              "      border: none;\n",
              "      border-radius: 50%;\n",
              "      cursor: pointer;\n",
              "      display: none;\n",
              "      fill: #1967D2;\n",
              "      height: 32px;\n",
              "      padding: 0 0 0 0;\n",
              "      width: 32px;\n",
              "    }\n",
              "\n",
              "    .colab-df-convert:hover {\n",
              "      background-color: #E2EBFA;\n",
              "      box-shadow: 0px 1px 2px rgba(60, 64, 67, 0.3), 0px 1px 3px 1px rgba(60, 64, 67, 0.15);\n",
              "      fill: #174EA6;\n",
              "    }\n",
              "\n",
              "    [theme=dark] .colab-df-convert {\n",
              "      background-color: #3B4455;\n",
              "      fill: #D2E3FC;\n",
              "    }\n",
              "\n",
              "    [theme=dark] .colab-df-convert:hover {\n",
              "      background-color: #434B5C;\n",
              "      box-shadow: 0px 1px 3px 1px rgba(0, 0, 0, 0.15);\n",
              "      filter: drop-shadow(0px 1px 2px rgba(0, 0, 0, 0.3));\n",
              "      fill: #FFFFFF;\n",
              "    }\n",
              "  </style>\n",
              "\n",
              "      <script>\n",
              "        const buttonEl =\n",
              "          document.querySelector('#df-3e4ccdea-5165-4e96-95b8-b8159c96efed button.colab-df-convert');\n",
              "        buttonEl.style.display =\n",
              "          google.colab.kernel.accessAllowed ? 'block' : 'none';\n",
              "\n",
              "        async function convertToInteractive(key) {\n",
              "          const element = document.querySelector('#df-3e4ccdea-5165-4e96-95b8-b8159c96efed');\n",
              "          const dataTable =\n",
              "            await google.colab.kernel.invokeFunction('convertToInteractive',\n",
              "                                                     [key], {});\n",
              "          if (!dataTable) return;\n",
              "\n",
              "          const docLinkHtml = 'Like what you see? Visit the ' +\n",
              "            '<a target=\"_blank\" href=https://colab.research.google.com/notebooks/data_table.ipynb>data table notebook</a>'\n",
              "            + ' to learn more about interactive tables.';\n",
              "          element.innerHTML = '';\n",
              "          dataTable['output_type'] = 'display_data';\n",
              "          await google.colab.output.renderOutput(dataTable, element);\n",
              "          const docLink = document.createElement('div');\n",
              "          docLink.innerHTML = docLinkHtml;\n",
              "          element.appendChild(docLink);\n",
              "        }\n",
              "      </script>\n",
              "    </div>\n",
              "  </div>\n",
              "  "
            ]
          },
          "metadata": {},
          "execution_count": 51
        }
      ]
    },
    {
      "cell_type": "code",
      "source": [
        "from sklearn.metrics import ConfusionMatrixDisplay\n",
        "import matplotlib.pyplot as plt"
      ],
      "metadata": {
        "id": "MmvPy-29Jp0K"
      },
      "id": "MmvPy-29Jp0K",
      "execution_count": 39,
      "outputs": []
    },
    {
      "cell_type": "code",
      "source": [
        "# ConfusionMatrixDisplay.from_predictions(y_test, y_pred_b)\n",
        "# plt.show()"
      ],
      "metadata": {
        "id": "iDiPjZ54Jsav"
      },
      "id": "iDiPjZ54Jsav",
      "execution_count": 52,
      "outputs": []
    },
    {
      "cell_type": "code",
      "source": [
        "y_train['event_negative'].value_counts()[1] + y_val['event_negative'].value_counts()[1]"
      ],
      "metadata": {
        "colab": {
          "base_uri": "https://localhost:8080/"
        },
        "id": "L7_OpGoJ-ElT",
        "outputId": "c10c1c8b-ecba-43bc-e562-0aa794c2340f"
      },
      "id": "L7_OpGoJ-ElT",
      "execution_count": 33,
      "outputs": [
        {
          "output_type": "execute_result",
          "data": {
            "text/plain": [
              "579"
            ]
          },
          "metadata": {},
          "execution_count": 33
        }
      ]
    },
    {
      "cell_type": "code",
      "source": [
        "y_pred[-580:-500]"
      ],
      "metadata": {
        "colab": {
          "base_uri": "https://localhost:8080/"
        },
        "id": "G_Ynq9Az7mTB",
        "outputId": "63f1a558-6546-4399-89fe-aaae9295f000"
      },
      "id": "G_Ynq9Az7mTB",
      "execution_count": 57,
      "outputs": [
        {
          "output_type": "execute_result",
          "data": {
            "text/plain": [
              "array([[0.19059621, 0.00109657, 0.7675906 , 0.04071658],\n",
              "       [0.00001251, 0.9997809 , 0.00016004, 0.00004656],\n",
              "       [0.00000494, 0.99991435, 0.00005555, 0.00002518],\n",
              "       [0.00000146, 0.9999699 , 0.00002098, 0.00000768],\n",
              "       [0.00000009, 0.9999971 , 0.00000223, 0.00000051],\n",
              "       [0.00000283, 0.999934  , 0.00005179, 0.00001137],\n",
              "       [0.        , 0.9999998 , 0.00000011, 0.00000003],\n",
              "       [0.        , 0.9999998 , 0.0000001 , 0.00000003],\n",
              "       [0.00000001, 0.9999998 , 0.00000016, 0.00000006],\n",
              "       [0.00000002, 0.99999934, 0.00000049, 0.00000018],\n",
              "       [0.        , 0.9999998 , 0.00000013, 0.00000004],\n",
              "       [0.00000006, 0.99999803, 0.0000013 , 0.00000043],\n",
              "       [0.00000003, 0.9999991 , 0.00000065, 0.0000002 ],\n",
              "       [0.00000001, 0.9999997 , 0.00000018, 0.00000006],\n",
              "       [0.00000003, 0.9999991 , 0.00000059, 0.0000002 ],\n",
              "       [0.00000007, 0.99999803, 0.00000129, 0.00000049],\n",
              "       [0.00000003, 0.999999  , 0.00000068, 0.00000024],\n",
              "       [0.00000006, 0.9999983 , 0.00000134, 0.0000004 ],\n",
              "       [0.00000003, 0.9999992 , 0.00000049, 0.00000019],\n",
              "       [0.00000023, 0.9999948 , 0.00000359, 0.00000127],\n",
              "       [0.00000023, 0.9999948 , 0.00000354, 0.00000132],\n",
              "       [0.00000188, 0.99996096, 0.00002747, 0.00000969],\n",
              "       [0.00000004, 0.999999  , 0.00000068, 0.00000026],\n",
              "       [0.00000076, 0.99998444, 0.00001105, 0.00000374],\n",
              "       [0.00005694, 0.9992756 , 0.00047059, 0.00019693],\n",
              "       [0.00000323, 0.9999419 , 0.00004069, 0.00001414],\n",
              "       [0.00000006, 0.9999983 , 0.0000011 , 0.00000042],\n",
              "       [0.00000007, 0.99999815, 0.00000113, 0.00000044],\n",
              "       [0.0000001 , 0.99999756, 0.00000161, 0.00000061],\n",
              "       [0.00000005, 0.9999985 , 0.00000104, 0.00000035],\n",
              "       [0.00000004, 0.999999  , 0.00000071, 0.00000027],\n",
              "       [0.00000002, 0.9999992 , 0.00000049, 0.00000019],\n",
              "       [0.00000002, 0.99999934, 0.00000048, 0.00000017],\n",
              "       [0.00000022, 0.99999493, 0.00000334, 0.00000148],\n",
              "       [0.00000845, 0.9998596 , 0.00009346, 0.00003857],\n",
              "       [0.00000001, 0.99999946, 0.00000033, 0.00000011],\n",
              "       [0.00000001, 0.9999996 , 0.00000028, 0.00000009],\n",
              "       [0.00000005, 0.9999985 , 0.00000105, 0.00000038],\n",
              "       [0.00002083, 0.9996628 , 0.00023988, 0.00007647],\n",
              "       [0.00001492, 0.9997281 , 0.000196  , 0.00006094],\n",
              "       [0.00000337, 0.99992865, 0.00005176, 0.00001625],\n",
              "       [0.00000234, 0.9999513 , 0.00003451, 0.00001167],\n",
              "       [0.00000141, 0.9999632 , 0.00002856, 0.0000067 ],\n",
              "       [0.00000012, 0.9999966 , 0.00000247, 0.0000007 ],\n",
              "       [0.00000119, 0.9999775 , 0.00001598, 0.0000053 ],\n",
              "       [0.00000041, 0.9999909 , 0.00000671, 0.00000205],\n",
              "       [0.00000025, 0.9999941 , 0.00000427, 0.00000135],\n",
              "       [0.0000188 , 0.99963516, 0.00027472, 0.00007137],\n",
              "       [0.        , 0.9999998 , 0.0000001 , 0.00000003],\n",
              "       [0.00000001, 0.9999996 , 0.00000023, 0.00000008],\n",
              "       [0.00000001, 0.9999998 , 0.00000015, 0.00000005],\n",
              "       [0.        , 0.9999998 , 0.00000012, 0.00000004],\n",
              "       [0.01110205, 0.9055946 , 0.06606837, 0.01723495],\n",
              "       [0.03956472, 0.7129359 , 0.19630887, 0.05119052],\n",
              "       [0.00221134, 0.9787273 , 0.01475172, 0.00430968],\n",
              "       [0.01317715, 0.90459657, 0.06068568, 0.02154066],\n",
              "       [0.00000003, 0.9999991 , 0.00000065, 0.00000024],\n",
              "       [0.00322132, 0.97086316, 0.01999235, 0.00592313],\n",
              "       [0.00796573, 0.9326664 , 0.04617338, 0.01319436],\n",
              "       [0.        , 0.9999998 , 0.00000007, 0.00000003],\n",
              "       [0.00000003, 0.9999991 , 0.00000066, 0.0000002 ],\n",
              "       [0.00002402, 0.99970436, 0.00019113, 0.00008034],\n",
              "       [0.00000116, 0.99998003, 0.00001245, 0.00000626],\n",
              "       [0.00000064, 0.99998826, 0.00000735, 0.00000371],\n",
              "       [0.00000007, 0.99999803, 0.00000127, 0.00000048],\n",
              "       [0.00000001, 0.9999996 , 0.00000028, 0.00000011],\n",
              "       [0.        , 0.99999994, 0.00000005, 0.00000002],\n",
              "       [0.        , 0.9999998 , 0.00000012, 0.00000004],\n",
              "       [0.00002646, 0.9996335 , 0.00024516, 0.00009495],\n",
              "       [0.00000009, 0.9999978 , 0.0000014 , 0.0000006 ],\n",
              "       [0.00000004, 0.99999887, 0.00000087, 0.00000029],\n",
              "       [0.00000006, 0.9999985 , 0.00000107, 0.00000037],\n",
              "       [0.00000003, 0.9999991 , 0.00000056, 0.00000019],\n",
              "       [0.00000002, 0.99999946, 0.0000004 , 0.00000013],\n",
              "       [0.00000001, 0.9999996 , 0.00000028, 0.00000009],\n",
              "       [0.00000057, 0.99998754, 0.00000878, 0.00000295],\n",
              "       [0.00000001, 0.9999996 , 0.00000019, 0.00000008],\n",
              "       [0.00000001, 0.9999998 , 0.00000014, 0.00000005],\n",
              "       [0.00000006, 0.9999984 , 0.00000118, 0.00000041],\n",
              "       [0.00000005, 0.9999985 , 0.00000111, 0.00000035]], dtype=float32)"
            ]
          },
          "metadata": {},
          "execution_count": 57
        }
      ]
    },
    {
      "cell_type": "code",
      "source": [
        "INDEX_PLAY = 2\n",
        "print(f\"Checking if the model always predicts 'play' (majority class): \\n\"\n",
        "      f\"{(np.argmax(y_pred, axis=1) == INDEX_PLAY).all()}\")"
      ],
      "metadata": {
        "colab": {
          "base_uri": "https://localhost:8080/"
        },
        "id": "4tShomlLT-30",
        "outputId": "68ed475d-e0d8-4625-c73f-58a1d7e2a9e7"
      },
      "id": "4tShomlLT-30",
      "execution_count": 45,
      "outputs": [
        {
          "output_type": "stream",
          "name": "stdout",
          "text": [
            "Checking if the model always predicts 'play' (majority class): \n",
            "False\n"
          ]
        }
      ]
    },
    {
      "cell_type": "code",
      "source": [
        "import absl.logging\n",
        "absl.logging.set_verbosity(absl.logging.ERROR)"
      ],
      "metadata": {
        "id": "g2OIPRsDVabk"
      },
      "id": "g2OIPRsDVabk",
      "execution_count": 36,
      "outputs": []
    },
    {
      "cell_type": "code",
      "source": [
        "model.save('/content/drive/MyDrive/Bundesliga/Models/baseline_model_2')"
      ],
      "metadata": {
        "id": "QdBRWVU1PCfK"
      },
      "id": "QdBRWVU1PCfK",
      "execution_count": 37,
      "outputs": []
    },
    {
      "cell_type": "code",
      "source": [
        "# model = load_model('/content/drive/MyDrive/Bundesliga/Models/baseline_model_2')"
      ],
      "metadata": {
        "id": "hYrC1UyLW0CJ"
      },
      "id": "hYrC1UyLW0CJ",
      "execution_count": 97,
      "outputs": []
    },
    {
      "cell_type": "markdown",
      "source": [
        "## Building 3rd baseline model - with negatives and undersampling"
      ],
      "metadata": {
        "id": "kQmHfD6nR2Ex"
      },
      "id": "kQmHfD6nR2Ex"
    },
    {
      "cell_type": "code",
      "source": [
        "X_train, X_val, X_test, y_train, y_val, y_test = preprocessing(undersampling=True)"
      ],
      "metadata": {
        "id": "iiXYQdjBRY-e"
      },
      "id": "iiXYQdjBRY-e",
      "execution_count": 98,
      "outputs": []
    },
    {
      "cell_type": "code",
      "source": [
        "X_train.shape, X_val.shape, X_test.shape, y_train.shape, y_val.shape, y_test.shape"
      ],
      "metadata": {
        "id": "4ghE1agVSwWR",
        "outputId": "740f7f8d-b7b4-4319-bf4c-1231aaa61054",
        "colab": {
          "base_uri": "https://localhost:8080/"
        }
      },
      "id": "4ghE1agVSwWR",
      "execution_count": 101,
      "outputs": [
        {
          "output_type": "execute_result",
          "data": {
            "text/plain": [
              "((1360, 480, 640, 3),\n",
              " (341, 480, 640, 3),\n",
              " (1169, 480, 640, 3),\n",
              " (1360, 4),\n",
              " (341, 4),\n",
              " (1169, 4))"
            ]
          },
          "metadata": {},
          "execution_count": 101
        }
      ]
    },
    {
      "cell_type": "code",
      "source": [
        "model = build_model(X_train)\n",
        "model = compile_model(model)"
      ],
      "metadata": {
        "id": "1u7l5m3jRk2P"
      },
      "id": "1u7l5m3jRk2P",
      "execution_count": 99,
      "outputs": []
    },
    {
      "cell_type": "code",
      "source": [
        "model.summary()"
      ],
      "metadata": {
        "colab": {
          "base_uri": "https://localhost:8080/"
        },
        "id": "X377LoGVRk5i",
        "outputId": "b08d7e8d-8da6-4d7c-be33-4bfa6e731b65"
      },
      "id": "X377LoGVRk5i",
      "execution_count": 100,
      "outputs": [
        {
          "output_type": "stream",
          "name": "stdout",
          "text": [
            "Model: \"sequential_1\"\n",
            "_________________________________________________________________\n",
            " Layer (type)                Output Shape              Param #   \n",
            "=================================================================\n",
            " rescaling_1 (Rescaling)     (None, 480, 640, 3)       0         \n",
            "                                                                 \n",
            " conv2d_5 (Conv2D)           (None, 118, 158, 96)      34944     \n",
            "                                                                 \n",
            " batch_normalization_5 (Batc  (None, 118, 158, 96)     384       \n",
            " hNormalization)                                                 \n",
            "                                                                 \n",
            " max_pooling2d_3 (MaxPooling  (None, 58, 78, 96)       0         \n",
            " 2D)                                                             \n",
            "                                                                 \n",
            " conv2d_6 (Conv2D)           (None, 20, 26, 256)       614656    \n",
            "                                                                 \n",
            " batch_normalization_6 (Batc  (None, 20, 26, 256)      1024      \n",
            " hNormalization)                                                 \n",
            "                                                                 \n",
            " max_pooling2d_4 (MaxPooling  (None, 9, 12, 256)       0         \n",
            " 2D)                                                             \n",
            "                                                                 \n",
            " conv2d_7 (Conv2D)           (None, 5, 6, 384)         885120    \n",
            "                                                                 \n",
            " batch_normalization_7 (Batc  (None, 5, 6, 384)        1536      \n",
            " hNormalization)                                                 \n",
            "                                                                 \n",
            " conv2d_8 (Conv2D)           (None, 3, 3, 384)         1327488   \n",
            "                                                                 \n",
            " batch_normalization_8 (Batc  (None, 3, 3, 384)        1536      \n",
            " hNormalization)                                                 \n",
            "                                                                 \n",
            " conv2d_9 (Conv2D)           (None, 3, 3, 256)         884992    \n",
            "                                                                 \n",
            " batch_normalization_9 (Batc  (None, 3, 3, 256)        1024      \n",
            " hNormalization)                                                 \n",
            "                                                                 \n",
            " max_pooling2d_5 (MaxPooling  (None, 1, 1, 256)        0         \n",
            " 2D)                                                             \n",
            "                                                                 \n",
            " flatten_1 (Flatten)         (None, 256)               0         \n",
            "                                                                 \n",
            " dense_3 (Dense)             (None, 256)               65792     \n",
            "                                                                 \n",
            " dropout_2 (Dropout)         (None, 256)               0         \n",
            "                                                                 \n",
            " dense_4 (Dense)             (None, 256)               65792     \n",
            "                                                                 \n",
            " dropout_3 (Dropout)         (None, 256)               0         \n",
            "                                                                 \n",
            " dense_5 (Dense)             (None, 4)                 1028      \n",
            "                                                                 \n",
            "=================================================================\n",
            "Total params: 3,885,316\n",
            "Trainable params: 3,882,564\n",
            "Non-trainable params: 2,752\n",
            "_________________________________________________________________\n"
          ]
        }
      ]
    },
    {
      "cell_type": "code",
      "source": [
        "model = train_model(model, X_train, y_train, X_val, y_val)"
      ],
      "metadata": {
        "colab": {
          "base_uri": "https://localhost:8080/"
        },
        "id": "mGUCtYvARk7o",
        "outputId": "b04585a4-ad04-43f1-8dab-5278d3641232"
      },
      "id": "mGUCtYvARk7o",
      "execution_count": null,
      "outputs": [
        {
          "output_type": "stream",
          "name": "stdout",
          "text": [
            "Epoch 1/100\n",
            " 7/85 [=>............................] - ETA: 1:41 - loss: 2.9492 - accuracy: 0.3125"
          ]
        }
      ]
    },
    {
      "cell_type": "code",
      "source": [
        "y_train.value_counts()"
      ],
      "metadata": {
        "colab": {
          "base_uri": "https://localhost:8080/"
        },
        "id": "kwK-RVM83XRK",
        "outputId": "eb9811b7-675b-408c-f08b-228f7f4bb02f"
      },
      "id": "kwK-RVM83XRK",
      "execution_count": 71,
      "outputs": [
        {
          "output_type": "execute_result",
          "data": {
            "text/plain": [
              "event_challenge  event_negative  event_play  event_throwin\n",
              "0.0              1.0             0.0         0.0              579\n",
              "                 0.0             1.0         0.0              505\n",
              "1.0              0.0             0.0         0.0              505\n",
              "0.0              0.0             0.0         1.0              112\n",
              "dtype: int64"
            ]
          },
          "metadata": {},
          "execution_count": 71
        }
      ]
    },
    {
      "cell_type": "code",
      "source": [
        "INDEX_ACCURACY = 1\n",
        "print(f'\\nAccuracy on the test set: {model3.evaluate(X_test, y_test)[INDEX_ACCURACY]:.4f}')"
      ],
      "metadata": {
        "colab": {
          "base_uri": "https://localhost:8080/"
        },
        "id": "R7A6kiVcSWJH",
        "outputId": "2e4d3d90-2577-4f4d-dfc0-8f435ff86ed5"
      },
      "id": "R7A6kiVcSWJH",
      "execution_count": 74,
      "outputs": [
        {
          "output_type": "stream",
          "name": "stdout",
          "text": [
            "37/37 [==============================] - 20s 546ms/step - loss: 7.4709 - accuracy: 0.5227\n",
            "\n",
            "Accuracy on the test set: 0.5227\n"
          ]
        }
      ]
    },
    {
      "cell_type": "code",
      "source": [
        "y_pred = model.predict(X_test)\n",
        "y_pred"
      ],
      "metadata": {
        "colab": {
          "base_uri": "https://localhost:8080/"
        },
        "id": "ROn44NbSrDAj",
        "outputId": "a691403e-bb9a-4d63-df71-71858b866614"
      },
      "id": "ROn44NbSrDAj",
      "execution_count": 75,
      "outputs": [
        {
          "output_type": "stream",
          "name": "stdout",
          "text": [
            "37/37 [==============================] - 20s 546ms/step\n"
          ]
        },
        {
          "output_type": "execute_result",
          "data": {
            "text/plain": [
              "array([[4.3712151e-01, 3.2359766e-04, 4.7913864e-01, 8.3416209e-02],\n",
              "       [4.3358871e-01, 2.6745157e-04, 4.8547813e-01, 8.0665708e-02],\n",
              "       [4.3801990e-01, 5.7913049e-04, 4.5852530e-01, 1.0287565e-01],\n",
              "       ...,\n",
              "       [6.3997585e-11, 9.9999994e-01, 1.2344538e-11, 9.7481988e-11],\n",
              "       [3.9952843e-11, 9.9999994e-01, 7.5053271e-12, 6.1375779e-11],\n",
              "       [2.4447189e-07, 9.9999940e-01, 1.1566087e-07, 2.5286280e-07]],\n",
              "      dtype=float32)"
            ]
          },
          "metadata": {},
          "execution_count": 75
        }
      ]
    },
    {
      "cell_type": "code",
      "source": [
        "INDEX_PLAY = 2\n",
        "print(f\"Checking if the model always predicts 'play' (majority class): \\n\"\n",
        "      f\"{(np.argmax(y_pred, axis=1) == INDEX_PLAY).all()}\")"
      ],
      "metadata": {
        "id": "CwU8tmSRrDDG"
      },
      "id": "CwU8tmSRrDDG",
      "execution_count": null,
      "outputs": []
    },
    {
      "cell_type": "code",
      "source": [
        "model.save('/content/drive/MyDrive/Bundesliga/Models/baseline_model_3')"
      ],
      "metadata": {
        "id": "xXH-lySarDGm"
      },
      "id": "xXH-lySarDGm",
      "execution_count": null,
      "outputs": []
    },
    {
      "cell_type": "code",
      "source": [],
      "metadata": {
        "id": "femmRVpTSWL7"
      },
      "id": "femmRVpTSWL7",
      "execution_count": null,
      "outputs": []
    },
    {
      "cell_type": "code",
      "source": [],
      "metadata": {
        "id": "h4QmVxOPSWPL"
      },
      "id": "h4QmVxOPSWPL",
      "execution_count": null,
      "outputs": []
    },
    {
      "cell_type": "code",
      "source": [],
      "metadata": {
        "id": "y3m4XWdZSWQP"
      },
      "id": "y3m4XWdZSWQP",
      "execution_count": null,
      "outputs": []
    },
    {
      "cell_type": "code",
      "source": [],
      "metadata": {
        "id": "RfPSgs4KSWS2"
      },
      "id": "RfPSgs4KSWS2",
      "execution_count": null,
      "outputs": []
    },
    {
      "cell_type": "code",
      "source": [],
      "metadata": {
        "id": "4jK79gRPSWV5"
      },
      "id": "4jK79gRPSWV5",
      "execution_count": null,
      "outputs": []
    },
    {
      "cell_type": "code",
      "source": [
        "# df = pd.read_csv(DRIVE_PATH)\n",
        "# df_events = df[~df['event_attributes'].isna()].copy()\n",
        "# df_events.reset_index(drop=True, inplace=True)"
      ],
      "metadata": {
        "id": "_g37jhNr3XTw"
      },
      "id": "_g37jhNr3XTw",
      "execution_count": 4,
      "outputs": []
    },
    {
      "cell_type": "code",
      "source": [
        "# video_ids = df_events['video_id'].unique().tolist()\n",
        "# amount_videos = len(video_ids)\n",
        "# amount_train = round(amount_videos * TRAIN_SIZE)\n",
        "# train_videos = video_ids[:amount_train]\n",
        "# test_videos = video_ids[amount_train:]"
      ],
      "metadata": {
        "id": "pzPjHlXS3XWB"
      },
      "id": "pzPjHlXS3XWB",
      "execution_count": 5,
      "outputs": []
    },
    {
      "cell_type": "code",
      "source": [
        "# video_ids"
      ],
      "metadata": {
        "colab": {
          "base_uri": "https://localhost:8080/"
        },
        "id": "JNYaW2Wo8ZOm",
        "outputId": "2837ebf2-9cc4-4245-bb15-dfab9815df69"
      },
      "id": "JNYaW2Wo8ZOm",
      "execution_count": 6,
      "outputs": [
        {
          "output_type": "execute_result",
          "data": {
            "text/plain": [
              "['1606b0e6_0',\n",
              " '1606b0e6_1',\n",
              " '35bd9041_0',\n",
              " '35bd9041_1',\n",
              " '3c993bd2_0',\n",
              " '3c993bd2_1',\n",
              " '407c5a9e_1',\n",
              " '4ffd5986_0',\n",
              " '9a97dae4_1',\n",
              " 'cfbe2e94_0',\n",
              " 'cfbe2e94_1',\n",
              " 'ecf251d4_0']"
            ]
          },
          "metadata": {},
          "execution_count": 6
        }
      ]
    },
    {
      "cell_type": "code",
      "source": [
        "# X = None\n",
        "# for video_id in video_ids:\n",
        "#   if X is None:\n",
        "#     current_video = np.load(f'{POSITIVES_FOLDER_PATH}{video_id}.npz')\n",
        "#     X = current_video.f.arr_0\n",
        "#   else:\n",
        "#     current_video = np.load(f'{POSITIVES_FOLDER_PATH}{video_id}.npz')\n",
        "#     current_video = current_video.f.arr_0\n",
        "#     X = np.concatenate([X, current_video], axis=0)\n",
        "\n",
        "# len_positives = 0\n",
        "# for i in X:\n",
        "#   len_positives += i.shape[0]\n",
        "\n",
        "\n",
        "# if NEGATIVES:\n",
        "#   for video_id in video_ids[:-9]:\n",
        "#     current_neg_video = np.load(f'{NEGATIVES_FOLDER_PATH}{video_id}.npz')\n",
        "#     current_neg_video = current_neg_video.f.arr_0\n",
        "#     X = np.concatenate([X, current_video], axis=0)"
      ],
      "metadata": {
        "id": "A6aWOGzh6uTp"
      },
      "id": "A6aWOGzh6uTp",
      "execution_count": 7,
      "outputs": []
    },
    {
      "cell_type": "code",
      "source": [
        "# X = list()\n",
        "# for video_id in video_ids:\n",
        "#   current_video = np.load(f'{POSITIVES_FOLDER_PATH}{video_id}.npz')\n",
        "#   current_video = current_video.f.arr_0\n",
        "#   X.append(current_video)\n",
        "# if NEGATIVES:\n",
        "#   for video_id in video_ids[:-10]:\n",
        "#     current_neg_video = np.load(f'{NEGATIVES_FOLDER_PATH}{video_id}.npz')\n",
        "#     current_neg_video = current_neg_video.f.arr_0\n",
        "#     X.append(current_video)\n",
        "# X = np.concatenate(X, axis=0)"
      ],
      "metadata": {
        "id": "wcZ_B6N23XYI"
      },
      "id": "wcZ_B6N23XYI",
      "execution_count": 28,
      "outputs": []
    },
    {
      "cell_type": "code",
      "source": [
        "# train_idx = df_events[df_events['video_id'].isin(train_videos)].index\n",
        "# test_idx = df_events[df_events['video_id'].isin(test_videos)].index\n",
        "# X_train = X[train_idx]\n",
        "# X_test = X[test_idx]\n",
        "# assert df_events.shape[0] == X_train.shape[0] + X_test.shape[0]\n",
        "\n",
        "# y_train = df_events[df_events.index.isin(train_idx) ]['event'].to_frame()\n",
        "# y_test = df_events[df_events.index.isin(test_idx) ]['event'].to_frame()\n",
        "\n",
        "\n",
        "\n",
        "# len_positives = df_events.shape[0]\n",
        "# len_X = X.shape[0]\n",
        "# len_negatives = len_X - len_positives\n",
        "\n",
        "# START_IDX_NEGATIVES = df_events.shape[0]\n",
        "# START_IDX_NEG_TEST = round(START_IDX_NEGATIVES + len_negatives * TRAIN_SIZE)\n",
        "# X_train_neg = X[START_IDX_NEGATIVES:START_IDX_NEG_TEST]\n",
        "# X_test_neg = X[START_IDX_NEG_TEST:]\n",
        "# assert len_negatives == X_train_neg.shape[0] + X_test_neg.shape[0]\n",
        "\n",
        "# X_train = np.concatenate((X_train, X_train_neg), axis=0)\n",
        "# X_test = np.concatenate((X_test, X_test_neg), axis=0)\n",
        "\n",
        "# y_train = y_train.append(pd.DataFrame({'event':['negative'] * X_train_neg.shape[0]}))\n",
        "# y_test = y_test.append(pd.DataFrame({'event':['negative'] * X_test_neg.shape[0]}))"
      ],
      "metadata": {
        "id": "GfaCVN5wODgc"
      },
      "id": "GfaCVN5wODgc",
      "execution_count": null,
      "outputs": []
    },
    {
      "cell_type": "code",
      "source": [
        "# len_positives = df_events.shape[0]\n",
        "# len_positives"
      ],
      "metadata": {
        "colab": {
          "base_uri": "https://localhost:8080/"
        },
        "id": "Raszm04pCQZm",
        "outputId": "0d2fff04-5e6a-4ec9-d159-24e6825f255a"
      },
      "id": "Raszm04pCQZm",
      "execution_count": 29,
      "outputs": [
        {
          "output_type": "execute_result",
          "data": {
            "text/plain": [
              "4382"
            ]
          },
          "metadata": {},
          "execution_count": 29
        }
      ]
    },
    {
      "cell_type": "code",
      "source": [
        "# len_X = X.shape[0]\n",
        "# len_negatives = len_X - len_positives\n",
        "# len_negatives"
      ],
      "metadata": {
        "colab": {
          "base_uri": "https://localhost:8080/"
        },
        "id": "8dH-uliECdEd",
        "outputId": "eb8f0b26-2801-4e54-a276-f8878785fd04"
      },
      "id": "8dH-uliECdEd",
      "execution_count": 30,
      "outputs": [
        {
          "output_type": "execute_result",
          "data": {
            "text/plain": [
              "772"
            ]
          },
          "metadata": {},
          "execution_count": 30
        }
      ]
    },
    {
      "cell_type": "code",
      "source": [
        "# df_events['event'].value_counts()"
      ],
      "metadata": {
        "colab": {
          "base_uri": "https://localhost:8080/"
        },
        "id": "0KNo5xUOCzmC",
        "outputId": "835f8775-a322-4c7b-fa63-5a4f64276e42"
      },
      "id": "0KNo5xUOCzmC",
      "execution_count": 31,
      "outputs": [
        {
          "output_type": "execute_result",
          "data": {
            "text/plain": [
              "play         3586\n",
              "challenge     624\n",
              "throwin       172\n",
              "Name: event, dtype: int64"
            ]
          },
          "metadata": {},
          "execution_count": 31
        }
      ]
    },
    {
      "cell_type": "code",
      "source": [
        "# train_idx = df_events[df_events['video_id'].isin(train_videos)].index\n",
        "# test_idx = df_events[df_events['video_id'].isin(test_videos)].index\n",
        "# X_train = X[train_idx]\n",
        "# X_test = X[test_idx]\n",
        "# assert df_events.shape[0] == X_train.shape[0] + X_test.shape[0]"
      ],
      "metadata": {
        "id": "QBMOdL1p3Xab"
      },
      "id": "QBMOdL1p3Xab",
      "execution_count": 32,
      "outputs": []
    },
    {
      "cell_type": "code",
      "source": [
        "# y_train = df_events[df_events.index.isin(train_idx) ]['event'].to_frame()\n",
        "# y_test = df_events[df_events.index.isin(test_idx) ]['event'].to_frame()"
      ],
      "metadata": {
        "id": "p2nBUc6s3Xck"
      },
      "id": "p2nBUc6s3Xck",
      "execution_count": 33,
      "outputs": []
    },
    {
      "cell_type": "code",
      "source": [
        "# X.shape"
      ],
      "metadata": {
        "colab": {
          "base_uri": "https://localhost:8080/"
        },
        "id": "wYP3bK6R3Xez",
        "outputId": "ead20a84-698d-4a0a-9f36-b4351f36ffa5"
      },
      "id": "wYP3bK6R3Xez",
      "execution_count": 34,
      "outputs": [
        {
          "output_type": "execute_result",
          "data": {
            "text/plain": [
              "(5154, 480, 640, 3)"
            ]
          },
          "metadata": {},
          "execution_count": 34
        }
      ]
    },
    {
      "cell_type": "code",
      "source": [
        "# X_train.shape, X_test.shape"
      ],
      "metadata": {
        "colab": {
          "base_uri": "https://localhost:8080/"
        },
        "id": "ZVIW3WAyKGlW",
        "outputId": "e3eddbf7-ba6e-4027-d59c-652b8426660e"
      },
      "id": "ZVIW3WAyKGlW",
      "execution_count": 35,
      "outputs": [
        {
          "output_type": "execute_result",
          "data": {
            "text/plain": [
              "((3406, 480, 640, 3), (976, 480, 640, 3))"
            ]
          },
          "metadata": {},
          "execution_count": 35
        }
      ]
    },
    {
      "cell_type": "code",
      "source": [
        "# START_IDX_NEGATIVES = df_events.shape[0]\n",
        "# START_IDX_NEGATIVES"
      ],
      "metadata": {
        "colab": {
          "base_uri": "https://localhost:8080/"
        },
        "id": "jH7tW2U2EgjZ",
        "outputId": "d2ca797d-6713-48d4-db52-058954e6b909"
      },
      "id": "jH7tW2U2EgjZ",
      "execution_count": 36,
      "outputs": [
        {
          "output_type": "execute_result",
          "data": {
            "text/plain": [
              "4382"
            ]
          },
          "metadata": {},
          "execution_count": 36
        }
      ]
    },
    {
      "cell_type": "code",
      "source": [
        "# START_IDX_NEG_TEST = round(START_IDX_NEGATIVES + len_negatives * TRAIN_SIZE)\n",
        "# START_IDX_NEG_TEST"
      ],
      "metadata": {
        "colab": {
          "base_uri": "https://localhost:8080/"
        },
        "id": "M8XBxRjDEq9P",
        "outputId": "0fcb6a5b-0750-4b39-ab34-900577b09734"
      },
      "id": "M8XBxRjDEq9P",
      "execution_count": 37,
      "outputs": [
        {
          "output_type": "execute_result",
          "data": {
            "text/plain": [
              "4961"
            ]
          },
          "metadata": {},
          "execution_count": 37
        }
      ]
    },
    {
      "cell_type": "code",
      "source": [
        "# X_train_neg = X[START_IDX_NEGATIVES:START_IDX_NEG_TEST]\n",
        "# X_test_neg = X[START_IDX_NEG_TEST:]"
      ],
      "metadata": {
        "id": "Bh20E25VEbqy"
      },
      "id": "Bh20E25VEbqy",
      "execution_count": 38,
      "outputs": []
    },
    {
      "cell_type": "code",
      "source": [
        "# X_train_neg.shape[0], X_test_neg.shape[0]"
      ],
      "metadata": {
        "colab": {
          "base_uri": "https://localhost:8080/"
        },
        "id": "33CaxlVvNUaA",
        "outputId": "8319e872-76fc-481a-bbb1-c116c7e8b1c2"
      },
      "id": "33CaxlVvNUaA",
      "execution_count": 58,
      "outputs": [
        {
          "output_type": "execute_result",
          "data": {
            "text/plain": [
              "(579, 193)"
            ]
          },
          "metadata": {},
          "execution_count": 58
        }
      ]
    },
    {
      "cell_type": "code",
      "source": [
        "# assert len_negatives == X_train_neg.shape[0] + X_test_neg.shape[0]"
      ],
      "metadata": {
        "id": "nzlpZKgwFKP5"
      },
      "id": "nzlpZKgwFKP5",
      "execution_count": 39,
      "outputs": []
    },
    {
      "cell_type": "code",
      "source": [
        "# del X"
      ],
      "metadata": {
        "id": "KxadcvhfGEPi"
      },
      "id": "KxadcvhfGEPi",
      "execution_count": 40,
      "outputs": []
    },
    {
      "cell_type": "code",
      "source": [
        "# X_train = np.concatenate((X_train, X_train_neg), axis=0)\n",
        "# X_train.shape"
      ],
      "metadata": {
        "colab": {
          "base_uri": "https://localhost:8080/"
        },
        "id": "LNwZtwA73Xg2",
        "outputId": "b78508aa-5e19-4319-d913-686017e16b6a"
      },
      "id": "LNwZtwA73Xg2",
      "execution_count": 41,
      "outputs": [
        {
          "output_type": "execute_result",
          "data": {
            "text/plain": [
              "(3985, 480, 640, 3)"
            ]
          },
          "metadata": {},
          "execution_count": 41
        }
      ]
    },
    {
      "cell_type": "code",
      "source": [
        "# X_test = np.concatenate((X_test, X_test_neg), axis=0)\n",
        "# X_test.shape"
      ],
      "metadata": {
        "colab": {
          "base_uri": "https://localhost:8080/"
        },
        "id": "kZSWATJJ3XjB",
        "outputId": "a1118754-8e1a-4de8-f725-93b8b0685513"
      },
      "id": "kZSWATJJ3XjB",
      "execution_count": 42,
      "outputs": [
        {
          "output_type": "execute_result",
          "data": {
            "text/plain": [
              "(1169, 480, 640, 3)"
            ]
          },
          "metadata": {},
          "execution_count": 42
        }
      ]
    },
    {
      "cell_type": "code",
      "source": [
        "# 772*0.75"
      ],
      "metadata": {
        "colab": {
          "base_uri": "https://localhost:8080/"
        },
        "id": "1ME1GF7GMqhJ",
        "outputId": "5703e930-1722-40d2-de94-77ed2ad720bf"
      },
      "id": "1ME1GF7GMqhJ",
      "execution_count": 48,
      "outputs": [
        {
          "output_type": "execute_result",
          "data": {
            "text/plain": [
              "579.0"
            ]
          },
          "metadata": {},
          "execution_count": 48
        }
      ]
    },
    {
      "cell_type": "code",
      "source": [
        "# y_train"
      ],
      "metadata": {
        "colab": {
          "base_uri": "https://localhost:8080/",
          "height": 424
        },
        "id": "sAxDhqWu3XsB",
        "outputId": "5fc16325-1b53-4722-c2f4-700159512e52"
      },
      "id": "sAxDhqWu3XsB",
      "execution_count": 47,
      "outputs": [
        {
          "output_type": "execute_result",
          "data": {
            "text/plain": [
              "          event\n",
              "0     challenge\n",
              "1     challenge\n",
              "2       throwin\n",
              "3          play\n",
              "4          play\n",
              "...         ...\n",
              "3401  challenge\n",
              "3402       play\n",
              "3403  challenge\n",
              "3404  challenge\n",
              "3405  challenge\n",
              "\n",
              "[3406 rows x 1 columns]"
            ],
            "text/html": [
              "\n",
              "  <div id=\"df-6cbed3ef-e5a1-44ba-a499-ca51995fd85c\">\n",
              "    <div class=\"colab-df-container\">\n",
              "      <div>\n",
              "<style scoped>\n",
              "    .dataframe tbody tr th:only-of-type {\n",
              "        vertical-align: middle;\n",
              "    }\n",
              "\n",
              "    .dataframe tbody tr th {\n",
              "        vertical-align: top;\n",
              "    }\n",
              "\n",
              "    .dataframe thead th {\n",
              "        text-align: right;\n",
              "    }\n",
              "</style>\n",
              "<table border=\"1\" class=\"dataframe\">\n",
              "  <thead>\n",
              "    <tr style=\"text-align: right;\">\n",
              "      <th></th>\n",
              "      <th>event</th>\n",
              "    </tr>\n",
              "  </thead>\n",
              "  <tbody>\n",
              "    <tr>\n",
              "      <th>0</th>\n",
              "      <td>challenge</td>\n",
              "    </tr>\n",
              "    <tr>\n",
              "      <th>1</th>\n",
              "      <td>challenge</td>\n",
              "    </tr>\n",
              "    <tr>\n",
              "      <th>2</th>\n",
              "      <td>throwin</td>\n",
              "    </tr>\n",
              "    <tr>\n",
              "      <th>3</th>\n",
              "      <td>play</td>\n",
              "    </tr>\n",
              "    <tr>\n",
              "      <th>4</th>\n",
              "      <td>play</td>\n",
              "    </tr>\n",
              "    <tr>\n",
              "      <th>...</th>\n",
              "      <td>...</td>\n",
              "    </tr>\n",
              "    <tr>\n",
              "      <th>3401</th>\n",
              "      <td>challenge</td>\n",
              "    </tr>\n",
              "    <tr>\n",
              "      <th>3402</th>\n",
              "      <td>play</td>\n",
              "    </tr>\n",
              "    <tr>\n",
              "      <th>3403</th>\n",
              "      <td>challenge</td>\n",
              "    </tr>\n",
              "    <tr>\n",
              "      <th>3404</th>\n",
              "      <td>challenge</td>\n",
              "    </tr>\n",
              "    <tr>\n",
              "      <th>3405</th>\n",
              "      <td>challenge</td>\n",
              "    </tr>\n",
              "  </tbody>\n",
              "</table>\n",
              "<p>3406 rows × 1 columns</p>\n",
              "</div>\n",
              "      <button class=\"colab-df-convert\" onclick=\"convertToInteractive('df-6cbed3ef-e5a1-44ba-a499-ca51995fd85c')\"\n",
              "              title=\"Convert this dataframe to an interactive table.\"\n",
              "              style=\"display:none;\">\n",
              "        \n",
              "  <svg xmlns=\"http://www.w3.org/2000/svg\" height=\"24px\"viewBox=\"0 0 24 24\"\n",
              "       width=\"24px\">\n",
              "    <path d=\"M0 0h24v24H0V0z\" fill=\"none\"/>\n",
              "    <path d=\"M18.56 5.44l.94 2.06.94-2.06 2.06-.94-2.06-.94-.94-2.06-.94 2.06-2.06.94zm-11 1L8.5 8.5l.94-2.06 2.06-.94-2.06-.94L8.5 2.5l-.94 2.06-2.06.94zm10 10l.94 2.06.94-2.06 2.06-.94-2.06-.94-.94-2.06-.94 2.06-2.06.94z\"/><path d=\"M17.41 7.96l-1.37-1.37c-.4-.4-.92-.59-1.43-.59-.52 0-1.04.2-1.43.59L10.3 9.45l-7.72 7.72c-.78.78-.78 2.05 0 2.83L4 21.41c.39.39.9.59 1.41.59.51 0 1.02-.2 1.41-.59l7.78-7.78 2.81-2.81c.8-.78.8-2.07 0-2.86zM5.41 20L4 18.59l7.72-7.72 1.47 1.35L5.41 20z\"/>\n",
              "  </svg>\n",
              "      </button>\n",
              "      \n",
              "  <style>\n",
              "    .colab-df-container {\n",
              "      display:flex;\n",
              "      flex-wrap:wrap;\n",
              "      gap: 12px;\n",
              "    }\n",
              "\n",
              "    .colab-df-convert {\n",
              "      background-color: #E8F0FE;\n",
              "      border: none;\n",
              "      border-radius: 50%;\n",
              "      cursor: pointer;\n",
              "      display: none;\n",
              "      fill: #1967D2;\n",
              "      height: 32px;\n",
              "      padding: 0 0 0 0;\n",
              "      width: 32px;\n",
              "    }\n",
              "\n",
              "    .colab-df-convert:hover {\n",
              "      background-color: #E2EBFA;\n",
              "      box-shadow: 0px 1px 2px rgba(60, 64, 67, 0.3), 0px 1px 3px 1px rgba(60, 64, 67, 0.15);\n",
              "      fill: #174EA6;\n",
              "    }\n",
              "\n",
              "    [theme=dark] .colab-df-convert {\n",
              "      background-color: #3B4455;\n",
              "      fill: #D2E3FC;\n",
              "    }\n",
              "\n",
              "    [theme=dark] .colab-df-convert:hover {\n",
              "      background-color: #434B5C;\n",
              "      box-shadow: 0px 1px 3px 1px rgba(0, 0, 0, 0.15);\n",
              "      filter: drop-shadow(0px 1px 2px rgba(0, 0, 0, 0.3));\n",
              "      fill: #FFFFFF;\n",
              "    }\n",
              "  </style>\n",
              "\n",
              "      <script>\n",
              "        const buttonEl =\n",
              "          document.querySelector('#df-6cbed3ef-e5a1-44ba-a499-ca51995fd85c button.colab-df-convert');\n",
              "        buttonEl.style.display =\n",
              "          google.colab.kernel.accessAllowed ? 'block' : 'none';\n",
              "\n",
              "        async function convertToInteractive(key) {\n",
              "          const element = document.querySelector('#df-6cbed3ef-e5a1-44ba-a499-ca51995fd85c');\n",
              "          const dataTable =\n",
              "            await google.colab.kernel.invokeFunction('convertToInteractive',\n",
              "                                                     [key], {});\n",
              "          if (!dataTable) return;\n",
              "\n",
              "          const docLinkHtml = 'Like what you see? Visit the ' +\n",
              "            '<a target=\"_blank\" href=https://colab.research.google.com/notebooks/data_table.ipynb>data table notebook</a>'\n",
              "            + ' to learn more about interactive tables.';\n",
              "          element.innerHTML = '';\n",
              "          dataTable['output_type'] = 'display_data';\n",
              "          await google.colab.output.renderOutput(dataTable, element);\n",
              "          const docLink = document.createElement('div');\n",
              "          docLink.innerHTML = docLinkHtml;\n",
              "          element.appendChild(docLink);\n",
              "        }\n",
              "      </script>\n",
              "    </div>\n",
              "  </div>\n",
              "  "
            ]
          },
          "metadata": {},
          "execution_count": 47
        }
      ]
    },
    {
      "cell_type": "code",
      "source": [
        "# y_train = y_train.append(pd.DataFrame({'event':['negative'] * X_train_neg.shape[0]}))\n",
        "# y_test = y_test.append(pd.DataFrame({'event':['negative'] * X_test_neg.shape[0]}))"
      ],
      "metadata": {
        "id": "j7L1qFciK4Ly"
      },
      "id": "j7L1qFciK4Ly",
      "execution_count": 59,
      "outputs": []
    },
    {
      "cell_type": "code",
      "source": [],
      "metadata": {
        "id": "vAjOcEN9K4S2"
      },
      "id": "vAjOcEN9K4S2",
      "execution_count": null,
      "outputs": []
    },
    {
      "cell_type": "code",
      "source": [
        "input_shape = X_train.shape[1], X_train.shape[2], X_train.shape[3]\n",
        "\n",
        "model = Sequential([\n",
        "    Rescaling(1/255, \n",
        "              input_shape=input_shape),   \n",
        "    Conv2D(96, \n",
        "           11, \n",
        "           strides=4, \n",
        "           activation='relu'),\n",
        "    MaxPooling2D(pool_size=3, \n",
        "                 strides=2),\n",
        "    Conv2D(256, \n",
        "           5, \n",
        "           activation='relu'),\n",
        "    MaxPooling2D(pool_size=3, \n",
        "                 strides=2),\n",
        "    Conv2D(384, \n",
        "           3, \n",
        "           activation='relu'),\n",
        "    Conv2D(384, \n",
        "           3, \n",
        "           activation='relu'),\n",
        "    Conv2D(256, \n",
        "           3, \n",
        "           activation='relu'),\n",
        "    MaxPooling2D(),\n",
        "    Flatten(),\n",
        "    Dense(256, \n",
        "          activation='relu'),\n",
        "    Dense(256, \n",
        "          activation='relu'),\n",
        "    Dense(3, \n",
        "          activation='softmax')\n",
        "])"
      ],
      "metadata": {
        "id": "EuBV2umFwjHw"
      },
      "id": "EuBV2umFwjHw",
      "execution_count": null,
      "outputs": []
    },
    {
      "cell_type": "code",
      "source": [
        "model.compile(loss='categorical_crossentropy',\n",
        "              optimizer='adam',\n",
        "              metrics='accuracy',\n",
        "              )"
      ],
      "metadata": {
        "id": "CUZG3Lgrw_wO"
      },
      "id": "CUZG3Lgrw_wO",
      "execution_count": null,
      "outputs": []
    },
    {
      "cell_type": "code",
      "source": [],
      "metadata": {
        "id": "FfjecBKETvy8"
      },
      "id": "FfjecBKETvy8",
      "execution_count": null,
      "outputs": []
    },
    {
      "cell_type": "code",
      "source": [],
      "metadata": {
        "id": "vQXfRWI4Tv77"
      },
      "id": "vQXfRWI4Tv77",
      "execution_count": null,
      "outputs": []
    },
    {
      "cell_type": "code",
      "source": [
        "callback = EarlyStopping(monitor='val_loss',\n",
        "                         patience=3,\n",
        "                         restore_best_weights=True\n",
        "                         )"
      ],
      "metadata": {
        "id": "3Jcp0h-QxCU1"
      },
      "id": "3Jcp0h-QxCU1",
      "execution_count": null,
      "outputs": []
    },
    {
      "cell_type": "code",
      "source": [
        "EPOCHS = 100\n",
        "model.fit(X_train, \n",
        "          y_train, \n",
        "          validation_split=0.2, \n",
        "          batch_size=16, \n",
        "          epochs=EPOCHS,\n",
        "          callbacks=[callback])"
      ],
      "metadata": {
        "id": "gtCcpWnhxCWs"
      },
      "id": "gtCcpWnhxCWs",
      "execution_count": null,
      "outputs": []
    },
    {
      "cell_type": "code",
      "source": [
        "INDEX_ACCURACY = 1\n",
        "print(f'\\nAccuracy on the test set: {model.evaluate(X_test, y_test)[INDEX_ACCURACY]:.4f}')"
      ],
      "metadata": {
        "id": "E9INxIM5xCY0"
      },
      "id": "E9INxIM5xCY0",
      "execution_count": null,
      "outputs": []
    },
    {
      "cell_type": "code",
      "source": [
        "y_pred = model.predict(X_test)\n",
        "np.set_printoptions(threshold=sys.maxsize)\n",
        "print(y_pred)"
      ],
      "metadata": {
        "id": "D8fT1u4HxCaz"
      },
      "id": "D8fT1u4HxCaz",
      "execution_count": null,
      "outputs": []
    }
  ],
  "metadata": {
    "kernelspec": {
      "display_name": "Python 3 (ipykernel)",
      "language": "python",
      "name": "python3"
    },
    "language_info": {
      "codemirror_mode": {
        "name": "ipython",
        "version": 3
      },
      "file_extension": ".py",
      "mimetype": "text/x-python",
      "name": "python",
      "nbconvert_exporter": "python",
      "pygments_lexer": "ipython3",
      "version": "3.9.6"
    },
    "colab": {
      "provenance": [],
      "machine_shape": "hm"
    }
  },
  "nbformat": 4,
  "nbformat_minor": 5
}