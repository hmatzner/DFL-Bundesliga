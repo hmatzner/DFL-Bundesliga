{
  "cells": [
    {
      "cell_type": "markdown",
      "id": "GpAsh3Bc7wes",
      "metadata": {
        "id": "GpAsh3Bc7wes"
      },
      "source": [
        "## Setup"
      ]
    },
    {
      "cell_type": "code",
      "execution_count": 115,
      "id": "bdd5df7c",
      "metadata": {
        "id": "bdd5df7c"
      },
      "outputs": [],
      "source": [
        "import os\n",
        "import sys\n",
        "import pandas as pd\n",
        "import numpy as np\n",
        "import matplotlib.pyplot as plt\n",
        "from sklearn.preprocessing import OneHotEncoder, OrdinalEncoder\n",
        "from sklearn.model_selection import train_test_split\n",
        "from sklearn.utils import class_weight\n",
        "from sklearn.metrics import ConfusionMatrixDisplay, classification_report, f1_score\n",
        "from tensorflow.keras import Sequential\n",
        "from tensorflow.keras.layers import Rescaling, Conv2D, MaxPooling2D, AveragePooling2D, Flatten, Dense, Dropout, BatchNormalization\n",
        "from tensorflow.keras.callbacks import EarlyStopping\n",
        "from tensorflow.keras.models import load_model\n",
        "from scipy.ndimage import rotate\n"
      ]
    },
    {
      "cell_type": "code",
      "execution_count": 116,
      "id": "O7r39l1SJeMf",
      "metadata": {
        "id": "O7r39l1SJeMf"
      },
      "outputs": [],
      "source": [
        "import absl.logging\n",
        "absl.logging.set_verbosity(absl.logging.ERROR)\n",
        "\n",
        "np.set_printoptions(suppress=True)"
      ]
    },
    {
      "cell_type": "code",
      "execution_count": 117,
      "id": "0Qa_p6bQwIuH",
      "metadata": {
        "colab": {
          "base_uri": "https://localhost:8080/"
        },
        "id": "0Qa_p6bQwIuH",
        "outputId": "cbe0cd85-62bb-4c19-a982-3be2f0960e15"
      },
      "outputs": [
        {
          "name": "stdout",
          "output_type": "stream",
          "text": [
            "Drive already mounted at /content/drive; to attempt to forcibly remount, call drive.mount(\"/content/drive\", force_remount=True).\n"
          ]
        }
      ],
      "source": [
        "from google.colab import drive\n",
        "drive.mount('/content/drive')"
      ]
    },
    {
      "cell_type": "code",
      "execution_count": 118,
      "id": "d552a9f7",
      "metadata": {
        "id": "d552a9f7"
      },
      "outputs": [],
      "source": [
        "# Defining constant variables\n",
        "TRAIN_PATH = '/content/drive/MyDrive/Bundesliga/train.csv'\n",
        "POSITIVES_FOLDER_PATH = '/content/drive/MyDrive/Bundesliga/PicsFromVids/CompressedPic/'\n",
        "NEGATIVES_FOLDER_PATH = '/content/drive/MyDrive/Bundesliga/PicsFromVids/CompressedPic/Negatives/'\n",
        "GRAY_POSITIVES_FOLDER_PATH = '/content/drive/MyDrive/Bundesliga/PicsFromVids/CompressedPic/PositiveGray/'\n",
        "GRAY_NEGATIVES_FOLDER_PATH = '/content/drive/MyDrive/Bundesliga/PicsFromVids/CompressedPic/NegativeGray/'"
      ]
    },
    {
      "cell_type": "markdown",
      "id": "x39a1Wl-78KJ",
      "metadata": {
        "id": "x39a1Wl-78KJ"
      },
      "source": [
        "## Defining functions"
      ]
    },
    {
      "cell_type": "code",
      "execution_count": 119,
      "id": "Rlkr7clkqqFV",
      "metadata": {
        "id": "Rlkr7clkqqFV"
      },
      "outputs": [],
      "source": [
        "def create_df_events():\n",
        "  \"\"\"Reads original DataFrame and creates antoher one with only relevant events\"\"\"\n",
        "  df = pd.read_csv(TRAIN_PATH)\n",
        "  df_events = df[~df['event_attributes'].isna()].copy()\n",
        "  df_events.reset_index(drop=True, inplace=True)\n",
        "  return df, df_events"
      ]
    },
    {
      "cell_type": "code",
      "execution_count": 120,
      "id": "9ql9kIOqqxQR",
      "metadata": {
        "id": "9ql9kIOqqxQR"
      },
      "outputs": [],
      "source": [
        "def create_train_test_video_ids(df_events, train_size):\n",
        "  \"\"\"Creates two arrays with which videos are either part of the train or the test data\"\"\"\n",
        "  video_ids = df_events['video_id'].unique().tolist()\n",
        "  amount_videos = len(video_ids)\n",
        "  amount_train = round(amount_videos * train_size)\n",
        "  train_videos = video_ids[:amount_train]\n",
        "  test_videos = video_ids[amount_train:]\n",
        "  return video_ids, train_videos, test_videos"
      ]
    },
    {
      "cell_type": "code",
      "execution_count": 121,
      "id": "_0E8PMcwqxSV",
      "metadata": {
        "id": "_0E8PMcwqxSV"
      },
      "outputs": [],
      "source": [
        "def create_X(video_ids, negatives, gray):\n",
        "  \"\"\"Creates X array with all pictures for both train and test data\"\"\"\n",
        "  X = list()\n",
        "  POS_PATH, NEG_PATH = POSITIVES_FOLDER_PATH, NEGATIVES_FOLDER_PATH\n",
        "  if gray:\n",
        "    POS_PATH, NEG_PATH = GRAY_POSITIVES_FOLDER_PATH, GRAY_NEGATIVES_FOLDER_PATH\n",
        "  for video_id in video_ids:\n",
        "    current_video = np.load(f'{POS_PATH}{video_id}.npz')\n",
        "    current_video = current_video.f.arr_0\n",
        "    X.append(current_video)\n",
        "  if negatives:\n",
        "    for video_id in video_ids:\n",
        "      current_neg_video = np.load(f'{NEG_PATH}{video_id}.npz')\n",
        "      current_neg_video = current_neg_video.f.arr_0\n",
        "      X.append(current_neg_video)\n",
        "  X = np.concatenate(X, axis=0)\n",
        "  return X"
      ]
    },
    {
      "cell_type": "code",
      "execution_count": 122,
      "id": "HBcw2nYJqxUs",
      "metadata": {
        "id": "HBcw2nYJqxUs"
      },
      "outputs": [],
      "source": [
        "def train_test_X_split(df_events, X, train_videos, test_videos):\n",
        "  \"\"\"Splits pictures in train and test data\"\"\"\n",
        "  train_idx = df_events[df_events['video_id'].isin(train_videos)].index\n",
        "  test_idx = df_events[df_events['video_id'].isin(test_videos)].index\n",
        "  X_train = X[train_idx]\n",
        "  X_test = X[test_idx]\n",
        "  assert df_events.shape[0] == X_train.shape[0] + X_test.shape[0]\n",
        "  return X_train, X_test, train_idx, test_idx"
      ]
    },
    {
      "cell_type": "code",
      "execution_count": 123,
      "id": "Y6vx6gtDqxXD",
      "metadata": {
        "id": "Y6vx6gtDqxXD"
      },
      "outputs": [],
      "source": [
        "def train_test_y_split(df_events, train_idx, test_idx):\n",
        "  \"\"\"Creates DataFrame of labels for both train and test data using videos ids\"\"\"\n",
        "  y_train = df_events[df_events.index.isin(train_idx)]['event'].to_frame()\n",
        "  y_test = df_events[df_events.index.isin(test_idx)]['event'].to_frame()\n",
        "  return y_train, y_test"
      ]
    },
    {
      "cell_type": "code",
      "execution_count": 124,
      "id": "QmIyOAAvP9g-",
      "metadata": {
        "id": "QmIyOAAvP9g-"
      },
      "outputs": [],
      "source": [
        "def append_negatives(df_events, X, X_train, X_test, y_train, y_test, train_size):\n",
        "  \"\"\"Appends negative samples created to both train and both test datasets\"\"\"\n",
        "  len_positives = df_events.shape[0]\n",
        "  len_X = X.shape[0]\n",
        "  len_negatives = len_X - len_positives\n",
        "\n",
        "  START_IDX_NEGATIVES = df_events.shape[0]\n",
        "  START_IDX_NEG_TEST = round(START_IDX_NEGATIVES + len_negatives * train_size)\n",
        "  X_train_neg = X[START_IDX_NEGATIVES:START_IDX_NEG_TEST]\n",
        "  X_test_neg = X[START_IDX_NEG_TEST:]\n",
        "  assert len_negatives == X_train_neg.shape[0] + X_test_neg.shape[0]\n",
        "\n",
        "  X_train = np.concatenate((X_train, X_train_neg), axis=0)\n",
        "  X_test = np.concatenate((X_test, X_test_neg), axis=0)\n",
        "\n",
        "  y_train = y_train.append(pd.DataFrame({'event':['negative'] * X_train_neg.shape[0]}))\n",
        "  y_train.reset_index(drop=True, inplace=True)\n",
        "  y_test = y_test.append(pd.DataFrame({'event':['negative'] * X_test_neg.shape[0]}))\n",
        "  return X_train, X_test, y_train, y_test"
      ]
    },
    {
      "cell_type": "code",
      "execution_count": 125,
      "id": "HFePTN4FqxZk",
      "metadata": {
        "id": "HFePTN4FqxZk"
      },
      "outputs": [],
      "source": [
        "def create_array_to_drop_for_undersampling_in_play(y_train):\n",
        "  \"\"\"Creates array of indexes to drop and perform undersampling in column 'play'\"\"\"\n",
        "  play_indexes = y_train[y_train['event'] == 'play'].index\n",
        "  assert y_train.value_counts()['play'] == len(play_indexes)\n",
        "  play_amount = y_train.value_counts()['play']\n",
        "  challenge_amount = y_train.value_counts()['challenge']\n",
        "  drop_play_indexes = np.sort(np.random.choice(a=play_indexes, \n",
        "                                              size=play_amount - challenge_amount, \n",
        "                                              replace=False))\n",
        "  assert len(drop_play_indexes) == play_amount - challenge_amount\n",
        "  return drop_play_indexes"
      ]
    },
    {
      "cell_type": "code",
      "execution_count": 126,
      "id": "YVpNrxhfqqHh",
      "metadata": {
        "id": "YVpNrxhfqqHh"
      },
      "outputs": [],
      "source": [
        "def perform_undersampling(X_train, y_train, drop_play_indexes):\n",
        "  \"\"\"Performs undersampling in 'play' category to balance it with 'challenge'\"\"\"\n",
        "  X_train = np.delete(X_train, drop_play_indexes, axis=0) # Numpy array\n",
        "  y_train.drop(drop_play_indexes, axis=0, inplace=True) # Pandas DataFrame\n",
        "  return X_train, y_train"
      ]
    },
    {
      "cell_type": "code",
      "execution_count": 127,
      "id": "8EdEYJSXse1Q",
      "metadata": {
        "id": "8EdEYJSXse1Q"
      },
      "outputs": [],
      "source": [
        "def ordinal_encoding(y_train, y_test):\n",
        "  \"\"\"Performs ordinal encoding on our labels\"\"\"\n",
        "  encoder = OrdinalEncoder()\n",
        "  y_train = pd.Series(encoder.fit_transform(y_train).ravel())\n",
        "  y_test = pd.Series(encoder.fit_transform(y_test).ravel())\n",
        "  return y_train, y_test"
      ]
    },
    {
      "cell_type": "code",
      "execution_count": 128,
      "id": "r0drENxbuE3Q",
      "metadata": {
        "id": "r0drENxbuE3Q"
      },
      "outputs": [],
      "source": [
        "def train_val_split(X_train, y_train, train_size):\n",
        "  \"\"\"Splits train data into train and validation sets\"\"\"\n",
        "  X_train, X_val, y_train, y_val = train_test_split(X_train, y_train, train_size=train_size, random_state=0)\n",
        "  return X_train, X_val, y_train, y_val"
      ]
    },
    {
      "cell_type": "code",
      "execution_count": 129,
      "id": "NuWFnkBAse3Q",
      "metadata": {
        "id": "NuWFnkBAse3Q"
      },
      "outputs": [],
      "source": [
        "def del_X(X):\n",
        "  \"\"\"Deletes heavy variable X to free RAM\"\"\"\n",
        "  del X"
      ]
    },
    {
      "cell_type": "code",
      "execution_count": 130,
      "id": "HfTnNbKsMNQE",
      "metadata": {
        "id": "HfTnNbKsMNQE"
      },
      "outputs": [],
      "source": [
        "def preprocessing(train_test_ratio=0.75, train_val_ratio=0.8, negatives=True, undersampling=False, gray=False, free_ram=True):\n",
        "  \"\"\"Runs the whole pipeline before building the model\"\"\"\n",
        "  df, df_events = create_df_events()\n",
        "  video_ids, train_videos, test_videos = create_train_test_video_ids(df_events, train_test_ratio)\n",
        "  X = create_X(video_ids, negatives, gray)\n",
        "  X_train, X_test, train_idx, test_idx = train_test_X_split(df_events, X, train_videos, test_videos)\n",
        "  y_train, y_test = train_test_y_split(df_events, train_idx, test_idx)\n",
        "  if negatives:\n",
        "    X_train, X_test, y_train, y_test = append_negatives(df_events, X, X_train, X_test, y_train, y_test, train_test_ratio)\n",
        "  if undersampling:\n",
        "    drop_play_indexes = create_array_to_drop_for_undersampling_in_play(y_train)\n",
        "    X_train, y_train = perform_undersampling(X_train, y_train, drop_play_indexes)\n",
        "  y_train, y_test = ordinal_encoding(y_train, y_test)\n",
        "  X_train, X_val, y_train, y_val = train_val_split(X_train, y_train, train_val_ratio)\n",
        "  if free_ram:\n",
        "    del_X(X)\n",
        "  return X_train, X_val, X_test, y_train, y_val, y_test"
      ]
    },
    {
      "cell_type": "code",
      "execution_count": 131,
      "id": "V11f-06k-hN2",
      "metadata": {
        "id": "V11f-06k-hN2"
      },
      "outputs": [],
      "source": [
        "def build_model(X_train, y_train, architecture='AlexNet'):\n",
        "  \"\"\"Builds CNN architecture of the model\"\"\"\n",
        "  input_shape = X_train.shape[1], X_train.shape[2], X_train.shape[3]\n",
        "  num_classes = y_train.nunique()\n",
        "\n",
        "  if architecture == 'AlexNet':\n",
        "    model = Sequential([\n",
        "        Rescaling(1/255, \n",
        "                  input_shape=input_shape),  \n",
        "\n",
        "        Conv2D(filters=96, \n",
        "               kernel_size=(11, 11), \n",
        "               strides=(4, 4), \n",
        "               activation='relu'),\n",
        "\n",
        "        BatchNormalization(),\n",
        "\n",
        "        MaxPooling2D(pool_size=(3, 3), \n",
        "                     strides=(2, 2)),\n",
        "\n",
        "        Conv2D(filters=256, \n",
        "               kernel_size=(5, 5),\n",
        "               strides=(3, 3), # (1, 1)\n",
        "               activation='relu',\n",
        "               padding='same'),\n",
        "\n",
        "        BatchNormalization(),\n",
        "\n",
        "        MaxPooling2D(pool_size=(3, 3), \n",
        "                     strides=(2, 2)),\n",
        "\n",
        "        Conv2D(filters=384, \n",
        "               kernel_size=(3, 3),\n",
        "               strides=(2, 2), # (1, 1)\n",
        "               activation='relu',\n",
        "               padding='same'),\n",
        "\n",
        "        BatchNormalization(),\n",
        "\n",
        "        Conv2D(filters=384, \n",
        "               kernel_size=(3, 3),\n",
        "               strides=(2, 2), # (1, 1)\n",
        "               activation='relu',\n",
        "               padding='same'),\n",
        "\n",
        "        BatchNormalization(),\n",
        "\n",
        "        Conv2D(filters=256, \n",
        "               kernel_size=(3, 3),\n",
        "               strides=(1, 1), \n",
        "               activation='relu',\n",
        "               padding='same'),\n",
        "\n",
        "        BatchNormalization(),\n",
        "\n",
        "        MaxPooling2D(pool_size=(3, 3), \n",
        "                     strides=(2, 2)),\n",
        "\n",
        "        Flatten(),\n",
        "\n",
        "        Dense(256, \n",
        "              activation='relu'),\n",
        "\n",
        "        Dropout(0.5), \n",
        "\n",
        "        Dense(256, \n",
        "              activation='relu'),\n",
        "\n",
        "        Dropout(0.5), \n",
        "\n",
        "        Dense(num_classes, \n",
        "              activation='softmax')\n",
        "        ])\n",
        "\n",
        "    return model"
      ]
    },
    {
      "cell_type": "code",
      "execution_count": 132,
      "id": "aOZvepLXTdnq",
      "metadata": {
        "id": "aOZvepLXTdnq"
      },
      "outputs": [],
      "source": [
        "def compile_model(model, optimizer='adam'):\n",
        "  \"\"\"Compiles the model\"\"\"\n",
        "  model.compile(loss='sparse_categorical_crossentropy',\n",
        "              optimizer=optimizer,\n",
        "              metrics='accuracy',\n",
        "              )\n",
        "  return model"
      ]
    },
    {
      "cell_type": "code",
      "execution_count": 133,
      "id": "HmzGNXkwTdpS",
      "metadata": {
        "id": "HmzGNXkwTdpS"
      },
      "outputs": [],
      "source": [
        "def train_model(model, X_train, y_train, X_val, y_val, epochs=100, batch_size=16, patience=3, account_weights=False):\n",
        "  \"\"\"Trains the model\"\"\"\n",
        "  callback = EarlyStopping(monitor='val_loss',\n",
        "                         patience=patience,\n",
        "                         restore_best_weights=True)\n",
        "  \n",
        "  if account_weights:\n",
        "    weights = class_weight.compute_class_weight(class_weight='balanced',\n",
        "                                                classes=np.unique(y_train),\n",
        "                                                y=y_train)\n",
        "    class_weights = dict()\n",
        "    for i, value in enumerate(weights):\n",
        "      class_weights[i] = value\n",
        "\n",
        "  else:\n",
        "    class_weights = None\n",
        "\n",
        "  model.fit(X_train, \n",
        "            y_train, \n",
        "            validation_data=(X_val, y_val), \n",
        "            batch_size=batch_size, \n",
        "            epochs=epochs,\n",
        "            class_weight=class_weights,\n",
        "            callbacks=[callback])\n",
        "  \n",
        "  return model"
      ]
    },
    {
      "cell_type": "markdown",
      "id": "lnLdhmIlxg6m",
      "metadata": {
        "id": "lnLdhmIlxg6m"
      },
      "source": [
        "## Building 1st baseline model - with negatives and without undersampling"
      ]
    },
    {
      "cell_type": "code",
      "execution_count": 31,
      "id": "QTiRwYndvaMx",
      "metadata": {
        "id": "QTiRwYndvaMx"
      },
      "outputs": [],
      "source": [
        "X_train, X_val, X_test, y_train, y_val, y_test = preprocessing()"
      ]
    },
    {
      "cell_type": "code",
      "execution_count": 23,
      "id": "zbuk5GO_264m",
      "metadata": {
        "colab": {
          "base_uri": "https://localhost:8080/"
        },
        "id": "zbuk5GO_264m",
        "outputId": "5fbdaafc-3e92-4e86-e3aa-83fb431df357"
      },
      "outputs": [
        {
          "data": {
            "text/plain": [
              "((3156, 480, 640, 3),\n",
              " (790, 480, 640, 3),\n",
              " (1156, 480, 640, 3),\n",
              " (3156, 4),\n",
              " (790, 4),\n",
              " (1156, 4))"
            ]
          },
          "execution_count": 23,
          "metadata": {},
          "output_type": "execute_result"
        }
      ],
      "source": [
        "X_train.shape, X_val.shape, X_test.shape, y_train.shape, y_val.shape, y_test.shape"
      ]
    },
    {
      "cell_type": "code",
      "execution_count": 24,
      "id": "-UHADNpXTZGr",
      "metadata": {
        "id": "-UHADNpXTZGr"
      },
      "outputs": [],
      "source": [
        "model = build_model(X_train, y_train)\n",
        "model = compile_model(model)"
      ]
    },
    {
      "cell_type": "code",
      "execution_count": 25,
      "id": "LoLpJhGfgJ9D",
      "metadata": {
        "colab": {
          "base_uri": "https://localhost:8080/"
        },
        "id": "LoLpJhGfgJ9D",
        "outputId": "1612a7d6-9149-4c89-e379-9b324eca6a87"
      },
      "outputs": [
        {
          "name": "stdout",
          "output_type": "stream",
          "text": [
            "Model: \"sequential\"\n",
            "_________________________________________________________________\n",
            " Layer (type)                Output Shape              Param #   \n",
            "=================================================================\n",
            " rescaling (Rescaling)       (None, 480, 640, 3)       0         \n",
            "                                                                 \n",
            " conv2d (Conv2D)             (None, 118, 158, 96)      34944     \n",
            "                                                                 \n",
            " batch_normalization (BatchN  (None, 118, 158, 96)     384       \n",
            " ormalization)                                                   \n",
            "                                                                 \n",
            " max_pooling2d (MaxPooling2D  (None, 58, 78, 96)       0         \n",
            " )                                                               \n",
            "                                                                 \n",
            " conv2d_1 (Conv2D)           (None, 20, 26, 256)       614656    \n",
            "                                                                 \n",
            " batch_normalization_1 (Batc  (None, 20, 26, 256)      1024      \n",
            " hNormalization)                                                 \n",
            "                                                                 \n",
            " max_pooling2d_1 (MaxPooling  (None, 9, 12, 256)       0         \n",
            " 2D)                                                             \n",
            "                                                                 \n",
            " conv2d_2 (Conv2D)           (None, 5, 6, 384)         885120    \n",
            "                                                                 \n",
            " batch_normalization_2 (Batc  (None, 5, 6, 384)        1536      \n",
            " hNormalization)                                                 \n",
            "                                                                 \n",
            " conv2d_3 (Conv2D)           (None, 3, 3, 384)         1327488   \n",
            "                                                                 \n",
            " batch_normalization_3 (Batc  (None, 3, 3, 384)        1536      \n",
            " hNormalization)                                                 \n",
            "                                                                 \n",
            " conv2d_4 (Conv2D)           (None, 3, 3, 256)         884992    \n",
            "                                                                 \n",
            " batch_normalization_4 (Batc  (None, 3, 3, 256)        1024      \n",
            " hNormalization)                                                 \n",
            "                                                                 \n",
            " max_pooling2d_2 (MaxPooling  (None, 1, 1, 256)        0         \n",
            " 2D)                                                             \n",
            "                                                                 \n",
            " flatten (Flatten)           (None, 256)               0         \n",
            "                                                                 \n",
            " dense (Dense)               (None, 256)               65792     \n",
            "                                                                 \n",
            " dropout (Dropout)           (None, 256)               0         \n",
            "                                                                 \n",
            " dense_1 (Dense)             (None, 256)               65792     \n",
            "                                                                 \n",
            " dropout_1 (Dropout)         (None, 256)               0         \n",
            "                                                                 \n",
            " dense_2 (Dense)             (None, 4)                 1028      \n",
            "                                                                 \n",
            "=================================================================\n",
            "Total params: 3,885,316\n",
            "Trainable params: 3,882,564\n",
            "Non-trainable params: 2,752\n",
            "_________________________________________________________________\n"
          ]
        }
      ],
      "source": [
        "model.summary()"
      ]
    },
    {
      "cell_type": "code",
      "execution_count": 26,
      "id": "VZ0cUKmRTcS8",
      "metadata": {
        "colab": {
          "base_uri": "https://localhost:8080/"
        },
        "id": "VZ0cUKmRTcS8",
        "outputId": "3f58918b-70fe-4b0a-b7c5-c4a3c7efa7e3"
      },
      "outputs": [
        {
          "name": "stdout",
          "output_type": "stream",
          "text": [
            "Epoch 1/100\n",
            "198/198 [==============================] - 330s 2s/step - loss: 1.1150 - accuracy: 0.6606 - val_loss: 0.9144 - val_accuracy: 0.7063\n",
            "Epoch 2/100\n",
            "198/198 [==============================] - 319s 2s/step - loss: 0.9342 - accuracy: 0.7060 - val_loss: 0.8631 - val_accuracy: 0.7063\n",
            "Epoch 3/100\n",
            "198/198 [==============================] - 315s 2s/step - loss: 0.9363 - accuracy: 0.7037 - val_loss: 0.8906 - val_accuracy: 0.7063\n",
            "Epoch 4/100\n",
            "198/198 [==============================] - 316s 2s/step - loss: 0.8962 - accuracy: 0.7075 - val_loss: 0.8945 - val_accuracy: 0.7063\n",
            "Epoch 5/100\n",
            "198/198 [==============================] - 315s 2s/step - loss: 0.8866 - accuracy: 0.7066 - val_loss: 0.8719 - val_accuracy: 0.7051\n"
          ]
        }
      ],
      "source": [
        "model = train_model(model, X_train, y_train, X_val, y_val)"
      ]
    },
    {
      "cell_type": "code",
      "execution_count": 27,
      "id": "IpGzF5UaCS9U",
      "metadata": {
        "colab": {
          "base_uri": "https://localhost:8080/"
        },
        "id": "IpGzF5UaCS9U",
        "outputId": "2ab036eb-6fe2-48bd-ef7a-dfcfb6a2b5db"
      },
      "outputs": [
        {
          "data": {
            "text/plain": [
              "event_challenge  event_negative  event_play  event_throwin\n",
              "0.0              0.0             1.0         0.0              2231\n",
              "                 1.0             0.0         0.0               427\n",
              "1.0              0.0             0.0         0.0               407\n",
              "0.0              0.0             0.0         1.0                91\n",
              "dtype: int64"
            ]
          },
          "execution_count": 27,
          "metadata": {},
          "output_type": "execute_result"
        }
      ],
      "source": [
        "y_train.value_counts()"
      ]
    },
    {
      "cell_type": "code",
      "execution_count": 28,
      "id": "ljpgDR0ECaaA",
      "metadata": {
        "colab": {
          "base_uri": "https://localhost:8080/"
        },
        "id": "ljpgDR0ECaaA",
        "outputId": "b51094f7-a885-49e1-d764-d0ba4429e078"
      },
      "outputs": [
        {
          "data": {
            "text/plain": [
              "event_challenge  event_negative  event_play  event_throwin\n",
              "0.0              0.0             1.0         0.0              797\n",
              "                 1.0             0.0         0.0              180\n",
              "1.0              0.0             0.0         0.0              119\n",
              "0.0              0.0             0.0         1.0               60\n",
              "dtype: int64"
            ]
          },
          "execution_count": 28,
          "metadata": {},
          "output_type": "execute_result"
        }
      ],
      "source": [
        "y_test.value_counts()"
      ]
    },
    {
      "cell_type": "code",
      "execution_count": 29,
      "id": "o7lFvmG_PuSj",
      "metadata": {
        "id": "o7lFvmG_PuSj"
      },
      "outputs": [],
      "source": [
        "new_y_test = y_test.idxmax(axis=1)\\\n",
        ".replace({'event_challenge': 0, 'event_negative': 1, 'event_play': 2, 'event_throwin': 3})"
      ]
    },
    {
      "cell_type": "code",
      "execution_count": 30,
      "id": "TtpmLXeXREhX",
      "metadata": {
        "colab": {
          "base_uri": "https://localhost:8080/"
        },
        "id": "TtpmLXeXREhX",
        "outputId": "83ee65bd-0f26-4b40-b107-55e69210595b"
      },
      "outputs": [
        {
          "name": "stdout",
          "output_type": "stream",
          "text": [
            "37/37 [==============================] - 28s 752ms/step\n"
          ]
        }
      ],
      "source": [
        "y_pred_test = model.predict(X_test)"
      ]
    },
    {
      "cell_type": "code",
      "execution_count": 31,
      "id": "KBafB6mWRCKQ",
      "metadata": {
        "id": "KBafB6mWRCKQ"
      },
      "outputs": [],
      "source": [
        "y_pred_test_b = [np.argmax(i, axis=0) for i in y_pred_test]"
      ]
    },
    {
      "cell_type": "code",
      "execution_count": 32,
      "id": "r6aCC1DtQ4wj",
      "metadata": {
        "colab": {
          "base_uri": "https://localhost:8080/",
          "height": 279
        },
        "id": "r6aCC1DtQ4wj",
        "outputId": "98adb3bb-be90-42af-f5cf-61f32b06b934"
      },
      "outputs": [
        {
          "data": {
            "image/png": "[encoded data removed]",
            "text/plain": [
              "<Figure size 432x288 with 2 Axes>"
            ]
          },
          "metadata": {
            "needs_background": "light"
          },
          "output_type": "display_data"
        }
      ],
      "source": [
        "ConfusionMatrixDisplay.from_predictions(new_y_test, y_pred_test_b)\n",
        "plt.show()"
      ]
    },
    {
      "cell_type": "code",
      "execution_count": 33,
      "id": "4BJMFMg8By7H",
      "metadata": {
        "colab": {
          "base_uri": "https://localhost:8080/"
        },
        "id": "4BJMFMg8By7H",
        "outputId": "b59fb056-71bc-4604-a7d0-e4fd9bc3d308"
      },
      "outputs": [
        {
          "name": "stdout",
          "output_type": "stream",
          "text": [
            "Macro F1 score: 0.2040\n"
          ]
        }
      ],
      "source": [
        "print(f\"Macro F1 score: {f1_score(new_y_test, y_pred_test_b, average='macro'):.4f}\")"
      ]
    },
    {
      "cell_type": "code",
      "execution_count": 34,
      "id": "LDCF48tEMEbY",
      "metadata": {
        "colab": {
          "base_uri": "https://localhost:8080/"
        },
        "id": "LDCF48tEMEbY",
        "outputId": "f8c88009-f758-4fea-c674-fb128b0d1c56"
      },
      "outputs": [
        {
          "name": "stdout",
          "output_type": "stream",
          "text": [
            "37/37 [==============================] - 27s 721ms/step - loss: 0.9714 - accuracy: 0.6894\n",
            "\n",
            "Accuracy on the test set: 0.6894\n"
          ]
        }
      ],
      "source": [
        "INDEX_ACCURACY = 1\n",
        "print(f'\\nAccuracy on the test set: {model.evaluate(X_test, y_test)[INDEX_ACCURACY]:.4f}')"
      ]
    },
    {
      "cell_type": "code",
      "execution_count": null,
      "id": "QdBRWVU1PCfK",
      "metadata": {
        "id": "QdBRWVU1PCfK"
      },
      "outputs": [],
      "source": [
        "# model.save('/content/drive/MyDrive/Bundesliga/Models/baseline_model_1')"
      ]
    },
    {
      "cell_type": "code",
      "execution_count": null,
      "id": "hYrC1UyLW0CJ",
      "metadata": {
        "id": "hYrC1UyLW0CJ"
      },
      "outputs": [],
      "source": [
        "# model = load_model('/content/drive/MyDrive/Bundesliga/Models/baseline_model_1')"
      ]
    },
    {
      "cell_type": "markdown",
      "id": "kQmHfD6nR2Ex",
      "metadata": {
        "id": "kQmHfD6nR2Ex"
      },
      "source": [
        "## Building 2nd baseline model - with negatives and undersampling"
      ]
    },
    {
      "cell_type": "code",
      "execution_count": null,
      "id": "iiXYQdjBRY-e",
      "metadata": {
        "id": "iiXYQdjBRY-e"
      },
      "outputs": [],
      "source": [
        "X_train, X_val, X_test, y_train, y_val, y_test = preprocessing(undersampling=True)"
      ]
    },
    {
      "cell_type": "code",
      "execution_count": null,
      "id": "uIzQ2zE9EOSu",
      "metadata": {
        "colab": {
          "base_uri": "https://localhost:8080/"
        },
        "id": "uIzQ2zE9EOSu",
        "outputId": "d1888d8a-3bdb-48e4-c3c2-05d3dc3b2073"
      },
      "outputs": [
        {
          "data": {
            "text/plain": [
              "((1358, 480, 640, 3),\n",
              " (340, 480, 640, 3),\n",
              " (1120, 480, 640, 3),\n",
              " (1358, 4),\n",
              " (340, 4),\n",
              " (1120, 4))"
            ]
          },
          "execution_count": 160,
          "metadata": {},
          "output_type": "execute_result"
        }
      ],
      "source": [
        "X_train.shape, X_val.shape, X_test.shape, y_train.shape, y_val.shape, y_test.shape"
      ]
    },
    {
      "cell_type": "code",
      "execution_count": null,
      "id": "1u7l5m3jRk2P",
      "metadata": {
        "id": "1u7l5m3jRk2P"
      },
      "outputs": [],
      "source": [
        "model = build_model(X_train, y_train)\n",
        "model = compile_model(model)"
      ]
    },
    {
      "cell_type": "code",
      "execution_count": null,
      "id": "mGUCtYvARk7o",
      "metadata": {
        "colab": {
          "base_uri": "https://localhost:8080/"
        },
        "id": "mGUCtYvARk7o",
        "outputId": "b0d29a27-c180-4bcb-fccc-7c2357adccb3"
      },
      "outputs": [
        {
          "name": "stdout",
          "output_type": "stream",
          "text": [
            "Epoch 1/100\n",
            "85/85 [==============================] - 159s 2s/step - loss: 1.7385 - accuracy: 0.3299 - val_loss: 1.2923 - val_accuracy: 0.3412\n",
            "Epoch 2/100\n",
            "85/85 [==============================] - 147s 2s/step - loss: 1.3104 - accuracy: 0.3387 - val_loss: 1.2839 - val_accuracy: 0.3147\n",
            "Epoch 3/100\n",
            "85/85 [==============================] - 143s 2s/step - loss: 1.2996 - accuracy: 0.3380 - val_loss: 1.2713 - val_accuracy: 0.3588\n",
            "Epoch 4/100\n",
            "85/85 [==============================] - 158s 2s/step - loss: 1.2760 - accuracy: 0.3623 - val_loss: 1.2653 - val_accuracy: 0.3529\n",
            "Epoch 5/100\n",
            "85/85 [==============================] - 145s 2s/step - loss: 1.2765 - accuracy: 0.3402 - val_loss: 1.2630 - val_accuracy: 0.3588\n",
            "Epoch 6/100\n",
            "85/85 [==============================] - 143s 2s/step - loss: 1.2534 - accuracy: 0.3292 - val_loss: 1.2629 - val_accuracy: 0.3588\n",
            "Epoch 7/100\n",
            "85/85 [==============================] - 141s 2s/step - loss: 1.2434 - accuracy: 0.3328 - val_loss: 1.2834 - val_accuracy: 0.3235\n",
            "Epoch 8/100\n",
            "85/85 [==============================] - 153s 2s/step - loss: 1.2451 - accuracy: 0.3594 - val_loss: 1.2518 - val_accuracy: 0.3647\n",
            "Epoch 9/100\n",
            "85/85 [==============================] - 150s 2s/step - loss: 1.2417 - accuracy: 0.3270 - val_loss: 1.2653 - val_accuracy: 0.3088\n",
            "Epoch 10/100\n",
            "85/85 [==============================] - 144s 2s/step - loss: 1.2421 - accuracy: 0.3395 - val_loss: 1.2532 - val_accuracy: 0.3412\n",
            "Epoch 11/100\n",
            "85/85 [==============================] - 145s 2s/step - loss: 1.2377 - accuracy: 0.3461 - val_loss: 1.2584 - val_accuracy: 0.3206\n"
          ]
        }
      ],
      "source": [
        "model = train_model(model, X_train, y_train, X_val, y_val)"
      ]
    },
    {
      "cell_type": "code",
      "execution_count": null,
      "id": "dYxotz2AEZFD",
      "metadata": {
        "colab": {
          "base_uri": "https://localhost:8080/"
        },
        "id": "dYxotz2AEZFD",
        "outputId": "e4e403bf-4663-4d97-d070-d624710d0b2e"
      },
      "outputs": [
        {
          "data": {
            "text/plain": [
              "event_challenge  event_negative  event_play  event_throwin\n",
              "0.0              1.0             0.0         0.0              465\n",
              "                 0.0             1.0         0.0              402\n",
              "1.0              0.0             0.0         0.0              401\n",
              "0.0              0.0             0.0         1.0               90\n",
              "dtype: int64"
            ]
          },
          "execution_count": 167,
          "metadata": {},
          "output_type": "execute_result"
        }
      ],
      "source": [
        "y_train.value_counts()"
      ]
    },
    {
      "cell_type": "code",
      "execution_count": null,
      "id": "uen4DEK1EZTG",
      "metadata": {
        "colab": {
          "base_uri": "https://localhost:8080/"
        },
        "id": "uen4DEK1EZTG",
        "outputId": "62b3ff09-c1d1-4ffe-e8eb-70416cb09535"
      },
      "outputs": [
        {
          "data": {
            "text/plain": [
              "event_challenge  event_negative  event_play  event_throwin\n",
              "0.0              0.0             1.0         0.0              797\n",
              "                 1.0             0.0         0.0              144\n",
              "1.0              0.0             0.0         0.0              119\n",
              "0.0              0.0             0.0         1.0               60\n",
              "dtype: int64"
            ]
          },
          "execution_count": 168,
          "metadata": {},
          "output_type": "execute_result"
        }
      ],
      "source": [
        "y_test.value_counts()"
      ]
    },
    {
      "cell_type": "code",
      "execution_count": null,
      "id": "am2KULCEXf-Q",
      "metadata": {
        "id": "am2KULCEXf-Q"
      },
      "outputs": [],
      "source": [
        "new_y_test = y_test.idxmax(axis=1)\\\n",
        ".replace({'event_challenge': 0, 'event_negative': 1, 'event_play': 2, 'event_throwin': 3})"
      ]
    },
    {
      "cell_type": "code",
      "execution_count": null,
      "id": "h01zT2AFD7Bv",
      "metadata": {
        "colab": {
          "base_uri": "https://localhost:8080/"
        },
        "id": "h01zT2AFD7Bv",
        "outputId": "bf67f8f0-544f-4f29-b54f-5a7230af736f"
      },
      "outputs": [
        {
          "name": "stdout",
          "output_type": "stream",
          "text": [
            "35/35 [==============================] - 27s 773ms/step\n"
          ]
        },
        {
          "data": {
            "text/plain": [
              "array([[0.00267016, 0.987425  , 0.00603648, 0.00386815],\n",
              "       [0.00265423, 0.9873436 , 0.00611001, 0.00389227],\n",
              "       [0.0039089 , 0.9808896 , 0.00985101, 0.00535036],\n",
              "       ...,\n",
              "       [0.29665706, 0.31993678, 0.29723728, 0.08616886],\n",
              "       [0.2871848 , 0.33717072, 0.28238067, 0.09326389],\n",
              "       [0.2772716 , 0.34768862, 0.29145598, 0.08358379]], dtype=float32)"
            ]
          },
          "execution_count": 170,
          "metadata": {},
          "output_type": "execute_result"
        }
      ],
      "source": [
        "y_pred_test = model.predict(X_test)\n",
        "y_pred_test"
      ]
    },
    {
      "cell_type": "code",
      "execution_count": null,
      "id": "8ILnheNFD7nA",
      "metadata": {
        "id": "8ILnheNFD7nA"
      },
      "outputs": [],
      "source": [
        "y_pred_test_b = [np.argmax(i, axis=0) for i in y_pred_test]"
      ]
    },
    {
      "cell_type": "code",
      "execution_count": null,
      "id": "-sk1JjYbD7pG",
      "metadata": {
        "colab": {
          "base_uri": "https://localhost:8080/",
          "height": 279
        },
        "id": "-sk1JjYbD7pG",
        "outputId": "a619afc3-a753-4dfa-f496-ac348697994e"
      },
      "outputs": [
        {
          "data": {
            "image/png": "[encoded data removed]",
            "text/plain": [
              "<Figure size 432x288 with 2 Axes>"
            ]
          },
          "metadata": {
            "needs_background": "light"
          },
          "output_type": "display_data"
        }
      ],
      "source": [
        "ConfusionMatrixDisplay.from_predictions(new_y_test, y_pred_test_b)\n",
        "plt.show()"
      ]
    },
    {
      "cell_type": "code",
      "execution_count": null,
      "id": "26Q6u-WjExgX",
      "metadata": {
        "colab": {
          "base_uri": "https://localhost:8080/"
        },
        "id": "26Q6u-WjExgX",
        "outputId": "0f5db00e-6fc6-4907-bf6a-40da1940829c"
      },
      "outputs": [
        {
          "name": "stdout",
          "output_type": "stream",
          "text": [
            "Macro F1 score: 0.1528\n"
          ]
        }
      ],
      "source": [
        "print(f\"Macro F1 score: {f1_score(new_y_test, y_pred_test_b, average='macro'):.4f}\")"
      ]
    },
    {
      "cell_type": "code",
      "execution_count": null,
      "id": "u0yfnT2pE3H2",
      "metadata": {
        "colab": {
          "base_uri": "https://localhost:8080/"
        },
        "id": "u0yfnT2pE3H2",
        "outputId": "3f97d3ad-0e2c-4a95-b5b0-bff0a1e48bc5"
      },
      "outputs": [
        {
          "name": "stdout",
          "output_type": "stream",
          "text": [
            "35/35 [==============================] - 27s 783ms/step - loss: 2.3058 - accuracy: 0.2830\n",
            "\n",
            "Accuracy on the test set: 0.2830\n"
          ]
        }
      ],
      "source": [
        "INDEX_ACCURACY = 1\n",
        "print(f'\\nAccuracy on the test set: {model.evaluate(X_test, y_test)[INDEX_ACCURACY]:.4f}')"
      ]
    },
    {
      "cell_type": "code",
      "execution_count": null,
      "id": "xXH-lySarDGm",
      "metadata": {
        "id": "xXH-lySarDGm"
      },
      "outputs": [],
      "source": [
        "model.save('/content/drive/MyDrive/Bundesliga/Models/baseline_model_2')"
      ]
    },
    {
      "cell_type": "code",
      "execution_count": null,
      "id": "Jdn9aVPcE61S",
      "metadata": {
        "id": "Jdn9aVPcE61S"
      },
      "outputs": [],
      "source": [
        "# model = load_model('/content/drive/MyDrive/Bundesliga/Models/baseline_model_2')"
      ]
    },
    {
      "cell_type": "markdown",
      "id": "AMIv_lVRFFEE",
      "metadata": {
        "id": "AMIv_lVRFFEE"
      },
      "source": [
        "## Building 3rd baseline model - with gray, with negatives, and with undersampling"
      ]
    },
    {
      "cell_type": "code",
      "execution_count": null,
      "id": "Cr4lgeHDFab_",
      "metadata": {
        "id": "Cr4lgeHDFab_"
      },
      "outputs": [],
      "source": [
        "X_train, X_val, X_test, y_train, y_val, y_test = preprocessing(undersampling=True, gray=True, train_test_ratio=0.83)"
      ]
    },
    {
      "cell_type": "code",
      "execution_count": null,
      "id": "Gy7O6KpgsGpD",
      "metadata": {
        "colab": {
          "base_uri": "https://localhost:8080/"
        },
        "id": "Gy7O6KpgsGpD",
        "outputId": "bc843e08-6169-47ba-e10d-5c060d542d6a"
      },
      "outputs": [
        {
          "data": {
            "text/plain": [
              "((1455, 480, 640, 3),\n",
              " (364, 480, 640, 3),\n",
              " (793, 480, 640, 3),\n",
              " (1455, 4),\n",
              " (364, 4),\n",
              " (793, 4))"
            ]
          },
          "execution_count": 197,
          "metadata": {},
          "output_type": "execute_result"
        }
      ],
      "source": [
        "X_train.shape, X_val.shape, X_test.shape, y_train.shape, y_val.shape, y_test.shape"
      ]
    },
    {
      "cell_type": "code",
      "execution_count": null,
      "id": "ujTxN8VuFaeq",
      "metadata": {
        "id": "ujTxN8VuFaeq"
      },
      "outputs": [],
      "source": [
        "model = build_model(X_train, y_train)\n",
        "model = compile_model(model)"
      ]
    },
    {
      "cell_type": "code",
      "execution_count": null,
      "id": "3qMi-i1VFaj5",
      "metadata": {
        "colab": {
          "base_uri": "https://localhost:8080/"
        },
        "id": "3qMi-i1VFaj5",
        "outputId": "546eabe3-fa18-4015-d270-59bc009a1a1e"
      },
      "outputs": [
        {
          "name": "stdout",
          "output_type": "stream",
          "text": [
            "Epoch 1/100\n",
            "90/90 [==============================] - 148s 2s/step - loss: 1.7618 - accuracy: 0.2937 - val_loss: 1.3163 - val_accuracy: 0.3278\n",
            "Epoch 2/100\n",
            "90/90 [==============================] - 147s 2s/step - loss: 1.3327 - accuracy: 0.3145 - val_loss: 1.3381 - val_accuracy: 0.3194\n",
            "Epoch 3/100\n",
            "90/90 [==============================] - 157s 2s/step - loss: 1.3067 - accuracy: 0.3396 - val_loss: 1.3208 - val_accuracy: 0.3167\n",
            "Epoch 4/100\n",
            "90/90 [==============================] - 145s 2s/step - loss: 1.3015 - accuracy: 0.3375 - val_loss: 1.3118 - val_accuracy: 0.2667\n",
            "Epoch 5/100\n",
            "90/90 [==============================] - 145s 2s/step - loss: 1.2789 - accuracy: 0.3354 - val_loss: 1.3108 - val_accuracy: 0.2972\n",
            "Epoch 6/100\n",
            "90/90 [==============================] - 144s 2s/step - loss: 1.2765 - accuracy: 0.3312 - val_loss: 1.3470 - val_accuracy: 0.2972\n",
            "Epoch 7/100\n",
            "90/90 [==============================] - 153s 2s/step - loss: 1.2743 - accuracy: 0.3396 - val_loss: 1.3098 - val_accuracy: 0.3139\n",
            "Epoch 8/100\n",
            "90/90 [==============================] - 145s 2s/step - loss: 1.2652 - accuracy: 0.3591 - val_loss: 1.3374 - val_accuracy: 0.2944\n",
            "Epoch 9/100\n",
            "90/90 [==============================] - 145s 2s/step - loss: 1.2633 - accuracy: 0.3264 - val_loss: 1.3274 - val_accuracy: 0.3333\n",
            "Epoch 10/100\n",
            "90/90 [==============================] - 146s 2s/step - loss: 1.2613 - accuracy: 0.3417 - val_loss: 1.3243 - val_accuracy: 0.3056\n"
          ]
        }
      ],
      "source": [
        "model = train_model(model, X_train, y_train, X_val, y_val)"
      ]
    },
    {
      "cell_type": "code",
      "execution_count": null,
      "id": "rc_bautCFaow",
      "metadata": {
        "id": "rc_bautCFaow"
      },
      "outputs": [],
      "source": [
        "new_y_test = y_test.idxmax(axis=1)\\\n",
        ".replace({'event_challenge': 0, 'event_negative': 1, 'event_play': 2, 'event_throwin': 3})"
      ]
    },
    {
      "cell_type": "code",
      "execution_count": null,
      "id": "JqtcxJKPFarL",
      "metadata": {
        "colab": {
          "base_uri": "https://localhost:8080/"
        },
        "id": "JqtcxJKPFarL",
        "outputId": "557e8bc7-e2f3-4a35-af3e-c6f1cb230219"
      },
      "outputs": [
        {
          "name": "stdout",
          "output_type": "stream",
          "text": [
            "25/25 [==============================] - 19s 747ms/step\n"
          ]
        }
      ],
      "source": [
        "y_pred_test = model.predict(X_test)"
      ]
    },
    {
      "cell_type": "code",
      "execution_count": null,
      "id": "2JuX7R8PFate",
      "metadata": {
        "id": "2JuX7R8PFate"
      },
      "outputs": [],
      "source": [
        "y_pred_test_b = [np.argmax(i, axis=0) for i in y_pred_test]"
      ]
    },
    {
      "cell_type": "code",
      "execution_count": null,
      "id": "J1_hIW8ljhoy",
      "metadata": {
        "colab": {
          "base_uri": "https://localhost:8080/"
        },
        "id": "J1_hIW8ljhoy",
        "outputId": "eccf97b7-993f-4e30-899a-92a1f3cdbc77"
      },
      "outputs": [
        {
          "data": {
            "text/plain": [
              "event_challenge  event_negative  event_play  event_throwin\n",
              "0.0              1.0             0.0         0.0              477\n",
              "                 0.0             1.0         0.0              436\n",
              "1.0              0.0             0.0         0.0              430\n",
              "0.0              0.0             0.0         1.0              112\n",
              "dtype: int64"
            ]
          },
          "execution_count": 202,
          "metadata": {},
          "output_type": "execute_result"
        }
      ],
      "source": [
        "y_train.value_counts()"
      ]
    },
    {
      "cell_type": "code",
      "execution_count": null,
      "id": "k1jUan6Wjjyt",
      "metadata": {
        "colab": {
          "base_uri": "https://localhost:8080/"
        },
        "id": "k1jUan6Wjjyt",
        "outputId": "de577801-b55f-4993-a468-be1dd57f98b7"
      },
      "outputs": [
        {
          "data": {
            "text/plain": [
              "event_challenge  event_negative  event_play  event_throwin\n",
              "0.0              0.0             1.0         0.0              556\n",
              "                 1.0             0.0         0.0              122\n",
              "1.0              0.0             0.0         0.0               84\n",
              "0.0              0.0             0.0         1.0               31\n",
              "dtype: int64"
            ]
          },
          "execution_count": 203,
          "metadata": {},
          "output_type": "execute_result"
        }
      ],
      "source": [
        "y_test.value_counts()"
      ]
    },
    {
      "cell_type": "code",
      "execution_count": null,
      "id": "p-4DHtu3FawJ",
      "metadata": {
        "colab": {
          "base_uri": "https://localhost:8080/",
          "height": 279
        },
        "id": "p-4DHtu3FawJ",
        "outputId": "24c0b6ca-8897-44e6-eec7-40c8f1dbe25b"
      },
      "outputs": [
        {
          "data": {
            "image/png": "[encoded data removed]",
            "text/plain": [
              "<Figure size 432x288 with 2 Axes>"
            ]
          },
          "metadata": {
            "needs_background": "light"
          },
          "output_type": "display_data"
        }
      ],
      "source": [
        "ConfusionMatrixDisplay.from_predictions(new_y_test, y_pred_test_b)\n",
        "plt.show()"
      ]
    },
    {
      "cell_type": "code",
      "execution_count": null,
      "id": "QyitDEZIrsXz",
      "metadata": {
        "colab": {
          "base_uri": "https://localhost:8080/"
        },
        "id": "QyitDEZIrsXz",
        "outputId": "4334c3f7-5f84-4884-9a94-fdff457cd13c"
      },
      "outputs": [
        {
          "name": "stdout",
          "output_type": "stream",
          "text": [
            "Macro F1 score: 0.2703\n"
          ]
        }
      ],
      "source": [
        "print(f\"Macro F1 score: {f1_score(new_y_test, y_pred_test_b, average='macro'):.4f}\")"
      ]
    },
    {
      "cell_type": "code",
      "execution_count": null,
      "id": "759OeTGzrx1g",
      "metadata": {
        "colab": {
          "base_uri": "https://localhost:8080/"
        },
        "id": "759OeTGzrx1g",
        "outputId": "7883f4bc-9753-4272-e203-0b9acadd0b6f"
      },
      "outputs": [
        {
          "name": "stdout",
          "output_type": "stream",
          "text": [
            "25/25 [==============================] - 19s 752ms/step - loss: 1.2495 - accuracy: 0.6040\n",
            "\n",
            "Accuracy on the test set: 0.6040\n"
          ]
        }
      ],
      "source": [
        "INDEX_ACCURACY = 1\n",
        "print(f'\\nAccuracy on the test set: {model.evaluate(X_test, y_test)[INDEX_ACCURACY]:.4f}')"
      ]
    },
    {
      "cell_type": "code",
      "execution_count": null,
      "id": "4nCvR7LHFayc",
      "metadata": {
        "id": "4nCvR7LHFayc"
      },
      "outputs": [],
      "source": [
        "model.save('/content/drive/MyDrive/Bundesliga/Models/baseline_model_3')"
      ]
    },
    {
      "cell_type": "code",
      "execution_count": null,
      "id": "_e-t_JElFa1c",
      "metadata": {
        "id": "_e-t_JElFa1c"
      },
      "outputs": [],
      "source": [
        "# model = load_model('/content/drive/MyDrive/Bundesliga/Models/baseline_model_3')"
      ]
    },
    {
      "cell_type": "markdown",
      "id": "4e_1RKV9vrIN",
      "metadata": {
        "id": "4e_1RKV9vrIN"
      },
      "source": [
        "## Building 4th baseline model - with gray, with negatives, without undersampling, and with class weights"
      ]
    },
    {
      "cell_type": "code",
      "execution_count": 19,
      "id": "uopqWveQv0Bk",
      "metadata": {
        "id": "uopqWveQv0Bk"
      },
      "outputs": [],
      "source": [
        "X_train, X_val, X_test, y_train, y_val, y_test = preprocessing(gray=True, train_test_ratio=0.83)"
      ]
    },
    {
      "cell_type": "code",
      "execution_count": 91,
      "id": "J0vk1PKtv0GB",
      "metadata": {
        "colab": {
          "base_uri": "https://localhost:8080/"
        },
        "id": "J0vk1PKtv0GB",
        "outputId": "34d0575b-899b-4a12-a416-e824c019b4b5"
      },
      "outputs": [
        {
          "data": {
            "text/plain": [
              "((3447, 480, 640, 3),\n",
              " (862, 480, 640, 3),\n",
              " (793, 480, 640, 3),\n",
              " (3447,),\n",
              " (862,),\n",
              " (793,))"
            ]
          },
          "execution_count": 91,
          "metadata": {},
          "output_type": "execute_result"
        }
      ],
      "source": [
        "X_train.shape, X_val.shape, X_test.shape, y_train.shape, y_val.shape, y_test.shape"
      ]
    },
    {
      "cell_type": "code",
      "execution_count": 92,
      "id": "clQwCsT7v0LZ",
      "metadata": {
        "id": "clQwCsT7v0LZ"
      },
      "outputs": [],
      "source": [
        "model = build_model(X_train, y_train)\n",
        "model = compile_model(model)"
      ]
    },
    {
      "cell_type": "code",
      "execution_count": 93,
      "id": "daDUtFfnx4ql",
      "metadata": {
        "colab": {
          "base_uri": "https://localhost:8080/"
        },
        "id": "daDUtFfnx4ql",
        "outputId": "ef2fbc0d-4249-40ed-fc5a-fcf9a57c1cb5"
      },
      "outputs": [
        {
          "name": "stdout",
          "output_type": "stream",
          "text": [
            "Epoch 1/100\n",
            "216/216 [==============================] - 340s 2s/step - loss: 1.7715 - accuracy: 0.2823 - val_loss: 1.3761 - val_accuracy: 0.1566\n",
            "Epoch 2/100\n",
            "216/216 [==============================] - 333s 2s/step - loss: 1.4012 - accuracy: 0.0969 - val_loss: 1.4054 - val_accuracy: 0.0510\n",
            "Epoch 3/100\n",
            "216/216 [==============================] - 334s 2s/step - loss: 1.3922 - accuracy: 0.0673 - val_loss: 1.3864 - val_accuracy: 0.0302\n",
            "Epoch 4/100\n",
            "216/216 [==============================] - 333s 2s/step - loss: 1.3847 - accuracy: 0.1926 - val_loss: 1.3825 - val_accuracy: 0.6926\n"
          ]
        }
      ],
      "source": [
        "model = train_model(model, X_train, y_train, X_val, y_val, account_weights=True)"
      ]
    },
    {
      "cell_type": "code",
      "execution_count": 95,
      "id": "XFVjnpUlx4vg",
      "metadata": {
        "colab": {
          "base_uri": "https://localhost:8080/"
        },
        "id": "XFVjnpUlx4vg",
        "outputId": "d1befed3-8859-47e6-874c-9c992fe8c3cf"
      },
      "outputs": [
        {
          "name": "stdout",
          "output_type": "stream",
          "text": [
            "25/25 [==============================] - 20s 763ms/step\n"
          ]
        }
      ],
      "source": [
        "y_pred_test = model.predict(X_test)"
      ]
    },
    {
      "cell_type": "code",
      "execution_count": 96,
      "id": "h08utbyIx4yB",
      "metadata": {
        "id": "h08utbyIx4yB"
      },
      "outputs": [],
      "source": [
        "y_pred_test_b = [np.argmax(i, axis=0) for i in y_pred_test]"
      ]
    },
    {
      "cell_type": "code",
      "execution_count": 97,
      "id": "PDqRpGQ4x414",
      "metadata": {
        "colab": {
          "base_uri": "https://localhost:8080/"
        },
        "id": "PDqRpGQ4x414",
        "outputId": "ed12faa6-7cd5-4e17-8789-502584e2ec88"
      },
      "outputs": [
        {
          "data": {
            "text/plain": [
              "2.0    2427\n",
              "1.0     479\n",
              "0.0     423\n",
              "3.0     118\n",
              "dtype: int64"
            ]
          },
          "execution_count": 97,
          "metadata": {},
          "output_type": "execute_result"
        }
      ],
      "source": [
        "y_train.value_counts()"
      ]
    },
    {
      "cell_type": "code",
      "execution_count": 98,
      "id": "FcWS3hOVyExV",
      "metadata": {
        "colab": {
          "base_uri": "https://localhost:8080/"
        },
        "id": "FcWS3hOVyExV",
        "outputId": "6dc76be8-5f30-484b-9344-082563c5c328"
      },
      "outputs": [
        {
          "data": {
            "text/plain": [
              "2.0    556\n",
              "1.0    122\n",
              "0.0     84\n",
              "3.0     31\n",
              "dtype: int64"
            ]
          },
          "execution_count": 98,
          "metadata": {},
          "output_type": "execute_result"
        }
      ],
      "source": [
        "y_test.value_counts()"
      ]
    },
    {
      "cell_type": "code",
      "execution_count": 99,
      "id": "6WOLzNk6yE01",
      "metadata": {
        "colab": {
          "base_uri": "https://localhost:8080/",
          "height": 279
        },
        "id": "6WOLzNk6yE01",
        "outputId": "8d9f0937-b839-4b91-9249-cba05e889dcb"
      },
      "outputs": [
        {
          "data": {
            "image/png": "[encoded data removed]",
            "text/plain": [
              "<Figure size 432x288 with 2 Axes>"
            ]
          },
          "metadata": {
            "needs_background": "light"
          },
          "output_type": "display_data"
        }
      ],
      "source": [
        "ConfusionMatrixDisplay.from_predictions(y_test, y_pred_test_b)\n",
        "plt.show()"
      ]
    },
    {
      "cell_type": "code",
      "execution_count": 100,
      "id": "T838W0ZMyFBq",
      "metadata": {
        "colab": {
          "base_uri": "https://localhost:8080/"
        },
        "id": "T838W0ZMyFBq",
        "outputId": "497c5cfe-9c34-4e7b-d7bf-5908c8b3e1ab"
      },
      "outputs": [
        {
          "name": "stdout",
          "output_type": "stream",
          "text": [
            "Macro F1 score: 0.1234\n"
          ]
        }
      ],
      "source": [
        "print(f\"Macro F1 score: {f1_score(y_test, y_pred_test_b, average='macro'):.4f}\")"
      ]
    },
    {
      "cell_type": "code",
      "execution_count": 101,
      "id": "4tDwpPLjycK3",
      "metadata": {
        "colab": {
          "base_uri": "https://localhost:8080/"
        },
        "id": "4tDwpPLjycK3",
        "outputId": "e9cecb9c-cbc1-4c87-8dbb-46c65f4aa254"
      },
      "outputs": [
        {
          "name": "stdout",
          "output_type": "stream",
          "text": [
            "25/25 [==============================] - 19s 768ms/step - loss: 1.3881 - accuracy: 0.1475\n",
            "\n",
            "Accuracy on the test set: 0.1475\n"
          ]
        }
      ],
      "source": [
        "INDEX_ACCURACY = 1\n",
        "print(f'\\nAccuracy on the test set: {model.evaluate(X_test, y_test)[INDEX_ACCURACY]:.4f}')"
      ]
    },
    {
      "cell_type": "code",
      "execution_count": 102,
      "id": "LBMDvtS0ycPT",
      "metadata": {
        "id": "LBMDvtS0ycPT"
      },
      "outputs": [],
      "source": [
        "model.save('/content/drive/MyDrive/Bundesliga/Models/baseline_model_4')"
      ]
    },
    {
      "cell_type": "code",
      "execution_count": null,
      "id": "fBo9lA6QycQf",
      "metadata": {
        "id": "fBo9lA6QycQf"
      },
      "outputs": [],
      "source": [
        "# model = load_model('/content/drive/MyDrive/Bundesliga/Models/baseline_model_4')"
      ]
    },
    {
      "cell_type": "markdown",
      "id": "IDHsFX_Fypdq",
      "metadata": {
        "id": "IDHsFX_Fypdq"
      },
      "source": [
        "## Building 5th baseline model - same as 4th, but patience=4"
      ]
    },
    {
      "cell_type": "code",
      "execution_count": 103,
      "id": "TvDwzhzLywYt",
      "metadata": {
        "id": "TvDwzhzLywYt"
      },
      "outputs": [],
      "source": [
        "X_train, X_val, X_test, y_train, y_val, y_test = preprocessing(gray=True, train_test_ratio=0.83)"
      ]
    },
    {
      "cell_type": "code",
      "execution_count": 104,
      "id": "jShGbbPLywcf",
      "metadata": {
        "colab": {
          "base_uri": "https://localhost:8080/"
        },
        "id": "jShGbbPLywcf",
        "outputId": "d1006ff6-70c0-42ea-cec6-41bb0fdae4f4"
      },
      "outputs": [
        {
          "data": {
            "text/plain": [
              "((3447, 480, 640, 3),\n",
              " (862, 480, 640, 3),\n",
              " (793, 480, 640, 3),\n",
              " (3447,),\n",
              " (862,),\n",
              " (793,))"
            ]
          },
          "execution_count": 104,
          "metadata": {},
          "output_type": "execute_result"
        }
      ],
      "source": [
        "X_train.shape, X_val.shape, X_test.shape, y_train.shape, y_val.shape, y_test.shape"
      ]
    },
    {
      "cell_type": "code",
      "execution_count": 105,
      "id": "F4UUgz_Tywfy",
      "metadata": {
        "id": "F4UUgz_Tywfy"
      },
      "outputs": [],
      "source": [
        "model = build_model(X_train, y_train)\n",
        "model = compile_model(model)"
      ]
    },
    {
      "cell_type": "code",
      "execution_count": 106,
      "id": "EpHsZJ26ywjW",
      "metadata": {
        "colab": {
          "base_uri": "https://localhost:8080/"
        },
        "id": "EpHsZJ26ywjW",
        "outputId": "1b148dae-20d5-4ca4-b796-08caaa562904"
      },
      "outputs": [
        {
          "name": "stdout",
          "output_type": "stream",
          "text": [
            "Epoch 1/100\n",
            "216/216 [==============================] - 356s 2s/step - loss: 1.8086 - accuracy: 0.2588 - val_loss: 1.3945 - val_accuracy: 0.1230\n",
            "Epoch 2/100\n",
            "216/216 [==============================] - 350s 2s/step - loss: 1.3978 - accuracy: 0.2875 - val_loss: 1.4004 - val_accuracy: 0.0684\n",
            "Epoch 3/100\n",
            "216/216 [==============================] - 329s 2s/step - loss: 1.3879 - accuracy: 0.3525 - val_loss: 1.3796 - val_accuracy: 0.0267\n",
            "Epoch 4/100\n",
            "216/216 [==============================] - 333s 2s/step - loss: 1.3891 - accuracy: 0.1909 - val_loss: 1.3862 - val_accuracy: 0.0267\n",
            "Epoch 5/100\n",
            "216/216 [==============================] - 326s 2s/step - loss: 1.3879 - accuracy: 0.1540 - val_loss: 1.3823 - val_accuracy: 0.6995\n",
            "Epoch 6/100\n",
            "216/216 [==============================] - 327s 2s/step - loss: 1.3866 - accuracy: 0.1802 - val_loss: 1.3810 - val_accuracy: 0.6995\n",
            "Epoch 7/100\n",
            "216/216 [==============================] - 329s 2s/step - loss: 1.3947 - accuracy: 0.3780 - val_loss: 1.2661 - val_accuracy: 0.6995\n",
            "Epoch 8/100\n",
            "216/216 [==============================] - 324s 1s/step - loss: 1.4322 - accuracy: 0.2797 - val_loss: 1.3904 - val_accuracy: 0.0360\n",
            "Epoch 9/100\n",
            "216/216 [==============================] - 330s 2s/step - loss: 1.3878 - accuracy: 0.2298 - val_loss: 1.3844 - val_accuracy: 0.1381\n",
            "Epoch 10/100\n",
            "216/216 [==============================] - 323s 1s/step - loss: 1.3869 - accuracy: 0.1723 - val_loss: 1.3881 - val_accuracy: 0.0267\n",
            "Epoch 11/100\n",
            "216/216 [==============================] - 323s 1s/step - loss: 1.3864 - accuracy: 0.1871 - val_loss: 1.3866 - val_accuracy: 0.0267\n"
          ]
        }
      ],
      "source": [
        "model = train_model(model, X_train, y_train, X_val, y_val, account_weights=True, patience=4)"
      ]
    },
    {
      "cell_type": "code",
      "execution_count": 107,
      "id": "CpIkkBqVywkt",
      "metadata": {
        "colab": {
          "base_uri": "https://localhost:8080/"
        },
        "id": "CpIkkBqVywkt",
        "outputId": "bcdb6451-cb1e-48ac-a796-7101a67506d4"
      },
      "outputs": [
        {
          "name": "stdout",
          "output_type": "stream",
          "text": [
            "25/25 [==============================] - 18s 705ms/step\n"
          ]
        }
      ],
      "source": [
        "y_pred_test = model.predict(X_test)"
      ]
    },
    {
      "cell_type": "code",
      "execution_count": 108,
      "id": "Z8am94CPzOZL",
      "metadata": {
        "id": "Z8am94CPzOZL"
      },
      "outputs": [],
      "source": [
        "y_pred_test_b = [np.argmax(i, axis=0) for i in y_pred_test]"
      ]
    },
    {
      "cell_type": "code",
      "execution_count": 109,
      "id": "_7OpulJ0zOeC",
      "metadata": {
        "colab": {
          "base_uri": "https://localhost:8080/"
        },
        "id": "_7OpulJ0zOeC",
        "outputId": "8c678a78-a1aa-461e-c02d-b2664090096d"
      },
      "outputs": [
        {
          "data": {
            "text/plain": [
              "2.0    2427\n",
              "1.0     479\n",
              "0.0     423\n",
              "3.0     118\n",
              "dtype: int64"
            ]
          },
          "execution_count": 109,
          "metadata": {},
          "output_type": "execute_result"
        }
      ],
      "source": [
        "y_train.value_counts()"
      ]
    },
    {
      "cell_type": "code",
      "execution_count": 110,
      "id": "FTTXYR9izOgN",
      "metadata": {
        "colab": {
          "base_uri": "https://localhost:8080/"
        },
        "id": "FTTXYR9izOgN",
        "outputId": "f0297bf3-b62e-4986-8277-16c4a02fb105"
      },
      "outputs": [
        {
          "data": {
            "text/plain": [
              "2.0    556\n",
              "1.0    122\n",
              "0.0     84\n",
              "3.0     31\n",
              "dtype: int64"
            ]
          },
          "execution_count": 110,
          "metadata": {},
          "output_type": "execute_result"
        }
      ],
      "source": [
        "y_test.value_counts()"
      ]
    },
    {
      "cell_type": "code",
      "execution_count": 111,
      "id": "epd9SVxPywnT",
      "metadata": {
        "colab": {
          "base_uri": "https://localhost:8080/",
          "height": 279
        },
        "id": "epd9SVxPywnT",
        "outputId": "c8fe2b36-c277-4e34-80a7-cd78db2ac9d9"
      },
      "outputs": [
        {
          "data": {
            "image/png": "[encoded data removed]",
            "text/plain": [
              "<Figure size 432x288 with 2 Axes>"
            ]
          },
          "metadata": {
            "needs_background": "light"
          },
          "output_type": "display_data"
        }
      ],
      "source": [
        "ConfusionMatrixDisplay.from_predictions(y_test, y_pred_test_b)\n",
        "plt.show()"
      ]
    },
    {
      "cell_type": "code",
      "execution_count": 112,
      "id": "q5kju-QmzWbx",
      "metadata": {
        "colab": {
          "base_uri": "https://localhost:8080/"
        },
        "id": "q5kju-QmzWbx",
        "outputId": "2ba87895-9f1e-4eb5-a006-18ab2ed711ae"
      },
      "outputs": [
        {
          "name": "stdout",
          "output_type": "stream",
          "text": [
            "Macro F1 score: 0.2061\n"
          ]
        }
      ],
      "source": [
        "print(f\"Macro F1 score: {f1_score(y_test, y_pred_test_b, average='macro'):.4f}\")"
      ]
    },
    {
      "cell_type": "code",
      "execution_count": 113,
      "id": "s5S7XSUczWh4",
      "metadata": {
        "colab": {
          "base_uri": "https://localhost:8080/"
        },
        "id": "s5S7XSUczWh4",
        "outputId": "e670a1ad-59e2-44af-a5b6-3c2dd027d168"
      },
      "outputs": [
        {
          "name": "stdout",
          "output_type": "stream",
          "text": [
            "25/25 [==============================] - 21s 832ms/step - loss: 1.2702 - accuracy: 0.7011\n",
            "\n",
            "Accuracy on the test set: 0.7011\n"
          ]
        }
      ],
      "source": [
        "INDEX_ACCURACY = 1\n",
        "print(f'\\nAccuracy on the test set: {model.evaluate(X_test, y_test)[INDEX_ACCURACY]:.4f}')"
      ]
    },
    {
      "cell_type": "code",
      "execution_count": 114,
      "id": "h69USdkYywol",
      "metadata": {
        "id": "h69USdkYywol"
      },
      "outputs": [],
      "source": [
        "model.save('/content/drive/MyDrive/Bundesliga/Models/baseline_model_5')"
      ]
    },
    {
      "cell_type": "code",
      "execution_count": null,
      "id": "UORHeMjgywqu",
      "metadata": {
        "id": "UORHeMjgywqu"
      },
      "outputs": [],
      "source": [
        "# model = load_model('/content/drive/MyDrive/Bundesliga/Models/baseline_model_5')"
      ]
    },
    {
      "cell_type": "markdown",
      "id": "JQAgk2BYmOSV",
      "metadata": {
        "id": "JQAgk2BYmOSV"
      },
      "source": [
        "## Building 6th baseline model - same as 4th, without gray"
      ]
    },
    {
      "cell_type": "code",
      "execution_count": 135,
      "id": "Sz-PiASbmPjw",
      "metadata": {
        "id": "Sz-PiASbmPjw"
      },
      "outputs": [],
      "source": [
        "X_train, X_val, X_test, y_train, y_val, y_test = preprocessing(train_test_ratio=0.83)"
      ]
    },
    {
      "cell_type": "code",
      "execution_count": 136,
      "id": "w9HXzJifmPpE",
      "metadata": {
        "colab": {
          "base_uri": "https://localhost:8080/"
        },
        "id": "w9HXzJifmPpE",
        "outputId": "75133678-277f-444f-dacc-30d13c9a5b0b"
      },
      "outputs": [
        {
          "data": {
            "text/plain": [
              "((3447, 480, 640, 3),\n",
              " (862, 480, 640, 3),\n",
              " (793, 480, 640, 3),\n",
              " (3447,),\n",
              " (862,),\n",
              " (793,))"
            ]
          },
          "execution_count": 136,
          "metadata": {},
          "output_type": "execute_result"
        }
      ],
      "source": [
        "X_train.shape, X_val.shape, X_test.shape, y_train.shape, y_val.shape, y_test.shape"
      ]
    },
    {
      "cell_type": "code",
      "execution_count": 137,
      "id": "bo0Jj5EgmPrc",
      "metadata": {
        "id": "bo0Jj5EgmPrc"
      },
      "outputs": [],
      "source": [
        "model = build_model(X_train, y_train)\n",
        "model = compile_model(model)"
      ]
    },
    {
      "cell_type": "code",
      "execution_count": 138,
      "id": "qyjGPHncmPwc",
      "metadata": {
        "colab": {
          "base_uri": "https://localhost:8080/"
        },
        "id": "qyjGPHncmPwc",
        "outputId": "6f987cf3-c423-4835-eab3-a91489d2abcc"
      },
      "outputs": [
        {
          "name": "stdout",
          "output_type": "stream",
          "text": [
            "Epoch 1/100\n",
            "216/216 [==============================] - 342s 2s/step - loss: 1.7994 - accuracy: 0.2637 - val_loss: 1.4481 - val_accuracy: 0.1381\n",
            "Epoch 2/100\n",
            "216/216 [==============================] - 332s 2s/step - loss: 1.4094 - accuracy: 0.1720 - val_loss: 1.4281 - val_accuracy: 0.1009\n",
            "Epoch 3/100\n",
            "216/216 [==============================] - 323s 1s/step - loss: 1.3924 - accuracy: 0.0983 - val_loss: 1.3972 - val_accuracy: 0.0476\n",
            "Epoch 4/100\n",
            "216/216 [==============================] - 333s 2s/step - loss: 1.3872 - accuracy: 0.1158 - val_loss: 1.3888 - val_accuracy: 0.0278\n",
            "Epoch 5/100\n",
            "216/216 [==============================] - 321s 1s/step - loss: 1.3860 - accuracy: 0.3104 - val_loss: 1.3801 - val_accuracy: 0.6485\n",
            "Epoch 6/100\n",
            "216/216 [==============================] - 330s 2s/step - loss: 1.3868 - accuracy: 0.4186 - val_loss: 1.4049 - val_accuracy: 0.4571\n",
            "Epoch 7/100\n",
            "216/216 [==============================] - 323s 1s/step - loss: 1.3982 - accuracy: 0.2901 - val_loss: 1.3761 - val_accuracy: 0.6949\n",
            "Epoch 8/100\n",
            "216/216 [==============================] - 328s 2s/step - loss: 1.3877 - accuracy: 0.3388 - val_loss: 1.3847 - val_accuracy: 0.5510\n",
            "Epoch 9/100\n",
            "216/216 [==============================] - 327s 2s/step - loss: 1.3930 - accuracy: 0.3893 - val_loss: 1.3857 - val_accuracy: 0.5336\n",
            "Epoch 10/100\n",
            "216/216 [==============================] - 325s 2s/step - loss: 1.3847 - accuracy: 0.3020 - val_loss: 1.3845 - val_accuracy: 0.0255\n"
          ]
        }
      ],
      "source": [
        "model = train_model(model, X_train, y_train, X_val, y_val, account_weights=True)"
      ]
    },
    {
      "cell_type": "code",
      "execution_count": 140,
      "id": "Fxw1ZGOemPyG",
      "metadata": {
        "colab": {
          "base_uri": "https://localhost:8080/"
        },
        "id": "Fxw1ZGOemPyG",
        "outputId": "21fcea4b-b56b-481d-fd92-54d37d62857f"
      },
      "outputs": [
        {
          "name": "stdout",
          "output_type": "stream",
          "text": [
            "25/25 [==============================] - 22s 858ms/step\n"
          ]
        }
      ],
      "source": [
        "y_pred_test = model.predict(X_test)"
      ]
    },
    {
      "cell_type": "code",
      "execution_count": 141,
      "id": "aE0KZKogmP7h",
      "metadata": {
        "id": "aE0KZKogmP7h"
      },
      "outputs": [],
      "source": [
        "y_pred_test_b = [np.argmax(i, axis=0) for i in y_pred_test]"
      ]
    },
    {
      "cell_type": "code",
      "execution_count": 142,
      "id": "h5DMwHQkzqIB",
      "metadata": {
        "colab": {
          "base_uri": "https://localhost:8080/"
        },
        "id": "h5DMwHQkzqIB",
        "outputId": "8b9963cc-0ba6-4d2a-f585-e06a43b24e97"
      },
      "outputs": [
        {
          "data": {
            "text/plain": [
              "2.0    2427\n",
              "1.0     479\n",
              "0.0     423\n",
              "3.0     118\n",
              "dtype: int64"
            ]
          },
          "execution_count": 142,
          "metadata": {},
          "output_type": "execute_result"
        }
      ],
      "source": [
        "y_train.value_counts()"
      ]
    },
    {
      "cell_type": "code",
      "execution_count": 143,
      "id": "msjT-YjJzqc1",
      "metadata": {
        "colab": {
          "base_uri": "https://localhost:8080/"
        },
        "id": "msjT-YjJzqc1",
        "outputId": "a659b3ac-027c-4c10-baf8-002fb5fe1264"
      },
      "outputs": [
        {
          "data": {
            "text/plain": [
              "2.0    556\n",
              "1.0    122\n",
              "0.0     84\n",
              "3.0     31\n",
              "dtype: int64"
            ]
          },
          "execution_count": 143,
          "metadata": {},
          "output_type": "execute_result"
        }
      ],
      "source": [
        "y_test.value_counts()"
      ]
    },
    {
      "cell_type": "code",
      "execution_count": 144,
      "id": "BaxfC3jGzqpe",
      "metadata": {
        "colab": {
          "base_uri": "https://localhost:8080/",
          "height": 279
        },
        "id": "BaxfC3jGzqpe",
        "outputId": "350458cd-786d-4321-aeb8-570edae37fc5"
      },
      "outputs": [
        {
          "data": {
            "image/png": "[encoded data removed]",
            "text/plain": [
              "<Figure size 432x288 with 2 Axes>"
            ]
          },
          "metadata": {
            "needs_background": "light"
          },
          "output_type": "display_data"
        }
      ],
      "source": [
        "ConfusionMatrixDisplay.from_predictions(y_test, y_pred_test_b)\n",
        "plt.show()"
      ]
    },
    {
      "cell_type": "code",
      "execution_count": 152,
      "id": "z17_2QMa3foY",
      "metadata": {
        "colab": {
          "base_uri": "https://localhost:8080/"
        },
        "id": "z17_2QMa3foY",
        "outputId": "643af454-c384-4b24-ad95-957f7b671867"
      },
      "outputs": [
        {
          "name": "stdout",
          "output_type": "stream",
          "text": [
            "5.0000\n"
          ]
        }
      ],
      "source": [
        "print(f'{(1000/200):.4f}')"
      ]
    },
    {
      "cell_type": "code",
      "execution_count": 154,
      "id": "sVmWHaE42W9e",
      "metadata": {
        "colab": {
          "base_uri": "https://localhost:8080/"
        },
        "id": "sVmWHaE42W9e",
        "outputId": "47a7743f-92a3-4353-ed87-b0f1d4c27fbd"
      },
      "outputs": [
        {
          "name": "stdout",
          "output_type": "stream",
          "text": [
            "True: 0\n",
            "0: 0.0000, 1: 0.0238, 2: 0.9286, 0: 0.0476\n",
            "True: 1\n",
            "0: 0.0000, 1: 0.0492, 2: 0.8934, 0: 0.0492\n",
            "True: 2\n",
            "0: 0.0000, 1: 0.0378, 2: 0.9371, 0: 0.0252\n",
            "True: 3\n",
            "0: 0.0000, 1: 0.0000, 2: 0.9355, 0: 0.0645\n"
          ]
        }
      ],
      "source": [
        "print(f'True: 0\\n0: {(0 / 84):.4f}, 1: {(2 / 84):.4f}, 2: {(78 / 84):.4f}, 0: {(4 / 84):.4f}')\n",
        "print(f'True: 1\\n0: {(0 / 122):.4f}, 1: {(6 / 122):.4f}, 2: {(109 / 122):.4f}, 0: {(6 / 122):.4f}')\n",
        "print(f'True: 2\\n0: {(0 / 556):.4f}, 1: {(21 / 556):.4f}, 2: {(521 / 556):.4f}, 0: {(14 / 556):.4f}')\n",
        "print(f'True: 3\\n0: {(0 / 31):.4f}, 1: {(0 / 31):.4f}, 2: {(29 / 31):.4f}, 0: {(2 / 31):.4f}')"
      ]
    },
    {
      "cell_type": "code",
      "execution_count": 149,
      "id": "StHf5U1C2Ayj",
      "metadata": {
        "colab": {
          "base_uri": "https://localhost:8080/"
        },
        "id": "StHf5U1C2Ayj",
        "outputId": "607d17f6-bea7-4a14-82d0-8880248d4bac"
      },
      "outputs": [
        {
          "name": "stdout",
          "output_type": "stream",
          "text": [
            "              precision    recall  f1-score   support\n",
            "\n",
            "         0.0       0.00      0.00      0.00        84\n",
            "         1.0       0.21      0.05      0.08       122\n",
            "         2.0       0.71      0.94      0.81       556\n",
            "         3.0       0.08      0.06      0.07        31\n",
            "\n",
            "    accuracy                           0.67       793\n",
            "   macro avg       0.25      0.26      0.24       793\n",
            "weighted avg       0.53      0.67      0.58       793\n",
            "\n"
          ]
        }
      ],
      "source": [
        "print(classification_report(y_test, y_pred_test_b))"
      ]
    },
    {
      "cell_type": "code",
      "execution_count": 145,
      "id": "d9ETGsvszqyZ",
      "metadata": {
        "colab": {
          "base_uri": "https://localhost:8080/"
        },
        "id": "d9ETGsvszqyZ",
        "outputId": "0a955197-72a4-4205-cc24-6018d6e84a2a"
      },
      "outputs": [
        {
          "name": "stdout",
          "output_type": "stream",
          "text": [
            "Macro F1 score: 0.2389\n"
          ]
        }
      ],
      "source": [
        "print(f\"Macro F1 score: {f1_score(y_test, y_pred_test_b, average='macro'):.4f}\")"
      ]
    },
    {
      "cell_type": "code",
      "execution_count": 146,
      "id": "O5HvhAHKmP_k",
      "metadata": {
        "colab": {
          "base_uri": "https://localhost:8080/"
        },
        "id": "O5HvhAHKmP_k",
        "outputId": "0d9aba79-b4db-4e4c-80e4-175bd04acbee"
      },
      "outputs": [
        {
          "name": "stdout",
          "output_type": "stream",
          "text": [
            "25/25 [==============================] - 19s 734ms/step - loss: 1.3787 - accuracy: 0.6671\n",
            "\n",
            "Accuracy on the test set: 0.6671\n"
          ]
        }
      ],
      "source": [
        "INDEX_ACCURACY = 1\n",
        "print(f'\\nAccuracy on the test set: {model.evaluate(X_test, y_test)[INDEX_ACCURACY]:.4f}')"
      ]
    },
    {
      "cell_type": "code",
      "execution_count": 147,
      "id": "Hzdkm6G6mQFq",
      "metadata": {
        "id": "Hzdkm6G6mQFq"
      },
      "outputs": [],
      "source": [
        "model.save('/content/drive/MyDrive/Bundesliga/Models/baseline_model_6')"
      ]
    },
    {
      "cell_type": "code",
      "execution_count": 148,
      "id": "52MNJbQd0IJg",
      "metadata": {
        "id": "52MNJbQd0IJg"
      },
      "outputs": [],
      "source": [
        "# model = load_model('/content/drive/MyDrive/Bundesliga/Models/baseline_model_6')"
      ]
    },
    {
      "cell_type": "markdown",
      "id": "g3jGtg6YiKVF",
      "metadata": {
        "id": "g3jGtg6YiKVF"
      },
      "source": [
        "## Data Augmentation"
      ]
    },
    {
      "cell_type": "markdown",
      "id": "d734abbd",
      "metadata": {},
      "source": [
        "#### Create new folders for augmented image files"
      ]
    },
    {
      "cell_type": "code",
      "execution_count": null,
      "id": "9f7be5ea",
      "metadata": {},
      "outputs": [],
      "source": [
        "ROTATED_FOLDER_PATH = '/content/drive/MyDrive/Bundesliga/PicsFromVids/CompressedPic/Rotated/'\n",
        "CROPPED_FOLDER_PATH = 'content/drive/MyDrive/Bundesliga/PicsFromVids/CompressedPic/Cropped/'\n",
        "FLIPPED_FOLDER_PATH = '/content/drive/MyDrive/Bundesliga/PicsFromVids/CompressedPic/Flipped/'\n",
        "BRIGHTED_FOLDER_PATH = '/content/drive/MyDrive/Bundesliga/PicsFromVids/CompressedPic/Brighted/'\n",
        "BINARIZED_FOLDER_PATH = '/content/drive/MyDrive/Bundesliga/PicsFromVids/CompressedPic/Binarized/'"
      ]
    },
    {
      "cell_type": "code",
      "execution_count": null,
      "id": "d8c8c746",
      "metadata": {},
      "outputs": [],
      "source": [
        "FOLDER_TO_CREATE = [ROTATED_FOLDER_PATH, CROPPED_FOLDER_PATH, FLIPPED_FOLDER_PATH, BRIGHTED_FOLDER_PATH, BINARIZED_FOLDER_PATH]"
      ]
    },
    {
      "cell_type": "code",
      "execution_count": null,
      "id": "bc87745a",
      "metadata": {},
      "outputs": [],
      "source": [
        "def create_new_folder(folder_list):\n",
        "  for folder in FOLDER_TO_CREATE:\n",
        "    isExist = os.path.exists(folder)\n",
        "    if not isExist:\n",
        "      os.makedirs(folder)\n",
        "      print(f\"The new directory {folder.split('/')[-2]} has been created!\")\n",
        "    else: \n",
        "      print(f\"The folder {folder.split('/')[-2]} already exist!\\n\")"
      ]
    },
    {
      "cell_type": "markdown",
      "id": "92162163",
      "metadata": {},
      "source": [
        "#### Generate cropped images"
      ]
    },
    {
      "cell_type": "code",
      "execution_count": null,
      "id": "6b868f6b",
      "metadata": {},
      "outputs": [],
      "source": [
        "def random_crop_img(img, crop_size=(10, 10)):\n",
        "    # This function return an image randomly croped\n",
        "    assert crop_size[0] <= img.shape[0] and crop_size[1] <= img.shape[1], \"Crop size should be less than image size\"\n",
        "    img = img.copy()\n",
        "    w, h = img.shape[:2]\n",
        "    x, y = np.random.randint(h-crop_size[0]), np.random.randint(w-crop_size[1])\n",
        "    img = img[y:y+crop_size[0], x:x+crop_size[1]]\n",
        "    return img"
      ]
    },
    {
      "cell_type": "markdown",
      "id": "1909260d",
      "metadata": {},
      "source": [
        "#### Generate rotated images"
      ]
    },
    {
      "cell_type": "code",
      "execution_count": null,
      "id": "51c0d4c8",
      "metadata": {},
      "outputs": [],
      "source": [
        "def rotate_img(img, angle, bg_patch=(5,5)):\n",
        "    # This function return an image rotated\n",
        "    assert len(img.shape) <= 3, \"Incorrect image shape\"\n",
        "    rgb = len(img.shape) == 3\n",
        "    if rgb:\n",
        "        bg_color = np.mean(img[:bg_patch[0], :bg_patch[1], :], axis=(0,1))\n",
        "    else:\n",
        "        bg_color = np.mean(img[:bg_patch[0], :bg_patch[1]])\n",
        "    img = rotate(img, angle, reshape=False)\n",
        "    mask = [img <= 0, np.any(img <= 0, axis=-1)][rgb]\n",
        "    img[mask] = bg_color\n",
        "    return img"
      ]
    },
    {
      "cell_type": "markdown",
      "id": "de6eff54",
      "metadata": {},
      "source": [
        "#### Generate flipped images"
      ]
    },
    {
      "cell_type": "code",
      "execution_count": null,
      "id": "2d492573",
      "metadata": {},
      "outputs": [],
      "source": [
        "def flip_img(img):\n",
        "  # This function return flipped the image\n",
        "  return np.fliplr(img)"
      ]
    },
    {
      "cell_type": "markdown",
      "id": "5af8c081",
      "metadata": {},
      "source": [
        "#### Generate augmented images visualization "
      ]
    },
    {
      "cell_type": "code",
      "execution_count": null,
      "id": "029a15af",
      "metadata": {},
      "outputs": [],
      "source": [
        "def visualize_img(original, augmented):\n",
        "    # This function return a vizualisation of the original and the augmented image\n",
        "    fig = plt.figure()\n",
        "    plt.subplot(1,2,1)\n",
        "    plt.title('Original image')\n",
        "    plt.imshow(original)\n",
        "\n",
        "    plt.subplot(1,2,2)\n",
        "    plt.title('Augmented image')\n",
        "    plt.imshow(augmented)"
      ]
    },
    {
      "cell_type": "markdown",
      "id": "22d1d66d",
      "metadata": {},
      "source": [
        "#### Generate bright images  "
      ]
    },
    {
      "cell_type": "code",
      "execution_count": null,
      "id": "68b27b1e",
      "metadata": {},
      "outputs": [],
      "source": [
        "def bright_img(img, thresh):\n",
        "  img_bright = (img > thresh) * img\n",
        "  return img_bright"
      ]
    },
    {
      "cell_type": "markdown",
      "id": "93c0451b",
      "metadata": {},
      "source": [
        "#### Generate binarized images  "
      ]
    },
    {
      "cell_type": "code",
      "execution_count": null,
      "id": "8c594283",
      "metadata": {},
      "outputs": [],
      "source": [
        "def binarization_img(img, thresh, maxval = 255):\n",
        "  \"\"\"Since True is regarded as 1 and False is regarded as 0, \n",
        "  when multiplied by 255 which is the Max value of uint8, \n",
        "  True becomes 255 (white) and False becomes 0 (black).\"\"\"\n",
        "  im_bin = (img > thresh) * maxval\n",
        "  return im_bin"
      ]
    },
    {
      "cell_type": "markdown",
      "id": "4bf7bad7",
      "metadata": {},
      "source": [
        "#### Main function for data augmentation  "
      ]
    },
    {
      "cell_type": "code",
      "execution_count": null,
      "id": "6a2b6704",
      "metadata": {},
      "outputs": [],
      "source": [
        "def data_augmentation(X_train, random_crop=False, rotate=False, flip=False, visualize=False, bright=False, binary=False, save_file=False):\n",
        "\n",
        "  create_new_folder(FOLDER_TO_CREATE)\n",
        "\n",
        "  c_1 = 0\n",
        "  r_1 = 0\n",
        "  f_1 = 0\n",
        "  b_1 = 0\n",
        "  bi_1 = 0\n",
        "\n",
        "  for img in X_train:\n",
        "\n",
        "    if random_crop:\n",
        "      crop_augmented = random_crop_img(img, crop_size=(400, 400))\n",
        "      if visualize:\n",
        "        visualize_img(img, crop_augmented)\n",
        "      if save_file:\n",
        "        np.savez(f'{CROPPED_FOLDER_PATH}crop_augmented_{c_1}')\n",
        "        print(f'crop_augmented_{c_1} created')\n",
        "      c_1 += 1 \n",
        "\n",
        "    if rotate:\n",
        "      rotated_augmented = rotate_img(img, 10, bg_patch=(5,5))\n",
        "      if save_file:\n",
        "        np.savez(f'{ROTATED_FOLDER_PATH}rot_augmented_{r_1}')\n",
        "        print(f'rot_augmented_{r_1} created')\n",
        "        r_1 += 1 \n",
        "\n",
        "      if visualize:\n",
        "        visualize_img(img, rotated_augmented)\n",
        "    \n",
        "    if flip:\n",
        "      flip_augmented = flip_img(img)\n",
        "      if save_file:\n",
        "        np.savez(f'{FLIPPED_FOLDER_PATH}flip_augmented_{f_1}')\n",
        "        print(f'flip_augmented_{f_1} created')\n",
        "        f_1 += 1\n",
        "\n",
        "      if visualize:\n",
        "        visualize_img(img, flip_augmented)\n",
        "\n",
        "    if bright:\n",
        "      bright_augmented = bright_img(img, 80)\n",
        "      if save_file:\n",
        "        np.savez(f'{BRIGHTED_FOLDER_PATH}bright_augmented_{b_1}')\n",
        "        print(f'bright_augmented_{b_1} created')\n",
        "        b_1 += 1\n",
        "\n",
        "      if visualize:\n",
        "        visualize_img(img, bright_augmented)\n",
        "\n",
        "    if binary:\n",
        "      binary_augmented = binarization_img(img, thresh=150, maxval = 255)\n",
        "      if save_file:\n",
        "        np.savez(f'{BINARIZED_FOLDER_PATH}binary_augmented_{bi_1}')\n",
        "        print(f'binary_augmented_{bi_1} created')\n",
        "        bi_1 += 1\n",
        "\n",
        "      if visualize:\n",
        "        visualize_img(img, binary_augmented)\n",
        "\n",
        "      print('\\n')"
      ]
    },
    {
      "cell_type": "code",
      "execution_count": null,
      "id": "6f95b8b6",
      "metadata": {},
      "outputs": [],
      "source": [
        "data_augmentation(X_train, random_crop=False, \n",
        "                           rotate=False, \n",
        "                           flip=True, \n",
        "                           visualize=False, \n",
        "                           bright=True, \n",
        "                           binary=True, \n",
        "                           save_file=True)"
      ]
    },
    {
      "cell_type": "markdown",
      "id": "UTeJ4wvqOiQH",
      "metadata": {
        "id": "UTeJ4wvqOiQH"
      },
      "source": [
        "## Tolerances and new labelling"
      ]
    },
    {
      "cell_type": "code",
      "execution_count": 34,
      "id": "pYdoNM7ZOrcC",
      "metadata": {
        "id": "pYdoNM7ZOrcC"
      },
      "outputs": [],
      "source": [
        "error_tolerances = {'challenge': [0.30, 0.40, 0.50, 0.60, 0.70],\n",
        "                    'play': [0.15, 0.20, 0.25, 0.30, 0.35],\n",
        "                    'throwin': [0.15, 0.20, 0.25, 0.30, 0.35]\n",
        "}"
      ]
    },
    {
      "cell_type": "code",
      "execution_count": 45,
      "id": "-hQYqAkuPfDM",
      "metadata": {
        "id": "-hQYqAkuPfDM"
      },
      "outputs": [],
      "source": [
        "events = [event for event in error_tolerances.keys()]"
      ]
    },
    {
      "cell_type": "code",
      "execution_count": 49,
      "id": "5KuXDVAdPt-9",
      "metadata": {
        "id": "5KuXDVAdPt-9"
      },
      "outputs": [],
      "source": [
        "df, df_events = create_df_events()"
      ]
    },
    {
      "cell_type": "code",
      "execution_count": 50,
      "id": "TGBRYnBJQRCb",
      "metadata": {
        "colab": {
          "base_uri": "https://localhost:8080/",
          "height": 424
        },
        "id": "TGBRYnBJQRCb",
        "outputId": "9b963f98-66bf-4897-89ec-4e7833639d1e"
      },
      "outputs": [
        {
          "data": {
            "text/html": [
              "\n",
              "  <div id=\"df-72001d5c-b60d-4536-95a8-62805816aeee\">\n",
              "    <div class=\"colab-df-container\">\n",
              "      <div>\n",
              "<style scoped>\n",
              "    .dataframe tbody tr th:only-of-type {\n",
              "        vertical-align: middle;\n",
              "    }\n",
              "\n",
              "    .dataframe tbody tr th {\n",
              "        vertical-align: top;\n",
              "    }\n",
              "\n",
              "    .dataframe thead th {\n",
              "        text-align: right;\n",
              "    }\n",
              "</style>\n",
              "<table border=\"1\" class=\"dataframe\">\n",
              "  <thead>\n",
              "    <tr style=\"text-align: right;\">\n",
              "      <th></th>\n",
              "      <th>video_id</th>\n",
              "      <th>time</th>\n",
              "      <th>event</th>\n",
              "      <th>event_attributes</th>\n",
              "    </tr>\n",
              "  </thead>\n",
              "  <tbody>\n",
              "    <tr>\n",
              "      <th>0</th>\n",
              "      <td>1606b0e6_0</td>\n",
              "      <td>200.265822</td>\n",
              "      <td>start</td>\n",
              "      <td>NaN</td>\n",
              "    </tr>\n",
              "    <tr>\n",
              "      <th>1</th>\n",
              "      <td>1606b0e6_0</td>\n",
              "      <td>201.150000</td>\n",
              "      <td>challenge</td>\n",
              "      <td>['ball_action_forced']</td>\n",
              "    </tr>\n",
              "    <tr>\n",
              "      <th>2</th>\n",
              "      <td>1606b0e6_0</td>\n",
              "      <td>202.765822</td>\n",
              "      <td>end</td>\n",
              "      <td>NaN</td>\n",
              "    </tr>\n",
              "    <tr>\n",
              "      <th>3</th>\n",
              "      <td>1606b0e6_0</td>\n",
              "      <td>210.124111</td>\n",
              "      <td>start</td>\n",
              "      <td>NaN</td>\n",
              "    </tr>\n",
              "    <tr>\n",
              "      <th>4</th>\n",
              "      <td>1606b0e6_0</td>\n",
              "      <td>210.870000</td>\n",
              "      <td>challenge</td>\n",
              "      <td>['opponent_dispossessed']</td>\n",
              "    </tr>\n",
              "    <tr>\n",
              "      <th>...</th>\n",
              "      <td>...</td>\n",
              "      <td>...</td>\n",
              "      <td>...</td>\n",
              "      <td>...</td>\n",
              "    </tr>\n",
              "    <tr>\n",
              "      <th>11213</th>\n",
              "      <td>ecf251d4_0</td>\n",
              "      <td>3056.587000</td>\n",
              "      <td>challenge</td>\n",
              "      <td>['opponent_dispossessed']</td>\n",
              "    </tr>\n",
              "    <tr>\n",
              "      <th>11214</th>\n",
              "      <td>ecf251d4_0</td>\n",
              "      <td>3058.072895</td>\n",
              "      <td>end</td>\n",
              "      <td>NaN</td>\n",
              "    </tr>\n",
              "    <tr>\n",
              "      <th>11215</th>\n",
              "      <td>ecf251d4_0</td>\n",
              "      <td>3068.280519</td>\n",
              "      <td>start</td>\n",
              "      <td>NaN</td>\n",
              "    </tr>\n",
              "    <tr>\n",
              "      <th>11216</th>\n",
              "      <td>ecf251d4_0</td>\n",
              "      <td>3069.547000</td>\n",
              "      <td>throwin</td>\n",
              "      <td>['pass']</td>\n",
              "    </tr>\n",
              "    <tr>\n",
              "      <th>11217</th>\n",
              "      <td>ecf251d4_0</td>\n",
              "      <td>3070.780519</td>\n",
              "      <td>end</td>\n",
              "      <td>NaN</td>\n",
              "    </tr>\n",
              "  </tbody>\n",
              "</table>\n",
              "<p>11218 rows × 4 columns</p>\n",
              "</div>\n",
              "      <button class=\"colab-df-convert\" onclick=\"convertToInteractive('df-72001d5c-b60d-4536-95a8-62805816aeee')\"\n",
              "              title=\"Convert this dataframe to an interactive table.\"\n",
              "              style=\"display:none;\">\n",
              "        \n",
              "  <svg xmlns=\"http://www.w3.org/2000/svg\" height=\"24px\"viewBox=\"0 0 24 24\"\n",
              "       width=\"24px\">\n",
              "    <path d=\"M0 0h24v24H0V0z\" fill=\"none\"/>\n",
              "    <path d=\"M18.56 5.44l.94 2.06.94-2.06 2.06-.94-2.06-.94-.94-2.06-.94 2.06-2.06.94zm-11 1L8.5 8.5l.94-2.06 2.06-.94-2.06-.94L8.5 2.5l-.94 2.06-2.06.94zm10 10l.94 2.06.94-2.06 2.06-.94-2.06-.94-.94-2.06-.94 2.06-2.06.94z\"/><path d=\"M17.41 7.96l-1.37-1.37c-.4-.4-.92-.59-1.43-.59-.52 0-1.04.2-1.43.59L10.3 9.45l-7.72 7.72c-.78.78-.78 2.05 0 2.83L4 21.41c.39.39.9.59 1.41.59.51 0 1.02-.2 1.41-.59l7.78-7.78 2.81-2.81c.8-.78.8-2.07 0-2.86zM5.41 20L4 18.59l7.72-7.72 1.47 1.35L5.41 20z\"/>\n",
              "  </svg>\n",
              "      </button>\n",
              "      \n",
              "  <style>\n",
              "    .colab-df-container {\n",
              "      display:flex;\n",
              "      flex-wrap:wrap;\n",
              "      gap: 12px;\n",
              "    }\n",
              "\n",
              "    .colab-df-convert {\n",
              "      background-color: #E8F0FE;\n",
              "      border: none;\n",
              "      border-radius: 50%;\n",
              "      cursor: pointer;\n",
              "      display: none;\n",
              "      fill: #1967D2;\n",
              "      height: 32px;\n",
              "      padding: 0 0 0 0;\n",
              "      width: 32px;\n",
              "    }\n",
              "\n",
              "    .colab-df-convert:hover {\n",
              "      background-color: #E2EBFA;\n",
              "      box-shadow: 0px 1px 2px rgba(60, 64, 67, 0.3), 0px 1px 3px 1px rgba(60, 64, 67, 0.15);\n",
              "      fill: #174EA6;\n",
              "    }\n",
              "\n",
              "    [theme=dark] .colab-df-convert {\n",
              "      background-color: #3B4455;\n",
              "      fill: #D2E3FC;\n",
              "    }\n",
              "\n",
              "    [theme=dark] .colab-df-convert:hover {\n",
              "      background-color: #434B5C;\n",
              "      box-shadow: 0px 1px 3px 1px rgba(0, 0, 0, 0.15);\n",
              "      filter: drop-shadow(0px 1px 2px rgba(0, 0, 0, 0.3));\n",
              "      fill: #FFFFFF;\n",
              "    }\n",
              "  </style>\n",
              "\n",
              "      <script>\n",
              "        const buttonEl =\n",
              "          document.querySelector('#df-72001d5c-b60d-4536-95a8-62805816aeee button.colab-df-convert');\n",
              "        buttonEl.style.display =\n",
              "          google.colab.kernel.accessAllowed ? 'block' : 'none';\n",
              "\n",
              "        async function convertToInteractive(key) {\n",
              "          const element = document.querySelector('#df-72001d5c-b60d-4536-95a8-62805816aeee');\n",
              "          const dataTable =\n",
              "            await google.colab.kernel.invokeFunction('convertToInteractive',\n",
              "                                                     [key], {});\n",
              "          if (!dataTable) return;\n",
              "\n",
              "          const docLinkHtml = 'Like what you see? Visit the ' +\n",
              "            '<a target=\"_blank\" href=https://colab.research.google.com/notebooks/data_table.ipynb>data table notebook</a>'\n",
              "            + ' to learn more about interactive tables.';\n",
              "          element.innerHTML = '';\n",
              "          dataTable['output_type'] = 'display_data';\n",
              "          await google.colab.output.renderOutput(dataTable, element);\n",
              "          const docLink = document.createElement('div');\n",
              "          docLink.innerHTML = docLinkHtml;\n",
              "          element.appendChild(docLink);\n",
              "        }\n",
              "      </script>\n",
              "    </div>\n",
              "  </div>\n",
              "  "
            ],
            "text/plain": [
              "         video_id         time      event           event_attributes\n",
              "0      1606b0e6_0   200.265822      start                        NaN\n",
              "1      1606b0e6_0   201.150000  challenge     ['ball_action_forced']\n",
              "2      1606b0e6_0   202.765822        end                        NaN\n",
              "3      1606b0e6_0   210.124111      start                        NaN\n",
              "4      1606b0e6_0   210.870000  challenge  ['opponent_dispossessed']\n",
              "...           ...          ...        ...                        ...\n",
              "11213  ecf251d4_0  3056.587000  challenge  ['opponent_dispossessed']\n",
              "11214  ecf251d4_0  3058.072895        end                        NaN\n",
              "11215  ecf251d4_0  3068.280519      start                        NaN\n",
              "11216  ecf251d4_0  3069.547000    throwin                   ['pass']\n",
              "11217  ecf251d4_0  3070.780519        end                        NaN\n",
              "\n",
              "[11218 rows x 4 columns]"
            ]
          },
          "execution_count": 50,
          "metadata": {},
          "output_type": "execute_result"
        }
      ],
      "source": [
        "df"
      ]
    },
    {
      "cell_type": "code",
      "execution_count": 65,
      "id": "V85IWLUHS1G0",
      "metadata": {
        "id": "V85IWLUHS1G0"
      },
      "outputs": [],
      "source": [
        "new_events = list()\n",
        "INDEX_TOL = 0\n",
        "for row in df.values:\n",
        "  if row[2] in error_tolerances:\n",
        "    tolerance = error_tolerances[row[2]][INDEX_TOL] / 2\n",
        "    new_events.append([row[0], row[1] - tolerance, 'start_' + row[2], row[3]])\n",
        "    new_events.append([row[0], row[1] + tolerance, 'end_' + row[2], row[3]])\n",
        "df = pd.concat([df, pd.DataFrame(new_events, columns=df.columns)])\n",
        "df = df[~df['event'].isin(events)]\n",
        "df = df.sort_values(['video_id', 'time']).reset_index(drop=True)"
      ]
    },
    {
      "cell_type": "code",
      "execution_count": 66,
      "id": "Ge8U_yuCQ3og",
      "metadata": {
        "colab": {
          "base_uri": "https://localhost:8080/",
          "height": 424
        },
        "id": "Ge8U_yuCQ3og",
        "outputId": "6f3907f7-41d6-4590-b656-02263990c940"
      },
      "outputs": [
        {
          "data": {
            "text/html": [
              "\n",
              "  <div id=\"df-0bc3b363-0e54-46a8-808c-90709ad93034\">\n",
              "    <div class=\"colab-df-container\">\n",
              "      <div>\n",
              "<style scoped>\n",
              "    .dataframe tbody tr th:only-of-type {\n",
              "        vertical-align: middle;\n",
              "    }\n",
              "\n",
              "    .dataframe tbody tr th {\n",
              "        vertical-align: top;\n",
              "    }\n",
              "\n",
              "    .dataframe thead th {\n",
              "        text-align: right;\n",
              "    }\n",
              "</style>\n",
              "<table border=\"1\" class=\"dataframe\">\n",
              "  <thead>\n",
              "    <tr style=\"text-align: right;\">\n",
              "      <th></th>\n",
              "      <th>video_id</th>\n",
              "      <th>time</th>\n",
              "      <th>event</th>\n",
              "      <th>event_attributes</th>\n",
              "    </tr>\n",
              "  </thead>\n",
              "  <tbody>\n",
              "    <tr>\n",
              "      <th>0</th>\n",
              "      <td>1606b0e6_0</td>\n",
              "      <td>200.265822</td>\n",
              "      <td>start</td>\n",
              "      <td>NaN</td>\n",
              "    </tr>\n",
              "    <tr>\n",
              "      <th>1</th>\n",
              "      <td>1606b0e6_0</td>\n",
              "      <td>201.000000</td>\n",
              "      <td>start_challenge</td>\n",
              "      <td>['ball_action_forced']</td>\n",
              "    </tr>\n",
              "    <tr>\n",
              "      <th>2</th>\n",
              "      <td>1606b0e6_0</td>\n",
              "      <td>201.300000</td>\n",
              "      <td>end_challenge</td>\n",
              "      <td>['ball_action_forced']</td>\n",
              "    </tr>\n",
              "    <tr>\n",
              "      <th>3</th>\n",
              "      <td>1606b0e6_0</td>\n",
              "      <td>202.765822</td>\n",
              "      <td>end</td>\n",
              "      <td>NaN</td>\n",
              "    </tr>\n",
              "    <tr>\n",
              "      <th>4</th>\n",
              "      <td>1606b0e6_0</td>\n",
              "      <td>210.124111</td>\n",
              "      <td>start</td>\n",
              "      <td>NaN</td>\n",
              "    </tr>\n",
              "    <tr>\n",
              "      <th>...</th>\n",
              "      <td>...</td>\n",
              "      <td>...</td>\n",
              "      <td>...</td>\n",
              "      <td>...</td>\n",
              "    </tr>\n",
              "    <tr>\n",
              "      <th>15595</th>\n",
              "      <td>ecf251d4_0</td>\n",
              "      <td>3058.072895</td>\n",
              "      <td>end</td>\n",
              "      <td>NaN</td>\n",
              "    </tr>\n",
              "    <tr>\n",
              "      <th>15596</th>\n",
              "      <td>ecf251d4_0</td>\n",
              "      <td>3068.280519</td>\n",
              "      <td>start</td>\n",
              "      <td>NaN</td>\n",
              "    </tr>\n",
              "    <tr>\n",
              "      <th>15597</th>\n",
              "      <td>ecf251d4_0</td>\n",
              "      <td>3069.472000</td>\n",
              "      <td>start_throwin</td>\n",
              "      <td>['pass']</td>\n",
              "    </tr>\n",
              "    <tr>\n",
              "      <th>15598</th>\n",
              "      <td>ecf251d4_0</td>\n",
              "      <td>3069.622000</td>\n",
              "      <td>end_throwin</td>\n",
              "      <td>['pass']</td>\n",
              "    </tr>\n",
              "    <tr>\n",
              "      <th>15599</th>\n",
              "      <td>ecf251d4_0</td>\n",
              "      <td>3070.780519</td>\n",
              "      <td>end</td>\n",
              "      <td>NaN</td>\n",
              "    </tr>\n",
              "  </tbody>\n",
              "</table>\n",
              "<p>15600 rows × 4 columns</p>\n",
              "</div>\n",
              "      <button class=\"colab-df-convert\" onclick=\"convertToInteractive('df-0bc3b363-0e54-46a8-808c-90709ad93034')\"\n",
              "              title=\"Convert this dataframe to an interactive table.\"\n",
              "              style=\"display:none;\">\n",
              "        \n",
              "  <svg xmlns=\"http://www.w3.org/2000/svg\" height=\"24px\"viewBox=\"0 0 24 24\"\n",
              "       width=\"24px\">\n",
              "    <path d=\"M0 0h24v24H0V0z\" fill=\"none\"/>\n",
              "    <path d=\"M18.56 5.44l.94 2.06.94-2.06 2.06-.94-2.06-.94-.94-2.06-.94 2.06-2.06.94zm-11 1L8.5 8.5l.94-2.06 2.06-.94-2.06-.94L8.5 2.5l-.94 2.06-2.06.94zm10 10l.94 2.06.94-2.06 2.06-.94-2.06-.94-.94-2.06-.94 2.06-2.06.94z\"/><path d=\"M17.41 7.96l-1.37-1.37c-.4-.4-.92-.59-1.43-.59-.52 0-1.04.2-1.43.59L10.3 9.45l-7.72 7.72c-.78.78-.78 2.05 0 2.83L4 21.41c.39.39.9.59 1.41.59.51 0 1.02-.2 1.41-.59l7.78-7.78 2.81-2.81c.8-.78.8-2.07 0-2.86zM5.41 20L4 18.59l7.72-7.72 1.47 1.35L5.41 20z\"/>\n",
              "  </svg>\n",
              "      </button>\n",
              "      \n",
              "  <style>\n",
              "    .colab-df-container {\n",
              "      display:flex;\n",
              "      flex-wrap:wrap;\n",
              "      gap: 12px;\n",
              "    }\n",
              "\n",
              "    .colab-df-convert {\n",
              "      background-color: #E8F0FE;\n",
              "      border: none;\n",
              "      border-radius: 50%;\n",
              "      cursor: pointer;\n",
              "      display: none;\n",
              "      fill: #1967D2;\n",
              "      height: 32px;\n",
              "      padding: 0 0 0 0;\n",
              "      width: 32px;\n",
              "    }\n",
              "\n",
              "    .colab-df-convert:hover {\n",
              "      background-color: #E2EBFA;\n",
              "      box-shadow: 0px 1px 2px rgba(60, 64, 67, 0.3), 0px 1px 3px 1px rgba(60, 64, 67, 0.15);\n",
              "      fill: #174EA6;\n",
              "    }\n",
              "\n",
              "    [theme=dark] .colab-df-convert {\n",
              "      background-color: #3B4455;\n",
              "      fill: #D2E3FC;\n",
              "    }\n",
              "\n",
              "    [theme=dark] .colab-df-convert:hover {\n",
              "      background-color: #434B5C;\n",
              "      box-shadow: 0px 1px 3px 1px rgba(0, 0, 0, 0.15);\n",
              "      filter: drop-shadow(0px 1px 2px rgba(0, 0, 0, 0.3));\n",
              "      fill: #FFFFFF;\n",
              "    }\n",
              "  </style>\n",
              "\n",
              "      <script>\n",
              "        const buttonEl =\n",
              "          document.querySelector('#df-0bc3b363-0e54-46a8-808c-90709ad93034 button.colab-df-convert');\n",
              "        buttonEl.style.display =\n",
              "          google.colab.kernel.accessAllowed ? 'block' : 'none';\n",
              "\n",
              "        async function convertToInteractive(key) {\n",
              "          const element = document.querySelector('#df-0bc3b363-0e54-46a8-808c-90709ad93034');\n",
              "          const dataTable =\n",
              "            await google.colab.kernel.invokeFunction('convertToInteractive',\n",
              "                                                     [key], {});\n",
              "          if (!dataTable) return;\n",
              "\n",
              "          const docLinkHtml = 'Like what you see? Visit the ' +\n",
              "            '<a target=\"_blank\" href=https://colab.research.google.com/notebooks/data_table.ipynb>data table notebook</a>'\n",
              "            + ' to learn more about interactive tables.';\n",
              "          element.innerHTML = '';\n",
              "          dataTable['output_type'] = 'display_data';\n",
              "          await google.colab.output.renderOutput(dataTable, element);\n",
              "          const docLink = document.createElement('div');\n",
              "          docLink.innerHTML = docLinkHtml;\n",
              "          element.appendChild(docLink);\n",
              "        }\n",
              "      </script>\n",
              "    </div>\n",
              "  </div>\n",
              "  "
            ],
            "text/plain": [
              "         video_id         time            event        event_attributes\n",
              "0      1606b0e6_0   200.265822            start                     NaN\n",
              "1      1606b0e6_0   201.000000  start_challenge  ['ball_action_forced']\n",
              "2      1606b0e6_0   201.300000    end_challenge  ['ball_action_forced']\n",
              "3      1606b0e6_0   202.765822              end                     NaN\n",
              "4      1606b0e6_0   210.124111            start                     NaN\n",
              "...           ...          ...              ...                     ...\n",
              "15595  ecf251d4_0  3058.072895              end                     NaN\n",
              "15596  ecf251d4_0  3068.280519            start                     NaN\n",
              "15597  ecf251d4_0  3069.472000    start_throwin                ['pass']\n",
              "15598  ecf251d4_0  3069.622000      end_throwin                ['pass']\n",
              "15599  ecf251d4_0  3070.780519              end                     NaN\n",
              "\n",
              "[15600 rows x 4 columns]"
            ]
          },
          "execution_count": 66,
          "metadata": {},
          "output_type": "execute_result"
        }
      ],
      "source": [
        "df"
      ]
    },
    {
      "cell_type": "code",
      "execution_count": null,
      "id": "pmjlSHBgUsaZ",
      "metadata": {
        "id": "pmjlSHBgUsaZ"
      },
      "outputs": [],
      "source": []
    }
  ],
  "metadata": {
    "colab": {
      "collapsed_sections": [
        "GpAsh3Bc7wes",
        "x39a1Wl-78KJ",
        "lnLdhmIlxg6m",
        "kQmHfD6nR2Ex",
        "AMIv_lVRFFEE"
      ],
      "machine_shape": "hm",
      "provenance": []
    },
    "gpuClass": "standard",
    "kernelspec": {
      "display_name": "Python 3 (ipykernel)",
      "language": "python",
      "name": "python3"
    },
    "language_info": {
      "codemirror_mode": {
        "name": "ipython",
        "version": 3
      },
      "file_extension": ".py",
      "mimetype": "text/x-python",
      "name": "python",
      "nbconvert_exporter": "python",
      "pygments_lexer": "ipython3",
      "version": "3.9.6"
    }
  },
  "nbformat": 4,
  "nbformat_minor": 5
}
