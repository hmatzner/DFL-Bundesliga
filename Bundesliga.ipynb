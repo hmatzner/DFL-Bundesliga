{
  "nbformat": 4,
  "nbformat_minor": 0,
  "metadata": {
    "colab": {
      "provenance": [],
      "collapsed_sections": []
    },
    "kernelspec": {
      "name": "python3",
      "display_name": "Python 3"
    },
    "language_info": {
      "name": "python"
    }
  },
  "cells": [
    {
      "cell_type": "code",
      "execution_count": 1,
      "metadata": {
        "id": "AWoxk3bMRxuO"
      },
      "outputs": [],
      "source": [
        "from google.colab import drive\n",
        "import os\n",
        "import pandas as pd"
      ]
    },
    {
      "cell_type": "code",
      "source": [
        "drive.mount('/content/drive')"
      ],
      "metadata": {
        "colab": {
          "base_uri": "https://localhost:8080/"
        },
        "id": "G0PArAMrTPy0",
        "outputId": "0c794e30-37c1-4ad9-f955-afe28c7b9b4e"
      },
      "execution_count": 2,
      "outputs": [
        {
          "output_type": "stream",
          "name": "stdout",
          "text": [
            "Mounted at /content/drive\n"
          ]
        }
      ]
    },
    {
      "cell_type": "code",
      "source": [
        "! ls '/content/drive/'"
      ],
      "metadata": {
        "colab": {
          "base_uri": "https://localhost:8080/"
        },
        "id": "Gh0Wjjk_TTj6",
        "outputId": "ff014fa8-c4c2-461e-9c7a-2a4126910455"
      },
      "execution_count": 3,
      "outputs": [
        {
          "output_type": "stream",
          "name": "stdout",
          "text": [
            "MyDrive\n"
          ]
        }
      ]
    },
    {
      "cell_type": "code",
      "source": [
        "os.chdir('/content/drive/MyDrive/Bundesliga')"
      ],
      "metadata": {
        "id": "bxcL8raA7hpN"
      },
      "execution_count": 5,
      "outputs": []
    },
    {
      "cell_type": "code",
      "source": [
        "! pwd"
      ],
      "metadata": {
        "colab": {
          "base_uri": "https://localhost:8080/"
        },
        "id": "3gsp9XXC7vxu",
        "outputId": "78efcdf1-68c1-41b7-d89d-1d2062582727"
      },
      "execution_count": 6,
      "outputs": [
        {
          "output_type": "stream",
          "name": "stdout",
          "text": [
            "/content/drive/MyDrive/Bundesliga\n"
          ]
        }
      ]
    },
    {
      "cell_type": "code",
      "source": [
        "# ! unzip dfl-bundesliga-data-shootout.zip"
      ],
      "metadata": {
        "id": "pXK14Y4q8LTL"
      },
      "execution_count": 7,
      "outputs": []
    },
    {
      "cell_type": "code",
      "source": [
        "df_train = pd.read_csv('/content/drive/MyDrive/Bundesliga/train.csv')"
      ],
      "metadata": {
        "id": "NyJN1Ea68gU9"
      },
      "execution_count": 10,
      "outputs": []
    },
    {
      "cell_type": "code",
      "source": [
        "df_events = df_train[~df_train['event_attributes'].isna()]\n",
        "df_events"
      ],
      "metadata": {
        "colab": {
          "base_uri": "https://localhost:8080/",
          "height": 424
        },
        "id": "mbQvrIB68gXW",
        "outputId": "ff03a260-aa59-424d-ca8f-99139742c632"
      },
      "execution_count": 18,
      "outputs": [
        {
          "output_type": "execute_result",
          "data": {
            "text/plain": [
              "         video_id      time      event           event_attributes\n",
              "1      1606b0e6_0   201.150  challenge     ['ball_action_forced']\n",
              "4      1606b0e6_0   210.870  challenge  ['opponent_dispossessed']\n",
              "7      1606b0e6_0   219.230    throwin                   ['pass']\n",
              "10     1606b0e6_0   224.430       play       ['pass', 'openplay']\n",
              "13     1606b0e6_0   229.390       play       ['pass', 'openplay']\n",
              "...           ...       ...        ...                        ...\n",
              "11206  ecf251d4_0  3041.347       play       ['pass', 'openplay']\n",
              "11209  ecf251d4_0  3050.347       play       ['pass', 'openplay']\n",
              "11210  ecf251d4_0  3053.067       play       ['pass', 'openplay']\n",
              "11213  ecf251d4_0  3056.587  challenge  ['opponent_dispossessed']\n",
              "11216  ecf251d4_0  3069.547    throwin                   ['pass']\n",
              "\n",
              "[4382 rows x 4 columns]"
            ],
            "text/html": [
              "\n",
              "  <div id=\"df-2ce7dd21-9726-4c08-a770-e20c49f8462a\">\n",
              "    <div class=\"colab-df-container\">\n",
              "      <div>\n",
              "<style scoped>\n",
              "    .dataframe tbody tr th:only-of-type {\n",
              "        vertical-align: middle;\n",
              "    }\n",
              "\n",
              "    .dataframe tbody tr th {\n",
              "        vertical-align: top;\n",
              "    }\n",
              "\n",
              "    .dataframe thead th {\n",
              "        text-align: right;\n",
              "    }\n",
              "</style>\n",
              "<table border=\"1\" class=\"dataframe\">\n",
              "  <thead>\n",
              "    <tr style=\"text-align: right;\">\n",
              "      <th></th>\n",
              "      <th>video_id</th>\n",
              "      <th>time</th>\n",
              "      <th>event</th>\n",
              "      <th>event_attributes</th>\n",
              "    </tr>\n",
              "  </thead>\n",
              "  <tbody>\n",
              "    <tr>\n",
              "      <th>1</th>\n",
              "      <td>1606b0e6_0</td>\n",
              "      <td>201.150</td>\n",
              "      <td>challenge</td>\n",
              "      <td>['ball_action_forced']</td>\n",
              "    </tr>\n",
              "    <tr>\n",
              "      <th>4</th>\n",
              "      <td>1606b0e6_0</td>\n",
              "      <td>210.870</td>\n",
              "      <td>challenge</td>\n",
              "      <td>['opponent_dispossessed']</td>\n",
              "    </tr>\n",
              "    <tr>\n",
              "      <th>7</th>\n",
              "      <td>1606b0e6_0</td>\n",
              "      <td>219.230</td>\n",
              "      <td>throwin</td>\n",
              "      <td>['pass']</td>\n",
              "    </tr>\n",
              "    <tr>\n",
              "      <th>10</th>\n",
              "      <td>1606b0e6_0</td>\n",
              "      <td>224.430</td>\n",
              "      <td>play</td>\n",
              "      <td>['pass', 'openplay']</td>\n",
              "    </tr>\n",
              "    <tr>\n",
              "      <th>13</th>\n",
              "      <td>1606b0e6_0</td>\n",
              "      <td>229.390</td>\n",
              "      <td>play</td>\n",
              "      <td>['pass', 'openplay']</td>\n",
              "    </tr>\n",
              "    <tr>\n",
              "      <th>...</th>\n",
              "      <td>...</td>\n",
              "      <td>...</td>\n",
              "      <td>...</td>\n",
              "      <td>...</td>\n",
              "    </tr>\n",
              "    <tr>\n",
              "      <th>11206</th>\n",
              "      <td>ecf251d4_0</td>\n",
              "      <td>3041.347</td>\n",
              "      <td>play</td>\n",
              "      <td>['pass', 'openplay']</td>\n",
              "    </tr>\n",
              "    <tr>\n",
              "      <th>11209</th>\n",
              "      <td>ecf251d4_0</td>\n",
              "      <td>3050.347</td>\n",
              "      <td>play</td>\n",
              "      <td>['pass', 'openplay']</td>\n",
              "    </tr>\n",
              "    <tr>\n",
              "      <th>11210</th>\n",
              "      <td>ecf251d4_0</td>\n",
              "      <td>3053.067</td>\n",
              "      <td>play</td>\n",
              "      <td>['pass', 'openplay']</td>\n",
              "    </tr>\n",
              "    <tr>\n",
              "      <th>11213</th>\n",
              "      <td>ecf251d4_0</td>\n",
              "      <td>3056.587</td>\n",
              "      <td>challenge</td>\n",
              "      <td>['opponent_dispossessed']</td>\n",
              "    </tr>\n",
              "    <tr>\n",
              "      <th>11216</th>\n",
              "      <td>ecf251d4_0</td>\n",
              "      <td>3069.547</td>\n",
              "      <td>throwin</td>\n",
              "      <td>['pass']</td>\n",
              "    </tr>\n",
              "  </tbody>\n",
              "</table>\n",
              "<p>4382 rows × 4 columns</p>\n",
              "</div>\n",
              "      <button class=\"colab-df-convert\" onclick=\"convertToInteractive('df-2ce7dd21-9726-4c08-a770-e20c49f8462a')\"\n",
              "              title=\"Convert this dataframe to an interactive table.\"\n",
              "              style=\"display:none;\">\n",
              "        \n",
              "  <svg xmlns=\"http://www.w3.org/2000/svg\" height=\"24px\"viewBox=\"0 0 24 24\"\n",
              "       width=\"24px\">\n",
              "    <path d=\"M0 0h24v24H0V0z\" fill=\"none\"/>\n",
              "    <path d=\"M18.56 5.44l.94 2.06.94-2.06 2.06-.94-2.06-.94-.94-2.06-.94 2.06-2.06.94zm-11 1L8.5 8.5l.94-2.06 2.06-.94-2.06-.94L8.5 2.5l-.94 2.06-2.06.94zm10 10l.94 2.06.94-2.06 2.06-.94-2.06-.94-.94-2.06-.94 2.06-2.06.94z\"/><path d=\"M17.41 7.96l-1.37-1.37c-.4-.4-.92-.59-1.43-.59-.52 0-1.04.2-1.43.59L10.3 9.45l-7.72 7.72c-.78.78-.78 2.05 0 2.83L4 21.41c.39.39.9.59 1.41.59.51 0 1.02-.2 1.41-.59l7.78-7.78 2.81-2.81c.8-.78.8-2.07 0-2.86zM5.41 20L4 18.59l7.72-7.72 1.47 1.35L5.41 20z\"/>\n",
              "  </svg>\n",
              "      </button>\n",
              "      \n",
              "  <style>\n",
              "    .colab-df-container {\n",
              "      display:flex;\n",
              "      flex-wrap:wrap;\n",
              "      gap: 12px;\n",
              "    }\n",
              "\n",
              "    .colab-df-convert {\n",
              "      background-color: #E8F0FE;\n",
              "      border: none;\n",
              "      border-radius: 50%;\n",
              "      cursor: pointer;\n",
              "      display: none;\n",
              "      fill: #1967D2;\n",
              "      height: 32px;\n",
              "      padding: 0 0 0 0;\n",
              "      width: 32px;\n",
              "    }\n",
              "\n",
              "    .colab-df-convert:hover {\n",
              "      background-color: #E2EBFA;\n",
              "      box-shadow: 0px 1px 2px rgba(60, 64, 67, 0.3), 0px 1px 3px 1px rgba(60, 64, 67, 0.15);\n",
              "      fill: #174EA6;\n",
              "    }\n",
              "\n",
              "    [theme=dark] .colab-df-convert {\n",
              "      background-color: #3B4455;\n",
              "      fill: #D2E3FC;\n",
              "    }\n",
              "\n",
              "    [theme=dark] .colab-df-convert:hover {\n",
              "      background-color: #434B5C;\n",
              "      box-shadow: 0px 1px 3px 1px rgba(0, 0, 0, 0.15);\n",
              "      filter: drop-shadow(0px 1px 2px rgba(0, 0, 0, 0.3));\n",
              "      fill: #FFFFFF;\n",
              "    }\n",
              "  </style>\n",
              "\n",
              "      <script>\n",
              "        const buttonEl =\n",
              "          document.querySelector('#df-2ce7dd21-9726-4c08-a770-e20c49f8462a button.colab-df-convert');\n",
              "        buttonEl.style.display =\n",
              "          google.colab.kernel.accessAllowed ? 'block' : 'none';\n",
              "\n",
              "        async function convertToInteractive(key) {\n",
              "          const element = document.querySelector('#df-2ce7dd21-9726-4c08-a770-e20c49f8462a');\n",
              "          const dataTable =\n",
              "            await google.colab.kernel.invokeFunction('convertToInteractive',\n",
              "                                                     [key], {});\n",
              "          if (!dataTable) return;\n",
              "\n",
              "          const docLinkHtml = 'Like what you see? Visit the ' +\n",
              "            '<a target=\"_blank\" href=https://colab.research.google.com/notebooks/data_table.ipynb>data table notebook</a>'\n",
              "            + ' to learn more about interactive tables.';\n",
              "          element.innerHTML = '';\n",
              "          dataTable['output_type'] = 'display_data';\n",
              "          await google.colab.output.renderOutput(dataTable, element);\n",
              "          const docLink = document.createElement('div');\n",
              "          docLink.innerHTML = docLinkHtml;\n",
              "          element.appendChild(docLink);\n",
              "        }\n",
              "      </script>\n",
              "    </div>\n",
              "  </div>\n",
              "  "
            ]
          },
          "metadata": {},
          "execution_count": 18
        }
      ]
    },
    {
      "cell_type": "code",
      "source": [
        "df_pass = df_train[df_train['event_attributes'].str[:6] == \"['pass\"]\n",
        "df_pass"
      ],
      "metadata": {
        "colab": {
          "base_uri": "https://localhost:8080/",
          "height": 424
        },
        "id": "cAQOQSr28gZz",
        "outputId": "26541195-58e8-43e5-9005-b2407e0512b6"
      },
      "execution_count": 19,
      "outputs": [
        {
          "output_type": "execute_result",
          "data": {
            "text/plain": [
              "         video_id      time    event      event_attributes\n",
              "7      1606b0e6_0   219.230  throwin              ['pass']\n",
              "10     1606b0e6_0   224.430     play  ['pass', 'openplay']\n",
              "13     1606b0e6_0   229.390     play  ['pass', 'openplay']\n",
              "16     1606b0e6_0   236.710     play  ['pass', 'openplay']\n",
              "17     1606b0e6_0   239.350     play  ['pass', 'openplay']\n",
              "...           ...       ...      ...                   ...\n",
              "11203  ecf251d4_0  3032.587     play  ['pass', 'openplay']\n",
              "11206  ecf251d4_0  3041.347     play  ['pass', 'openplay']\n",
              "11209  ecf251d4_0  3050.347     play  ['pass', 'openplay']\n",
              "11210  ecf251d4_0  3053.067     play  ['pass', 'openplay']\n",
              "11216  ecf251d4_0  3069.547  throwin              ['pass']\n",
              "\n",
              "[3622 rows x 4 columns]"
            ],
            "text/html": [
              "\n",
              "  <div id=\"df-47fc84fb-2c5f-4cf4-b844-e4c7656618a5\">\n",
              "    <div class=\"colab-df-container\">\n",
              "      <div>\n",
              "<style scoped>\n",
              "    .dataframe tbody tr th:only-of-type {\n",
              "        vertical-align: middle;\n",
              "    }\n",
              "\n",
              "    .dataframe tbody tr th {\n",
              "        vertical-align: top;\n",
              "    }\n",
              "\n",
              "    .dataframe thead th {\n",
              "        text-align: right;\n",
              "    }\n",
              "</style>\n",
              "<table border=\"1\" class=\"dataframe\">\n",
              "  <thead>\n",
              "    <tr style=\"text-align: right;\">\n",
              "      <th></th>\n",
              "      <th>video_id</th>\n",
              "      <th>time</th>\n",
              "      <th>event</th>\n",
              "      <th>event_attributes</th>\n",
              "    </tr>\n",
              "  </thead>\n",
              "  <tbody>\n",
              "    <tr>\n",
              "      <th>7</th>\n",
              "      <td>1606b0e6_0</td>\n",
              "      <td>219.230</td>\n",
              "      <td>throwin</td>\n",
              "      <td>['pass']</td>\n",
              "    </tr>\n",
              "    <tr>\n",
              "      <th>10</th>\n",
              "      <td>1606b0e6_0</td>\n",
              "      <td>224.430</td>\n",
              "      <td>play</td>\n",
              "      <td>['pass', 'openplay']</td>\n",
              "    </tr>\n",
              "    <tr>\n",
              "      <th>13</th>\n",
              "      <td>1606b0e6_0</td>\n",
              "      <td>229.390</td>\n",
              "      <td>play</td>\n",
              "      <td>['pass', 'openplay']</td>\n",
              "    </tr>\n",
              "    <tr>\n",
              "      <th>16</th>\n",
              "      <td>1606b0e6_0</td>\n",
              "      <td>236.710</td>\n",
              "      <td>play</td>\n",
              "      <td>['pass', 'openplay']</td>\n",
              "    </tr>\n",
              "    <tr>\n",
              "      <th>17</th>\n",
              "      <td>1606b0e6_0</td>\n",
              "      <td>239.350</td>\n",
              "      <td>play</td>\n",
              "      <td>['pass', 'openplay']</td>\n",
              "    </tr>\n",
              "    <tr>\n",
              "      <th>...</th>\n",
              "      <td>...</td>\n",
              "      <td>...</td>\n",
              "      <td>...</td>\n",
              "      <td>...</td>\n",
              "    </tr>\n",
              "    <tr>\n",
              "      <th>11203</th>\n",
              "      <td>ecf251d4_0</td>\n",
              "      <td>3032.587</td>\n",
              "      <td>play</td>\n",
              "      <td>['pass', 'openplay']</td>\n",
              "    </tr>\n",
              "    <tr>\n",
              "      <th>11206</th>\n",
              "      <td>ecf251d4_0</td>\n",
              "      <td>3041.347</td>\n",
              "      <td>play</td>\n",
              "      <td>['pass', 'openplay']</td>\n",
              "    </tr>\n",
              "    <tr>\n",
              "      <th>11209</th>\n",
              "      <td>ecf251d4_0</td>\n",
              "      <td>3050.347</td>\n",
              "      <td>play</td>\n",
              "      <td>['pass', 'openplay']</td>\n",
              "    </tr>\n",
              "    <tr>\n",
              "      <th>11210</th>\n",
              "      <td>ecf251d4_0</td>\n",
              "      <td>3053.067</td>\n",
              "      <td>play</td>\n",
              "      <td>['pass', 'openplay']</td>\n",
              "    </tr>\n",
              "    <tr>\n",
              "      <th>11216</th>\n",
              "      <td>ecf251d4_0</td>\n",
              "      <td>3069.547</td>\n",
              "      <td>throwin</td>\n",
              "      <td>['pass']</td>\n",
              "    </tr>\n",
              "  </tbody>\n",
              "</table>\n",
              "<p>3622 rows × 4 columns</p>\n",
              "</div>\n",
              "      <button class=\"colab-df-convert\" onclick=\"convertToInteractive('df-47fc84fb-2c5f-4cf4-b844-e4c7656618a5')\"\n",
              "              title=\"Convert this dataframe to an interactive table.\"\n",
              "              style=\"display:none;\">\n",
              "        \n",
              "  <svg xmlns=\"http://www.w3.org/2000/svg\" height=\"24px\"viewBox=\"0 0 24 24\"\n",
              "       width=\"24px\">\n",
              "    <path d=\"M0 0h24v24H0V0z\" fill=\"none\"/>\n",
              "    <path d=\"M18.56 5.44l.94 2.06.94-2.06 2.06-.94-2.06-.94-.94-2.06-.94 2.06-2.06.94zm-11 1L8.5 8.5l.94-2.06 2.06-.94-2.06-.94L8.5 2.5l-.94 2.06-2.06.94zm10 10l.94 2.06.94-2.06 2.06-.94-2.06-.94-.94-2.06-.94 2.06-2.06.94z\"/><path d=\"M17.41 7.96l-1.37-1.37c-.4-.4-.92-.59-1.43-.59-.52 0-1.04.2-1.43.59L10.3 9.45l-7.72 7.72c-.78.78-.78 2.05 0 2.83L4 21.41c.39.39.9.59 1.41.59.51 0 1.02-.2 1.41-.59l7.78-7.78 2.81-2.81c.8-.78.8-2.07 0-2.86zM5.41 20L4 18.59l7.72-7.72 1.47 1.35L5.41 20z\"/>\n",
              "  </svg>\n",
              "      </button>\n",
              "      \n",
              "  <style>\n",
              "    .colab-df-container {\n",
              "      display:flex;\n",
              "      flex-wrap:wrap;\n",
              "      gap: 12px;\n",
              "    }\n",
              "\n",
              "    .colab-df-convert {\n",
              "      background-color: #E8F0FE;\n",
              "      border: none;\n",
              "      border-radius: 50%;\n",
              "      cursor: pointer;\n",
              "      display: none;\n",
              "      fill: #1967D2;\n",
              "      height: 32px;\n",
              "      padding: 0 0 0 0;\n",
              "      width: 32px;\n",
              "    }\n",
              "\n",
              "    .colab-df-convert:hover {\n",
              "      background-color: #E2EBFA;\n",
              "      box-shadow: 0px 1px 2px rgba(60, 64, 67, 0.3), 0px 1px 3px 1px rgba(60, 64, 67, 0.15);\n",
              "      fill: #174EA6;\n",
              "    }\n",
              "\n",
              "    [theme=dark] .colab-df-convert {\n",
              "      background-color: #3B4455;\n",
              "      fill: #D2E3FC;\n",
              "    }\n",
              "\n",
              "    [theme=dark] .colab-df-convert:hover {\n",
              "      background-color: #434B5C;\n",
              "      box-shadow: 0px 1px 3px 1px rgba(0, 0, 0, 0.15);\n",
              "      filter: drop-shadow(0px 1px 2px rgba(0, 0, 0, 0.3));\n",
              "      fill: #FFFFFF;\n",
              "    }\n",
              "  </style>\n",
              "\n",
              "      <script>\n",
              "        const buttonEl =\n",
              "          document.querySelector('#df-47fc84fb-2c5f-4cf4-b844-e4c7656618a5 button.colab-df-convert');\n",
              "        buttonEl.style.display =\n",
              "          google.colab.kernel.accessAllowed ? 'block' : 'none';\n",
              "\n",
              "        async function convertToInteractive(key) {\n",
              "          const element = document.querySelector('#df-47fc84fb-2c5f-4cf4-b844-e4c7656618a5');\n",
              "          const dataTable =\n",
              "            await google.colab.kernel.invokeFunction('convertToInteractive',\n",
              "                                                     [key], {});\n",
              "          if (!dataTable) return;\n",
              "\n",
              "          const docLinkHtml = 'Like what you see? Visit the ' +\n",
              "            '<a target=\"_blank\" href=https://colab.research.google.com/notebooks/data_table.ipynb>data table notebook</a>'\n",
              "            + ' to learn more about interactive tables.';\n",
              "          element.innerHTML = '';\n",
              "          dataTable['output_type'] = 'display_data';\n",
              "          await google.colab.output.renderOutput(dataTable, element);\n",
              "          const docLink = document.createElement('div');\n",
              "          docLink.innerHTML = docLinkHtml;\n",
              "          element.appendChild(docLink);\n",
              "        }\n",
              "      </script>\n",
              "    </div>\n",
              "  </div>\n",
              "  "
            ]
          },
          "metadata": {},
          "execution_count": 19
        }
      ]
    },
    {
      "cell_type": "code",
      "source": [
        "df_events['event_attributes'].value_counts()"
      ],
      "metadata": {
        "colab": {
          "base_uri": "https://localhost:8080/"
        },
        "id": "6KpVi_7hmOYG",
        "outputId": "2bd5dcf7-85c9-4204-df21-11035ba1daa8"
      },
      "execution_count": 24,
      "outputs": [
        {
          "output_type": "execute_result",
          "data": {
            "text/plain": [
              "['pass', 'openplay']                  3337\n",
              "['ball_action_forced']                 239\n",
              "['pass']                               154\n",
              "['opponent_dispossessed']              138\n",
              "['pass', 'freekick']                   127\n",
              "['fouled']                             111\n",
              "['cross', 'openplay']                   80\n",
              "['challenge_during_ball_transfer']      53\n",
              "['possession_retained']                 44\n",
              "['opponent_rounded']                    39\n",
              "['cross', 'corner']                     33\n",
              "['cross']                               18\n",
              "['cross', 'freekick']                    5\n",
              "['pass', 'corner']                       4\n",
              "Name: event_attributes, dtype: int64"
            ]
          },
          "metadata": {},
          "execution_count": 24
        }
      ]
    },
    {
      "cell_type": "code",
      "source": [
        "print(f\"Accuracy if classifying every class as {df_events['event_attributes'].describe()['top']}: \"\n",
        "      f\"{df_events['event_attributes'].describe()['freq'] / df_events['event_attributes'].describe()['count']:.2%}\")"
      ],
      "metadata": {
        "colab": {
          "base_uri": "https://localhost:8080/"
        },
        "id": "65gOYc9TpOlO",
        "outputId": "f8f41150-42a8-470f-b470-33847250b555"
      },
      "execution_count": 31,
      "outputs": [
        {
          "output_type": "stream",
          "name": "stdout",
          "text": [
            "Accuracy if classifying every class as ['pass', 'openplay']: 76.15%\n"
          ]
        }
      ]
    },
    {
      "cell_type": "code",
      "source": [
        "print(f'Accuracy if classifying every class as a pass (in general) {df_pass.shape[0] / df_events.shape[0]:.2%}')"
      ],
      "metadata": {
        "colab": {
          "base_uri": "https://localhost:8080/"
        },
        "id": "EGVBOexQT2YN",
        "outputId": "231a98dd-27e1-4216-ae79-aff8e21f6ec1"
      },
      "execution_count": 32,
      "outputs": [
        {
          "output_type": "stream",
          "name": "stdout",
          "text": [
            "Accuracy if classifying every class as a pass (in general) 82.66%\n"
          ]
        }
      ]
    },
    {
      "cell_type": "code",
      "source": [],
      "metadata": {
        "id": "jQZQPIs2qGiz"
      },
      "execution_count": null,
      "outputs": []
    }
  ]
}