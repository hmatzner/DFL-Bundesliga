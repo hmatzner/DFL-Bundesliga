{
  "nbformat": 4,
  "nbformat_minor": 0,
  "metadata": {
    "colab": {
      "provenance": [],
      "collapsed_sections": []
    },
    "kernelspec": {
      "name": "python3",
      "display_name": "Python 3"
    },
    "language_info": {
      "name": "python"
    }
  },
  "cells": [
    {
      "cell_type": "markdown",
      "source": [
        "Whole pipeline working with balanced data and all videos:"
      ],
      "metadata": {
        "id": "TfLUyjS4eF79"
      }
    },
    {
      "cell_type": "code",
      "source": [
        "# import os\n",
        "# import sys\n",
        "# import pandas as pd\n",
        "# import numpy as np\n",
        "# from sklearn.preprocessing import OneHotEncoder\n",
        "# from tensorflow.keras import Sequential\n",
        "# from tensorflow.keras.layers import Rescaling, Conv2D, MaxPooling2D, Flatten, Dense, Dropout\n",
        "# from tensorflow.keras.callbacks import EarlyStopping\n",
        "\n",
        "# df = pd.read_csv('/content/drive/MyDrive/Bundesliga/train.csv')\n",
        "# df_events = df[~df['event_attributes'].isna()].copy()\n",
        "# df_pass = df[df['event_attributes'].str[:6] == \"['pass\"] # Not relevant\n",
        "\n",
        "# print(f\"Accuracy if classifying every class as {df_events['event_attributes'].describe()['top']}: \"\n",
        "#       f\"{df_events['event_attributes'].describe()['freq'] / df_events['event_attributes'].describe()['count']:.2%}\")\n",
        "# print(f'Accuracy if classifying every class as a pass (in general) {df_pass.shape[0] / df_events.shape[0]:.2%}')\n",
        "\n",
        "# df_events.reset_index(drop=True, inplace=True)\n",
        "# video_ids = df_events['video_id'].unique().tolist()\n",
        "# train_videos = video_ids[:9]\n",
        "# test_videos = video_ids[9:]\n",
        "\n",
        "# X = list()\n",
        "# for video_id in video_ids:\n",
        "#   current_video = np.load(f'/content/drive/MyDrive/Bundesliga/PicsFromVids/CompressedPic/{video_id}.npz')\n",
        "#   current_video = current_video.f.arr_0\n",
        "#   X.append(current_video)\n",
        "# X = np.concatenate(X, axis=0)\n",
        "\n",
        "# train_idx = df_events[df_events['video_id'].isin(train_videos)].index\n",
        "# test_idx = df_events[df_events['video_id'].isin(test_videos)].index\n",
        "# X_train = X[train_idx]\n",
        "# X_test = X[test_idx]\n",
        "# assert df_events.shape[0] == X_train.shape[0] + X_test.shape[0]\n",
        "\n",
        "# y_train = df_events[df_events.index.isin(train_idx) ]['event'].to_frame()\n",
        "# y_test = df_events[df_events.index.isin(test_idx) ]['event'].to_frame()\n",
        "\n",
        "# play_indexes = y_train[y_train['event'] == 'play'].index\n",
        "# assert y_train.value_counts()['play'] == len(play_indexes)\n",
        "\n",
        "# play_amount = y_train.value_counts()['play']\n",
        "# challenge_amount = y_train.value_counts()['challenge']\n",
        "# drop_play_indexes = np.sort(np.random.choice(a=play_indexes, \n",
        "#                                              size=play_amount - challenge_amount, \n",
        "#                                              replace=False))\n",
        "# assert len(drop_play_indexes) == play_amount - challenge_amount\n",
        "\n",
        "# y_train.drop(drop_play_indexes, axis=0, inplace=True)\n",
        "# X_train = np.delete(X_train, drop_play_indexes, axis=0)\n",
        "\n",
        "# current_feat = ['event']\n",
        "# for y in (y_train, y_test):\n",
        "#   encoder = OneHotEncoder(sparse=False, handle_unknown='ignore')\n",
        "#   encoder.fit(y[current_feat]) # Fit and transform data\n",
        "#   y[encoder.get_feature_names_out(list(current_feat))] = encoder.transform(y[current_feat])\n",
        "#   y = y.drop(columns=current_feat)\n",
        "\n",
        "# input_shape = X_train.shape[1], X_train.shape[2], X_train.shape[3]\n",
        "\n",
        "# model = Sequential([\n",
        "#     Rescaling(1/255, \n",
        "#               input_shape=input_shape),   \n",
        "#     Conv2D(96, \n",
        "#            11, \n",
        "#            strides=4, \n",
        "#            activation='relu'),\n",
        "#     MaxPooling2D(pool_size=3, \n",
        "#                  strides=2),\n",
        "#     Conv2D(256, \n",
        "#            5, \n",
        "#            activation='relu'),\n",
        "#     MaxPooling2D(pool_size=3, \n",
        "#                  strides=2),\n",
        "#     Conv2D(384, \n",
        "#            3, \n",
        "#            activation='relu'),\n",
        "#     Conv2D(384, \n",
        "#            3, \n",
        "#            activation='relu'),\n",
        "#     Conv2D(256, \n",
        "#            3, \n",
        "#            activation='relu'),\n",
        "#     MaxPooling2D(),\n",
        "#     Flatten(),\n",
        "#     Dense(256, \n",
        "#           activation='relu'),\n",
        "#     Dense(256, \n",
        "#           activation='relu'),\n",
        "#     Dense(3, \n",
        "#           activation='softmax')\n",
        "# ])\n",
        "\n",
        "# model.compile(loss='categorical_crossentropy',\n",
        "#               optimizer='adam',\n",
        "#               metrics='accuracy',\n",
        "#               )\n",
        "\n",
        "# callback = EarlyStopping(monitor='val_loss',\n",
        "#                          patience=3,\n",
        "#                          restore_best_weights=True\n",
        "#                          )\n",
        "\n",
        "# EPOCHS = 100\n",
        "# model.fit(X_train, \n",
        "#           y_train, \n",
        "#           validation_split=0.2, \n",
        "#           batch_size=16, \n",
        "#           epochs=EPOCHS,\n",
        "#           callbacks=[callback])\n",
        "\n",
        "# INDEX_ACCURACY = 1\n",
        "# print(f'\\nAccuracy on the test set: {model.evaluate(X_test, y_test)[INDEX_ACCURACY]:.4f}')\n",
        "\n",
        "# y_pred = model.predict(X_test)\n",
        "# np.set_printoptions(threshold=sys.maxsize)\n",
        "# print(y_pred)"
      ],
      "metadata": {
        "colab": {
          "base_uri": "https://localhost:8080/"
        },
        "id": "W0gVGMcrd-Ti",
        "outputId": "4ffaadd5-3361-4e94-9993-b37a9237fe47"
      },
      "execution_count": 1,
      "outputs": [
        {
          "output_type": "stream",
          "name": "stdout",
          "text": [
            "Accuracy if classifying every class as ['pass', 'openplay']: 76.15%\n",
            "Accuracy if classifying every class as a pass (in general) 82.66%\n"
          ]
        }
      ]
    },
    {
      "cell_type": "markdown",
      "source": [
        "Same procedure as pipeline above:"
      ],
      "metadata": {
        "id": "bHHUU1MleO7X"
      }
    },
    {
      "cell_type": "code",
      "source": [
        "import os\n",
        "import pandas as pd\n",
        "import numpy as np\n",
        "from tensorflow.keras import Sequential\n",
        "from tensorflow.keras.layers import Rescaling, Conv2D, MaxPooling2D, Flatten, Dense, Dropout\n",
        "from tensorflow.keras.callbacks import EarlyStopping"
      ],
      "metadata": {
        "id": "xzZ4l-LreB0V"
      },
      "execution_count": null,
      "outputs": []
    },
    {
      "cell_type": "code",
      "source": [
        "# from google.colab import drive\n",
        "# drive.mount('/content/drive')"
      ],
      "metadata": {
        "id": "G0PArAMrTPy0"
      },
      "execution_count": 2,
      "outputs": []
    },
    {
      "cell_type": "code",
      "source": [
        "! ls '/content/drive/'"
      ],
      "metadata": {
        "colab": {
          "base_uri": "https://localhost:8080/"
        },
        "id": "Gh0Wjjk_TTj6",
        "outputId": "81b1aefb-7e02-465a-bc4a-c9195ea7ffe2"
      },
      "execution_count": 3,
      "outputs": [
        {
          "output_type": "stream",
          "name": "stdout",
          "text": [
            "MyDrive\n"
          ]
        }
      ]
    },
    {
      "cell_type": "code",
      "source": [
        "os.chdir('/content/drive/MyDrive/Bundesliga')"
      ],
      "metadata": {
        "id": "bxcL8raA7hpN"
      },
      "execution_count": 4,
      "outputs": []
    },
    {
      "cell_type": "code",
      "source": [
        "! pwd"
      ],
      "metadata": {
        "colab": {
          "base_uri": "https://localhost:8080/"
        },
        "id": "3gsp9XXC7vxu",
        "outputId": "a7d936df-4c8b-4445-89ce-b938a04729cf"
      },
      "execution_count": 5,
      "outputs": [
        {
          "output_type": "stream",
          "name": "stdout",
          "text": [
            "/content/drive/MyDrive/Bundesliga\n"
          ]
        }
      ]
    },
    {
      "cell_type": "code",
      "source": [
        "# ! unzip dfl-bundesliga-data-shootout.zip"
      ],
      "metadata": {
        "id": "pXK14Y4q8LTL"
      },
      "execution_count": 6,
      "outputs": []
    },
    {
      "cell_type": "code",
      "source": [
        "df = pd.read_csv('/content/drive/MyDrive/Bundesliga/train.csv')"
      ],
      "metadata": {
        "id": "NyJN1Ea68gU9"
      },
      "execution_count": 7,
      "outputs": []
    },
    {
      "cell_type": "code",
      "source": [
        "# df['time_ms'] = round(df['time'] * 1000).astype(int)"
      ],
      "metadata": {
        "id": "kc-8DJz9AeDG"
      },
      "execution_count": 8,
      "outputs": []
    },
    {
      "cell_type": "code",
      "source": [
        "display(df.head())\n",
        "df.shape"
      ],
      "metadata": {
        "colab": {
          "base_uri": "https://localhost:8080/",
          "height": 224
        },
        "id": "DBqmAC8AGX3-",
        "outputId": "0b4a210a-74ca-4b9d-a63f-58c076c22a22"
      },
      "execution_count": 9,
      "outputs": [
        {
          "output_type": "display_data",
          "data": {
            "text/plain": [
              "     video_id        time      event           event_attributes  time_ms\n",
              "0  1606b0e6_0  200.265822      start                        NaN   200266\n",
              "1  1606b0e6_0  201.150000  challenge     ['ball_action_forced']   201150\n",
              "2  1606b0e6_0  202.765822        end                        NaN   202766\n",
              "3  1606b0e6_0  210.124111      start                        NaN   210124\n",
              "4  1606b0e6_0  210.870000  challenge  ['opponent_dispossessed']   210870"
            ],
            "text/html": [
              "\n",
              "  <div id=\"df-00a09a05-3f8c-4b36-8c23-e335741f31f5\">\n",
              "    <div class=\"colab-df-container\">\n",
              "      <div>\n",
              "<style scoped>\n",
              "    .dataframe tbody tr th:only-of-type {\n",
              "        vertical-align: middle;\n",
              "    }\n",
              "\n",
              "    .dataframe tbody tr th {\n",
              "        vertical-align: top;\n",
              "    }\n",
              "\n",
              "    .dataframe thead th {\n",
              "        text-align: right;\n",
              "    }\n",
              "</style>\n",
              "<table border=\"1\" class=\"dataframe\">\n",
              "  <thead>\n",
              "    <tr style=\"text-align: right;\">\n",
              "      <th></th>\n",
              "      <th>video_id</th>\n",
              "      <th>time</th>\n",
              "      <th>event</th>\n",
              "      <th>event_attributes</th>\n",
              "      <th>time_ms</th>\n",
              "    </tr>\n",
              "  </thead>\n",
              "  <tbody>\n",
              "    <tr>\n",
              "      <th>0</th>\n",
              "      <td>1606b0e6_0</td>\n",
              "      <td>200.265822</td>\n",
              "      <td>start</td>\n",
              "      <td>NaN</td>\n",
              "      <td>200266</td>\n",
              "    </tr>\n",
              "    <tr>\n",
              "      <th>1</th>\n",
              "      <td>1606b0e6_0</td>\n",
              "      <td>201.150000</td>\n",
              "      <td>challenge</td>\n",
              "      <td>['ball_action_forced']</td>\n",
              "      <td>201150</td>\n",
              "    </tr>\n",
              "    <tr>\n",
              "      <th>2</th>\n",
              "      <td>1606b0e6_0</td>\n",
              "      <td>202.765822</td>\n",
              "      <td>end</td>\n",
              "      <td>NaN</td>\n",
              "      <td>202766</td>\n",
              "    </tr>\n",
              "    <tr>\n",
              "      <th>3</th>\n",
              "      <td>1606b0e6_0</td>\n",
              "      <td>210.124111</td>\n",
              "      <td>start</td>\n",
              "      <td>NaN</td>\n",
              "      <td>210124</td>\n",
              "    </tr>\n",
              "    <tr>\n",
              "      <th>4</th>\n",
              "      <td>1606b0e6_0</td>\n",
              "      <td>210.870000</td>\n",
              "      <td>challenge</td>\n",
              "      <td>['opponent_dispossessed']</td>\n",
              "      <td>210870</td>\n",
              "    </tr>\n",
              "  </tbody>\n",
              "</table>\n",
              "</div>\n",
              "      <button class=\"colab-df-convert\" onclick=\"convertToInteractive('df-00a09a05-3f8c-4b36-8c23-e335741f31f5')\"\n",
              "              title=\"Convert this dataframe to an interactive table.\"\n",
              "              style=\"display:none;\">\n",
              "        \n",
              "  <svg xmlns=\"http://www.w3.org/2000/svg\" height=\"24px\"viewBox=\"0 0 24 24\"\n",
              "       width=\"24px\">\n",
              "    <path d=\"M0 0h24v24H0V0z\" fill=\"none\"/>\n",
              "    <path d=\"M18.56 5.44l.94 2.06.94-2.06 2.06-.94-2.06-.94-.94-2.06-.94 2.06-2.06.94zm-11 1L8.5 8.5l.94-2.06 2.06-.94-2.06-.94L8.5 2.5l-.94 2.06-2.06.94zm10 10l.94 2.06.94-2.06 2.06-.94-2.06-.94-.94-2.06-.94 2.06-2.06.94z\"/><path d=\"M17.41 7.96l-1.37-1.37c-.4-.4-.92-.59-1.43-.59-.52 0-1.04.2-1.43.59L10.3 9.45l-7.72 7.72c-.78.78-.78 2.05 0 2.83L4 21.41c.39.39.9.59 1.41.59.51 0 1.02-.2 1.41-.59l7.78-7.78 2.81-2.81c.8-.78.8-2.07 0-2.86zM5.41 20L4 18.59l7.72-7.72 1.47 1.35L5.41 20z\"/>\n",
              "  </svg>\n",
              "      </button>\n",
              "      \n",
              "  <style>\n",
              "    .colab-df-container {\n",
              "      display:flex;\n",
              "      flex-wrap:wrap;\n",
              "      gap: 12px;\n",
              "    }\n",
              "\n",
              "    .colab-df-convert {\n",
              "      background-color: #E8F0FE;\n",
              "      border: none;\n",
              "      border-radius: 50%;\n",
              "      cursor: pointer;\n",
              "      display: none;\n",
              "      fill: #1967D2;\n",
              "      height: 32px;\n",
              "      padding: 0 0 0 0;\n",
              "      width: 32px;\n",
              "    }\n",
              "\n",
              "    .colab-df-convert:hover {\n",
              "      background-color: #E2EBFA;\n",
              "      box-shadow: 0px 1px 2px rgba(60, 64, 67, 0.3), 0px 1px 3px 1px rgba(60, 64, 67, 0.15);\n",
              "      fill: #174EA6;\n",
              "    }\n",
              "\n",
              "    [theme=dark] .colab-df-convert {\n",
              "      background-color: #3B4455;\n",
              "      fill: #D2E3FC;\n",
              "    }\n",
              "\n",
              "    [theme=dark] .colab-df-convert:hover {\n",
              "      background-color: #434B5C;\n",
              "      box-shadow: 0px 1px 3px 1px rgba(0, 0, 0, 0.15);\n",
              "      filter: drop-shadow(0px 1px 2px rgba(0, 0, 0, 0.3));\n",
              "      fill: #FFFFFF;\n",
              "    }\n",
              "  </style>\n",
              "\n",
              "      <script>\n",
              "        const buttonEl =\n",
              "          document.querySelector('#df-00a09a05-3f8c-4b36-8c23-e335741f31f5 button.colab-df-convert');\n",
              "        buttonEl.style.display =\n",
              "          google.colab.kernel.accessAllowed ? 'block' : 'none';\n",
              "\n",
              "        async function convertToInteractive(key) {\n",
              "          const element = document.querySelector('#df-00a09a05-3f8c-4b36-8c23-e335741f31f5');\n",
              "          const dataTable =\n",
              "            await google.colab.kernel.invokeFunction('convertToInteractive',\n",
              "                                                     [key], {});\n",
              "          if (!dataTable) return;\n",
              "\n",
              "          const docLinkHtml = 'Like what you see? Visit the ' +\n",
              "            '<a target=\"_blank\" href=https://colab.research.google.com/notebooks/data_table.ipynb>data table notebook</a>'\n",
              "            + ' to learn more about interactive tables.';\n",
              "          element.innerHTML = '';\n",
              "          dataTable['output_type'] = 'display_data';\n",
              "          await google.colab.output.renderOutput(dataTable, element);\n",
              "          const docLink = document.createElement('div');\n",
              "          docLink.innerHTML = docLinkHtml;\n",
              "          element.appendChild(docLink);\n",
              "        }\n",
              "      </script>\n",
              "    </div>\n",
              "  </div>\n",
              "  "
            ]
          },
          "metadata": {}
        },
        {
          "output_type": "execute_result",
          "data": {
            "text/plain": [
              "(11218, 5)"
            ]
          },
          "metadata": {},
          "execution_count": 9
        }
      ]
    },
    {
      "cell_type": "code",
      "source": [
        "df_events = df[~df['event_attributes'].isna()].copy()"
      ],
      "metadata": {
        "id": "mbQvrIB68gXW"
      },
      "execution_count": 10,
      "outputs": []
    },
    {
      "cell_type": "code",
      "source": [
        "# df_events['frame_id'] = df_events['video_id'] + df_events['time_ms'].astype(str)"
      ],
      "metadata": {
        "id": "_bNBcqnFATqe"
      },
      "execution_count": 11,
      "outputs": []
    },
    {
      "cell_type": "code",
      "source": [
        "# # Reordering columns\n",
        "# df_events = df_events[['video_id', 'frame_id', 'time', \n",
        "#                        'time_ms', 'event', 'event_attributes']]"
      ],
      "metadata": {
        "id": "Ddvhir6VBKNQ"
      },
      "execution_count": 12,
      "outputs": []
    },
    {
      "cell_type": "code",
      "source": [
        "display(df_events.head())\n",
        "df_events.shape"
      ],
      "metadata": {
        "colab": {
          "base_uri": "https://localhost:8080/",
          "height": 224
        },
        "id": "vzpjEb3UAxKO",
        "outputId": "948d3b62-8493-4df8-9fa4-dcbfb4c7ae27"
      },
      "execution_count": 13,
      "outputs": [
        {
          "output_type": "display_data",
          "data": {
            "text/plain": [
              "      video_id          frame_id    time  time_ms      event  \\\n",
              "1   1606b0e6_0  1606b0e6_0201150  201.15   201150  challenge   \n",
              "4   1606b0e6_0  1606b0e6_0210870  210.87   210870  challenge   \n",
              "7   1606b0e6_0  1606b0e6_0219230  219.23   219230    throwin   \n",
              "10  1606b0e6_0  1606b0e6_0224430  224.43   224430       play   \n",
              "13  1606b0e6_0  1606b0e6_0229390  229.39   229390       play   \n",
              "\n",
              "             event_attributes  \n",
              "1      ['ball_action_forced']  \n",
              "4   ['opponent_dispossessed']  \n",
              "7                    ['pass']  \n",
              "10       ['pass', 'openplay']  \n",
              "13       ['pass', 'openplay']  "
            ],
            "text/html": [
              "\n",
              "  <div id=\"df-0f0ad22a-3268-45e8-93ad-36d2cbc8a56d\">\n",
              "    <div class=\"colab-df-container\">\n",
              "      <div>\n",
              "<style scoped>\n",
              "    .dataframe tbody tr th:only-of-type {\n",
              "        vertical-align: middle;\n",
              "    }\n",
              "\n",
              "    .dataframe tbody tr th {\n",
              "        vertical-align: top;\n",
              "    }\n",
              "\n",
              "    .dataframe thead th {\n",
              "        text-align: right;\n",
              "    }\n",
              "</style>\n",
              "<table border=\"1\" class=\"dataframe\">\n",
              "  <thead>\n",
              "    <tr style=\"text-align: right;\">\n",
              "      <th></th>\n",
              "      <th>video_id</th>\n",
              "      <th>frame_id</th>\n",
              "      <th>time</th>\n",
              "      <th>time_ms</th>\n",
              "      <th>event</th>\n",
              "      <th>event_attributes</th>\n",
              "    </tr>\n",
              "  </thead>\n",
              "  <tbody>\n",
              "    <tr>\n",
              "      <th>1</th>\n",
              "      <td>1606b0e6_0</td>\n",
              "      <td>1606b0e6_0201150</td>\n",
              "      <td>201.15</td>\n",
              "      <td>201150</td>\n",
              "      <td>challenge</td>\n",
              "      <td>['ball_action_forced']</td>\n",
              "    </tr>\n",
              "    <tr>\n",
              "      <th>4</th>\n",
              "      <td>1606b0e6_0</td>\n",
              "      <td>1606b0e6_0210870</td>\n",
              "      <td>210.87</td>\n",
              "      <td>210870</td>\n",
              "      <td>challenge</td>\n",
              "      <td>['opponent_dispossessed']</td>\n",
              "    </tr>\n",
              "    <tr>\n",
              "      <th>7</th>\n",
              "      <td>1606b0e6_0</td>\n",
              "      <td>1606b0e6_0219230</td>\n",
              "      <td>219.23</td>\n",
              "      <td>219230</td>\n",
              "      <td>throwin</td>\n",
              "      <td>['pass']</td>\n",
              "    </tr>\n",
              "    <tr>\n",
              "      <th>10</th>\n",
              "      <td>1606b0e6_0</td>\n",
              "      <td>1606b0e6_0224430</td>\n",
              "      <td>224.43</td>\n",
              "      <td>224430</td>\n",
              "      <td>play</td>\n",
              "      <td>['pass', 'openplay']</td>\n",
              "    </tr>\n",
              "    <tr>\n",
              "      <th>13</th>\n",
              "      <td>1606b0e6_0</td>\n",
              "      <td>1606b0e6_0229390</td>\n",
              "      <td>229.39</td>\n",
              "      <td>229390</td>\n",
              "      <td>play</td>\n",
              "      <td>['pass', 'openplay']</td>\n",
              "    </tr>\n",
              "  </tbody>\n",
              "</table>\n",
              "</div>\n",
              "      <button class=\"colab-df-convert\" onclick=\"convertToInteractive('df-0f0ad22a-3268-45e8-93ad-36d2cbc8a56d')\"\n",
              "              title=\"Convert this dataframe to an interactive table.\"\n",
              "              style=\"display:none;\">\n",
              "        \n",
              "  <svg xmlns=\"http://www.w3.org/2000/svg\" height=\"24px\"viewBox=\"0 0 24 24\"\n",
              "       width=\"24px\">\n",
              "    <path d=\"M0 0h24v24H0V0z\" fill=\"none\"/>\n",
              "    <path d=\"M18.56 5.44l.94 2.06.94-2.06 2.06-.94-2.06-.94-.94-2.06-.94 2.06-2.06.94zm-11 1L8.5 8.5l.94-2.06 2.06-.94-2.06-.94L8.5 2.5l-.94 2.06-2.06.94zm10 10l.94 2.06.94-2.06 2.06-.94-2.06-.94-.94-2.06-.94 2.06-2.06.94z\"/><path d=\"M17.41 7.96l-1.37-1.37c-.4-.4-.92-.59-1.43-.59-.52 0-1.04.2-1.43.59L10.3 9.45l-7.72 7.72c-.78.78-.78 2.05 0 2.83L4 21.41c.39.39.9.59 1.41.59.51 0 1.02-.2 1.41-.59l7.78-7.78 2.81-2.81c.8-.78.8-2.07 0-2.86zM5.41 20L4 18.59l7.72-7.72 1.47 1.35L5.41 20z\"/>\n",
              "  </svg>\n",
              "      </button>\n",
              "      \n",
              "  <style>\n",
              "    .colab-df-container {\n",
              "      display:flex;\n",
              "      flex-wrap:wrap;\n",
              "      gap: 12px;\n",
              "    }\n",
              "\n",
              "    .colab-df-convert {\n",
              "      background-color: #E8F0FE;\n",
              "      border: none;\n",
              "      border-radius: 50%;\n",
              "      cursor: pointer;\n",
              "      display: none;\n",
              "      fill: #1967D2;\n",
              "      height: 32px;\n",
              "      padding: 0 0 0 0;\n",
              "      width: 32px;\n",
              "    }\n",
              "\n",
              "    .colab-df-convert:hover {\n",
              "      background-color: #E2EBFA;\n",
              "      box-shadow: 0px 1px 2px rgba(60, 64, 67, 0.3), 0px 1px 3px 1px rgba(60, 64, 67, 0.15);\n",
              "      fill: #174EA6;\n",
              "    }\n",
              "\n",
              "    [theme=dark] .colab-df-convert {\n",
              "      background-color: #3B4455;\n",
              "      fill: #D2E3FC;\n",
              "    }\n",
              "\n",
              "    [theme=dark] .colab-df-convert:hover {\n",
              "      background-color: #434B5C;\n",
              "      box-shadow: 0px 1px 3px 1px rgba(0, 0, 0, 0.15);\n",
              "      filter: drop-shadow(0px 1px 2px rgba(0, 0, 0, 0.3));\n",
              "      fill: #FFFFFF;\n",
              "    }\n",
              "  </style>\n",
              "\n",
              "      <script>\n",
              "        const buttonEl =\n",
              "          document.querySelector('#df-0f0ad22a-3268-45e8-93ad-36d2cbc8a56d button.colab-df-convert');\n",
              "        buttonEl.style.display =\n",
              "          google.colab.kernel.accessAllowed ? 'block' : 'none';\n",
              "\n",
              "        async function convertToInteractive(key) {\n",
              "          const element = document.querySelector('#df-0f0ad22a-3268-45e8-93ad-36d2cbc8a56d');\n",
              "          const dataTable =\n",
              "            await google.colab.kernel.invokeFunction('convertToInteractive',\n",
              "                                                     [key], {});\n",
              "          if (!dataTable) return;\n",
              "\n",
              "          const docLinkHtml = 'Like what you see? Visit the ' +\n",
              "            '<a target=\"_blank\" href=https://colab.research.google.com/notebooks/data_table.ipynb>data table notebook</a>'\n",
              "            + ' to learn more about interactive tables.';\n",
              "          element.innerHTML = '';\n",
              "          dataTable['output_type'] = 'display_data';\n",
              "          await google.colab.output.renderOutput(dataTable, element);\n",
              "          const docLink = document.createElement('div');\n",
              "          docLink.innerHTML = docLinkHtml;\n",
              "          element.appendChild(docLink);\n",
              "        }\n",
              "      </script>\n",
              "    </div>\n",
              "  </div>\n",
              "  "
            ]
          },
          "metadata": {}
        },
        {
          "output_type": "execute_result",
          "data": {
            "text/plain": [
              "(4382, 6)"
            ]
          },
          "metadata": {},
          "execution_count": 13
        }
      ]
    },
    {
      "cell_type": "markdown",
      "source": [
        "Building very basic baseline model:"
      ],
      "metadata": {
        "id": "J8WLYfJwAyTe"
      }
    },
    {
      "cell_type": "code",
      "source": [],
      "metadata": {
        "id": "BkB_kJdjazws"
      },
      "execution_count": null,
      "outputs": []
    },
    {
      "cell_type": "code",
      "source": [
        "df_pass = df[df['event_attributes'].str[:6] == \"['pass\"]"
      ],
      "metadata": {
        "id": "cAQOQSr28gZz"
      },
      "execution_count": 14,
      "outputs": []
    },
    {
      "cell_type": "code",
      "source": [
        "display(df_pass.head())\n",
        "df_pass.shape"
      ],
      "metadata": {
        "colab": {
          "base_uri": "https://localhost:8080/",
          "height": 224
        },
        "id": "KmHQhlKlATn4",
        "outputId": "26461913-0954-4c2a-d7d9-df1ea1a43688"
      },
      "execution_count": 15,
      "outputs": [
        {
          "output_type": "display_data",
          "data": {
            "text/plain": [
              "      video_id    time    event      event_attributes  time_ms\n",
              "7   1606b0e6_0  219.23  throwin              ['pass']   219230\n",
              "10  1606b0e6_0  224.43     play  ['pass', 'openplay']   224430\n",
              "13  1606b0e6_0  229.39     play  ['pass', 'openplay']   229390\n",
              "16  1606b0e6_0  236.71     play  ['pass', 'openplay']   236710\n",
              "17  1606b0e6_0  239.35     play  ['pass', 'openplay']   239350"
            ],
            "text/html": [
              "\n",
              "  <div id=\"df-a9972bd1-73cd-45b8-af08-9b7ce98d79a9\">\n",
              "    <div class=\"colab-df-container\">\n",
              "      <div>\n",
              "<style scoped>\n",
              "    .dataframe tbody tr th:only-of-type {\n",
              "        vertical-align: middle;\n",
              "    }\n",
              "\n",
              "    .dataframe tbody tr th {\n",
              "        vertical-align: top;\n",
              "    }\n",
              "\n",
              "    .dataframe thead th {\n",
              "        text-align: right;\n",
              "    }\n",
              "</style>\n",
              "<table border=\"1\" class=\"dataframe\">\n",
              "  <thead>\n",
              "    <tr style=\"text-align: right;\">\n",
              "      <th></th>\n",
              "      <th>video_id</th>\n",
              "      <th>time</th>\n",
              "      <th>event</th>\n",
              "      <th>event_attributes</th>\n",
              "      <th>time_ms</th>\n",
              "    </tr>\n",
              "  </thead>\n",
              "  <tbody>\n",
              "    <tr>\n",
              "      <th>7</th>\n",
              "      <td>1606b0e6_0</td>\n",
              "      <td>219.23</td>\n",
              "      <td>throwin</td>\n",
              "      <td>['pass']</td>\n",
              "      <td>219230</td>\n",
              "    </tr>\n",
              "    <tr>\n",
              "      <th>10</th>\n",
              "      <td>1606b0e6_0</td>\n",
              "      <td>224.43</td>\n",
              "      <td>play</td>\n",
              "      <td>['pass', 'openplay']</td>\n",
              "      <td>224430</td>\n",
              "    </tr>\n",
              "    <tr>\n",
              "      <th>13</th>\n",
              "      <td>1606b0e6_0</td>\n",
              "      <td>229.39</td>\n",
              "      <td>play</td>\n",
              "      <td>['pass', 'openplay']</td>\n",
              "      <td>229390</td>\n",
              "    </tr>\n",
              "    <tr>\n",
              "      <th>16</th>\n",
              "      <td>1606b0e6_0</td>\n",
              "      <td>236.71</td>\n",
              "      <td>play</td>\n",
              "      <td>['pass', 'openplay']</td>\n",
              "      <td>236710</td>\n",
              "    </tr>\n",
              "    <tr>\n",
              "      <th>17</th>\n",
              "      <td>1606b0e6_0</td>\n",
              "      <td>239.35</td>\n",
              "      <td>play</td>\n",
              "      <td>['pass', 'openplay']</td>\n",
              "      <td>239350</td>\n",
              "    </tr>\n",
              "  </tbody>\n",
              "</table>\n",
              "</div>\n",
              "      <button class=\"colab-df-convert\" onclick=\"convertToInteractive('df-a9972bd1-73cd-45b8-af08-9b7ce98d79a9')\"\n",
              "              title=\"Convert this dataframe to an interactive table.\"\n",
              "              style=\"display:none;\">\n",
              "        \n",
              "  <svg xmlns=\"http://www.w3.org/2000/svg\" height=\"24px\"viewBox=\"0 0 24 24\"\n",
              "       width=\"24px\">\n",
              "    <path d=\"M0 0h24v24H0V0z\" fill=\"none\"/>\n",
              "    <path d=\"M18.56 5.44l.94 2.06.94-2.06 2.06-.94-2.06-.94-.94-2.06-.94 2.06-2.06.94zm-11 1L8.5 8.5l.94-2.06 2.06-.94-2.06-.94L8.5 2.5l-.94 2.06-2.06.94zm10 10l.94 2.06.94-2.06 2.06-.94-2.06-.94-.94-2.06-.94 2.06-2.06.94z\"/><path d=\"M17.41 7.96l-1.37-1.37c-.4-.4-.92-.59-1.43-.59-.52 0-1.04.2-1.43.59L10.3 9.45l-7.72 7.72c-.78.78-.78 2.05 0 2.83L4 21.41c.39.39.9.59 1.41.59.51 0 1.02-.2 1.41-.59l7.78-7.78 2.81-2.81c.8-.78.8-2.07 0-2.86zM5.41 20L4 18.59l7.72-7.72 1.47 1.35L5.41 20z\"/>\n",
              "  </svg>\n",
              "      </button>\n",
              "      \n",
              "  <style>\n",
              "    .colab-df-container {\n",
              "      display:flex;\n",
              "      flex-wrap:wrap;\n",
              "      gap: 12px;\n",
              "    }\n",
              "\n",
              "    .colab-df-convert {\n",
              "      background-color: #E8F0FE;\n",
              "      border: none;\n",
              "      border-radius: 50%;\n",
              "      cursor: pointer;\n",
              "      display: none;\n",
              "      fill: #1967D2;\n",
              "      height: 32px;\n",
              "      padding: 0 0 0 0;\n",
              "      width: 32px;\n",
              "    }\n",
              "\n",
              "    .colab-df-convert:hover {\n",
              "      background-color: #E2EBFA;\n",
              "      box-shadow: 0px 1px 2px rgba(60, 64, 67, 0.3), 0px 1px 3px 1px rgba(60, 64, 67, 0.15);\n",
              "      fill: #174EA6;\n",
              "    }\n",
              "\n",
              "    [theme=dark] .colab-df-convert {\n",
              "      background-color: #3B4455;\n",
              "      fill: #D2E3FC;\n",
              "    }\n",
              "\n",
              "    [theme=dark] .colab-df-convert:hover {\n",
              "      background-color: #434B5C;\n",
              "      box-shadow: 0px 1px 3px 1px rgba(0, 0, 0, 0.15);\n",
              "      filter: drop-shadow(0px 1px 2px rgba(0, 0, 0, 0.3));\n",
              "      fill: #FFFFFF;\n",
              "    }\n",
              "  </style>\n",
              "\n",
              "      <script>\n",
              "        const buttonEl =\n",
              "          document.querySelector('#df-a9972bd1-73cd-45b8-af08-9b7ce98d79a9 button.colab-df-convert');\n",
              "        buttonEl.style.display =\n",
              "          google.colab.kernel.accessAllowed ? 'block' : 'none';\n",
              "\n",
              "        async function convertToInteractive(key) {\n",
              "          const element = document.querySelector('#df-a9972bd1-73cd-45b8-af08-9b7ce98d79a9');\n",
              "          const dataTable =\n",
              "            await google.colab.kernel.invokeFunction('convertToInteractive',\n",
              "                                                     [key], {});\n",
              "          if (!dataTable) return;\n",
              "\n",
              "          const docLinkHtml = 'Like what you see? Visit the ' +\n",
              "            '<a target=\"_blank\" href=https://colab.research.google.com/notebooks/data_table.ipynb>data table notebook</a>'\n",
              "            + ' to learn more about interactive tables.';\n",
              "          element.innerHTML = '';\n",
              "          dataTable['output_type'] = 'display_data';\n",
              "          await google.colab.output.renderOutput(dataTable, element);\n",
              "          const docLink = document.createElement('div');\n",
              "          docLink.innerHTML = docLinkHtml;\n",
              "          element.appendChild(docLink);\n",
              "        }\n",
              "      </script>\n",
              "    </div>\n",
              "  </div>\n",
              "  "
            ]
          },
          "metadata": {}
        },
        {
          "output_type": "execute_result",
          "data": {
            "text/plain": [
              "(3622, 5)"
            ]
          },
          "metadata": {},
          "execution_count": 15
        }
      ]
    },
    {
      "cell_type": "code",
      "source": [
        "df_events['event_attributes'].value_counts()"
      ],
      "metadata": {
        "colab": {
          "base_uri": "https://localhost:8080/"
        },
        "id": "6KpVi_7hmOYG",
        "outputId": "df0a870e-6d1e-4108-b30a-d73bc9b96ddd"
      },
      "execution_count": 16,
      "outputs": [
        {
          "output_type": "execute_result",
          "data": {
            "text/plain": [
              "['pass', 'openplay']                  3337\n",
              "['ball_action_forced']                 239\n",
              "['pass']                               154\n",
              "['opponent_dispossessed']              138\n",
              "['pass', 'freekick']                   127\n",
              "['fouled']                             111\n",
              "['cross', 'openplay']                   80\n",
              "['challenge_during_ball_transfer']      53\n",
              "['possession_retained']                 44\n",
              "['opponent_rounded']                    39\n",
              "['cross', 'corner']                     33\n",
              "['cross']                               18\n",
              "['cross', 'freekick']                    5\n",
              "['pass', 'corner']                       4\n",
              "Name: event_attributes, dtype: int64"
            ]
          },
          "metadata": {},
          "execution_count": 16
        }
      ]
    },
    {
      "cell_type": "code",
      "source": [
        "print(f\"Accuracy if classifying every class as {df_events['event_attributes'].describe()['top']}: \"\n",
        "      f\"{df_events['event_attributes'].describe()['freq'] / df_events['event_attributes'].describe()['count']:.2%}\")"
      ],
      "metadata": {
        "colab": {
          "base_uri": "https://localhost:8080/"
        },
        "id": "65gOYc9TpOlO",
        "outputId": "32dc53c6-b566-4012-a9a9-fcc3232fcf56"
      },
      "execution_count": 17,
      "outputs": [
        {
          "output_type": "stream",
          "name": "stdout",
          "text": [
            "Accuracy if classifying every class as ['pass', 'openplay']: 76.15%\n"
          ]
        }
      ]
    },
    {
      "cell_type": "code",
      "source": [
        "print(f'Accuracy if classifying every class as a pass (in general) {df_pass.shape[0] / df_events.shape[0]:.2%}')"
      ],
      "metadata": {
        "colab": {
          "base_uri": "https://localhost:8080/"
        },
        "id": "EGVBOexQT2YN",
        "outputId": "60858282-b46c-4406-a2cf-e71b777b422e"
      },
      "execution_count": 18,
      "outputs": [
        {
          "output_type": "stream",
          "name": "stdout",
          "text": [
            "Accuracy if classifying every class as a pass (in general) 82.66%\n"
          ]
        }
      ]
    },
    {
      "cell_type": "code",
      "source": [
        "df_events['event'].value_counts()"
      ],
      "metadata": {
        "colab": {
          "base_uri": "https://localhost:8080/"
        },
        "id": "jQZQPIs2qGiz",
        "outputId": "57482fc9-2522-4eb9-f5d9-c0803f701b3a"
      },
      "execution_count": 19,
      "outputs": [
        {
          "output_type": "execute_result",
          "data": {
            "text/plain": [
              "play         3586\n",
              "challenge     624\n",
              "throwin       172\n",
              "Name: event, dtype: int64"
            ]
          },
          "metadata": {},
          "execution_count": 19
        }
      ]
    },
    {
      "cell_type": "code",
      "source": [
        "df_video1 = df_events[df_events['video_id'] == '1606b0e6_0']\n",
        "df_video1"
      ],
      "metadata": {
        "colab": {
          "base_uri": "https://localhost:8080/",
          "height": 424
        },
        "id": "-lIpJOZNZFkC",
        "outputId": "583c4c0a-f86b-44c3-8f83-68d0a6a06361"
      },
      "execution_count": 20,
      "outputs": [
        {
          "output_type": "execute_result",
          "data": {
            "text/plain": [
              "       video_id           frame_id     time  time_ms      event  \\\n",
              "1    1606b0e6_0   1606b0e6_0201150   201.15   201150  challenge   \n",
              "4    1606b0e6_0   1606b0e6_0210870   210.87   210870  challenge   \n",
              "7    1606b0e6_0   1606b0e6_0219230   219.23   219230    throwin   \n",
              "10   1606b0e6_0   1606b0e6_0224430   224.43   224430       play   \n",
              "13   1606b0e6_0   1606b0e6_0229390   229.39   229390       play   \n",
              "..          ...                ...      ...      ...        ...   \n",
              "986  1606b0e6_0  1606b0e6_02861430  2861.43  2861430       play   \n",
              "989  1606b0e6_0  1606b0e6_02900110  2900.11  2900110  challenge   \n",
              "992  1606b0e6_0  1606b0e6_02903430  2903.43  2903430  challenge   \n",
              "995  1606b0e6_0  1606b0e6_03000870  3000.87  3000870       play   \n",
              "998  1606b0e6_0  1606b0e6_03013230  3013.23  3013230       play   \n",
              "\n",
              "              event_attributes  \n",
              "1       ['ball_action_forced']  \n",
              "4    ['opponent_dispossessed']  \n",
              "7                     ['pass']  \n",
              "10        ['pass', 'openplay']  \n",
              "13        ['pass', 'openplay']  \n",
              "..                         ...  \n",
              "986       ['pass', 'openplay']  \n",
              "989     ['ball_action_forced']  \n",
              "992                 ['fouled']  \n",
              "995       ['pass', 'freekick']  \n",
              "998       ['pass', 'openplay']  \n",
              "\n",
              "[396 rows x 6 columns]"
            ],
            "text/html": [
              "\n",
              "  <div id=\"df-dd8bd381-c997-4a65-af32-603f36b899c5\">\n",
              "    <div class=\"colab-df-container\">\n",
              "      <div>\n",
              "<style scoped>\n",
              "    .dataframe tbody tr th:only-of-type {\n",
              "        vertical-align: middle;\n",
              "    }\n",
              "\n",
              "    .dataframe tbody tr th {\n",
              "        vertical-align: top;\n",
              "    }\n",
              "\n",
              "    .dataframe thead th {\n",
              "        text-align: right;\n",
              "    }\n",
              "</style>\n",
              "<table border=\"1\" class=\"dataframe\">\n",
              "  <thead>\n",
              "    <tr style=\"text-align: right;\">\n",
              "      <th></th>\n",
              "      <th>video_id</th>\n",
              "      <th>frame_id</th>\n",
              "      <th>time</th>\n",
              "      <th>time_ms</th>\n",
              "      <th>event</th>\n",
              "      <th>event_attributes</th>\n",
              "    </tr>\n",
              "  </thead>\n",
              "  <tbody>\n",
              "    <tr>\n",
              "      <th>1</th>\n",
              "      <td>1606b0e6_0</td>\n",
              "      <td>1606b0e6_0201150</td>\n",
              "      <td>201.15</td>\n",
              "      <td>201150</td>\n",
              "      <td>challenge</td>\n",
              "      <td>['ball_action_forced']</td>\n",
              "    </tr>\n",
              "    <tr>\n",
              "      <th>4</th>\n",
              "      <td>1606b0e6_0</td>\n",
              "      <td>1606b0e6_0210870</td>\n",
              "      <td>210.87</td>\n",
              "      <td>210870</td>\n",
              "      <td>challenge</td>\n",
              "      <td>['opponent_dispossessed']</td>\n",
              "    </tr>\n",
              "    <tr>\n",
              "      <th>7</th>\n",
              "      <td>1606b0e6_0</td>\n",
              "      <td>1606b0e6_0219230</td>\n",
              "      <td>219.23</td>\n",
              "      <td>219230</td>\n",
              "      <td>throwin</td>\n",
              "      <td>['pass']</td>\n",
              "    </tr>\n",
              "    <tr>\n",
              "      <th>10</th>\n",
              "      <td>1606b0e6_0</td>\n",
              "      <td>1606b0e6_0224430</td>\n",
              "      <td>224.43</td>\n",
              "      <td>224430</td>\n",
              "      <td>play</td>\n",
              "      <td>['pass', 'openplay']</td>\n",
              "    </tr>\n",
              "    <tr>\n",
              "      <th>13</th>\n",
              "      <td>1606b0e6_0</td>\n",
              "      <td>1606b0e6_0229390</td>\n",
              "      <td>229.39</td>\n",
              "      <td>229390</td>\n",
              "      <td>play</td>\n",
              "      <td>['pass', 'openplay']</td>\n",
              "    </tr>\n",
              "    <tr>\n",
              "      <th>...</th>\n",
              "      <td>...</td>\n",
              "      <td>...</td>\n",
              "      <td>...</td>\n",
              "      <td>...</td>\n",
              "      <td>...</td>\n",
              "      <td>...</td>\n",
              "    </tr>\n",
              "    <tr>\n",
              "      <th>986</th>\n",
              "      <td>1606b0e6_0</td>\n",
              "      <td>1606b0e6_02861430</td>\n",
              "      <td>2861.43</td>\n",
              "      <td>2861430</td>\n",
              "      <td>play</td>\n",
              "      <td>['pass', 'openplay']</td>\n",
              "    </tr>\n",
              "    <tr>\n",
              "      <th>989</th>\n",
              "      <td>1606b0e6_0</td>\n",
              "      <td>1606b0e6_02900110</td>\n",
              "      <td>2900.11</td>\n",
              "      <td>2900110</td>\n",
              "      <td>challenge</td>\n",
              "      <td>['ball_action_forced']</td>\n",
              "    </tr>\n",
              "    <tr>\n",
              "      <th>992</th>\n",
              "      <td>1606b0e6_0</td>\n",
              "      <td>1606b0e6_02903430</td>\n",
              "      <td>2903.43</td>\n",
              "      <td>2903430</td>\n",
              "      <td>challenge</td>\n",
              "      <td>['fouled']</td>\n",
              "    </tr>\n",
              "    <tr>\n",
              "      <th>995</th>\n",
              "      <td>1606b0e6_0</td>\n",
              "      <td>1606b0e6_03000870</td>\n",
              "      <td>3000.87</td>\n",
              "      <td>3000870</td>\n",
              "      <td>play</td>\n",
              "      <td>['pass', 'freekick']</td>\n",
              "    </tr>\n",
              "    <tr>\n",
              "      <th>998</th>\n",
              "      <td>1606b0e6_0</td>\n",
              "      <td>1606b0e6_03013230</td>\n",
              "      <td>3013.23</td>\n",
              "      <td>3013230</td>\n",
              "      <td>play</td>\n",
              "      <td>['pass', 'openplay']</td>\n",
              "    </tr>\n",
              "  </tbody>\n",
              "</table>\n",
              "<p>396 rows × 6 columns</p>\n",
              "</div>\n",
              "      <button class=\"colab-df-convert\" onclick=\"convertToInteractive('df-dd8bd381-c997-4a65-af32-603f36b899c5')\"\n",
              "              title=\"Convert this dataframe to an interactive table.\"\n",
              "              style=\"display:none;\">\n",
              "        \n",
              "  <svg xmlns=\"http://www.w3.org/2000/svg\" height=\"24px\"viewBox=\"0 0 24 24\"\n",
              "       width=\"24px\">\n",
              "    <path d=\"M0 0h24v24H0V0z\" fill=\"none\"/>\n",
              "    <path d=\"M18.56 5.44l.94 2.06.94-2.06 2.06-.94-2.06-.94-.94-2.06-.94 2.06-2.06.94zm-11 1L8.5 8.5l.94-2.06 2.06-.94-2.06-.94L8.5 2.5l-.94 2.06-2.06.94zm10 10l.94 2.06.94-2.06 2.06-.94-2.06-.94-.94-2.06-.94 2.06-2.06.94z\"/><path d=\"M17.41 7.96l-1.37-1.37c-.4-.4-.92-.59-1.43-.59-.52 0-1.04.2-1.43.59L10.3 9.45l-7.72 7.72c-.78.78-.78 2.05 0 2.83L4 21.41c.39.39.9.59 1.41.59.51 0 1.02-.2 1.41-.59l7.78-7.78 2.81-2.81c.8-.78.8-2.07 0-2.86zM5.41 20L4 18.59l7.72-7.72 1.47 1.35L5.41 20z\"/>\n",
              "  </svg>\n",
              "      </button>\n",
              "      \n",
              "  <style>\n",
              "    .colab-df-container {\n",
              "      display:flex;\n",
              "      flex-wrap:wrap;\n",
              "      gap: 12px;\n",
              "    }\n",
              "\n",
              "    .colab-df-convert {\n",
              "      background-color: #E8F0FE;\n",
              "      border: none;\n",
              "      border-radius: 50%;\n",
              "      cursor: pointer;\n",
              "      display: none;\n",
              "      fill: #1967D2;\n",
              "      height: 32px;\n",
              "      padding: 0 0 0 0;\n",
              "      width: 32px;\n",
              "    }\n",
              "\n",
              "    .colab-df-convert:hover {\n",
              "      background-color: #E2EBFA;\n",
              "      box-shadow: 0px 1px 2px rgba(60, 64, 67, 0.3), 0px 1px 3px 1px rgba(60, 64, 67, 0.15);\n",
              "      fill: #174EA6;\n",
              "    }\n",
              "\n",
              "    [theme=dark] .colab-df-convert {\n",
              "      background-color: #3B4455;\n",
              "      fill: #D2E3FC;\n",
              "    }\n",
              "\n",
              "    [theme=dark] .colab-df-convert:hover {\n",
              "      background-color: #434B5C;\n",
              "      box-shadow: 0px 1px 3px 1px rgba(0, 0, 0, 0.15);\n",
              "      filter: drop-shadow(0px 1px 2px rgba(0, 0, 0, 0.3));\n",
              "      fill: #FFFFFF;\n",
              "    }\n",
              "  </style>\n",
              "\n",
              "      <script>\n",
              "        const buttonEl =\n",
              "          document.querySelector('#df-dd8bd381-c997-4a65-af32-603f36b899c5 button.colab-df-convert');\n",
              "        buttonEl.style.display =\n",
              "          google.colab.kernel.accessAllowed ? 'block' : 'none';\n",
              "\n",
              "        async function convertToInteractive(key) {\n",
              "          const element = document.querySelector('#df-dd8bd381-c997-4a65-af32-603f36b899c5');\n",
              "          const dataTable =\n",
              "            await google.colab.kernel.invokeFunction('convertToInteractive',\n",
              "                                                     [key], {});\n",
              "          if (!dataTable) return;\n",
              "\n",
              "          const docLinkHtml = 'Like what you see? Visit the ' +\n",
              "            '<a target=\"_blank\" href=https://colab.research.google.com/notebooks/data_table.ipynb>data table notebook</a>'\n",
              "            + ' to learn more about interactive tables.';\n",
              "          element.innerHTML = '';\n",
              "          dataTable['output_type'] = 'display_data';\n",
              "          await google.colab.output.renderOutput(dataTable, element);\n",
              "          const docLink = document.createElement('div');\n",
              "          docLink.innerHTML = docLinkHtml;\n",
              "          element.appendChild(docLink);\n",
              "        }\n",
              "      </script>\n",
              "    </div>\n",
              "  </div>\n",
              "  "
            ]
          },
          "metadata": {},
          "execution_count": 20
        }
      ]
    },
    {
      "cell_type": "code",
      "source": [
        "df_video2 = df_events[df_events['video_id'] == '1606b0e6_1']\n",
        "df_video2"
      ],
      "metadata": {
        "colab": {
          "base_uri": "https://localhost:8080/",
          "height": 424
        },
        "id": "mvqfYKxoDLP_",
        "outputId": "cd55a9e1-eaa4-4c67-c098-f0bb86797a0e"
      },
      "execution_count": 21,
      "outputs": [
        {
          "output_type": "execute_result",
          "data": {
            "text/plain": [
              "        video_id           frame_id     time  time_ms      event  \\\n",
              "1001  1606b0e6_1   1606b0e6_1510590   510.59   510590       play   \n",
              "1002  1606b0e6_1   1606b0e6_1512470   512.47   512470       play   \n",
              "1005  1606b0e6_1   1606b0e6_1517070   517.07   517070       play   \n",
              "1006  1606b0e6_1   1606b0e6_1518430   518.43   518430       play   \n",
              "1007  1606b0e6_1   1606b0e6_1520990   520.99   520990       play   \n",
              "...          ...                ...      ...      ...        ...   \n",
              "2235  1606b0e6_1  1606b0e6_13357990  3357.99  3357990  challenge   \n",
              "2238  1606b0e6_1  1606b0e6_13364870  3364.87  3364870       play   \n",
              "2241  1606b0e6_1  1606b0e6_13373790  3373.79  3373790       play   \n",
              "2244  1606b0e6_1  1606b0e6_13376550  3376.55  3376550       play   \n",
              "2247  1606b0e6_1  1606b0e6_13386510  3386.51  3386510       play   \n",
              "\n",
              "          event_attributes  \n",
              "1001  ['pass', 'openplay']  \n",
              "1002  ['pass', 'openplay']  \n",
              "1005  ['pass', 'openplay']  \n",
              "1006  ['pass', 'openplay']  \n",
              "1007  ['pass', 'openplay']  \n",
              "...                    ...  \n",
              "2235            ['fouled']  \n",
              "2238  ['pass', 'freekick']  \n",
              "2241  ['pass', 'openplay']  \n",
              "2244  ['pass', 'openplay']  \n",
              "2247  ['pass', 'openplay']  \n",
              "\n",
              "[507 rows x 6 columns]"
            ],
            "text/html": [
              "\n",
              "  <div id=\"df-edb996fa-f865-4f96-bc98-754f12d50eb2\">\n",
              "    <div class=\"colab-df-container\">\n",
              "      <div>\n",
              "<style scoped>\n",
              "    .dataframe tbody tr th:only-of-type {\n",
              "        vertical-align: middle;\n",
              "    }\n",
              "\n",
              "    .dataframe tbody tr th {\n",
              "        vertical-align: top;\n",
              "    }\n",
              "\n",
              "    .dataframe thead th {\n",
              "        text-align: right;\n",
              "    }\n",
              "</style>\n",
              "<table border=\"1\" class=\"dataframe\">\n",
              "  <thead>\n",
              "    <tr style=\"text-align: right;\">\n",
              "      <th></th>\n",
              "      <th>video_id</th>\n",
              "      <th>frame_id</th>\n",
              "      <th>time</th>\n",
              "      <th>time_ms</th>\n",
              "      <th>event</th>\n",
              "      <th>event_attributes</th>\n",
              "    </tr>\n",
              "  </thead>\n",
              "  <tbody>\n",
              "    <tr>\n",
              "      <th>1001</th>\n",
              "      <td>1606b0e6_1</td>\n",
              "      <td>1606b0e6_1510590</td>\n",
              "      <td>510.59</td>\n",
              "      <td>510590</td>\n",
              "      <td>play</td>\n",
              "      <td>['pass', 'openplay']</td>\n",
              "    </tr>\n",
              "    <tr>\n",
              "      <th>1002</th>\n",
              "      <td>1606b0e6_1</td>\n",
              "      <td>1606b0e6_1512470</td>\n",
              "      <td>512.47</td>\n",
              "      <td>512470</td>\n",
              "      <td>play</td>\n",
              "      <td>['pass', 'openplay']</td>\n",
              "    </tr>\n",
              "    <tr>\n",
              "      <th>1005</th>\n",
              "      <td>1606b0e6_1</td>\n",
              "      <td>1606b0e6_1517070</td>\n",
              "      <td>517.07</td>\n",
              "      <td>517070</td>\n",
              "      <td>play</td>\n",
              "      <td>['pass', 'openplay']</td>\n",
              "    </tr>\n",
              "    <tr>\n",
              "      <th>1006</th>\n",
              "      <td>1606b0e6_1</td>\n",
              "      <td>1606b0e6_1518430</td>\n",
              "      <td>518.43</td>\n",
              "      <td>518430</td>\n",
              "      <td>play</td>\n",
              "      <td>['pass', 'openplay']</td>\n",
              "    </tr>\n",
              "    <tr>\n",
              "      <th>1007</th>\n",
              "      <td>1606b0e6_1</td>\n",
              "      <td>1606b0e6_1520990</td>\n",
              "      <td>520.99</td>\n",
              "      <td>520990</td>\n",
              "      <td>play</td>\n",
              "      <td>['pass', 'openplay']</td>\n",
              "    </tr>\n",
              "    <tr>\n",
              "      <th>...</th>\n",
              "      <td>...</td>\n",
              "      <td>...</td>\n",
              "      <td>...</td>\n",
              "      <td>...</td>\n",
              "      <td>...</td>\n",
              "      <td>...</td>\n",
              "    </tr>\n",
              "    <tr>\n",
              "      <th>2235</th>\n",
              "      <td>1606b0e6_1</td>\n",
              "      <td>1606b0e6_13357990</td>\n",
              "      <td>3357.99</td>\n",
              "      <td>3357990</td>\n",
              "      <td>challenge</td>\n",
              "      <td>['fouled']</td>\n",
              "    </tr>\n",
              "    <tr>\n",
              "      <th>2238</th>\n",
              "      <td>1606b0e6_1</td>\n",
              "      <td>1606b0e6_13364870</td>\n",
              "      <td>3364.87</td>\n",
              "      <td>3364870</td>\n",
              "      <td>play</td>\n",
              "      <td>['pass', 'freekick']</td>\n",
              "    </tr>\n",
              "    <tr>\n",
              "      <th>2241</th>\n",
              "      <td>1606b0e6_1</td>\n",
              "      <td>1606b0e6_13373790</td>\n",
              "      <td>3373.79</td>\n",
              "      <td>3373790</td>\n",
              "      <td>play</td>\n",
              "      <td>['pass', 'openplay']</td>\n",
              "    </tr>\n",
              "    <tr>\n",
              "      <th>2244</th>\n",
              "      <td>1606b0e6_1</td>\n",
              "      <td>1606b0e6_13376550</td>\n",
              "      <td>3376.55</td>\n",
              "      <td>3376550</td>\n",
              "      <td>play</td>\n",
              "      <td>['pass', 'openplay']</td>\n",
              "    </tr>\n",
              "    <tr>\n",
              "      <th>2247</th>\n",
              "      <td>1606b0e6_1</td>\n",
              "      <td>1606b0e6_13386510</td>\n",
              "      <td>3386.51</td>\n",
              "      <td>3386510</td>\n",
              "      <td>play</td>\n",
              "      <td>['pass', 'openplay']</td>\n",
              "    </tr>\n",
              "  </tbody>\n",
              "</table>\n",
              "<p>507 rows × 6 columns</p>\n",
              "</div>\n",
              "      <button class=\"colab-df-convert\" onclick=\"convertToInteractive('df-edb996fa-f865-4f96-bc98-754f12d50eb2')\"\n",
              "              title=\"Convert this dataframe to an interactive table.\"\n",
              "              style=\"display:none;\">\n",
              "        \n",
              "  <svg xmlns=\"http://www.w3.org/2000/svg\" height=\"24px\"viewBox=\"0 0 24 24\"\n",
              "       width=\"24px\">\n",
              "    <path d=\"M0 0h24v24H0V0z\" fill=\"none\"/>\n",
              "    <path d=\"M18.56 5.44l.94 2.06.94-2.06 2.06-.94-2.06-.94-.94-2.06-.94 2.06-2.06.94zm-11 1L8.5 8.5l.94-2.06 2.06-.94-2.06-.94L8.5 2.5l-.94 2.06-2.06.94zm10 10l.94 2.06.94-2.06 2.06-.94-2.06-.94-.94-2.06-.94 2.06-2.06.94z\"/><path d=\"M17.41 7.96l-1.37-1.37c-.4-.4-.92-.59-1.43-.59-.52 0-1.04.2-1.43.59L10.3 9.45l-7.72 7.72c-.78.78-.78 2.05 0 2.83L4 21.41c.39.39.9.59 1.41.59.51 0 1.02-.2 1.41-.59l7.78-7.78 2.81-2.81c.8-.78.8-2.07 0-2.86zM5.41 20L4 18.59l7.72-7.72 1.47 1.35L5.41 20z\"/>\n",
              "  </svg>\n",
              "      </button>\n",
              "      \n",
              "  <style>\n",
              "    .colab-df-container {\n",
              "      display:flex;\n",
              "      flex-wrap:wrap;\n",
              "      gap: 12px;\n",
              "    }\n",
              "\n",
              "    .colab-df-convert {\n",
              "      background-color: #E8F0FE;\n",
              "      border: none;\n",
              "      border-radius: 50%;\n",
              "      cursor: pointer;\n",
              "      display: none;\n",
              "      fill: #1967D2;\n",
              "      height: 32px;\n",
              "      padding: 0 0 0 0;\n",
              "      width: 32px;\n",
              "    }\n",
              "\n",
              "    .colab-df-convert:hover {\n",
              "      background-color: #E2EBFA;\n",
              "      box-shadow: 0px 1px 2px rgba(60, 64, 67, 0.3), 0px 1px 3px 1px rgba(60, 64, 67, 0.15);\n",
              "      fill: #174EA6;\n",
              "    }\n",
              "\n",
              "    [theme=dark] .colab-df-convert {\n",
              "      background-color: #3B4455;\n",
              "      fill: #D2E3FC;\n",
              "    }\n",
              "\n",
              "    [theme=dark] .colab-df-convert:hover {\n",
              "      background-color: #434B5C;\n",
              "      box-shadow: 0px 1px 3px 1px rgba(0, 0, 0, 0.15);\n",
              "      filter: drop-shadow(0px 1px 2px rgba(0, 0, 0, 0.3));\n",
              "      fill: #FFFFFF;\n",
              "    }\n",
              "  </style>\n",
              "\n",
              "      <script>\n",
              "        const buttonEl =\n",
              "          document.querySelector('#df-edb996fa-f865-4f96-bc98-754f12d50eb2 button.colab-df-convert');\n",
              "        buttonEl.style.display =\n",
              "          google.colab.kernel.accessAllowed ? 'block' : 'none';\n",
              "\n",
              "        async function convertToInteractive(key) {\n",
              "          const element = document.querySelector('#df-edb996fa-f865-4f96-bc98-754f12d50eb2');\n",
              "          const dataTable =\n",
              "            await google.colab.kernel.invokeFunction('convertToInteractive',\n",
              "                                                     [key], {});\n",
              "          if (!dataTable) return;\n",
              "\n",
              "          const docLinkHtml = 'Like what you see? Visit the ' +\n",
              "            '<a target=\"_blank\" href=https://colab.research.google.com/notebooks/data_table.ipynb>data table notebook</a>'\n",
              "            + ' to learn more about interactive tables.';\n",
              "          element.innerHTML = '';\n",
              "          dataTable['output_type'] = 'display_data';\n",
              "          await google.colab.output.renderOutput(dataTable, element);\n",
              "          const docLink = document.createElement('div');\n",
              "          docLink.innerHTML = docLinkHtml;\n",
              "          element.appendChild(docLink);\n",
              "        }\n",
              "      </script>\n",
              "    </div>\n",
              "  </div>\n",
              "  "
            ]
          },
          "metadata": {},
          "execution_count": 21
        }
      ]
    },
    {
      "cell_type": "code",
      "source": [
        "y_train_val = df_video1['event']\n",
        "y_train_val.to_frame()"
      ],
      "metadata": {
        "colab": {
          "base_uri": "https://localhost:8080/",
          "height": 424
        },
        "id": "7Dq2U8KkZFmC",
        "outputId": "50d08d43-e7fe-4470-8427-f8f360652ed7"
      },
      "execution_count": 22,
      "outputs": [
        {
          "output_type": "execute_result",
          "data": {
            "text/plain": [
              "         event\n",
              "1    challenge\n",
              "4    challenge\n",
              "7      throwin\n",
              "10        play\n",
              "13        play\n",
              "..         ...\n",
              "986       play\n",
              "989  challenge\n",
              "992  challenge\n",
              "995       play\n",
              "998       play\n",
              "\n",
              "[396 rows x 1 columns]"
            ],
            "text/html": [
              "\n",
              "  <div id=\"df-5f664a99-2fa8-4393-994a-c0a15e16759d\">\n",
              "    <div class=\"colab-df-container\">\n",
              "      <div>\n",
              "<style scoped>\n",
              "    .dataframe tbody tr th:only-of-type {\n",
              "        vertical-align: middle;\n",
              "    }\n",
              "\n",
              "    .dataframe tbody tr th {\n",
              "        vertical-align: top;\n",
              "    }\n",
              "\n",
              "    .dataframe thead th {\n",
              "        text-align: right;\n",
              "    }\n",
              "</style>\n",
              "<table border=\"1\" class=\"dataframe\">\n",
              "  <thead>\n",
              "    <tr style=\"text-align: right;\">\n",
              "      <th></th>\n",
              "      <th>event</th>\n",
              "    </tr>\n",
              "  </thead>\n",
              "  <tbody>\n",
              "    <tr>\n",
              "      <th>1</th>\n",
              "      <td>challenge</td>\n",
              "    </tr>\n",
              "    <tr>\n",
              "      <th>4</th>\n",
              "      <td>challenge</td>\n",
              "    </tr>\n",
              "    <tr>\n",
              "      <th>7</th>\n",
              "      <td>throwin</td>\n",
              "    </tr>\n",
              "    <tr>\n",
              "      <th>10</th>\n",
              "      <td>play</td>\n",
              "    </tr>\n",
              "    <tr>\n",
              "      <th>13</th>\n",
              "      <td>play</td>\n",
              "    </tr>\n",
              "    <tr>\n",
              "      <th>...</th>\n",
              "      <td>...</td>\n",
              "    </tr>\n",
              "    <tr>\n",
              "      <th>986</th>\n",
              "      <td>play</td>\n",
              "    </tr>\n",
              "    <tr>\n",
              "      <th>989</th>\n",
              "      <td>challenge</td>\n",
              "    </tr>\n",
              "    <tr>\n",
              "      <th>992</th>\n",
              "      <td>challenge</td>\n",
              "    </tr>\n",
              "    <tr>\n",
              "      <th>995</th>\n",
              "      <td>play</td>\n",
              "    </tr>\n",
              "    <tr>\n",
              "      <th>998</th>\n",
              "      <td>play</td>\n",
              "    </tr>\n",
              "  </tbody>\n",
              "</table>\n",
              "<p>396 rows × 1 columns</p>\n",
              "</div>\n",
              "      <button class=\"colab-df-convert\" onclick=\"convertToInteractive('df-5f664a99-2fa8-4393-994a-c0a15e16759d')\"\n",
              "              title=\"Convert this dataframe to an interactive table.\"\n",
              "              style=\"display:none;\">\n",
              "        \n",
              "  <svg xmlns=\"http://www.w3.org/2000/svg\" height=\"24px\"viewBox=\"0 0 24 24\"\n",
              "       width=\"24px\">\n",
              "    <path d=\"M0 0h24v24H0V0z\" fill=\"none\"/>\n",
              "    <path d=\"M18.56 5.44l.94 2.06.94-2.06 2.06-.94-2.06-.94-.94-2.06-.94 2.06-2.06.94zm-11 1L8.5 8.5l.94-2.06 2.06-.94-2.06-.94L8.5 2.5l-.94 2.06-2.06.94zm10 10l.94 2.06.94-2.06 2.06-.94-2.06-.94-.94-2.06-.94 2.06-2.06.94z\"/><path d=\"M17.41 7.96l-1.37-1.37c-.4-.4-.92-.59-1.43-.59-.52 0-1.04.2-1.43.59L10.3 9.45l-7.72 7.72c-.78.78-.78 2.05 0 2.83L4 21.41c.39.39.9.59 1.41.59.51 0 1.02-.2 1.41-.59l7.78-7.78 2.81-2.81c.8-.78.8-2.07 0-2.86zM5.41 20L4 18.59l7.72-7.72 1.47 1.35L5.41 20z\"/>\n",
              "  </svg>\n",
              "      </button>\n",
              "      \n",
              "  <style>\n",
              "    .colab-df-container {\n",
              "      display:flex;\n",
              "      flex-wrap:wrap;\n",
              "      gap: 12px;\n",
              "    }\n",
              "\n",
              "    .colab-df-convert {\n",
              "      background-color: #E8F0FE;\n",
              "      border: none;\n",
              "      border-radius: 50%;\n",
              "      cursor: pointer;\n",
              "      display: none;\n",
              "      fill: #1967D2;\n",
              "      height: 32px;\n",
              "      padding: 0 0 0 0;\n",
              "      width: 32px;\n",
              "    }\n",
              "\n",
              "    .colab-df-convert:hover {\n",
              "      background-color: #E2EBFA;\n",
              "      box-shadow: 0px 1px 2px rgba(60, 64, 67, 0.3), 0px 1px 3px 1px rgba(60, 64, 67, 0.15);\n",
              "      fill: #174EA6;\n",
              "    }\n",
              "\n",
              "    [theme=dark] .colab-df-convert {\n",
              "      background-color: #3B4455;\n",
              "      fill: #D2E3FC;\n",
              "    }\n",
              "\n",
              "    [theme=dark] .colab-df-convert:hover {\n",
              "      background-color: #434B5C;\n",
              "      box-shadow: 0px 1px 3px 1px rgba(0, 0, 0, 0.15);\n",
              "      filter: drop-shadow(0px 1px 2px rgba(0, 0, 0, 0.3));\n",
              "      fill: #FFFFFF;\n",
              "    }\n",
              "  </style>\n",
              "\n",
              "      <script>\n",
              "        const buttonEl =\n",
              "          document.querySelector('#df-5f664a99-2fa8-4393-994a-c0a15e16759d button.colab-df-convert');\n",
              "        buttonEl.style.display =\n",
              "          google.colab.kernel.accessAllowed ? 'block' : 'none';\n",
              "\n",
              "        async function convertToInteractive(key) {\n",
              "          const element = document.querySelector('#df-5f664a99-2fa8-4393-994a-c0a15e16759d');\n",
              "          const dataTable =\n",
              "            await google.colab.kernel.invokeFunction('convertToInteractive',\n",
              "                                                     [key], {});\n",
              "          if (!dataTable) return;\n",
              "\n",
              "          const docLinkHtml = 'Like what you see? Visit the ' +\n",
              "            '<a target=\"_blank\" href=https://colab.research.google.com/notebooks/data_table.ipynb>data table notebook</a>'\n",
              "            + ' to learn more about interactive tables.';\n",
              "          element.innerHTML = '';\n",
              "          dataTable['output_type'] = 'display_data';\n",
              "          await google.colab.output.renderOutput(dataTable, element);\n",
              "          const docLink = document.createElement('div');\n",
              "          docLink.innerHTML = docLinkHtml;\n",
              "          element.appendChild(docLink);\n",
              "        }\n",
              "      </script>\n",
              "    </div>\n",
              "  </div>\n",
              "  "
            ]
          },
          "metadata": {},
          "execution_count": 22
        }
      ]
    },
    {
      "cell_type": "code",
      "source": [
        "y_test = df_video2['event']\n",
        "y_test.to_frame()"
      ],
      "metadata": {
        "colab": {
          "base_uri": "https://localhost:8080/",
          "height": 424
        },
        "id": "lEvhsfv8DSkH",
        "outputId": "8691c19b-85aa-4982-dfc6-e8f3552fad66"
      },
      "execution_count": 23,
      "outputs": [
        {
          "output_type": "execute_result",
          "data": {
            "text/plain": [
              "          event\n",
              "1001       play\n",
              "1002       play\n",
              "1005       play\n",
              "1006       play\n",
              "1007       play\n",
              "...         ...\n",
              "2235  challenge\n",
              "2238       play\n",
              "2241       play\n",
              "2244       play\n",
              "2247       play\n",
              "\n",
              "[507 rows x 1 columns]"
            ],
            "text/html": [
              "\n",
              "  <div id=\"df-0367c08e-46b2-4704-827b-45775e1875be\">\n",
              "    <div class=\"colab-df-container\">\n",
              "      <div>\n",
              "<style scoped>\n",
              "    .dataframe tbody tr th:only-of-type {\n",
              "        vertical-align: middle;\n",
              "    }\n",
              "\n",
              "    .dataframe tbody tr th {\n",
              "        vertical-align: top;\n",
              "    }\n",
              "\n",
              "    .dataframe thead th {\n",
              "        text-align: right;\n",
              "    }\n",
              "</style>\n",
              "<table border=\"1\" class=\"dataframe\">\n",
              "  <thead>\n",
              "    <tr style=\"text-align: right;\">\n",
              "      <th></th>\n",
              "      <th>event</th>\n",
              "    </tr>\n",
              "  </thead>\n",
              "  <tbody>\n",
              "    <tr>\n",
              "      <th>1001</th>\n",
              "      <td>play</td>\n",
              "    </tr>\n",
              "    <tr>\n",
              "      <th>1002</th>\n",
              "      <td>play</td>\n",
              "    </tr>\n",
              "    <tr>\n",
              "      <th>1005</th>\n",
              "      <td>play</td>\n",
              "    </tr>\n",
              "    <tr>\n",
              "      <th>1006</th>\n",
              "      <td>play</td>\n",
              "    </tr>\n",
              "    <tr>\n",
              "      <th>1007</th>\n",
              "      <td>play</td>\n",
              "    </tr>\n",
              "    <tr>\n",
              "      <th>...</th>\n",
              "      <td>...</td>\n",
              "    </tr>\n",
              "    <tr>\n",
              "      <th>2235</th>\n",
              "      <td>challenge</td>\n",
              "    </tr>\n",
              "    <tr>\n",
              "      <th>2238</th>\n",
              "      <td>play</td>\n",
              "    </tr>\n",
              "    <tr>\n",
              "      <th>2241</th>\n",
              "      <td>play</td>\n",
              "    </tr>\n",
              "    <tr>\n",
              "      <th>2244</th>\n",
              "      <td>play</td>\n",
              "    </tr>\n",
              "    <tr>\n",
              "      <th>2247</th>\n",
              "      <td>play</td>\n",
              "    </tr>\n",
              "  </tbody>\n",
              "</table>\n",
              "<p>507 rows × 1 columns</p>\n",
              "</div>\n",
              "      <button class=\"colab-df-convert\" onclick=\"convertToInteractive('df-0367c08e-46b2-4704-827b-45775e1875be')\"\n",
              "              title=\"Convert this dataframe to an interactive table.\"\n",
              "              style=\"display:none;\">\n",
              "        \n",
              "  <svg xmlns=\"http://www.w3.org/2000/svg\" height=\"24px\"viewBox=\"0 0 24 24\"\n",
              "       width=\"24px\">\n",
              "    <path d=\"M0 0h24v24H0V0z\" fill=\"none\"/>\n",
              "    <path d=\"M18.56 5.44l.94 2.06.94-2.06 2.06-.94-2.06-.94-.94-2.06-.94 2.06-2.06.94zm-11 1L8.5 8.5l.94-2.06 2.06-.94-2.06-.94L8.5 2.5l-.94 2.06-2.06.94zm10 10l.94 2.06.94-2.06 2.06-.94-2.06-.94-.94-2.06-.94 2.06-2.06.94z\"/><path d=\"M17.41 7.96l-1.37-1.37c-.4-.4-.92-.59-1.43-.59-.52 0-1.04.2-1.43.59L10.3 9.45l-7.72 7.72c-.78.78-.78 2.05 0 2.83L4 21.41c.39.39.9.59 1.41.59.51 0 1.02-.2 1.41-.59l7.78-7.78 2.81-2.81c.8-.78.8-2.07 0-2.86zM5.41 20L4 18.59l7.72-7.72 1.47 1.35L5.41 20z\"/>\n",
              "  </svg>\n",
              "      </button>\n",
              "      \n",
              "  <style>\n",
              "    .colab-df-container {\n",
              "      display:flex;\n",
              "      flex-wrap:wrap;\n",
              "      gap: 12px;\n",
              "    }\n",
              "\n",
              "    .colab-df-convert {\n",
              "      background-color: #E8F0FE;\n",
              "      border: none;\n",
              "      border-radius: 50%;\n",
              "      cursor: pointer;\n",
              "      display: none;\n",
              "      fill: #1967D2;\n",
              "      height: 32px;\n",
              "      padding: 0 0 0 0;\n",
              "      width: 32px;\n",
              "    }\n",
              "\n",
              "    .colab-df-convert:hover {\n",
              "      background-color: #E2EBFA;\n",
              "      box-shadow: 0px 1px 2px rgba(60, 64, 67, 0.3), 0px 1px 3px 1px rgba(60, 64, 67, 0.15);\n",
              "      fill: #174EA6;\n",
              "    }\n",
              "\n",
              "    [theme=dark] .colab-df-convert {\n",
              "      background-color: #3B4455;\n",
              "      fill: #D2E3FC;\n",
              "    }\n",
              "\n",
              "    [theme=dark] .colab-df-convert:hover {\n",
              "      background-color: #434B5C;\n",
              "      box-shadow: 0px 1px 3px 1px rgba(0, 0, 0, 0.15);\n",
              "      filter: drop-shadow(0px 1px 2px rgba(0, 0, 0, 0.3));\n",
              "      fill: #FFFFFF;\n",
              "    }\n",
              "  </style>\n",
              "\n",
              "      <script>\n",
              "        const buttonEl =\n",
              "          document.querySelector('#df-0367c08e-46b2-4704-827b-45775e1875be button.colab-df-convert');\n",
              "        buttonEl.style.display =\n",
              "          google.colab.kernel.accessAllowed ? 'block' : 'none';\n",
              "\n",
              "        async function convertToInteractive(key) {\n",
              "          const element = document.querySelector('#df-0367c08e-46b2-4704-827b-45775e1875be');\n",
              "          const dataTable =\n",
              "            await google.colab.kernel.invokeFunction('convertToInteractive',\n",
              "                                                     [key], {});\n",
              "          if (!dataTable) return;\n",
              "\n",
              "          const docLinkHtml = 'Like what you see? Visit the ' +\n",
              "            '<a target=\"_blank\" href=https://colab.research.google.com/notebooks/data_table.ipynb>data table notebook</a>'\n",
              "            + ' to learn more about interactive tables.';\n",
              "          element.innerHTML = '';\n",
              "          dataTable['output_type'] = 'display_data';\n",
              "          await google.colab.output.renderOutput(dataTable, element);\n",
              "          const docLink = document.createElement('div');\n",
              "          docLink.innerHTML = docLinkHtml;\n",
              "          element.appendChild(docLink);\n",
              "        }\n",
              "      </script>\n",
              "    </div>\n",
              "  </div>\n",
              "  "
            ]
          },
          "metadata": {},
          "execution_count": 23
        }
      ]
    },
    {
      "cell_type": "code",
      "source": [
        "from sklearn.preprocessing import OneHotEncoder\n",
        "\n",
        "encoder = OneHotEncoder(sparse=False, handle_unknown='ignore')\n",
        "\n",
        "current_feat = ['event']\n",
        "\n",
        "print('Shape of y_test before transformation: ', y_test.shape)\n",
        "y_test = y_test.to_frame()\n",
        "\n",
        "# Fit and transform data\n",
        "encoder.fit(y_test[current_feat])\n",
        "y_test[encoder.get_feature_names_out(list(current_feat))] = encoder.transform(y_test[current_feat])\n",
        "y_test = y_test.drop(columns=current_feat)\n",
        "\n",
        "print('Shape of y_test after transformation: ', y_test.shape)"
      ],
      "metadata": {
        "colab": {
          "base_uri": "https://localhost:8080/"
        },
        "id": "mE6-seNZZFqp",
        "outputId": "194e3b3a-70d8-438d-e508-e6d034b21e97"
      },
      "execution_count": 24,
      "outputs": [
        {
          "output_type": "stream",
          "name": "stdout",
          "text": [
            "Shape of y_test before transformation:  (507,)\n",
            "Shape of y_test after transformation:  (507, 3)\n"
          ]
        }
      ]
    },
    {
      "cell_type": "code",
      "source": [
        "from sklearn.preprocessing import OneHotEncoder\n",
        "\n",
        "encoder = OneHotEncoder(sparse=False, handle_unknown='ignore')\n",
        "\n",
        "current_feat = ['event']\n",
        "\n",
        "print('Shape of y_train_val before transformation: ', y_train_val.shape)\n",
        "y_train_val = y_train_val.to_frame()\n",
        "\n",
        "# Fit and transform data\n",
        "encoder.fit(y_train_val[current_feat])\n",
        "y_train_val[encoder.get_feature_names_out(list(current_feat))] = encoder.transform(y_train_val[current_feat])\n",
        "y_train_val = y_train_val.drop(columns=current_feat)\n",
        "\n",
        "print('Shape of y_train_val after transformation: ', y_train_val.shape)"
      ],
      "metadata": {
        "colab": {
          "base_uri": "https://localhost:8080/"
        },
        "id": "TSFWogm3DcCu",
        "outputId": "76d49907-9039-4731-8e2b-f0c0b4aebfee"
      },
      "execution_count": 25,
      "outputs": [
        {
          "output_type": "stream",
          "name": "stdout",
          "text": [
            "Shape of y_train_val before transformation:  (396,)\n",
            "Shape of y_train_val after transformation:  (396, 3)\n"
          ]
        }
      ]
    },
    {
      "cell_type": "code",
      "source": [],
      "metadata": {
        "id": "gm6_Z5Urbi4R"
      },
      "execution_count": null,
      "outputs": []
    },
    {
      "cell_type": "markdown",
      "source": [
        "Files without compressing:"
      ],
      "metadata": {
        "id": "MMZcUuqt5Juf"
      }
    },
    {
      "cell_type": "code",
      "source": [
        "# X_train = np.load('/content/drive/MyDrive/Bundesliga/PicsFromVids/1606b0e6_0.npy')\n",
        "# X_train2 = np.load('/content/drive/MyDrive/Bundesliga/PicsFromVids/1606b0e6_1.npy')\n",
        "# X_train3 = np.load('/content/drive/MyDrive/Bundesliga/PicsFromVids/35bd9041_0.npy')\n",
        "# X_train4 = np.load('/content/drive/MyDrive/Bundesliga/PicsFromVids/35bd9041_1.npy')\n",
        "# X_train5 = np.load('/content/drive/MyDrive/Bundesliga/PicsFromVids/3c993bd2_0.npy')"
      ],
      "metadata": {
        "id": "oV1W3jYEKd2G"
      },
      "execution_count": 23,
      "outputs": []
    },
    {
      "cell_type": "code",
      "source": [
        "# X_train.shape\n",
        "# X_train2.shape, X_train3.shape, X_train4.shape, X_train5.shape"
      ],
      "metadata": {
        "id": "Vyyo2enhLVsE"
      },
      "execution_count": 24,
      "outputs": []
    },
    {
      "cell_type": "code",
      "source": [
        "# X_train.max()\n",
        "# X_train2.max(), X_train3.max(), X_train4.max(), X_train5.max()"
      ],
      "metadata": {
        "id": "eW_PLYYyKIJg"
      },
      "execution_count": 25,
      "outputs": []
    },
    {
      "cell_type": "markdown",
      "source": [
        "# Working with compressed pictures:"
      ],
      "metadata": {
        "id": "qggrXXK15SCw"
      }
    },
    {
      "cell_type": "markdown",
      "source": [
        "## Training the model with just the first video and original (unbalanced) data:"
      ],
      "metadata": {
        "id": "NU5qW4MgrXia"
      }
    },
    {
      "cell_type": "code",
      "source": [
        "X_train_val = np.load('/content/drive/MyDrive/Bundesliga/PicsFromVids/CompressedPic/1606b0e6_0.npz')"
      ],
      "metadata": {
        "id": "F0bJkMeY5RWv"
      },
      "execution_count": 26,
      "outputs": []
    },
    {
      "cell_type": "code",
      "source": [
        "X_test = np.load('/content/drive/MyDrive/Bundesliga/PicsFromVids/CompressedPic/1606b0e6_1.npz')\n",
        "X_test = X_test.f.arr_0"
      ],
      "metadata": {
        "id": "NoWSdli-C1d5"
      },
      "execution_count": 40,
      "outputs": []
    },
    {
      "cell_type": "code",
      "source": [
        "X_train_val = X_train_val.f.arr_0"
      ],
      "metadata": {
        "id": "wYEc3vpIDDgw"
      },
      "execution_count": null,
      "outputs": []
    },
    {
      "cell_type": "code",
      "source": [
        "X_train_val.f.arr_0.shape"
      ],
      "metadata": {
        "colab": {
          "base_uri": "https://localhost:8080/"
        },
        "id": "LG4svreS7shr",
        "outputId": "4eeab90e-8965-49bd-d267-9f1065c73a1e"
      },
      "execution_count": 27,
      "outputs": [
        {
          "output_type": "execute_result",
          "data": {
            "text/plain": [
              "(396, 480, 640, 3)"
            ]
          },
          "metadata": {},
          "execution_count": 27
        }
      ]
    },
    {
      "cell_type": "code",
      "source": [
        "X_test.shape"
      ],
      "metadata": {
        "colab": {
          "base_uri": "https://localhost:8080/"
        },
        "id": "hK-TrpnsC_tN",
        "outputId": "ca76e7c3-37d6-4616-94a6-06ac1393b433"
      },
      "execution_count": 41,
      "outputs": [
        {
          "output_type": "execute_result",
          "data": {
            "text/plain": [
              "(507, 480, 640, 3)"
            ]
          },
          "metadata": {},
          "execution_count": 41
        }
      ]
    },
    {
      "cell_type": "code",
      "source": [
        "input_shape = X_train_val.shape[1], X_train_val.shape[2], X_train_val.shape[3]\n",
        "\n",
        "model = Sequential([\n",
        "    Rescaling(1/255, \n",
        "              input_shape=input_shape),   \n",
        "    Conv2D(96, \n",
        "           11, \n",
        "           strides=4, \n",
        "           activation='relu'),\n",
        "    MaxPooling2D(pool_size=3, \n",
        "                 strides=2),\n",
        "    Conv2D(256, \n",
        "           5, \n",
        "           activation='relu'),\n",
        "    MaxPooling2D(pool_size=3, \n",
        "                 strides=2),\n",
        "    Conv2D(384, \n",
        "           3, \n",
        "           activation='relu'),\n",
        "    Conv2D(384, \n",
        "           3, \n",
        "           activation='relu'),\n",
        "    Conv2D(256, \n",
        "           3, \n",
        "           activation='relu'),\n",
        "    MaxPooling2D(),\n",
        "    Flatten(),\n",
        "    Dense(256, \n",
        "          activation='relu'),\n",
        "    Dense(256, \n",
        "          activation='relu'),\n",
        "    Dense(3, \n",
        "          activation='softmax')\n",
        "])"
      ],
      "metadata": {
        "id": "DFusjhJULoVl"
      },
      "execution_count": 31,
      "outputs": []
    },
    {
      "cell_type": "code",
      "source": [
        "model.input_shape, model.output_shape"
      ],
      "metadata": {
        "colab": {
          "base_uri": "https://localhost:8080/"
        },
        "id": "ZF7FZI-AGKw-",
        "outputId": "5c5a2f31-ab3c-4523-dbec-ba1647dcf117"
      },
      "execution_count": 32,
      "outputs": [
        {
          "output_type": "execute_result",
          "data": {
            "text/plain": [
              "((None, 480, 640, 3), (None, 3))"
            ]
          },
          "metadata": {},
          "execution_count": 32
        }
      ]
    },
    {
      "cell_type": "code",
      "source": [
        "X_train_val.shape, y_train_val.shape"
      ],
      "metadata": {
        "colab": {
          "base_uri": "https://localhost:8080/"
        },
        "id": "1BPjhbo-bIX2",
        "outputId": "d247f0d4-bb0d-48aa-d614-d8e804561aee"
      },
      "execution_count": 33,
      "outputs": [
        {
          "output_type": "execute_result",
          "data": {
            "text/plain": [
              "((396, 480, 640, 3), (396, 3))"
            ]
          },
          "metadata": {},
          "execution_count": 33
        }
      ]
    },
    {
      "cell_type": "code",
      "source": [
        "y_train_val.value_counts()"
      ],
      "metadata": {
        "colab": {
          "base_uri": "https://localhost:8080/"
        },
        "id": "Tz8jM5nneJeW",
        "outputId": "ed9d43e4-0423-491a-bb01-fc53c7bd3b1b"
      },
      "execution_count": 34,
      "outputs": [
        {
          "output_type": "execute_result",
          "data": {
            "text/plain": [
              "event_challenge  event_play  event_throwin\n",
              "0.0              1.0         0.0              319\n",
              "1.0              0.0         0.0               56\n",
              "0.0              0.0         1.0               21\n",
              "dtype: int64"
            ]
          },
          "metadata": {},
          "execution_count": 34
        }
      ]
    },
    {
      "cell_type": "code",
      "source": [
        "model.summary()"
      ],
      "metadata": {
        "colab": {
          "base_uri": "https://localhost:8080/"
        },
        "id": "NvBupBE3bN9F",
        "outputId": "f77bcfcb-0bd0-4be7-c957-5c23485dd953"
      },
      "execution_count": 35,
      "outputs": [
        {
          "output_type": "stream",
          "name": "stdout",
          "text": [
            "Model: \"sequential\"\n",
            "_________________________________________________________________\n",
            " Layer (type)                Output Shape              Param #   \n",
            "=================================================================\n",
            " rescaling (Rescaling)       (None, 480, 640, 3)       0         \n",
            "                                                                 \n",
            " conv2d (Conv2D)             (None, 118, 158, 96)      34944     \n",
            "                                                                 \n",
            " max_pooling2d (MaxPooling2D  (None, 58, 78, 96)       0         \n",
            " )                                                               \n",
            "                                                                 \n",
            " conv2d_1 (Conv2D)           (None, 54, 74, 256)       614656    \n",
            "                                                                 \n",
            " max_pooling2d_1 (MaxPooling  (None, 26, 36, 256)      0         \n",
            " 2D)                                                             \n",
            "                                                                 \n",
            " conv2d_2 (Conv2D)           (None, 24, 34, 384)       885120    \n",
            "                                                                 \n",
            " conv2d_3 (Conv2D)           (None, 22, 32, 384)       1327488   \n",
            "                                                                 \n",
            " conv2d_4 (Conv2D)           (None, 20, 30, 256)       884992    \n",
            "                                                                 \n",
            " max_pooling2d_2 (MaxPooling  (None, 10, 15, 256)      0         \n",
            " 2D)                                                             \n",
            "                                                                 \n",
            " flatten (Flatten)           (None, 38400)             0         \n",
            "                                                                 \n",
            " dense (Dense)               (None, 256)               9830656   \n",
            "                                                                 \n",
            " dense_1 (Dense)             (None, 256)               65792     \n",
            "                                                                 \n",
            " dense_2 (Dense)             (None, 3)                 771       \n",
            "                                                                 \n",
            "=================================================================\n",
            "Total params: 13,644,419\n",
            "Trainable params: 13,644,419\n",
            "Non-trainable params: 0\n",
            "_________________________________________________________________\n"
          ]
        }
      ]
    },
    {
      "cell_type": "code",
      "source": [
        "model.compile(loss='categorical_crossentropy',\n",
        "              optimizer='adam',\n",
        "              metrics='accuracy',\n",
        "              )"
      ],
      "metadata": {
        "id": "vmB9Qj_ncEtX"
      },
      "execution_count": 36,
      "outputs": []
    },
    {
      "cell_type": "code",
      "source": [
        "callback = EarlyStopping(monitor='val_loss',\n",
        "                         patience=5,\n",
        "                         restore_best_weights=True\n",
        "                         )"
      ],
      "metadata": {
        "id": "yLkCn7O2djJn"
      },
      "execution_count": 37,
      "outputs": []
    },
    {
      "cell_type": "code",
      "source": [
        "EPOCHS = 100\n",
        "model.fit(X_train_val, \n",
        "          y_train_val, \n",
        "          validation_split=0.2, \n",
        "          batch_size=16, \n",
        "          epochs=EPOCHS,\n",
        "          callbacks=[callback])"
      ],
      "metadata": {
        "colab": {
          "base_uri": "https://localhost:8080/"
        },
        "id": "ePSfdfoNdNS2",
        "outputId": "274013ac-0f1d-4ef8-fb96-5a98059edadd"
      },
      "execution_count": 38,
      "outputs": [
        {
          "output_type": "stream",
          "name": "stdout",
          "text": [
            "Epoch 1/100\n",
            "20/20 [==============================] - 143s 7s/step - loss: 1.0201 - accuracy: 0.7310 - val_loss: 0.6056 - val_accuracy: 0.8500\n",
            "Epoch 2/100\n",
            "20/20 [==============================] - 134s 7s/step - loss: 0.6940 - accuracy: 0.7943 - val_loss: 0.5458 - val_accuracy: 0.8500\n",
            "Epoch 3/100\n",
            "20/20 [==============================] - 134s 7s/step - loss: 0.6615 - accuracy: 0.7943 - val_loss: 0.5162 - val_accuracy: 0.8500\n",
            "Epoch 4/100\n",
            "20/20 [==============================] - 134s 7s/step - loss: 0.6504 - accuracy: 0.7943 - val_loss: 0.5096 - val_accuracy: 0.8500\n",
            "Epoch 5/100\n",
            "20/20 [==============================] - 134s 7s/step - loss: 0.6485 - accuracy: 0.7943 - val_loss: 0.5485 - val_accuracy: 0.8500\n",
            "Epoch 6/100\n",
            "20/20 [==============================] - 134s 7s/step - loss: 0.6371 - accuracy: 0.7943 - val_loss: 0.5258 - val_accuracy: 0.8500\n",
            "Epoch 7/100\n",
            "20/20 [==============================] - 133s 7s/step - loss: 0.6396 - accuracy: 0.7943 - val_loss: 0.6021 - val_accuracy: 0.8500\n",
            "Epoch 8/100\n",
            "20/20 [==============================] - 134s 7s/step - loss: 0.6567 - accuracy: 0.7943 - val_loss: 0.5157 - val_accuracy: 0.8500\n",
            "Epoch 9/100\n",
            "20/20 [==============================] - 134s 7s/step - loss: 0.6511 - accuracy: 0.7943 - val_loss: 0.5229 - val_accuracy: 0.8500\n"
          ]
        },
        {
          "output_type": "execute_result",
          "data": {
            "text/plain": [
              "<keras.callbacks.History at 0x7f3315000650>"
            ]
          },
          "metadata": {},
          "execution_count": 38
        }
      ]
    },
    {
      "cell_type": "code",
      "source": [
        "INDEX_ACCURACY = 1\n",
        "print(f'\\nAccuracy on the test set: {model.evaluate(X_test, y_test)[INDEX_ACCURACY]:.4f}')"
      ],
      "metadata": {
        "colab": {
          "base_uri": "https://localhost:8080/"
        },
        "id": "IKMOr40LdyC6",
        "outputId": "82ca37f8-977d-4737-e266-7ba72a26d598"
      },
      "execution_count": 48,
      "outputs": [
        {
          "output_type": "stream",
          "name": "stdout",
          "text": [
            "16/16 [==============================] - 63s 4s/step - loss: 0.4800 - accuracy: 0.8560\n",
            "\n",
            "Accuracy on the test set: 0.8560\n"
          ]
        }
      ]
    },
    {
      "cell_type": "code",
      "source": [
        "y_pred = model.predict(X_test)"
      ],
      "metadata": {
        "colab": {
          "base_uri": "https://localhost:8080/"
        },
        "id": "fUvLMjqvD7Of",
        "outputId": "e5501a23-2499-46a5-b612-6253823df44d"
      },
      "execution_count": 49,
      "outputs": [
        {
          "output_type": "stream",
          "name": "stdout",
          "text": [
            "16/16 [==============================] - 62s 4s/step\n"
          ]
        }
      ]
    },
    {
      "cell_type": "code",
      "source": [
        "import sys\n",
        "np.set_printoptions(threshold=sys.maxsize)\n",
        "y_pred"
      ],
      "metadata": {
        "colab": {
          "base_uri": "https://localhost:8080/"
        },
        "id": "Bm1FBcj5E1fe",
        "outputId": "e292ac10-440c-46aa-ad73-c3549b84c2d3"
      },
      "execution_count": 51,
      "outputs": [
        {
          "output_type": "execute_result",
          "data": {
            "text/plain": [
              "array([[0.127561  , 0.8448479 , 0.0275911 ],\n",
              "       [0.12767003, 0.8446903 , 0.02763961],\n",
              "       [0.12760173, 0.8447908 , 0.0276075 ],\n",
              "       [0.1273588 , 0.84514177, 0.0274994 ],\n",
              "       [0.127394  , 0.8450924 , 0.0275136 ],\n",
              "       [0.12755343, 0.84486175, 0.0275849 ],\n",
              "       [0.12739739, 0.84508526, 0.02751737],\n",
              "       [0.12758857, 0.84480816, 0.02760324],\n",
              "       [0.12744667, 0.84501505, 0.02753821],\n",
              "       [0.12767054, 0.8446902 , 0.02763913],\n",
              "       [0.127578  , 0.84482336, 0.02759872],\n",
              "       [0.12768416, 0.8446706 , 0.02764536],\n",
              "       [0.12764794, 0.84472364, 0.02762833],\n",
              "       [0.1275285 , 0.844897  , 0.02757455],\n",
              "       [0.12746635, 0.8449872 , 0.02754644],\n",
              "       [0.12762552, 0.84475535, 0.02761909],\n",
              "       [0.12758239, 0.8448178 , 0.02759966],\n",
              "       [0.12763423, 0.84474236, 0.02762334],\n",
              "       [0.12738717, 0.8450998 , 0.02751304],\n",
              "       [0.12738664, 0.8451025 , 0.02751088],\n",
              "       [0.12742066, 0.8450523 , 0.02752698],\n",
              "       [0.1275657 , 0.8448426 , 0.02759168],\n",
              "       [0.12742098, 0.8450527 , 0.02752628],\n",
              "       [0.12741295, 0.8450645 , 0.02752252],\n",
              "       [0.12764397, 0.844729  , 0.02762709],\n",
              "       [0.12767062, 0.8446902 , 0.02763926],\n",
              "       [0.12755421, 0.8448602 , 0.02758555],\n",
              "       [0.12734483, 0.84516275, 0.02749241],\n",
              "       [0.12742378, 0.84504724, 0.02752891],\n",
              "       [0.12738739, 0.84509945, 0.02751309],\n",
              "       [0.12725997, 0.8452839 , 0.02745607],\n",
              "       [0.12728187, 0.845253  , 0.02746522],\n",
              "       [0.1276387 , 0.84473646, 0.02762483],\n",
              "       [0.12747571, 0.8449728 , 0.02755154],\n",
              "       [0.12759975, 0.84479296, 0.02760731],\n",
              "       [0.12736517, 0.845133  , 0.02750178],\n",
              "       [0.12748247, 0.8449627 , 0.02755491],\n",
              "       [0.12763655, 0.84474   , 0.02762345],\n",
              "       [0.12735099, 0.8451537 , 0.02749521],\n",
              "       [0.12745032, 0.8450103 , 0.02753944],\n",
              "       [0.12745418, 0.8450056 , 0.02754017],\n",
              "       [0.1274651 , 0.84498745, 0.02754744],\n",
              "       [0.1271742 , 0.84541404, 0.02741182],\n",
              "       [0.12745608, 0.8450014 , 0.02754243],\n",
              "       [0.12759633, 0.8447981 , 0.02760556],\n",
              "       [0.1275031 , 0.8449336 , 0.02756324],\n",
              "       [0.12752551, 0.8449014 , 0.027573  ],\n",
              "       [0.12748633, 0.8449592 , 0.02755444],\n",
              "       [0.12748249, 0.84496415, 0.02755347],\n",
              "       [0.12748429, 0.84496105, 0.02755472],\n",
              "       [0.12752417, 0.84490263, 0.02757328],\n",
              "       [0.12749341, 0.84494746, 0.02755915],\n",
              "       [0.12754738, 0.8448694 , 0.02758312],\n",
              "       [0.12749776, 0.8449424 , 0.02755974],\n",
              "       [0.12749065, 0.84495175, 0.02755752],\n",
              "       [0.12760097, 0.84479135, 0.0276077 ],\n",
              "       [0.12721817, 0.8453512 , 0.02743074],\n",
              "       [0.12705195, 0.8455919 , 0.02735602],\n",
              "       [0.12741736, 0.84505814, 0.02752454],\n",
              "       [0.12751423, 0.84491664, 0.02756906],\n",
              "       [0.12752892, 0.84489614, 0.02757486],\n",
              "       [0.1270049 , 0.8456559 , 0.02733906],\n",
              "       [0.12758985, 0.84480816, 0.027602  ],\n",
              "       [0.12753795, 0.8448837 , 0.0275783 ],\n",
              "       [0.12760559, 0.8447848 , 0.02760962],\n",
              "       [0.12751547, 0.8449149 , 0.02756958],\n",
              "       [0.12746589, 0.8449868 , 0.02754717],\n",
              "       [0.1273913 , 0.84509325, 0.02751544],\n",
              "       [0.12743263, 0.8450348 , 0.02753259],\n",
              "       [0.1273999 , 0.84508276, 0.02751737],\n",
              "       [0.12741855, 0.8450558 , 0.02752561],\n",
              "       [0.12749147, 0.84495026, 0.02755819],\n",
              "       [0.12753926, 0.84488106, 0.02757957],\n",
              "       [0.1275989 , 0.8447946 , 0.0276066 ],\n",
              "       [0.12746908, 0.844983  , 0.02754797],\n",
              "       [0.12762113, 0.84476274, 0.02761612],\n",
              "       [0.12765788, 0.8447092 , 0.0276329 ],\n",
              "       [0.12764141, 0.8447328 , 0.02762587],\n",
              "       [0.12753929, 0.8448806 , 0.02758016],\n",
              "       [0.12752223, 0.844905  , 0.02757272],\n",
              "       [0.12753181, 0.84489226, 0.02757599],\n",
              "       [0.12752645, 0.84490037, 0.02757318],\n",
              "       [0.12753272, 0.8448913 , 0.02757589],\n",
              "       [0.12765022, 0.8447197 , 0.02763005],\n",
              "       [0.12763937, 0.8447356 , 0.02762487],\n",
              "       [0.12764838, 0.8447229 , 0.02762866],\n",
              "       [0.12749708, 0.8449421 , 0.02756082],\n",
              "       [0.1274032 , 0.8450771 , 0.02751977],\n",
              "       [0.12738447, 0.8451042 , 0.02751127],\n",
              "       [0.12750068, 0.84493756, 0.0275617 ],\n",
              "       [0.1273938 , 0.8450915 , 0.02751471],\n",
              "       [0.12727994, 0.8452568 , 0.02746333],\n",
              "       [0.12744567, 0.84501743, 0.02753682],\n",
              "       [0.12742878, 0.8450415 , 0.0275297 ],\n",
              "       [0.1274175 , 0.8450564 , 0.02752613],\n",
              "       [0.12751517, 0.8449162 , 0.02756858],\n",
              "       [0.1275336 , 0.8448894 , 0.02757698],\n",
              "       [0.12765077, 0.8447185 , 0.02763066],\n",
              "       [0.1276148 , 0.8447718 , 0.02761344],\n",
              "       [0.12759407, 0.8448021 , 0.02760383],\n",
              "       [0.12765142, 0.844718  , 0.02763044],\n",
              "       [0.12761326, 0.8447736 , 0.02761305],\n",
              "       [0.12760095, 0.8447917 , 0.0276073 ],\n",
              "       [0.12746905, 0.8449851 , 0.0275459 ],\n",
              "       [0.12746495, 0.84499   , 0.02754504],\n",
              "       [0.1275301 , 0.84489435, 0.02757555],\n",
              "       [0.12760417, 0.8447869 , 0.02760897],\n",
              "       [0.12757708, 0.8448261 , 0.02759679],\n",
              "       [0.12753348, 0.8448888 , 0.02757764],\n",
              "       [0.12760763, 0.8447822 , 0.02761015],\n",
              "       [0.12754205, 0.8448762 , 0.0275817 ],\n",
              "       [0.12755686, 0.84485507, 0.02758801],\n",
              "       [0.12757386, 0.8448314 , 0.02759475],\n",
              "       [0.12760028, 0.84479314, 0.0276067 ],\n",
              "       [0.1275849 , 0.8448149 , 0.02760019],\n",
              "       [0.12752455, 0.84490234, 0.02757303],\n",
              "       [0.12750389, 0.8449323 , 0.02756372],\n",
              "       [0.12735131, 0.8451538 , 0.02749491],\n",
              "       [0.12742293, 0.8450497 , 0.02752745],\n",
              "       [0.12742606, 0.84504575, 0.02752821],\n",
              "       [0.12743145, 0.8450374 , 0.02753109],\n",
              "       [0.12738638, 0.845102  , 0.02751166],\n",
              "       [0.1276159 , 0.8447699 , 0.02761422],\n",
              "       [0.12764473, 0.8447282 , 0.02762709],\n",
              "       [0.12763011, 0.8447492 , 0.02762061],\n",
              "       [0.12724824, 0.8453019 , 0.02744991],\n",
              "       [0.12732057, 0.8451981 , 0.02748136],\n",
              "       [0.12727635, 0.8452618 , 0.02746191],\n",
              "       [0.127487  , 0.84495753, 0.02755556],\n",
              "       [0.12749365, 0.8449468 , 0.02755964],\n",
              "       [0.127389  , 0.84509754, 0.02751343],\n",
              "       [0.12741442, 0.8450618 , 0.02752374],\n",
              "       [0.12741408, 0.8450621 , 0.02752379],\n",
              "       [0.12740155, 0.8450794 , 0.02751911],\n",
              "       [0.12751491, 0.844917  , 0.02756811],\n",
              "       [0.12744826, 0.8450144 , 0.02753734],\n",
              "       [0.12760662, 0.84478325, 0.02761018],\n",
              "       [0.12762074, 0.8447626 , 0.02761663],\n",
              "       [0.12765832, 0.8447077 , 0.02763401],\n",
              "       [0.12741493, 0.8450621 , 0.02752302],\n",
              "       [0.12754163, 0.8448748 , 0.02758351],\n",
              "       [0.1276674 , 0.8446946 , 0.02763785],\n",
              "       [0.1275491 , 0.844866  , 0.02758493],\n",
              "       [0.12756912, 0.8448365 , 0.02759445],\n",
              "       [0.12752578, 0.8449014 , 0.02757284],\n",
              "       [0.12762591, 0.84475535, 0.02761875],\n",
              "       [0.12758759, 0.84481084, 0.02760152],\n",
              "       [0.12763132, 0.8447479 , 0.02762078],\n",
              "       [0.12765308, 0.8447153 , 0.02763155],\n",
              "       [0.12765765, 0.84470886, 0.02763346],\n",
              "       [0.1276366 , 0.84473914, 0.02762421],\n",
              "       [0.12762946, 0.84475094, 0.02761963],\n",
              "       [0.12745938, 0.844997  , 0.02754363],\n",
              "       [0.12749226, 0.84494925, 0.02755851],\n",
              "       [0.12745939, 0.8449982 , 0.02754244],\n",
              "       [0.12752722, 0.8448987 , 0.02757405],\n",
              "       [0.12729958, 0.8452277 , 0.02747264],\n",
              "       [0.12732649, 0.8451864 , 0.02748717],\n",
              "       [0.12732816, 0.8451855 , 0.02748634],\n",
              "       [0.12735133, 0.8451521 , 0.02749662],\n",
              "       [0.12736472, 0.8451305 , 0.02750484],\n",
              "       [0.12729399, 0.84523296, 0.02747314],\n",
              "       [0.12746388, 0.84499025, 0.02754583],\n",
              "       [0.12750678, 0.8449285 , 0.02756478],\n",
              "       [0.12756072, 0.8448504 , 0.0275888 ],\n",
              "       [0.12766105, 0.84470403, 0.02763483],\n",
              "       [0.1276317 , 0.8447468 , 0.0276215 ],\n",
              "       [0.12745848, 0.8449981 , 0.02754348],\n",
              "       [0.12759276, 0.8448032 , 0.02760396],\n",
              "       [0.12748332, 0.84496075, 0.02755592],\n",
              "       [0.1273391 , 0.8451702 , 0.02749077],\n",
              "       [0.1274295 , 0.8450404 , 0.02753015],\n",
              "       [0.12749308, 0.8449488 , 0.02755803],\n",
              "       [0.12752287, 0.8449043 , 0.02757285],\n",
              "       [0.12758134, 0.84482   , 0.02759866],\n",
              "       [0.12765513, 0.84471285, 0.02763195],\n",
              "       [0.12768519, 0.84466904, 0.02764571],\n",
              "       [0.12758557, 0.8448144 , 0.02760007],\n",
              "       [0.12742403, 0.8450491 , 0.02752702],\n",
              "       [0.12740234, 0.84508   , 0.02751765],\n",
              "       [0.12741578, 0.8450603 , 0.02752387],\n",
              "       [0.12750484, 0.8449306 , 0.0275645 ],\n",
              "       [0.12757908, 0.84482396, 0.02759691],\n",
              "       [0.12757427, 0.8448305 , 0.02759532],\n",
              "       [0.12769817, 0.84464973, 0.027652  ],\n",
              "       [0.12766312, 0.84470046, 0.02763636],\n",
              "       [0.12767342, 0.8446858 , 0.02764078],\n",
              "       [0.12752603, 0.84490067, 0.02757331],\n",
              "       [0.12765774, 0.84470904, 0.02763326],\n",
              "       [0.12747057, 0.8449812 , 0.02754823],\n",
              "       [0.12755239, 0.8448619 , 0.02758573],\n",
              "       [0.12740073, 0.845086  , 0.02751335],\n",
              "       [0.12733765, 0.8451721 , 0.02749016],\n",
              "       [0.12723078, 0.8453273 , 0.02744189],\n",
              "       [0.12734395, 0.84516466, 0.02749138],\n",
              "       [0.12742892, 0.84504163, 0.02752932],\n",
              "       [0.12749754, 0.8449419 , 0.02756065],\n",
              "       [0.12767668, 0.84468114, 0.02764216],\n",
              "       [0.12768865, 0.8446636 , 0.02764772],\n",
              "       [0.12765476, 0.8447133 , 0.02763195],\n",
              "       [0.12762912, 0.84475094, 0.02761994],\n",
              "       [0.12767673, 0.84468096, 0.02764228],\n",
              "       [0.12754525, 0.84487313, 0.02758165],\n",
              "       [0.12749235, 0.84494954, 0.02755818],\n",
              "       [0.12765074, 0.84471893, 0.02763036],\n",
              "       [0.12754345, 0.84487504, 0.02758156],\n",
              "       [0.12764245, 0.8447321 , 0.02762542],\n",
              "       [0.12769444, 0.84465516, 0.02765026],\n",
              "       [0.12761562, 0.8447704 , 0.02761399],\n",
              "       [0.12749471, 0.8449444 , 0.02756085],\n",
              "       [0.1274787 , 0.8449691 , 0.02755221],\n",
              "       [0.12738001, 0.8451108 , 0.02750916],\n",
              "       [0.12744886, 0.845013  , 0.02753807],\n",
              "       [0.12762843, 0.84475154, 0.02762001],\n",
              "       [0.12750047, 0.8449358 , 0.02756379],\n",
              "       [0.12726435, 0.84527946, 0.02745615],\n",
              "       [0.12747835, 0.8449704 , 0.02755121],\n",
              "       [0.12743591, 0.8450313 , 0.02753277],\n",
              "       [0.12744777, 0.8450142 , 0.02753801],\n",
              "       [0.1274367 , 0.8450304 , 0.0275328 ],\n",
              "       [0.12755683, 0.8448553 , 0.02758794],\n",
              "       [0.12759908, 0.84479433, 0.0276065 ],\n",
              "       [0.12737781, 0.845116  , 0.02750621],\n",
              "       [0.12764455, 0.84472805, 0.02762731],\n",
              "       [0.127601  , 0.8447918 , 0.02760716],\n",
              "       [0.12764311, 0.8447303 , 0.02762654],\n",
              "       [0.12743469, 0.8450332 , 0.02753197],\n",
              "       [0.1274935 , 0.8449481 , 0.02755837],\n",
              "       [0.1273204 , 0.8451994 , 0.02748007],\n",
              "       [0.12761861, 0.8447657 , 0.02761551],\n",
              "       [0.12739106, 0.8450952 , 0.02751363],\n",
              "       [0.12761013, 0.8447781 , 0.0276117 ],\n",
              "       [0.12737103, 0.84512407, 0.02750487],\n",
              "       [0.12744555, 0.84501946, 0.0275351 ],\n",
              "       [0.12750109, 0.84493595, 0.02756292],\n",
              "       [0.12740433, 0.8450777 , 0.02751791],\n",
              "       [0.12732176, 0.8451956 , 0.02748254],\n",
              "       [0.12748598, 0.8449586 , 0.02755538],\n",
              "       [0.1275839 , 0.8448169 , 0.02759922],\n",
              "       [0.12762164, 0.8447615 , 0.0276168 ],\n",
              "       [0.1274462 , 0.8450157 , 0.02753809],\n",
              "       [0.12741648, 0.84505945, 0.02752414],\n",
              "       [0.12744571, 0.845017  , 0.02753729],\n",
              "       [0.12737788, 0.8451158 , 0.0275063 ],\n",
              "       [0.12734844, 0.8451582 , 0.0274933 ],\n",
              "       [0.12739167, 0.8450943 , 0.02751396],\n",
              "       [0.12727879, 0.84525794, 0.02746328],\n",
              "       [0.12716629, 0.8454174 , 0.0274163 ],\n",
              "       [0.12728281, 0.8452501 , 0.027467  ],\n",
              "       [0.12754777, 0.8448688 , 0.02758331],\n",
              "       [0.12738906, 0.84510016, 0.02751071],\n",
              "       [0.12743582, 0.84503096, 0.02753325],\n",
              "       [0.1275029 , 0.84493583, 0.02756127],\n",
              "       [0.12735365, 0.845146  , 0.02750025],\n",
              "       [0.12730087, 0.8452225 , 0.02747669],\n",
              "       [0.12733212, 0.8451785 , 0.02748944],\n",
              "       [0.1273041 , 0.8452194 , 0.02747653],\n",
              "       [0.12724271, 0.8453087 , 0.02744861],\n",
              "       [0.1273071 , 0.84521675, 0.02747615],\n",
              "       [0.12738152, 0.8451096 , 0.02750902],\n",
              "       [0.12723906, 0.8453146 , 0.02744636],\n",
              "       [0.127447  , 0.84501404, 0.02753895],\n",
              "       [0.12753142, 0.84489286, 0.02757579],\n",
              "       [0.12741442, 0.845062  , 0.02752361],\n",
              "       [0.12731838, 0.84520113, 0.0274804 ],\n",
              "       [0.12738171, 0.8451105 , 0.0275078 ],\n",
              "       [0.1275858 , 0.8448136 , 0.02760053],\n",
              "       [0.1274349 , 0.8450326 , 0.02753261],\n",
              "       [0.12746543, 0.84498745, 0.02754721],\n",
              "       [0.12743817, 0.8450275 , 0.02753424],\n",
              "       [0.1273892 , 0.84509784, 0.02751294],\n",
              "       [0.12730363, 0.8452207 , 0.02747572],\n",
              "       [0.12741357, 0.8450626 , 0.02752379],\n",
              "       [0.12732312, 0.84519094, 0.02748601],\n",
              "       [0.12737054, 0.8451229 , 0.02750661],\n",
              "       [0.12728754, 0.8452437 , 0.02746875],\n",
              "       [0.12745585, 0.8450027 , 0.02754136],\n",
              "       [0.12723055, 0.84532917, 0.02744025],\n",
              "       [0.1272168 , 0.8453486 , 0.02743466],\n",
              "       [0.1272777 , 0.84525794, 0.02746439],\n",
              "       [0.12710331, 0.8455108 , 0.0273859 ],\n",
              "       [0.12729718, 0.84523237, 0.02747034],\n",
              "       [0.12752555, 0.844901  , 0.02757346],\n",
              "       [0.12748842, 0.8449539 , 0.02755761],\n",
              "       [0.12744644, 0.8450144 , 0.02753908],\n",
              "       [0.12758419, 0.8448152 , 0.02760053],\n",
              "       [0.1275529 , 0.84486073, 0.02758628],\n",
              "       [0.1274721 , 0.84497815, 0.02754984],\n",
              "       [0.12715453, 0.84544003, 0.02740537],\n",
              "       [0.12757386, 0.8448312 , 0.02759487],\n",
              "       [0.1275085 , 0.8449257 , 0.02756587],\n",
              "       [0.12763347, 0.8447445 , 0.02762196],\n",
              "       [0.12756902, 0.84483856, 0.02759243],\n",
              "       [0.12762311, 0.8447592 , 0.02761764],\n",
              "       [0.12751278, 0.84492135, 0.02756583],\n",
              "       [0.12749378, 0.84494764, 0.02755859],\n",
              "       [0.12758179, 0.84481955, 0.02759879],\n",
              "       [0.12755801, 0.84485346, 0.02758857],\n",
              "       [0.12751885, 0.84491116, 0.02756997],\n",
              "       [0.1273363 , 0.8451747 , 0.02748904],\n",
              "       [0.12731564, 0.8452042 , 0.02748029],\n",
              "       [0.1272863 , 0.8452447 , 0.02746898],\n",
              "       [0.12735513, 0.84514594, 0.02749901],\n",
              "       [0.12721495, 0.8453518 , 0.02743323],\n",
              "       [0.12724404, 0.8453091 , 0.0274469 ],\n",
              "       [0.12738262, 0.8451086 , 0.02750869],\n",
              "       [0.12735824, 0.8451441 , 0.02749767],\n",
              "       [0.12702964, 0.84562   , 0.02735031],\n",
              "       [0.12765184, 0.8447176 , 0.02763052],\n",
              "       [0.1274076 , 0.84507185, 0.0275205 ],\n",
              "       [0.1275948 , 0.8448006 , 0.02760463],\n",
              "       [0.12758301, 0.8448197 , 0.0275973 ],\n",
              "       [0.12763996, 0.84473455, 0.02762551],\n",
              "       [0.12762694, 0.8447537 , 0.02761932],\n",
              "       [0.12766372, 0.8447004 , 0.02763583],\n",
              "       [0.12769829, 0.84464973, 0.02765199],\n",
              "       [0.12748943, 0.8449545 , 0.02755599],\n",
              "       [0.1275843 , 0.8448161 , 0.02759961],\n",
              "       [0.12761581, 0.84477055, 0.02761367],\n",
              "       [0.12757368, 0.8448316 , 0.02759458],\n",
              "       [0.12763114, 0.844748  , 0.02762086],\n",
              "       [0.12758118, 0.84482163, 0.02759718],\n",
              "       [0.12762201, 0.84476113, 0.02761684],\n",
              "       [0.12762365, 0.8447585 , 0.02761791],\n",
              "       [0.12750329, 0.8449336 , 0.02756308],\n",
              "       [0.12740958, 0.84506786, 0.02752254],\n",
              "       [0.12726869, 0.8452726 , 0.0274587 ],\n",
              "       [0.12732026, 0.8451969 , 0.02748287],\n",
              "       [0.12737143, 0.84512204, 0.02750645],\n",
              "       [0.12740876, 0.84507084, 0.02752028],\n",
              "       [0.12738281, 0.8451115 , 0.02750576],\n",
              "       [0.12755363, 0.84486103, 0.02758543],\n",
              "       [0.12764198, 0.8447315 , 0.02762648],\n",
              "       [0.12762973, 0.8447498 , 0.0276204 ],\n",
              "       [0.12758459, 0.8448148 , 0.02760065],\n",
              "       [0.12760802, 0.8447816 , 0.02761037],\n",
              "       [0.12742433, 0.84504867, 0.027527  ],\n",
              "       [0.12731308, 0.8452113 , 0.02747561],\n",
              "       [0.12751515, 0.8449173 , 0.02756753],\n",
              "       [0.12751047, 0.84492284, 0.02756668],\n",
              "       [0.1274872 , 0.8449569 , 0.0275559 ],\n",
              "       [0.12745242, 0.8450076 , 0.02754008],\n",
              "       [0.12730174, 0.84522283, 0.02747553],\n",
              "       [0.12717973, 0.84539837, 0.02742197],\n",
              "       [0.12715991, 0.8454298 , 0.02741032],\n",
              "       [0.12725584, 0.8452924 , 0.02745177],\n",
              "       [0.12727687, 0.84526306, 0.02746012],\n",
              "       [0.1274981 , 0.8449413 , 0.02756051],\n",
              "       [0.12755586, 0.8448569 , 0.02758715],\n",
              "       [0.1275654 , 0.84484327, 0.02759127],\n",
              "       [0.12761626, 0.8447698 , 0.02761394],\n",
              "       [0.1276103 , 0.84477764, 0.02761214],\n",
              "       [0.12756641, 0.84484166, 0.02759193],\n",
              "       [0.12747358, 0.84497654, 0.02754988],\n",
              "       [0.12738559, 0.8451042 , 0.0275101 ],\n",
              "       [0.12751676, 0.8449147 , 0.02756856],\n",
              "       [0.12733753, 0.8451734 , 0.02748908],\n",
              "       [0.12733197, 0.8451808 , 0.02748725],\n",
              "       [0.12721042, 0.8453534 , 0.0274361 ],\n",
              "       [0.12733786, 0.8451709 , 0.02749128],\n",
              "       [0.12743561, 0.8450301 , 0.0275342 ],\n",
              "       [0.12733063, 0.84518504, 0.02748434],\n",
              "       [0.12745152, 0.8450084 , 0.02754018],\n",
              "       [0.12751809, 0.8449119 , 0.02757   ],\n",
              "       [0.12760861, 0.8447803 , 0.02761108],\n",
              "       [0.12755024, 0.844866  , 0.02758385],\n",
              "       [0.12750839, 0.8449269 , 0.02756467],\n",
              "       [0.12741591, 0.8450607 , 0.02752333],\n",
              "       [0.12751433, 0.84491843, 0.02756723],\n",
              "       [0.12750332, 0.84493417, 0.02756264],\n",
              "       [0.12754533, 0.84487313, 0.02758153],\n",
              "       [0.12748143, 0.8449657 , 0.02755286],\n",
              "       [0.12754308, 0.84487605, 0.02758097],\n",
              "       [0.12757385, 0.8448311 , 0.02759505],\n",
              "       [0.12757143, 0.8448352 , 0.02759329],\n",
              "       [0.12757774, 0.84482574, 0.02759643],\n",
              "       [0.12739407, 0.8450923 , 0.02751353],\n",
              "       [0.12736237, 0.8451372 , 0.02750052],\n",
              "       [0.12716968, 0.8454167 , 0.02741361],\n",
              "       [0.12720224, 0.8453702 , 0.0274275 ],\n",
              "       [0.12734744, 0.8451598 , 0.02749272],\n",
              "       [0.12738825, 0.8451001 , 0.02751158],\n",
              "       [0.12732117, 0.84519356, 0.02748522],\n",
              "       [0.12736984, 0.84512246, 0.02750776],\n",
              "       [0.1274228 , 0.8450491 , 0.02752808],\n",
              "       [0.12756374, 0.8448456 , 0.0275906 ],\n",
              "       [0.12743865, 0.8450271 , 0.02753424],\n",
              "       [0.12743855, 0.8450268 , 0.02753472],\n",
              "       [0.12748112, 0.84496576, 0.02755317],\n",
              "       [0.12742953, 0.84504104, 0.02752946],\n",
              "       [0.12752458, 0.8449024 , 0.02757296],\n",
              "       [0.12741406, 0.8450619 , 0.02752394],\n",
              "       [0.12742822, 0.8450427 , 0.02752905],\n",
              "       [0.12731071, 0.8452097 , 0.02747967],\n",
              "       [0.12718794, 0.8453887 , 0.02742336],\n",
              "       [0.12717342, 0.8454094 , 0.02741719],\n",
              "       [0.12720034, 0.8453702 , 0.02742944],\n",
              "       [0.12744984, 0.8450117 , 0.02753849],\n",
              "       [0.1273881 , 0.8451006 , 0.02751137],\n",
              "       [0.12755346, 0.8448605 , 0.02758612],\n",
              "       [0.12747979, 0.84496677, 0.02755337],\n",
              "       [0.12746398, 0.84499   , 0.02754604],\n",
              "       [0.12741108, 0.8450679 , 0.02752099],\n",
              "       [0.1272287 , 0.84533167, 0.02743966],\n",
              "       [0.1274943 , 0.84494734, 0.02755827],\n",
              "       [0.12759493, 0.8448006 , 0.02760451],\n",
              "       [0.12767465, 0.84468424, 0.02764115],\n",
              "       [0.12761782, 0.844768  , 0.02761426],\n",
              "       [0.12761477, 0.8447717 , 0.02761364],\n",
              "       [0.12731986, 0.8451982 , 0.02748188],\n",
              "       [0.12730819, 0.8452166 , 0.02747525],\n",
              "       [0.12748204, 0.84496486, 0.02755304],\n",
              "       [0.12764017, 0.84473455, 0.02762524],\n",
              "       [0.1274238 , 0.8450491 , 0.02752716],\n",
              "       [0.12750784, 0.844925  , 0.02756714],\n",
              "       [0.12751538, 0.844916  , 0.0275686 ],\n",
              "       [0.12750022, 0.84493965, 0.02756012],\n",
              "       [0.12735376, 0.84514886, 0.02749743],\n",
              "       [0.1273821 , 0.84510976, 0.02750809],\n",
              "       [0.12743549, 0.84503156, 0.02753297],\n",
              "       [0.12746377, 0.8449907 , 0.02754548],\n",
              "       [0.12739222, 0.84509546, 0.02751224],\n",
              "       [0.12740487, 0.8450765 , 0.02751857],\n",
              "       [0.12747945, 0.8449684 , 0.02755218],\n",
              "       [0.12741104, 0.8450682 , 0.02752067],\n",
              "       [0.12750967, 0.84492475, 0.02756566],\n",
              "       [0.12737425, 0.8451187 , 0.02750694],\n",
              "       [0.12743811, 0.84502834, 0.02753356],\n",
              "       [0.12749527, 0.84494543, 0.02755922],\n",
              "       [0.12725501, 0.84529316, 0.02745186],\n",
              "       [0.12741987, 0.8450535 , 0.02752658],\n",
              "       [0.12746002, 0.8449955 , 0.02754446],\n",
              "       [0.12748998, 0.8449523 , 0.02755763],\n",
              "       [0.1275884 , 0.8448098 , 0.02760175],\n",
              "       [0.12759751, 0.8447974 , 0.02760509],\n",
              "       [0.12754786, 0.8448686 , 0.02758356],\n",
              "       [0.12751701, 0.84491307, 0.0275699 ],\n",
              "       [0.12753077, 0.8448929 , 0.02757614],\n",
              "       [0.12755953, 0.84485066, 0.02758971],\n",
              "       [0.12733458, 0.84517723, 0.02748824],\n",
              "       [0.12729746, 0.84523135, 0.02747123],\n",
              "       [0.12734722, 0.84515864, 0.02749421],\n",
              "       [0.12732361, 0.8451938 , 0.02748261],\n",
              "       [0.12744951, 0.84501   , 0.02754055],\n",
              "       [0.12736404, 0.8451328 , 0.02750312],\n",
              "       [0.1273766 , 0.8451124 , 0.02751093],\n",
              "       [0.12733088, 0.8451807 , 0.02748848],\n",
              "       [0.1273373 , 0.84517133, 0.0274915 ],\n",
              "       [0.12725082, 0.845296  , 0.02745315],\n",
              "       [0.12733492, 0.84517473, 0.02749029],\n",
              "       [0.12758403, 0.844816  , 0.0276    ],\n",
              "       [0.12755436, 0.8448595 , 0.02758615],\n",
              "       [0.12753698, 0.8448846 , 0.02757842],\n",
              "       [0.12748307, 0.84496284, 0.02755408],\n",
              "       [0.12757817, 0.8448264 , 0.0275955 ],\n",
              "       [0.12756245, 0.8448479 , 0.02758961],\n",
              "       [0.12732969, 0.84518605, 0.0274843 ],\n",
              "       [0.12714066, 0.8454575 , 0.02740188],\n",
              "       [0.12744077, 0.8450249 , 0.02753444],\n",
              "       [0.12733673, 0.84517527, 0.02748795],\n",
              "       [0.12762904, 0.84475064, 0.02762032],\n",
              "       [0.12766427, 0.84469914, 0.02763653],\n",
              "       [0.12740912, 0.8450702 , 0.02752073],\n",
              "       [0.12738171, 0.84510744, 0.02751085],\n",
              "       [0.12741053, 0.84506947, 0.02752002],\n",
              "       [0.12750885, 0.84492487, 0.02756627],\n",
              "       [0.12750877, 0.8449254 , 0.02756578],\n",
              "       [0.12762178, 0.84476143, 0.0276168 ],\n",
              "       [0.12735568, 0.8451486 , 0.02749567],\n",
              "       [0.127166  , 0.8454272 , 0.02740679],\n",
              "       [0.1273973 , 0.8450879 , 0.02751479],\n",
              "       [0.12743056, 0.84504   , 0.02752943],\n",
              "       [0.1275786 , 0.84482515, 0.02759624],\n",
              "       [0.12753722, 0.8448859 , 0.02757697],\n",
              "       [0.12762041, 0.8447629 , 0.02761667],\n",
              "       [0.12734193, 0.8451674 , 0.0274906 ],\n",
              "       [0.12734146, 0.8451677 , 0.02749084],\n",
              "       [0.12720482, 0.8453645 , 0.02743064],\n",
              "       [0.12714797, 0.8454483 , 0.02740368],\n",
              "       [0.1272606 , 0.845285  , 0.0274544 ],\n",
              "       [0.12726595, 0.84527856, 0.02745544],\n",
              "       [0.12736838, 0.8451299 , 0.0275017 ],\n",
              "       [0.12729257, 0.84523803, 0.02746931],\n",
              "       [0.12727848, 0.8452571 , 0.02746444],\n",
              "       [0.12724124, 0.8453093 , 0.02744937],\n",
              "       [0.12747848, 0.8449693 , 0.02755227],\n",
              "       [0.1275124 , 0.84492135, 0.02756628],\n",
              "       [0.12749004, 0.84495395, 0.02755593],\n",
              "       [0.12746485, 0.84498984, 0.02754528],\n",
              "       [0.12737569, 0.8451177 , 0.0275066 ],\n",
              "       [0.12762788, 0.84475225, 0.02761984],\n",
              "       [0.12749141, 0.84495145, 0.02755716],\n",
              "       [0.1276389 , 0.84473646, 0.02762464],\n",
              "       [0.12754966, 0.84486794, 0.02758238],\n",
              "       [0.12739597, 0.8450864 , 0.0275176 ],\n",
              "       [0.12735702, 0.8451499 , 0.02749319],\n",
              "       [0.12737009, 0.8451254 , 0.02750444],\n",
              "       [0.12734239, 0.8451665 , 0.02749107],\n",
              "       [0.12729272, 0.8452387 , 0.02746871],\n",
              "       [0.12722802, 0.845333  , 0.02743896],\n",
              "       [0.127252  , 0.8452964 , 0.02745157],\n",
              "       [0.1273255 , 0.84519124, 0.02748329],\n",
              "       [0.12723267, 0.845327  , 0.0274403 ],\n",
              "       [0.12750691, 0.84492767, 0.02756532],\n",
              "       [0.1273814 , 0.84511006, 0.02750853],\n",
              "       [0.1273502 , 0.8451554 , 0.02749434],\n",
              "       [0.12718736, 0.8453902 , 0.02742251]], dtype=float32)"
            ]
          },
          "metadata": {},
          "execution_count": 51
        }
      ]
    },
    {
      "cell_type": "markdown",
      "source": [
        "## Training the model with all videos and balanced (undersampling) data:"
      ],
      "metadata": {
        "id": "7X0BzfRmIcib"
      }
    },
    {
      "cell_type": "code",
      "source": [
        "\n"
      ],
      "metadata": {
        "id": "o1RKXHMWcJtz"
      },
      "execution_count": null,
      "outputs": []
    },
    {
      "cell_type": "code",
      "source": [
        "df_events"
      ],
      "metadata": {
        "colab": {
          "base_uri": "https://localhost:8080/",
          "height": 424
        },
        "id": "bmdbeQsoIcFO",
        "outputId": "efec2dbb-e194-4e26-c891-bf50fafe8cd9"
      },
      "execution_count": 26,
      "outputs": [
        {
          "output_type": "execute_result",
          "data": {
            "text/plain": [
              "         video_id           frame_id      time  time_ms      event  \\\n",
              "1      1606b0e6_0   1606b0e6_0201150   201.150   201150  challenge   \n",
              "4      1606b0e6_0   1606b0e6_0210870   210.870   210870  challenge   \n",
              "7      1606b0e6_0   1606b0e6_0219230   219.230   219230    throwin   \n",
              "10     1606b0e6_0   1606b0e6_0224430   224.430   224430       play   \n",
              "13     1606b0e6_0   1606b0e6_0229390   229.390   229390       play   \n",
              "...           ...                ...       ...      ...        ...   \n",
              "11206  ecf251d4_0  ecf251d4_03041347  3041.347  3041347       play   \n",
              "11209  ecf251d4_0  ecf251d4_03050347  3050.347  3050347       play   \n",
              "11210  ecf251d4_0  ecf251d4_03053067  3053.067  3053067       play   \n",
              "11213  ecf251d4_0  ecf251d4_03056587  3056.587  3056587  challenge   \n",
              "11216  ecf251d4_0  ecf251d4_03069547  3069.547  3069547    throwin   \n",
              "\n",
              "                event_attributes  \n",
              "1         ['ball_action_forced']  \n",
              "4      ['opponent_dispossessed']  \n",
              "7                       ['pass']  \n",
              "10          ['pass', 'openplay']  \n",
              "13          ['pass', 'openplay']  \n",
              "...                          ...  \n",
              "11206       ['pass', 'openplay']  \n",
              "11209       ['pass', 'openplay']  \n",
              "11210       ['pass', 'openplay']  \n",
              "11213  ['opponent_dispossessed']  \n",
              "11216                   ['pass']  \n",
              "\n",
              "[4382 rows x 6 columns]"
            ],
            "text/html": [
              "\n",
              "  <div id=\"df-d3e8eda0-0058-4c8b-8356-e40a20b3c072\">\n",
              "    <div class=\"colab-df-container\">\n",
              "      <div>\n",
              "<style scoped>\n",
              "    .dataframe tbody tr th:only-of-type {\n",
              "        vertical-align: middle;\n",
              "    }\n",
              "\n",
              "    .dataframe tbody tr th {\n",
              "        vertical-align: top;\n",
              "    }\n",
              "\n",
              "    .dataframe thead th {\n",
              "        text-align: right;\n",
              "    }\n",
              "</style>\n",
              "<table border=\"1\" class=\"dataframe\">\n",
              "  <thead>\n",
              "    <tr style=\"text-align: right;\">\n",
              "      <th></th>\n",
              "      <th>video_id</th>\n",
              "      <th>frame_id</th>\n",
              "      <th>time</th>\n",
              "      <th>time_ms</th>\n",
              "      <th>event</th>\n",
              "      <th>event_attributes</th>\n",
              "    </tr>\n",
              "  </thead>\n",
              "  <tbody>\n",
              "    <tr>\n",
              "      <th>1</th>\n",
              "      <td>1606b0e6_0</td>\n",
              "      <td>1606b0e6_0201150</td>\n",
              "      <td>201.150</td>\n",
              "      <td>201150</td>\n",
              "      <td>challenge</td>\n",
              "      <td>['ball_action_forced']</td>\n",
              "    </tr>\n",
              "    <tr>\n",
              "      <th>4</th>\n",
              "      <td>1606b0e6_0</td>\n",
              "      <td>1606b0e6_0210870</td>\n",
              "      <td>210.870</td>\n",
              "      <td>210870</td>\n",
              "      <td>challenge</td>\n",
              "      <td>['opponent_dispossessed']</td>\n",
              "    </tr>\n",
              "    <tr>\n",
              "      <th>7</th>\n",
              "      <td>1606b0e6_0</td>\n",
              "      <td>1606b0e6_0219230</td>\n",
              "      <td>219.230</td>\n",
              "      <td>219230</td>\n",
              "      <td>throwin</td>\n",
              "      <td>['pass']</td>\n",
              "    </tr>\n",
              "    <tr>\n",
              "      <th>10</th>\n",
              "      <td>1606b0e6_0</td>\n",
              "      <td>1606b0e6_0224430</td>\n",
              "      <td>224.430</td>\n",
              "      <td>224430</td>\n",
              "      <td>play</td>\n",
              "      <td>['pass', 'openplay']</td>\n",
              "    </tr>\n",
              "    <tr>\n",
              "      <th>13</th>\n",
              "      <td>1606b0e6_0</td>\n",
              "      <td>1606b0e6_0229390</td>\n",
              "      <td>229.390</td>\n",
              "      <td>229390</td>\n",
              "      <td>play</td>\n",
              "      <td>['pass', 'openplay']</td>\n",
              "    </tr>\n",
              "    <tr>\n",
              "      <th>...</th>\n",
              "      <td>...</td>\n",
              "      <td>...</td>\n",
              "      <td>...</td>\n",
              "      <td>...</td>\n",
              "      <td>...</td>\n",
              "      <td>...</td>\n",
              "    </tr>\n",
              "    <tr>\n",
              "      <th>11206</th>\n",
              "      <td>ecf251d4_0</td>\n",
              "      <td>ecf251d4_03041347</td>\n",
              "      <td>3041.347</td>\n",
              "      <td>3041347</td>\n",
              "      <td>play</td>\n",
              "      <td>['pass', 'openplay']</td>\n",
              "    </tr>\n",
              "    <tr>\n",
              "      <th>11209</th>\n",
              "      <td>ecf251d4_0</td>\n",
              "      <td>ecf251d4_03050347</td>\n",
              "      <td>3050.347</td>\n",
              "      <td>3050347</td>\n",
              "      <td>play</td>\n",
              "      <td>['pass', 'openplay']</td>\n",
              "    </tr>\n",
              "    <tr>\n",
              "      <th>11210</th>\n",
              "      <td>ecf251d4_0</td>\n",
              "      <td>ecf251d4_03053067</td>\n",
              "      <td>3053.067</td>\n",
              "      <td>3053067</td>\n",
              "      <td>play</td>\n",
              "      <td>['pass', 'openplay']</td>\n",
              "    </tr>\n",
              "    <tr>\n",
              "      <th>11213</th>\n",
              "      <td>ecf251d4_0</td>\n",
              "      <td>ecf251d4_03056587</td>\n",
              "      <td>3056.587</td>\n",
              "      <td>3056587</td>\n",
              "      <td>challenge</td>\n",
              "      <td>['opponent_dispossessed']</td>\n",
              "    </tr>\n",
              "    <tr>\n",
              "      <th>11216</th>\n",
              "      <td>ecf251d4_0</td>\n",
              "      <td>ecf251d4_03069547</td>\n",
              "      <td>3069.547</td>\n",
              "      <td>3069547</td>\n",
              "      <td>throwin</td>\n",
              "      <td>['pass']</td>\n",
              "    </tr>\n",
              "  </tbody>\n",
              "</table>\n",
              "<p>4382 rows × 6 columns</p>\n",
              "</div>\n",
              "      <button class=\"colab-df-convert\" onclick=\"convertToInteractive('df-d3e8eda0-0058-4c8b-8356-e40a20b3c072')\"\n",
              "              title=\"Convert this dataframe to an interactive table.\"\n",
              "              style=\"display:none;\">\n",
              "        \n",
              "  <svg xmlns=\"http://www.w3.org/2000/svg\" height=\"24px\"viewBox=\"0 0 24 24\"\n",
              "       width=\"24px\">\n",
              "    <path d=\"M0 0h24v24H0V0z\" fill=\"none\"/>\n",
              "    <path d=\"M18.56 5.44l.94 2.06.94-2.06 2.06-.94-2.06-.94-.94-2.06-.94 2.06-2.06.94zm-11 1L8.5 8.5l.94-2.06 2.06-.94-2.06-.94L8.5 2.5l-.94 2.06-2.06.94zm10 10l.94 2.06.94-2.06 2.06-.94-2.06-.94-.94-2.06-.94 2.06-2.06.94z\"/><path d=\"M17.41 7.96l-1.37-1.37c-.4-.4-.92-.59-1.43-.59-.52 0-1.04.2-1.43.59L10.3 9.45l-7.72 7.72c-.78.78-.78 2.05 0 2.83L4 21.41c.39.39.9.59 1.41.59.51 0 1.02-.2 1.41-.59l7.78-7.78 2.81-2.81c.8-.78.8-2.07 0-2.86zM5.41 20L4 18.59l7.72-7.72 1.47 1.35L5.41 20z\"/>\n",
              "  </svg>\n",
              "      </button>\n",
              "      \n",
              "  <style>\n",
              "    .colab-df-container {\n",
              "      display:flex;\n",
              "      flex-wrap:wrap;\n",
              "      gap: 12px;\n",
              "    }\n",
              "\n",
              "    .colab-df-convert {\n",
              "      background-color: #E8F0FE;\n",
              "      border: none;\n",
              "      border-radius: 50%;\n",
              "      cursor: pointer;\n",
              "      display: none;\n",
              "      fill: #1967D2;\n",
              "      height: 32px;\n",
              "      padding: 0 0 0 0;\n",
              "      width: 32px;\n",
              "    }\n",
              "\n",
              "    .colab-df-convert:hover {\n",
              "      background-color: #E2EBFA;\n",
              "      box-shadow: 0px 1px 2px rgba(60, 64, 67, 0.3), 0px 1px 3px 1px rgba(60, 64, 67, 0.15);\n",
              "      fill: #174EA6;\n",
              "    }\n",
              "\n",
              "    [theme=dark] .colab-df-convert {\n",
              "      background-color: #3B4455;\n",
              "      fill: #D2E3FC;\n",
              "    }\n",
              "\n",
              "    [theme=dark] .colab-df-convert:hover {\n",
              "      background-color: #434B5C;\n",
              "      box-shadow: 0px 1px 3px 1px rgba(0, 0, 0, 0.15);\n",
              "      filter: drop-shadow(0px 1px 2px rgba(0, 0, 0, 0.3));\n",
              "      fill: #FFFFFF;\n",
              "    }\n",
              "  </style>\n",
              "\n",
              "      <script>\n",
              "        const buttonEl =\n",
              "          document.querySelector('#df-d3e8eda0-0058-4c8b-8356-e40a20b3c072 button.colab-df-convert');\n",
              "        buttonEl.style.display =\n",
              "          google.colab.kernel.accessAllowed ? 'block' : 'none';\n",
              "\n",
              "        async function convertToInteractive(key) {\n",
              "          const element = document.querySelector('#df-d3e8eda0-0058-4c8b-8356-e40a20b3c072');\n",
              "          const dataTable =\n",
              "            await google.colab.kernel.invokeFunction('convertToInteractive',\n",
              "                                                     [key], {});\n",
              "          if (!dataTable) return;\n",
              "\n",
              "          const docLinkHtml = 'Like what you see? Visit the ' +\n",
              "            '<a target=\"_blank\" href=https://colab.research.google.com/notebooks/data_table.ipynb>data table notebook</a>'\n",
              "            + ' to learn more about interactive tables.';\n",
              "          element.innerHTML = '';\n",
              "          dataTable['output_type'] = 'display_data';\n",
              "          await google.colab.output.renderOutput(dataTable, element);\n",
              "          const docLink = document.createElement('div');\n",
              "          docLink.innerHTML = docLinkHtml;\n",
              "          element.appendChild(docLink);\n",
              "        }\n",
              "      </script>\n",
              "    </div>\n",
              "  </div>\n",
              "  "
            ]
          },
          "metadata": {},
          "execution_count": 26
        }
      ]
    },
    {
      "cell_type": "code",
      "source": [
        "df_events.reset_index(drop=True, inplace=True)\n",
        "df_events"
      ],
      "metadata": {
        "colab": {
          "base_uri": "https://localhost:8080/",
          "height": 424
        },
        "id": "mW-ybevSXJao",
        "outputId": "75f20600-8eaa-4218-8854-358f58a5cd91"
      },
      "execution_count": 27,
      "outputs": [
        {
          "output_type": "execute_result",
          "data": {
            "text/plain": [
              "        video_id           frame_id      time  time_ms      event  \\\n",
              "0     1606b0e6_0   1606b0e6_0201150   201.150   201150  challenge   \n",
              "1     1606b0e6_0   1606b0e6_0210870   210.870   210870  challenge   \n",
              "2     1606b0e6_0   1606b0e6_0219230   219.230   219230    throwin   \n",
              "3     1606b0e6_0   1606b0e6_0224430   224.430   224430       play   \n",
              "4     1606b0e6_0   1606b0e6_0229390   229.390   229390       play   \n",
              "...          ...                ...       ...      ...        ...   \n",
              "4377  ecf251d4_0  ecf251d4_03041347  3041.347  3041347       play   \n",
              "4378  ecf251d4_0  ecf251d4_03050347  3050.347  3050347       play   \n",
              "4379  ecf251d4_0  ecf251d4_03053067  3053.067  3053067       play   \n",
              "4380  ecf251d4_0  ecf251d4_03056587  3056.587  3056587  challenge   \n",
              "4381  ecf251d4_0  ecf251d4_03069547  3069.547  3069547    throwin   \n",
              "\n",
              "               event_attributes  \n",
              "0        ['ball_action_forced']  \n",
              "1     ['opponent_dispossessed']  \n",
              "2                      ['pass']  \n",
              "3          ['pass', 'openplay']  \n",
              "4          ['pass', 'openplay']  \n",
              "...                         ...  \n",
              "4377       ['pass', 'openplay']  \n",
              "4378       ['pass', 'openplay']  \n",
              "4379       ['pass', 'openplay']  \n",
              "4380  ['opponent_dispossessed']  \n",
              "4381                   ['pass']  \n",
              "\n",
              "[4382 rows x 6 columns]"
            ],
            "text/html": [
              "\n",
              "  <div id=\"df-38322465-46d1-4082-b4d0-70939601ae12\">\n",
              "    <div class=\"colab-df-container\">\n",
              "      <div>\n",
              "<style scoped>\n",
              "    .dataframe tbody tr th:only-of-type {\n",
              "        vertical-align: middle;\n",
              "    }\n",
              "\n",
              "    .dataframe tbody tr th {\n",
              "        vertical-align: top;\n",
              "    }\n",
              "\n",
              "    .dataframe thead th {\n",
              "        text-align: right;\n",
              "    }\n",
              "</style>\n",
              "<table border=\"1\" class=\"dataframe\">\n",
              "  <thead>\n",
              "    <tr style=\"text-align: right;\">\n",
              "      <th></th>\n",
              "      <th>video_id</th>\n",
              "      <th>frame_id</th>\n",
              "      <th>time</th>\n",
              "      <th>time_ms</th>\n",
              "      <th>event</th>\n",
              "      <th>event_attributes</th>\n",
              "    </tr>\n",
              "  </thead>\n",
              "  <tbody>\n",
              "    <tr>\n",
              "      <th>0</th>\n",
              "      <td>1606b0e6_0</td>\n",
              "      <td>1606b0e6_0201150</td>\n",
              "      <td>201.150</td>\n",
              "      <td>201150</td>\n",
              "      <td>challenge</td>\n",
              "      <td>['ball_action_forced']</td>\n",
              "    </tr>\n",
              "    <tr>\n",
              "      <th>1</th>\n",
              "      <td>1606b0e6_0</td>\n",
              "      <td>1606b0e6_0210870</td>\n",
              "      <td>210.870</td>\n",
              "      <td>210870</td>\n",
              "      <td>challenge</td>\n",
              "      <td>['opponent_dispossessed']</td>\n",
              "    </tr>\n",
              "    <tr>\n",
              "      <th>2</th>\n",
              "      <td>1606b0e6_0</td>\n",
              "      <td>1606b0e6_0219230</td>\n",
              "      <td>219.230</td>\n",
              "      <td>219230</td>\n",
              "      <td>throwin</td>\n",
              "      <td>['pass']</td>\n",
              "    </tr>\n",
              "    <tr>\n",
              "      <th>3</th>\n",
              "      <td>1606b0e6_0</td>\n",
              "      <td>1606b0e6_0224430</td>\n",
              "      <td>224.430</td>\n",
              "      <td>224430</td>\n",
              "      <td>play</td>\n",
              "      <td>['pass', 'openplay']</td>\n",
              "    </tr>\n",
              "    <tr>\n",
              "      <th>4</th>\n",
              "      <td>1606b0e6_0</td>\n",
              "      <td>1606b0e6_0229390</td>\n",
              "      <td>229.390</td>\n",
              "      <td>229390</td>\n",
              "      <td>play</td>\n",
              "      <td>['pass', 'openplay']</td>\n",
              "    </tr>\n",
              "    <tr>\n",
              "      <th>...</th>\n",
              "      <td>...</td>\n",
              "      <td>...</td>\n",
              "      <td>...</td>\n",
              "      <td>...</td>\n",
              "      <td>...</td>\n",
              "      <td>...</td>\n",
              "    </tr>\n",
              "    <tr>\n",
              "      <th>4377</th>\n",
              "      <td>ecf251d4_0</td>\n",
              "      <td>ecf251d4_03041347</td>\n",
              "      <td>3041.347</td>\n",
              "      <td>3041347</td>\n",
              "      <td>play</td>\n",
              "      <td>['pass', 'openplay']</td>\n",
              "    </tr>\n",
              "    <tr>\n",
              "      <th>4378</th>\n",
              "      <td>ecf251d4_0</td>\n",
              "      <td>ecf251d4_03050347</td>\n",
              "      <td>3050.347</td>\n",
              "      <td>3050347</td>\n",
              "      <td>play</td>\n",
              "      <td>['pass', 'openplay']</td>\n",
              "    </tr>\n",
              "    <tr>\n",
              "      <th>4379</th>\n",
              "      <td>ecf251d4_0</td>\n",
              "      <td>ecf251d4_03053067</td>\n",
              "      <td>3053.067</td>\n",
              "      <td>3053067</td>\n",
              "      <td>play</td>\n",
              "      <td>['pass', 'openplay']</td>\n",
              "    </tr>\n",
              "    <tr>\n",
              "      <th>4380</th>\n",
              "      <td>ecf251d4_0</td>\n",
              "      <td>ecf251d4_03056587</td>\n",
              "      <td>3056.587</td>\n",
              "      <td>3056587</td>\n",
              "      <td>challenge</td>\n",
              "      <td>['opponent_dispossessed']</td>\n",
              "    </tr>\n",
              "    <tr>\n",
              "      <th>4381</th>\n",
              "      <td>ecf251d4_0</td>\n",
              "      <td>ecf251d4_03069547</td>\n",
              "      <td>3069.547</td>\n",
              "      <td>3069547</td>\n",
              "      <td>throwin</td>\n",
              "      <td>['pass']</td>\n",
              "    </tr>\n",
              "  </tbody>\n",
              "</table>\n",
              "<p>4382 rows × 6 columns</p>\n",
              "</div>\n",
              "      <button class=\"colab-df-convert\" onclick=\"convertToInteractive('df-38322465-46d1-4082-b4d0-70939601ae12')\"\n",
              "              title=\"Convert this dataframe to an interactive table.\"\n",
              "              style=\"display:none;\">\n",
              "        \n",
              "  <svg xmlns=\"http://www.w3.org/2000/svg\" height=\"24px\"viewBox=\"0 0 24 24\"\n",
              "       width=\"24px\">\n",
              "    <path d=\"M0 0h24v24H0V0z\" fill=\"none\"/>\n",
              "    <path d=\"M18.56 5.44l.94 2.06.94-2.06 2.06-.94-2.06-.94-.94-2.06-.94 2.06-2.06.94zm-11 1L8.5 8.5l.94-2.06 2.06-.94-2.06-.94L8.5 2.5l-.94 2.06-2.06.94zm10 10l.94 2.06.94-2.06 2.06-.94-2.06-.94-.94-2.06-.94 2.06-2.06.94z\"/><path d=\"M17.41 7.96l-1.37-1.37c-.4-.4-.92-.59-1.43-.59-.52 0-1.04.2-1.43.59L10.3 9.45l-7.72 7.72c-.78.78-.78 2.05 0 2.83L4 21.41c.39.39.9.59 1.41.59.51 0 1.02-.2 1.41-.59l7.78-7.78 2.81-2.81c.8-.78.8-2.07 0-2.86zM5.41 20L4 18.59l7.72-7.72 1.47 1.35L5.41 20z\"/>\n",
              "  </svg>\n",
              "      </button>\n",
              "      \n",
              "  <style>\n",
              "    .colab-df-container {\n",
              "      display:flex;\n",
              "      flex-wrap:wrap;\n",
              "      gap: 12px;\n",
              "    }\n",
              "\n",
              "    .colab-df-convert {\n",
              "      background-color: #E8F0FE;\n",
              "      border: none;\n",
              "      border-radius: 50%;\n",
              "      cursor: pointer;\n",
              "      display: none;\n",
              "      fill: #1967D2;\n",
              "      height: 32px;\n",
              "      padding: 0 0 0 0;\n",
              "      width: 32px;\n",
              "    }\n",
              "\n",
              "    .colab-df-convert:hover {\n",
              "      background-color: #E2EBFA;\n",
              "      box-shadow: 0px 1px 2px rgba(60, 64, 67, 0.3), 0px 1px 3px 1px rgba(60, 64, 67, 0.15);\n",
              "      fill: #174EA6;\n",
              "    }\n",
              "\n",
              "    [theme=dark] .colab-df-convert {\n",
              "      background-color: #3B4455;\n",
              "      fill: #D2E3FC;\n",
              "    }\n",
              "\n",
              "    [theme=dark] .colab-df-convert:hover {\n",
              "      background-color: #434B5C;\n",
              "      box-shadow: 0px 1px 3px 1px rgba(0, 0, 0, 0.15);\n",
              "      filter: drop-shadow(0px 1px 2px rgba(0, 0, 0, 0.3));\n",
              "      fill: #FFFFFF;\n",
              "    }\n",
              "  </style>\n",
              "\n",
              "      <script>\n",
              "        const buttonEl =\n",
              "          document.querySelector('#df-38322465-46d1-4082-b4d0-70939601ae12 button.colab-df-convert');\n",
              "        buttonEl.style.display =\n",
              "          google.colab.kernel.accessAllowed ? 'block' : 'none';\n",
              "\n",
              "        async function convertToInteractive(key) {\n",
              "          const element = document.querySelector('#df-38322465-46d1-4082-b4d0-70939601ae12');\n",
              "          const dataTable =\n",
              "            await google.colab.kernel.invokeFunction('convertToInteractive',\n",
              "                                                     [key], {});\n",
              "          if (!dataTable) return;\n",
              "\n",
              "          const docLinkHtml = 'Like what you see? Visit the ' +\n",
              "            '<a target=\"_blank\" href=https://colab.research.google.com/notebooks/data_table.ipynb>data table notebook</a>'\n",
              "            + ' to learn more about interactive tables.';\n",
              "          element.innerHTML = '';\n",
              "          dataTable['output_type'] = 'display_data';\n",
              "          await google.colab.output.renderOutput(dataTable, element);\n",
              "          const docLink = document.createElement('div');\n",
              "          docLink.innerHTML = docLinkHtml;\n",
              "          element.appendChild(docLink);\n",
              "        }\n",
              "      </script>\n",
              "    </div>\n",
              "  </div>\n",
              "  "
            ]
          },
          "metadata": {},
          "execution_count": 27
        }
      ]
    },
    {
      "cell_type": "code",
      "source": [
        "video_ids = df_events['video_id'].unique().tolist()\n",
        "train_videos = video_ids[:9]\n",
        "test_videos = video_ids[9:]"
      ],
      "metadata": {
        "id": "4nn3gWroPAlS"
      },
      "execution_count": 65,
      "outputs": []
    },
    {
      "cell_type": "code",
      "source": [
        "train_videos"
      ],
      "metadata": {
        "colab": {
          "base_uri": "https://localhost:8080/"
        },
        "id": "0eHiOyqm3jXL",
        "outputId": "abeb1d9e-8f44-4332-9898-4ad612498d83"
      },
      "execution_count": 29,
      "outputs": [
        {
          "output_type": "execute_result",
          "data": {
            "text/plain": [
              "['1606b0e6_0',\n",
              " '1606b0e6_1',\n",
              " '35bd9041_0',\n",
              " '35bd9041_1',\n",
              " '3c993bd2_0',\n",
              " '3c993bd2_1',\n",
              " '407c5a9e_1',\n",
              " '4ffd5986_0',\n",
              " '9a97dae4_1']"
            ]
          },
          "metadata": {},
          "execution_count": 29
        }
      ]
    },
    {
      "cell_type": "code",
      "source": [
        "test_videos"
      ],
      "metadata": {
        "colab": {
          "base_uri": "https://localhost:8080/"
        },
        "id": "T_f7m1Im3l_Q",
        "outputId": "717e3d3a-6929-492b-990c-865e95bb13ac"
      },
      "execution_count": 30,
      "outputs": [
        {
          "output_type": "execute_result",
          "data": {
            "text/plain": [
              "['cfbe2e94_0', 'cfbe2e94_1', 'ecf251d4_0']"
            ]
          },
          "metadata": {},
          "execution_count": 30
        }
      ]
    },
    {
      "cell_type": "code",
      "source": [
        "X = list()\n",
        "for video_id in video_ids:\n",
        "  current_video = np.load(f'/content/drive/MyDrive/Bundesliga/PicsFromVids/CompressedPic/{video_id}.npz')\n",
        "  current_video = current_video.f.arr_0\n",
        "  X.append(current_video)"
      ],
      "metadata": {
        "id": "7OKbym3R1JpM"
      },
      "execution_count": 31,
      "outputs": []
    },
    {
      "cell_type": "code",
      "source": [
        "X = np.concatenate(X, axis=0)"
      ],
      "metadata": {
        "id": "NC62tqP61f4f"
      },
      "execution_count": 32,
      "outputs": []
    },
    {
      "cell_type": "code",
      "source": [
        "X.shape"
      ],
      "metadata": {
        "colab": {
          "base_uri": "https://localhost:8080/"
        },
        "id": "-R_99SN02VKN",
        "outputId": "17799105-b671-434c-dd4d-51c5d76c6054"
      },
      "execution_count": 33,
      "outputs": [
        {
          "output_type": "execute_result",
          "data": {
            "text/plain": [
              "(4382, 480, 640, 3)"
            ]
          },
          "metadata": {},
          "execution_count": 33
        }
      ]
    },
    {
      "cell_type": "code",
      "source": [
        "train_idx = df_events[df_events['video_id'].isin(train_videos)].index\n",
        "test_idx = df_events[df_events['video_id'].isin(test_videos)].index"
      ],
      "metadata": {
        "id": "Tvb4f_FA3JAk"
      },
      "execution_count": 34,
      "outputs": []
    },
    {
      "cell_type": "code",
      "source": [],
      "metadata": {
        "id": "asUrU3OHccUB"
      },
      "execution_count": null,
      "outputs": []
    },
    {
      "cell_type": "code",
      "source": [
        "train_idx"
      ],
      "metadata": {
        "colab": {
          "base_uri": "https://localhost:8080/"
        },
        "id": "zdByG-eW6S9o",
        "outputId": "e956e1c2-a334-41e6-d13c-35140d549ff2"
      },
      "execution_count": 44,
      "outputs": [
        {
          "output_type": "execute_result",
          "data": {
            "text/plain": [
              "Int64Index([   0,    1,    2,    3,    4,    5,    6,    7,    8,    9,\n",
              "            ...\n",
              "            3396, 3397, 3398, 3399, 3400, 3401, 3402, 3403, 3404, 3405],\n",
              "           dtype='int64', length=3406)"
            ]
          },
          "metadata": {},
          "execution_count": 44
        }
      ]
    },
    {
      "cell_type": "code",
      "source": [
        "X_train = X[train_idx]\n",
        "X_test = X[test_idx]"
      ],
      "metadata": {
        "id": "-z6pg1Mo4hsY"
      },
      "execution_count": 35,
      "outputs": []
    },
    {
      "cell_type": "code",
      "source": [
        "X_train.shape"
      ],
      "metadata": {
        "colab": {
          "base_uri": "https://localhost:8080/"
        },
        "id": "F8TboueI500L",
        "outputId": "32029b6f-1d7c-4cef-c8c0-e90c904bad43"
      },
      "execution_count": 36,
      "outputs": [
        {
          "output_type": "execute_result",
          "data": {
            "text/plain": [
              "(3406, 480, 640, 3)"
            ]
          },
          "metadata": {},
          "execution_count": 36
        }
      ]
    },
    {
      "cell_type": "code",
      "source": [
        "X_test.shape"
      ],
      "metadata": {
        "colab": {
          "base_uri": "https://localhost:8080/"
        },
        "id": "U8gG7Dxf53s7",
        "outputId": "f2b0961f-864d-430c-ce12-7c02000d0824"
      },
      "execution_count": 37,
      "outputs": [
        {
          "output_type": "execute_result",
          "data": {
            "text/plain": [
              "(976, 480, 640, 3)"
            ]
          },
          "metadata": {},
          "execution_count": 37
        }
      ]
    },
    {
      "cell_type": "code",
      "source": [
        "assert df_events.shape[0] == X_train.shape[0] + X_test.shape[0]"
      ],
      "metadata": {
        "id": "iMiEPciWNPh3"
      },
      "execution_count": 38,
      "outputs": []
    },
    {
      "cell_type": "code",
      "source": [
        "y_train = df_events[df_events.index.isin(train_idx) ]['event'].to_frame()\n",
        "y_test = df_events[df_events.index.isin(test_idx) ]['event'].to_frame()"
      ],
      "metadata": {
        "id": "4y0z0bN8SQPc"
      },
      "execution_count": 53,
      "outputs": []
    },
    {
      "cell_type": "code",
      "source": [
        "y_train.value_counts()"
      ],
      "metadata": {
        "colab": {
          "base_uri": "https://localhost:8080/"
        },
        "id": "hcaPsdS-TUBn",
        "outputId": "a2e5b278-b18d-41c0-c654-67d910420121"
      },
      "execution_count": 54,
      "outputs": [
        {
          "output_type": "execute_result",
          "data": {
            "text/plain": [
              "event    \n",
              "play         2789\n",
              "challenge     505\n",
              "throwin       112\n",
              "dtype: int64"
            ]
          },
          "metadata": {},
          "execution_count": 54
        }
      ]
    },
    {
      "cell_type": "code",
      "source": [
        "play_indexes = y_train[y_train['event'] == 'play'].index"
      ],
      "metadata": {
        "id": "7fSbhWmiUF5I"
      },
      "execution_count": 55,
      "outputs": []
    },
    {
      "cell_type": "code",
      "source": [
        "assert y_train.value_counts()['play'] == len(play_indexes)"
      ],
      "metadata": {
        "id": "HTriKjWZVVV5"
      },
      "execution_count": 56,
      "outputs": []
    },
    {
      "cell_type": "code",
      "source": [
        "play_amount = y_train.value_counts()['play']\n",
        "challenge_amount = y_train.value_counts()['challenge']\n",
        "challenge_amount"
      ],
      "metadata": {
        "colab": {
          "base_uri": "https://localhost:8080/"
        },
        "id": "YS76J6SAVyE8",
        "outputId": "8ac08ee0-c260-47b4-82e0-32a1d610aa9e"
      },
      "execution_count": 57,
      "outputs": [
        {
          "output_type": "execute_result",
          "data": {
            "text/plain": [
              "505"
            ]
          },
          "metadata": {},
          "execution_count": 57
        }
      ]
    },
    {
      "cell_type": "code",
      "source": [],
      "metadata": {
        "id": "9QDvGWv7cuee"
      },
      "execution_count": null,
      "outputs": []
    },
    {
      "cell_type": "code",
      "source": [
        "drop_play_indexes = np.sort(np.random.choice(a=play_indexes, \n",
        "                                             size=play_amount - challenge_amount, \n",
        "                                             replace=False))\n",
        "drop_play_indexes[-10:]"
      ],
      "metadata": {
        "colab": {
          "base_uri": "https://localhost:8080/"
        },
        "id": "X5jnDXZ_Vlsm",
        "outputId": "5b107211-7f53-49a3-eae9-9438a80eee17"
      },
      "execution_count": 58,
      "outputs": [
        {
          "output_type": "execute_result",
          "data": {
            "text/plain": [
              "array([3387, 3389, 3390, 3392, 3393, 3394, 3395, 3397, 3399, 3402])"
            ]
          },
          "metadata": {},
          "execution_count": 58
        }
      ]
    },
    {
      "cell_type": "code",
      "source": [
        "assert len(drop_play_indexes) == play_amount - challenge_amount"
      ],
      "metadata": {
        "id": "3Zk_Fx8LWDrU"
      },
      "execution_count": 59,
      "outputs": []
    },
    {
      "cell_type": "markdown",
      "source": [
        "Deleting rows to perform and undersampling in the class 'play':"
      ],
      "metadata": {
        "id": "QIY-jA_-srpI"
      }
    },
    {
      "cell_type": "code",
      "source": [
        "y_train.drop(drop_play_indexes, axis=0, inplace=True)\n",
        "y_train.shape"
      ],
      "metadata": {
        "colab": {
          "base_uri": "https://localhost:8080/"
        },
        "id": "RXZwy5J7WzmC",
        "outputId": "5aef8a36-a64f-4e98-ec22-1028aab63833"
      },
      "execution_count": 60,
      "outputs": [
        {
          "output_type": "execute_result",
          "data": {
            "text/plain": [
              "(1122, 1)"
            ]
          },
          "metadata": {},
          "execution_count": 60
        }
      ]
    },
    {
      "cell_type": "code",
      "source": [
        "y_train.value_counts()"
      ],
      "metadata": {
        "colab": {
          "base_uri": "https://localhost:8080/"
        },
        "id": "DjvSBZH3ZPPu",
        "outputId": "97b964ce-caf5-4c8f-c21f-6b601e77d83c"
      },
      "execution_count": 61,
      "outputs": [
        {
          "output_type": "execute_result",
          "data": {
            "text/plain": [
              "event    \n",
              "challenge    505\n",
              "play         505\n",
              "throwin      112\n",
              "dtype: int64"
            ]
          },
          "metadata": {},
          "execution_count": 61
        }
      ]
    },
    {
      "cell_type": "code",
      "source": [
        "X_train.shape"
      ],
      "metadata": {
        "colab": {
          "base_uri": "https://localhost:8080/"
        },
        "id": "99L8sgB0Tl-A",
        "outputId": "73ea9df9-592f-4554-884a-2d181bf1e20d"
      },
      "execution_count": 62,
      "outputs": [
        {
          "output_type": "execute_result",
          "data": {
            "text/plain": [
              "(3406, 480, 640, 3)"
            ]
          },
          "metadata": {},
          "execution_count": 62
        }
      ]
    },
    {
      "cell_type": "markdown",
      "source": [
        "Deleting the same rows from X_train:"
      ],
      "metadata": {
        "id": "7seJWPb4sdgN"
      }
    },
    {
      "cell_type": "code",
      "source": [
        "X_train = np.delete(X_train, drop_play_indexes, axis=0)"
      ],
      "metadata": {
        "id": "vU9URgbRZqqN"
      },
      "execution_count": 63,
      "outputs": []
    },
    {
      "cell_type": "code",
      "source": [
        "X_train.shape"
      ],
      "metadata": {
        "colab": {
          "base_uri": "https://localhost:8080/"
        },
        "id": "9QSpha_XZ1v6",
        "outputId": "302c8f5e-7c69-4ed0-de63-b5bbf4e86fe4"
      },
      "execution_count": 64,
      "outputs": [
        {
          "output_type": "execute_result",
          "data": {
            "text/plain": [
              "(1122, 480, 640, 3)"
            ]
          },
          "metadata": {},
          "execution_count": 64
        }
      ]
    },
    {
      "cell_type": "code",
      "source": [
        "from sklearn.preprocessing import OneHotEncoder"
      ],
      "metadata": {
        "id": "vr17DQCHbJd-"
      },
      "execution_count": null,
      "outputs": []
    },
    {
      "cell_type": "code",
      "source": [
        "encoder = OneHotEncoder(sparse=False, handle_unknown='ignore')\n",
        "\n",
        "current_feat = ['event']\n",
        "\n",
        "print(f'Shape of y_train before transformation: ', y_train.shape)\n",
        "\n",
        "# Fit and transform data\n",
        "encoder.fit(y_train[current_feat])\n",
        "y_train[encoder.get_feature_names_out(list(current_feat))] = encoder.transform(y_train[current_feat])\n",
        "y_train = y_train.drop(columns=current_feat)\n",
        "\n",
        "print(f'Shape of y_train after transformation: ', y_train.shape)"
      ],
      "metadata": {
        "colab": {
          "base_uri": "https://localhost:8080/"
        },
        "id": "4itDKXzOakOZ",
        "outputId": "8d373774-e55d-490c-a227-f1e9609c12f8"
      },
      "execution_count": 175,
      "outputs": [
        {
          "output_type": "stream",
          "name": "stdout",
          "text": [
            "Shape of y_train before transformation:  (1122, 4)\n",
            "Shape of y_train after transformation:  (1122, 3)\n"
          ]
        }
      ]
    },
    {
      "cell_type": "code",
      "source": [
        "encoder = OneHotEncoder(sparse=False, handle_unknown='ignore')\n",
        "\n",
        "current_feat = ['event']\n",
        "\n",
        "print(f'Shape of y_train before transformation: ', y_test.shape)\n",
        "\n",
        "# Fit and transform data\n",
        "encoder.fit(y_test[current_feat])\n",
        "y_test[encoder.get_feature_names_out(list(current_feat))] = encoder.transform(y_test[current_feat])\n",
        "y_test = y_test.drop(columns=current_feat)\n",
        "\n",
        "print(f'Shape of y_test after transformation: ', y_test.shape)"
      ],
      "metadata": {
        "colab": {
          "base_uri": "https://localhost:8080/"
        },
        "id": "HQ1sfAfscEEY",
        "outputId": "a326e2ba-fd9f-4f39-905d-e3a8ee32830c"
      },
      "execution_count": 177,
      "outputs": [
        {
          "output_type": "stream",
          "name": "stdout",
          "text": [
            "Shape of y_train before transformation:  (976, 4)\n",
            "Shape of y_test after transformation:  (976, 3)\n"
          ]
        }
      ]
    },
    {
      "cell_type": "code",
      "source": [
        "input_shape = X_train.shape[1], X_train.shape[2], X_train.shape[3]\n",
        "\n",
        "model = Sequential([\n",
        "    Rescaling(1/255, \n",
        "              input_shape=input_shape),   \n",
        "    Conv2D(96, \n",
        "           11, \n",
        "           strides=4, \n",
        "           activation='relu'),\n",
        "    MaxPooling2D(pool_size=3, \n",
        "                 strides=2),\n",
        "    Conv2D(256, \n",
        "           5, \n",
        "           activation='relu'),\n",
        "    MaxPooling2D(pool_size=3, \n",
        "                 strides=2),\n",
        "    Conv2D(384, \n",
        "           3, \n",
        "           activation='relu'),\n",
        "    Conv2D(384, \n",
        "           3, \n",
        "           activation='relu'),\n",
        "    Conv2D(256, \n",
        "           3, \n",
        "           activation='relu'),\n",
        "    MaxPooling2D(),\n",
        "    Flatten(),\n",
        "    Dense(256, \n",
        "          activation='relu'),\n",
        "    Dense(256, \n",
        "          activation='relu'),\n",
        "    Dense(3, \n",
        "          activation='softmax')\n",
        "])"
      ],
      "metadata": {
        "id": "8wMCwFtaNLlS"
      },
      "execution_count": 179,
      "outputs": []
    },
    {
      "cell_type": "code",
      "source": [
        "model.input_shape, model.output_shape"
      ],
      "metadata": {
        "colab": {
          "base_uri": "https://localhost:8080/"
        },
        "id": "yP-fJ_ecZ_pQ",
        "outputId": "ae29ebb4-2971-4247-c6f0-160d8e9551a6"
      },
      "execution_count": 180,
      "outputs": [
        {
          "output_type": "execute_result",
          "data": {
            "text/plain": [
              "((None, 480, 640, 3), (None, 3))"
            ]
          },
          "metadata": {},
          "execution_count": 180
        }
      ]
    },
    {
      "cell_type": "code",
      "source": [
        "X_train.shape, y_train.shape"
      ],
      "metadata": {
        "colab": {
          "base_uri": "https://localhost:8080/"
        },
        "id": "IcGjtLY4aJW7",
        "outputId": "b458faf7-6ffb-482a-8bef-5b8f02685b9f"
      },
      "execution_count": 181,
      "outputs": [
        {
          "output_type": "execute_result",
          "data": {
            "text/plain": [
              "((1122, 480, 640, 3), (1122, 3))"
            ]
          },
          "metadata": {},
          "execution_count": 181
        }
      ]
    },
    {
      "cell_type": "code",
      "source": [
        "model.summary()"
      ],
      "metadata": {
        "colab": {
          "base_uri": "https://localhost:8080/"
        },
        "id": "-SySWsi2aOy_",
        "outputId": "2409f25e-b31d-4980-9421-0c4b23bdc79f"
      },
      "execution_count": 182,
      "outputs": [
        {
          "output_type": "stream",
          "name": "stdout",
          "text": [
            "Model: \"sequential_1\"\n",
            "_________________________________________________________________\n",
            " Layer (type)                Output Shape              Param #   \n",
            "=================================================================\n",
            " rescaling_1 (Rescaling)     (None, 480, 640, 3)       0         \n",
            "                                                                 \n",
            " conv2d_5 (Conv2D)           (None, 118, 158, 96)      34944     \n",
            "                                                                 \n",
            " max_pooling2d_3 (MaxPooling  (None, 58, 78, 96)       0         \n",
            " 2D)                                                             \n",
            "                                                                 \n",
            " conv2d_6 (Conv2D)           (None, 54, 74, 256)       614656    \n",
            "                                                                 \n",
            " max_pooling2d_4 (MaxPooling  (None, 26, 36, 256)      0         \n",
            " 2D)                                                             \n",
            "                                                                 \n",
            " conv2d_7 (Conv2D)           (None, 24, 34, 384)       885120    \n",
            "                                                                 \n",
            " conv2d_8 (Conv2D)           (None, 22, 32, 384)       1327488   \n",
            "                                                                 \n",
            " conv2d_9 (Conv2D)           (None, 20, 30, 256)       884992    \n",
            "                                                                 \n",
            " max_pooling2d_5 (MaxPooling  (None, 10, 15, 256)      0         \n",
            " 2D)                                                             \n",
            "                                                                 \n",
            " flatten_1 (Flatten)         (None, 38400)             0         \n",
            "                                                                 \n",
            " dense_3 (Dense)             (None, 256)               9830656   \n",
            "                                                                 \n",
            " dense_4 (Dense)             (None, 256)               65792     \n",
            "                                                                 \n",
            " dense_5 (Dense)             (None, 3)                 771       \n",
            "                                                                 \n",
            "=================================================================\n",
            "Total params: 13,644,419\n",
            "Trainable params: 13,644,419\n",
            "Non-trainable params: 0\n",
            "_________________________________________________________________\n"
          ]
        }
      ]
    },
    {
      "cell_type": "code",
      "source": [
        "model.compile(loss='categorical_crossentropy',\n",
        "              optimizer='adam',\n",
        "              metrics='accuracy',\n",
        "              )"
      ],
      "metadata": {
        "id": "clu6ppe4afG8"
      },
      "execution_count": 183,
      "outputs": []
    },
    {
      "cell_type": "code",
      "source": [
        "callback = EarlyStopping(monitor='val_loss',\n",
        "                         patience=3,\n",
        "                         restore_best_weights=True\n",
        "                         )"
      ],
      "metadata": {
        "id": "_CSo5q_Vc06D"
      },
      "execution_count": 185,
      "outputs": []
    },
    {
      "cell_type": "code",
      "source": [
        "EPOCHS = 100\n",
        "model.fit(X_train, \n",
        "          y_train, \n",
        "          validation_split=0.2, \n",
        "          batch_size=16, \n",
        "          epochs=EPOCHS,\n",
        "          callbacks=[callback])"
      ],
      "metadata": {
        "colab": {
          "base_uri": "https://localhost:8080/"
        },
        "id": "V95rtgA-c2TF",
        "outputId": "d4e049ae-3539-439c-b255-bb68e504377a"
      },
      "execution_count": 186,
      "outputs": [
        {
          "output_type": "stream",
          "name": "stdout",
          "text": [
            "Epoch 1/100\n",
            "57/57 [==============================] - 386s 7s/step - loss: 1.0590 - accuracy: 0.4337 - val_loss: 0.9371 - val_accuracy: 0.3911\n",
            "Epoch 2/100\n",
            "57/57 [==============================] - 381s 7s/step - loss: 0.9694 - accuracy: 0.4392 - val_loss: 0.9425 - val_accuracy: 0.5289\n",
            "Epoch 3/100\n",
            "57/57 [==============================] - 382s 7s/step - loss: 0.9679 - accuracy: 0.4281 - val_loss: 0.9163 - val_accuracy: 0.5289\n",
            "Epoch 4/100\n",
            "57/57 [==============================] - 382s 7s/step - loss: 0.9647 - accuracy: 0.4582 - val_loss: 0.9125 - val_accuracy: 0.5289\n",
            "Epoch 5/100\n",
            "57/57 [==============================] - 383s 7s/step - loss: 0.9622 - accuracy: 0.4537 - val_loss: 0.9263 - val_accuracy: 0.3911\n",
            "Epoch 6/100\n",
            "57/57 [==============================] - 382s 7s/step - loss: 0.9593 - accuracy: 0.4571 - val_loss: 0.9235 - val_accuracy: 0.5289\n",
            "Epoch 7/100\n",
            "57/57 [==============================] - 382s 7s/step - loss: 0.9601 - accuracy: 0.4649 - val_loss: 0.9333 - val_accuracy: 0.3911\n"
          ]
        },
        {
          "output_type": "execute_result",
          "data": {
            "text/plain": [
              "<keras.callbacks.History at 0x7fb4fd919e50>"
            ]
          },
          "metadata": {},
          "execution_count": 186
        }
      ]
    },
    {
      "cell_type": "code",
      "source": [
        "INDEX_ACCURACY = 1\n",
        "print(f'\\nAccuracy on the test set: {model.evaluate(X_test, y_test)[INDEX_ACCURACY]:.4f}')"
      ],
      "metadata": {
        "colab": {
          "base_uri": "https://localhost:8080/"
        },
        "id": "HxkJNvJZc6m0",
        "outputId": "e415998b-8b5e-4b9e-e7ba-3b396164126f"
      },
      "execution_count": 187,
      "outputs": [
        {
          "output_type": "stream",
          "name": "stdout",
          "text": [
            "31/31 [==============================] - 121s 4s/step - loss: 0.9561 - accuracy: 0.1219\n",
            "\n",
            "Accuracy on the test set: 0.1219\n"
          ]
        }
      ]
    },
    {
      "cell_type": "markdown",
      "source": [
        "In the test set the data is unbalanced and that's why we see such a difference between the validation and the test set."
      ],
      "metadata": {
        "id": "jlb0YEGmtFvX"
      }
    },
    {
      "cell_type": "code",
      "source": [
        "y_pred = model.predict(X_test)"
      ],
      "metadata": {
        "colab": {
          "base_uri": "https://localhost:8080/"
        },
        "id": "DVE2VaRqnYPl",
        "outputId": "04ba9210-5437-4515-e45f-1d31bcc96163"
      },
      "execution_count": 188,
      "outputs": [
        {
          "output_type": "stream",
          "name": "stdout",
          "text": [
            "31/31 [==============================] - 119s 4s/step\n"
          ]
        }
      ]
    },
    {
      "cell_type": "code",
      "source": [
        "import sys\n",
        "np.set_printoptions(threshold=sys.maxsize)\n",
        "y_pred"
      ],
      "metadata": {
        "colab": {
          "base_uri": "https://localhost:8080/"
        },
        "id": "8A-GkdgInhvZ",
        "outputId": "df57388f-bf94-470f-9acf-20233133f822"
      },
      "execution_count": 189,
      "outputs": [
        {
          "output_type": "execute_result",
          "data": {
            "text/plain": [
              "array([[0.48357105, 0.40877905, 0.10764986],\n",
              "       [0.48357168, 0.40877914, 0.10764921],\n",
              "       [0.4835699 , 0.40877905, 0.10765103],\n",
              "       [0.48356897, 0.40877903, 0.10765199],\n",
              "       [0.4835689 , 0.40877905, 0.10765209],\n",
              "       [0.4835689 , 0.40877905, 0.1076521 ],\n",
              "       [0.4835689 , 0.40877905, 0.1076521 ],\n",
              "       [0.48357075, 0.40877908, 0.10765021],\n",
              "       [0.4835692 , 0.40877905, 0.10765181],\n",
              "       [0.48356944, 0.40877905, 0.10765151],\n",
              "       [0.48356897, 0.40877905, 0.10765204],\n",
              "       [0.48356932, 0.40877905, 0.10765161],\n",
              "       [0.48356932, 0.40877905, 0.10765161],\n",
              "       [0.4835692 , 0.40877905, 0.10765179],\n",
              "       [0.48356938, 0.40877903, 0.10765156],\n",
              "       [0.48356956, 0.408779  , 0.10765141],\n",
              "       [0.4835705 , 0.4087791 , 0.10765041],\n",
              "       [0.4835699 , 0.40877905, 0.10765106],\n",
              "       [0.48357105, 0.40877905, 0.10764983],\n",
              "       [0.48356932, 0.40877903, 0.1076516 ],\n",
              "       [0.4835695 , 0.40877903, 0.10765149],\n",
              "       [0.48357   , 0.40877905, 0.10765095],\n",
              "       [0.48356995, 0.40877905, 0.10765098],\n",
              "       [0.4835692 , 0.40877905, 0.10765179],\n",
              "       [0.4835702 , 0.40877914, 0.10765069],\n",
              "       [0.48356977, 0.408779  , 0.10765112],\n",
              "       [0.48357007, 0.40877908, 0.10765082],\n",
              "       [0.48357025, 0.40877905, 0.10765063],\n",
              "       [0.48357087, 0.40877908, 0.10765008],\n",
              "       [0.4835689 , 0.40877905, 0.10765205],\n",
              "       [0.4835702 , 0.40877903, 0.1076508 ],\n",
              "       [0.48357007, 0.4087791 , 0.10765085],\n",
              "       [0.4835691 , 0.40877903, 0.10765189],\n",
              "       [0.48356915, 0.40877908, 0.10765187],\n",
              "       [0.4835699 , 0.40877905, 0.10765104],\n",
              "       [0.48356983, 0.40877905, 0.10765105],\n",
              "       [0.48356956, 0.40877905, 0.10765138],\n",
              "       [0.48357025, 0.40877905, 0.10765068],\n",
              "       [0.48357198, 0.4087791 , 0.10764889],\n",
              "       [0.48356962, 0.40877905, 0.10765132],\n",
              "       [0.48356897, 0.40877905, 0.10765202],\n",
              "       [0.4835689 , 0.40877903, 0.10765208],\n",
              "       [0.4835689 , 0.40877905, 0.1076521 ],\n",
              "       [0.4835689 , 0.40877905, 0.10765208],\n",
              "       [0.48357025, 0.40877908, 0.1076507 ],\n",
              "       [0.4835702 , 0.40877903, 0.10765075],\n",
              "       [0.48356995, 0.40877903, 0.10765098],\n",
              "       [0.48356956, 0.40877905, 0.10765138],\n",
              "       [0.4835689 , 0.408779  , 0.10765208],\n",
              "       [0.4835689 , 0.40877905, 0.1076521 ],\n",
              "       [0.4835689 , 0.40877905, 0.1076521 ],\n",
              "       [0.4835722 , 0.4087792 , 0.10764868],\n",
              "       [0.48357236, 0.40877914, 0.10764848],\n",
              "       [0.48356903, 0.40877903, 0.10765198],\n",
              "       [0.48357144, 0.40877926, 0.10764926],\n",
              "       [0.48357075, 0.40877908, 0.10765018],\n",
              "       [0.48357037, 0.40877905, 0.10765058],\n",
              "       [0.48357087, 0.40877908, 0.10765005],\n",
              "       [0.48356938, 0.408779  , 0.10765159],\n",
              "       [0.4835689 , 0.40877905, 0.10765207],\n",
              "       [0.48357055, 0.40877905, 0.10765042],\n",
              "       [0.48356938, 0.40877905, 0.10765157],\n",
              "       [0.4835702 , 0.40877905, 0.1076508 ],\n",
              "       [0.48356956, 0.408779  , 0.10765141],\n",
              "       [0.483571  , 0.40877908, 0.10764982],\n",
              "       [0.4835689 , 0.40877905, 0.1076521 ],\n",
              "       [0.4835689 , 0.40877903, 0.10765208],\n",
              "       [0.4835689 , 0.40877905, 0.1076521 ],\n",
              "       [0.4835689 , 0.40877905, 0.10765205],\n",
              "       [0.4835689 , 0.40877905, 0.1076521 ],\n",
              "       [0.4835689 , 0.40877905, 0.1076521 ],\n",
              "       [0.4835689 , 0.40877905, 0.1076521 ],\n",
              "       [0.4835689 , 0.40877905, 0.10765208],\n",
              "       [0.48357007, 0.40877905, 0.10765093],\n",
              "       [0.4835705 , 0.40877908, 0.1076505 ],\n",
              "       [0.48356903, 0.40877903, 0.10765196],\n",
              "       [0.4835692 , 0.40877908, 0.1076517 ],\n",
              "       [0.4835689 , 0.40877905, 0.10765209],\n",
              "       [0.4835697 , 0.40877903, 0.1076512 ],\n",
              "       [0.4835692 , 0.40877903, 0.10765181],\n",
              "       [0.4835691 , 0.40877905, 0.1076519 ],\n",
              "       [0.4835689 , 0.40877905, 0.10765208],\n",
              "       [0.48356968, 0.40877905, 0.10765125],\n",
              "       [0.48356962, 0.40877905, 0.10765134],\n",
              "       [0.4835695 , 0.408779  , 0.10765147],\n",
              "       [0.48356932, 0.40877897, 0.10765166],\n",
              "       [0.4835695 , 0.408779  , 0.10765142],\n",
              "       [0.48357123, 0.4087791 , 0.10764964],\n",
              "       [0.48356897, 0.40877905, 0.10765203],\n",
              "       [0.4835689 , 0.40877905, 0.10765205],\n",
              "       [0.48356962, 0.40877908, 0.10765134],\n",
              "       [0.4835689 , 0.40877905, 0.10765209],\n",
              "       [0.48356915, 0.40877905, 0.10765185],\n",
              "       [0.48356903, 0.40877903, 0.10765196],\n",
              "       [0.48356962, 0.40877903, 0.10765134],\n",
              "       [0.4835721 , 0.4087792 , 0.10764873],\n",
              "       [0.4835695 , 0.40877903, 0.10765147],\n",
              "       [0.4835691 , 0.40877905, 0.10765194],\n",
              "       [0.4835692 , 0.40877905, 0.10765181],\n",
              "       [0.48356903, 0.40877903, 0.10765196],\n",
              "       [0.4835689 , 0.40877905, 0.1076521 ],\n",
              "       [0.48356897, 0.40877905, 0.10765203],\n",
              "       [0.48356968, 0.4087791 , 0.1076513 ],\n",
              "       [0.4835692 , 0.40877905, 0.10765181],\n",
              "       [0.4835711 , 0.40877905, 0.1076498 ],\n",
              "       [0.4835689 , 0.40877903, 0.10765208],\n",
              "       [0.4835689 , 0.408779  , 0.10765208],\n",
              "       [0.4835691 , 0.40877905, 0.10765196],\n",
              "       [0.4835689 , 0.40877905, 0.10765208],\n",
              "       [0.4835702 , 0.40877905, 0.10765082],\n",
              "       [0.4835692 , 0.40877903, 0.10765177],\n",
              "       [0.4835689 , 0.40877905, 0.1076521 ],\n",
              "       [0.48356938, 0.40877903, 0.10765157],\n",
              "       [0.4835689 , 0.40877905, 0.10765209],\n",
              "       [0.4835689 , 0.408779  , 0.10765208],\n",
              "       [0.48357567, 0.40877932, 0.10764514],\n",
              "       [0.48357174, 0.40877914, 0.10764914],\n",
              "       [0.4835718 , 0.40877908, 0.10764907],\n",
              "       [0.4835689 , 0.40877905, 0.10765205],\n",
              "       [0.48356932, 0.40877897, 0.10765158],\n",
              "       [0.483571  , 0.40877914, 0.10764985],\n",
              "       [0.4835692 , 0.40877908, 0.10765184],\n",
              "       [0.4835691 , 0.40877903, 0.10765191],\n",
              "       [0.48356926, 0.40877903, 0.10765167],\n",
              "       [0.48356897, 0.40877903, 0.10765203],\n",
              "       [0.48357007, 0.4087791 , 0.10765085],\n",
              "       [0.48357192, 0.4087791 , 0.10764898],\n",
              "       [0.48356932, 0.408779  , 0.10765168],\n",
              "       [0.48356968, 0.40877903, 0.10765128],\n",
              "       [0.4835691 , 0.40877908, 0.10765191],\n",
              "       [0.48356903, 0.408779  , 0.10765198],\n",
              "       [0.48356926, 0.40877897, 0.10765168],\n",
              "       [0.4835689 , 0.40877905, 0.10765203],\n",
              "       [0.4835692 , 0.408779  , 0.1076517 ],\n",
              "       [0.4835692 , 0.408779  , 0.1076517 ],\n",
              "       [0.4835689 , 0.40877905, 0.10765205],\n",
              "       [0.48356962, 0.40877903, 0.1076513 ],\n",
              "       [0.4835695 , 0.40877897, 0.10765149],\n",
              "       [0.48356962, 0.40877905, 0.10765137],\n",
              "       [0.4835689 , 0.40877905, 0.1076521 ],\n",
              "       [0.4835689 , 0.40877905, 0.10765209],\n",
              "       [0.48357   , 0.40877914, 0.10765088],\n",
              "       [0.4835692 , 0.408779  , 0.10765173],\n",
              "       [0.48356897, 0.40877903, 0.10765196],\n",
              "       [0.48357058, 0.40877914, 0.10765024],\n",
              "       [0.4835691 , 0.40877905, 0.10765189],\n",
              "       [0.48356926, 0.408779  , 0.1076517 ],\n",
              "       [0.4835705 , 0.40877905, 0.10765046],\n",
              "       [0.48357075, 0.40877908, 0.10765017],\n",
              "       [0.4835695 , 0.408779  , 0.10765147],\n",
              "       [0.4835705 , 0.4087791 , 0.10765043],\n",
              "       [0.4835703 , 0.40877905, 0.1076507 ],\n",
              "       [0.4835707 , 0.4087791 , 0.10765021],\n",
              "       [0.48356915, 0.40877905, 0.10765185],\n",
              "       [0.4835692 , 0.40877905, 0.10765184],\n",
              "       [0.48356932, 0.40877897, 0.10765161],\n",
              "       [0.48357   , 0.408779  , 0.10765099],\n",
              "       [0.4835708 , 0.4087791 , 0.10765007],\n",
              "       [0.48357117, 0.40877908, 0.10764979],\n",
              "       [0.48356897, 0.40877908, 0.10765205],\n",
              "       [0.4835689 , 0.40877905, 0.10765208],\n",
              "       [0.4835689 , 0.40877903, 0.10765208],\n",
              "       [0.48356897, 0.40877905, 0.10765203],\n",
              "       [0.4835699 , 0.40877905, 0.10765106],\n",
              "       [0.48356915, 0.40877903, 0.10765184],\n",
              "       [0.48356968, 0.4087791 , 0.10765128],\n",
              "       [0.48357105, 0.40877905, 0.10764978],\n",
              "       [0.48356956, 0.408779  , 0.10765141],\n",
              "       [0.48356944, 0.40877905, 0.10765153],\n",
              "       [0.4835692 , 0.40877905, 0.10765184],\n",
              "       [0.48356897, 0.40877903, 0.10765202],\n",
              "       [0.48356926, 0.408779  , 0.10765171],\n",
              "       [0.48356938, 0.40877903, 0.10765152],\n",
              "       [0.4835689 , 0.408779  , 0.10765208],\n",
              "       [0.48356885, 0.40877903, 0.10765209],\n",
              "       [0.48356944, 0.40877905, 0.10765146],\n",
              "       [0.4835692 , 0.408779  , 0.10765177],\n",
              "       [0.48356944, 0.408779  , 0.10765157],\n",
              "       [0.4835697 , 0.40877897, 0.10765126],\n",
              "       [0.4835689 , 0.40877905, 0.1076521 ],\n",
              "       [0.4835691 , 0.40877905, 0.10765191],\n",
              "       [0.4835689 , 0.40877905, 0.10765208],\n",
              "       [0.48356977, 0.408779  , 0.10765111],\n",
              "       [0.4835692 , 0.408779  , 0.10765173],\n",
              "       [0.48356932, 0.40877903, 0.10765168],\n",
              "       [0.4835692 , 0.408779  , 0.10765173],\n",
              "       [0.4835691 , 0.40877903, 0.10765196],\n",
              "       [0.4835691 , 0.40877905, 0.10765189],\n",
              "       [0.48356897, 0.40877908, 0.10765202],\n",
              "       [0.48356897, 0.40877905, 0.10765202],\n",
              "       [0.4835708 , 0.40877914, 0.10765017],\n",
              "       [0.4835702 , 0.40877905, 0.10765077],\n",
              "       [0.48356995, 0.40877905, 0.107651  ],\n",
              "       [0.48356897, 0.40877905, 0.10765202],\n",
              "       [0.48357055, 0.4087791 , 0.10765036],\n",
              "       [0.48356915, 0.40877908, 0.10765182],\n",
              "       [0.48356897, 0.40877905, 0.10765203],\n",
              "       [0.4835692 , 0.40877903, 0.10765181],\n",
              "       [0.4835702 , 0.40877914, 0.10765067],\n",
              "       [0.48356926, 0.40877903, 0.10765165],\n",
              "       [0.4835697 , 0.40877903, 0.10765116],\n",
              "       [0.48357007, 0.40877903, 0.10765082],\n",
              "       [0.48357055, 0.40877908, 0.10765039],\n",
              "       [0.48357013, 0.40877905, 0.10765081],\n",
              "       [0.48356932, 0.40877897, 0.10765158],\n",
              "       [0.48356944, 0.40877905, 0.10765149],\n",
              "       [0.48356932, 0.408779  , 0.10765161],\n",
              "       [0.48356968, 0.40877903, 0.10765128],\n",
              "       [0.48356956, 0.40877905, 0.10765135],\n",
              "       [0.48356944, 0.40877905, 0.10765152],\n",
              "       [0.4835692 , 0.408779  , 0.1076517 ],\n",
              "       [0.4835692 , 0.408779  , 0.1076517 ],\n",
              "       [0.48356915, 0.40877908, 0.10765185],\n",
              "       [0.48356977, 0.40877903, 0.10765114],\n",
              "       [0.48356995, 0.40877903, 0.10765098],\n",
              "       [0.48356926, 0.408779  , 0.1076517 ],\n",
              "       [0.48356995, 0.40877903, 0.10765103],\n",
              "       [0.48356995, 0.40877905, 0.107651  ],\n",
              "       [0.4835689 , 0.40877903, 0.10765209],\n",
              "       [0.4835703 , 0.40877914, 0.10765062],\n",
              "       [0.48357025, 0.40877908, 0.10765065],\n",
              "       [0.48357248, 0.40877923, 0.10764828],\n",
              "       [0.48356897, 0.40877905, 0.10765202],\n",
              "       [0.4835689 , 0.40877905, 0.10765208],\n",
              "       [0.48357123, 0.4087791 , 0.10764962],\n",
              "       [0.48357093, 0.40877905, 0.10764991],\n",
              "       [0.48357025, 0.40877908, 0.10765073],\n",
              "       [0.4835695 , 0.408779  , 0.10765149],\n",
              "       [0.48356926, 0.40877903, 0.10765167],\n",
              "       [0.48356926, 0.408779  , 0.10765167],\n",
              "       [0.4835699 , 0.40877905, 0.10765106],\n",
              "       [0.4835689 , 0.40877905, 0.10765208],\n",
              "       [0.4835689 , 0.40877905, 0.10765208],\n",
              "       [0.4835689 , 0.408779  , 0.10765208],\n",
              "       [0.4835689 , 0.40877903, 0.10765208],\n",
              "       [0.4835695 , 0.40877905, 0.10765142],\n",
              "       [0.48356903, 0.40877903, 0.107652  ],\n",
              "       [0.4835689 , 0.40877903, 0.10765208],\n",
              "       [0.4835689 , 0.40877905, 0.10765208],\n",
              "       [0.4835692 , 0.40877905, 0.10765176],\n",
              "       [0.4835691 , 0.40877908, 0.10765189],\n",
              "       [0.48356926, 0.408779  , 0.10765164],\n",
              "       [0.48356938, 0.40877905, 0.10765155],\n",
              "       [0.48356915, 0.40877905, 0.10765185],\n",
              "       [0.48356932, 0.40877903, 0.10765166],\n",
              "       [0.48356915, 0.40877903, 0.10765185],\n",
              "       [0.48356897, 0.40877903, 0.10765199],\n",
              "       [0.4835689 , 0.40877905, 0.10765209],\n",
              "       [0.48357227, 0.40877908, 0.10764869],\n",
              "       [0.4835705 , 0.4087791 , 0.10765041],\n",
              "       [0.4835689 , 0.40877905, 0.1076521 ],\n",
              "       [0.4835689 , 0.40877905, 0.1076521 ],\n",
              "       [0.4835689 , 0.40877905, 0.1076521 ],\n",
              "       [0.48357123, 0.4087791 , 0.10764962],\n",
              "       [0.48356915, 0.40877908, 0.10765187],\n",
              "       [0.48356897, 0.40877905, 0.10765202],\n",
              "       [0.4835689 , 0.40877905, 0.10765203],\n",
              "       [0.4835689 , 0.40877903, 0.10765208],\n",
              "       [0.4835689 , 0.40877905, 0.10765208],\n",
              "       [0.4835689 , 0.40877903, 0.10765208],\n",
              "       [0.4835689 , 0.40877905, 0.10765209],\n",
              "       [0.48356897, 0.408779  , 0.10765202],\n",
              "       [0.4835689 , 0.40877905, 0.10765209],\n",
              "       [0.48356903, 0.40877903, 0.107652  ],\n",
              "       [0.4835691 , 0.40877905, 0.10765196],\n",
              "       [0.4835689 , 0.40877903, 0.10765208],\n",
              "       [0.48357037, 0.40877905, 0.10765059],\n",
              "       [0.48356995, 0.40877903, 0.10765097],\n",
              "       [0.48356968, 0.40877908, 0.1076513 ],\n",
              "       [0.4835689 , 0.40877905, 0.1076521 ],\n",
              "       [0.4835689 , 0.40877905, 0.1076521 ],\n",
              "       [0.48356903, 0.40877903, 0.10765199],\n",
              "       [0.4835689 , 0.40877905, 0.10765205],\n",
              "       [0.48356932, 0.408779  , 0.10765163],\n",
              "       [0.4835691 , 0.40877905, 0.10765194],\n",
              "       [0.4835691 , 0.40877905, 0.10765191],\n",
              "       [0.4835692 , 0.40877903, 0.10765176],\n",
              "       [0.48356938, 0.40877903, 0.10765157],\n",
              "       [0.48356932, 0.40877897, 0.10765168],\n",
              "       [0.4835703 , 0.4087792 , 0.10765052],\n",
              "       [0.4835689 , 0.40877903, 0.10765208],\n",
              "       [0.4835689 , 0.40877905, 0.1076521 ],\n",
              "       [0.483571  , 0.4087792 , 0.10764975],\n",
              "       [0.4835692 , 0.40877905, 0.10765176],\n",
              "       [0.4835689 , 0.40877905, 0.10765209],\n",
              "       [0.48356932, 0.40877897, 0.10765158],\n",
              "       [0.48356938, 0.40877905, 0.10765149],\n",
              "       [0.4835689 , 0.40877905, 0.1076521 ],\n",
              "       [0.4835692 , 0.40877905, 0.10765173],\n",
              "       [0.48357365, 0.40877938, 0.10764692],\n",
              "       [0.4835691 , 0.40877905, 0.10765191],\n",
              "       [0.4835691 , 0.40877903, 0.10765191],\n",
              "       [0.4835691 , 0.40877905, 0.10765196],\n",
              "       [0.4835692 , 0.40877903, 0.10765176],\n",
              "       [0.48356932, 0.408779  , 0.10765158],\n",
              "       [0.48356903, 0.40877905, 0.10765191],\n",
              "       [0.48356968, 0.40877908, 0.1076512 ],\n",
              "       [0.48357415, 0.40877938, 0.1076465 ],\n",
              "       [0.48357037, 0.4087791 , 0.10765055],\n",
              "       [0.48357272, 0.40877917, 0.10764803],\n",
              "       [0.483571  , 0.40877905, 0.10764993],\n",
              "       [0.4835714 , 0.4087791 , 0.10764948],\n",
              "       [0.4835689 , 0.408779  , 0.10765208],\n",
              "       [0.4835689 , 0.40877905, 0.10765205],\n",
              "       [0.48356968, 0.4087791 , 0.1076513 ],\n",
              "       [0.4835691 , 0.40877905, 0.10765189],\n",
              "       [0.48357037, 0.4087791 , 0.10765061],\n",
              "       [0.4835691 , 0.40877903, 0.10765194],\n",
              "       [0.4835699 , 0.40877905, 0.10765105],\n",
              "       [0.48357007, 0.40877905, 0.10765088],\n",
              "       [0.48356977, 0.40877903, 0.1076512 ],\n",
              "       [0.48356932, 0.40877897, 0.1076516 ],\n",
              "       [0.4835689 , 0.40877903, 0.10765208],\n",
              "       [0.4835689 , 0.40877905, 0.10765208],\n",
              "       [0.48356903, 0.40877903, 0.107652  ],\n",
              "       [0.4835692 , 0.40877903, 0.10765176],\n",
              "       [0.48356897, 0.40877903, 0.10765199],\n",
              "       [0.48356897, 0.40877903, 0.10765199],\n",
              "       [0.48357302, 0.4087791 , 0.10764787],\n",
              "       [0.48356938, 0.408779  , 0.10765159],\n",
              "       [0.48356983, 0.40877905, 0.10765105],\n",
              "       [0.4835692 , 0.40877908, 0.10765184],\n",
              "       [0.4835697 , 0.40877903, 0.10765126],\n",
              "       [0.4835691 , 0.40877905, 0.10765196],\n",
              "       [0.4835699 , 0.40877903, 0.10765103],\n",
              "       [0.48356926, 0.40877897, 0.1076517 ],\n",
              "       [0.48356938, 0.408779  , 0.10765155],\n",
              "       [0.48356897, 0.40877903, 0.10765196],\n",
              "       [0.4835689 , 0.40877903, 0.10765208],\n",
              "       [0.4835689 , 0.40877905, 0.10765205],\n",
              "       [0.48356897, 0.40877905, 0.10765202],\n",
              "       [0.4835692 , 0.408779  , 0.10765173],\n",
              "       [0.4835692 , 0.40877905, 0.1076518 ],\n",
              "       [0.48356897, 0.40877905, 0.10765202],\n",
              "       [0.4835692 , 0.40877908, 0.10765181],\n",
              "       [0.48356977, 0.40877897, 0.10765122],\n",
              "       [0.48356897, 0.40877908, 0.10765204],\n",
              "       [0.48356897, 0.40877905, 0.10765204],\n",
              "       [0.4835689 , 0.40877903, 0.10765208],\n",
              "       [0.48357204, 0.40877917, 0.10764888],\n",
              "       [0.48357105, 0.40877908, 0.10764989],\n",
              "       [0.48357156, 0.4087791 , 0.10764925],\n",
              "       [0.48357123, 0.4087791 , 0.10764961],\n",
              "       [0.48356995, 0.40877903, 0.107651  ],\n",
              "       [0.48356968, 0.40877908, 0.1076513 ],\n",
              "       [0.48357007, 0.4087791 , 0.10765088],\n",
              "       [0.4835689 , 0.40877905, 0.10765208],\n",
              "       [0.4835689 , 0.408779  , 0.10765208],\n",
              "       [0.4835689 , 0.40877905, 0.10765205],\n",
              "       [0.48356962, 0.40877903, 0.10765138],\n",
              "       [0.48356962, 0.40877905, 0.10765141],\n",
              "       [0.48356962, 0.40877903, 0.10765137],\n",
              "       [0.48356926, 0.40877903, 0.10765162],\n",
              "       [0.48356983, 0.40877903, 0.10765113],\n",
              "       [0.48356962, 0.40877903, 0.10765132],\n",
              "       [0.48356977, 0.408779  , 0.10765114],\n",
              "       [0.4835715 , 0.40877914, 0.10764939],\n",
              "       [0.48357093, 0.40877908, 0.10764992],\n",
              "       [0.4835713 , 0.4087791 , 0.10764963],\n",
              "       [0.4835695 , 0.40877903, 0.10765149],\n",
              "       [0.4835689 , 0.40877905, 0.10765208],\n",
              "       [0.4835691 , 0.40877905, 0.10765191],\n",
              "       [0.4835689 , 0.40877905, 0.1076521 ],\n",
              "       [0.48357087, 0.4087791 , 0.10765003],\n",
              "       [0.4835692 , 0.408779  , 0.10765176],\n",
              "       [0.48357087, 0.40877908, 0.10765008],\n",
              "       [0.48356926, 0.408779  , 0.10765164],\n",
              "       [0.48356956, 0.40877905, 0.10765135],\n",
              "       [0.48356968, 0.40877908, 0.10765125],\n",
              "       [0.4835689 , 0.40877905, 0.10765205],\n",
              "       [0.4835689 , 0.40877903, 0.10765208],\n",
              "       [0.4835689 , 0.40877905, 0.1076521 ],\n",
              "       [0.4835744 , 0.40877914, 0.10764647],\n",
              "       [0.48357585, 0.40877932, 0.1076449 ],\n",
              "       [0.4835699 , 0.40877908, 0.10765104],\n",
              "       [0.48356915, 0.40877905, 0.10765187],\n",
              "       [0.4835691 , 0.40877905, 0.10765194],\n",
              "       [0.4835689 , 0.40877903, 0.10765208],\n",
              "       [0.4835689 , 0.40877905, 0.10765208],\n",
              "       [0.48356926, 0.40877903, 0.10765164],\n",
              "       [0.4835689 , 0.40877905, 0.10765205],\n",
              "       [0.48357198, 0.40877917, 0.10764883],\n",
              "       [0.48356932, 0.40877903, 0.10765166],\n",
              "       [0.48356938, 0.40877908, 0.10765157],\n",
              "       [0.48356938, 0.408779  , 0.10765159],\n",
              "       [0.4835708 , 0.4087791 , 0.10765014],\n",
              "       [0.48357037, 0.40877905, 0.10765059],\n",
              "       [0.4835691 , 0.40877903, 0.10765193],\n",
              "       [0.4835691 , 0.40877903, 0.10765187],\n",
              "       [0.48356977, 0.40877903, 0.10765114],\n",
              "       [0.4835691 , 0.40877903, 0.10765196],\n",
              "       [0.4835695 , 0.40877905, 0.10765144],\n",
              "       [0.4835692 , 0.40877903, 0.10765184],\n",
              "       [0.48357   , 0.40877905, 0.10765091],\n",
              "       [0.48356938, 0.408779  , 0.10765158],\n",
              "       [0.48356944, 0.40877903, 0.10765149],\n",
              "       [0.48356944, 0.40877908, 0.10765148],\n",
              "       [0.48356897, 0.40877905, 0.10765202],\n",
              "       [0.4835689 , 0.40877905, 0.10765207],\n",
              "       [0.4835689 , 0.40877905, 0.10765205],\n",
              "       [0.4835689 , 0.40877903, 0.10765208],\n",
              "       [0.4835689 , 0.40877905, 0.10765209],\n",
              "       [0.48357156, 0.4087791 , 0.10764933],\n",
              "       [0.48356932, 0.40877905, 0.1076516 ],\n",
              "       [0.4835689 , 0.40877905, 0.10765209],\n",
              "       [0.4835689 , 0.40877903, 0.10765208],\n",
              "       [0.4835689 , 0.40877905, 0.1076521 ],\n",
              "       [0.4835689 , 0.40877905, 0.10765209],\n",
              "       [0.4835689 , 0.408779  , 0.10765208],\n",
              "       [0.48356926, 0.408779  , 0.10765162],\n",
              "       [0.48357105, 0.40877908, 0.10764978],\n",
              "       [0.483571  , 0.40877914, 0.10764986],\n",
              "       [0.48356915, 0.40877905, 0.1076518 ],\n",
              "       [0.4835689 , 0.40877905, 0.10765205],\n",
              "       [0.4835691 , 0.40877903, 0.10765196],\n",
              "       [0.48357055, 0.40877914, 0.10765044],\n",
              "       [0.48356977, 0.408779  , 0.10765111],\n",
              "       [0.4835689 , 0.40877905, 0.10765209],\n",
              "       [0.4835699 , 0.40877908, 0.10765099],\n",
              "       [0.4835689 , 0.40877903, 0.10765207],\n",
              "       [0.4835689 , 0.40877905, 0.10765208],\n",
              "       [0.4835689 , 0.40877905, 0.1076521 ],\n",
              "       [0.4835689 , 0.40877905, 0.1076521 ],\n",
              "       [0.48356897, 0.40877908, 0.10765206],\n",
              "       [0.48356897, 0.40877903, 0.10765202],\n",
              "       [0.4835692 , 0.40877905, 0.10765175],\n",
              "       [0.48357037, 0.40877905, 0.10765056],\n",
              "       [0.48357007, 0.40877905, 0.10765093],\n",
              "       [0.48356977, 0.40877905, 0.10765114],\n",
              "       [0.48356968, 0.40877908, 0.10765125],\n",
              "       [0.4835692 , 0.40877903, 0.10765184],\n",
              "       [0.4835691 , 0.40877905, 0.10765189],\n",
              "       [0.4835691 , 0.40877905, 0.10765189],\n",
              "       [0.4835689 , 0.40877905, 0.10765209],\n",
              "       [0.48357   , 0.4087791 , 0.10765091],\n",
              "       [0.4835689 , 0.40877905, 0.1076521 ],\n",
              "       [0.4835689 , 0.40877905, 0.10765209],\n",
              "       [0.4835689 , 0.40877905, 0.10765209],\n",
              "       [0.48356926, 0.408779  , 0.10765164],\n",
              "       [0.48356897, 0.40877908, 0.10765204],\n",
              "       [0.48357105, 0.40877908, 0.10764985],\n",
              "       [0.48357058, 0.40877908, 0.10765032],\n",
              "       [0.4835695 , 0.40877905, 0.10765149],\n",
              "       [0.48356962, 0.40877903, 0.10765139],\n",
              "       [0.4835689 , 0.40877905, 0.10765207],\n",
              "       [0.48356944, 0.40877905, 0.10765152],\n",
              "       [0.4835705 , 0.4087791 , 0.10765047],\n",
              "       [0.4835697 , 0.40877903, 0.10765126],\n",
              "       [0.48356932, 0.408779  , 0.10765161],\n",
              "       [0.4835699 , 0.408779  , 0.10765104],\n",
              "       [0.48356968, 0.4087791 , 0.1076513 ],\n",
              "       [0.48357055, 0.4087791 , 0.10765036],\n",
              "       [0.4835697 , 0.40877903, 0.10765116],\n",
              "       [0.48356932, 0.408779  , 0.10765158],\n",
              "       [0.48356903, 0.40877903, 0.10765201],\n",
              "       [0.4835692 , 0.408779  , 0.1076517 ],\n",
              "       [0.48356897, 0.40877908, 0.10765204],\n",
              "       [0.48356944, 0.40877903, 0.10765151],\n",
              "       [0.48356926, 0.408779  , 0.10765164],\n",
              "       [0.48356915, 0.40877905, 0.10765182],\n",
              "       [0.4835691 , 0.40877903, 0.10765189],\n",
              "       [0.48356944, 0.40877905, 0.10765151],\n",
              "       [0.48356968, 0.4087791 , 0.10765129],\n",
              "       [0.48356962, 0.40877905, 0.10765141],\n",
              "       [0.4835695 , 0.40877905, 0.10765144],\n",
              "       [0.48356938, 0.40877903, 0.10765153],\n",
              "       [0.4835697 , 0.40877897, 0.1076512 ],\n",
              "       [0.4835689 , 0.408779  , 0.10765208],\n",
              "       [0.4835689 , 0.40877905, 0.10765207],\n",
              "       [0.48356926, 0.408779  , 0.1076517 ],\n",
              "       [0.4835695 , 0.40877903, 0.10765142],\n",
              "       [0.48357216, 0.40877917, 0.10764866],\n",
              "       [0.4835689 , 0.40877905, 0.1076521 ],\n",
              "       [0.48357   , 0.40877905, 0.10765094],\n",
              "       [0.4835689 , 0.40877905, 0.1076521 ],\n",
              "       [0.4835689 , 0.40877903, 0.10765208],\n",
              "       [0.4835689 , 0.40877905, 0.10765205],\n",
              "       [0.48356938, 0.408779  , 0.10765153],\n",
              "       [0.4835689 , 0.40877905, 0.10765208],\n",
              "       [0.4835689 , 0.40877905, 0.10765208],\n",
              "       [0.48356903, 0.40877903, 0.107652  ],\n",
              "       [0.48356938, 0.40877905, 0.10765155],\n",
              "       [0.48356915, 0.40877905, 0.10765185],\n",
              "       [0.4835692 , 0.40877905, 0.10765179],\n",
              "       [0.48357   , 0.40877905, 0.10765088],\n",
              "       [0.4835689 , 0.40877903, 0.10765208],\n",
              "       [0.48356897, 0.40877905, 0.10765202],\n",
              "       [0.48356926, 0.408779  , 0.10765164],\n",
              "       [0.4835692 , 0.40877903, 0.10765172],\n",
              "       [0.4835692 , 0.40877905, 0.10765177],\n",
              "       [0.48356915, 0.40877903, 0.10765185],\n",
              "       [0.48356915, 0.40877905, 0.1076518 ],\n",
              "       [0.4835695 , 0.408779  , 0.10765147],\n",
              "       [0.48356915, 0.40877905, 0.10765182],\n",
              "       [0.4835689 , 0.40877903, 0.10765208],\n",
              "       [0.48356932, 0.40877897, 0.10765161],\n",
              "       [0.4835695 , 0.40877905, 0.10765147],\n",
              "       [0.48356932, 0.40877897, 0.10765158],\n",
              "       [0.4835691 , 0.40877903, 0.10765191],\n",
              "       [0.48356932, 0.408779  , 0.10765168],\n",
              "       [0.48356932, 0.40877903, 0.10765166],\n",
              "       [0.48356932, 0.40877897, 0.10765158],\n",
              "       [0.48356932, 0.40877905, 0.10765161],\n",
              "       [0.4835689 , 0.40877905, 0.1076521 ],\n",
              "       [0.4835692 , 0.40877905, 0.10765176],\n",
              "       [0.4835695 , 0.408779  , 0.10765149],\n",
              "       [0.48356903, 0.40877903, 0.10765193],\n",
              "       [0.4835692 , 0.40877905, 0.10765173],\n",
              "       [0.4835692 , 0.40877905, 0.10765184],\n",
              "       [0.48356938, 0.40877905, 0.10765155],\n",
              "       [0.48356932, 0.408779  , 0.1076516 ],\n",
              "       [0.48357087, 0.40877914, 0.10764992],\n",
              "       [0.48357216, 0.40877944, 0.10764842],\n",
              "       [0.4835697 , 0.408779  , 0.10765123],\n",
              "       [0.48356962, 0.40877905, 0.10765137],\n",
              "       [0.4835692 , 0.40877908, 0.10765182],\n",
              "       [0.48356926, 0.40877894, 0.1076517 ],\n",
              "       [0.48356932, 0.408779  , 0.10765167],\n",
              "       [0.48356938, 0.408779  , 0.10765159],\n",
              "       [0.4835692 , 0.40877905, 0.10765181],\n",
              "       [0.48357117, 0.40877917, 0.10764968],\n",
              "       [0.48356995, 0.40877905, 0.10765095],\n",
              "       [0.48356932, 0.40877903, 0.10765161],\n",
              "       [0.48357087, 0.40877908, 0.10765   ],\n",
              "       [0.4835703 , 0.40877908, 0.10765067],\n",
              "       [0.48357025, 0.4087791 , 0.10765073],\n",
              "       [0.4835695 , 0.40877905, 0.10765149],\n",
              "       [0.48357013, 0.40877908, 0.10765081],\n",
              "       [0.48357007, 0.40877905, 0.10765082],\n",
              "       [0.48356926, 0.40877903, 0.10765167],\n",
              "       [0.4835705 , 0.4087791 , 0.10765049],\n",
              "       [0.48356962, 0.40877905, 0.1076513 ],\n",
              "       [0.48357007, 0.40877908, 0.10765088],\n",
              "       [0.48356926, 0.408779  , 0.10765164],\n",
              "       [0.48356926, 0.408779  , 0.10765168],\n",
              "       [0.48356944, 0.40877905, 0.10765149],\n",
              "       [0.4835689 , 0.40877905, 0.10765208],\n",
              "       [0.4835695 , 0.40877905, 0.10765139],\n",
              "       [0.48356915, 0.40877905, 0.10765187],\n",
              "       [0.4835692 , 0.40877908, 0.10765182],\n",
              "       [0.48356915, 0.40877905, 0.10765185],\n",
              "       [0.48356926, 0.408779  , 0.10765171],\n",
              "       [0.48356944, 0.40877905, 0.10765151],\n",
              "       [0.4835691 , 0.40877903, 0.10765191],\n",
              "       [0.48356944, 0.40877905, 0.10765153],\n",
              "       [0.48356932, 0.408779  , 0.10765163],\n",
              "       [0.48356932, 0.408779  , 0.10765158],\n",
              "       [0.4835691 , 0.408779  , 0.10765191],\n",
              "       [0.4835692 , 0.40877903, 0.10765172],\n",
              "       [0.48357117, 0.40877908, 0.10764974],\n",
              "       [0.4835697 , 0.40877903, 0.1076512 ],\n",
              "       [0.48356962, 0.40877903, 0.10765132],\n",
              "       [0.48357   , 0.40877908, 0.10765088],\n",
              "       [0.48356977, 0.408779  , 0.10765114],\n",
              "       [0.48356897, 0.40877903, 0.10765196],\n",
              "       [0.4835692 , 0.40877905, 0.1076518 ],\n",
              "       [0.48356983, 0.40877903, 0.10765108],\n",
              "       [0.48356968, 0.40877908, 0.1076513 ],\n",
              "       [0.4835732 , 0.4087794 , 0.10764743],\n",
              "       [0.48356926, 0.40877903, 0.10765167],\n",
              "       [0.4835692 , 0.408779  , 0.10765175],\n",
              "       [0.48357007, 0.4087791 , 0.10765085],\n",
              "       [0.4835689 , 0.40877903, 0.10765208],\n",
              "       [0.4835689 , 0.40877903, 0.10765208],\n",
              "       [0.4835689 , 0.40877905, 0.1076521 ],\n",
              "       [0.48357   , 0.408779  , 0.10765099],\n",
              "       [0.48356915, 0.40877905, 0.10765187],\n",
              "       [0.4835689 , 0.40877903, 0.10765208],\n",
              "       [0.4835689 , 0.40877905, 0.1076521 ],\n",
              "       [0.4835691 , 0.40877905, 0.10765191],\n",
              "       [0.48356897, 0.40877905, 0.10765202],\n",
              "       [0.4835689 , 0.40877905, 0.10765209],\n",
              "       [0.4835691 , 0.40877903, 0.10765189],\n",
              "       [0.48357216, 0.40877914, 0.10764869],\n",
              "       [0.48356897, 0.40877905, 0.10765206],\n",
              "       [0.4835695 , 0.40877903, 0.10765144],\n",
              "       [0.4835714 , 0.40877917, 0.10764951],\n",
              "       [0.48356932, 0.408779  , 0.10765161],\n",
              "       [0.48356944, 0.40877905, 0.10765153],\n",
              "       [0.48356962, 0.40877905, 0.10765141],\n",
              "       [0.48357162, 0.40877914, 0.10764924],\n",
              "       [0.4835691 , 0.408779  , 0.10765189],\n",
              "       [0.4835695 , 0.40877903, 0.10765144],\n",
              "       [0.48356962, 0.40877905, 0.10765139],\n",
              "       [0.4835695 , 0.408779  , 0.10765139],\n",
              "       [0.48356926, 0.40877903, 0.10765162],\n",
              "       [0.48356915, 0.40877905, 0.10765185],\n",
              "       [0.4835691 , 0.40877905, 0.10765191],\n",
              "       [0.4835697 , 0.40877903, 0.10765123],\n",
              "       [0.48356962, 0.40877905, 0.10765137],\n",
              "       [0.48357093, 0.40877908, 0.10764994],\n",
              "       [0.48357162, 0.40877908, 0.10764931],\n",
              "       [0.48357135, 0.40877908, 0.10764955],\n",
              "       [0.48357174, 0.40877914, 0.10764914],\n",
              "       [0.48357204, 0.4087791 , 0.10764885],\n",
              "       [0.48357135, 0.40877908, 0.10764952],\n",
              "       [0.48357192, 0.4087791 , 0.10764898],\n",
              "       [0.48357168, 0.4087791 , 0.10764915],\n",
              "       [0.48357162, 0.40877905, 0.10764925],\n",
              "       [0.4835721 , 0.40877914, 0.10764881],\n",
              "       [0.48357233, 0.40877914, 0.10764855],\n",
              "       [0.48357248, 0.40877917, 0.10764839],\n",
              "       [0.4835715 , 0.40877908, 0.1076494 ],\n",
              "       [0.48357242, 0.40877917, 0.10764842],\n",
              "       [0.48357144, 0.40877908, 0.10764944],\n",
              "       [0.48357174, 0.40877914, 0.10764914],\n",
              "       [0.48357227, 0.40877914, 0.10764864],\n",
              "       [0.4835722 , 0.4087791 , 0.10764866],\n",
              "       [0.48357058, 0.4087791 , 0.10765029],\n",
              "       [0.48357093, 0.40877908, 0.10764995],\n",
              "       [0.48357192, 0.40877917, 0.10764895],\n",
              "       [0.48357242, 0.4087792 , 0.10764845],\n",
              "       [0.48357296, 0.40877914, 0.10764785],\n",
              "       [0.48357233, 0.40877917, 0.10764855],\n",
              "       [0.48357248, 0.40877917, 0.10764841],\n",
              "       [0.48357192, 0.40877914, 0.10764898],\n",
              "       [0.48357236, 0.4087791 , 0.10764848],\n",
              "       [0.4835721 , 0.40877908, 0.10764881],\n",
              "       [0.48357156, 0.40877908, 0.10764933],\n",
              "       [0.48357087, 0.40877908, 0.10764995],\n",
              "       [0.48357117, 0.40877908, 0.10764974],\n",
              "       [0.48357162, 0.4087791 , 0.10764924],\n",
              "       [0.48357162, 0.4087791 , 0.1076493 ],\n",
              "       [0.48357192, 0.40877914, 0.10764898],\n",
              "       [0.4835714 , 0.4087791 , 0.10764948],\n",
              "       [0.48357198, 0.4087791 , 0.10764889],\n",
              "       [0.4835713 , 0.40877908, 0.10764963],\n",
              "       [0.48357242, 0.40877914, 0.10764848],\n",
              "       [0.48357266, 0.40877917, 0.10764813],\n",
              "       [0.48357296, 0.4087792 , 0.10764785],\n",
              "       [0.48357192, 0.40877917, 0.10764898],\n",
              "       [0.48357227, 0.40877917, 0.10764864],\n",
              "       [0.4835721 , 0.40877917, 0.10764881],\n",
              "       [0.48357204, 0.40877914, 0.10764886],\n",
              "       [0.48357236, 0.40877914, 0.10764848],\n",
              "       [0.48357204, 0.4087791 , 0.10764885],\n",
              "       [0.48357144, 0.40877905, 0.10764949],\n",
              "       [0.4835722 , 0.40877917, 0.10764869],\n",
              "       [0.4835711 , 0.40877908, 0.10764971],\n",
              "       [0.4835714 , 0.4087791 , 0.10764945],\n",
              "       [0.4835718 , 0.4087791 , 0.10764907],\n",
              "       [0.4835726 , 0.40877914, 0.10764825],\n",
              "       [0.48357242, 0.40877917, 0.10764845],\n",
              "       [0.4835726 , 0.40877914, 0.10764824],\n",
              "       [0.48357227, 0.40877917, 0.10764864],\n",
              "       [0.48357087, 0.40877905, 0.10765004],\n",
              "       [0.4835702 , 0.40877903, 0.10765077],\n",
              "       [0.48356983, 0.40877905, 0.1076511 ],\n",
              "       [0.48357168, 0.4087791 , 0.10764919],\n",
              "       [0.4835708 , 0.4087791 , 0.10765007],\n",
              "       [0.4835711 , 0.40877908, 0.10764972],\n",
              "       [0.4835714 , 0.40877908, 0.1076495 ],\n",
              "       [0.48357087, 0.40877908, 0.10764997],\n",
              "       [0.4835713 , 0.4087791 , 0.1076496 ],\n",
              "       [0.48357192, 0.40877914, 0.10764897],\n",
              "       [0.48357236, 0.40877914, 0.10764848],\n",
              "       [0.48357278, 0.4087791 , 0.10764802],\n",
              "       [0.48357135, 0.40877908, 0.10764955],\n",
              "       [0.48357236, 0.4087791 , 0.10764848],\n",
              "       [0.4835722 , 0.40877914, 0.10764871],\n",
              "       [0.48357335, 0.40877917, 0.10764743],\n",
              "       [0.48357216, 0.40877914, 0.10764877],\n",
              "       [0.48357242, 0.40877917, 0.10764845],\n",
              "       [0.48357284, 0.40877914, 0.107648  ],\n",
              "       [0.48357233, 0.40877914, 0.10764855],\n",
              "       [0.48357198, 0.4087791 , 0.10764892],\n",
              "       [0.48357144, 0.40877905, 0.10764941],\n",
              "       [0.48357144, 0.40877908, 0.10764944],\n",
              "       [0.48357186, 0.40877908, 0.10764904],\n",
              "       [0.48357314, 0.4087792 , 0.10764763],\n",
              "       [0.48357278, 0.40877908, 0.10764806],\n",
              "       [0.48357242, 0.40877917, 0.10764845],\n",
              "       [0.48357302, 0.40877917, 0.10764778],\n",
              "       [0.48357296, 0.40877917, 0.10764782],\n",
              "       [0.48357278, 0.40877908, 0.10764803],\n",
              "       [0.4835729 , 0.40877914, 0.10764794],\n",
              "       [0.48357272, 0.40877917, 0.10764809],\n",
              "       [0.48357204, 0.4087791 , 0.10764885],\n",
              "       [0.48357254, 0.40877917, 0.10764837],\n",
              "       [0.4835718 , 0.4087791 , 0.1076491 ],\n",
              "       [0.48357192, 0.40877908, 0.10764895],\n",
              "       [0.48357236, 0.40877914, 0.10764846],\n",
              "       [0.48357278, 0.40877917, 0.10764804],\n",
              "       [0.48357272, 0.40877914, 0.10764811],\n",
              "       [0.4835718 , 0.4087791 , 0.10764907],\n",
              "       [0.48357296, 0.40877914, 0.10764785],\n",
              "       [0.4835729 , 0.4087791 , 0.10764789],\n",
              "       [0.48357296, 0.40877917, 0.10764782],\n",
              "       [0.4835726 , 0.40877914, 0.1076482 ],\n",
              "       [0.48357266, 0.4087791 , 0.10764819],\n",
              "       [0.48357278, 0.40877914, 0.10764806],\n",
              "       [0.48357162, 0.40877908, 0.1076493 ],\n",
              "       [0.4835714 , 0.4087791 , 0.10764951],\n",
              "       [0.48357037, 0.4087791 , 0.10765058],\n",
              "       [0.48357144, 0.4087791 , 0.10764939],\n",
              "       [0.4835714 , 0.40877914, 0.10764948],\n",
              "       [0.48357186, 0.40877914, 0.10764899],\n",
              "       [0.48357186, 0.40877917, 0.10764899],\n",
              "       [0.48357064, 0.4087791 , 0.10765028],\n",
              "       [0.48357055, 0.4087791 , 0.10765042],\n",
              "       [0.48357043, 0.40877914, 0.10765054],\n",
              "       [0.48357248, 0.40877914, 0.10764837],\n",
              "       [0.4835721 , 0.40877914, 0.10764883],\n",
              "       [0.48357272, 0.4087791 , 0.10764809],\n",
              "       [0.48357254, 0.40877917, 0.10764834],\n",
              "       [0.48357296, 0.4087792 , 0.10764779],\n",
              "       [0.4835707 , 0.4087791 , 0.10765024],\n",
              "       [0.48357168, 0.40877917, 0.10764918],\n",
              "       [0.48357254, 0.40877917, 0.10764836],\n",
              "       [0.4835721 , 0.40877908, 0.10764881],\n",
              "       [0.48357272, 0.40877917, 0.1076481 ],\n",
              "       [0.48357216, 0.40877914, 0.10764877],\n",
              "       [0.48357216, 0.4087792 , 0.10764871],\n",
              "       [0.48357266, 0.40877908, 0.10764818],\n",
              "       [0.48357248, 0.40877917, 0.10764837],\n",
              "       [0.48357242, 0.4087792 , 0.10764845],\n",
              "       [0.48357308, 0.4087792 , 0.10764769],\n",
              "       [0.4835721 , 0.4087791 , 0.10764876],\n",
              "       [0.48357192, 0.40877914, 0.107649  ],\n",
              "       [0.48357278, 0.40877917, 0.10764806],\n",
              "       [0.48357242, 0.4087792 , 0.10764846],\n",
              "       [0.48357284, 0.40877908, 0.10764798],\n",
              "       [0.48357302, 0.40877914, 0.10764787],\n",
              "       [0.48357254, 0.4087792 , 0.10764837],\n",
              "       [0.4835729 , 0.40877914, 0.10764796],\n",
              "       [0.4835729 , 0.4087791 , 0.10764789],\n",
              "       [0.4835721 , 0.40877908, 0.10764883],\n",
              "       [0.48357335, 0.4087792 , 0.10764747],\n",
              "       [0.48357347, 0.40877914, 0.10764736],\n",
              "       [0.48357296, 0.4087792 , 0.10764789],\n",
              "       [0.48357174, 0.40877908, 0.10764915],\n",
              "       [0.48357204, 0.40877914, 0.10764885],\n",
              "       [0.4835729 , 0.40877917, 0.10764791],\n",
              "       [0.48357123, 0.40877908, 0.10764961],\n",
              "       [0.48357087, 0.40877908, 0.10765   ],\n",
              "       [0.4835703 , 0.40877903, 0.10765065],\n",
              "       [0.48357043, 0.40877905, 0.10765054],\n",
              "       [0.48357064, 0.4087791 , 0.10765028],\n",
              "       [0.48357168, 0.40877917, 0.10764921],\n",
              "       [0.4835726 , 0.40877914, 0.1076482 ],\n",
              "       [0.48357266, 0.4087791 , 0.10764818],\n",
              "       [0.48357266, 0.40877914, 0.10764808],\n",
              "       [0.48357278, 0.40877914, 0.10764804],\n",
              "       [0.48357347, 0.40877914, 0.10764734],\n",
              "       [0.48357236, 0.40877917, 0.10764854],\n",
              "       [0.48357272, 0.40877917, 0.10764808],\n",
              "       [0.48357335, 0.40877917, 0.10764745],\n",
              "       [0.4835722 , 0.40877917, 0.10764868],\n",
              "       [0.48357394, 0.4087792 , 0.10764691],\n",
              "       [0.48357168, 0.40877908, 0.10764923],\n",
              "       [0.48357233, 0.4087791 , 0.10764866],\n",
              "       [0.48357254, 0.40877914, 0.10764834],\n",
              "       [0.48357168, 0.40877908, 0.10764918],\n",
              "       [0.48357204, 0.40877917, 0.10764885],\n",
              "       [0.48357233, 0.40877917, 0.10764852],\n",
              "       [0.48357174, 0.4087791 , 0.10764919],\n",
              "       [0.48357248, 0.4087792 , 0.10764831],\n",
              "       [0.48357227, 0.4087792 , 0.10764864],\n",
              "       [0.48357284, 0.4087791 , 0.10764802],\n",
              "       [0.4835729 , 0.40877914, 0.10764789],\n",
              "       [0.48357248, 0.40877917, 0.10764841],\n",
              "       [0.48357296, 0.40877914, 0.10764787],\n",
              "       [0.48357236, 0.4087791 , 0.10764848],\n",
              "       [0.48357254, 0.40877914, 0.10764834],\n",
              "       [0.48357248, 0.4087791 , 0.1076484 ],\n",
              "       [0.48357284, 0.40877914, 0.107648  ],\n",
              "       [0.4835732 , 0.40877923, 0.10764764],\n",
              "       [0.4835718 , 0.4087791 , 0.10764906],\n",
              "       [0.48357227, 0.40877917, 0.10764857],\n",
              "       [0.4835718 , 0.40877917, 0.1076491 ],\n",
              "       [0.48357168, 0.40877908, 0.10764921],\n",
              "       [0.48357156, 0.4087791 , 0.10764925],\n",
              "       [0.48357144, 0.4087791 , 0.10764942],\n",
              "       [0.48357216, 0.40877914, 0.10764879],\n",
              "       [0.48357248, 0.40877917, 0.10764837],\n",
              "       [0.4835718 , 0.4087791 , 0.1076491 ],\n",
              "       [0.48357168, 0.4087791 , 0.10764918],\n",
              "       [0.4835718 , 0.4087791 , 0.10764903],\n",
              "       [0.48357227, 0.40877917, 0.10764864],\n",
              "       [0.48357198, 0.40877914, 0.10764894],\n",
              "       [0.4835726 , 0.4087791 , 0.10764828],\n",
              "       [0.48357198, 0.4087791 , 0.10764889],\n",
              "       [0.48357254, 0.4087792 , 0.10764836],\n",
              "       [0.48357186, 0.4087791 , 0.10764907],\n",
              "       [0.48357227, 0.40877914, 0.10764862],\n",
              "       [0.48357216, 0.40877914, 0.1076488 ],\n",
              "       [0.48357236, 0.4087791 , 0.10764851],\n",
              "       [0.48357192, 0.40877908, 0.10764895],\n",
              "       [0.48357227, 0.40877917, 0.10764864],\n",
              "       [0.48357248, 0.4087791 , 0.1076484 ],\n",
              "       [0.48357198, 0.40877914, 0.10764889],\n",
              "       [0.4835721 , 0.40877917, 0.10764883],\n",
              "       [0.4835718 , 0.40877914, 0.10764907],\n",
              "       [0.4835715 , 0.40877908, 0.10764934],\n",
              "       [0.4835711 , 0.40877908, 0.10764974],\n",
              "       [0.4835721 , 0.40877914, 0.10764881],\n",
              "       [0.48357144, 0.40877905, 0.10764946],\n",
              "       [0.4835715 , 0.4087791 , 0.10764934],\n",
              "       [0.48357174, 0.40877905, 0.10764911],\n",
              "       [0.48357186, 0.40877914, 0.10764903],\n",
              "       [0.48357198, 0.40877914, 0.10764892],\n",
              "       [0.48357186, 0.4087791 , 0.10764899],\n",
              "       [0.48357198, 0.40877917, 0.10764892],\n",
              "       [0.48357233, 0.4087792 , 0.10764855],\n",
              "       [0.48357174, 0.4087791 , 0.10764911],\n",
              "       [0.48357248, 0.40877917, 0.10764839],\n",
              "       [0.48357242, 0.40877914, 0.10764845],\n",
              "       [0.4835722 , 0.40877908, 0.10764874],\n",
              "       [0.48357335, 0.4087792 , 0.10764745],\n",
              "       [0.48357347, 0.40877917, 0.10764732],\n",
              "       [0.48357308, 0.40877914, 0.10764776],\n",
              "       [0.48357174, 0.40877908, 0.10764914],\n",
              "       [0.48357266, 0.40877914, 0.10764807],\n",
              "       [0.48357308, 0.40877914, 0.10764775],\n",
              "       [0.48357284, 0.40877914, 0.10764798],\n",
              "       [0.4835718 , 0.4087791 , 0.10764907],\n",
              "       [0.48357135, 0.4087791 , 0.10764959],\n",
              "       [0.48357105, 0.40877905, 0.1076498 ],\n",
              "       [0.48357087, 0.40877908, 0.10765005],\n",
              "       [0.48357117, 0.40877905, 0.10764972],\n",
              "       [0.48357162, 0.40877914, 0.10764921],\n",
              "       [0.48357156, 0.4087791 , 0.10764933],\n",
              "       [0.48357233, 0.40877917, 0.10764855],\n",
              "       [0.48357156, 0.40877908, 0.10764936],\n",
              "       [0.48357266, 0.4087791 , 0.10764813],\n",
              "       [0.48357278, 0.40877914, 0.10764806],\n",
              "       [0.4835729 , 0.40877914, 0.10764796],\n",
              "       [0.48357216, 0.40877914, 0.1076488 ],\n",
              "       [0.48357204, 0.4087791 , 0.10764888],\n",
              "       [0.48357227, 0.40877917, 0.10764859],\n",
              "       [0.48357192, 0.4087791 , 0.10764899],\n",
              "       [0.4835722 , 0.40877914, 0.10764874],\n",
              "       [0.48357254, 0.40877914, 0.10764836],\n",
              "       [0.4835726 , 0.40877908, 0.10764816],\n",
              "       [0.4835733 , 0.40877917, 0.10764752],\n",
              "       [0.48357242, 0.4087792 , 0.10764843],\n",
              "       [0.48357216, 0.40877914, 0.1076488 ],\n",
              "       [0.4835726 , 0.40877908, 0.10764825],\n",
              "       [0.48357204, 0.40877908, 0.10764885],\n",
              "       [0.48357186, 0.4087791 , 0.10764904],\n",
              "       [0.48357236, 0.40877914, 0.10764848],\n",
              "       [0.4835726 , 0.40877914, 0.10764819],\n",
              "       [0.4835729 , 0.40877914, 0.10764789],\n",
              "       [0.48357284, 0.40877914, 0.10764796],\n",
              "       [0.48357296, 0.4087792 , 0.10764784],\n",
              "       [0.4835714 , 0.40877908, 0.10764945],\n",
              "       [0.4835726 , 0.40877908, 0.1076482 ],\n",
              "       [0.48357335, 0.40877923, 0.10764745],\n",
              "       [0.48357335, 0.4087792 , 0.10764745],\n",
              "       [0.48357248, 0.40877917, 0.10764844],\n",
              "       [0.4835721 , 0.40877914, 0.10764883],\n",
              "       [0.48357198, 0.40877914, 0.10764885],\n",
              "       [0.4835726 , 0.4087792 , 0.10764823],\n",
              "       [0.48357123, 0.4087791 , 0.10764964],\n",
              "       [0.4835702 , 0.40877903, 0.1076508 ],\n",
              "       [0.48357043, 0.40877908, 0.1076505 ],\n",
              "       [0.48357174, 0.4087791 , 0.10764913],\n",
              "       [0.4835718 , 0.4087791 , 0.10764906],\n",
              "       [0.48357272, 0.40877917, 0.10764805],\n",
              "       [0.48357254, 0.4087792 , 0.10764837],\n",
              "       [0.4835718 , 0.40877914, 0.10764907],\n",
              "       [0.48357198, 0.40877917, 0.10764892],\n",
              "       [0.48357162, 0.40877914, 0.10764924],\n",
              "       [0.48357248, 0.40877917, 0.10764845],\n",
              "       [0.48357236, 0.40877914, 0.10764851],\n",
              "       [0.4835715 , 0.40877908, 0.10764934],\n",
              "       [0.483571  , 0.40877908, 0.10764987],\n",
              "       [0.48357043, 0.4087791 , 0.10765054],\n",
              "       [0.48357198, 0.40877917, 0.10764889],\n",
              "       [0.48357248, 0.4087792 , 0.10764833],\n",
              "       [0.48357266, 0.40877905, 0.10764819],\n",
              "       [0.48357186, 0.40877908, 0.10764903],\n",
              "       [0.48357236, 0.40877914, 0.10764846],\n",
              "       [0.4835718 , 0.40877914, 0.10764903],\n",
              "       [0.48357123, 0.40877914, 0.10764967],\n",
              "       [0.48357087, 0.40877914, 0.10764997],\n",
              "       [0.48357192, 0.40877914, 0.10764898],\n",
              "       [0.48357254, 0.40877917, 0.10764832],\n",
              "       [0.48357192, 0.40877914, 0.10764898],\n",
              "       [0.48357198, 0.40877914, 0.10764894],\n",
              "       [0.4835718 , 0.4087791 , 0.10764903],\n",
              "       [0.48357162, 0.40877914, 0.10764921],\n",
              "       [0.48357174, 0.40877914, 0.10764916],\n",
              "       [0.48357168, 0.40877908, 0.10764926],\n",
              "       [0.4835726 , 0.40877908, 0.10764818],\n",
              "       [0.48357308, 0.40877914, 0.10764775],\n",
              "       [0.48357227, 0.40877917, 0.10764859],\n",
              "       [0.48357186, 0.4087791 , 0.10764901],\n",
              "       [0.48357174, 0.40877903, 0.10764922],\n",
              "       [0.48357278, 0.40877914, 0.10764805],\n",
              "       [0.4835722 , 0.40877914, 0.10764864],\n",
              "       [0.48357227, 0.40877917, 0.10764862],\n",
              "       [0.4835721 , 0.4087791 , 0.10764883],\n",
              "       [0.483571  , 0.40877908, 0.1076499 ],\n",
              "       [0.48357064, 0.4087791 , 0.10765033],\n",
              "       [0.48357123, 0.4087791 , 0.10764964],\n",
              "       [0.4835718 , 0.40877917, 0.10764909],\n",
              "       [0.48357058, 0.40877908, 0.10765037],\n",
              "       [0.48357037, 0.4087791 , 0.10765063],\n",
              "       [0.4835714 , 0.40877914, 0.10764948],\n",
              "       [0.48357156, 0.4087791 , 0.10764933],\n",
              "       [0.4835711 , 0.40877908, 0.10764981],\n",
              "       [0.48357216, 0.40877914, 0.1076488 ],\n",
              "       [0.48357192, 0.40877908, 0.10764895],\n",
              "       [0.48357156, 0.4087791 , 0.1076493 ],\n",
              "       [0.48357254, 0.40877917, 0.10764829],\n",
              "       [0.48357162, 0.40877908, 0.10764925],\n",
              "       [0.48357162, 0.40877905, 0.10764921],\n",
              "       [0.4835718 , 0.40877917, 0.10764907],\n",
              "       [0.48357174, 0.4087791 , 0.10764911],\n",
              "       [0.48357162, 0.40877908, 0.10764927],\n",
              "       [0.48357162, 0.4087791 , 0.10764927],\n",
              "       [0.4835718 , 0.40877917, 0.10764907],\n",
              "       [0.48357198, 0.40877917, 0.10764894],\n",
              "       [0.4835708 , 0.40877914, 0.10765012],\n",
              "       [0.48357037, 0.40877905, 0.10765056],\n",
              "       [0.48357105, 0.40877903, 0.10764983],\n",
              "       [0.48357192, 0.4087791 , 0.107649  ],\n",
              "       [0.4835714 , 0.4087791 , 0.10764943],\n",
              "       [0.48357272, 0.40877914, 0.10764811],\n",
              "       [0.48357242, 0.40877914, 0.10764849],\n",
              "       [0.48357266, 0.40877917, 0.10764813],\n",
              "       [0.48357254, 0.40877917, 0.10764834],\n",
              "       [0.48357236, 0.40877917, 0.10764854],\n",
              "       [0.48357227, 0.40877914, 0.10764869],\n",
              "       [0.48357254, 0.40877914, 0.10764832],\n",
              "       [0.48357254, 0.40877917, 0.10764829],\n",
              "       [0.48357168, 0.40877917, 0.10764919],\n",
              "       [0.4835703 , 0.40877908, 0.10765065],\n",
              "       [0.48357216, 0.40877914, 0.10764872],\n",
              "       [0.48357105, 0.4087791 , 0.10764981],\n",
              "       [0.48357233, 0.4087791 , 0.10764859],\n",
              "       [0.48357162, 0.40877908, 0.10764927],\n",
              "       [0.4835707 , 0.40877905, 0.10765024],\n",
              "       [0.48357168, 0.40877908, 0.10764916],\n",
              "       [0.48357087, 0.4087791 , 0.10765005],\n",
              "       [0.4835713 , 0.4087791 , 0.10764963],\n",
              "       [0.4835715 , 0.40877905, 0.10764937],\n",
              "       [0.48357043, 0.40877908, 0.1076505 ],\n",
              "       [0.4835708 , 0.4087791 , 0.10765008],\n",
              "       [0.48357055, 0.4087791 , 0.10765043],\n",
              "       [0.48357174, 0.4087791 , 0.10764914],\n",
              "       [0.48357204, 0.40877917, 0.10764882],\n",
              "       [0.48357168, 0.40877908, 0.10764926],\n",
              "       [0.48357174, 0.40877914, 0.10764914],\n",
              "       [0.48357192, 0.40877908, 0.10764895],\n",
              "       [0.48357156, 0.4087791 , 0.10764936],\n",
              "       [0.48357198, 0.40877914, 0.1076489 ],\n",
              "       [0.48357227, 0.40877917, 0.10764857],\n",
              "       [0.48357174, 0.40877908, 0.10764911],\n",
              "       [0.48357075, 0.40877905, 0.10765023],\n",
              "       [0.48357162, 0.40877905, 0.10764924],\n",
              "       [0.48357168, 0.4087791 , 0.10764921],\n",
              "       [0.48357117, 0.40877905, 0.10764971],\n",
              "       [0.48357117, 0.40877905, 0.10764974],\n",
              "       [0.4835726 , 0.40877917, 0.10764825],\n",
              "       [0.48357144, 0.40877903, 0.10764941],\n",
              "       [0.48357093, 0.40877903, 0.10764991],\n",
              "       [0.48357156, 0.40877908, 0.10764936],\n",
              "       [0.48357117, 0.40877908, 0.10764971],\n",
              "       [0.48357144, 0.40877908, 0.10764941],\n",
              "       [0.48357105, 0.40877908, 0.10764986],\n",
              "       [0.4835714 , 0.4087791 , 0.10764951],\n",
              "       [0.48357174, 0.4087791 , 0.10764919],\n",
              "       [0.48357162, 0.4087791 , 0.1076493 ],\n",
              "       [0.48357278, 0.40877914, 0.10764805],\n",
              "       [0.48357135, 0.4087791 , 0.10764955],\n",
              "       [0.4835721 , 0.4087791 , 0.10764878],\n",
              "       [0.48357248, 0.4087792 , 0.1076484 ],\n",
              "       [0.4835722 , 0.4087792 , 0.10764868],\n",
              "       [0.48357087, 0.4087791 , 0.10765004],\n",
              "       [0.4835722 , 0.4087792 , 0.10764868],\n",
              "       [0.48357198, 0.4087791 , 0.10764889],\n",
              "       [0.48357198, 0.40877917, 0.10764894],\n",
              "       [0.48357168, 0.40877908, 0.10764919],\n",
              "       [0.48357123, 0.40877908, 0.10764962]], dtype=float32)"
            ]
          },
          "metadata": {},
          "execution_count": 189
        }
      ]
    },
    {
      "cell_type": "code",
      "source": [],
      "metadata": {
        "id": "8qMXn_z2oa4O"
      },
      "execution_count": null,
      "outputs": []
    }
  ]
}