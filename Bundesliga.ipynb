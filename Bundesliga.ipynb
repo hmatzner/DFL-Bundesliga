{
  "nbformat": 4,
  "nbformat_minor": 0,
  "metadata": {
    "colab": {
      "provenance": [],
      "collapsed_sections": []
    },
    "kernelspec": {
      "name": "python3",
      "display_name": "Python 3"
    },
    "language_info": {
      "name": "python"
    }
  },
  "cells": [
    {
      "cell_type": "markdown",
      "source": [
        "Whole pipeline working with balanced data and all videos:"
      ],
      "metadata": {
        "id": "TfLUyjS4eF79"
      }
    },
    {
      "cell_type": "code",
      "source": [
        "import os\n",
        "import sys\n",
        "import pandas as pd\n",
        "import numpy as np\n",
        "from sklearn.preprocessing import OneHotEncoder\n",
        "from tensorflow.keras import Sequential\n",
        "from tensorflow.keras.layers import Rescaling, Conv2D, MaxPooling2D, Flatten, Dense, Dropout\n",
        "from tensorflow.keras.callbacks import EarlyStopping\n",
        "\n",
        "# Defining constant variables\n",
        "DRIVE_PATH = '/content/drive/MyDrive/Bundesliga/train.csv'\n",
        "COMPRESSED_FOLDER_PATH = '/content/drive/MyDrive/Bundesliga/PicsFromVids/CompressedPic/'\n",
        "TRAIN_SIZE = 0.75\n",
        "\n",
        "# Reading DataFrame and creating one with only relevant events\n",
        "df = pd.read_csv(DRIVE_PATH)\n",
        "df_events = df[~df['event_attributes'].isna()].copy()\n",
        "\n",
        "df_pass = df[df['event_attributes'].str[:6] == \"['pass\"]\n",
        "\n",
        "print(f\"Accuracy if classifying every class as {df_events['event_attributes'].describe()['top']}: \"\n",
        "      f\"{df_events['event_attributes'].describe()['freq'] / df_events['event_attributes'].describe()['count']:.2%}\")\n",
        "print(f'Accuracy if classifying every class as a pass (in general) {df_pass.shape[0] / df_events.shape[0]:.2%}')\n",
        "\n",
        "# Creating two arrays with which videos are either part of the train or the test data\n",
        "df_events.reset_index(drop=True, inplace=True)\n",
        "video_ids = df_events['video_id'].unique().tolist()\n",
        "amount_videos = len(video_ids)\n",
        "amount_train = round(amount_videos * TRAIN_SIZE)\n",
        "train_videos = video_ids[:amount_train]\n",
        "test_videos = video_ids[amount_train:]\n",
        "\n",
        "# Creating X array with all pictures for both train and test data\n",
        "X = list()\n",
        "for video_id in video_ids:\n",
        "  current_video = np.load(f'{COMPRESSED_FOLDER_PATH}{video_id}.npz')\n",
        "  current_video = current_video.f.arr_0\n",
        "  X.append(current_video)\n",
        "X = np.concatenate(X, axis=0)\n",
        "\n",
        "# Splitting pictures in train and test data\n",
        "train_idx = df_events[df_events['video_id'].isin(train_videos)].index\n",
        "test_idx = df_events[df_events['video_id'].isin(test_videos)].index\n",
        "X_train = X[train_idx]\n",
        "X_test = X[test_idx]\n",
        "assert df_events.shape[0] == X_train.shape[0] + X_test.shape[0]\n",
        "\n",
        "# Creating DataFrame of labels for both train and test data using videos ids\n",
        "y_train = df_events[df_events.index.isin(train_idx) ]['event'].to_frame()\n",
        "y_test = df_events[df_events.index.isin(test_idx) ]['event'].to_frame()\n",
        "\n",
        "# Performing undersampling in 'play' category to balance it with 'challenge'\n",
        "play_indexes = y_train[y_train['event'] == 'play'].index\n",
        "assert y_train.value_counts()['play'] == len(play_indexes)\n",
        "play_amount = y_train.value_counts()['play']\n",
        "challenge_amount = y_train.value_counts()['challenge']\n",
        "drop_play_indexes = np.sort(np.random.choice(a=play_indexes, \n",
        "                                             size=play_amount - challenge_amount, \n",
        "                                             replace=False))\n",
        "assert len(drop_play_indexes) == play_amount - challenge_amount\n",
        "\n",
        "# Building final training data\n",
        "y_train.drop(drop_play_indexes, axis=0, inplace=True)\n",
        "X_train = np.delete(X_train, drop_play_indexes, axis=0)\n",
        "\n",
        "# Performing one-hot-encoding on our labels\n",
        "current_feat = ['event']\n",
        "for y in (y_train, y_test):\n",
        "  encoder = OneHotEncoder(sparse=False, handle_unknown='ignore')\n",
        "  encoder.fit(y[current_feat]) # Fit and transform data\n",
        "  y[encoder.get_feature_names_out(list(current_feat))] = encoder.transform(y[current_feat])\n",
        "  y = y.drop(columns=current_feat)\n",
        "\n",
        "# Deleting variable to free RAM\n",
        "del X\n",
        "\n",
        "# input_shape = X_train.shape[1], X_train.shape[2], X_train.shape[3]\n",
        "\n",
        "# model = Sequential([\n",
        "#     Rescaling(1/255, \n",
        "#               input_shape=input_shape),   \n",
        "#     Conv2D(96, \n",
        "#            11, \n",
        "#            strides=4, \n",
        "#            activation='relu'),\n",
        "#     MaxPooling2D(pool_size=3, \n",
        "#                  strides=2),\n",
        "#     Conv2D(256, \n",
        "#            5, \n",
        "#            activation='relu'),\n",
        "#     MaxPooling2D(pool_size=3, \n",
        "#                  strides=2),\n",
        "#     Conv2D(384, \n",
        "#            3, \n",
        "#            activation='relu'),\n",
        "#     Conv2D(384, \n",
        "#            3, \n",
        "#            activation='relu'),\n",
        "#     Conv2D(256, \n",
        "#            3, \n",
        "#            activation='relu'),\n",
        "#     MaxPooling2D(),\n",
        "#     Flatten(),\n",
        "#     Dense(256, \n",
        "#           activation='relu'),\n",
        "#     Dense(256, \n",
        "#           activation='relu'),\n",
        "#     Dense(3, \n",
        "#           activation='softmax')\n",
        "# ])\n",
        "\n",
        "# model.compile(loss='categorical_crossentropy',\n",
        "#               optimizer='adam',\n",
        "#               metrics='accuracy',\n",
        "#               )\n",
        "\n",
        "# callback = EarlyStopping(monitor='val_loss',\n",
        "#                          patience=3,\n",
        "#                          restore_best_weights=True\n",
        "#                          )\n",
        "\n",
        "# EPOCHS = 100\n",
        "# model.fit(X_train, \n",
        "#           y_train, \n",
        "#           validation_split=0.2, \n",
        "#           batch_size=16, \n",
        "#           epochs=EPOCHS,\n",
        "#           callbacks=[callback])\n",
        "\n",
        "# INDEX_ACCURACY = 1\n",
        "# print(f'\\nAccuracy on the test set: {model.evaluate(X_test, y_test)[INDEX_ACCURACY]:.4f}')\n",
        "\n",
        "# y_pred = model.predict(X_test)\n",
        "# np.set_printoptions(threshold=sys.maxsize)\n",
        "# print(y_pred)"
      ],
      "metadata": {
        "colab": {
          "base_uri": "https://localhost:8080/"
        },
        "id": "W0gVGMcrd-Ti",
        "outputId": "cb4434e5-6da6-4e2c-a640-c3a52543effa"
      },
      "execution_count": 1,
      "outputs": [
        {
          "output_type": "stream",
          "name": "stdout",
          "text": [
            "Accuracy if classifying every class as ['pass', 'openplay']: 76.15%\n",
            "Accuracy if classifying every class as a pass (in general) 82.66%\n"
          ]
        }
      ]
    },
    {
      "cell_type": "code",
      "source": [
        "X_train.shape, y_train.shape, X_test.shape, y_test.shape"
      ],
      "metadata": {
        "colab": {
          "base_uri": "https://localhost:8080/"
        },
        "id": "sy7aHnJFP_jO",
        "outputId": "fb193ad4-bd79-4d95-ef49-284428e22bd2"
      },
      "execution_count": 5,
      "outputs": [
        {
          "output_type": "execute_result",
          "data": {
            "text/plain": [
              "((1122, 480, 640, 3), (1122, 4), (976, 480, 640, 3), (976, 4))"
            ]
          },
          "metadata": {},
          "execution_count": 5
        }
      ]
    },
    {
      "cell_type": "markdown",
      "source": [
        "Same procedure as pipeline above:"
      ],
      "metadata": {
        "id": "bHHUU1MleO7X"
      }
    },
    {
      "cell_type": "code",
      "source": [
        "import os\n",
        "import pandas as pd\n",
        "import numpy as np\n",
        "from tensorflow.keras import Sequential\n",
        "from tensorflow.keras.layers import Rescaling, Conv2D, MaxPooling2D, Flatten, Dense, Dropout\n",
        "from tensorflow.keras.callbacks import EarlyStopping"
      ],
      "metadata": {
        "id": "xzZ4l-LreB0V"
      },
      "execution_count": null,
      "outputs": []
    },
    {
      "cell_type": "code",
      "source": [
        "# from google.colab import drive\n",
        "# drive.mount('/content/drive')"
      ],
      "metadata": {
        "id": "G0PArAMrTPy0"
      },
      "execution_count": null,
      "outputs": []
    },
    {
      "cell_type": "code",
      "source": [
        "! ls '/content/drive/'"
      ],
      "metadata": {
        "id": "Gh0Wjjk_TTj6"
      },
      "execution_count": null,
      "outputs": []
    },
    {
      "cell_type": "code",
      "source": [
        "os.chdir('/content/drive/MyDrive/Bundesliga')"
      ],
      "metadata": {
        "id": "bxcL8raA7hpN"
      },
      "execution_count": null,
      "outputs": []
    },
    {
      "cell_type": "code",
      "source": [
        "! pwd"
      ],
      "metadata": {
        "id": "3gsp9XXC7vxu"
      },
      "execution_count": null,
      "outputs": []
    },
    {
      "cell_type": "code",
      "source": [
        "# ! unzip dfl-bundesliga-data-shootout.zip"
      ],
      "metadata": {
        "id": "pXK14Y4q8LTL"
      },
      "execution_count": null,
      "outputs": []
    },
    {
      "cell_type": "code",
      "source": [
        "df = pd.read_csv('/content/drive/MyDrive/Bundesliga/train.csv')"
      ],
      "metadata": {
        "id": "NyJN1Ea68gU9"
      },
      "execution_count": null,
      "outputs": []
    },
    {
      "cell_type": "code",
      "source": [
        "# df['time_ms'] = round(df['time'] * 1000).astype(int)"
      ],
      "metadata": {
        "id": "kc-8DJz9AeDG"
      },
      "execution_count": null,
      "outputs": []
    },
    {
      "cell_type": "code",
      "source": [
        "display(df.head())\n",
        "df.shape"
      ],
      "metadata": {
        "id": "DBqmAC8AGX3-"
      },
      "execution_count": null,
      "outputs": []
    },
    {
      "cell_type": "code",
      "source": [
        "df_events = df[~df['event_attributes'].isna()].copy()"
      ],
      "metadata": {
        "id": "mbQvrIB68gXW"
      },
      "execution_count": null,
      "outputs": []
    },
    {
      "cell_type": "code",
      "source": [
        "# df_events['frame_id'] = df_events['video_id'] + df_events['time_ms'].astype(str)"
      ],
      "metadata": {
        "id": "_bNBcqnFATqe"
      },
      "execution_count": null,
      "outputs": []
    },
    {
      "cell_type": "code",
      "source": [
        "# # Reordering columns\n",
        "# df_events = df_events[['video_id', 'frame_id', 'time', \n",
        "#                        'time_ms', 'event', 'event_attributes']]"
      ],
      "metadata": {
        "id": "Ddvhir6VBKNQ"
      },
      "execution_count": null,
      "outputs": []
    },
    {
      "cell_type": "code",
      "source": [
        "display(df_events.head())\n",
        "df_events.shape"
      ],
      "metadata": {
        "id": "vzpjEb3UAxKO"
      },
      "execution_count": null,
      "outputs": []
    },
    {
      "cell_type": "markdown",
      "source": [
        "Building very basic baseline model:"
      ],
      "metadata": {
        "id": "J8WLYfJwAyTe"
      }
    },
    {
      "cell_type": "code",
      "source": [],
      "metadata": {
        "id": "BkB_kJdjazws"
      },
      "execution_count": null,
      "outputs": []
    },
    {
      "cell_type": "code",
      "source": [
        "df_pass = df[df['event_attributes'].str[:6] == \"['pass\"]"
      ],
      "metadata": {
        "id": "cAQOQSr28gZz"
      },
      "execution_count": null,
      "outputs": []
    },
    {
      "cell_type": "code",
      "source": [
        "display(df_pass.head())\n",
        "df_pass.shape"
      ],
      "metadata": {
        "id": "KmHQhlKlATn4"
      },
      "execution_count": null,
      "outputs": []
    },
    {
      "cell_type": "code",
      "source": [
        "df_events['event_attributes'].value_counts()"
      ],
      "metadata": {
        "id": "6KpVi_7hmOYG"
      },
      "execution_count": null,
      "outputs": []
    },
    {
      "cell_type": "code",
      "source": [
        "print(f\"Accuracy if classifying every class as {df_events['event_attributes'].describe()['top']}: \"\n",
        "      f\"{df_events['event_attributes'].describe()['freq'] / df_events['event_attributes'].describe()['count']:.2%}\")"
      ],
      "metadata": {
        "id": "65gOYc9TpOlO"
      },
      "execution_count": null,
      "outputs": []
    },
    {
      "cell_type": "code",
      "source": [
        "print(f'Accuracy if classifying every class as a pass (in general) {df_pass.shape[0] / df_events.shape[0]:.2%}')"
      ],
      "metadata": {
        "id": "EGVBOexQT2YN"
      },
      "execution_count": null,
      "outputs": []
    },
    {
      "cell_type": "code",
      "source": [
        "df_events['event'].value_counts()"
      ],
      "metadata": {
        "id": "jQZQPIs2qGiz"
      },
      "execution_count": null,
      "outputs": []
    },
    {
      "cell_type": "code",
      "source": [
        "df_video1 = df_events[df_events['video_id'] == '1606b0e6_0']\n",
        "df_video1"
      ],
      "metadata": {
        "id": "-lIpJOZNZFkC"
      },
      "execution_count": null,
      "outputs": []
    },
    {
      "cell_type": "code",
      "source": [
        "df_video2 = df_events[df_events['video_id'] == '1606b0e6_1']\n",
        "df_video2"
      ],
      "metadata": {
        "id": "mvqfYKxoDLP_"
      },
      "execution_count": null,
      "outputs": []
    },
    {
      "cell_type": "code",
      "source": [
        "y_train_val = df_video1['event']\n",
        "y_train_val.to_frame()"
      ],
      "metadata": {
        "id": "7Dq2U8KkZFmC"
      },
      "execution_count": null,
      "outputs": []
    },
    {
      "cell_type": "code",
      "source": [
        "y_test = df_video2['event']\n",
        "y_test.to_frame()"
      ],
      "metadata": {
        "id": "lEvhsfv8DSkH"
      },
      "execution_count": null,
      "outputs": []
    },
    {
      "cell_type": "code",
      "source": [
        "from sklearn.preprocessing import OneHotEncoder\n",
        "\n",
        "encoder = OneHotEncoder(sparse=False, handle_unknown='ignore')\n",
        "\n",
        "current_feat = ['event']\n",
        "\n",
        "print('Shape of y_test before transformation: ', y_test.shape)\n",
        "y_test = y_test.to_frame()\n",
        "\n",
        "# Fit and transform data\n",
        "encoder.fit(y_test[current_feat])\n",
        "y_test[encoder.get_feature_names_out(list(current_feat))] = encoder.transform(y_test[current_feat])\n",
        "y_test = y_test.drop(columns=current_feat)\n",
        "\n",
        "print('Shape of y_test after transformation: ', y_test.shape)"
      ],
      "metadata": {
        "id": "mE6-seNZZFqp"
      },
      "execution_count": null,
      "outputs": []
    },
    {
      "cell_type": "code",
      "source": [
        "from sklearn.preprocessing import OneHotEncoder\n",
        "\n",
        "encoder = OneHotEncoder(sparse=False, handle_unknown='ignore')\n",
        "\n",
        "current_feat = ['event']\n",
        "\n",
        "print('Shape of y_train_val before transformation: ', y_train_val.shape)\n",
        "y_train_val = y_train_val.to_frame()\n",
        "\n",
        "# Fit and transform data\n",
        "encoder.fit(y_train_val[current_feat])\n",
        "y_train_val[encoder.get_feature_names_out(list(current_feat))] = encoder.transform(y_train_val[current_feat])\n",
        "y_train_val = y_train_val.drop(columns=current_feat)\n",
        "\n",
        "print('Shape of y_train_val after transformation: ', y_train_val.shape)"
      ],
      "metadata": {
        "id": "TSFWogm3DcCu"
      },
      "execution_count": null,
      "outputs": []
    },
    {
      "cell_type": "code",
      "source": [],
      "metadata": {
        "id": "gm6_Z5Urbi4R"
      },
      "execution_count": null,
      "outputs": []
    },
    {
      "cell_type": "markdown",
      "source": [
        "Files without compressing:"
      ],
      "metadata": {
        "id": "MMZcUuqt5Juf"
      }
    },
    {
      "cell_type": "code",
      "source": [
        "# X_train = np.load('/content/drive/MyDrive/Bundesliga/PicsFromVids/1606b0e6_0.npy')\n",
        "# X_train2 = np.load('/content/drive/MyDrive/Bundesliga/PicsFromVids/1606b0e6_1.npy')\n",
        "# X_train3 = np.load('/content/drive/MyDrive/Bundesliga/PicsFromVids/35bd9041_0.npy')\n",
        "# X_train4 = np.load('/content/drive/MyDrive/Bundesliga/PicsFromVids/35bd9041_1.npy')\n",
        "# X_train5 = np.load('/content/drive/MyDrive/Bundesliga/PicsFromVids/3c993bd2_0.npy')"
      ],
      "metadata": {
        "id": "oV1W3jYEKd2G"
      },
      "execution_count": null,
      "outputs": []
    },
    {
      "cell_type": "code",
      "source": [
        "# X_train.shape\n",
        "# X_train2.shape, X_train3.shape, X_train4.shape, X_train5.shape"
      ],
      "metadata": {
        "id": "Vyyo2enhLVsE"
      },
      "execution_count": null,
      "outputs": []
    },
    {
      "cell_type": "code",
      "source": [
        "# X_train.max()\n",
        "# X_train2.max(), X_train3.max(), X_train4.max(), X_train5.max()"
      ],
      "metadata": {
        "id": "eW_PLYYyKIJg"
      },
      "execution_count": null,
      "outputs": []
    },
    {
      "cell_type": "markdown",
      "source": [
        "# Working with compressed pictures:"
      ],
      "metadata": {
        "id": "qggrXXK15SCw"
      }
    },
    {
      "cell_type": "markdown",
      "source": [
        "## Training the model with just the first video and original (unbalanced) data:"
      ],
      "metadata": {
        "id": "NU5qW4MgrXia"
      }
    },
    {
      "cell_type": "code",
      "source": [
        "X_train_val = np.load('/content/drive/MyDrive/Bundesliga/PicsFromVids/CompressedPic/1606b0e6_0.npz')"
      ],
      "metadata": {
        "id": "F0bJkMeY5RWv"
      },
      "execution_count": null,
      "outputs": []
    },
    {
      "cell_type": "code",
      "source": [
        "X_test = np.load('/content/drive/MyDrive/Bundesliga/PicsFromVids/CompressedPic/1606b0e6_1.npz')\n",
        "X_test = X_test.f.arr_0"
      ],
      "metadata": {
        "id": "NoWSdli-C1d5"
      },
      "execution_count": null,
      "outputs": []
    },
    {
      "cell_type": "code",
      "source": [
        "X_train_val = X_train_val.f.arr_0"
      ],
      "metadata": {
        "id": "wYEc3vpIDDgw"
      },
      "execution_count": null,
      "outputs": []
    },
    {
      "cell_type": "code",
      "source": [
        "X_train_val.f.arr_0.shape"
      ],
      "metadata": {
        "id": "LG4svreS7shr"
      },
      "execution_count": null,
      "outputs": []
    },
    {
      "cell_type": "code",
      "source": [
        "X_test.shape"
      ],
      "metadata": {
        "id": "hK-TrpnsC_tN"
      },
      "execution_count": null,
      "outputs": []
    },
    {
      "cell_type": "code",
      "source": [
        "input_shape = X_train_val.shape[1], X_train_val.shape[2], X_train_val.shape[3]\n",
        "\n",
        "model = Sequential([\n",
        "    Rescaling(1/255, \n",
        "              input_shape=input_shape),   \n",
        "    Conv2D(96, \n",
        "           11, \n",
        "           strides=4, \n",
        "           activation='relu'),\n",
        "    MaxPooling2D(pool_size=3, \n",
        "                 strides=2),\n",
        "    Conv2D(256, \n",
        "           5, \n",
        "           activation='relu'),\n",
        "    MaxPooling2D(pool_size=3, \n",
        "                 strides=2),\n",
        "    Conv2D(384, \n",
        "           3, \n",
        "           activation='relu'),\n",
        "    Conv2D(384, \n",
        "           3, \n",
        "           activation='relu'),\n",
        "    Conv2D(256, \n",
        "           3, \n",
        "           activation='relu'),\n",
        "    MaxPooling2D(),\n",
        "    Flatten(),\n",
        "    Dense(256, \n",
        "          activation='relu'),\n",
        "    Dense(256, \n",
        "          activation='relu'),\n",
        "    Dense(3, \n",
        "          activation='softmax')\n",
        "])"
      ],
      "metadata": {
        "id": "DFusjhJULoVl"
      },
      "execution_count": null,
      "outputs": []
    },
    {
      "cell_type": "code",
      "source": [
        "model.input_shape, model.output_shape"
      ],
      "metadata": {
        "id": "ZF7FZI-AGKw-"
      },
      "execution_count": null,
      "outputs": []
    },
    {
      "cell_type": "code",
      "source": [
        "X_train_val.shape, y_train_val.shape"
      ],
      "metadata": {
        "id": "1BPjhbo-bIX2"
      },
      "execution_count": null,
      "outputs": []
    },
    {
      "cell_type": "code",
      "source": [
        "y_train_val.value_counts()"
      ],
      "metadata": {
        "id": "Tz8jM5nneJeW"
      },
      "execution_count": null,
      "outputs": []
    },
    {
      "cell_type": "code",
      "source": [
        "model.summary()"
      ],
      "metadata": {
        "id": "NvBupBE3bN9F"
      },
      "execution_count": null,
      "outputs": []
    },
    {
      "cell_type": "code",
      "source": [
        "model.compile(loss='categorical_crossentropy',\n",
        "              optimizer='adam',\n",
        "              metrics='accuracy',\n",
        "              )"
      ],
      "metadata": {
        "id": "vmB9Qj_ncEtX"
      },
      "execution_count": null,
      "outputs": []
    },
    {
      "cell_type": "code",
      "source": [
        "callback = EarlyStopping(monitor='val_loss',\n",
        "                         patience=5,\n",
        "                         restore_best_weights=True\n",
        "                         )"
      ],
      "metadata": {
        "id": "yLkCn7O2djJn"
      },
      "execution_count": null,
      "outputs": []
    },
    {
      "cell_type": "code",
      "source": [
        "EPOCHS = 100\n",
        "model.fit(X_train_val, \n",
        "          y_train_val, \n",
        "          validation_split=0.2, \n",
        "          batch_size=16, \n",
        "          epochs=EPOCHS,\n",
        "          callbacks=[callback])"
      ],
      "metadata": {
        "id": "ePSfdfoNdNS2"
      },
      "execution_count": null,
      "outputs": []
    },
    {
      "cell_type": "code",
      "source": [
        "INDEX_ACCURACY = 1\n",
        "print(f'\\nAccuracy on the test set: {model.evaluate(X_test, y_test)[INDEX_ACCURACY]:.4f}')"
      ],
      "metadata": {
        "id": "IKMOr40LdyC6"
      },
      "execution_count": null,
      "outputs": []
    },
    {
      "cell_type": "code",
      "source": [
        "y_pred = model.predict(X_test)"
      ],
      "metadata": {
        "id": "fUvLMjqvD7Of"
      },
      "execution_count": null,
      "outputs": []
    },
    {
      "cell_type": "code",
      "source": [
        "import sys\n",
        "np.set_printoptions(threshold=sys.maxsize)\n",
        "y_pred"
      ],
      "metadata": {
        "id": "Bm1FBcj5E1fe"
      },
      "execution_count": null,
      "outputs": []
    },
    {
      "cell_type": "markdown",
      "source": [
        "## Training the model with all videos and balanced (undersampling) data:"
      ],
      "metadata": {
        "id": "7X0BzfRmIcib"
      }
    },
    {
      "cell_type": "code",
      "source": [
        "\n"
      ],
      "metadata": {
        "id": "o1RKXHMWcJtz"
      },
      "execution_count": null,
      "outputs": []
    },
    {
      "cell_type": "code",
      "source": [
        "df_events"
      ],
      "metadata": {
        "id": "bmdbeQsoIcFO"
      },
      "execution_count": null,
      "outputs": []
    },
    {
      "cell_type": "code",
      "source": [
        "df_events.reset_index(drop=True, inplace=True)\n",
        "df_events"
      ],
      "metadata": {
        "id": "mW-ybevSXJao"
      },
      "execution_count": null,
      "outputs": []
    },
    {
      "cell_type": "code",
      "source": [
        "video_ids = df_events['video_id'].unique().tolist()\n",
        "train_videos = video_ids[:9]\n",
        "test_videos = video_ids[9:]"
      ],
      "metadata": {
        "id": "4nn3gWroPAlS"
      },
      "execution_count": null,
      "outputs": []
    },
    {
      "cell_type": "code",
      "source": [
        "train_videos"
      ],
      "metadata": {
        "id": "0eHiOyqm3jXL"
      },
      "execution_count": null,
      "outputs": []
    },
    {
      "cell_type": "code",
      "source": [
        "test_videos"
      ],
      "metadata": {
        "id": "T_f7m1Im3l_Q"
      },
      "execution_count": null,
      "outputs": []
    },
    {
      "cell_type": "code",
      "source": [
        "X = list()\n",
        "for video_id in video_ids:\n",
        "  current_video = np.load(f'/content/drive/MyDrive/Bundesliga/PicsFromVids/CompressedPic/{video_id}.npz')\n",
        "  current_video = current_video.f.arr_0\n",
        "  X.append(current_video)"
      ],
      "metadata": {
        "id": "7OKbym3R1JpM"
      },
      "execution_count": null,
      "outputs": []
    },
    {
      "cell_type": "code",
      "source": [
        "X = np.concatenate(X, axis=0)"
      ],
      "metadata": {
        "id": "NC62tqP61f4f"
      },
      "execution_count": null,
      "outputs": []
    },
    {
      "cell_type": "code",
      "source": [
        "X.shape"
      ],
      "metadata": {
        "id": "-R_99SN02VKN"
      },
      "execution_count": null,
      "outputs": []
    },
    {
      "cell_type": "code",
      "source": [
        "train_idx = df_events[df_events['video_id'].isin(train_videos)].index\n",
        "test_idx = df_events[df_events['video_id'].isin(test_videos)].index"
      ],
      "metadata": {
        "id": "Tvb4f_FA3JAk"
      },
      "execution_count": null,
      "outputs": []
    },
    {
      "cell_type": "code",
      "source": [],
      "metadata": {
        "id": "asUrU3OHccUB"
      },
      "execution_count": null,
      "outputs": []
    },
    {
      "cell_type": "code",
      "source": [
        "train_idx"
      ],
      "metadata": {
        "id": "zdByG-eW6S9o"
      },
      "execution_count": null,
      "outputs": []
    },
    {
      "cell_type": "code",
      "source": [
        "X_train = X[train_idx]\n",
        "X_test = X[test_idx]"
      ],
      "metadata": {
        "id": "-z6pg1Mo4hsY"
      },
      "execution_count": null,
      "outputs": []
    },
    {
      "cell_type": "code",
      "source": [
        "X_train.shape"
      ],
      "metadata": {
        "id": "F8TboueI500L"
      },
      "execution_count": null,
      "outputs": []
    },
    {
      "cell_type": "code",
      "source": [
        "X_test.shape"
      ],
      "metadata": {
        "id": "U8gG7Dxf53s7"
      },
      "execution_count": null,
      "outputs": []
    },
    {
      "cell_type": "code",
      "source": [
        "assert df_events.shape[0] == X_train.shape[0] + X_test.shape[0]"
      ],
      "metadata": {
        "id": "iMiEPciWNPh3"
      },
      "execution_count": null,
      "outputs": []
    },
    {
      "cell_type": "code",
      "source": [
        "y_train = df_events[df_events.index.isin(train_idx) ]['event'].to_frame()\n",
        "y_test = df_events[df_events.index.isin(test_idx) ]['event'].to_frame()"
      ],
      "metadata": {
        "id": "4y0z0bN8SQPc"
      },
      "execution_count": null,
      "outputs": []
    },
    {
      "cell_type": "code",
      "source": [
        "y_train.value_counts()"
      ],
      "metadata": {
        "id": "hcaPsdS-TUBn"
      },
      "execution_count": null,
      "outputs": []
    },
    {
      "cell_type": "code",
      "source": [
        "play_indexes = y_train[y_train['event'] == 'play'].index"
      ],
      "metadata": {
        "id": "7fSbhWmiUF5I"
      },
      "execution_count": null,
      "outputs": []
    },
    {
      "cell_type": "code",
      "source": [
        "assert y_train.value_counts()['play'] == len(play_indexes)"
      ],
      "metadata": {
        "id": "HTriKjWZVVV5"
      },
      "execution_count": null,
      "outputs": []
    },
    {
      "cell_type": "code",
      "source": [
        "play_amount = y_train.value_counts()['play']\n",
        "challenge_amount = y_train.value_counts()['challenge']\n",
        "challenge_amount"
      ],
      "metadata": {
        "id": "YS76J6SAVyE8"
      },
      "execution_count": null,
      "outputs": []
    },
    {
      "cell_type": "code",
      "source": [],
      "metadata": {
        "id": "9QDvGWv7cuee"
      },
      "execution_count": null,
      "outputs": []
    },
    {
      "cell_type": "code",
      "source": [
        "drop_play_indexes = np.sort(np.random.choice(a=play_indexes, \n",
        "                                             size=play_amount - challenge_amount, \n",
        "                                             replace=False))\n",
        "drop_play_indexes[-10:]"
      ],
      "metadata": {
        "id": "X5jnDXZ_Vlsm"
      },
      "execution_count": null,
      "outputs": []
    },
    {
      "cell_type": "code",
      "source": [
        "assert len(drop_play_indexes) == play_amount - challenge_amount"
      ],
      "metadata": {
        "id": "3Zk_Fx8LWDrU"
      },
      "execution_count": null,
      "outputs": []
    },
    {
      "cell_type": "markdown",
      "source": [
        "Deleting rows to perform and undersampling in the class 'play':"
      ],
      "metadata": {
        "id": "QIY-jA_-srpI"
      }
    },
    {
      "cell_type": "code",
      "source": [
        "y_train.drop(drop_play_indexes, axis=0, inplace=True)\n",
        "y_train.shape"
      ],
      "metadata": {
        "id": "RXZwy5J7WzmC"
      },
      "execution_count": null,
      "outputs": []
    },
    {
      "cell_type": "code",
      "source": [
        "y_train.value_counts()"
      ],
      "metadata": {
        "id": "DjvSBZH3ZPPu"
      },
      "execution_count": null,
      "outputs": []
    },
    {
      "cell_type": "code",
      "source": [
        "X_train.shape"
      ],
      "metadata": {
        "id": "99L8sgB0Tl-A"
      },
      "execution_count": null,
      "outputs": []
    },
    {
      "cell_type": "markdown",
      "source": [
        "Deleting the same rows from X_train:"
      ],
      "metadata": {
        "id": "7seJWPb4sdgN"
      }
    },
    {
      "cell_type": "code",
      "source": [
        "X_train = np.delete(X_train, drop_play_indexes, axis=0)"
      ],
      "metadata": {
        "id": "vU9URgbRZqqN"
      },
      "execution_count": null,
      "outputs": []
    },
    {
      "cell_type": "code",
      "source": [
        "X_train.shape"
      ],
      "metadata": {
        "id": "9QSpha_XZ1v6"
      },
      "execution_count": null,
      "outputs": []
    },
    {
      "cell_type": "code",
      "source": [
        "from sklearn.preprocessing import OneHotEncoder"
      ],
      "metadata": {
        "id": "vr17DQCHbJd-"
      },
      "execution_count": null,
      "outputs": []
    },
    {
      "cell_type": "code",
      "source": [
        "encoder = OneHotEncoder(sparse=False, handle_unknown='ignore')\n",
        "\n",
        "current_feat = ['event']\n",
        "\n",
        "print(f'Shape of y_train before transformation: ', y_train.shape)\n",
        "\n",
        "# Fit and transform data\n",
        "encoder.fit(y_train[current_feat])\n",
        "y_train[encoder.get_feature_names_out(list(current_feat))] = encoder.transform(y_train[current_feat])\n",
        "y_train = y_train.drop(columns=current_feat)\n",
        "\n",
        "print(f'Shape of y_train after transformation: ', y_train.shape)"
      ],
      "metadata": {
        "id": "4itDKXzOakOZ"
      },
      "execution_count": null,
      "outputs": []
    },
    {
      "cell_type": "code",
      "source": [
        "encoder = OneHotEncoder(sparse=False, handle_unknown='ignore')\n",
        "\n",
        "current_feat = ['event']\n",
        "\n",
        "print(f'Shape of y_train before transformation: ', y_test.shape)\n",
        "\n",
        "# Fit and transform data\n",
        "encoder.fit(y_test[current_feat])\n",
        "y_test[encoder.get_feature_names_out(list(current_feat))] = encoder.transform(y_test[current_feat])\n",
        "y_test = y_test.drop(columns=current_feat)\n",
        "\n",
        "print(f'Shape of y_test after transformation: ', y_test.shape)"
      ],
      "metadata": {
        "id": "HQ1sfAfscEEY"
      },
      "execution_count": null,
      "outputs": []
    },
    {
      "cell_type": "code",
      "source": [
        "input_shape = X_train.shape[1], X_train.shape[2], X_train.shape[3]\n",
        "\n",
        "model = Sequential([\n",
        "    Rescaling(1/255, \n",
        "              input_shape=input_shape),   \n",
        "    Conv2D(96, \n",
        "           11, \n",
        "           strides=4, \n",
        "           activation='relu'),\n",
        "    MaxPooling2D(pool_size=3, \n",
        "                 strides=2),\n",
        "    Conv2D(256, \n",
        "           5, \n",
        "           activation='relu'),\n",
        "    MaxPooling2D(pool_size=3, \n",
        "                 strides=2),\n",
        "    Conv2D(384, \n",
        "           3, \n",
        "           activation='relu'),\n",
        "    Conv2D(384, \n",
        "           3, \n",
        "           activation='relu'),\n",
        "    Conv2D(256, \n",
        "           3, \n",
        "           activation='relu'),\n",
        "    MaxPooling2D(),\n",
        "    Flatten(),\n",
        "    Dense(256, \n",
        "          activation='relu'),\n",
        "    Dense(256, \n",
        "          activation='relu'),\n",
        "    Dense(3, \n",
        "          activation='softmax')\n",
        "])"
      ],
      "metadata": {
        "id": "8wMCwFtaNLlS"
      },
      "execution_count": null,
      "outputs": []
    },
    {
      "cell_type": "code",
      "source": [
        "model.input_shape, model.output_shape"
      ],
      "metadata": {
        "id": "yP-fJ_ecZ_pQ"
      },
      "execution_count": null,
      "outputs": []
    },
    {
      "cell_type": "code",
      "source": [
        "X_train.shape, y_train.shape"
      ],
      "metadata": {
        "id": "IcGjtLY4aJW7"
      },
      "execution_count": null,
      "outputs": []
    },
    {
      "cell_type": "code",
      "source": [
        "model.summary()"
      ],
      "metadata": {
        "id": "-SySWsi2aOy_"
      },
      "execution_count": null,
      "outputs": []
    },
    {
      "cell_type": "code",
      "source": [
        "model.compile(loss='categorical_crossentropy',\n",
        "              optimizer='adam',\n",
        "              metrics='accuracy',\n",
        "              )"
      ],
      "metadata": {
        "id": "clu6ppe4afG8"
      },
      "execution_count": null,
      "outputs": []
    },
    {
      "cell_type": "code",
      "source": [
        "callback = EarlyStopping(monitor='val_loss',\n",
        "                         patience=3,\n",
        "                         restore_best_weights=True\n",
        "                         )"
      ],
      "metadata": {
        "id": "_CSo5q_Vc06D"
      },
      "execution_count": null,
      "outputs": []
    },
    {
      "cell_type": "code",
      "source": [
        "EPOCHS = 100\n",
        "model.fit(X_train, \n",
        "          y_train, \n",
        "          validation_split=0.2, \n",
        "          batch_size=16, \n",
        "          epochs=EPOCHS,\n",
        "          callbacks=[callback])"
      ],
      "metadata": {
        "id": "V95rtgA-c2TF"
      },
      "execution_count": null,
      "outputs": []
    },
    {
      "cell_type": "code",
      "source": [
        "INDEX_ACCURACY = 1\n",
        "print(f'\\nAccuracy on the test set: {model.evaluate(X_test, y_test)[INDEX_ACCURACY]:.4f}')"
      ],
      "metadata": {
        "id": "HxkJNvJZc6m0"
      },
      "execution_count": null,
      "outputs": []
    },
    {
      "cell_type": "markdown",
      "source": [
        "In the test set the data is unbalanced and that's why we see such a difference between the validation and the test set."
      ],
      "metadata": {
        "id": "jlb0YEGmtFvX"
      }
    },
    {
      "cell_type": "code",
      "source": [
        "y_pred = model.predict(X_test)"
      ],
      "metadata": {
        "id": "DVE2VaRqnYPl"
      },
      "execution_count": null,
      "outputs": []
    },
    {
      "cell_type": "code",
      "source": [
        "import sys\n",
        "np.set_printoptions(threshold=sys.maxsize)\n",
        "y_pred"
      ],
      "metadata": {
        "id": "8A-GkdgInhvZ"
      },
      "execution_count": null,
      "outputs": []
    },
    {
      "cell_type": "code",
      "source": [],
      "metadata": {
        "id": "8qMXn_z2oa4O"
      },
      "execution_count": null,
      "outputs": []
    }
  ]
}