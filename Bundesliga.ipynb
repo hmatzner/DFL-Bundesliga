{
  "nbformat": 4,
  "nbformat_minor": 0,
  "metadata": {
    "colab": {
      "provenance": [],
      "collapsed_sections": []
    },
    "kernelspec": {
      "name": "python3",
      "display_name": "Python 3"
    },
    "language_info": {
      "name": "python"
    }
  },
  "cells": [
    {
      "cell_type": "code",
      "execution_count": 1,
      "metadata": {
        "id": "AWoxk3bMRxuO"
      },
      "outputs": [],
      "source": [
        "import os\n",
        "import pandas as pd\n",
        "import numpy as np\n",
        "from tensorflow.keras import Sequential\n",
        "from tensorflow.keras.layers import Rescaling, Conv2D, MaxPooling2D, Flatten, Dense, Dropout\n",
        "from tensorflow.keras.callbacks import EarlyStopping"
      ]
    },
    {
      "cell_type": "code",
      "source": [
        "# from google.colab import drive\n",
        "# drive.mount('/content/drive')"
      ],
      "metadata": {
        "id": "G0PArAMrTPy0"
      },
      "execution_count": 2,
      "outputs": []
    },
    {
      "cell_type": "code",
      "source": [
        "! ls '/content/drive/'"
      ],
      "metadata": {
        "colab": {
          "base_uri": "https://localhost:8080/"
        },
        "id": "Gh0Wjjk_TTj6",
        "outputId": "0a2ae292-8ef1-463f-9c4b-8ca8d85c97a2"
      },
      "execution_count": 3,
      "outputs": [
        {
          "output_type": "stream",
          "name": "stdout",
          "text": [
            "MyDrive\n"
          ]
        }
      ]
    },
    {
      "cell_type": "code",
      "source": [
        "os.chdir('/content/drive/MyDrive/Bundesliga')"
      ],
      "metadata": {
        "id": "bxcL8raA7hpN"
      },
      "execution_count": 4,
      "outputs": []
    },
    {
      "cell_type": "code",
      "source": [
        "! pwd"
      ],
      "metadata": {
        "colab": {
          "base_uri": "https://localhost:8080/"
        },
        "id": "3gsp9XXC7vxu",
        "outputId": "5c9d45fb-53ad-4fc2-eeb6-e165514d69c4"
      },
      "execution_count": 5,
      "outputs": [
        {
          "output_type": "stream",
          "name": "stdout",
          "text": [
            "/content/drive/MyDrive/Bundesliga\n"
          ]
        }
      ]
    },
    {
      "cell_type": "code",
      "source": [
        "# ! unzip dfl-bundesliga-data-shootout.zip"
      ],
      "metadata": {
        "id": "pXK14Y4q8LTL"
      },
      "execution_count": 6,
      "outputs": []
    },
    {
      "cell_type": "code",
      "source": [
        "df_train = pd.read_csv('/content/drive/MyDrive/Bundesliga/train.csv')"
      ],
      "metadata": {
        "id": "NyJN1Ea68gU9"
      },
      "execution_count": 7,
      "outputs": []
    },
    {
      "cell_type": "code",
      "source": [
        "df_train['time_ms'] = round(df_train['time'] * 1000).astype(int)"
      ],
      "metadata": {
        "id": "kc-8DJz9AeDG"
      },
      "execution_count": 8,
      "outputs": []
    },
    {
      "cell_type": "code",
      "source": [
        "display(df_train.head())\n",
        "df_train.shape"
      ],
      "metadata": {
        "colab": {
          "base_uri": "https://localhost:8080/",
          "height": 224
        },
        "id": "DBqmAC8AGX3-",
        "outputId": "73c1e797-f453-4365-b839-a97ca01f2eb0"
      },
      "execution_count": 9,
      "outputs": [
        {
          "output_type": "display_data",
          "data": {
            "text/plain": [
              "     video_id        time      event           event_attributes  time_ms\n",
              "0  1606b0e6_0  200.265822      start                        NaN   200266\n",
              "1  1606b0e6_0  201.150000  challenge     ['ball_action_forced']   201150\n",
              "2  1606b0e6_0  202.765822        end                        NaN   202766\n",
              "3  1606b0e6_0  210.124111      start                        NaN   210124\n",
              "4  1606b0e6_0  210.870000  challenge  ['opponent_dispossessed']   210870"
            ],
            "text/html": [
              "\n",
              "  <div id=\"df-18fa4432-4721-4727-81a3-4a8be8dcd169\">\n",
              "    <div class=\"colab-df-container\">\n",
              "      <div>\n",
              "<style scoped>\n",
              "    .dataframe tbody tr th:only-of-type {\n",
              "        vertical-align: middle;\n",
              "    }\n",
              "\n",
              "    .dataframe tbody tr th {\n",
              "        vertical-align: top;\n",
              "    }\n",
              "\n",
              "    .dataframe thead th {\n",
              "        text-align: right;\n",
              "    }\n",
              "</style>\n",
              "<table border=\"1\" class=\"dataframe\">\n",
              "  <thead>\n",
              "    <tr style=\"text-align: right;\">\n",
              "      <th></th>\n",
              "      <th>video_id</th>\n",
              "      <th>time</th>\n",
              "      <th>event</th>\n",
              "      <th>event_attributes</th>\n",
              "      <th>time_ms</th>\n",
              "    </tr>\n",
              "  </thead>\n",
              "  <tbody>\n",
              "    <tr>\n",
              "      <th>0</th>\n",
              "      <td>1606b0e6_0</td>\n",
              "      <td>200.265822</td>\n",
              "      <td>start</td>\n",
              "      <td>NaN</td>\n",
              "      <td>200266</td>\n",
              "    </tr>\n",
              "    <tr>\n",
              "      <th>1</th>\n",
              "      <td>1606b0e6_0</td>\n",
              "      <td>201.150000</td>\n",
              "      <td>challenge</td>\n",
              "      <td>['ball_action_forced']</td>\n",
              "      <td>201150</td>\n",
              "    </tr>\n",
              "    <tr>\n",
              "      <th>2</th>\n",
              "      <td>1606b0e6_0</td>\n",
              "      <td>202.765822</td>\n",
              "      <td>end</td>\n",
              "      <td>NaN</td>\n",
              "      <td>202766</td>\n",
              "    </tr>\n",
              "    <tr>\n",
              "      <th>3</th>\n",
              "      <td>1606b0e6_0</td>\n",
              "      <td>210.124111</td>\n",
              "      <td>start</td>\n",
              "      <td>NaN</td>\n",
              "      <td>210124</td>\n",
              "    </tr>\n",
              "    <tr>\n",
              "      <th>4</th>\n",
              "      <td>1606b0e6_0</td>\n",
              "      <td>210.870000</td>\n",
              "      <td>challenge</td>\n",
              "      <td>['opponent_dispossessed']</td>\n",
              "      <td>210870</td>\n",
              "    </tr>\n",
              "  </tbody>\n",
              "</table>\n",
              "</div>\n",
              "      <button class=\"colab-df-convert\" onclick=\"convertToInteractive('df-18fa4432-4721-4727-81a3-4a8be8dcd169')\"\n",
              "              title=\"Convert this dataframe to an interactive table.\"\n",
              "              style=\"display:none;\">\n",
              "        \n",
              "  <svg xmlns=\"http://www.w3.org/2000/svg\" height=\"24px\"viewBox=\"0 0 24 24\"\n",
              "       width=\"24px\">\n",
              "    <path d=\"M0 0h24v24H0V0z\" fill=\"none\"/>\n",
              "    <path d=\"M18.56 5.44l.94 2.06.94-2.06 2.06-.94-2.06-.94-.94-2.06-.94 2.06-2.06.94zm-11 1L8.5 8.5l.94-2.06 2.06-.94-2.06-.94L8.5 2.5l-.94 2.06-2.06.94zm10 10l.94 2.06.94-2.06 2.06-.94-2.06-.94-.94-2.06-.94 2.06-2.06.94z\"/><path d=\"M17.41 7.96l-1.37-1.37c-.4-.4-.92-.59-1.43-.59-.52 0-1.04.2-1.43.59L10.3 9.45l-7.72 7.72c-.78.78-.78 2.05 0 2.83L4 21.41c.39.39.9.59 1.41.59.51 0 1.02-.2 1.41-.59l7.78-7.78 2.81-2.81c.8-.78.8-2.07 0-2.86zM5.41 20L4 18.59l7.72-7.72 1.47 1.35L5.41 20z\"/>\n",
              "  </svg>\n",
              "      </button>\n",
              "      \n",
              "  <style>\n",
              "    .colab-df-container {\n",
              "      display:flex;\n",
              "      flex-wrap:wrap;\n",
              "      gap: 12px;\n",
              "    }\n",
              "\n",
              "    .colab-df-convert {\n",
              "      background-color: #E8F0FE;\n",
              "      border: none;\n",
              "      border-radius: 50%;\n",
              "      cursor: pointer;\n",
              "      display: none;\n",
              "      fill: #1967D2;\n",
              "      height: 32px;\n",
              "      padding: 0 0 0 0;\n",
              "      width: 32px;\n",
              "    }\n",
              "\n",
              "    .colab-df-convert:hover {\n",
              "      background-color: #E2EBFA;\n",
              "      box-shadow: 0px 1px 2px rgba(60, 64, 67, 0.3), 0px 1px 3px 1px rgba(60, 64, 67, 0.15);\n",
              "      fill: #174EA6;\n",
              "    }\n",
              "\n",
              "    [theme=dark] .colab-df-convert {\n",
              "      background-color: #3B4455;\n",
              "      fill: #D2E3FC;\n",
              "    }\n",
              "\n",
              "    [theme=dark] .colab-df-convert:hover {\n",
              "      background-color: #434B5C;\n",
              "      box-shadow: 0px 1px 3px 1px rgba(0, 0, 0, 0.15);\n",
              "      filter: drop-shadow(0px 1px 2px rgba(0, 0, 0, 0.3));\n",
              "      fill: #FFFFFF;\n",
              "    }\n",
              "  </style>\n",
              "\n",
              "      <script>\n",
              "        const buttonEl =\n",
              "          document.querySelector('#df-18fa4432-4721-4727-81a3-4a8be8dcd169 button.colab-df-convert');\n",
              "        buttonEl.style.display =\n",
              "          google.colab.kernel.accessAllowed ? 'block' : 'none';\n",
              "\n",
              "        async function convertToInteractive(key) {\n",
              "          const element = document.querySelector('#df-18fa4432-4721-4727-81a3-4a8be8dcd169');\n",
              "          const dataTable =\n",
              "            await google.colab.kernel.invokeFunction('convertToInteractive',\n",
              "                                                     [key], {});\n",
              "          if (!dataTable) return;\n",
              "\n",
              "          const docLinkHtml = 'Like what you see? Visit the ' +\n",
              "            '<a target=\"_blank\" href=https://colab.research.google.com/notebooks/data_table.ipynb>data table notebook</a>'\n",
              "            + ' to learn more about interactive tables.';\n",
              "          element.innerHTML = '';\n",
              "          dataTable['output_type'] = 'display_data';\n",
              "          await google.colab.output.renderOutput(dataTable, element);\n",
              "          const docLink = document.createElement('div');\n",
              "          docLink.innerHTML = docLinkHtml;\n",
              "          element.appendChild(docLink);\n",
              "        }\n",
              "      </script>\n",
              "    </div>\n",
              "  </div>\n",
              "  "
            ]
          },
          "metadata": {}
        },
        {
          "output_type": "execute_result",
          "data": {
            "text/plain": [
              "(11218, 5)"
            ]
          },
          "metadata": {},
          "execution_count": 9
        }
      ]
    },
    {
      "cell_type": "code",
      "source": [
        "df_events = df_train[~df_train['event_attributes'].isna()].copy()"
      ],
      "metadata": {
        "id": "mbQvrIB68gXW"
      },
      "execution_count": 10,
      "outputs": []
    },
    {
      "cell_type": "code",
      "source": [
        "df_events['frame_id'] = df_events['video_id'] + df_events['time_ms'].astype(str)"
      ],
      "metadata": {
        "id": "_bNBcqnFATqe"
      },
      "execution_count": 11,
      "outputs": []
    },
    {
      "cell_type": "code",
      "source": [
        "# Reordering columns\n",
        "df_events = df_events[['video_id', 'frame_id', 'time', \n",
        "                       'time_ms', 'event', 'event_attributes']]"
      ],
      "metadata": {
        "id": "Ddvhir6VBKNQ"
      },
      "execution_count": 12,
      "outputs": []
    },
    {
      "cell_type": "code",
      "source": [
        "display(df_events.head())\n",
        "df_events.shape"
      ],
      "metadata": {
        "colab": {
          "base_uri": "https://localhost:8080/",
          "height": 224
        },
        "id": "vzpjEb3UAxKO",
        "outputId": "59bf4f2b-0b70-48e6-e5ad-5485572129fd"
      },
      "execution_count": 13,
      "outputs": [
        {
          "output_type": "display_data",
          "data": {
            "text/plain": [
              "      video_id          frame_id    time  time_ms      event  \\\n",
              "1   1606b0e6_0  1606b0e6_0201150  201.15   201150  challenge   \n",
              "4   1606b0e6_0  1606b0e6_0210870  210.87   210870  challenge   \n",
              "7   1606b0e6_0  1606b0e6_0219230  219.23   219230    throwin   \n",
              "10  1606b0e6_0  1606b0e6_0224430  224.43   224430       play   \n",
              "13  1606b0e6_0  1606b0e6_0229390  229.39   229390       play   \n",
              "\n",
              "             event_attributes  \n",
              "1      ['ball_action_forced']  \n",
              "4   ['opponent_dispossessed']  \n",
              "7                    ['pass']  \n",
              "10       ['pass', 'openplay']  \n",
              "13       ['pass', 'openplay']  "
            ],
            "text/html": [
              "\n",
              "  <div id=\"df-f37889ec-f472-447a-a4db-1729a43564a7\">\n",
              "    <div class=\"colab-df-container\">\n",
              "      <div>\n",
              "<style scoped>\n",
              "    .dataframe tbody tr th:only-of-type {\n",
              "        vertical-align: middle;\n",
              "    }\n",
              "\n",
              "    .dataframe tbody tr th {\n",
              "        vertical-align: top;\n",
              "    }\n",
              "\n",
              "    .dataframe thead th {\n",
              "        text-align: right;\n",
              "    }\n",
              "</style>\n",
              "<table border=\"1\" class=\"dataframe\">\n",
              "  <thead>\n",
              "    <tr style=\"text-align: right;\">\n",
              "      <th></th>\n",
              "      <th>video_id</th>\n",
              "      <th>frame_id</th>\n",
              "      <th>time</th>\n",
              "      <th>time_ms</th>\n",
              "      <th>event</th>\n",
              "      <th>event_attributes</th>\n",
              "    </tr>\n",
              "  </thead>\n",
              "  <tbody>\n",
              "    <tr>\n",
              "      <th>1</th>\n",
              "      <td>1606b0e6_0</td>\n",
              "      <td>1606b0e6_0201150</td>\n",
              "      <td>201.15</td>\n",
              "      <td>201150</td>\n",
              "      <td>challenge</td>\n",
              "      <td>['ball_action_forced']</td>\n",
              "    </tr>\n",
              "    <tr>\n",
              "      <th>4</th>\n",
              "      <td>1606b0e6_0</td>\n",
              "      <td>1606b0e6_0210870</td>\n",
              "      <td>210.87</td>\n",
              "      <td>210870</td>\n",
              "      <td>challenge</td>\n",
              "      <td>['opponent_dispossessed']</td>\n",
              "    </tr>\n",
              "    <tr>\n",
              "      <th>7</th>\n",
              "      <td>1606b0e6_0</td>\n",
              "      <td>1606b0e6_0219230</td>\n",
              "      <td>219.23</td>\n",
              "      <td>219230</td>\n",
              "      <td>throwin</td>\n",
              "      <td>['pass']</td>\n",
              "    </tr>\n",
              "    <tr>\n",
              "      <th>10</th>\n",
              "      <td>1606b0e6_0</td>\n",
              "      <td>1606b0e6_0224430</td>\n",
              "      <td>224.43</td>\n",
              "      <td>224430</td>\n",
              "      <td>play</td>\n",
              "      <td>['pass', 'openplay']</td>\n",
              "    </tr>\n",
              "    <tr>\n",
              "      <th>13</th>\n",
              "      <td>1606b0e6_0</td>\n",
              "      <td>1606b0e6_0229390</td>\n",
              "      <td>229.39</td>\n",
              "      <td>229390</td>\n",
              "      <td>play</td>\n",
              "      <td>['pass', 'openplay']</td>\n",
              "    </tr>\n",
              "  </tbody>\n",
              "</table>\n",
              "</div>\n",
              "      <button class=\"colab-df-convert\" onclick=\"convertToInteractive('df-f37889ec-f472-447a-a4db-1729a43564a7')\"\n",
              "              title=\"Convert this dataframe to an interactive table.\"\n",
              "              style=\"display:none;\">\n",
              "        \n",
              "  <svg xmlns=\"http://www.w3.org/2000/svg\" height=\"24px\"viewBox=\"0 0 24 24\"\n",
              "       width=\"24px\">\n",
              "    <path d=\"M0 0h24v24H0V0z\" fill=\"none\"/>\n",
              "    <path d=\"M18.56 5.44l.94 2.06.94-2.06 2.06-.94-2.06-.94-.94-2.06-.94 2.06-2.06.94zm-11 1L8.5 8.5l.94-2.06 2.06-.94-2.06-.94L8.5 2.5l-.94 2.06-2.06.94zm10 10l.94 2.06.94-2.06 2.06-.94-2.06-.94-.94-2.06-.94 2.06-2.06.94z\"/><path d=\"M17.41 7.96l-1.37-1.37c-.4-.4-.92-.59-1.43-.59-.52 0-1.04.2-1.43.59L10.3 9.45l-7.72 7.72c-.78.78-.78 2.05 0 2.83L4 21.41c.39.39.9.59 1.41.59.51 0 1.02-.2 1.41-.59l7.78-7.78 2.81-2.81c.8-.78.8-2.07 0-2.86zM5.41 20L4 18.59l7.72-7.72 1.47 1.35L5.41 20z\"/>\n",
              "  </svg>\n",
              "      </button>\n",
              "      \n",
              "  <style>\n",
              "    .colab-df-container {\n",
              "      display:flex;\n",
              "      flex-wrap:wrap;\n",
              "      gap: 12px;\n",
              "    }\n",
              "\n",
              "    .colab-df-convert {\n",
              "      background-color: #E8F0FE;\n",
              "      border: none;\n",
              "      border-radius: 50%;\n",
              "      cursor: pointer;\n",
              "      display: none;\n",
              "      fill: #1967D2;\n",
              "      height: 32px;\n",
              "      padding: 0 0 0 0;\n",
              "      width: 32px;\n",
              "    }\n",
              "\n",
              "    .colab-df-convert:hover {\n",
              "      background-color: #E2EBFA;\n",
              "      box-shadow: 0px 1px 2px rgba(60, 64, 67, 0.3), 0px 1px 3px 1px rgba(60, 64, 67, 0.15);\n",
              "      fill: #174EA6;\n",
              "    }\n",
              "\n",
              "    [theme=dark] .colab-df-convert {\n",
              "      background-color: #3B4455;\n",
              "      fill: #D2E3FC;\n",
              "    }\n",
              "\n",
              "    [theme=dark] .colab-df-convert:hover {\n",
              "      background-color: #434B5C;\n",
              "      box-shadow: 0px 1px 3px 1px rgba(0, 0, 0, 0.15);\n",
              "      filter: drop-shadow(0px 1px 2px rgba(0, 0, 0, 0.3));\n",
              "      fill: #FFFFFF;\n",
              "    }\n",
              "  </style>\n",
              "\n",
              "      <script>\n",
              "        const buttonEl =\n",
              "          document.querySelector('#df-f37889ec-f472-447a-a4db-1729a43564a7 button.colab-df-convert');\n",
              "        buttonEl.style.display =\n",
              "          google.colab.kernel.accessAllowed ? 'block' : 'none';\n",
              "\n",
              "        async function convertToInteractive(key) {\n",
              "          const element = document.querySelector('#df-f37889ec-f472-447a-a4db-1729a43564a7');\n",
              "          const dataTable =\n",
              "            await google.colab.kernel.invokeFunction('convertToInteractive',\n",
              "                                                     [key], {});\n",
              "          if (!dataTable) return;\n",
              "\n",
              "          const docLinkHtml = 'Like what you see? Visit the ' +\n",
              "            '<a target=\"_blank\" href=https://colab.research.google.com/notebooks/data_table.ipynb>data table notebook</a>'\n",
              "            + ' to learn more about interactive tables.';\n",
              "          element.innerHTML = '';\n",
              "          dataTable['output_type'] = 'display_data';\n",
              "          await google.colab.output.renderOutput(dataTable, element);\n",
              "          const docLink = document.createElement('div');\n",
              "          docLink.innerHTML = docLinkHtml;\n",
              "          element.appendChild(docLink);\n",
              "        }\n",
              "      </script>\n",
              "    </div>\n",
              "  </div>\n",
              "  "
            ]
          },
          "metadata": {}
        },
        {
          "output_type": "execute_result",
          "data": {
            "text/plain": [
              "(4382, 6)"
            ]
          },
          "metadata": {},
          "execution_count": 13
        }
      ]
    },
    {
      "cell_type": "code",
      "source": [],
      "metadata": {
        "id": "MGrFCNZuAxMn"
      },
      "execution_count": 13,
      "outputs": []
    },
    {
      "cell_type": "code",
      "source": [],
      "metadata": {
        "id": "4UBnrv3zAxPE"
      },
      "execution_count": 13,
      "outputs": []
    },
    {
      "cell_type": "markdown",
      "source": [
        "Building very basic baseline model:"
      ],
      "metadata": {
        "id": "J8WLYfJwAyTe"
      }
    },
    {
      "cell_type": "code",
      "source": [
        "df_pass = df_train[df_train['event_attributes'].str[:6] == \"['pass\"]"
      ],
      "metadata": {
        "id": "cAQOQSr28gZz"
      },
      "execution_count": 14,
      "outputs": []
    },
    {
      "cell_type": "code",
      "source": [
        "display(df_pass.head())\n",
        "df_pass.shape"
      ],
      "metadata": {
        "colab": {
          "base_uri": "https://localhost:8080/",
          "height": 224
        },
        "id": "KmHQhlKlATn4",
        "outputId": "fd7585bf-f1d0-4824-c2c3-c1da983ab6fd"
      },
      "execution_count": 15,
      "outputs": [
        {
          "output_type": "display_data",
          "data": {
            "text/plain": [
              "      video_id    time    event      event_attributes  time_ms\n",
              "7   1606b0e6_0  219.23  throwin              ['pass']   219230\n",
              "10  1606b0e6_0  224.43     play  ['pass', 'openplay']   224430\n",
              "13  1606b0e6_0  229.39     play  ['pass', 'openplay']   229390\n",
              "16  1606b0e6_0  236.71     play  ['pass', 'openplay']   236710\n",
              "17  1606b0e6_0  239.35     play  ['pass', 'openplay']   239350"
            ],
            "text/html": [
              "\n",
              "  <div id=\"df-093f7dd3-8268-4534-84a8-8f643900f36b\">\n",
              "    <div class=\"colab-df-container\">\n",
              "      <div>\n",
              "<style scoped>\n",
              "    .dataframe tbody tr th:only-of-type {\n",
              "        vertical-align: middle;\n",
              "    }\n",
              "\n",
              "    .dataframe tbody tr th {\n",
              "        vertical-align: top;\n",
              "    }\n",
              "\n",
              "    .dataframe thead th {\n",
              "        text-align: right;\n",
              "    }\n",
              "</style>\n",
              "<table border=\"1\" class=\"dataframe\">\n",
              "  <thead>\n",
              "    <tr style=\"text-align: right;\">\n",
              "      <th></th>\n",
              "      <th>video_id</th>\n",
              "      <th>time</th>\n",
              "      <th>event</th>\n",
              "      <th>event_attributes</th>\n",
              "      <th>time_ms</th>\n",
              "    </tr>\n",
              "  </thead>\n",
              "  <tbody>\n",
              "    <tr>\n",
              "      <th>7</th>\n",
              "      <td>1606b0e6_0</td>\n",
              "      <td>219.23</td>\n",
              "      <td>throwin</td>\n",
              "      <td>['pass']</td>\n",
              "      <td>219230</td>\n",
              "    </tr>\n",
              "    <tr>\n",
              "      <th>10</th>\n",
              "      <td>1606b0e6_0</td>\n",
              "      <td>224.43</td>\n",
              "      <td>play</td>\n",
              "      <td>['pass', 'openplay']</td>\n",
              "      <td>224430</td>\n",
              "    </tr>\n",
              "    <tr>\n",
              "      <th>13</th>\n",
              "      <td>1606b0e6_0</td>\n",
              "      <td>229.39</td>\n",
              "      <td>play</td>\n",
              "      <td>['pass', 'openplay']</td>\n",
              "      <td>229390</td>\n",
              "    </tr>\n",
              "    <tr>\n",
              "      <th>16</th>\n",
              "      <td>1606b0e6_0</td>\n",
              "      <td>236.71</td>\n",
              "      <td>play</td>\n",
              "      <td>['pass', 'openplay']</td>\n",
              "      <td>236710</td>\n",
              "    </tr>\n",
              "    <tr>\n",
              "      <th>17</th>\n",
              "      <td>1606b0e6_0</td>\n",
              "      <td>239.35</td>\n",
              "      <td>play</td>\n",
              "      <td>['pass', 'openplay']</td>\n",
              "      <td>239350</td>\n",
              "    </tr>\n",
              "  </tbody>\n",
              "</table>\n",
              "</div>\n",
              "      <button class=\"colab-df-convert\" onclick=\"convertToInteractive('df-093f7dd3-8268-4534-84a8-8f643900f36b')\"\n",
              "              title=\"Convert this dataframe to an interactive table.\"\n",
              "              style=\"display:none;\">\n",
              "        \n",
              "  <svg xmlns=\"http://www.w3.org/2000/svg\" height=\"24px\"viewBox=\"0 0 24 24\"\n",
              "       width=\"24px\">\n",
              "    <path d=\"M0 0h24v24H0V0z\" fill=\"none\"/>\n",
              "    <path d=\"M18.56 5.44l.94 2.06.94-2.06 2.06-.94-2.06-.94-.94-2.06-.94 2.06-2.06.94zm-11 1L8.5 8.5l.94-2.06 2.06-.94-2.06-.94L8.5 2.5l-.94 2.06-2.06.94zm10 10l.94 2.06.94-2.06 2.06-.94-2.06-.94-.94-2.06-.94 2.06-2.06.94z\"/><path d=\"M17.41 7.96l-1.37-1.37c-.4-.4-.92-.59-1.43-.59-.52 0-1.04.2-1.43.59L10.3 9.45l-7.72 7.72c-.78.78-.78 2.05 0 2.83L4 21.41c.39.39.9.59 1.41.59.51 0 1.02-.2 1.41-.59l7.78-7.78 2.81-2.81c.8-.78.8-2.07 0-2.86zM5.41 20L4 18.59l7.72-7.72 1.47 1.35L5.41 20z\"/>\n",
              "  </svg>\n",
              "      </button>\n",
              "      \n",
              "  <style>\n",
              "    .colab-df-container {\n",
              "      display:flex;\n",
              "      flex-wrap:wrap;\n",
              "      gap: 12px;\n",
              "    }\n",
              "\n",
              "    .colab-df-convert {\n",
              "      background-color: #E8F0FE;\n",
              "      border: none;\n",
              "      border-radius: 50%;\n",
              "      cursor: pointer;\n",
              "      display: none;\n",
              "      fill: #1967D2;\n",
              "      height: 32px;\n",
              "      padding: 0 0 0 0;\n",
              "      width: 32px;\n",
              "    }\n",
              "\n",
              "    .colab-df-convert:hover {\n",
              "      background-color: #E2EBFA;\n",
              "      box-shadow: 0px 1px 2px rgba(60, 64, 67, 0.3), 0px 1px 3px 1px rgba(60, 64, 67, 0.15);\n",
              "      fill: #174EA6;\n",
              "    }\n",
              "\n",
              "    [theme=dark] .colab-df-convert {\n",
              "      background-color: #3B4455;\n",
              "      fill: #D2E3FC;\n",
              "    }\n",
              "\n",
              "    [theme=dark] .colab-df-convert:hover {\n",
              "      background-color: #434B5C;\n",
              "      box-shadow: 0px 1px 3px 1px rgba(0, 0, 0, 0.15);\n",
              "      filter: drop-shadow(0px 1px 2px rgba(0, 0, 0, 0.3));\n",
              "      fill: #FFFFFF;\n",
              "    }\n",
              "  </style>\n",
              "\n",
              "      <script>\n",
              "        const buttonEl =\n",
              "          document.querySelector('#df-093f7dd3-8268-4534-84a8-8f643900f36b button.colab-df-convert');\n",
              "        buttonEl.style.display =\n",
              "          google.colab.kernel.accessAllowed ? 'block' : 'none';\n",
              "\n",
              "        async function convertToInteractive(key) {\n",
              "          const element = document.querySelector('#df-093f7dd3-8268-4534-84a8-8f643900f36b');\n",
              "          const dataTable =\n",
              "            await google.colab.kernel.invokeFunction('convertToInteractive',\n",
              "                                                     [key], {});\n",
              "          if (!dataTable) return;\n",
              "\n",
              "          const docLinkHtml = 'Like what you see? Visit the ' +\n",
              "            '<a target=\"_blank\" href=https://colab.research.google.com/notebooks/data_table.ipynb>data table notebook</a>'\n",
              "            + ' to learn more about interactive tables.';\n",
              "          element.innerHTML = '';\n",
              "          dataTable['output_type'] = 'display_data';\n",
              "          await google.colab.output.renderOutput(dataTable, element);\n",
              "          const docLink = document.createElement('div');\n",
              "          docLink.innerHTML = docLinkHtml;\n",
              "          element.appendChild(docLink);\n",
              "        }\n",
              "      </script>\n",
              "    </div>\n",
              "  </div>\n",
              "  "
            ]
          },
          "metadata": {}
        },
        {
          "output_type": "execute_result",
          "data": {
            "text/plain": [
              "(3622, 5)"
            ]
          },
          "metadata": {},
          "execution_count": 15
        }
      ]
    },
    {
      "cell_type": "code",
      "source": [
        "df_events['event_attributes'].value_counts()"
      ],
      "metadata": {
        "colab": {
          "base_uri": "https://localhost:8080/"
        },
        "id": "6KpVi_7hmOYG",
        "outputId": "8292c419-c069-43a0-bfed-db6e1d446c9f"
      },
      "execution_count": 16,
      "outputs": [
        {
          "output_type": "execute_result",
          "data": {
            "text/plain": [
              "['pass', 'openplay']                  3337\n",
              "['ball_action_forced']                 239\n",
              "['pass']                               154\n",
              "['opponent_dispossessed']              138\n",
              "['pass', 'freekick']                   127\n",
              "['fouled']                             111\n",
              "['cross', 'openplay']                   80\n",
              "['challenge_during_ball_transfer']      53\n",
              "['possession_retained']                 44\n",
              "['opponent_rounded']                    39\n",
              "['cross', 'corner']                     33\n",
              "['cross']                               18\n",
              "['cross', 'freekick']                    5\n",
              "['pass', 'corner']                       4\n",
              "Name: event_attributes, dtype: int64"
            ]
          },
          "metadata": {},
          "execution_count": 16
        }
      ]
    },
    {
      "cell_type": "code",
      "source": [
        "print(f\"Accuracy if classifying every class as {df_events['event_attributes'].describe()['top']}: \"\n",
        "      f\"{df_events['event_attributes'].describe()['freq'] / df_events['event_attributes'].describe()['count']:.2%}\")"
      ],
      "metadata": {
        "colab": {
          "base_uri": "https://localhost:8080/"
        },
        "id": "65gOYc9TpOlO",
        "outputId": "2d1381a7-101a-4d18-b170-5a009b25afa7"
      },
      "execution_count": 17,
      "outputs": [
        {
          "output_type": "stream",
          "name": "stdout",
          "text": [
            "Accuracy if classifying every class as ['pass', 'openplay']: 76.15%\n"
          ]
        }
      ]
    },
    {
      "cell_type": "code",
      "source": [
        "print(f'Accuracy if classifying every class as a pass (in general) {df_pass.shape[0] / df_events.shape[0]:.2%}')"
      ],
      "metadata": {
        "colab": {
          "base_uri": "https://localhost:8080/"
        },
        "id": "EGVBOexQT2YN",
        "outputId": "37e1ef1b-8b9d-474f-a03b-3f0214464fa3"
      },
      "execution_count": 18,
      "outputs": [
        {
          "output_type": "stream",
          "name": "stdout",
          "text": [
            "Accuracy if classifying every class as a pass (in general) 82.66%\n"
          ]
        }
      ]
    },
    {
      "cell_type": "code",
      "source": [
        "df_events['event'].value_counts()"
      ],
      "metadata": {
        "colab": {
          "base_uri": "https://localhost:8080/"
        },
        "id": "jQZQPIs2qGiz",
        "outputId": "aefd0b01-4d45-47fe-dffb-5226dd6a4ead"
      },
      "execution_count": 19,
      "outputs": [
        {
          "output_type": "execute_result",
          "data": {
            "text/plain": [
              "play         3586\n",
              "challenge     624\n",
              "throwin       172\n",
              "Name: event, dtype: int64"
            ]
          },
          "metadata": {},
          "execution_count": 19
        }
      ]
    },
    {
      "cell_type": "code",
      "source": [
        "df_video1 = df_events[df_events['video_id'] == '1606b0e6_0']\n",
        "df_video1"
      ],
      "metadata": {
        "colab": {
          "base_uri": "https://localhost:8080/",
          "height": 424
        },
        "id": "-lIpJOZNZFkC",
        "outputId": "45b91e53-b166-49a2-e680-ae652715010d"
      },
      "execution_count": 20,
      "outputs": [
        {
          "output_type": "execute_result",
          "data": {
            "text/plain": [
              "       video_id           frame_id     time  time_ms      event  \\\n",
              "1    1606b0e6_0   1606b0e6_0201150   201.15   201150  challenge   \n",
              "4    1606b0e6_0   1606b0e6_0210870   210.87   210870  challenge   \n",
              "7    1606b0e6_0   1606b0e6_0219230   219.23   219230    throwin   \n",
              "10   1606b0e6_0   1606b0e6_0224430   224.43   224430       play   \n",
              "13   1606b0e6_0   1606b0e6_0229390   229.39   229390       play   \n",
              "..          ...                ...      ...      ...        ...   \n",
              "986  1606b0e6_0  1606b0e6_02861430  2861.43  2861430       play   \n",
              "989  1606b0e6_0  1606b0e6_02900110  2900.11  2900110  challenge   \n",
              "992  1606b0e6_0  1606b0e6_02903430  2903.43  2903430  challenge   \n",
              "995  1606b0e6_0  1606b0e6_03000870  3000.87  3000870       play   \n",
              "998  1606b0e6_0  1606b0e6_03013230  3013.23  3013230       play   \n",
              "\n",
              "              event_attributes  \n",
              "1       ['ball_action_forced']  \n",
              "4    ['opponent_dispossessed']  \n",
              "7                     ['pass']  \n",
              "10        ['pass', 'openplay']  \n",
              "13        ['pass', 'openplay']  \n",
              "..                         ...  \n",
              "986       ['pass', 'openplay']  \n",
              "989     ['ball_action_forced']  \n",
              "992                 ['fouled']  \n",
              "995       ['pass', 'freekick']  \n",
              "998       ['pass', 'openplay']  \n",
              "\n",
              "[396 rows x 6 columns]"
            ],
            "text/html": [
              "\n",
              "  <div id=\"df-a6c0ca78-c39e-4ec3-93b9-21db423672dc\">\n",
              "    <div class=\"colab-df-container\">\n",
              "      <div>\n",
              "<style scoped>\n",
              "    .dataframe tbody tr th:only-of-type {\n",
              "        vertical-align: middle;\n",
              "    }\n",
              "\n",
              "    .dataframe tbody tr th {\n",
              "        vertical-align: top;\n",
              "    }\n",
              "\n",
              "    .dataframe thead th {\n",
              "        text-align: right;\n",
              "    }\n",
              "</style>\n",
              "<table border=\"1\" class=\"dataframe\">\n",
              "  <thead>\n",
              "    <tr style=\"text-align: right;\">\n",
              "      <th></th>\n",
              "      <th>video_id</th>\n",
              "      <th>frame_id</th>\n",
              "      <th>time</th>\n",
              "      <th>time_ms</th>\n",
              "      <th>event</th>\n",
              "      <th>event_attributes</th>\n",
              "    </tr>\n",
              "  </thead>\n",
              "  <tbody>\n",
              "    <tr>\n",
              "      <th>1</th>\n",
              "      <td>1606b0e6_0</td>\n",
              "      <td>1606b0e6_0201150</td>\n",
              "      <td>201.15</td>\n",
              "      <td>201150</td>\n",
              "      <td>challenge</td>\n",
              "      <td>['ball_action_forced']</td>\n",
              "    </tr>\n",
              "    <tr>\n",
              "      <th>4</th>\n",
              "      <td>1606b0e6_0</td>\n",
              "      <td>1606b0e6_0210870</td>\n",
              "      <td>210.87</td>\n",
              "      <td>210870</td>\n",
              "      <td>challenge</td>\n",
              "      <td>['opponent_dispossessed']</td>\n",
              "    </tr>\n",
              "    <tr>\n",
              "      <th>7</th>\n",
              "      <td>1606b0e6_0</td>\n",
              "      <td>1606b0e6_0219230</td>\n",
              "      <td>219.23</td>\n",
              "      <td>219230</td>\n",
              "      <td>throwin</td>\n",
              "      <td>['pass']</td>\n",
              "    </tr>\n",
              "    <tr>\n",
              "      <th>10</th>\n",
              "      <td>1606b0e6_0</td>\n",
              "      <td>1606b0e6_0224430</td>\n",
              "      <td>224.43</td>\n",
              "      <td>224430</td>\n",
              "      <td>play</td>\n",
              "      <td>['pass', 'openplay']</td>\n",
              "    </tr>\n",
              "    <tr>\n",
              "      <th>13</th>\n",
              "      <td>1606b0e6_0</td>\n",
              "      <td>1606b0e6_0229390</td>\n",
              "      <td>229.39</td>\n",
              "      <td>229390</td>\n",
              "      <td>play</td>\n",
              "      <td>['pass', 'openplay']</td>\n",
              "    </tr>\n",
              "    <tr>\n",
              "      <th>...</th>\n",
              "      <td>...</td>\n",
              "      <td>...</td>\n",
              "      <td>...</td>\n",
              "      <td>...</td>\n",
              "      <td>...</td>\n",
              "      <td>...</td>\n",
              "    </tr>\n",
              "    <tr>\n",
              "      <th>986</th>\n",
              "      <td>1606b0e6_0</td>\n",
              "      <td>1606b0e6_02861430</td>\n",
              "      <td>2861.43</td>\n",
              "      <td>2861430</td>\n",
              "      <td>play</td>\n",
              "      <td>['pass', 'openplay']</td>\n",
              "    </tr>\n",
              "    <tr>\n",
              "      <th>989</th>\n",
              "      <td>1606b0e6_0</td>\n",
              "      <td>1606b0e6_02900110</td>\n",
              "      <td>2900.11</td>\n",
              "      <td>2900110</td>\n",
              "      <td>challenge</td>\n",
              "      <td>['ball_action_forced']</td>\n",
              "    </tr>\n",
              "    <tr>\n",
              "      <th>992</th>\n",
              "      <td>1606b0e6_0</td>\n",
              "      <td>1606b0e6_02903430</td>\n",
              "      <td>2903.43</td>\n",
              "      <td>2903430</td>\n",
              "      <td>challenge</td>\n",
              "      <td>['fouled']</td>\n",
              "    </tr>\n",
              "    <tr>\n",
              "      <th>995</th>\n",
              "      <td>1606b0e6_0</td>\n",
              "      <td>1606b0e6_03000870</td>\n",
              "      <td>3000.87</td>\n",
              "      <td>3000870</td>\n",
              "      <td>play</td>\n",
              "      <td>['pass', 'freekick']</td>\n",
              "    </tr>\n",
              "    <tr>\n",
              "      <th>998</th>\n",
              "      <td>1606b0e6_0</td>\n",
              "      <td>1606b0e6_03013230</td>\n",
              "      <td>3013.23</td>\n",
              "      <td>3013230</td>\n",
              "      <td>play</td>\n",
              "      <td>['pass', 'openplay']</td>\n",
              "    </tr>\n",
              "  </tbody>\n",
              "</table>\n",
              "<p>396 rows × 6 columns</p>\n",
              "</div>\n",
              "      <button class=\"colab-df-convert\" onclick=\"convertToInteractive('df-a6c0ca78-c39e-4ec3-93b9-21db423672dc')\"\n",
              "              title=\"Convert this dataframe to an interactive table.\"\n",
              "              style=\"display:none;\">\n",
              "        \n",
              "  <svg xmlns=\"http://www.w3.org/2000/svg\" height=\"24px\"viewBox=\"0 0 24 24\"\n",
              "       width=\"24px\">\n",
              "    <path d=\"M0 0h24v24H0V0z\" fill=\"none\"/>\n",
              "    <path d=\"M18.56 5.44l.94 2.06.94-2.06 2.06-.94-2.06-.94-.94-2.06-.94 2.06-2.06.94zm-11 1L8.5 8.5l.94-2.06 2.06-.94-2.06-.94L8.5 2.5l-.94 2.06-2.06.94zm10 10l.94 2.06.94-2.06 2.06-.94-2.06-.94-.94-2.06-.94 2.06-2.06.94z\"/><path d=\"M17.41 7.96l-1.37-1.37c-.4-.4-.92-.59-1.43-.59-.52 0-1.04.2-1.43.59L10.3 9.45l-7.72 7.72c-.78.78-.78 2.05 0 2.83L4 21.41c.39.39.9.59 1.41.59.51 0 1.02-.2 1.41-.59l7.78-7.78 2.81-2.81c.8-.78.8-2.07 0-2.86zM5.41 20L4 18.59l7.72-7.72 1.47 1.35L5.41 20z\"/>\n",
              "  </svg>\n",
              "      </button>\n",
              "      \n",
              "  <style>\n",
              "    .colab-df-container {\n",
              "      display:flex;\n",
              "      flex-wrap:wrap;\n",
              "      gap: 12px;\n",
              "    }\n",
              "\n",
              "    .colab-df-convert {\n",
              "      background-color: #E8F0FE;\n",
              "      border: none;\n",
              "      border-radius: 50%;\n",
              "      cursor: pointer;\n",
              "      display: none;\n",
              "      fill: #1967D2;\n",
              "      height: 32px;\n",
              "      padding: 0 0 0 0;\n",
              "      width: 32px;\n",
              "    }\n",
              "\n",
              "    .colab-df-convert:hover {\n",
              "      background-color: #E2EBFA;\n",
              "      box-shadow: 0px 1px 2px rgba(60, 64, 67, 0.3), 0px 1px 3px 1px rgba(60, 64, 67, 0.15);\n",
              "      fill: #174EA6;\n",
              "    }\n",
              "\n",
              "    [theme=dark] .colab-df-convert {\n",
              "      background-color: #3B4455;\n",
              "      fill: #D2E3FC;\n",
              "    }\n",
              "\n",
              "    [theme=dark] .colab-df-convert:hover {\n",
              "      background-color: #434B5C;\n",
              "      box-shadow: 0px 1px 3px 1px rgba(0, 0, 0, 0.15);\n",
              "      filter: drop-shadow(0px 1px 2px rgba(0, 0, 0, 0.3));\n",
              "      fill: #FFFFFF;\n",
              "    }\n",
              "  </style>\n",
              "\n",
              "      <script>\n",
              "        const buttonEl =\n",
              "          document.querySelector('#df-a6c0ca78-c39e-4ec3-93b9-21db423672dc button.colab-df-convert');\n",
              "        buttonEl.style.display =\n",
              "          google.colab.kernel.accessAllowed ? 'block' : 'none';\n",
              "\n",
              "        async function convertToInteractive(key) {\n",
              "          const element = document.querySelector('#df-a6c0ca78-c39e-4ec3-93b9-21db423672dc');\n",
              "          const dataTable =\n",
              "            await google.colab.kernel.invokeFunction('convertToInteractive',\n",
              "                                                     [key], {});\n",
              "          if (!dataTable) return;\n",
              "\n",
              "          const docLinkHtml = 'Like what you see? Visit the ' +\n",
              "            '<a target=\"_blank\" href=https://colab.research.google.com/notebooks/data_table.ipynb>data table notebook</a>'\n",
              "            + ' to learn more about interactive tables.';\n",
              "          element.innerHTML = '';\n",
              "          dataTable['output_type'] = 'display_data';\n",
              "          await google.colab.output.renderOutput(dataTable, element);\n",
              "          const docLink = document.createElement('div');\n",
              "          docLink.innerHTML = docLinkHtml;\n",
              "          element.appendChild(docLink);\n",
              "        }\n",
              "      </script>\n",
              "    </div>\n",
              "  </div>\n",
              "  "
            ]
          },
          "metadata": {},
          "execution_count": 20
        }
      ]
    },
    {
      "cell_type": "code",
      "source": [
        "y_train_val = df_video1['event']\n",
        "y_train_val.to_frame()"
      ],
      "metadata": {
        "colab": {
          "base_uri": "https://localhost:8080/",
          "height": 424
        },
        "id": "7Dq2U8KkZFmC",
        "outputId": "e709938e-5d9d-4b6a-d559-b1ee29f14840"
      },
      "execution_count": 21,
      "outputs": [
        {
          "output_type": "execute_result",
          "data": {
            "text/plain": [
              "         event\n",
              "1    challenge\n",
              "4    challenge\n",
              "7      throwin\n",
              "10        play\n",
              "13        play\n",
              "..         ...\n",
              "986       play\n",
              "989  challenge\n",
              "992  challenge\n",
              "995       play\n",
              "998       play\n",
              "\n",
              "[396 rows x 1 columns]"
            ],
            "text/html": [
              "\n",
              "  <div id=\"df-7beb6f79-b5c8-4496-a13a-48307d21a42d\">\n",
              "    <div class=\"colab-df-container\">\n",
              "      <div>\n",
              "<style scoped>\n",
              "    .dataframe tbody tr th:only-of-type {\n",
              "        vertical-align: middle;\n",
              "    }\n",
              "\n",
              "    .dataframe tbody tr th {\n",
              "        vertical-align: top;\n",
              "    }\n",
              "\n",
              "    .dataframe thead th {\n",
              "        text-align: right;\n",
              "    }\n",
              "</style>\n",
              "<table border=\"1\" class=\"dataframe\">\n",
              "  <thead>\n",
              "    <tr style=\"text-align: right;\">\n",
              "      <th></th>\n",
              "      <th>event</th>\n",
              "    </tr>\n",
              "  </thead>\n",
              "  <tbody>\n",
              "    <tr>\n",
              "      <th>1</th>\n",
              "      <td>challenge</td>\n",
              "    </tr>\n",
              "    <tr>\n",
              "      <th>4</th>\n",
              "      <td>challenge</td>\n",
              "    </tr>\n",
              "    <tr>\n",
              "      <th>7</th>\n",
              "      <td>throwin</td>\n",
              "    </tr>\n",
              "    <tr>\n",
              "      <th>10</th>\n",
              "      <td>play</td>\n",
              "    </tr>\n",
              "    <tr>\n",
              "      <th>13</th>\n",
              "      <td>play</td>\n",
              "    </tr>\n",
              "    <tr>\n",
              "      <th>...</th>\n",
              "      <td>...</td>\n",
              "    </tr>\n",
              "    <tr>\n",
              "      <th>986</th>\n",
              "      <td>play</td>\n",
              "    </tr>\n",
              "    <tr>\n",
              "      <th>989</th>\n",
              "      <td>challenge</td>\n",
              "    </tr>\n",
              "    <tr>\n",
              "      <th>992</th>\n",
              "      <td>challenge</td>\n",
              "    </tr>\n",
              "    <tr>\n",
              "      <th>995</th>\n",
              "      <td>play</td>\n",
              "    </tr>\n",
              "    <tr>\n",
              "      <th>998</th>\n",
              "      <td>play</td>\n",
              "    </tr>\n",
              "  </tbody>\n",
              "</table>\n",
              "<p>396 rows × 1 columns</p>\n",
              "</div>\n",
              "      <button class=\"colab-df-convert\" onclick=\"convertToInteractive('df-7beb6f79-b5c8-4496-a13a-48307d21a42d')\"\n",
              "              title=\"Convert this dataframe to an interactive table.\"\n",
              "              style=\"display:none;\">\n",
              "        \n",
              "  <svg xmlns=\"http://www.w3.org/2000/svg\" height=\"24px\"viewBox=\"0 0 24 24\"\n",
              "       width=\"24px\">\n",
              "    <path d=\"M0 0h24v24H0V0z\" fill=\"none\"/>\n",
              "    <path d=\"M18.56 5.44l.94 2.06.94-2.06 2.06-.94-2.06-.94-.94-2.06-.94 2.06-2.06.94zm-11 1L8.5 8.5l.94-2.06 2.06-.94-2.06-.94L8.5 2.5l-.94 2.06-2.06.94zm10 10l.94 2.06.94-2.06 2.06-.94-2.06-.94-.94-2.06-.94 2.06-2.06.94z\"/><path d=\"M17.41 7.96l-1.37-1.37c-.4-.4-.92-.59-1.43-.59-.52 0-1.04.2-1.43.59L10.3 9.45l-7.72 7.72c-.78.78-.78 2.05 0 2.83L4 21.41c.39.39.9.59 1.41.59.51 0 1.02-.2 1.41-.59l7.78-7.78 2.81-2.81c.8-.78.8-2.07 0-2.86zM5.41 20L4 18.59l7.72-7.72 1.47 1.35L5.41 20z\"/>\n",
              "  </svg>\n",
              "      </button>\n",
              "      \n",
              "  <style>\n",
              "    .colab-df-container {\n",
              "      display:flex;\n",
              "      flex-wrap:wrap;\n",
              "      gap: 12px;\n",
              "    }\n",
              "\n",
              "    .colab-df-convert {\n",
              "      background-color: #E8F0FE;\n",
              "      border: none;\n",
              "      border-radius: 50%;\n",
              "      cursor: pointer;\n",
              "      display: none;\n",
              "      fill: #1967D2;\n",
              "      height: 32px;\n",
              "      padding: 0 0 0 0;\n",
              "      width: 32px;\n",
              "    }\n",
              "\n",
              "    .colab-df-convert:hover {\n",
              "      background-color: #E2EBFA;\n",
              "      box-shadow: 0px 1px 2px rgba(60, 64, 67, 0.3), 0px 1px 3px 1px rgba(60, 64, 67, 0.15);\n",
              "      fill: #174EA6;\n",
              "    }\n",
              "\n",
              "    [theme=dark] .colab-df-convert {\n",
              "      background-color: #3B4455;\n",
              "      fill: #D2E3FC;\n",
              "    }\n",
              "\n",
              "    [theme=dark] .colab-df-convert:hover {\n",
              "      background-color: #434B5C;\n",
              "      box-shadow: 0px 1px 3px 1px rgba(0, 0, 0, 0.15);\n",
              "      filter: drop-shadow(0px 1px 2px rgba(0, 0, 0, 0.3));\n",
              "      fill: #FFFFFF;\n",
              "    }\n",
              "  </style>\n",
              "\n",
              "      <script>\n",
              "        const buttonEl =\n",
              "          document.querySelector('#df-7beb6f79-b5c8-4496-a13a-48307d21a42d button.colab-df-convert');\n",
              "        buttonEl.style.display =\n",
              "          google.colab.kernel.accessAllowed ? 'block' : 'none';\n",
              "\n",
              "        async function convertToInteractive(key) {\n",
              "          const element = document.querySelector('#df-7beb6f79-b5c8-4496-a13a-48307d21a42d');\n",
              "          const dataTable =\n",
              "            await google.colab.kernel.invokeFunction('convertToInteractive',\n",
              "                                                     [key], {});\n",
              "          if (!dataTable) return;\n",
              "\n",
              "          const docLinkHtml = 'Like what you see? Visit the ' +\n",
              "            '<a target=\"_blank\" href=https://colab.research.google.com/notebooks/data_table.ipynb>data table notebook</a>'\n",
              "            + ' to learn more about interactive tables.';\n",
              "          element.innerHTML = '';\n",
              "          dataTable['output_type'] = 'display_data';\n",
              "          await google.colab.output.renderOutput(dataTable, element);\n",
              "          const docLink = document.createElement('div');\n",
              "          docLink.innerHTML = docLinkHtml;\n",
              "          element.appendChild(docLink);\n",
              "        }\n",
              "      </script>\n",
              "    </div>\n",
              "  </div>\n",
              "  "
            ]
          },
          "metadata": {},
          "execution_count": 21
        }
      ]
    },
    {
      "cell_type": "code",
      "source": [
        "from sklearn.preprocessing import OneHotEncoder\n",
        "\n",
        "encoder = OneHotEncoder(sparse=False, handle_unknown='ignore')\n",
        "\n",
        "current_feat = ['event']\n",
        "\n",
        "print('Shape of y_train_val before transformation: ', y_train_val.shape)\n",
        "y_train_val = y_train_val.to_frame()\n",
        "\n",
        "# Fit and transform data\n",
        "encoder.fit(y_train_val[current_feat])\n",
        "y_train_val[encoder.get_feature_names_out(list(current_feat))] = encoder.transform(y_train_val[current_feat])\n",
        "y_train_val = y_train_val.drop(columns=current_feat)\n",
        "\n",
        "print('Shape of y_train_val after transformation: ', y_train_val.shape)"
      ],
      "metadata": {
        "colab": {
          "base_uri": "https://localhost:8080/"
        },
        "id": "mE6-seNZZFqp",
        "outputId": "b486e219-634d-4377-97ad-7713f42489c8"
      },
      "execution_count": 22,
      "outputs": [
        {
          "output_type": "stream",
          "name": "stdout",
          "text": [
            "Shape of y_train_val before transformation:  (396,)\n",
            "Shape of y_train_val after transformation:  (396, 3)\n"
          ]
        }
      ]
    },
    {
      "cell_type": "markdown",
      "source": [
        "Files without compressing:"
      ],
      "metadata": {
        "id": "MMZcUuqt5Juf"
      }
    },
    {
      "cell_type": "code",
      "source": [
        "# X_train = np.load('/content/drive/MyDrive/Bundesliga/PicsFromVids/1606b0e6_0.npy')\n",
        "# X_train2 = np.load('/content/drive/MyDrive/Bundesliga/PicsFromVids/1606b0e6_1.npy')\n",
        "# X_train3 = np.load('/content/drive/MyDrive/Bundesliga/PicsFromVids/35bd9041_0.npy')\n",
        "# X_train4 = np.load('/content/drive/MyDrive/Bundesliga/PicsFromVids/35bd9041_1.npy')\n",
        "# X_train5 = np.load('/content/drive/MyDrive/Bundesliga/PicsFromVids/3c993bd2_0.npy')"
      ],
      "metadata": {
        "id": "oV1W3jYEKd2G"
      },
      "execution_count": 23,
      "outputs": []
    },
    {
      "cell_type": "code",
      "source": [
        "# X_train.shape\n",
        "# X_train2.shape, X_train3.shape, X_train4.shape, X_train5.shape"
      ],
      "metadata": {
        "id": "Vyyo2enhLVsE"
      },
      "execution_count": 24,
      "outputs": []
    },
    {
      "cell_type": "code",
      "source": [
        "# X_train.max()\n",
        "# X_train2.max(), X_train3.max(), X_train4.max(), X_train5.max()"
      ],
      "metadata": {
        "id": "eW_PLYYyKIJg"
      },
      "execution_count": 25,
      "outputs": []
    },
    {
      "cell_type": "markdown",
      "source": [
        "Compressed files:"
      ],
      "metadata": {
        "id": "qggrXXK15SCw"
      }
    },
    {
      "cell_type": "code",
      "source": [
        "X_train_val = np.load('/content/drive/MyDrive/Bundesliga/PicsFromVids/CompressedPic/1606b0e6_0.npz')\n",
        "# X_train2 = np.load('/content/drive/MyDrive/Bundesliga/PicsFromVids/CompressedPic/1606b0e6_1.npz').f.arr_0\n",
        "# X_train3 = np.load('/content/drive/MyDrive/Bundesliga/PicsFromVids/CompressedPic/1606b0e6_0.npz').f.arr_0\n",
        "# X_train4 = np.load('/content/drive/MyDrive/Bundesliga/PicsFromVids/CompressedPic/1606b0e6_0.npz').f.arr_0\n",
        "# X_train5 = np.load('/content/drive/MyDrive/Bundesliga/PicsFromVids/CompressedPic/1606b0e6_0.npz').f.arr_0\n",
        "# X_train6 = np.load('/content/drive/MyDrive/Bundesliga/PicsFromVids/CompressedPic/1606b0e6_0.npz').f.arr_0\n",
        "# X_train7 = np.load('/content/drive/MyDrive/Bundesliga/PicsFromVids/CompressedPic/1606b0e6_0.npz').f.arr_0\n",
        "# X_train8 = np.load('/content/drive/MyDrive/Bundesliga/PicsFromVids/CompressedPic/1606b0e6_0.npz').f.arr_0\n",
        "# X_train9 = np.load('/content/drive/MyDrive/Bundesliga/PicsFromVids/CompressedPic/1606b0e6_0.npz').f.arr_0\n",
        "# X_train10 = np.load('/content/drive/MyDrive/Bundesliga/PicsFromVids/CompressedPic/1606b0e6_0.npz').f.arr_0\n",
        "# X_train11 = np.load('/content/drive/MyDrive/Bundesliga/PicsFromVids/CompressedPic/1606b0e6_0.npz').f.arr_0\n",
        "# X_train12 = np.load('/content/drive/MyDrive/Bundesliga/PicsFromVids/CompressedPic/1606b0e6_0.npz').f.arr_0"
      ],
      "metadata": {
        "id": "F0bJkMeY5RWv"
      },
      "execution_count": 26,
      "outputs": []
    },
    {
      "cell_type": "code",
      "source": [
        "X_train_val.f.arr_0.shape"
      ],
      "metadata": {
        "colab": {
          "base_uri": "https://localhost:8080/"
        },
        "id": "LG4svreS7shr",
        "outputId": "4eeab90e-8965-49bd-d267-9f1065c73a1e"
      },
      "execution_count": 27,
      "outputs": [
        {
          "output_type": "execute_result",
          "data": {
            "text/plain": [
              "(396, 480, 640, 3)"
            ]
          },
          "metadata": {},
          "execution_count": 27
        }
      ]
    },
    {
      "cell_type": "code",
      "source": [
        "X_train_val = X_train_val.f.arr_0"
      ],
      "metadata": {
        "id": "AFtgEVCbDe1d"
      },
      "execution_count": 28,
      "outputs": []
    },
    {
      "cell_type": "code",
      "source": [
        "# rows = y_train_val.shape[0]\n",
        "# TRAIN_SIZE = 0.8\n",
        "# index_val = round(rows * TRAIN_SIZE)\n",
        "\n",
        "# X_train = X_train_val[:index_val]\n",
        "# y_train = y_train_val[:index_val]\n",
        "# X_val = X_train_val[index_val:]\n",
        "# y_val = y_train_val[index_val:]"
      ],
      "metadata": {
        "id": "-Gvbf3XWbmqE"
      },
      "execution_count": 29,
      "outputs": []
    },
    {
      "cell_type": "code",
      "source": [
        "assert X_train_val.shape[0] == X_train.shape[0] + X_val.shape[0]\n",
        "assert y_train_val.shape[0] == y_train.shape[0] + y_val.shape[0]"
      ],
      "metadata": {
        "id": "Qa2A93L3brhN"
      },
      "execution_count": 30,
      "outputs": []
    },
    {
      "cell_type": "code",
      "source": [
        "input_shape = X_train_val.shape[1], X_train_val.shape[2], X_train_val.shape[3]\n",
        "\n",
        "model = Sequential([\n",
        "    Rescaling(1/255, \n",
        "              input_shape=input_shape),   \n",
        "    Conv2D(96, \n",
        "           11, \n",
        "           strides=4, \n",
        "           activation='relu'),\n",
        "    MaxPooling2D(pool_size=3, \n",
        "                 strides=2),\n",
        "    Conv2D(256, \n",
        "           5, \n",
        "           activation='relu'),\n",
        "    MaxPooling2D(pool_size=3, \n",
        "                 strides=2),\n",
        "    Conv2D(384, \n",
        "           3, \n",
        "           activation='relu'),\n",
        "    Conv2D(384, \n",
        "           3, \n",
        "           activation='relu'),\n",
        "    Conv2D(256, \n",
        "           3, \n",
        "           activation='relu'),\n",
        "    MaxPooling2D(),\n",
        "    Flatten(),\n",
        "    Dense(256, \n",
        "          activation='relu'),\n",
        "    Dense(256, \n",
        "          activation='relu'),\n",
        "    Dense(3, \n",
        "          activation='softmax')\n",
        "])"
      ],
      "metadata": {
        "id": "DFusjhJULoVl"
      },
      "execution_count": 31,
      "outputs": []
    },
    {
      "cell_type": "code",
      "source": [
        "model.input_shape, model.output_shape"
      ],
      "metadata": {
        "colab": {
          "base_uri": "https://localhost:8080/"
        },
        "id": "ZF7FZI-AGKw-",
        "outputId": "5c5a2f31-ab3c-4523-dbec-ba1647dcf117"
      },
      "execution_count": 32,
      "outputs": [
        {
          "output_type": "execute_result",
          "data": {
            "text/plain": [
              "((None, 480, 640, 3), (None, 3))"
            ]
          },
          "metadata": {},
          "execution_count": 32
        }
      ]
    },
    {
      "cell_type": "code",
      "source": [
        "X_train_val.shape, y_train_val.shape"
      ],
      "metadata": {
        "colab": {
          "base_uri": "https://localhost:8080/"
        },
        "id": "1BPjhbo-bIX2",
        "outputId": "d247f0d4-bb0d-48aa-d614-d8e804561aee"
      },
      "execution_count": 33,
      "outputs": [
        {
          "output_type": "execute_result",
          "data": {
            "text/plain": [
              "((396, 480, 640, 3), (396, 3))"
            ]
          },
          "metadata": {},
          "execution_count": 33
        }
      ]
    },
    {
      "cell_type": "code",
      "source": [
        "y_train_val.value_counts()"
      ],
      "metadata": {
        "colab": {
          "base_uri": "https://localhost:8080/"
        },
        "id": "Tz8jM5nneJeW",
        "outputId": "ed9d43e4-0423-491a-bb01-fc53c7bd3b1b"
      },
      "execution_count": 34,
      "outputs": [
        {
          "output_type": "execute_result",
          "data": {
            "text/plain": [
              "event_challenge  event_play  event_throwin\n",
              "0.0              1.0         0.0              319\n",
              "1.0              0.0         0.0               56\n",
              "0.0              0.0         1.0               21\n",
              "dtype: int64"
            ]
          },
          "metadata": {},
          "execution_count": 34
        }
      ]
    },
    {
      "cell_type": "code",
      "source": [
        "model.summary()"
      ],
      "metadata": {
        "colab": {
          "base_uri": "https://localhost:8080/"
        },
        "id": "NvBupBE3bN9F",
        "outputId": "f77bcfcb-0bd0-4be7-c957-5c23485dd953"
      },
      "execution_count": 35,
      "outputs": [
        {
          "output_type": "stream",
          "name": "stdout",
          "text": [
            "Model: \"sequential\"\n",
            "_________________________________________________________________\n",
            " Layer (type)                Output Shape              Param #   \n",
            "=================================================================\n",
            " rescaling (Rescaling)       (None, 480, 640, 3)       0         \n",
            "                                                                 \n",
            " conv2d (Conv2D)             (None, 118, 158, 96)      34944     \n",
            "                                                                 \n",
            " max_pooling2d (MaxPooling2D  (None, 58, 78, 96)       0         \n",
            " )                                                               \n",
            "                                                                 \n",
            " conv2d_1 (Conv2D)           (None, 54, 74, 256)       614656    \n",
            "                                                                 \n",
            " max_pooling2d_1 (MaxPooling  (None, 26, 36, 256)      0         \n",
            " 2D)                                                             \n",
            "                                                                 \n",
            " conv2d_2 (Conv2D)           (None, 24, 34, 384)       885120    \n",
            "                                                                 \n",
            " conv2d_3 (Conv2D)           (None, 22, 32, 384)       1327488   \n",
            "                                                                 \n",
            " conv2d_4 (Conv2D)           (None, 20, 30, 256)       884992    \n",
            "                                                                 \n",
            " max_pooling2d_2 (MaxPooling  (None, 10, 15, 256)      0         \n",
            " 2D)                                                             \n",
            "                                                                 \n",
            " flatten (Flatten)           (None, 38400)             0         \n",
            "                                                                 \n",
            " dense (Dense)               (None, 256)               9830656   \n",
            "                                                                 \n",
            " dense_1 (Dense)             (None, 256)               65792     \n",
            "                                                                 \n",
            " dense_2 (Dense)             (None, 3)                 771       \n",
            "                                                                 \n",
            "=================================================================\n",
            "Total params: 13,644,419\n",
            "Trainable params: 13,644,419\n",
            "Non-trainable params: 0\n",
            "_________________________________________________________________\n"
          ]
        }
      ]
    },
    {
      "cell_type": "code",
      "source": [
        "model.compile(loss='categorical_crossentropy',\n",
        "              optimizer='adam',\n",
        "              metrics='accuracy',\n",
        "              )"
      ],
      "metadata": {
        "id": "vmB9Qj_ncEtX"
      },
      "execution_count": 36,
      "outputs": []
    },
    {
      "cell_type": "code",
      "source": [
        "callback = EarlyStopping(monitor='val_loss',\n",
        "                         patience=5,\n",
        "                         restore_best_weights=True\n",
        "                         )"
      ],
      "metadata": {
        "id": "yLkCn7O2djJn"
      },
      "execution_count": 37,
      "outputs": []
    },
    {
      "cell_type": "code",
      "source": [
        "EPOCHS = 100\n",
        "model.fit(X_train_val, \n",
        "          y_train_val, \n",
        "          validation_split=0.2, \n",
        "          batch_size=16, \n",
        "          epochs=EPOCHS,\n",
        "          callbacks=[callback])"
      ],
      "metadata": {
        "colab": {
          "base_uri": "https://localhost:8080/"
        },
        "id": "ePSfdfoNdNS2",
        "outputId": "274013ac-0f1d-4ef8-fb96-5a98059edadd"
      },
      "execution_count": 38,
      "outputs": [
        {
          "output_type": "stream",
          "name": "stdout",
          "text": [
            "Epoch 1/100\n",
            "20/20 [==============================] - 143s 7s/step - loss: 1.0201 - accuracy: 0.7310 - val_loss: 0.6056 - val_accuracy: 0.8500\n",
            "Epoch 2/100\n",
            "20/20 [==============================] - 134s 7s/step - loss: 0.6940 - accuracy: 0.7943 - val_loss: 0.5458 - val_accuracy: 0.8500\n",
            "Epoch 3/100\n",
            "20/20 [==============================] - 134s 7s/step - loss: 0.6615 - accuracy: 0.7943 - val_loss: 0.5162 - val_accuracy: 0.8500\n",
            "Epoch 4/100\n",
            "20/20 [==============================] - 134s 7s/step - loss: 0.6504 - accuracy: 0.7943 - val_loss: 0.5096 - val_accuracy: 0.8500\n",
            "Epoch 5/100\n",
            "20/20 [==============================] - 134s 7s/step - loss: 0.6485 - accuracy: 0.7943 - val_loss: 0.5485 - val_accuracy: 0.8500\n",
            "Epoch 6/100\n",
            "20/20 [==============================] - 134s 7s/step - loss: 0.6371 - accuracy: 0.7943 - val_loss: 0.5258 - val_accuracy: 0.8500\n",
            "Epoch 7/100\n",
            "20/20 [==============================] - 133s 7s/step - loss: 0.6396 - accuracy: 0.7943 - val_loss: 0.6021 - val_accuracy: 0.8500\n",
            "Epoch 8/100\n",
            "20/20 [==============================] - 134s 7s/step - loss: 0.6567 - accuracy: 0.7943 - val_loss: 0.5157 - val_accuracy: 0.8500\n",
            "Epoch 9/100\n",
            "20/20 [==============================] - 134s 7s/step - loss: 0.6511 - accuracy: 0.7943 - val_loss: 0.5229 - val_accuracy: 0.8500\n"
          ]
        },
        {
          "output_type": "execute_result",
          "data": {
            "text/plain": [
              "<keras.callbacks.History at 0x7f3315000650>"
            ]
          },
          "metadata": {},
          "execution_count": 38
        }
      ]
    },
    {
      "cell_type": "code",
      "source": [],
      "metadata": {
        "id": "IKMOr40LdyC6"
      },
      "execution_count": 38,
      "outputs": []
    }
  ]
}