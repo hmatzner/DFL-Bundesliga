{
  "nbformat": 4,
  "nbformat_minor": 0,
  "metadata": {
    "colab": {
      "provenance": []
    },
    "kernelspec": {
      "name": "python3",
      "display_name": "Python 3"
    },
    "language_info": {
      "name": "python"
    }
  },
  "cells": [
    {
      "cell_type": "markdown",
      "source": [
        "## Setup"
      ],
      "metadata": {
        "id": "TSD2IAAnU3Z2"
      }
    },
    {
      "cell_type": "code",
      "execution_count": 23,
      "metadata": {
        "id": "W-JMrk7uUwPO"
      },
      "outputs": [],
      "source": [
        "import sys\n",
        "import os\n",
        "import numpy as np\n",
        "import matplotlib.pyplot as plt\n",
        "import cv2\n",
        "from scipy.spatial.distance import cdist\n",
        "from google.colab.patches import cv2_imshow"
      ]
    },
    {
      "cell_type": "code",
      "source": [
        "from os import listdir\n",
        "from os.path import isfile, join"
      ],
      "metadata": {
        "id": "px-ibzlADEtP"
      },
      "execution_count": 22,
      "outputs": []
    },
    {
      "cell_type": "code",
      "source": [
        "from google.colab import drive\n",
        "drive.mount('/content/drive')"
      ],
      "metadata": {
        "colab": {
          "base_uri": "https://localhost:8080/"
        },
        "id": "7BgBuv8oU6X3",
        "outputId": "64f4da3a-df92-4766-e5b9-1a12c32ae3ff"
      },
      "execution_count": 2,
      "outputs": [
        {
          "output_type": "stream",
          "name": "stdout",
          "text": [
            "Mounted at /content/drive\n"
          ]
        }
      ]
    },
    {
      "cell_type": "code",
      "source": [
        "# # Defining constant variables\n",
        "# YOLOV7_FOLDER = '/content/drive/My Drive/Bundesliga/YOLO7'\n",
        "# VIDEOS_FOLDER = '/yolov7/runs/detect'\n",
        "# CLIPS_FOLDER = YOLOV7_FOLDER + VIDEOS_FOLDER"
      ],
      "metadata": {
        "id": "0NdjFOdCU8-t"
      },
      "execution_count": 2,
      "outputs": []
    },
    {
      "cell_type": "code",
      "source": [
        "POSITIVES_FOLDER = '/content/drive/MyDrive/Bundesliga/PositiveFrames/'\n",
        "FOLDER_FRAMES = 'frames_ms2_1606b0e6_0/'\n",
        "FOLDER_LABELS = 'labels/'\n",
        "os.chdir(POSITIVES_FOLDER)"
      ],
      "metadata": {
        "id": "4Kl0iI3Db6x2"
      },
      "execution_count": 3,
      "outputs": []
    },
    {
      "cell_type": "code",
      "source": [
        "! pwd"
      ],
      "metadata": {
        "colab": {
          "base_uri": "https://localhost:8080/"
        },
        "id": "8ItnilIvcbsW",
        "outputId": "09b57146-c56c-4c3e-d9c4-149f92c69495"
      },
      "execution_count": 4,
      "outputs": [
        {
          "output_type": "stream",
          "name": "stdout",
          "text": [
            "/content/drive/MyDrive/Bundesliga/PositiveFrames\n"
          ]
        }
      ]
    },
    {
      "cell_type": "markdown",
      "source": [
        "## To modify"
      ],
      "metadata": {
        "id": "3VeST5VpXtWS"
      }
    },
    {
      "cell_type": "code",
      "source": [
        "video = '08fd33_0' # I don't need this"
      ],
      "metadata": {
        "id": "HMOlbLH0XrJw"
      },
      "execution_count": 7,
      "outputs": []
    },
    {
      "cell_type": "markdown",
      "source": [
        "## Cropping original frames"
      ],
      "metadata": {
        "id": "OgxGdDBfVo1z"
      }
    },
    {
      "cell_type": "code",
      "source": [],
      "metadata": {
        "id": "AqHApf7afe-T"
      },
      "execution_count": 11,
      "outputs": []
    },
    {
      "cell_type": "code",
      "source": [
        "CLASS_INDEX = 0\n",
        "X_INDEX = 1\n",
        "Y_INDEX = 2\n",
        "PERSON_CLASS = '0'\n",
        "BALL_CLASS = '32'\n",
        "X_SIZE = 1928\n",
        "Y_SIZE = 1024\n",
        "CROP_SIZE = 224 # pixels, size of crop = (CROP_SIZExCROP_SIZE)\n",
        "radius = int(CROP_SIZE / 2)"
      ],
      "metadata": {
        "id": "mPxkGrYLVmj3"
      },
      "execution_count": 12,
      "outputs": []
    },
    {
      "cell_type": "code",
      "source": [
        "! pwd"
      ],
      "metadata": {
        "colab": {
          "base_uri": "https://localhost:8080/"
        },
        "id": "WTPxm-xshC_i",
        "outputId": "1f13f3ed-016f-49a1-876a-bc93dc540c4a"
      },
      "execution_count": 5,
      "outputs": [
        {
          "output_type": "stream",
          "name": "stdout",
          "text": [
            "/content\n"
          ]
        }
      ]
    },
    {
      "cell_type": "code",
      "source": [
        "files = [file for file in listdir(FOLDER_FRAMES) if isfile(join(FOLDER_FRAMES, file))] # get a list of files in the directory\n",
        "filenames = [os.path.splitext(filename)[0] for filename in files] # separate filenames from their extension .jpg"
      ],
      "metadata": {
        "id": "xGk_AYmYVuGG"
      },
      "execution_count": 11,
      "outputs": []
    },
    {
      "cell_type": "code",
      "source": [
        "files[1]"
      ],
      "metadata": {
        "colab": {
          "base_uri": "https://localhost:8080/",
          "height": 35
        },
        "id": "31ZZEJbfgApQ",
        "outputId": "ea13ffc4-29fe-46e5-8fad-13f3f58d1193"
      },
      "execution_count": 12,
      "outputs": [
        {
          "output_type": "execute_result",
          "data": {
            "text/plain": [
              "'1606b0e6_0_355_2_14.jpg'"
            ],
            "application/vnd.google.colaboratory.intrinsic+json": {
              "type": "string"
            }
          },
          "metadata": {},
          "execution_count": 12
        }
      ]
    },
    {
      "cell_type": "markdown",
      "source": [
        "## Test: doing above by iterating over 2 different folders (frames and labels)"
      ],
      "metadata": {
        "id": "lWB-yCa8hK_M"
      }
    },
    {
      "cell_type": "code",
      "source": [
        "POSITIVES_FOLDER = '/content/drive/MyDrive/Bundesliga/PositiveFrames/'\n",
        "FOLDER_LABELS = POSITIVES_FOLDER + 'detect/'\n",
        "FOLDER_FRAMES = POSITIVES_FOLDER + 'frames_ms2/'\n",
        "\n",
        "FIRST_FRAMES = FOLDER_FRAMES + '1606b0e6_0/'\n",
        "SECOND_FRAMES = FOLDER_FRAMES + '1606b0e6_1/'"
      ],
      "metadata": {
        "id": "IFKn6V_6p4D3"
      },
      "execution_count": 198,
      "outputs": []
    },
    {
      "cell_type": "code",
      "source": [
        "CURRENT_FOLDER = FIRST_FRAMES # TO CHANGE\n",
        "os.chdir(CURRENT_FOLDER)\n",
        "! pwd"
      ],
      "metadata": {
        "colab": {
          "base_uri": "https://localhost:8080/"
        },
        "id": "qA0qXb3up4G5",
        "outputId": "985c6499-c3e4-43ea-99b7-1e25f269dfb9"
      },
      "execution_count": 111,
      "outputs": [
        {
          "output_type": "stream",
          "name": "stdout",
          "text": [
            "/content/drive/.shortcut-targets-by-id/1wFGN6IFBm3dh_iHtQ6qPt1ppxY6WSR_2/frames_ms2/1606b0e6_0\n"
          ]
        }
      ]
    },
    {
      "cell_type": "code",
      "source": [
        "video"
      ],
      "metadata": {
        "colab": {
          "base_uri": "https://localhost:8080/",
          "height": 35
        },
        "id": "B5QgJDvibBcG",
        "outputId": "cd810202-36d6-42f9-ce11-a689ed97a185"
      },
      "execution_count": 197,
      "outputs": [
        {
          "output_type": "execute_result",
          "data": {
            "text/plain": [
              "'1606b0e6_0'"
            ],
            "application/vnd.google.colaboratory.intrinsic+json": {
              "type": "string"
            }
          },
          "metadata": {},
          "execution_count": 197
        }
      ]
    },
    {
      "cell_type": "code",
      "source": [
        "! ls | wc -l"
      ],
      "metadata": {
        "colab": {
          "base_uri": "https://localhost:8080/"
        },
        "id": "eXuDIcn1qU2s",
        "outputId": "f03ac60e-9ef9-4729-f6db-58cb1530a1d2"
      },
      "execution_count": 113,
      "outputs": [
        {
          "output_type": "stream",
          "name": "stdout",
          "text": [
            "13860\n"
          ]
        }
      ]
    },
    {
      "cell_type": "code",
      "source": [
        "CURRENT_FOLDER = SECOND_FRAMES # TO CHANGE\n",
        "os.chdir(CURRENT_FOLDER)\n",
        "! pwd"
      ],
      "metadata": {
        "colab": {
          "base_uri": "https://localhost:8080/"
        },
        "id": "VDV_nBxJqega",
        "outputId": "9f6b502c-2d95-48cf-d2e4-b3c8095605f2"
      },
      "execution_count": 117,
      "outputs": [
        {
          "output_type": "stream",
          "name": "stdout",
          "text": [
            "/content/drive/.shortcut-targets-by-id/1wFGN6IFBm3dh_iHtQ6qPt1ppxY6WSR_2/frames_ms2/1606b0e6_1\n"
          ]
        }
      ]
    },
    {
      "cell_type": "code",
      "source": [
        "! ls | wc -l"
      ],
      "metadata": {
        "colab": {
          "base_uri": "https://localhost:8080/"
        },
        "id": "l3ZiZ_nJqeiW",
        "outputId": "f4d0b46d-6888-41a2-c729-3880c43e7a73"
      },
      "execution_count": 119,
      "outputs": [
        {
          "output_type": "stream",
          "name": "stdout",
          "text": [
            "0\n"
          ]
        }
      ]
    },
    {
      "cell_type": "code",
      "source": [],
      "metadata": {
        "id": "FON9MstjqU5h"
      },
      "execution_count": null,
      "outputs": []
    },
    {
      "cell_type": "code",
      "source": [
        "# POSITIVES_FOLDER = '/content/drive/MyDrive/Bundesliga/PositiveFrames/'\n",
        "# FOLDER_LABELS = POSITIVES_FOLDER + 'detect/'\n",
        "# FOLDER_FRAMES = POSITIVES_FOLDER + '1606b0e6_0/'"
      ],
      "metadata": {
        "id": "JHRR1sLo8EVG"
      },
      "execution_count": 199,
      "outputs": []
    },
    {
      "cell_type": "code",
      "source": [
        "CURRENT_FOLDER = POSITIVES_FOLDER # TO CHANGE\n",
        "os.chdir(CURRENT_FOLDER)\n",
        "! pwd"
      ],
      "metadata": {
        "colab": {
          "base_uri": "https://localhost:8080/"
        },
        "id": "uJTmJpmk7-Sk",
        "outputId": "11783940-8f6a-4057-b648-73b165b15f24"
      },
      "execution_count": 200,
      "outputs": [
        {
          "output_type": "stream",
          "name": "stdout",
          "text": [
            "/content/drive/MyDrive/Bundesliga/PositiveFrames\n"
          ]
        }
      ]
    },
    {
      "cell_type": "code",
      "source": [
        "files = [file for file in listdir(FIRST_FRAMES) if isfile(join(FIRST_FRAMES, file))] # get a list of files in the directory\n",
        "filenames = [os.path.splitext(filename)[0] for filename in files] # separate filenames from their extension .jpg"
      ],
      "metadata": {
        "id": "LaPW09B58Jw4"
      },
      "execution_count": 120,
      "outputs": []
    },
    {
      "cell_type": "code",
      "source": [
        "sum('1606b0e6_0_11' in(file) for file in files)"
      ],
      "metadata": {
        "colab": {
          "base_uri": "https://localhost:8080/"
        },
        "id": "Qh0LZAzm8SaQ",
        "outputId": "2dc7244f-be48-4684-d18f-944e1c7cbabc"
      },
      "execution_count": 121,
      "outputs": [
        {
          "output_type": "execute_result",
          "data": {
            "text/plain": [
              "385"
            ]
          },
          "metadata": {},
          "execution_count": 121
        }
      ]
    },
    {
      "cell_type": "code",
      "source": [
        "sum('1606b0e6_0_24' in(file) for file in files)"
      ],
      "metadata": {
        "colab": {
          "base_uri": "https://localhost:8080/"
        },
        "id": "aRiibpePFtoq",
        "outputId": "4e3d7bf5-af26-46e8-aefa-29743f345055"
      },
      "execution_count": 122,
      "outputs": [
        {
          "output_type": "execute_result",
          "data": {
            "text/plain": [
              "385"
            ]
          },
          "metadata": {},
          "execution_count": 122
        }
      ]
    },
    {
      "cell_type": "code",
      "source": [
        "filenames[-5:]"
      ],
      "metadata": {
        "colab": {
          "base_uri": "https://localhost:8080/"
        },
        "id": "u1ANgUomEArr",
        "outputId": "fc3d6cae-dc4f-467b-a592-1f46031a5cc4"
      },
      "execution_count": 123,
      "outputs": [
        {
          "output_type": "execute_result",
          "data": {
            "text/plain": [
              "['1606b0e6_0_24_2_17',\n",
              " '1606b0e6_0_24_2_16',\n",
              " '1606b0e6_0_24_2_26',\n",
              " '1606b0e6_0_24_2_23',\n",
              " '1606b0e6_0_24_2_11']"
            ]
          },
          "metadata": {},
          "execution_count": 123
        }
      ]
    },
    {
      "cell_type": "markdown",
      "source": [
        "## Main code:"
      ],
      "metadata": {
        "id": "YILd4Fh8KVxf"
      }
    },
    {
      "cell_type": "code",
      "source": [
        "! pwd"
      ],
      "metadata": {
        "colab": {
          "base_uri": "https://localhost:8080/"
        },
        "id": "9ZHBDxnOKay0",
        "outputId": "2320e8d0-b791-4396-a28a-69777c940fb2"
      },
      "execution_count": 144,
      "outputs": [
        {
          "output_type": "stream",
          "name": "stdout",
          "text": [
            "/content/drive/MyDrive/Bundesliga/PositiveFrames\n"
          ]
        }
      ]
    },
    {
      "cell_type": "code",
      "source": [
        "filenames[0]"
      ],
      "metadata": {
        "colab": {
          "base_uri": "https://localhost:8080/",
          "height": 35
        },
        "id": "LwiogGYeLan3",
        "outputId": "8dafb5a8-7920-4be8-b47f-9b2d961b1b9d"
      },
      "execution_count": 124,
      "outputs": [
        {
          "output_type": "execute_result",
          "data": {
            "text/plain": [
              "'1606b0e6_0_367_2_11'"
            ],
            "application/vnd.google.colaboratory.intrinsic+json": {
              "type": "string"
            }
          },
          "metadata": {},
          "execution_count": 124
        }
      ]
    },
    {
      "cell_type": "code",
      "source": [
        "ANY_INDEX = 0\n",
        "video = \"_\".join(filenames[ANY_INDEX].split(\"_\", 2)[:2])\n",
        "rest = ''.join(filenames[ANY_INDEX].split(\"_\", 2)[2:])\n",
        "y = filenames[ANY_INDEX].split(\"_\")[3]\n",
        "video, rest, y"
      ],
      "metadata": {
        "colab": {
          "base_uri": "https://localhost:8080/"
        },
        "id": "eN-NBasZGery",
        "outputId": "cd117a50-57b1-46e7-a019-0ca7a6773b82"
      },
      "execution_count": 125,
      "outputs": [
        {
          "output_type": "execute_result",
          "data": {
            "text/plain": [
              "('1606b0e6_0', '367_2_11', '2')"
            ]
          },
          "metadata": {},
          "execution_count": 125
        }
      ]
    },
    {
      "cell_type": "code",
      "source": [
        "FOLDER_LABELS"
      ],
      "metadata": {
        "colab": {
          "base_uri": "https://localhost:8080/",
          "height": 35
        },
        "id": "i_PBj2ElJmCC",
        "outputId": "ecc68b81-46e6-4ee3-fa0b-ec345122bcfb"
      },
      "execution_count": 126,
      "outputs": [
        {
          "output_type": "execute_result",
          "data": {
            "text/plain": [
              "'/content/drive/MyDrive/Bundesliga/PositiveFrames/detect/'"
            ],
            "application/vnd.google.colaboratory.intrinsic+json": {
              "type": "string"
            }
          },
          "metadata": {},
          "execution_count": 126
        }
      ]
    },
    {
      "cell_type": "code",
      "source": [
        "current_labels = FOLDER_LABELS + video + '/labels/'\n",
        "current_labels"
      ],
      "metadata": {
        "colab": {
          "base_uri": "https://localhost:8080/",
          "height": 35
        },
        "id": "W66O2BcEJn62",
        "outputId": "dd987faf-4446-486b-a593-5c9e11672ff0"
      },
      "execution_count": 128,
      "outputs": [
        {
          "output_type": "execute_result",
          "data": {
            "text/plain": [
              "'/content/drive/MyDrive/Bundesliga/PositiveFrames/detect/1606b0e6_0/labels/'"
            ],
            "application/vnd.google.colaboratory.intrinsic+json": {
              "type": "string"
            }
          },
          "metadata": {},
          "execution_count": 128
        }
      ]
    },
    {
      "cell_type": "code",
      "source": [
        "USE_PERSONS = True\n",
        "USE_PERSONS_THRESH = 15\n",
        "FRAMES_PER_EVENT = 35\n",
        "NUM_CLASSES = 3\n",
        "CONFIDENCE_INDEX = 5"
      ],
      "metadata": {
        "id": "2dlnCXa4deQS"
      },
      "execution_count": 135,
      "outputs": []
    },
    {
      "cell_type": "code",
      "source": [],
      "metadata": {
        "id": "YzCGdi4VPnDX"
      },
      "execution_count": 130,
      "outputs": []
    },
    {
      "cell_type": "code",
      "source": [
        "EVENTS_PER_VIDEO = {'1606b0e6_0': 396} # MAYBE CODE IT IN A BETTER WAY"
      ],
      "metadata": {
        "id": "eFgtiiTzO2yN"
      },
      "execution_count": 131,
      "outputs": []
    },
    {
      "cell_type": "code",
      "source": [
        "EVENTS_PER_VIDEO[video]"
      ],
      "metadata": {
        "colab": {
          "base_uri": "https://localhost:8080/"
        },
        "id": "bTnwWWyAPEAY",
        "outputId": "58b0caee-68ba-42f5-acd6-13f82bdb2b18"
      },
      "execution_count": 132,
      "outputs": [
        {
          "output_type": "execute_result",
          "data": {
            "text/plain": [
              "396"
            ]
          },
          "metadata": {},
          "execution_count": 132
        }
      ]
    },
    {
      "cell_type": "code",
      "source": [
        "# for c in range(NUM_CLASSES): # in range(3) TO FIND THE RIGHT CLASS, MAKE IT NICER\n",
        "#   try:\n",
        "#     identifier = f'{video}_{event}_{c}_{frame}' # e.g. '1606b0e6_0_0_0_0'\n",
        "#     label_txt = f'{identifier}.txt'\n",
        "#     with open(f'{current_labels}{label_txt}') as f:\n",
        "#       reader = f.read()\n",
        "#     y = c # save the class of the frame\n",
        "#     break\n",
        "#   except FileNotFoundError:\n",
        "#     pass"
      ],
      "metadata": {
        "id": "MEgQ2Wp4QesF"
      },
      "execution_count": 133,
      "outputs": []
    },
    {
      "cell_type": "code",
      "source": [
        "FRAMES_FORMAT = 'VIDEOID_EVENTID_CLASSID_ORDERID.jpg'"
      ],
      "metadata": {
        "id": "-qI3AMSmwJqr"
      },
      "execution_count": null,
      "outputs": []
    },
    {
      "cell_type": "code",
      "source": [
        "# We iterate over every event, from 0 to 395\n",
        "# We establish ball = False (in this event, ball wasn't yet recognized)\n",
        "# We should find f'1606b0e6_0_{frame}_' and establish y = what's following that\n",
        "# We iterate over every frame, from 0 to 34"
      ],
      "metadata": {
        "id": "xP5X7iVEvh06"
      },
      "execution_count": null,
      "outputs": []
    },
    {
      "cell_type": "code",
      "source": [
        "video"
      ],
      "metadata": {
        "colab": {
          "base_uri": "https://localhost:8080/",
          "height": 35
        },
        "id": "p6O5bq2Hxm-P",
        "outputId": "b7526a9e-ae6c-4377-d52f-2f1107932362"
      },
      "execution_count": 145,
      "outputs": [
        {
          "output_type": "execute_result",
          "data": {
            "text/plain": [
              "'1606b0e6_0'"
            ],
            "application/vnd.google.colaboratory.intrinsic+json": {
              "type": "string"
            }
          },
          "metadata": {},
          "execution_count": 145
        }
      ]
    },
    {
      "cell_type": "code",
      "source": [
        "eventt = 0"
      ],
      "metadata": {
        "id": "fVxjbbBNyUow"
      },
      "execution_count": 175,
      "outputs": []
    },
    {
      "cell_type": "code",
      "source": [
        "import glob\n",
        "import os\n",
        "\n",
        "substring = f'detect/{video}/{video}_{eventt}_'\n",
        "file = glob.glob(f'{substring}*.jpg')[ANY_INDEX]\n",
        "len_subs = len(substring)\n",
        "y = int(file[len_subs])\n",
        "y"
      ],
      "metadata": {
        "colab": {
          "base_uri": "https://localhost:8080/"
        },
        "id": "zs1oEgC9y5WK",
        "outputId": "5b4ec45a-5272-4e29-d74a-17bc3dcec27f"
      },
      "execution_count": 165,
      "outputs": [
        {
          "output_type": "execute_result",
          "data": {
            "text/plain": [
              "2"
            ]
          },
          "metadata": {},
          "execution_count": 165
        }
      ]
    },
    {
      "cell_type": "code",
      "source": [
        "! pwd"
      ],
      "metadata": {
        "colab": {
          "base_uri": "https://localhost:8080/"
        },
        "id": "cJtkNHNU1w58",
        "outputId": "916926e1-9031-449d-8bb8-24b139bd3c52"
      },
      "execution_count": 168,
      "outputs": [
        {
          "output_type": "stream",
          "name": "stdout",
          "text": [
            "/content/drive/MyDrive/Bundesliga/PositiveFrames\n"
          ]
        }
      ]
    },
    {
      "cell_type": "code",
      "source": [
        "video"
      ],
      "metadata": {
        "colab": {
          "base_uri": "https://localhost:8080/",
          "height": 35
        },
        "id": "lCHzrQ9_20ow",
        "outputId": "570207fa-adf7-4410-fa89-2c140dac55e7"
      },
      "execution_count": 178,
      "outputs": [
        {
          "output_type": "execute_result",
          "data": {
            "text/plain": [
              "'1606b0e6_0'"
            ],
            "application/vnd.google.colaboratory.intrinsic+json": {
              "type": "string"
            }
          },
          "metadata": {},
          "execution_count": 178
        }
      ]
    },
    {
      "cell_type": "code",
      "source": [
        "FOLDER_LABELS"
      ],
      "metadata": {
        "colab": {
          "base_uri": "https://localhost:8080/",
          "height": 35
        },
        "id": "rtcfK9Tn34WZ",
        "outputId": "ae69930d-bdbb-4dc3-fb05-e4f1ca0c8cda"
      },
      "execution_count": 181,
      "outputs": [
        {
          "output_type": "execute_result",
          "data": {
            "text/plain": [
              "'/content/drive/MyDrive/Bundesliga/PositiveFrames/detect/'"
            ],
            "application/vnd.google.colaboratory.intrinsic+json": {
              "type": "string"
            }
          },
          "metadata": {},
          "execution_count": 181
        }
      ]
    },
    {
      "cell_type": "code",
      "source": [
        "class_meanings = {0: 'challenge', 1: 'throw-in', 2: 'play'}"
      ],
      "metadata": {
        "id": "GMdTtJRX5qlY"
      },
      "execution_count": 185,
      "outputs": []
    },
    {
      "cell_type": "code",
      "source": [
        "# Challenges' frame between tolerances are respectively: 17 yes, 1 yes, 17 yes.\n",
        "# For play and throw-in are respectively: 9 no, 8 yes, 1 yes, 8 yes, 9 no."
      ],
      "metadata": {
        "id": "65PUI4Ul9Nrj"
      },
      "execution_count": null,
      "outputs": []
    },
    {
      "cell_type": "markdown",
      "source": [
        "We don't use persons since doesn't seem to be needed:"
      ],
      "metadata": {
        "id": "l_Gjg5xwCcoZ"
      }
    },
    {
      "cell_type": "code",
      "source": [
        "! pwd"
      ],
      "metadata": {
        "colab": {
          "base_uri": "https://localhost:8080/"
        },
        "id": "zxXCT0VyOISa",
        "outputId": "b593c651-595b-4090-924d-c394e7025939"
      },
      "execution_count": 194,
      "outputs": [
        {
          "output_type": "stream",
          "name": "stdout",
          "text": [
            "/content/drive/MyDrive/Bundesliga/PositiveFrames\n"
          ]
        }
      ]
    },
    {
      "cell_type": "code",
      "source": [
        "# We iterate over every event, from 0 to 395\n",
        "for event in range(EVENTS_PER_VIDEO[video]):\n",
        "  # We establish ball = False (in this event, ball wasn't yet recognized)\n",
        "  ball = False\n",
        "  # We should find for example f'1606b0e6_0_{frame}_' and establish y = what's following that \n",
        "  substring = f'{FOLDER_LABELS}/{video}/labels/{video}_{event}_'\n",
        "  file = glob.glob(f'{substring}*.txt')[ANY_INDEX]\n",
        "  len_subs = len(substring)\n",
        "  class_ = int(file[len_subs])\n",
        "\n",
        "  event_id = f'{video}_{event}_{class_}'\n",
        "\n",
        "  # We create a condition based on the class on how to iterate for the frames.\n",
        "  # Challenges' frame between tolerances are respectively: 17 yes, 1 yes, 17 yes.\n",
        "  # For play and throw-in are respectively: 9 no, 8 yes, 1 yes, 8 yes, 9 no.\n",
        "\n",
        "  # if class_ == 0: # if it's a challenge\n",
        "    \n",
        "  # TO AVOID BALL FPs: we iterate over every frames, from 18 to 34\n",
        "  \n",
        "  for frame in range(18, FRAMES_PER_EVENT - 2): # - 2 cause we need to use 2 more after the one detected\n",
        "    frame_id = f'{event_id}_{frame}' # e.g. '1606b0e6_0_0_0_0'\n",
        "    print(frame_id)\n",
        "    label_txt = f'{frame_id}.txt'\n",
        "    with open(f'{FOLDER_LABELS}{video}/labels/{label_txt}') as f:\n",
        "      reader = f.read()\n",
        "    detections = [i.split(' ') for i in reader.split('\\n')]\n",
        "    counter = 0\n",
        "\n",
        "    for detection in detections: # in a single frame\n",
        "\n",
        "      # confidences = list() # WE ARE NOT IMPLEMENTING CONFIDENCES FOR NOW AS IT MAY NOT BE RELEVANT\n",
        "      if detection[CLASS_INDEX] == BALL_CLASS:\n",
        "        # Ball is True for this event, it was detected in at least one of the frames.\n",
        "        ball = True\n",
        "        \n",
        "        # confidence = float(detection[CONFIDENCE_INDEX])\n",
        "\n",
        "        x = int(float(detection[X_INDEX]) * X_SIZE)\n",
        "        y = int(float(detection[Y_INDEX]) * Y_SIZE)\n",
        "        ymin = max(y - radius, 0)\n",
        "        ymax = min(y + radius, Y_SIZE)\n",
        "        xmin = max(x - radius, 0)\n",
        "        xmax = min(x + radius, X_SIZE)\n",
        "\n",
        "        # TO AVOID BALL FPs: we throw away detections that make the crop next to a limit of the frame\n",
        "        if ymin == 0 or ymax == Y_SIZE or xmin == 0 or xmax == X_SIZE:\n",
        "          ball = False\n",
        "\n",
        "        # We make sure all crops are 224x224 (this won't apply if code above is implemented)\n",
        "        # if ymin == 0:\n",
        "        #   ymax = CROP_SIZE # = 224\n",
        "        # elif ymax == Y_SIZE:\n",
        "        #   ymin = Y_SIZE - CROP_SIZE # = 1024 - 224\n",
        "        # if xmin == 0:\n",
        "        #   xmax = CROP_SIZE # == 224 \n",
        "        # elif xmax == X_SIZE:\n",
        "        #   xmin = X_SIZE - CROP_SIZE # = 1928 - 224\n",
        "\n",
        "        # break\n",
        "        if ball:\n",
        "          for r in range(frame, frame + 3): # 3: amount of frames per event\n",
        "            img = cv2.imread(f'{FOLDER_FRAMES}{video}/{event_id}_{r}.jpg')\n",
        "            cropped_image = img[ymin:ymax, xmin:xmax] # We change from (x, y) to (y, x) to work with cv2_imshow\n",
        "            cv2.imwrite(f'{POSITIVES_FOLDER}{frame_id}_{r}cropped.jpg', cropped_image)\n",
        "          break # breaks loop of detections in a single frame (so there are 3 per frame only)\n",
        "    if ball:      \n",
        "      break # breaks loop of frame in frames per event (so there are 3 per event only)\n"
      ],
      "metadata": {
        "colab": {
          "base_uri": "https://localhost:8080/",
          "height": 996
        },
        "id": "3j9G9lb6CZD9",
        "outputId": "4c7093cb-24d9-48ac-b4fa-b54c30a8e6c5"
      },
      "execution_count": 207,
      "outputs": [
        {
          "output_type": "stream",
          "name": "stdout",
          "text": [
            "1606b0e6_0_0_0_18\n",
            "1606b0e6_0_1_0_18\n",
            "1606b0e6_0_2_1_18\n",
            "1606b0e6_0_3_2_18\n",
            "1606b0e6_0_3_2_19\n",
            "1606b0e6_0_3_2_20\n",
            "1606b0e6_0_4_2_18\n",
            "1606b0e6_0_4_2_19\n",
            "1606b0e6_0_5_2_18\n",
            "1606b0e6_0_6_2_18\n",
            "1606b0e6_0_7_2_18\n",
            "1606b0e6_0_8_2_18\n",
            "1606b0e6_0_8_2_19\n",
            "1606b0e6_0_8_2_20\n",
            "1606b0e6_0_8_2_21\n",
            "1606b0e6_0_8_2_22\n",
            "1606b0e6_0_8_2_23\n",
            "1606b0e6_0_8_2_24\n",
            "1606b0e6_0_9_2_18\n",
            "1606b0e6_0_9_2_19\n",
            "1606b0e6_0_9_2_20\n",
            "1606b0e6_0_9_2_21\n",
            "1606b0e6_0_10_2_18\n",
            "1606b0e6_0_10_2_19\n",
            "1606b0e6_0_10_2_20\n",
            "1606b0e6_0_10_2_21\n",
            "1606b0e6_0_10_2_22\n",
            "1606b0e6_0_10_2_23\n",
            "1606b0e6_0_10_2_24\n",
            "1606b0e6_0_10_2_25\n",
            "1606b0e6_0_11_2_18\n",
            "1606b0e6_0_11_2_19\n",
            "1606b0e6_0_11_2_20\n",
            "1606b0e6_0_12_2_18\n"
          ]
        },
        {
          "output_type": "error",
          "ename": "KeyboardInterrupt",
          "evalue": "ignored",
          "traceback": [
            "\u001b[0;31m---------------------------------------------------------------------------\u001b[0m",
            "\u001b[0;31mKeyboardInterrupt\u001b[0m                         Traceback (most recent call last)",
            "\u001b[0;32m<ipython-input-207-80b5c93d8d41>\u001b[0m in \u001b[0;36m<module>\u001b[0;34m\u001b[0m\n\u001b[1;32m      5\u001b[0m   \u001b[0;31m# We should find for example f'1606b0e6_0_{frame}_' and establish y = what's following that\u001b[0m\u001b[0;34m\u001b[0m\u001b[0;34m\u001b[0m\u001b[0;34m\u001b[0m\u001b[0m\n\u001b[1;32m      6\u001b[0m   \u001b[0msubstring\u001b[0m \u001b[0;34m=\u001b[0m \u001b[0;34mf'{FOLDER_LABELS}/{video}/labels/{video}_{event}_'\u001b[0m\u001b[0;34m\u001b[0m\u001b[0;34m\u001b[0m\u001b[0m\n\u001b[0;32m----> 7\u001b[0;31m   \u001b[0mfile\u001b[0m \u001b[0;34m=\u001b[0m \u001b[0mglob\u001b[0m\u001b[0;34m.\u001b[0m\u001b[0mglob\u001b[0m\u001b[0;34m(\u001b[0m\u001b[0;34mf'{substring}*.txt'\u001b[0m\u001b[0;34m)\u001b[0m\u001b[0;34m[\u001b[0m\u001b[0mANY_INDEX\u001b[0m\u001b[0;34m]\u001b[0m\u001b[0;34m\u001b[0m\u001b[0;34m\u001b[0m\u001b[0m\n\u001b[0m\u001b[1;32m      8\u001b[0m   \u001b[0mlen_subs\u001b[0m \u001b[0;34m=\u001b[0m \u001b[0mlen\u001b[0m\u001b[0;34m(\u001b[0m\u001b[0msubstring\u001b[0m\u001b[0;34m)\u001b[0m\u001b[0;34m\u001b[0m\u001b[0;34m\u001b[0m\u001b[0m\n\u001b[1;32m      9\u001b[0m   \u001b[0mclass_\u001b[0m \u001b[0;34m=\u001b[0m \u001b[0mint\u001b[0m\u001b[0;34m(\u001b[0m\u001b[0mfile\u001b[0m\u001b[0;34m[\u001b[0m\u001b[0mlen_subs\u001b[0m\u001b[0;34m]\u001b[0m\u001b[0;34m)\u001b[0m\u001b[0;34m\u001b[0m\u001b[0;34m\u001b[0m\u001b[0m\n",
            "\u001b[0;32m/usr/lib/python3.7/glob.py\u001b[0m in \u001b[0;36mglob\u001b[0;34m(pathname, recursive)\u001b[0m\n\u001b[1;32m     18\u001b[0m     \u001b[0mzero\u001b[0m \u001b[0;32mor\u001b[0m \u001b[0mmore\u001b[0m \u001b[0mdirectories\u001b[0m \u001b[0;32mand\u001b[0m \u001b[0msubdirectories\u001b[0m\u001b[0;34m.\u001b[0m\u001b[0;34m\u001b[0m\u001b[0;34m\u001b[0m\u001b[0m\n\u001b[1;32m     19\u001b[0m     \"\"\"\n\u001b[0;32m---> 20\u001b[0;31m     \u001b[0;32mreturn\u001b[0m \u001b[0mlist\u001b[0m\u001b[0;34m(\u001b[0m\u001b[0miglob\u001b[0m\u001b[0;34m(\u001b[0m\u001b[0mpathname\u001b[0m\u001b[0;34m,\u001b[0m \u001b[0mrecursive\u001b[0m\u001b[0;34m=\u001b[0m\u001b[0mrecursive\u001b[0m\u001b[0;34m)\u001b[0m\u001b[0;34m)\u001b[0m\u001b[0;34m\u001b[0m\u001b[0;34m\u001b[0m\u001b[0m\n\u001b[0m\u001b[1;32m     21\u001b[0m \u001b[0;34m\u001b[0m\u001b[0m\n\u001b[1;32m     22\u001b[0m \u001b[0;32mdef\u001b[0m \u001b[0miglob\u001b[0m\u001b[0;34m(\u001b[0m\u001b[0mpathname\u001b[0m\u001b[0;34m,\u001b[0m \u001b[0;34m*\u001b[0m\u001b[0;34m,\u001b[0m \u001b[0mrecursive\u001b[0m\u001b[0;34m=\u001b[0m\u001b[0;32mFalse\u001b[0m\u001b[0;34m)\u001b[0m\u001b[0;34m:\u001b[0m\u001b[0;34m\u001b[0m\u001b[0;34m\u001b[0m\u001b[0m\n",
            "\u001b[0;32m/usr/lib/python3.7/glob.py\u001b[0m in \u001b[0;36m_iglob\u001b[0;34m(pathname, recursive, dironly)\u001b[0m\n\u001b[1;32m     70\u001b[0m         \u001b[0mglob_in_dir\u001b[0m \u001b[0;34m=\u001b[0m \u001b[0m_glob0\u001b[0m\u001b[0;34m\u001b[0m\u001b[0;34m\u001b[0m\u001b[0m\n\u001b[1;32m     71\u001b[0m     \u001b[0;32mfor\u001b[0m \u001b[0mdirname\u001b[0m \u001b[0;32min\u001b[0m \u001b[0mdirs\u001b[0m\u001b[0;34m:\u001b[0m\u001b[0;34m\u001b[0m\u001b[0;34m\u001b[0m\u001b[0m\n\u001b[0;32m---> 72\u001b[0;31m         \u001b[0;32mfor\u001b[0m \u001b[0mname\u001b[0m \u001b[0;32min\u001b[0m \u001b[0mglob_in_dir\u001b[0m\u001b[0;34m(\u001b[0m\u001b[0mdirname\u001b[0m\u001b[0;34m,\u001b[0m \u001b[0mbasename\u001b[0m\u001b[0;34m,\u001b[0m \u001b[0mdironly\u001b[0m\u001b[0;34m)\u001b[0m\u001b[0;34m:\u001b[0m\u001b[0;34m\u001b[0m\u001b[0;34m\u001b[0m\u001b[0m\n\u001b[0m\u001b[1;32m     73\u001b[0m             \u001b[0;32myield\u001b[0m \u001b[0mos\u001b[0m\u001b[0;34m.\u001b[0m\u001b[0mpath\u001b[0m\u001b[0;34m.\u001b[0m\u001b[0mjoin\u001b[0m\u001b[0;34m(\u001b[0m\u001b[0mdirname\u001b[0m\u001b[0;34m,\u001b[0m \u001b[0mname\u001b[0m\u001b[0;34m)\u001b[0m\u001b[0;34m\u001b[0m\u001b[0;34m\u001b[0m\u001b[0m\n\u001b[1;32m     74\u001b[0m \u001b[0;34m\u001b[0m\u001b[0m\n",
            "\u001b[0;32m/usr/lib/python3.7/glob.py\u001b[0m in \u001b[0;36m_glob1\u001b[0;34m(dirname, pattern, dironly)\u001b[0m\n\u001b[1;32m     78\u001b[0m \u001b[0;34m\u001b[0m\u001b[0m\n\u001b[1;32m     79\u001b[0m \u001b[0;32mdef\u001b[0m \u001b[0m_glob1\u001b[0m\u001b[0;34m(\u001b[0m\u001b[0mdirname\u001b[0m\u001b[0;34m,\u001b[0m \u001b[0mpattern\u001b[0m\u001b[0;34m,\u001b[0m \u001b[0mdironly\u001b[0m\u001b[0;34m)\u001b[0m\u001b[0;34m:\u001b[0m\u001b[0;34m\u001b[0m\u001b[0;34m\u001b[0m\u001b[0m\n\u001b[0;32m---> 80\u001b[0;31m     \u001b[0mnames\u001b[0m \u001b[0;34m=\u001b[0m \u001b[0mlist\u001b[0m\u001b[0;34m(\u001b[0m\u001b[0m_iterdir\u001b[0m\u001b[0;34m(\u001b[0m\u001b[0mdirname\u001b[0m\u001b[0;34m,\u001b[0m \u001b[0mdironly\u001b[0m\u001b[0;34m)\u001b[0m\u001b[0;34m)\u001b[0m\u001b[0;34m\u001b[0m\u001b[0;34m\u001b[0m\u001b[0m\n\u001b[0m\u001b[1;32m     81\u001b[0m     \u001b[0;32mif\u001b[0m \u001b[0;32mnot\u001b[0m \u001b[0m_ishidden\u001b[0m\u001b[0;34m(\u001b[0m\u001b[0mpattern\u001b[0m\u001b[0;34m)\u001b[0m\u001b[0;34m:\u001b[0m\u001b[0;34m\u001b[0m\u001b[0;34m\u001b[0m\u001b[0m\n\u001b[1;32m     82\u001b[0m         \u001b[0mnames\u001b[0m \u001b[0;34m=\u001b[0m \u001b[0;34m(\u001b[0m\u001b[0mx\u001b[0m \u001b[0;32mfor\u001b[0m \u001b[0mx\u001b[0m \u001b[0;32min\u001b[0m \u001b[0mnames\u001b[0m \u001b[0;32mif\u001b[0m \u001b[0;32mnot\u001b[0m \u001b[0m_ishidden\u001b[0m\u001b[0;34m(\u001b[0m\u001b[0mx\u001b[0m\u001b[0;34m)\u001b[0m\u001b[0;34m)\u001b[0m\u001b[0;34m\u001b[0m\u001b[0;34m\u001b[0m\u001b[0m\n",
            "\u001b[0;32m/usr/lib/python3.7/glob.py\u001b[0m in \u001b[0;36m_iterdir\u001b[0;34m(dirname, dironly)\u001b[0m\n\u001b[1;32m    119\u001b[0m             \u001b[0mdirname\u001b[0m \u001b[0;34m=\u001b[0m \u001b[0mos\u001b[0m\u001b[0;34m.\u001b[0m\u001b[0mcurdir\u001b[0m\u001b[0;34m\u001b[0m\u001b[0;34m\u001b[0m\u001b[0m\n\u001b[1;32m    120\u001b[0m     \u001b[0;32mtry\u001b[0m\u001b[0;34m:\u001b[0m\u001b[0;34m\u001b[0m\u001b[0;34m\u001b[0m\u001b[0m\n\u001b[0;32m--> 121\u001b[0;31m         \u001b[0;32mwith\u001b[0m \u001b[0mos\u001b[0m\u001b[0;34m.\u001b[0m\u001b[0mscandir\u001b[0m\u001b[0;34m(\u001b[0m\u001b[0mdirname\u001b[0m\u001b[0;34m)\u001b[0m \u001b[0;32mas\u001b[0m \u001b[0mit\u001b[0m\u001b[0;34m:\u001b[0m\u001b[0;34m\u001b[0m\u001b[0;34m\u001b[0m\u001b[0m\n\u001b[0m\u001b[1;32m    122\u001b[0m             \u001b[0;32mfor\u001b[0m \u001b[0mentry\u001b[0m \u001b[0;32min\u001b[0m \u001b[0mit\u001b[0m\u001b[0;34m:\u001b[0m\u001b[0;34m\u001b[0m\u001b[0;34m\u001b[0m\u001b[0m\n\u001b[1;32m    123\u001b[0m                 \u001b[0;32mtry\u001b[0m\u001b[0;34m:\u001b[0m\u001b[0;34m\u001b[0m\u001b[0;34m\u001b[0m\u001b[0m\n",
            "\u001b[0;31mKeyboardInterrupt\u001b[0m: "
          ]
        }
      ]
    },
    {
      "cell_type": "markdown",
      "source": [
        "We use persons:"
      ],
      "metadata": {
        "id": "1oqo6VgnKHkr"
      }
    },
    {
      "cell_type": "code",
      "source": [
        "# # We iterate over every event, from 0 to 395\n",
        "# for event in range(EVENTS_PER_VIDEO[video]):\n",
        "#   # We establish ball = False (in this event, ball wasn't yet recognized)\n",
        "#   ball = False\n",
        "#   # We should find for example f'1606b0e6_0_{frame}_' and establish y = what's following that \n",
        "#   substring = f'{FOLDER_LABELS}/{video}/labels/{video}_{event}_'\n",
        "#   file = glob.glob(f'{substring}*.txt')[ANY_INDEX]\n",
        "#   len_subs = len(substring)\n",
        "#   y = int(file[len_subs])\n",
        "#   # We create a condition based on the class on how to iterate for the frames.\n",
        "#   # Challenges' frame between tolerances are respectively: 17 yes, 1 yes, 17 yes.\n",
        "#   # For play and throw-in are respectively: 9 no, 8 yes, 1 yes, 8 yes, 9 no.\n",
        "#   if y == 0: # if it's a challenge\n",
        "\n",
        "#   # We iterate over every frame, from 0 to 34\n",
        "#   for frame in range(FRAMES_PER_EVENT):\n",
        "#     identifier = f'{video}_{event}_{y}_{frame}' # e.g. '1606b0e6_0_0_0_0'\n",
        "#     label_txt = f'{identifier}.txt'\n",
        "#     with open(f'{FOLDER_LABELS}{video}/labels/{label_txt}') as f:\n",
        "#       reader = f.read()\n",
        "#     objects = [i.split(' ') for i in reader.split('\\n')]\n",
        "#     print(identifier)\n",
        "#     counter = 0\n",
        "\n",
        "#     for object_ in objects:\n",
        "#       # confidences = list() # WE ARE NOT IMPLEMENTING CONFIDENCES FOR NOW AS IT MAY NOT BE RELEVANT\n",
        "#       if object_[CLASS_INDEX] == BALL_CLASS:\n",
        "#         # Ball is True for this event, it was detected in at least one of the frames.\n",
        "#         ball = True\n",
        "#         # confidence = float(object_[CONFIDENCE_INDEX])\n",
        "#         x = int(float(object_[X_INDEX]) * X_SIZE)\n",
        "#         y = int(float(object_[Y_INDEX]) * Y_SIZE)\n",
        "#         ymin = max(y - radius, 0)\n",
        "#         ymax = min(y + radius, Y_SIZE)\n",
        "#         xmin = max(x - radius, 0)\n",
        "#         xmax = min(x + radius, X_SIZE)\n",
        "\n",
        "#         # TO AVOID FPs: we throw away detections that make the crop next to a limit of the frame\n",
        "#         if ymin == 0 or ymax == Y_SIZE or xmin == 0 or xmax = X_SIZE:\n",
        "#           ball = False\n",
        "\n",
        "#         # We make sure all crops are 224x224 (this won't apply if code above is implemented)\n",
        "#         # if ymin == 0:\n",
        "#         #   ymax = CROP_SIZE # = 224\n",
        "#         # elif ymax == Y_SIZE:\n",
        "#         #   ymin = Y_SIZE - CROP_SIZE # = 1024 - 224\n",
        "#         # if xmin == 0:\n",
        "#         #   xmax = CROP_SIZE # == 224 \n",
        "#         # elif xmax == X_SIZE:\n",
        "#         #   xmin = X_SIZE - CROP_SIZE # = 1928 - 224\n",
        "\n",
        "#         if ball:\n",
        "#           img = cv2.imread(frame + '.jpg')\n",
        "#           cropped_image = img[ymin:ymax, xmin:xmax] # We change from (x, y) to (y, x) to work with cv2_imshow\n",
        "#           cv2.imwrite(f'{FOLDER_FRAMES}{frame}_cropped.jpg', cropped_image)\n",
        "      \n",
        "#     if not ball and USE_PERSONS:\n",
        "#       counter += 1\n",
        "#     if counter == USE_PERSONS_THRESH: \n",
        "#       # Maybe create a counter += 1, and when the ball is not detected in 15? consecutive frames, generate the location like this:\n",
        "#       FIRST_FILENAME_INDEX = 1\n",
        "#       label_txt = f'{video}_{FIRST_FILENAME_INDEX}.txt'\n",
        "#       with open(f'{FOLDER_LABELS}{label_txt}') as f: # Actually the reading should have happened before, so I may have to check this.\n",
        "#         reader = f.read()\n",
        "#       objects = [i.split(' ') for i in reader.split('\\n')][:-1]\n",
        "#       arr = np.array(objects)\n",
        "#       persons = arr[arr[:, 0] == '0']\n",
        "#       xy_persons = persons[:, X_INDEX:Y_INDEX + 1].astype(float)\n",
        "#       dists = cdist(xy_persons, xy_persons)\n",
        "#       dists[dists == 0] = dists.max()\n",
        "#       arg1, arg2 = np.unravel_index(dists.argmin(), dists.shape)\n",
        "#       two_people = xy_persons[[arg1, arg2]]\n",
        "#       frame_center = np.mean(two_people, axis=0)"
      ],
      "metadata": {
        "colab": {
          "base_uri": "https://localhost:8080/",
          "height": 276
        },
        "id": "H-PcfnszK4Xy",
        "outputId": "d86e0b49-3df5-4dc3-ca1f-44c4c399e990"
      },
      "execution_count": 184,
      "outputs": [
        {
          "output_type": "stream",
          "name": "stdout",
          "text": [
            "1606b0e6_0_0_0_0\n",
            "1606b0e6_0_0_0_1\n"
          ]
        },
        {
          "output_type": "error",
          "ename": "TypeError",
          "evalue": "ignored",
          "traceback": [
            "\u001b[0;31m---------------------------------------------------------------------------\u001b[0m",
            "\u001b[0;31mTypeError\u001b[0m                                 Traceback (most recent call last)",
            "\u001b[0;32m<ipython-input-184-b1bb1f48e59e>\u001b[0m in \u001b[0;36m<module>\u001b[0;34m\u001b[0m\n\u001b[1;32m     31\u001b[0m         \u001b[0mxmax\u001b[0m \u001b[0;34m=\u001b[0m \u001b[0mmin\u001b[0m\u001b[0;34m(\u001b[0m\u001b[0mx\u001b[0m \u001b[0;34m+\u001b[0m \u001b[0mradius\u001b[0m\u001b[0;34m,\u001b[0m \u001b[0mX_SIZE\u001b[0m\u001b[0;34m)\u001b[0m\u001b[0;34m\u001b[0m\u001b[0;34m\u001b[0m\u001b[0m\n\u001b[1;32m     32\u001b[0m \u001b[0;34m\u001b[0m\u001b[0m\n\u001b[0;32m---> 33\u001b[0;31m         \u001b[0mimg\u001b[0m \u001b[0;34m=\u001b[0m \u001b[0mcv2\u001b[0m\u001b[0;34m.\u001b[0m\u001b[0mimread\u001b[0m\u001b[0;34m(\u001b[0m\u001b[0mframe\u001b[0m \u001b[0;34m+\u001b[0m \u001b[0;34m'.jpg'\u001b[0m\u001b[0;34m)\u001b[0m\u001b[0;34m\u001b[0m\u001b[0;34m\u001b[0m\u001b[0m\n\u001b[0m\u001b[1;32m     34\u001b[0m         \u001b[0mcropped_image\u001b[0m \u001b[0;34m=\u001b[0m \u001b[0mimg\u001b[0m\u001b[0;34m[\u001b[0m\u001b[0mymin\u001b[0m\u001b[0;34m:\u001b[0m\u001b[0mymax\u001b[0m\u001b[0;34m,\u001b[0m \u001b[0mxmin\u001b[0m\u001b[0;34m:\u001b[0m\u001b[0mxmax\u001b[0m\u001b[0;34m]\u001b[0m \u001b[0;31m# We change from (x, y) to (y, x) to work with cv2_imshow\u001b[0m\u001b[0;34m\u001b[0m\u001b[0;34m\u001b[0m\u001b[0m\n\u001b[1;32m     35\u001b[0m         \u001b[0mcv2\u001b[0m\u001b[0;34m.\u001b[0m\u001b[0mimwrite\u001b[0m\u001b[0;34m(\u001b[0m\u001b[0;34mf'{FOLDER_FRAMES}{frame}_cropped.jpg'\u001b[0m\u001b[0;34m,\u001b[0m \u001b[0mcropped_image\u001b[0m\u001b[0;34m)\u001b[0m\u001b[0;34m\u001b[0m\u001b[0;34m\u001b[0m\u001b[0m\n",
            "\u001b[0;31mTypeError\u001b[0m: unsupported operand type(s) for +: 'int' and 'str'"
          ]
        }
      ]
    },
    {
      "cell_type": "code",
      "source": [
        "# for i, frame in enumerate(filenames, 1): # frame of video (filenames contains frames of a single video)\n",
        "#   label_txt = f'{video}_{i}.txt'\n",
        "#   with open(f'{FOLDER_LABELS}{label_txt}') as f:\n",
        "#     reader = f.read()\n",
        "#   objects = [i.split(' ') for i in reader.split('\\n')]\n",
        "#   ball = False\n",
        "#   counter = 0\n",
        "\n",
        "#   for object_ in objects:\n",
        "#     if object_[CLASS_INDEX] == BALL_CLASS:\n",
        "#       ball = True\n",
        "#       x = int(float(object_[X_INDEX]) * X_SIZE)\n",
        "#       y = int(float(object_[Y_INDEX]) * Y_SIZE)\n",
        "#       ymin = max(y - radius, 0)\n",
        "#       ymax = min(y + radius, Y_SIZE)\n",
        "#       xmin = max(x - radius, 0)\n",
        "#       xmax = min(x + radius, X_SIZE)\n",
        "\n",
        "#       img = cv2.imread(frame + '.jpg') # IT CROPS MORE THAN 1 WHEN 2 OR MORE BALLS ARE IN A FRAME, BUT IT OVERWRITES IT\n",
        "#       cropped_image = img[ymin:ymax, xmin:xmax] # We change from (x, y) to (y, x) to work with cv2_imshow\n",
        "#       cv2.imwrite(f'{FOLDER_FRAMES}{frame}_cropped.jpg', cropped_image)\n",
        "    \n",
        "#   if not ball and USE_PERSONS:\n",
        "#     counter += 1\n",
        "#   if counter == USE_PERSONS_THRESH: \n",
        "#     # Maybe create a counter += 1, and when the ball is not detected in 15? consecutive frames, generate the location like this:\n",
        "#     FIRST_FILENAME_INDEX = 1\n",
        "#     label_txt = f'{video}_{FIRST_FILENAME_INDEX}.txt'\n",
        "#     with open(f'{FOLDER_LABELS}{label_txt}') as f: # Actually the reading should have happened before, so I may have to check this.\n",
        "#       reader = f.read()\n",
        "#     objects = [i.split(' ') for i in reader.split('\\n')][:-1]\n",
        "#     arr = np.array(objects)\n",
        "#     persons = arr[arr[:, 0] == '0']\n",
        "#     xy_persons = persons[:, X_INDEX:Y_INDEX + 1].astype(float)\n",
        "#     dists = cdist(xy_persons, xy_persons)\n",
        "#     dists[dists == 0] = dists.max()\n",
        "#     arg1, arg2 = np.unravel_index(dists.argmin(), dists.shape)\n",
        "#     two_people = xy_persons[[arg1, arg2]]\n",
        "#     frame_center = np.mean(two_people, axis=0)"
      ],
      "metadata": {
        "colab": {
          "base_uri": "https://localhost:8080/",
          "height": 240
        },
        "id": "mwEvYAVuXiyv",
        "outputId": "4b546fba-2c0d-4b10-8f83-1f2fac233f80"
      },
      "execution_count": 21,
      "outputs": [
        {
          "output_type": "error",
          "ename": "NameError",
          "evalue": "ignored",
          "traceback": [
            "\u001b[0;31m---------------------------------------------------------------------------\u001b[0m",
            "\u001b[0;31mNameError\u001b[0m                                 Traceback (most recent call last)",
            "\u001b[0;32m<ipython-input-21-764482820e0e>\u001b[0m in \u001b[0;36m<module>\u001b[0;34m\u001b[0m\n\u001b[1;32m      1\u001b[0m \u001b[0;32mfor\u001b[0m \u001b[0mi\u001b[0m\u001b[0;34m,\u001b[0m \u001b[0mframe\u001b[0m \u001b[0;32min\u001b[0m \u001b[0menumerate\u001b[0m\u001b[0;34m(\u001b[0m\u001b[0mfilenames\u001b[0m\u001b[0;34m,\u001b[0m \u001b[0;36m1\u001b[0m\u001b[0;34m)\u001b[0m\u001b[0;34m:\u001b[0m \u001b[0;31m# frame of video (filenames contains frames of a single video)\u001b[0m\u001b[0;34m\u001b[0m\u001b[0;34m\u001b[0m\u001b[0m\n\u001b[0;32m----> 2\u001b[0;31m   \u001b[0mlabel_txt\u001b[0m \u001b[0;34m=\u001b[0m \u001b[0;34mf'{video}_{i}.txt'\u001b[0m\u001b[0;34m\u001b[0m\u001b[0;34m\u001b[0m\u001b[0m\n\u001b[0m\u001b[1;32m      3\u001b[0m   \u001b[0;32mwith\u001b[0m \u001b[0mopen\u001b[0m\u001b[0;34m(\u001b[0m\u001b[0;34mf'{FOLDER_LABELS}{label_txt}'\u001b[0m\u001b[0;34m)\u001b[0m \u001b[0;32mas\u001b[0m \u001b[0mf\u001b[0m\u001b[0;34m:\u001b[0m\u001b[0;34m\u001b[0m\u001b[0;34m\u001b[0m\u001b[0m\n\u001b[1;32m      4\u001b[0m     \u001b[0mreader\u001b[0m \u001b[0;34m=\u001b[0m \u001b[0mf\u001b[0m\u001b[0;34m.\u001b[0m\u001b[0mread\u001b[0m\u001b[0;34m(\u001b[0m\u001b[0;34m)\u001b[0m\u001b[0;34m\u001b[0m\u001b[0;34m\u001b[0m\u001b[0m\n\u001b[1;32m      5\u001b[0m   \u001b[0midentified_objects\u001b[0m \u001b[0;34m=\u001b[0m \u001b[0;34m[\u001b[0m\u001b[0mi\u001b[0m\u001b[0;34m.\u001b[0m\u001b[0msplit\u001b[0m\u001b[0;34m(\u001b[0m\u001b[0;34m' '\u001b[0m\u001b[0;34m)\u001b[0m \u001b[0;32mfor\u001b[0m \u001b[0mi\u001b[0m \u001b[0;32min\u001b[0m \u001b[0mreader\u001b[0m\u001b[0;34m.\u001b[0m\u001b[0msplit\u001b[0m\u001b[0;34m(\u001b[0m\u001b[0;34m'\\n'\u001b[0m\u001b[0;34m)\u001b[0m\u001b[0;34m]\u001b[0m\u001b[0;34m\u001b[0m\u001b[0;34m\u001b[0m\u001b[0m\n",
            "\u001b[0;31mNameError\u001b[0m: name 'video' is not defined"
          ]
        }
      ]
    },
    {
      "cell_type": "code",
      "source": [],
      "metadata": {
        "id": "t-mohjVKX1Wi"
      },
      "execution_count": null,
      "outputs": []
    },
    {
      "cell_type": "code",
      "source": [],
      "metadata": {
        "id": "XRNqhoTlX1db"
      },
      "execution_count": null,
      "outputs": []
    },
    {
      "cell_type": "code",
      "source": [],
      "metadata": {
        "id": "Dv6louggX1f9"
      },
      "execution_count": null,
      "outputs": []
    },
    {
      "cell_type": "code",
      "source": [],
      "metadata": {
        "id": "aZ0zUPm8X1iR"
      },
      "execution_count": null,
      "outputs": []
    },
    {
      "cell_type": "code",
      "source": [],
      "metadata": {
        "id": "OudN76PKX1kz"
      },
      "execution_count": null,
      "outputs": []
    },
    {
      "cell_type": "code",
      "source": [],
      "metadata": {
        "id": "riEVe21DX1nH"
      },
      "execution_count": null,
      "outputs": []
    }
  ]
}