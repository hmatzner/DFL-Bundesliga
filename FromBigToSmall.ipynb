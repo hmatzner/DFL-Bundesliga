{
  "nbformat": 4,
  "nbformat_minor": 0,
  "metadata": {
    "colab": {
      "provenance": [],
      "collapsed_sections": []
    },
    "kernelspec": {
      "name": "python3",
      "display_name": "Python 3"
    },
    "language_info": {
      "name": "python"
    }
  },
  "cells": [
    {
      "cell_type": "markdown",
      "source": [
        "## Setup"
      ],
      "metadata": {
        "id": "TSD2IAAnU3Z2"
      }
    },
    {
      "cell_type": "code",
      "execution_count": 1,
      "metadata": {
        "id": "W-JMrk7uUwPO"
      },
      "outputs": [],
      "source": [
        "import sys\n",
        "import os\n",
        "import numpy as np\n",
        "import matplotlib.pyplot as plt\n",
        "import cv2\n",
        "from scipy.spatial.distance import cdist\n",
        "from google.colab.patches import cv2_imshow"
      ]
    },
    {
      "cell_type": "code",
      "source": [
        "from os import listdir\n",
        "from os.path import isfile, join\n",
        "import glob"
      ],
      "metadata": {
        "id": "px-ibzlADEtP"
      },
      "execution_count": 2,
      "outputs": []
    },
    {
      "cell_type": "code",
      "source": [
        "from google.colab import drive\n",
        "drive.mount('/content/drive')"
      ],
      "metadata": {
        "colab": {
          "base_uri": "https://localhost:8080/"
        },
        "id": "7BgBuv8oU6X3",
        "outputId": "b7fcd6ab-fc37-470b-dba6-bd8dcf81630b"
      },
      "execution_count": 3,
      "outputs": [
        {
          "output_type": "stream",
          "name": "stdout",
          "text": [
            "Mounted at /content/drive\n"
          ]
        }
      ]
    },
    {
      "cell_type": "markdown",
      "source": [
        "## Cropping original frames"
      ],
      "metadata": {
        "id": "OgxGdDBfVo1z"
      }
    },
    {
      "cell_type": "code",
      "source": [
        "# video = '1606b0e6_0'"
      ],
      "metadata": {
        "id": "IWgbKwFkIt_I"
      },
      "execution_count": null,
      "outputs": []
    },
    {
      "cell_type": "code",
      "source": [
        "CLASS_INDEX = 0\n",
        "X_INDEX = 1\n",
        "Y_INDEX = 2\n",
        "PERSON_CLASS = '0'\n",
        "BALL_CLASS = '32'\n",
        "X_SIZE = 1928\n",
        "Y_SIZE = 1024\n",
        "CROP_SIZE = 224 # pixels, size of crop = (CROP_SIZExCROP_SIZE)\n",
        "radius = int(CROP_SIZE / 2)\n",
        "ANY_INDEX = 0"
      ],
      "metadata": {
        "id": "mPxkGrYLVmj3"
      },
      "execution_count": 4,
      "outputs": []
    },
    {
      "cell_type": "code",
      "source": [
        "# files = [file for file in listdir(FOLDER_FRAMES) if isfile(join(FOLDER_FRAMES, file))] # get a list of files in the directory\n",
        "# filenames = [os.path.splitext(filename)[0] for filename in files] # separate filenames from their extension .jpg"
      ],
      "metadata": {
        "id": "xGk_AYmYVuGG"
      },
      "execution_count": 5,
      "outputs": []
    },
    {
      "cell_type": "markdown",
      "source": [
        "## Test: doing above by iterating over 2 different folders (frames and labels)"
      ],
      "metadata": {
        "id": "lWB-yCa8hK_M"
      }
    },
    {
      "cell_type": "code",
      "source": [
        "POSITIVES_FOLDER = '/content/drive/MyDrive/Bundesliga/PositiveFrames/'\n",
        "FOLDER_LABELS = POSITIVES_FOLDER + 'detect/'\n",
        "FOLDER_FRAMES = POSITIVES_FOLDER + 'frames_ms2/'\n",
        "\n",
        "FIRST_FRAMES = FOLDER_FRAMES + '1606b0e6_0/'\n",
        "SECOND_FRAMES = FOLDER_FRAMES + '1606b0e6_1/'"
      ],
      "metadata": {
        "id": "IFKn6V_6p4D3"
      },
      "execution_count": 6,
      "outputs": []
    },
    {
      "cell_type": "code",
      "source": [
        "CURRENT_FOLDER = POSITIVES_FOLDER\n",
        "os.chdir(CURRENT_FOLDER)\n",
        "! pwd"
      ],
      "metadata": {
        "colab": {
          "base_uri": "https://localhost:8080/"
        },
        "id": "qA0qXb3up4G5",
        "outputId": "4d140dbb-1722-4fb7-a256-481fa6db59a1"
      },
      "execution_count": 7,
      "outputs": [
        {
          "output_type": "stream",
          "name": "stdout",
          "text": [
            "/content/drive/MyDrive/Bundesliga/PositiveFrames\n"
          ]
        }
      ]
    },
    {
      "cell_type": "markdown",
      "source": [
        "## Main code:"
      ],
      "metadata": {
        "id": "YILd4Fh8KVxf"
      }
    },
    {
      "cell_type": "code",
      "source": [
        "# video = \"_\".join(filenames[ANY_INDEX].split(\"_\", 2)[:2])\n",
        "# rest = ''.join(filenames[ANY_INDEX].split(\"_\", 2)[2:])\n",
        "# y = filenames[ANY_INDEX].split(\"_\")[3]\n",
        "# video, rest, y"
      ],
      "metadata": {
        "id": "eN-NBasZGery"
      },
      "execution_count": 8,
      "outputs": []
    },
    {
      "cell_type": "code",
      "source": [
        "# current_labels = FOLDER_LABELS + video + '/labels/'\n",
        "# current_labels"
      ],
      "metadata": {
        "id": "W66O2BcEJn62"
      },
      "execution_count": 9,
      "outputs": []
    },
    {
      "cell_type": "code",
      "source": [
        "USE_PERSONS = True\n",
        "USE_PERSONS_THRESH = 15\n",
        "FRAMES_PER_EVENT = 35\n",
        "NUM_CLASSES = 3\n",
        "CONFIDENCE_INDEX = 5"
      ],
      "metadata": {
        "id": "2dlnCXa4deQS"
      },
      "execution_count": 201,
      "outputs": []
    },
    {
      "cell_type": "markdown",
      "source": [
        "FRAMES_FORMAT = 'VIDEOID_EVENTID_CLASSID_ORDERID.jpg'"
      ],
      "metadata": {
        "id": "LrsxTs5Nh4bS"
      }
    },
    {
      "cell_type": "markdown",
      "source": [
        "Class meanings = {0: 'challenge', 1: 'throw-in', 2: 'play'}"
      ],
      "metadata": {
        "id": "9GthaQp-h4en"
      }
    },
    {
      "cell_type": "code",
      "source": [
        "# Challenges' frame between tolerances are respectively: 17 yes, 1 yes, 17 yes.\n",
        "# For play and throw-in are respectively: 9 no, 8 yes, 1 yes, 8 yes, 9 no."
      ],
      "metadata": {
        "id": "65PUI4Ul9Nrj"
      },
      "execution_count": null,
      "outputs": []
    },
    {
      "cell_type": "markdown",
      "source": [
        "Implementation:"
      ],
      "metadata": {
        "id": "gcKkZJBiGvBM"
      }
    },
    {
      "cell_type": "code",
      "source": [
        "video_ids = ['1606b0e6_0', '1606b0e6_1',\n",
        "             'cfbe2e94_0', 'cfbe2e94_1',\n",
        "             'ecf251d4_0',\n",
        "             '3c993bd2_0', '3c993bd2_1',\n",
        "             '4ffd5986_0', \n",
        "             '9a97dae4_1', \n",
        "             '35bd9041_0', '35bd9041_1',\n",
        "             '407c5a9e_1']"
      ],
      "metadata": {
        "id": "6eR51laT9JhF"
      },
      "execution_count": 10,
      "outputs": []
    },
    {
      "cell_type": "code",
      "source": [
        "EVENTS_PER_VIDEO = {'1606b0e6_0': 396,\n",
        "                    # '1606b0e6_1':,\n",
        "                    'cfbe2e94_0': 305,\n",
        "                    'cfbe2e94_1': 285,\n",
        "                    'ecf251d4_0': 386,\n",
        "                    '3c993bd2_1': 376,\n",
        "                    # '3c993bd2_1':,\n",
        "                    '4ffd5986_0': 302,\n",
        "                    '9a97dae4_1': 291,\n",
        "                    # '35bd9041_0':, \n",
        "                    # '35bd9041_1':,\n",
        "                    '407c5a9e_1': 350,\n",
        "                    }\n",
        "# MAYBE CODE IT IN A BETTER WAY"
      ],
      "metadata": {
        "id": "_qJBcx_0Ny-w"
      },
      "execution_count": 197,
      "outputs": []
    },
    {
      "cell_type": "code",
      "source": [
        "# ! cat frames_ms2/3c993bd2_1 | find \"3c993bd2_1_105\" # DOESN'T WORK"
      ],
      "metadata": {
        "id": "nmxS2Gb9Oy8-"
      },
      "execution_count": 15,
      "outputs": []
    },
    {
      "cell_type": "code",
      "source": [
        "# ! grep \"3c993bd2_1_105\" frames_ms2/3c993bd2_1 # DOESN'T WORK"
      ],
      "metadata": {
        "id": "dSmI6GSGOa_R"
      },
      "execution_count": 16,
      "outputs": []
    },
    {
      "cell_type": "code",
      "source": [
        "# ! ls frames_ms2/3c993bd2_1"
      ],
      "metadata": {
        "id": "5T2mjqM9N9Fr"
      },
      "execution_count": 17,
      "outputs": []
    },
    {
      "cell_type": "code",
      "source": [
        "POSITIVES_FOLDER = '/content/drive/MyDrive/Bundesliga/PositiveFrames/'\n",
        "FOLDER_LABELS = POSITIVES_FOLDER + 'detect/'\n",
        "FOLDER_FRAMES = POSITIVES_FOLDER + 'frames_ms2/'\n",
        "\n",
        "FIRST_FRAMES = FOLDER_FRAMES + '1606b0e6_0/'\n",
        "SECOND_FRAMES = FOLDER_FRAMES + '1606b0e6_1/'"
      ],
      "metadata": {
        "id": "ACyLvsBe8Dwn"
      },
      "execution_count": 18,
      "outputs": []
    },
    {
      "cell_type": "code",
      "source": [
        "os.chdir(POSITIVES_FOLDER)\n",
        "! pwd"
      ],
      "metadata": {
        "colab": {
          "base_uri": "https://localhost:8080/"
        },
        "id": "zxXCT0VyOISa",
        "outputId": "25021332-9fdd-4918-a259-cf4f52ce6634"
      },
      "execution_count": 198,
      "outputs": [
        {
          "output_type": "stream",
          "name": "stdout",
          "text": [
            "/content/drive/MyDrive/Bundesliga/PositiveFrames\n"
          ]
        }
      ]
    },
    {
      "cell_type": "code",
      "source": [
        "# ! mkdir crops"
      ],
      "metadata": {
        "id": "oEczTD7kl4Jm"
      },
      "execution_count": 20,
      "outputs": []
    },
    {
      "cell_type": "code",
      "source": [
        "FIRST_FRAME_USED = 18"
      ],
      "metadata": {
        "id": "x2kQJbe4mcye"
      },
      "execution_count": 21,
      "outputs": []
    },
    {
      "cell_type": "code",
      "source": [
        "FOLDER_LABELS"
      ],
      "metadata": {
        "colab": {
          "base_uri": "https://localhost:8080/",
          "height": 35
        },
        "id": "1aE0mAfh77Ld",
        "outputId": "a2f4e1c2-d0e0-4fd5-b74f-a1486889b6a8"
      },
      "execution_count": 22,
      "outputs": [
        {
          "output_type": "execute_result",
          "data": {
            "text/plain": [
              "'/content/drive/MyDrive/Bundesliga/PositiveFrames/detect/'"
            ],
            "application/vnd.google.colaboratory.intrinsic+json": {
              "type": "string"
            }
          },
          "metadata": {},
          "execution_count": 22
        }
      ]
    },
    {
      "cell_type": "code",
      "source": [
        "videos = [video for video in EVENTS_PER_VIDEO.keys()]\n",
        "videos"
      ],
      "metadata": {
        "id": "1KvZtTO2LYRx",
        "colab": {
          "base_uri": "https://localhost:8080/"
        },
        "outputId": "52dc08dd-8895-4d55-9e46-e9bf500f2fee"
      },
      "execution_count": 23,
      "outputs": [
        {
          "output_type": "execute_result",
          "data": {
            "text/plain": [
              "['1606b0e6_0', '3c993bd2_1', 'ecf251d4_0', '407c5a9e_1']"
            ]
          },
          "metadata": {},
          "execution_count": 23
        }
      ]
    },
    {
      "cell_type": "markdown",
      "source": [
        "## Main code:"
      ],
      "metadata": {
        "id": "y3uLydbp9BdR"
      }
    },
    {
      "cell_type": "markdown",
      "source": [
        "### Hyperparameter tunning to find best threshold for distance ball-person"
      ],
      "metadata": {
        "id": "TRCq-YV66Uea"
      }
    },
    {
      "cell_type": "code",
      "source": [
        "! pwd"
      ],
      "metadata": {
        "colab": {
          "base_uri": "https://localhost:8080/"
        },
        "id": "iPCyMP_3qkK9",
        "outputId": "0a423db5-d085-4876-f53a-b1b6268034f0"
      },
      "execution_count": 32,
      "outputs": [
        {
          "output_type": "stream",
          "name": "stdout",
          "text": [
            "/content/drive/MyDrive/Bundesliga/PositiveFrames\n"
          ]
        }
      ]
    },
    {
      "cell_type": "code",
      "source": [
        "video = '1606b0e6_0'\n",
        "event = 0\n",
        "class_ = 0\n",
        "r = 1"
      ],
      "metadata": {
        "id": "Buo-uOHOpKoA"
      },
      "execution_count": 226,
      "outputs": []
    },
    {
      "cell_type": "code",
      "source": [
        "from scipy import spatial"
      ],
      "metadata": {
        "id": "aqsMd2eXuAsg"
      },
      "execution_count": 227,
      "outputs": []
    },
    {
      "cell_type": "code",
      "source": [
        "event_id = f'{video}_{event}_{class_}'\n",
        "\n",
        "frame_id = f'{event_id}_{FIRST_FRAME_USED - 1 + r}' # -1 so we get main fraim (index 17)\n",
        "label_txt = f'{frame_id}.txt'\n",
        "with open(f'{FOLDER_LABELS}{video}/labels/{label_txt}') as f:\n",
        "  reader = f.read()\n",
        "detections = [i.split(' ') for i in reader.split('\\n')][:-1] # [:-1] because last element is always \"''\"\n",
        "\n",
        "arr = np.array(detections)\n",
        "persons = arr[arr[:, 0] == '0']\n",
        "xy_persons = persons[:, X_INDEX:Y_INDEX + 1].astype(float)\n",
        "detection = arr[arr[:, 0] == '32'] # DON'T USE IN ACTUAL CODE, YOU ALREADY HAVE 'DETECTION'\n",
        "xy_ball = detection[:, X_INDEX:Y_INDEX + 1].astype(float)\n",
        "xy_closest_person = xy_persons[spatial.KDTree(xy_persons).query(xy_ball)[1]] # get closest point\n",
        "distance, index = spatial.KDTree(xy_persons).query(xy_ball) # get distance\n",
        "# distance 1606b0e6_0_0_0_17: 0.01715389 # ball confused with football boot\n",
        "# distance 1606b0e6_0_1_0_17: 0.02588498 # ball behind goalkeeper\n",
        "# distance 1606b0e6_0_2_1_17: 0.05881961 # ball behind goalkeeper, and 0.13542185 ball on court's side\n",
        "# distance 1606b0e6_0_3_2_20: 0.01331324 # BALL ON PLAY\n",
        "\n",
        "# distance 1606b0e6_0_4_2_19: 0.05413774 # BALL ON PLAY\n",
        "\n",
        "# distance 1606b0e6_0_5_2_17: 0.22416412 # ball on top right court's side\n",
        "# distance 1606b0e6_0_5_2_19: 0.22460785 # ball on top right court's side\n",
        "# distance 1606b0e6_0_5_2_20: 0.22483156 # ball on top right court's side\n",
        "# distance 1606b0e6_0_5_2_21: 0.22660578 # ball on top right court's side, and 0.01887572 BALL ON PLAY\n",
        "\n",
        "# distance 1606b0e6_0_6_2_17: 0.21772145 # ball on top right court's side\n",
        "# distance 1606b0e6_0_6_2_18: 0.21834437 # ball on top right court's side, and 0.01998301 BALL ON PLAY\n",
        "\n",
        "# distance 1606b0e6_0_7_2_17: 0.02071127 # BALL ON PLAY\n",
        "\n",
        "# distance 1606b0e6_0_8_2_24: 0.01237615 # ball confused with football boot\n",
        "\n",
        "# distance 1606b0e6_0_9_2_21: 0.05960312 # BALL ON PLAY\n",
        "\n",
        "# distance 1606b0e6_0_10_2_17: 0.16937768 # ball confused with head of person top bottom\n",
        "# distance 1606b0e6_0_10_2_18: 0.1684855 # ball confused with head of person top bottom\n",
        "# distance 1606b0e6_0_10_2_19: 0.16789392 # ball confused with head of person top bottom\n",
        "# distance 1606b0e6_0_10_2_25: 0.04449379 # BALL ON PLAY\n",
        "\n",
        "# distance 1606b0e6_0_10_2_17: 0.238802 # ball on top right court's side\n",
        "# distance 1606b0e6_0_11_2_18: 0.23834602 # ball on top right court's side\n",
        "# distance 1606b0e6_0_11_2_19: 0.16189149 # ball on top right court's side (same, person in crowd detected now)\n",
        "# distance 1606b0e6_0_11_2_20: 0.06701084 # ball on top right court's side (same, another person detected now), and\n",
        "# 0.0336005 BALL ON PLAY\n",
        "\n",
        "# WE SET THRESHOLD TO 0.09 FOR NOW.\n",
        "\n",
        "frame_id, distance, xy_ball"
      ],
      "metadata": {
        "colab": {
          "base_uri": "https://localhost:8080/"
        },
        "id": "rmWsyNAnpGY1",
        "outputId": "259e767f-a792-450e-c8c1-2c31daefde9e"
      },
      "execution_count": 228,
      "outputs": [
        {
          "output_type": "execute_result",
          "data": {
            "text/plain": [
              "('1606b0e6_0_0_0_18', array([0.02767142]), array([[0.492448, 0.834259]]))"
            ]
          },
          "metadata": {},
          "execution_count": 228
        }
      ]
    },
    {
      "cell_type": "code",
      "source": [
        "distance[0] > 0.08"
      ],
      "metadata": {
        "colab": {
          "base_uri": "https://localhost:8080/"
        },
        "id": "oYPcyQm698HC",
        "outputId": "efea9e90-ce2e-448e-d1e8-9db480b5d166"
      },
      "execution_count": 218,
      "outputs": [
        {
          "output_type": "execute_result",
          "data": {
            "text/plain": [
              "False"
            ]
          },
          "metadata": {},
          "execution_count": 218
        }
      ]
    },
    {
      "cell_type": "markdown",
      "source": [
        "### Code implemented"
      ],
      "metadata": {
        "id": "neTCoj7o6auJ"
      }
    },
    {
      "cell_type": "code",
      "source": [
        "UNIQUE_INDEX = 0"
      ],
      "metadata": {
        "id": "M4-kixGa-UE5"
      },
      "execution_count": 216,
      "outputs": []
    },
    {
      "cell_type": "code",
      "source": [
        "ball_close_to_person = True\n",
        "ball_person_threshold = 0.08\n",
        "y_camera_threshold = 0.75"
      ],
      "metadata": {
        "id": "UsiqBRoIot-N"
      },
      "execution_count": 199,
      "outputs": []
    },
    {
      "cell_type": "code",
      "source": [
        "['0.05', '0.04'].astype(float)"
      ],
      "metadata": {
        "colab": {
          "base_uri": "https://localhost:8080/",
          "height": 169
        },
        "id": "_7bZ-fg_-5c9",
        "outputId": "d4648f74-a301-4255-9e9f-798b73d8e5fb"
      },
      "execution_count": 221,
      "outputs": [
        {
          "output_type": "error",
          "ename": "AttributeError",
          "evalue": "ignored",
          "traceback": [
            "\u001b[0;31m---------------------------------------------------------------------------\u001b[0m",
            "\u001b[0;31mAttributeError\u001b[0m                            Traceback (most recent call last)",
            "\u001b[0;32m<ipython-input-221-33bd796f8deb>\u001b[0m in \u001b[0;36m<module>\u001b[0;34m\u001b[0m\n\u001b[0;32m----> 1\u001b[0;31m \u001b[0;34m[\u001b[0m\u001b[0;34m'0.05'\u001b[0m\u001b[0;34m,\u001b[0m \u001b[0;34m'0.04'\u001b[0m\u001b[0;34m]\u001b[0m\u001b[0;34m.\u001b[0m\u001b[0mastype\u001b[0m\u001b[0;34m(\u001b[0m\u001b[0mfloat\u001b[0m\u001b[0;34m)\u001b[0m\u001b[0;34m\u001b[0m\u001b[0;34m\u001b[0m\u001b[0m\n\u001b[0m",
            "\u001b[0;31mAttributeError\u001b[0m: 'list' object has no attribute 'astype'"
          ]
        }
      ]
    },
    {
      "cell_type": "code",
      "source": [
        "for video in videos:\n",
        "  ! mkdir crops/$video\n",
        "  # We iterate over every event, from 0 to 395\n",
        "  for event in range(EVENTS_PER_VIDEO[video]):\n",
        "    # We establish ball = False (in this event, ball wasn't yet recognized)\n",
        "    ball = False\n",
        "    # We should find for example f'1606b0e6_0_{frame}_' and establish that class_ equals what follows it \n",
        "    substring = f'{FOLDER_LABELS}{video}/labels/{video}_{event}_'\n",
        "    file = glob.glob(f'{substring}*.txt')[ANY_INDEX]\n",
        "    len_subs = len(substring)\n",
        "    class_ = int(file[len_subs])\n",
        "\n",
        "    event_id = f'{video}_{event}_{class_}'\n",
        "\n",
        "    # We create a condition based on the class on how to iterate for the frames.\n",
        "    # Challenges' frame between tolerances are respectively: 17 yes, 1 yes, 17 yes.\n",
        "    # For play and throw-in are respectively: 9 no, 8 yes, 1 yes, 8 yes, 9 no.\n",
        "\n",
        "    # if class_ == 0: # if it's a challenge\n",
        "      \n",
        "    # TO AVOID BALL FPs: we iterate over every frames, from 18 to 32\n",
        "    for frame in range(FIRST_FRAME_USED, FRAMES_PER_EVENT - 2): # - 2 cause we need to use 2 more after the one detected\n",
        "      frame_id = f'{event_id}_{frame}' # e.g. '1606b0e6_0_0_0_0'\n",
        "      print(frame_id)\n",
        "      label_txt = f'{frame_id}.txt'\n",
        "      with open(f'{FOLDER_LABELS}{video}/labels/{label_txt}') as f:\n",
        "        reader = f.read()\n",
        "      detections = [i.split(' ') for i in reader.split('\\n')][:-1] # [:-1] because last element is always \"''\"\n",
        "      # counter = 0\n",
        "\n",
        "      for detection in detections: # in a single frame\n",
        "\n",
        "        # confidences = list() # WE ARE NOT IMPLEMENTING CONFIDENCES FOR NOW AS IT MAY NOT BE RELEVANT\n",
        "        if detection[CLASS_INDEX] == BALL_CLASS:\n",
        "          # Ball is True for this event, it was detected in at least one of the frames.\n",
        "          ball = True\n",
        "          \n",
        "          # confidence = float(detection[CONFIDENCE_INDEX])\n",
        "\n",
        "          x = int(float(detection[X_INDEX]) * X_SIZE)\n",
        "          y = int(float(detection[Y_INDEX]) * Y_SIZE) # 0.75 * 1028 = 771\n",
        "          ymin = max(y - radius, 0) # 771 - 112 = 659\n",
        "          ymax = min(y + radius, Y_SIZE) # 771 + 112 = 883\n",
        "          xmin = max(x - radius, 0)\n",
        "          xmax = min(x + radius, X_SIZE)\n",
        "\n",
        "          # TO AVOID BALL FPs: we throw away detections that make the crop next to a limit of the frame\n",
        "\n",
        "          # CHANGED ymax == Y_SIZE to y > Y_SIZE * 0.75 TO BE MORE STRICT\n",
        "\n",
        "          if ymin == 0 or y > Y_SIZE * y_camera_threshold or xmin == 0 or xmax == X_SIZE:\n",
        "            ball = False\n",
        "\n",
        "          # We make sure all crops are 224x224 (this won't apply if code above is implemented)\n",
        "          # if ymin == 0:\n",
        "          #   ymax = CROP_SIZE # = 224\n",
        "          # elif ymax == Y_SIZE:\n",
        "          #   ymin = Y_SIZE - CROP_SIZE # = 1024 - 224\n",
        "          # if xmin == 0:\n",
        "          #   xmax = CROP_SIZE # == 224 \n",
        "          # elif xmax == X_SIZE:\n",
        "          #   xmin = X_SIZE - CROP_SIZE # = 1928 - 224\n",
        "\n",
        "          if ball_close_to_person:\n",
        "            arr = np.array(detections)\n",
        "            persons = arr[arr[:, 0] == PERSON_CLASS]\n",
        "            xy_persons = persons[:, X_INDEX:Y_INDEX + 1].astype(float)\n",
        "            xy_ball = np.array(detection[X_INDEX:Y_INDEX + 1]).astype(float)\n",
        "            xy_closest_person = xy_persons[spatial.KDTree(xy_persons).query(xy_ball)[1]] # get closest person\n",
        "            distance, index = spatial.KDTree(xy_persons).query(xy_ball) # get closest distance ball-person\n",
        "            if distance > ball_person_threshold:\n",
        "              ball = False\n",
        "\n",
        "          if ball:\n",
        "            for r in range(frame - 3, frame): # 3: amount of frames per event\n",
        "              img = cv2.imread(f'{FOLDER_FRAMES}{video}/{event_id}_{r}.jpg')\n",
        "              cropped_image = img[ymin:ymax, xmin:xmax] # We change from (x, y) to (y, x) to work with cv2_imshow\n",
        "              cv2.imwrite(f'{POSITIVES_FOLDER}crops/{video}/{frame_id}_{r}cropped.jpg', cropped_image)\n",
        "            break # breaks loop of detections in a single frame (so there are 3 per frame only)\n",
        "\n",
        "# I ADDED THE FOLLOWING IF STATEMENT:\n",
        "        # if ball:\n",
        "        #   break\n",
        "\n",
        "      if ball:      \n",
        "        break # breaks loop of frame in frames per event (so there are 3 per event only)\n",
        "\n",
        "      elif frame == FRAMES_PER_EVENT - 3: # We implement crop on main frame (index 17) based on closest two people\n",
        "        frame_id = f'{event_id}_{FIRST_FRAME_USED - 1}' # -1 so we get main fraim (index 17)\n",
        "        label_txt = f'{frame_id}.txt'\n",
        "        with open(f'{FOLDER_LABELS}{video}/labels/{label_txt}') as f:\n",
        "          reader = f.read()\n",
        "        detections = [i.split(' ') for i in reader.split('\\n')][:-1] # [:-1] because last element is always \"''\"\n",
        "        arr = np.array(detections)\n",
        "        persons = arr[arr[:, 0] == '0']\n",
        "        xy_persons = persons[:, X_INDEX:Y_INDEX + 1].astype(float)\n",
        "        dists = cdist(xy_persons, xy_persons)\n",
        "        dists[dists == 0] = dists.max()\n",
        "        arg1, arg2 = np.unravel_index(dists.argmin(), dists.shape)\n",
        "        two_people = xy_persons[[arg1, arg2]]\n",
        "        frame_center = np.mean(two_people, axis=0)\n",
        "        x, y = frame_center\n",
        "        x = int(x * X_SIZE)\n",
        "        y = int(y * Y_SIZE)\n",
        "        ymin = max(y - radius, 0)\n",
        "        ymax = min(y + radius, Y_SIZE)\n",
        "        xmin = max(x - radius, 0)\n",
        "        xmax = min(x + radius, X_SIZE)\n",
        "\n",
        "        for r in range(FIRST_FRAME_USED - 1, FIRST_FRAME_USED + 2): # here we use -1 and + 2 because we are certain it's from 17 (our main frame)\n",
        "          img = cv2.imread(f'{FOLDER_FRAMES}{video}/{event_id}_{r}.jpg')\n",
        "          cropped_image = img[ymin:ymax, xmin:xmax] # We change from (x, y) to (y, x) to work with cv2_imshow\n",
        "          cv2.imwrite(f'{POSITIVES_FOLDER}crops/{video}/{frame_id}_{r}cropped.jpg', cropped_image)\n",
        "        break\n"
      ],
      "metadata": {
        "colab": {
          "base_uri": "https://localhost:8080/"
        },
        "id": "3j9G9lb6CZD9",
        "outputId": "ce70a02a-1269-49d2-a597-f3f285f4369a"
      },
      "execution_count": null,
      "outputs": [
        {
          "output_type": "stream",
          "name": "stdout",
          "text": [
            "mkdir: cannot create directory ‘crops/1606b0e6_0’: File exists\n",
            "1606b0e6_0_0_0_18\n",
            "1606b0e6_0_0_0_19\n",
            "1606b0e6_0_0_0_20\n",
            "1606b0e6_0_0_0_21\n",
            "1606b0e6_0_0_0_22\n",
            "1606b0e6_0_0_0_23\n",
            "1606b0e6_0_0_0_24\n",
            "1606b0e6_0_0_0_25\n",
            "1606b0e6_0_0_0_26\n",
            "1606b0e6_0_0_0_27\n",
            "1606b0e6_0_0_0_28\n",
            "1606b0e6_0_0_0_29\n",
            "1606b0e6_0_0_0_30\n",
            "1606b0e6_0_0_0_31\n",
            "1606b0e6_0_0_0_32\n",
            "1606b0e6_0_1_0_18\n",
            "1606b0e6_0_2_1_18\n",
            "1606b0e6_0_3_2_18\n",
            "1606b0e6_0_3_2_19\n",
            "1606b0e6_0_3_2_20\n",
            "1606b0e6_0_4_2_18\n",
            "1606b0e6_0_4_2_19\n",
            "1606b0e6_0_5_2_18\n",
            "1606b0e6_0_5_2_19\n",
            "1606b0e6_0_5_2_20\n",
            "1606b0e6_0_5_2_21\n",
            "1606b0e6_0_6_2_18\n",
            "1606b0e6_0_7_2_18\n",
            "1606b0e6_0_8_2_18\n",
            "1606b0e6_0_8_2_19\n",
            "1606b0e6_0_8_2_20\n",
            "1606b0e6_0_8_2_21\n",
            "1606b0e6_0_8_2_22\n",
            "1606b0e6_0_8_2_23\n",
            "1606b0e6_0_8_2_24\n",
            "1606b0e6_0_9_2_18\n",
            "1606b0e6_0_9_2_19\n",
            "1606b0e6_0_9_2_20\n",
            "1606b0e6_0_9_2_21\n",
            "1606b0e6_0_10_2_18\n",
            "1606b0e6_0_10_2_19\n",
            "1606b0e6_0_10_2_20\n",
            "1606b0e6_0_10_2_21\n",
            "1606b0e6_0_10_2_22\n",
            "1606b0e6_0_10_2_23\n",
            "1606b0e6_0_10_2_24\n",
            "1606b0e6_0_10_2_25\n",
            "1606b0e6_0_11_2_18\n",
            "1606b0e6_0_11_2_19\n",
            "1606b0e6_0_11_2_20\n",
            "1606b0e6_0_12_2_18\n",
            "1606b0e6_0_13_2_18\n",
            "1606b0e6_0_14_2_18\n",
            "1606b0e6_0_14_2_19\n",
            "1606b0e6_0_14_2_20\n",
            "1606b0e6_0_15_2_18\n",
            "1606b0e6_0_16_2_18\n",
            "1606b0e6_0_17_2_18\n",
            "1606b0e6_0_17_2_19\n",
            "1606b0e6_0_18_2_18\n",
            "1606b0e6_0_18_2_19\n",
            "1606b0e6_0_18_2_20\n",
            "1606b0e6_0_18_2_21\n",
            "1606b0e6_0_18_2_22\n",
            "1606b0e6_0_19_2_18\n",
            "1606b0e6_0_20_2_18\n",
            "1606b0e6_0_21_2_18\n",
            "1606b0e6_0_21_2_19\n",
            "1606b0e6_0_21_2_20\n",
            "1606b0e6_0_21_2_21\n",
            "1606b0e6_0_22_2_18\n",
            "1606b0e6_0_23_2_18\n",
            "1606b0e6_0_23_2_19\n",
            "1606b0e6_0_23_2_20\n",
            "1606b0e6_0_24_2_18\n",
            "1606b0e6_0_24_2_19\n",
            "1606b0e6_0_24_2_20\n",
            "1606b0e6_0_25_2_18\n",
            "1606b0e6_0_26_0_18\n",
            "1606b0e6_0_26_0_19\n",
            "1606b0e6_0_26_0_20\n",
            "1606b0e6_0_26_0_21\n",
            "1606b0e6_0_26_0_22\n",
            "1606b0e6_0_26_0_23\n",
            "1606b0e6_0_26_0_24\n",
            "1606b0e6_0_26_0_25\n",
            "1606b0e6_0_26_0_26\n",
            "1606b0e6_0_26_0_27\n",
            "1606b0e6_0_27_0_18\n",
            "1606b0e6_0_27_0_19\n",
            "1606b0e6_0_27_0_20\n",
            "1606b0e6_0_28_2_18\n",
            "1606b0e6_0_28_2_19\n",
            "1606b0e6_0_29_2_18\n",
            "1606b0e6_0_29_2_19\n",
            "1606b0e6_0_30_2_18\n",
            "1606b0e6_0_31_2_18\n",
            "1606b0e6_0_32_2_18\n",
            "1606b0e6_0_32_2_19\n",
            "1606b0e6_0_33_2_18\n",
            "1606b0e6_0_33_2_19\n",
            "1606b0e6_0_33_2_20\n",
            "1606b0e6_0_34_0_18\n",
            "1606b0e6_0_35_2_18\n",
            "1606b0e6_0_35_2_19\n",
            "1606b0e6_0_36_2_18\n",
            "1606b0e6_0_36_2_19\n",
            "1606b0e6_0_36_2_20\n",
            "1606b0e6_0_36_2_21\n",
            "1606b0e6_0_36_2_22\n",
            "1606b0e6_0_36_2_23\n",
            "1606b0e6_0_36_2_24\n",
            "1606b0e6_0_36_2_25\n",
            "1606b0e6_0_36_2_26\n",
            "1606b0e6_0_36_2_27\n",
            "1606b0e6_0_36_2_28\n",
            "1606b0e6_0_36_2_29\n",
            "1606b0e6_0_36_2_30\n",
            "1606b0e6_0_36_2_31\n",
            "1606b0e6_0_36_2_32\n",
            "1606b0e6_0_37_2_18\n",
            "1606b0e6_0_38_2_18\n",
            "1606b0e6_0_38_2_19\n",
            "1606b0e6_0_39_2_18\n",
            "1606b0e6_0_39_2_19\n",
            "1606b0e6_0_39_2_20\n",
            "1606b0e6_0_39_2_21\n",
            "1606b0e6_0_39_2_22\n",
            "1606b0e6_0_39_2_23\n",
            "1606b0e6_0_40_0_18\n",
            "1606b0e6_0_41_0_18\n",
            "1606b0e6_0_41_0_19\n",
            "1606b0e6_0_41_0_20\n",
            "1606b0e6_0_41_0_21\n",
            "1606b0e6_0_41_0_22\n",
            "1606b0e6_0_41_0_23\n",
            "1606b0e6_0_41_0_24\n",
            "1606b0e6_0_41_0_25\n",
            "1606b0e6_0_41_0_26\n",
            "1606b0e6_0_42_1_18\n",
            "1606b0e6_0_42_1_19\n",
            "1606b0e6_0_42_1_20\n",
            "1606b0e6_0_42_1_21\n",
            "1606b0e6_0_42_1_22\n",
            "1606b0e6_0_42_1_23\n",
            "1606b0e6_0_42_1_24\n",
            "1606b0e6_0_42_1_25\n",
            "1606b0e6_0_42_1_26\n",
            "1606b0e6_0_42_1_27\n",
            "1606b0e6_0_42_1_28\n",
            "1606b0e6_0_42_1_29\n",
            "1606b0e6_0_42_1_30\n",
            "1606b0e6_0_42_1_31\n",
            "1606b0e6_0_42_1_32\n",
            "1606b0e6_0_43_2_18\n",
            "1606b0e6_0_44_2_18\n",
            "1606b0e6_0_44_2_19\n",
            "1606b0e6_0_44_2_20\n",
            "1606b0e6_0_44_2_21\n",
            "1606b0e6_0_44_2_22\n",
            "1606b0e6_0_44_2_23\n",
            "1606b0e6_0_44_2_24\n",
            "1606b0e6_0_44_2_25\n",
            "1606b0e6_0_44_2_26\n",
            "1606b0e6_0_44_2_27\n",
            "1606b0e6_0_44_2_28\n",
            "1606b0e6_0_44_2_29\n",
            "1606b0e6_0_44_2_30\n",
            "1606b0e6_0_44_2_31\n",
            "1606b0e6_0_44_2_32\n",
            "1606b0e6_0_45_0_18\n",
            "1606b0e6_0_45_0_19\n",
            "1606b0e6_0_45_0_20\n",
            "1606b0e6_0_46_2_18\n",
            "1606b0e6_0_47_2_18\n",
            "1606b0e6_0_48_2_18\n",
            "1606b0e6_0_48_2_19\n",
            "1606b0e6_0_49_2_18\n",
            "1606b0e6_0_49_2_19\n",
            "1606b0e6_0_49_2_20\n",
            "1606b0e6_0_50_1_18\n",
            "1606b0e6_0_51_2_18\n",
            "1606b0e6_0_51_2_19\n",
            "1606b0e6_0_52_2_18\n",
            "1606b0e6_0_52_2_19\n",
            "1606b0e6_0_52_2_20\n",
            "1606b0e6_0_52_2_21\n",
            "1606b0e6_0_53_2_18\n",
            "1606b0e6_0_53_2_19\n",
            "1606b0e6_0_53_2_20\n",
            "1606b0e6_0_53_2_21\n",
            "1606b0e6_0_53_2_22\n",
            "1606b0e6_0_54_2_18\n",
            "1606b0e6_0_55_0_18\n",
            "1606b0e6_0_56_2_18\n",
            "1606b0e6_0_56_2_19\n",
            "1606b0e6_0_56_2_20\n",
            "1606b0e6_0_57_2_18\n",
            "1606b0e6_0_57_2_19\n",
            "1606b0e6_0_57_2_20\n",
            "1606b0e6_0_58_2_18\n",
            "1606b0e6_0_58_2_19\n",
            "1606b0e6_0_59_2_18\n",
            "1606b0e6_0_59_2_19\n",
            "1606b0e6_0_60_2_18\n",
            "1606b0e6_0_60_2_19\n",
            "1606b0e6_0_60_2_20\n",
            "1606b0e6_0_60_2_21\n",
            "1606b0e6_0_60_2_22\n",
            "1606b0e6_0_60_2_23\n",
            "1606b0e6_0_60_2_24\n",
            "1606b0e6_0_61_2_18\n",
            "1606b0e6_0_61_2_19\n",
            "1606b0e6_0_61_2_20\n",
            "1606b0e6_0_61_2_21\n",
            "1606b0e6_0_62_2_18\n",
            "1606b0e6_0_62_2_19\n",
            "1606b0e6_0_62_2_20\n",
            "1606b0e6_0_63_2_18\n",
            "1606b0e6_0_63_2_19\n",
            "1606b0e6_0_64_2_18\n",
            "1606b0e6_0_64_2_19\n",
            "1606b0e6_0_64_2_20\n",
            "1606b0e6_0_65_2_18\n"
          ]
        }
      ]
    },
    {
      "cell_type": "code",
      "source": [
        "POSITIVES_FOLDER = '/content/drive/MyDrive/Bundesliga/PositiveFrames/'\n",
        "os.chdir(POSITIVES_FOLDER)"
      ],
      "metadata": {
        "id": "K5_2jQFo1hyU"
      },
      "execution_count": null,
      "outputs": []
    },
    {
      "cell_type": "code",
      "source": [
        "! pwd"
      ],
      "metadata": {
        "colab": {
          "base_uri": "https://localhost:8080/"
        },
        "id": "O5vxDRyWYoGY",
        "outputId": "c4f39539-9e77-4a24-c890-f46d48d90738"
      },
      "execution_count": null,
      "outputs": [
        {
          "output_type": "stream",
          "name": "stdout",
          "text": [
            "/content/drive/MyDrive/Bundesliga/PositiveFrames\n"
          ]
        }
      ]
    },
    {
      "cell_type": "code",
      "source": [
        "# os.chdir('/content/drive/MyDrive/Bundesliga/')"
      ],
      "metadata": {
        "id": "HRmvoRkH1jtB"
      },
      "execution_count": null,
      "outputs": []
    },
    {
      "cell_type": "code",
      "source": [
        "# ! ls crops"
      ],
      "metadata": {
        "id": "ynyWZMI82Uhc"
      },
      "execution_count": null,
      "outputs": []
    },
    {
      "cell_type": "code",
      "source": [
        "! ls crops/'1606b0e6_0'  | wc -l"
      ],
      "metadata": {
        "colab": {
          "base_uri": "https://localhost:8080/"
        },
        "id": "tKv7HVtL1EjI",
        "outputId": "fabc687e-4971-4d3a-b3d6-e1c7a8b64392"
      },
      "execution_count": null,
      "outputs": [
        {
          "output_type": "stream",
          "name": "stdout",
          "text": [
            "1188\n"
          ]
        }
      ]
    },
    {
      "cell_type": "code",
      "source": [
        "! ls crops/'3c993bd2_1'  | wc -l"
      ],
      "metadata": {
        "colab": {
          "base_uri": "https://localhost:8080/"
        },
        "id": "hLeQA8fxYr7P",
        "outputId": "f0f5fded-6932-4e68-958e-8ebb1c9c50cf"
      },
      "execution_count": null,
      "outputs": [
        {
          "output_type": "stream",
          "name": "stdout",
          "text": [
            "1128\n"
          ]
        }
      ]
    },
    {
      "cell_type": "code",
      "source": [
        "! pwd"
      ],
      "metadata": {
        "colab": {
          "base_uri": "https://localhost:8080/"
        },
        "id": "3--N7wtlrz7C",
        "outputId": "62416d59-e5fa-4417-bfb0-5f21b9a698f8"
      },
      "execution_count": null,
      "outputs": [
        {
          "output_type": "stream",
          "name": "stdout",
          "text": [
            "/content/drive/MyDrive/Bundesliga/PositiveFrames\n"
          ]
        }
      ]
    },
    {
      "cell_type": "markdown",
      "source": [
        "First time checked:"
      ],
      "metadata": {
        "id": "zc4OTg8PG7M3"
      }
    },
    {
      "cell_type": "code",
      "source": [
        "for video_id in video_ids:\n",
        "  print(video_id)\n",
        "  ! ls frames_ms2/$video_id | wc -l"
      ],
      "metadata": {
        "colab": {
          "base_uri": "https://localhost:8080/"
        },
        "id": "-Ob3YTvkrfLD",
        "outputId": "072a8021-9234-4e49-b37c-96b9d0ba565f"
      },
      "execution_count": null,
      "outputs": [
        {
          "output_type": "stream",
          "name": "stdout",
          "text": [
            "1606b0e6_0\n",
            "13860\n",
            "1606b0e6_1\n",
            "2426\n",
            "cfbe2e94_0\n",
            "3040\n",
            "cfbe2e94_0\n",
            "3040\n",
            "ecf251d4_0\n",
            "648\n",
            "3c993bd2_0\n",
            "659\n",
            "3c993bd2_1\n",
            "16036\n",
            "4ffd5986_0\n",
            "3050\n",
            "9a97dae4_1\n",
            "3091\n",
            "35bd9041_0\n",
            "636\n",
            "35bd9041_1\n",
            "587\n",
            "407c5a9e_1\n",
            "670\n"
          ]
        }
      ]
    },
    {
      "cell_type": "markdown",
      "source": [
        "Second time checked:"
      ],
      "metadata": {
        "id": "6CT-6kktG-39"
      }
    },
    {
      "cell_type": "code",
      "source": [
        "for video_id in video_ids:\n",
        "  print(video_id)\n",
        "  ! ls $FOLDER_FRAMES/$video_id | wc -l"
      ],
      "metadata": {
        "colab": {
          "base_uri": "https://localhost:8080/"
        },
        "id": "Wp_Zgw09G6CU",
        "outputId": "cfa2a5b7-072b-4e0d-cae5-4bec1eb9025d"
      },
      "execution_count": null,
      "outputs": [
        {
          "output_type": "stream",
          "name": "stdout",
          "text": [
            "1606b0e6_0\n",
            "13860\n",
            "1606b0e6_1\n",
            "3940\n",
            "cfbe2e94_0\n",
            "4549\n",
            "cfbe2e94_1\n",
            "1378\n",
            "ecf251d4_0\n",
            "9743\n",
            "3c993bd2_0\n",
            "1688\n",
            "3c993bd2_1\n",
            "16036\n",
            "4ffd5986_0\n",
            "4632\n",
            "9a97dae4_1\n",
            "5554\n",
            "35bd9041_0\n",
            "1466\n",
            "35bd9041_1\n",
            "1377\n",
            "407c5a9e_1\n",
            "10498\n"
          ]
        }
      ]
    },
    {
      "cell_type": "markdown",
      "source": [
        "Third time checked:"
      ],
      "metadata": {
        "id": "eVzmF06Og0QN"
      }
    },
    {
      "cell_type": "code",
      "source": [
        "for video_id in video_ids:\n",
        "  print(video_id)\n",
        "  ! ls $FOLDER_FRAMES/$video_id | wc -l"
      ],
      "metadata": {
        "colab": {
          "base_uri": "https://localhost:8080/"
        },
        "id": "dvG3SqNxgzQ4",
        "outputId": "160258fa-faef-44cd-878e-1faa7d14f55d"
      },
      "execution_count": null,
      "outputs": [
        {
          "output_type": "stream",
          "name": "stdout",
          "text": [
            "1606b0e6_0\n",
            "13860\n",
            "1606b0e6_1\n",
            "4374\n",
            "cfbe2e94_0\n",
            "5003\n",
            "cfbe2e94_1\n",
            "2888\n",
            "ecf251d4_0\n",
            "13510\n",
            "3c993bd2_0\n",
            "3364\n",
            "3c993bd2_1\n",
            "16036\n",
            "4ffd5986_0\n",
            "5090\n",
            "9a97dae4_1\n",
            "10185\n",
            "35bd9041_0\n",
            "3081\n",
            "35bd9041_1\n",
            "2923\n",
            "407c5a9e_1\n",
            "12250\n"
          ]
        }
      ]
    },
    {
      "cell_type": "markdown",
      "source": [
        "Fourth time checked - 12/11/22 1.14 am:"
      ],
      "metadata": {
        "id": "WKyRlOVM8nbU"
      }
    },
    {
      "cell_type": "code",
      "source": [
        "for video_id in video_ids:\n",
        "  print(video_id)\n",
        "  ! ls $FOLDER_FRAMES/$video_id | wc -l"
      ],
      "metadata": {
        "colab": {
          "base_uri": "https://localhost:8080/"
        },
        "id": "8kdiUo_s8no0",
        "outputId": "5efbe634-cb4e-49f2-aa04-abd33a6f219e"
      },
      "execution_count": null,
      "outputs": [
        {
          "output_type": "stream",
          "name": "stdout",
          "text": [
            "1606b0e6_0\n",
            "13860\n",
            "1606b0e6_1\n",
            "7823\n",
            "cfbe2e94_0\n",
            "8637\n",
            "cfbe2e94_1\n",
            "6383\n",
            "ecf251d4_0\n",
            "13510\n",
            "3c993bd2_0\n",
            "7248\n",
            "3c993bd2_1\n",
            "16036\n",
            "4ffd5986_0\n",
            "8661\n",
            "9a97dae4_1\n",
            "10185\n",
            "35bd9041_0\n",
            "7049\n",
            "35bd9041_1\n",
            "6522\n",
            "407c5a9e_1\n",
            "12250\n"
          ]
        }
      ]
    },
    {
      "cell_type": "markdown",
      "source": [
        "Fifth time checked - 12/11/22 8.31 am:"
      ],
      "metadata": {
        "id": "75jc8CDxiQrA"
      }
    },
    {
      "cell_type": "code",
      "source": [
        "for video_id in video_ids:\n",
        "  print(video_id)\n",
        "  ! ls $FOLDER_FRAMES/$video_id | wc -l"
      ],
      "metadata": {
        "colab": {
          "base_uri": "https://localhost:8080/"
        },
        "id": "XTv8PPc9iQ9t",
        "outputId": "cd152b70-5468-405c-8ae5-c2cddd0e3a3f"
      },
      "execution_count": 24,
      "outputs": [
        {
          "output_type": "stream",
          "name": "stdout",
          "text": [
            "1606b0e6_0\n",
            "13860\n",
            "1606b0e6_1\n",
            "9594\n",
            "cfbe2e94_0\n",
            "10675\n",
            "cfbe2e94_1\n",
            "9975\n",
            "ecf251d4_0\n",
            "13510\n",
            "3c993bd2_0\n",
            "12247\n",
            "3c993bd2_1\n",
            "16036\n",
            "4ffd5986_0\n",
            "10570\n",
            "9a97dae4_1\n",
            "10185\n",
            "35bd9041_0\n",
            "10633\n",
            "35bd9041_1\n",
            "12565\n",
            "407c5a9e_1\n",
            "12250\n"
          ]
        }
      ]
    },
    {
      "cell_type": "code",
      "source": [
        "def get_positive_intervals(TABULAR_FILENAME):\n",
        "    \"\"\" get intervals for events from tabular data (train.csv file) \"\"\"\n",
        "    \n",
        "    df = pd.read_csv(TABULAR_FILENAME)\n",
        "    df['time_ms'] = round(df['time'] * 1000, 0).astype(int)\n",
        "    # get positive intervals\n",
        "    df_starts = df[df['event']=='start'].copy()\n",
        "    df_ends = df[df['event']=='end'].copy()\n",
        "\n",
        "    df_positive_intervals = pd.DataFrame({'video_id': df_starts['video_id'].values,\n",
        "                                        'start_time_ms': df_starts['time_ms'].values,\n",
        "                                        'end_time_ms': df_ends['time_ms'].values})\n",
        "    return df_positive_intervals\n",
        "    \n",
        "\n",
        "def get_frames_events(video_id, tabular_filename, videos_path, output_path, \n",
        "                      negatives=False, neg_size=None, npz=True, jpg=False, dim=None):\n",
        "    \"\"\"get frames of events for a given video (positive or negative classes),\n",
        "       save npz and/or jpg files\n",
        "       resize (optional)\n",
        "       function takes:\n",
        "            video_id\n",
        "            tabular_filename: filename for tabular data\n",
        "            videos_path: path to folder where the relevant video is located\n",
        "            output_path: path to folder where npz and/or jpg files will be saved\n",
        "            negatives: whether we are taking samples of negative class. \n",
        "                If True, we take only negatives, not positives. If False, we take only positives, not negatives.\n",
        "            neg_size: size of sample of negatives\n",
        "            npz: whether to save an npz file with results\n",
        "            jpg: whether to save jpg files\n",
        "            dim: dimensions of resized images (optional)\n",
        "    \"\"\"\n",
        "\n",
        "    os.chdir(ROOT)\n",
        "    # get times from tabular data\n",
        "    if negatives:\n",
        "        df_positive_intervals = get_positive_intervals(tabular_filename)\n",
        "        times = get_neg_times(df_positive_intervals, video_id, neg_size)\n",
        "    else:\n",
        "        times = get_event_times(tabular_filename)\n",
        "    n_frames = len(times)\n",
        "\n",
        "    # capture video\n",
        "    videoname = ''.join([video_id, '.mp4'])\n",
        "    cap = cv2.VideoCapture(os.path.join(videos_path, videoname))\n",
        "\n",
        "    # initialize result list\n",
        "    res = []\n",
        "\n",
        "    for i, time in enumerate(tqdm(times)):\n",
        "        cap.set(cv2.CAP_PROP_POS_MSEC, time)  # move the time\n",
        "        success, image = cap.read()\n",
        "        if not success:\n",
        "            print(f'{i+1} of {n_frames}, video_id: {video_id}, time: {time}, failed to read.')\n",
        "        # resize\n",
        "        if dim:\n",
        "            image = cv2.resize(image, dim, interpolation = cv2.INTER_AREA)\n",
        "        if npz:\n",
        "            res.append(image)\n",
        "        if jpg:\n",
        "            cv2.imwrite(os.path.join(output_path, f'{video_id}_{time}.jpg'), image)\n",
        "        del image\n",
        "    cap.release()\n",
        "    if npz:\n",
        "        np.savez_compressed(os.path.join(output_path, ''.join([video_id, '.npz'])), np.array(res))\n",
        "\n",
        "    if negatives:\n",
        "        return times"
      ],
      "metadata": {
        "id": "SrmvZkjhxDSZ"
      },
      "execution_count": null,
      "outputs": []
    },
    {
      "cell_type": "markdown",
      "source": [
        "We use persons:"
      ],
      "metadata": {
        "id": "1oqo6VgnKHkr"
      }
    },
    {
      "cell_type": "code",
      "source": [
        "# for i, frame in enumerate(filenames, 1): # frame of video (filenames contains frames of a single video)\n",
        "#   label_txt = f'{video}_{i}.txt'\n",
        "#   with open(f'{FOLDER_LABELS}{label_txt}') as f:\n",
        "#     reader = f.read()\n",
        "#   objects = [i.split(' ') for i in reader.split('\\n')]\n",
        "#   ball = False\n",
        "#   counter = 0\n",
        "\n",
        "#   for object_ in objects:\n",
        "#     if object_[CLASS_INDEX] == BALL_CLASS:\n",
        "#       ball = True\n",
        "#       x = int(float(object_[X_INDEX]) * X_SIZE)\n",
        "#       y = int(float(object_[Y_INDEX]) * Y_SIZE)\n",
        "#       ymin = max(y - radius, 0)\n",
        "#       ymax = min(y + radius, Y_SIZE)\n",
        "#       xmin = max(x - radius, 0)\n",
        "#       xmax = min(x + radius, X_SIZE)\n",
        "\n",
        "#       img = cv2.imread(frame + '.jpg') # IT CROPS MORE THAN 1 WHEN 2 OR MORE BALLS ARE IN A FRAME, BUT IT OVERWRITES IT\n",
        "#       cropped_image = img[ymin:ymax, xmin:xmax] # We change from (x, y) to (y, x) to work with cv2_imshow\n",
        "#       cv2.imwrite(f'{FOLDER_FRAMES}{frame}_cropped.jpg', cropped_image)\n",
        "    \n",
        "#   if not ball and USE_PERSONS:\n",
        "#     counter += 1\n",
        "#   if counter == USE_PERSONS_THRESH: \n",
        "#     # Maybe create a counter += 1, and when the ball is not detected in 15? consecutive frames, generate the location like this:\n",
        "#     FIRST_FILENAME_INDEX = 1\n",
        "#     label_txt = f'{video}_{FIRST_FILENAME_INDEX}.txt'\n",
        "#     with open(f'{FOLDER_LABELS}{label_txt}') as f: # Actually the reading should have happened before, so I may have to check this.\n",
        "#       reader = f.read()\n",
        "#     objects = [i.split(' ') for i in reader.split('\\n')][:-1]\n",
        "#     arr = np.array(objects)\n",
        "#     persons = arr[arr[:, 0] == '0']\n",
        "#     xy_persons = persons[:, X_INDEX:Y_INDEX + 1].astype(float)\n",
        "#     dists = cdist(xy_persons, xy_persons)\n",
        "#     dists[dists == 0] = dists.max()\n",
        "#     arg1, arg2 = np.unravel_index(dists.argmin(), dists.shape)\n",
        "#     two_people = xy_persons[[arg1, arg2]]\n",
        "#     frame_center = np.mean(two_people, axis=0)"
      ],
      "metadata": {
        "colab": {
          "base_uri": "https://localhost:8080/",
          "height": 240
        },
        "id": "mwEvYAVuXiyv",
        "outputId": "4b546fba-2c0d-4b10-8f83-1f2fac233f80"
      },
      "execution_count": null,
      "outputs": [
        {
          "output_type": "error",
          "ename": "NameError",
          "evalue": "ignored",
          "traceback": [
            "\u001b[0;31m---------------------------------------------------------------------------\u001b[0m",
            "\u001b[0;31mNameError\u001b[0m                                 Traceback (most recent call last)",
            "\u001b[0;32m<ipython-input-21-764482820e0e>\u001b[0m in \u001b[0;36m<module>\u001b[0;34m\u001b[0m\n\u001b[1;32m      1\u001b[0m \u001b[0;32mfor\u001b[0m \u001b[0mi\u001b[0m\u001b[0;34m,\u001b[0m \u001b[0mframe\u001b[0m \u001b[0;32min\u001b[0m \u001b[0menumerate\u001b[0m\u001b[0;34m(\u001b[0m\u001b[0mfilenames\u001b[0m\u001b[0;34m,\u001b[0m \u001b[0;36m1\u001b[0m\u001b[0;34m)\u001b[0m\u001b[0;34m:\u001b[0m \u001b[0;31m# frame of video (filenames contains frames of a single video)\u001b[0m\u001b[0;34m\u001b[0m\u001b[0;34m\u001b[0m\u001b[0m\n\u001b[0;32m----> 2\u001b[0;31m   \u001b[0mlabel_txt\u001b[0m \u001b[0;34m=\u001b[0m \u001b[0;34mf'{video}_{i}.txt'\u001b[0m\u001b[0;34m\u001b[0m\u001b[0;34m\u001b[0m\u001b[0m\n\u001b[0m\u001b[1;32m      3\u001b[0m   \u001b[0;32mwith\u001b[0m \u001b[0mopen\u001b[0m\u001b[0;34m(\u001b[0m\u001b[0;34mf'{FOLDER_LABELS}{label_txt}'\u001b[0m\u001b[0;34m)\u001b[0m \u001b[0;32mas\u001b[0m \u001b[0mf\u001b[0m\u001b[0;34m:\u001b[0m\u001b[0;34m\u001b[0m\u001b[0;34m\u001b[0m\u001b[0m\n\u001b[1;32m      4\u001b[0m     \u001b[0mreader\u001b[0m \u001b[0;34m=\u001b[0m \u001b[0mf\u001b[0m\u001b[0;34m.\u001b[0m\u001b[0mread\u001b[0m\u001b[0;34m(\u001b[0m\u001b[0;34m)\u001b[0m\u001b[0;34m\u001b[0m\u001b[0;34m\u001b[0m\u001b[0m\n\u001b[1;32m      5\u001b[0m   \u001b[0midentified_objects\u001b[0m \u001b[0;34m=\u001b[0m \u001b[0;34m[\u001b[0m\u001b[0mi\u001b[0m\u001b[0;34m.\u001b[0m\u001b[0msplit\u001b[0m\u001b[0;34m(\u001b[0m\u001b[0;34m' '\u001b[0m\u001b[0;34m)\u001b[0m \u001b[0;32mfor\u001b[0m \u001b[0mi\u001b[0m \u001b[0;32min\u001b[0m \u001b[0mreader\u001b[0m\u001b[0;34m.\u001b[0m\u001b[0msplit\u001b[0m\u001b[0;34m(\u001b[0m\u001b[0;34m'\\n'\u001b[0m\u001b[0;34m)\u001b[0m\u001b[0;34m]\u001b[0m\u001b[0;34m\u001b[0m\u001b[0;34m\u001b[0m\u001b[0m\n",
            "\u001b[0;31mNameError\u001b[0m: name 'video' is not defined"
          ]
        }
      ]
    },
    {
      "cell_type": "code",
      "source": [],
      "metadata": {
        "id": "t-mohjVKX1Wi"
      },
      "execution_count": null,
      "outputs": []
    },
    {
      "cell_type": "code",
      "source": [],
      "metadata": {
        "id": "XRNqhoTlX1db"
      },
      "execution_count": null,
      "outputs": []
    },
    {
      "cell_type": "code",
      "source": [],
      "metadata": {
        "id": "Dv6louggX1f9"
      },
      "execution_count": null,
      "outputs": []
    },
    {
      "cell_type": "code",
      "source": [],
      "metadata": {
        "id": "aZ0zUPm8X1iR"
      },
      "execution_count": null,
      "outputs": []
    },
    {
      "cell_type": "code",
      "source": [],
      "metadata": {
        "id": "OudN76PKX1kz"
      },
      "execution_count": null,
      "outputs": []
    },
    {
      "cell_type": "code",
      "source": [],
      "metadata": {
        "id": "riEVe21DX1nH"
      },
      "execution_count": null,
      "outputs": []
    }
  ]
}