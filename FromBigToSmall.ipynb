{
  "nbformat": 4,
  "nbformat_minor": 0,
  "metadata": {
    "colab": {
      "provenance": [],
      "collapsed_sections": []
    },
    "kernelspec": {
      "name": "python3",
      "display_name": "Python 3"
    },
    "language_info": {
      "name": "python"
    }
  },
  "cells": [
    {
      "cell_type": "markdown",
      "source": [
        "## Setup"
      ],
      "metadata": {
        "id": "TSD2IAAnU3Z2"
      }
    },
    {
      "cell_type": "code",
      "execution_count": 1,
      "metadata": {
        "id": "W-JMrk7uUwPO"
      },
      "outputs": [],
      "source": [
        "import sys\n",
        "import os\n",
        "import numpy as np\n",
        "import matplotlib.pyplot as plt\n",
        "import cv2\n",
        "from scipy.spatial.distance import cdist\n",
        "from google.colab.patches import cv2_imshow"
      ]
    },
    {
      "cell_type": "code",
      "source": [
        "from os import listdir\n",
        "from os.path import isfile, join\n",
        "import glob"
      ],
      "metadata": {
        "id": "px-ibzlADEtP"
      },
      "execution_count": 2,
      "outputs": []
    },
    {
      "cell_type": "code",
      "source": [
        "from google.colab import drive\n",
        "drive.mount('/content/drive')"
      ],
      "metadata": {
        "colab": {
          "base_uri": "https://localhost:8080/"
        },
        "id": "7BgBuv8oU6X3",
        "outputId": "ad658ef7-e6a9-46a2-a7de-b4312c942a48"
      },
      "execution_count": 3,
      "outputs": [
        {
          "output_type": "stream",
          "name": "stdout",
          "text": [
            "Drive already mounted at /content/drive; to attempt to forcibly remount, call drive.mount(\"/content/drive\", force_remount=True).\n"
          ]
        }
      ]
    },
    {
      "cell_type": "markdown",
      "source": [
        "## Cropping original frames"
      ],
      "metadata": {
        "id": "OgxGdDBfVo1z"
      }
    },
    {
      "cell_type": "code",
      "source": [
        "# video = '1606b0e6_0'"
      ],
      "metadata": {
        "id": "IWgbKwFkIt_I"
      },
      "execution_count": 4,
      "outputs": []
    },
    {
      "cell_type": "code",
      "source": [
        "CLASS_INDEX = 0\n",
        "X_INDEX = 1\n",
        "Y_INDEX = 2\n",
        "PERSON_CLASS = '0'\n",
        "BALL_CLASS = '32'\n",
        "X_SIZE = 1928\n",
        "Y_SIZE = 1024\n",
        "CROP_SIZE = 224 # pixels, size of crop = (CROP_SIZExCROP_SIZE)\n",
        "radius = int(CROP_SIZE / 2)\n",
        "ANY_INDEX = 0"
      ],
      "metadata": {
        "id": "mPxkGrYLVmj3"
      },
      "execution_count": 4,
      "outputs": []
    },
    {
      "cell_type": "code",
      "source": [
        "# files = [file for file in listdir(FOLDER_FRAMES) if isfile(join(FOLDER_FRAMES, file))] # get a list of files in the directory\n",
        "# filenames = [os.path.splitext(filename)[0] for filename in files] # separate filenames from their extension .jpg"
      ],
      "metadata": {
        "id": "xGk_AYmYVuGG"
      },
      "execution_count": 5,
      "outputs": []
    },
    {
      "cell_type": "markdown",
      "source": [
        "## Test: doing above by iterating over 2 different folders (frames and labels)"
      ],
      "metadata": {
        "id": "lWB-yCa8hK_M"
      }
    },
    {
      "cell_type": "code",
      "source": [
        "POSITIVES_FOLDER = '/content/drive/MyDrive/Bundesliga/PositiveFrames/'\n",
        "FOLDER_LABELS = POSITIVES_FOLDER + 'detect/'\n",
        "FOLDER_FRAMES = POSITIVES_FOLDER + 'frames_ms2/'\n",
        "\n",
        "FIRST_FRAMES = FOLDER_FRAMES + '1606b0e6_0/'\n",
        "SECOND_FRAMES = FOLDER_FRAMES + '1606b0e6_1/'"
      ],
      "metadata": {
        "id": "IFKn6V_6p4D3"
      },
      "execution_count": 6,
      "outputs": []
    },
    {
      "cell_type": "code",
      "source": [
        "CURRENT_FOLDER = POSITIVES_FOLDER\n",
        "os.chdir(CURRENT_FOLDER)\n",
        "! pwd"
      ],
      "metadata": {
        "colab": {
          "base_uri": "https://localhost:8080/"
        },
        "id": "qA0qXb3up4G5",
        "outputId": "b7674e65-fba2-49b7-bcc1-b0faa3043757"
      },
      "execution_count": 7,
      "outputs": [
        {
          "output_type": "stream",
          "name": "stdout",
          "text": [
            "/content/drive/MyDrive/Bundesliga/PositiveFrames\n"
          ]
        }
      ]
    },
    {
      "cell_type": "markdown",
      "source": [
        "## Main code:"
      ],
      "metadata": {
        "id": "YILd4Fh8KVxf"
      }
    },
    {
      "cell_type": "code",
      "source": [
        "# video = \"_\".join(filenames[ANY_INDEX].split(\"_\", 2)[:2])\n",
        "# rest = ''.join(filenames[ANY_INDEX].split(\"_\", 2)[2:])\n",
        "# y = filenames[ANY_INDEX].split(\"_\")[3]\n",
        "# video, rest, y"
      ],
      "metadata": {
        "id": "eN-NBasZGery"
      },
      "execution_count": 8,
      "outputs": []
    },
    {
      "cell_type": "code",
      "source": [
        "# current_labels = FOLDER_LABELS + video + '/labels/'\n",
        "# current_labels"
      ],
      "metadata": {
        "id": "W66O2BcEJn62"
      },
      "execution_count": 9,
      "outputs": []
    },
    {
      "cell_type": "code",
      "source": [
        "USE_PERSONS = True\n",
        "USE_PERSONS_THRESH = 15\n",
        "FRAMES_PER_EVENT = 35\n",
        "NUM_CLASSES = 3\n",
        "CONFIDENCE_INDEX = 5"
      ],
      "metadata": {
        "id": "2dlnCXa4deQS"
      },
      "execution_count": 10,
      "outputs": []
    },
    {
      "cell_type": "markdown",
      "source": [
        "FRAMES_FORMAT = 'VIDEOID_EVENTID_CLASSID_ORDERID.jpg'"
      ],
      "metadata": {
        "id": "LrsxTs5Nh4bS"
      }
    },
    {
      "cell_type": "markdown",
      "source": [
        "Class meanings = {0: 'challenge', 1: 'throw-in', 2: 'play'}"
      ],
      "metadata": {
        "id": "9GthaQp-h4en"
      }
    },
    {
      "cell_type": "code",
      "source": [
        "# Challenges' frame between tolerances are respectively: 17 yes, 1 yes, 17 yes.\n",
        "# For play and throw-in are respectively: 9 no, 8 yes, 1 yes, 8 yes, 9 no."
      ],
      "metadata": {
        "id": "65PUI4Ul9Nrj"
      },
      "execution_count": 11,
      "outputs": []
    },
    {
      "cell_type": "markdown",
      "source": [
        "Implementation:"
      ],
      "metadata": {
        "id": "gcKkZJBiGvBM"
      }
    },
    {
      "cell_type": "code",
      "source": [
        "video_ids = ['1606b0e6_0', \n",
        "             '1606b0e6_1', # not done\n",
        "             'cfbe2e94_0', \n",
        "             'cfbe2e94_1',\n",
        "             'ecf251d4_0',\n",
        "             '3c993bd2_0', \n",
        "             '3c993bd2_1', # not done\n",
        "             '4ffd5986_0', \n",
        "             '9a97dae4_1', \n",
        "             '35bd9041_0', # not done\n",
        "             '35bd9041_1',\n",
        "             '407c5a9e_1',\n",
        "             ]"
      ],
      "metadata": {
        "id": "6eR51laT9JhF"
      },
      "execution_count": 31,
      "outputs": []
    },
    {
      "cell_type": "markdown",
      "source": [
        "Folders with missing frames (as discussed on Slack on 12/11/22):\n",
        "- ['1606b0e6_1', '35bd9041_0', '3c993bd2_0']"
      ],
      "metadata": {
        "id": "fKtUjKskguts"
      }
    },
    {
      "cell_type": "code",
      "source": [
        "EVENTS_PER_VIDEO = {'1606b0e6_0': 396,\n",
        "                    # '1606b0e6_1':,\n",
        "                    'cfbe2e94_0': 305,\n",
        "                    'cfbe2e94_1': 285,\n",
        "                    'ecf251d4_0': 386,\n",
        "                    # '3c993bd2_1':,\n",
        "                    '3c993bd2_1': 376,\n",
        "                    '4ffd5986_0': 302,\n",
        "                    '9a97dae4_1': 291,\n",
        "                    # '35bd9041_0':, \n",
        "                    '35bd9041_1': 359,\n",
        "                    '407c5a9e_1': 350,\n",
        "                    }\n",
        "# MAYBE CODE IT IN A BETTER WAY"
      ],
      "metadata": {
        "id": "_qJBcx_0Ny-w"
      },
      "execution_count": 32,
      "outputs": []
    },
    {
      "cell_type": "code",
      "source": [
        "# ! cat frames_ms2/3c993bd2_1 | find \"3c993bd2_1_105\" # DOESN'T WORK"
      ],
      "metadata": {
        "id": "nmxS2Gb9Oy8-"
      },
      "execution_count": 15,
      "outputs": []
    },
    {
      "cell_type": "code",
      "source": [
        "# ! grep \"3c993bd2_1_105\" frames_ms2/3c993bd2_1 # DOESN'T WORK"
      ],
      "metadata": {
        "id": "dSmI6GSGOa_R"
      },
      "execution_count": 16,
      "outputs": []
    },
    {
      "cell_type": "code",
      "source": [
        "# ! ls frames_ms2/3c993bd2_1"
      ],
      "metadata": {
        "id": "5T2mjqM9N9Fr"
      },
      "execution_count": 17,
      "outputs": []
    },
    {
      "cell_type": "code",
      "source": [
        "POSITIVES_FOLDER = '/content/drive/MyDrive/Bundesliga/PositiveFrames/'\n",
        "FOLDER_LABELS = POSITIVES_FOLDER + 'detect/'\n",
        "FOLDER_FRAMES = POSITIVES_FOLDER + 'frames_ms2/'\n",
        "\n",
        "FIRST_FRAMES = FOLDER_FRAMES + '1606b0e6_0/'\n",
        "SECOND_FRAMES = FOLDER_FRAMES + '1606b0e6_1/'"
      ],
      "metadata": {
        "id": "ACyLvsBe8Dwn"
      },
      "execution_count": 14,
      "outputs": []
    },
    {
      "cell_type": "code",
      "source": [
        "os.chdir(POSITIVES_FOLDER)\n",
        "! pwd"
      ],
      "metadata": {
        "colab": {
          "base_uri": "https://localhost:8080/"
        },
        "id": "zxXCT0VyOISa",
        "outputId": "ffe01739-ea17-4b69-e5e7-7f006a305777"
      },
      "execution_count": 15,
      "outputs": [
        {
          "output_type": "stream",
          "name": "stdout",
          "text": [
            "/content/drive/MyDrive/Bundesliga/PositiveFrames\n"
          ]
        }
      ]
    },
    {
      "cell_type": "code",
      "source": [
        "# ! mkdir crops"
      ],
      "metadata": {
        "id": "oEczTD7kl4Jm"
      },
      "execution_count": 16,
      "outputs": []
    },
    {
      "cell_type": "code",
      "source": [
        "FIRST_FRAME_USED = 18"
      ],
      "metadata": {
        "id": "x2kQJbe4mcye"
      },
      "execution_count": 17,
      "outputs": []
    },
    {
      "cell_type": "code",
      "source": [
        "FOLDER_LABELS"
      ],
      "metadata": {
        "colab": {
          "base_uri": "https://localhost:8080/",
          "height": 35
        },
        "id": "1aE0mAfh77Ld",
        "outputId": "8e07aff7-0552-4299-a98e-330fe406f598"
      },
      "execution_count": 18,
      "outputs": [
        {
          "output_type": "execute_result",
          "data": {
            "text/plain": [
              "'/content/drive/MyDrive/Bundesliga/PositiveFrames/detect/'"
            ],
            "application/vnd.google.colaboratory.intrinsic+json": {
              "type": "string"
            }
          },
          "metadata": {},
          "execution_count": 18
        }
      ]
    },
    {
      "cell_type": "code",
      "source": [
        "videos = [video for video in EVENTS_PER_VIDEO.keys()]\n",
        "videos"
      ],
      "metadata": {
        "id": "1KvZtTO2LYRx",
        "colab": {
          "base_uri": "https://localhost:8080/"
        },
        "outputId": "0fbb3f5c-1803-4be5-964b-9c0b4d4b9948"
      },
      "execution_count": 35,
      "outputs": [
        {
          "output_type": "execute_result",
          "data": {
            "text/plain": [
              "['1606b0e6_0',\n",
              " 'cfbe2e94_0',\n",
              " 'cfbe2e94_1',\n",
              " 'ecf251d4_0',\n",
              " '3c993bd2_1',\n",
              " '4ffd5986_0',\n",
              " '9a97dae4_1',\n",
              " '35bd9041_1',\n",
              " '407c5a9e_1']"
            ]
          },
          "metadata": {},
          "execution_count": 35
        }
      ]
    },
    {
      "cell_type": "markdown",
      "source": [
        "## Main code:"
      ],
      "metadata": {
        "id": "y3uLydbp9BdR"
      }
    },
    {
      "cell_type": "markdown",
      "source": [
        "### Hyperparameter tunning to find best threshold for distance ball-person"
      ],
      "metadata": {
        "id": "TRCq-YV66Uea"
      }
    },
    {
      "cell_type": "code",
      "source": [
        "! pwd"
      ],
      "metadata": {
        "colab": {
          "base_uri": "https://localhost:8080/"
        },
        "id": "iPCyMP_3qkK9",
        "outputId": "1e6cbb8c-088a-4ff5-ab94-657252dbead4"
      },
      "execution_count": 20,
      "outputs": [
        {
          "output_type": "stream",
          "name": "stdout",
          "text": [
            "/content/drive/MyDrive/Bundesliga/PositiveFrames\n"
          ]
        }
      ]
    },
    {
      "cell_type": "code",
      "source": [
        "video = '1606b0e6_0'\n",
        "event = 0\n",
        "class_ = 0\n",
        "r = 1"
      ],
      "metadata": {
        "id": "Buo-uOHOpKoA"
      },
      "execution_count": 21,
      "outputs": []
    },
    {
      "cell_type": "code",
      "source": [
        "from scipy import spatial"
      ],
      "metadata": {
        "id": "aqsMd2eXuAsg"
      },
      "execution_count": 22,
      "outputs": []
    },
    {
      "cell_type": "code",
      "source": [
        "event_id = f'{video}_{event}_{class_}'\n",
        "\n",
        "frame_id = f'{event_id}_{FIRST_FRAME_USED - 1 + r}' # -1 so we get main fraim (index 17)\n",
        "label_txt = f'{frame_id}.txt'\n",
        "with open(f'{FOLDER_LABELS}{video}/labels/{label_txt}') as f:\n",
        "  reader = f.read()\n",
        "detections = [i.split(' ') for i in reader.split('\\n')][:-1] # [:-1] because last element is always \"''\"\n",
        "\n",
        "arr = np.array(detections)\n",
        "persons = arr[arr[:, 0] == '0']\n",
        "xy_persons = persons[:, X_INDEX:Y_INDEX + 1].astype(float)\n",
        "detection = arr[arr[:, 0] == '32'] # DON'T USE IN ACTUAL CODE, YOU ALREADY HAVE 'DETECTION'\n",
        "xy_ball = detection[:, X_INDEX:Y_INDEX + 1].astype(float)\n",
        "xy_closest_person = xy_persons[spatial.KDTree(xy_persons).query(xy_ball)[1]] # get closest point\n",
        "distance, index = spatial.KDTree(xy_persons).query(xy_ball) # get distance\n",
        "# distance 1606b0e6_0_0_0_17: 0.01715389 # ball confused with football boot\n",
        "# distance 1606b0e6_0_1_0_17: 0.02588498 # ball behind goalkeeper\n",
        "# distance 1606b0e6_0_2_1_17: 0.05881961 # ball behind goalkeeper, and 0.13542185 ball on court's side\n",
        "# distance 1606b0e6_0_3_2_20: 0.01331324 # BALL ON PLAY\n",
        "\n",
        "# distance 1606b0e6_0_4_2_19: 0.05413774 # BALL ON PLAY\n",
        "\n",
        "# distance 1606b0e6_0_5_2_17: 0.22416412 # ball on top right court's side\n",
        "# distance 1606b0e6_0_5_2_19: 0.22460785 # ball on top right court's side\n",
        "# distance 1606b0e6_0_5_2_20: 0.22483156 # ball on top right court's side\n",
        "# distance 1606b0e6_0_5_2_21: 0.22660578 # ball on top right court's side, and 0.01887572 BALL ON PLAY\n",
        "\n",
        "# distance 1606b0e6_0_6_2_17: 0.21772145 # ball on top right court's side\n",
        "# distance 1606b0e6_0_6_2_18: 0.21834437 # ball on top right court's side, and 0.01998301 BALL ON PLAY\n",
        "\n",
        "# distance 1606b0e6_0_7_2_17: 0.02071127 # BALL ON PLAY\n",
        "\n",
        "# distance 1606b0e6_0_8_2_24: 0.01237615 # ball confused with football boot\n",
        "\n",
        "# distance 1606b0e6_0_9_2_21: 0.05960312 # BALL ON PLAY\n",
        "\n",
        "# distance 1606b0e6_0_10_2_17: 0.16937768 # ball confused with head of person top bottom\n",
        "# distance 1606b0e6_0_10_2_18: 0.1684855 # ball confused with head of person top bottom\n",
        "# distance 1606b0e6_0_10_2_19: 0.16789392 # ball confused with head of person top bottom\n",
        "# distance 1606b0e6_0_10_2_25: 0.04449379 # BALL ON PLAY\n",
        "\n",
        "# distance 1606b0e6_0_10_2_17: 0.238802 # ball on top right court's side\n",
        "# distance 1606b0e6_0_11_2_18: 0.23834602 # ball on top right court's side\n",
        "# distance 1606b0e6_0_11_2_19: 0.16189149 # ball on top right court's side (same, person in crowd detected now)\n",
        "# distance 1606b0e6_0_11_2_20: 0.06701084 # ball on top right court's side (same, another person detected now), and\n",
        "# 0.0336005 BALL ON PLAY\n",
        "\n",
        "# WE SET THRESHOLD TO 0.09 FOR NOW.\n",
        "\n",
        "frame_id, distance, xy_ball"
      ],
      "metadata": {
        "id": "rmWsyNAnpGY1"
      },
      "execution_count": null,
      "outputs": []
    },
    {
      "cell_type": "code",
      "source": [
        "distance[0] > 0.08"
      ],
      "metadata": {
        "id": "oYPcyQm698HC"
      },
      "execution_count": null,
      "outputs": []
    },
    {
      "cell_type": "markdown",
      "source": [
        "### Code implemented"
      ],
      "metadata": {
        "id": "neTCoj7o6auJ"
      }
    },
    {
      "cell_type": "code",
      "source": [
        "UNIQUE_INDEX = 0"
      ],
      "metadata": {
        "id": "M4-kixGa-UE5"
      },
      "execution_count": 23,
      "outputs": []
    },
    {
      "cell_type": "code",
      "source": [
        "ball_close_to_person = True\n",
        "ball_person_threshold = 0.065 # AS STRICT AS I CAN BE, LOWER THAN 0.06 IS NOT OK\n",
        "y_camera_threshold = 0.75"
      ],
      "metadata": {
        "id": "UsiqBRoIot-N"
      },
      "execution_count": 24,
      "outputs": []
    },
    {
      "cell_type": "code",
      "source": [
        "videos = ['1606b0e6_1', '35bd9041_0', '3c993bd2_0']\n",
        "videos"
      ],
      "metadata": {
        "colab": {
          "base_uri": "https://localhost:8080/"
        },
        "id": "4xazZHlc8df6",
        "outputId": "2a9ff998-a58d-43ba-9737-8b21f8c1d971"
      },
      "execution_count": 38,
      "outputs": [
        {
          "output_type": "execute_result",
          "data": {
            "text/plain": [
              "['1606b0e6_1', '35bd9041_0', '3c993bd2_0']"
            ]
          },
          "metadata": {},
          "execution_count": 38
        }
      ]
    },
    {
      "cell_type": "code",
      "source": [
        "for video in videos:\n",
        "  ! mkdir crops/$video\n",
        "  # We iterate over every event, from 0 to 395\n",
        "  # for event in range(EVENTS_PER_VIDEO[video]):\n",
        "  for event in range(300):\n",
        "    # We establish ball = False (in this event, ball wasn't yet recognized)\n",
        "    ball = False\n",
        "    # We should find for example f'1606b0e6_0_{frame}_' and establish that class_ equals what follows it\n",
        "\n",
        "    # Sometimes fails for no reason and then works\n",
        "    # it_worked = False\n",
        "    # while not it_worked:\n",
        "    #   try: \n",
        "    #     file = glob.glob(f'{substring}*.txt')[ANY_INDEX]\n",
        "    #     substring = f'{FOLDER_LABELS}{video}/labels/{video}_{event}_'\n",
        "    #     it_worked = True\n",
        "    #   except IndexError:\n",
        "    #     pass\n",
        "    substring = f'{FOLDER_LABELS}{video}/labels/{video}_{event}_'\n",
        "    file = glob.glob(f'{substring}*.txt')[ANY_INDEX]\n",
        "\n",
        "    len_subs = len(substring)\n",
        "    # print(substring)\n",
        "    # print(len_subs)\n",
        "    # print(file[len_subs])\n",
        "    class_ = int(file[len_subs])\n",
        "\n",
        "    event_id = f'{video}_{event}_{class_}'\n",
        "\n",
        "    # We create a condition based on the class on how to iterate for the frames.\n",
        "    # Challenges' frame between tolerances are respectively: 17 yes, 1 yes, 17 yes.\n",
        "    # For play and throw-in are respectively: 9 no, 8 yes, 1 yes, 8 yes, 9 no.\n",
        "\n",
        "    # if class_ == 0: # if it's a challenge\n",
        "      \n",
        "    # TO AVOID BALL FPs: we iterate over every frames, from 18 to 32\n",
        "    for frame in range(FIRST_FRAME_USED, FRAMES_PER_EVENT - 2): # - 2 cause we need to use 2 more after the one detected\n",
        "      frame_id = f'{event_id}_{frame}' # e.g. '1606b0e6_0_0_0_0'\n",
        "      print(frame_id)\n",
        "      label_txt = f'{frame_id}.txt'\n",
        "      with open(f'{FOLDER_LABELS}{video}/labels/{label_txt}') as f:\n",
        "        reader = f.read()\n",
        "      detections = [i.split(' ') for i in reader.split('\\n')][:-1] # [:-1] because last element is always \"''\"\n",
        "      # counter = 0\n",
        "\n",
        "      for detection in detections: # in a single frame\n",
        "\n",
        "        # confidences = list() # WE ARE NOT IMPLEMENTING CONFIDENCES FOR NOW AS IT MAY NOT BE RELEVANT\n",
        "        if detection[CLASS_INDEX] == BALL_CLASS:\n",
        "          # Ball is True for this event, it was detected in at least one of the frames.\n",
        "          ball = True\n",
        "          \n",
        "          # confidence = float(detection[CONFIDENCE_INDEX])\n",
        "\n",
        "          x = int(float(detection[X_INDEX]) * X_SIZE)\n",
        "          y = int(float(detection[Y_INDEX]) * Y_SIZE) # 0.75 * 1028 = 771\n",
        "          ymin = max(y - radius, 0) # 771 - 112 = 659\n",
        "          ymax = min(y + radius, Y_SIZE) # 771 + 112 = 883\n",
        "          xmin = max(x - radius, 0)\n",
        "          xmax = min(x + radius, X_SIZE)\n",
        "\n",
        "          # TO AVOID BALL FPs: we throw away detections that make the crop next to a limit of the frame\n",
        "\n",
        "          # CHANGED ymax == Y_SIZE to y > Y_SIZE * 0.75 TO BE MORE STRICT\n",
        "\n",
        "          if ymin == 0 or y > Y_SIZE * y_camera_threshold or xmin == 0 or xmax == X_SIZE:\n",
        "            ball = False\n",
        "\n",
        "          # We make sure all crops are 224x224 (this won't apply if code above is implemented)\n",
        "          # if ymin == 0:\n",
        "          #   ymax = CROP_SIZE # = 224\n",
        "          # elif ymax == Y_SIZE:\n",
        "          #   ymin = Y_SIZE - CROP_SIZE # = 1024 - 224\n",
        "          # if xmin == 0:\n",
        "          #   xmax = CROP_SIZE # == 224 \n",
        "          # elif xmax == X_SIZE:\n",
        "          #   xmin = X_SIZE - CROP_SIZE # = 1928 - 224\n",
        "\n",
        "          if ball_close_to_person:\n",
        "            arr = np.array(detections)\n",
        "            persons = arr[arr[:, 0] == PERSON_CLASS]\n",
        "            xy_persons = persons[:, X_INDEX:Y_INDEX + 1].astype(float)\n",
        "            xy_ball = np.array(detection[X_INDEX:Y_INDEX + 1]).astype(float)\n",
        "            xy_closest_person = xy_persons[spatial.KDTree(xy_persons).query(xy_ball)[1]] # get closest person\n",
        "            distance, index = spatial.KDTree(xy_persons).query(xy_ball) # get closest distance ball-person\n",
        "            if distance > ball_person_threshold:\n",
        "              ball = False\n",
        "\n",
        "          if ball:\n",
        "            for r in range(frame - 3, frame): # 3: amount of frames per event\n",
        "              img = cv2.imread(f'{FOLDER_FRAMES}{video}/{event_id}_{r}.jpg')\n",
        "              cropped_image = img[ymin:ymax, xmin:xmax] # We change from (x, y) to (y, x) to work with cv2_imshow\n",
        "              cv2.imwrite(f'{POSITIVES_FOLDER}crops/{video}/{frame_id}_{r}cropped.jpg', cropped_image)\n",
        "            break # breaks loop of detections in a single frame (so there are 3 per frame only)\n",
        "\n",
        "# I ADDED THE FOLLOWING IF STATEMENT:\n",
        "        # if ball:\n",
        "        #   break\n",
        "\n",
        "      if ball:      \n",
        "        break # breaks loop of frame in frames per event (so there are 3 per event only)\n",
        "\n",
        "      elif frame == FRAMES_PER_EVENT - 3: # We implement crop on main frame (index 17) based on closest two people\n",
        "        frame_id = f'{event_id}_{FIRST_FRAME_USED - 1}' # -1 so we get main fraim (index 17)\n",
        "        label_txt = f'{frame_id}.txt'\n",
        "        with open(f'{FOLDER_LABELS}{video}/labels/{label_txt}') as f:\n",
        "          reader = f.read()\n",
        "        detections = [i.split(' ') for i in reader.split('\\n')][:-1] # [:-1] because last element is always \"''\"\n",
        "        arr = np.array(detections)\n",
        "        persons = arr[arr[:, 0] == '0']\n",
        "        xy_persons = persons[:, X_INDEX:Y_INDEX + 1].astype(float)\n",
        "        dists = cdist(xy_persons, xy_persons)\n",
        "        dists[dists == 0] = dists.max()\n",
        "        arg1, arg2 = np.unravel_index(dists.argmin(), dists.shape)\n",
        "        two_people = xy_persons[[arg1, arg2]]\n",
        "        frame_center = np.mean(two_people, axis=0)\n",
        "        x, y = frame_center\n",
        "        x = int(x * X_SIZE)\n",
        "        y = int(y * Y_SIZE)\n",
        "        ymin = max(y - radius, 0)\n",
        "        ymax = min(y + radius, Y_SIZE)\n",
        "        xmin = max(x - radius, 0)\n",
        "        xmax = min(x + radius, X_SIZE)\n",
        "\n",
        "        for r in range(FIRST_FRAME_USED - 1, FIRST_FRAME_USED + 2): # here we use -1 and + 2 because we are certain it's from 17 (our main frame)\n",
        "          img = cv2.imread(f'{FOLDER_FRAMES}{video}/{event_id}_{r}.jpg')\n",
        "          cropped_image = img[ymin:ymax, xmin:xmax] # We change from (x, y) to (y, x) to work with cv2_imshow\n",
        "          cv2.imwrite(f'{POSITIVES_FOLDER}crops/{video}/{frame_id}_{r}cropped.jpg', cropped_image)\n",
        "        break\n"
      ],
      "metadata": {
        "colab": {
          "base_uri": "https://localhost:8080/",
          "height": 1000
        },
        "id": "3j9G9lb6CZD9",
        "outputId": "74820806-e4ba-4d63-c9fd-fd1bbe2780db"
      },
      "execution_count": 39,
      "outputs": [
        {
          "output_type": "stream",
          "name": "stdout",
          "text": [
            "1606b0e6_1_0_2_18\n",
            "1606b0e6_1_1_2_18\n",
            "1606b0e6_1_1_2_19\n",
            "1606b0e6_1_1_2_20\n",
            "1606b0e6_1_1_2_21\n",
            "1606b0e6_1_1_2_22\n",
            "1606b0e6_1_1_2_23\n",
            "1606b0e6_1_1_2_24\n",
            "1606b0e6_1_2_2_18\n",
            "1606b0e6_1_3_2_18\n",
            "1606b0e6_1_4_2_18\n",
            "1606b0e6_1_4_2_19\n",
            "1606b0e6_1_4_2_20\n",
            "1606b0e6_1_5_2_18\n",
            "1606b0e6_1_6_2_18\n",
            "1606b0e6_1_6_2_19\n",
            "1606b0e6_1_6_2_20\n",
            "1606b0e6_1_7_2_18\n",
            "1606b0e6_1_7_2_19\n",
            "1606b0e6_1_7_2_20\n",
            "1606b0e6_1_8_2_18\n",
            "1606b0e6_1_8_2_19\n",
            "1606b0e6_1_8_2_20\n",
            "1606b0e6_1_9_2_18\n",
            "1606b0e6_1_9_2_19\n",
            "1606b0e6_1_9_2_20\n",
            "1606b0e6_1_10_2_18\n",
            "1606b0e6_1_11_2_18\n",
            "1606b0e6_1_11_2_19\n",
            "1606b0e6_1_11_2_20\n",
            "1606b0e6_1_11_2_21\n",
            "1606b0e6_1_11_2_22\n",
            "1606b0e6_1_11_2_23\n",
            "1606b0e6_1_11_2_24\n",
            "1606b0e6_1_11_2_25\n",
            "1606b0e6_1_11_2_26\n",
            "1606b0e6_1_11_2_27\n",
            "1606b0e6_1_11_2_28\n",
            "1606b0e6_1_12_2_18\n",
            "1606b0e6_1_13_2_18\n",
            "1606b0e6_1_13_2_19\n",
            "1606b0e6_1_14_2_18\n",
            "1606b0e6_1_15_2_18\n",
            "1606b0e6_1_15_2_19\n",
            "1606b0e6_1_16_2_18\n",
            "1606b0e6_1_17_2_18\n",
            "1606b0e6_1_17_2_19\n",
            "1606b0e6_1_17_2_20\n",
            "1606b0e6_1_17_2_21\n",
            "1606b0e6_1_17_2_22\n",
            "1606b0e6_1_17_2_23\n",
            "1606b0e6_1_17_2_24\n",
            "1606b0e6_1_17_2_25\n",
            "1606b0e6_1_17_2_26\n",
            "1606b0e6_1_18_2_18\n",
            "1606b0e6_1_18_2_19\n",
            "1606b0e6_1_18_2_20\n",
            "1606b0e6_1_18_2_21\n",
            "1606b0e6_1_18_2_22\n",
            "1606b0e6_1_18_2_23\n",
            "1606b0e6_1_18_2_24\n",
            "1606b0e6_1_18_2_25\n",
            "1606b0e6_1_18_2_26\n",
            "1606b0e6_1_18_2_27\n",
            "1606b0e6_1_18_2_28\n",
            "1606b0e6_1_18_2_29\n",
            "1606b0e6_1_18_2_30\n",
            "1606b0e6_1_19_2_18\n",
            "1606b0e6_1_20_2_18\n",
            "1606b0e6_1_21_2_18\n",
            "1606b0e6_1_22_2_18\n",
            "1606b0e6_1_22_2_19\n",
            "1606b0e6_1_23_2_18\n",
            "1606b0e6_1_23_2_19\n",
            "1606b0e6_1_23_2_20\n",
            "1606b0e6_1_23_2_21\n",
            "1606b0e6_1_23_2_22\n",
            "1606b0e6_1_24_2_18\n",
            "1606b0e6_1_24_2_19\n",
            "1606b0e6_1_24_2_20\n",
            "1606b0e6_1_24_2_21\n",
            "1606b0e6_1_24_2_22\n",
            "1606b0e6_1_24_2_23\n",
            "1606b0e6_1_24_2_24\n",
            "1606b0e6_1_25_2_18\n",
            "1606b0e6_1_26_2_18\n",
            "1606b0e6_1_26_2_19\n",
            "1606b0e6_1_26_2_20\n",
            "1606b0e6_1_26_2_21\n",
            "1606b0e6_1_27_2_18\n",
            "1606b0e6_1_27_2_19\n",
            "1606b0e6_1_27_2_20\n",
            "1606b0e6_1_28_2_18\n",
            "1606b0e6_1_29_2_18\n",
            "1606b0e6_1_29_2_19\n",
            "1606b0e6_1_30_2_18\n",
            "1606b0e6_1_31_2_18\n",
            "1606b0e6_1_32_2_18\n",
            "1606b0e6_1_32_2_19\n",
            "1606b0e6_1_33_2_18\n",
            "1606b0e6_1_34_2_18\n",
            "1606b0e6_1_34_2_19\n",
            "1606b0e6_1_34_2_20\n",
            "1606b0e6_1_34_2_21\n",
            "1606b0e6_1_34_2_22\n",
            "1606b0e6_1_34_2_23\n",
            "1606b0e6_1_34_2_24\n",
            "1606b0e6_1_35_2_18\n",
            "1606b0e6_1_36_2_18\n",
            "1606b0e6_1_37_2_18\n",
            "1606b0e6_1_38_2_18\n",
            "1606b0e6_1_38_2_19\n",
            "1606b0e6_1_38_2_20\n",
            "1606b0e6_1_38_2_21\n",
            "1606b0e6_1_39_2_18\n",
            "1606b0e6_1_39_2_19\n",
            "1606b0e6_1_40_0_18\n",
            "1606b0e6_1_41_0_18\n",
            "1606b0e6_1_42_2_18\n",
            "1606b0e6_1_43_0_18\n",
            "1606b0e6_1_43_0_19\n",
            "1606b0e6_1_43_0_20\n",
            "1606b0e6_1_43_0_21\n",
            "1606b0e6_1_43_0_22\n",
            "1606b0e6_1_43_0_23\n",
            "1606b0e6_1_44_2_18\n",
            "1606b0e6_1_45_2_18\n",
            "1606b0e6_1_46_2_18\n",
            "1606b0e6_1_47_2_18\n",
            "1606b0e6_1_47_2_19\n",
            "1606b0e6_1_47_2_20\n",
            "1606b0e6_1_48_0_18\n",
            "1606b0e6_1_48_0_19\n",
            "1606b0e6_1_48_0_20\n",
            "1606b0e6_1_48_0_21\n",
            "1606b0e6_1_48_0_22\n",
            "1606b0e6_1_48_0_23\n",
            "1606b0e6_1_49_2_18\n",
            "1606b0e6_1_50_0_18\n",
            "1606b0e6_1_51_2_18\n",
            "1606b0e6_1_51_2_19\n",
            "1606b0e6_1_52_2_18\n",
            "1606b0e6_1_52_2_19\n",
            "1606b0e6_1_52_2_20\n",
            "1606b0e6_1_52_2_21\n",
            "1606b0e6_1_52_2_22\n",
            "1606b0e6_1_52_2_23\n",
            "1606b0e6_1_52_2_24\n",
            "1606b0e6_1_52_2_25\n",
            "1606b0e6_1_52_2_26\n",
            "1606b0e6_1_53_2_18\n",
            "1606b0e6_1_53_2_19\n",
            "1606b0e6_1_53_2_20\n",
            "1606b0e6_1_53_2_21\n",
            "1606b0e6_1_53_2_22\n",
            "1606b0e6_1_53_2_23\n",
            "1606b0e6_1_53_2_24\n",
            "1606b0e6_1_53_2_25\n",
            "1606b0e6_1_53_2_26\n",
            "1606b0e6_1_53_2_27\n",
            "1606b0e6_1_54_2_18\n",
            "1606b0e6_1_55_2_18\n",
            "1606b0e6_1_55_2_19\n",
            "1606b0e6_1_55_2_20\n",
            "1606b0e6_1_55_2_21\n",
            "1606b0e6_1_55_2_22\n",
            "1606b0e6_1_55_2_23\n",
            "1606b0e6_1_56_2_18\n",
            "1606b0e6_1_57_0_18\n",
            "1606b0e6_1_58_2_18\n",
            "1606b0e6_1_58_2_19\n",
            "1606b0e6_1_58_2_20\n",
            "1606b0e6_1_58_2_21\n",
            "1606b0e6_1_58_2_22\n",
            "1606b0e6_1_58_2_23\n",
            "1606b0e6_1_58_2_24\n",
            "1606b0e6_1_59_2_18\n",
            "1606b0e6_1_60_2_18\n",
            "1606b0e6_1_60_2_19\n",
            "1606b0e6_1_60_2_20\n",
            "1606b0e6_1_60_2_21\n",
            "1606b0e6_1_60_2_22\n",
            "1606b0e6_1_60_2_23\n",
            "1606b0e6_1_60_2_24\n",
            "1606b0e6_1_60_2_25\n",
            "1606b0e6_1_60_2_26\n",
            "1606b0e6_1_60_2_27\n",
            "1606b0e6_1_60_2_28\n",
            "1606b0e6_1_60_2_29\n",
            "1606b0e6_1_60_2_30\n",
            "1606b0e6_1_60_2_31\n",
            "1606b0e6_1_60_2_32\n",
            "1606b0e6_1_61_2_18\n",
            "1606b0e6_1_62_0_18\n",
            "1606b0e6_1_62_0_19\n",
            "1606b0e6_1_62_0_20\n",
            "1606b0e6_1_62_0_21\n",
            "1606b0e6_1_62_0_22\n",
            "1606b0e6_1_62_0_23\n",
            "1606b0e6_1_62_0_24\n",
            "1606b0e6_1_62_0_25\n",
            "1606b0e6_1_62_0_26\n",
            "1606b0e6_1_62_0_27\n",
            "1606b0e6_1_62_0_28\n",
            "1606b0e6_1_62_0_29\n",
            "1606b0e6_1_62_0_30\n",
            "1606b0e6_1_62_0_31\n",
            "1606b0e6_1_62_0_32\n",
            "1606b0e6_1_63_2_18\n",
            "1606b0e6_1_63_2_19\n",
            "1606b0e6_1_63_2_20\n",
            "1606b0e6_1_63_2_21\n",
            "1606b0e6_1_63_2_22\n",
            "1606b0e6_1_64_2_18\n",
            "1606b0e6_1_64_2_19\n",
            "1606b0e6_1_64_2_20\n",
            "1606b0e6_1_64_2_21\n",
            "1606b0e6_1_65_2_18\n",
            "1606b0e6_1_65_2_19\n",
            "1606b0e6_1_66_2_18\n",
            "1606b0e6_1_66_2_19\n",
            "1606b0e6_1_66_2_20\n",
            "1606b0e6_1_66_2_21\n",
            "1606b0e6_1_66_2_22\n",
            "1606b0e6_1_66_2_23\n",
            "1606b0e6_1_66_2_24\n",
            "1606b0e6_1_66_2_25\n",
            "1606b0e6_1_66_2_26\n",
            "1606b0e6_1_66_2_27\n",
            "1606b0e6_1_66_2_28\n",
            "1606b0e6_1_66_2_29\n",
            "1606b0e6_1_66_2_30\n",
            "1606b0e6_1_66_2_31\n",
            "1606b0e6_1_66_2_32\n",
            "1606b0e6_1_67_2_18\n",
            "1606b0e6_1_67_2_19\n",
            "1606b0e6_1_68_2_18\n",
            "1606b0e6_1_68_2_19\n",
            "1606b0e6_1_68_2_20\n",
            "1606b0e6_1_68_2_21\n",
            "1606b0e6_1_69_2_18\n",
            "1606b0e6_1_70_2_18\n",
            "1606b0e6_1_70_2_19\n",
            "1606b0e6_1_70_2_20\n",
            "1606b0e6_1_70_2_21\n",
            "1606b0e6_1_70_2_22\n",
            "1606b0e6_1_70_2_23\n",
            "1606b0e6_1_70_2_24\n",
            "1606b0e6_1_70_2_25\n",
            "1606b0e6_1_70_2_26\n",
            "1606b0e6_1_70_2_27\n",
            "1606b0e6_1_70_2_28\n",
            "1606b0e6_1_70_2_29\n",
            "1606b0e6_1_71_0_18\n",
            "1606b0e6_1_72_2_18\n",
            "1606b0e6_1_72_2_19\n",
            "1606b0e6_1_72_2_20\n",
            "1606b0e6_1_72_2_21\n",
            "1606b0e6_1_72_2_22\n",
            "1606b0e6_1_72_2_23\n",
            "1606b0e6_1_72_2_24\n",
            "1606b0e6_1_72_2_25\n",
            "1606b0e6_1_72_2_26\n",
            "1606b0e6_1_72_2_27\n",
            "1606b0e6_1_72_2_28\n",
            "1606b0e6_1_73_2_18\n",
            "1606b0e6_1_74_2_18\n",
            "1606b0e6_1_74_2_19\n",
            "1606b0e6_1_74_2_20\n",
            "1606b0e6_1_75_0_18\n",
            "1606b0e6_1_75_0_19\n",
            "1606b0e6_1_75_0_20\n",
            "1606b0e6_1_75_0_21\n",
            "1606b0e6_1_76_2_18\n",
            "1606b0e6_1_76_2_19\n",
            "1606b0e6_1_76_2_20\n",
            "1606b0e6_1_77_2_18\n",
            "1606b0e6_1_78_2_18\n",
            "1606b0e6_1_78_2_19\n",
            "1606b0e6_1_79_2_18\n",
            "1606b0e6_1_80_2_18\n",
            "1606b0e6_1_80_2_19\n",
            "1606b0e6_1_80_2_20\n",
            "1606b0e6_1_81_2_18\n",
            "1606b0e6_1_82_2_18\n",
            "1606b0e6_1_83_2_18\n",
            "1606b0e6_1_83_2_19\n",
            "1606b0e6_1_83_2_20\n",
            "1606b0e6_1_83_2_21\n",
            "1606b0e6_1_83_2_22\n",
            "1606b0e6_1_83_2_23\n",
            "1606b0e6_1_83_2_24\n",
            "1606b0e6_1_83_2_25\n",
            "1606b0e6_1_83_2_26\n",
            "1606b0e6_1_84_2_18\n",
            "1606b0e6_1_84_2_19\n",
            "1606b0e6_1_84_2_20\n",
            "1606b0e6_1_84_2_21\n",
            "1606b0e6_1_84_2_22\n",
            "1606b0e6_1_84_2_23\n",
            "1606b0e6_1_84_2_24\n",
            "1606b0e6_1_84_2_25\n",
            "1606b0e6_1_84_2_26\n",
            "1606b0e6_1_84_2_27\n",
            "1606b0e6_1_84_2_28\n",
            "1606b0e6_1_85_2_18\n",
            "1606b0e6_1_85_2_19\n",
            "1606b0e6_1_85_2_20\n",
            "1606b0e6_1_85_2_21\n",
            "1606b0e6_1_85_2_22\n",
            "1606b0e6_1_86_2_18\n",
            "1606b0e6_1_86_2_19\n",
            "1606b0e6_1_87_2_18\n",
            "1606b0e6_1_87_2_19\n",
            "1606b0e6_1_88_2_18\n",
            "1606b0e6_1_89_2_18\n",
            "1606b0e6_1_89_2_19\n",
            "1606b0e6_1_89_2_20\n",
            "1606b0e6_1_90_2_18\n",
            "1606b0e6_1_90_2_19\n",
            "1606b0e6_1_90_2_20\n",
            "1606b0e6_1_90_2_21\n",
            "1606b0e6_1_90_2_22\n",
            "1606b0e6_1_90_2_23\n",
            "1606b0e6_1_90_2_24\n",
            "1606b0e6_1_90_2_25\n",
            "1606b0e6_1_90_2_26\n",
            "1606b0e6_1_90_2_27\n",
            "1606b0e6_1_90_2_28\n",
            "1606b0e6_1_90_2_29\n",
            "1606b0e6_1_90_2_30\n",
            "1606b0e6_1_90_2_31\n",
            "1606b0e6_1_90_2_32\n",
            "1606b0e6_1_91_0_18\n",
            "1606b0e6_1_91_0_19\n",
            "1606b0e6_1_91_0_20\n",
            "1606b0e6_1_92_2_18\n",
            "1606b0e6_1_92_2_19\n",
            "1606b0e6_1_92_2_20\n",
            "1606b0e6_1_93_2_18\n",
            "1606b0e6_1_93_2_19\n",
            "1606b0e6_1_93_2_20\n",
            "1606b0e6_1_94_2_18\n",
            "1606b0e6_1_95_2_18\n",
            "1606b0e6_1_95_2_19\n",
            "1606b0e6_1_96_2_18\n",
            "1606b0e6_1_97_2_18\n",
            "1606b0e6_1_97_2_19\n",
            "1606b0e6_1_98_2_18\n",
            "1606b0e6_1_99_0_18\n",
            "1606b0e6_1_100_0_18\n",
            "1606b0e6_1_100_0_19\n",
            "1606b0e6_1_100_0_20\n",
            "1606b0e6_1_100_0_21\n",
            "1606b0e6_1_100_0_22\n",
            "1606b0e6_1_100_0_23\n",
            "1606b0e6_1_100_0_24\n",
            "1606b0e6_1_100_0_25\n",
            "1606b0e6_1_100_0_26\n",
            "1606b0e6_1_100_0_27\n",
            "1606b0e6_1_100_0_28\n",
            "1606b0e6_1_100_0_29\n",
            "1606b0e6_1_100_0_30\n",
            "1606b0e6_1_100_0_31\n",
            "1606b0e6_1_100_0_32\n",
            "1606b0e6_1_101_0_18\n",
            "1606b0e6_1_101_0_19\n",
            "1606b0e6_1_101_0_20\n",
            "1606b0e6_1_101_0_21\n",
            "1606b0e6_1_101_0_22\n",
            "1606b0e6_1_101_0_23\n",
            "1606b0e6_1_101_0_24\n",
            "1606b0e6_1_101_0_25\n",
            "1606b0e6_1_101_0_26\n",
            "1606b0e6_1_102_2_18\n",
            "1606b0e6_1_102_2_19\n",
            "1606b0e6_1_102_2_20\n",
            "1606b0e6_1_102_2_21\n",
            "1606b0e6_1_102_2_22\n",
            "1606b0e6_1_103_2_18\n",
            "1606b0e6_1_104_2_18\n",
            "1606b0e6_1_105_2_18\n",
            "1606b0e6_1_105_2_19\n",
            "1606b0e6_1_106_2_18\n",
            "1606b0e6_1_106_2_19\n",
            "1606b0e6_1_106_2_20\n",
            "1606b0e6_1_106_2_21\n",
            "1606b0e6_1_107_2_18\n",
            "1606b0e6_1_107_2_19\n",
            "1606b0e6_1_107_2_20\n",
            "1606b0e6_1_108_2_18\n",
            "1606b0e6_1_108_2_19\n",
            "1606b0e6_1_108_2_20\n",
            "1606b0e6_1_108_2_21\n",
            "1606b0e6_1_108_2_22\n",
            "1606b0e6_1_108_2_23\n",
            "1606b0e6_1_108_2_24\n",
            "1606b0e6_1_108_2_25\n",
            "1606b0e6_1_108_2_26\n",
            "1606b0e6_1_108_2_27\n",
            "1606b0e6_1_108_2_28\n",
            "1606b0e6_1_108_2_29\n",
            "1606b0e6_1_108_2_30\n",
            "1606b0e6_1_108_2_31\n",
            "1606b0e6_1_108_2_32\n",
            "1606b0e6_1_109_2_18\n",
            "1606b0e6_1_109_2_19\n",
            "1606b0e6_1_109_2_20\n",
            "1606b0e6_1_109_2_21\n",
            "1606b0e6_1_109_2_22\n",
            "1606b0e6_1_109_2_23\n",
            "1606b0e6_1_109_2_24\n",
            "1606b0e6_1_110_2_18\n",
            "1606b0e6_1_111_2_18\n",
            "1606b0e6_1_112_2_18\n",
            "1606b0e6_1_112_2_19\n",
            "1606b0e6_1_112_2_20\n",
            "1606b0e6_1_112_2_21\n",
            "1606b0e6_1_113_2_18\n",
            "1606b0e6_1_114_2_18\n",
            "1606b0e6_1_115_2_18\n",
            "1606b0e6_1_115_2_19\n",
            "1606b0e6_1_116_2_18\n",
            "1606b0e6_1_117_2_18\n",
            "1606b0e6_1_117_2_19\n",
            "1606b0e6_1_117_2_20\n",
            "1606b0e6_1_117_2_21\n",
            "1606b0e6_1_117_2_22\n",
            "1606b0e6_1_117_2_23\n",
            "1606b0e6_1_117_2_24\n",
            "1606b0e6_1_117_2_25\n",
            "1606b0e6_1_117_2_26\n",
            "1606b0e6_1_117_2_27\n",
            "1606b0e6_1_117_2_28\n",
            "1606b0e6_1_118_2_18\n",
            "1606b0e6_1_119_2_18\n",
            "1606b0e6_1_120_2_18\n",
            "1606b0e6_1_120_2_19\n",
            "1606b0e6_1_120_2_20\n",
            "1606b0e6_1_120_2_21\n",
            "1606b0e6_1_120_2_22\n",
            "1606b0e6_1_120_2_23\n",
            "1606b0e6_1_120_2_24\n",
            "1606b0e6_1_120_2_25\n",
            "1606b0e6_1_120_2_26\n",
            "1606b0e6_1_120_2_27\n",
            "1606b0e6_1_120_2_28\n",
            "1606b0e6_1_120_2_29\n",
            "1606b0e6_1_120_2_30\n",
            "1606b0e6_1_121_2_18\n",
            "1606b0e6_1_122_2_18\n",
            "1606b0e6_1_122_2_19\n",
            "1606b0e6_1_122_2_20\n",
            "1606b0e6_1_122_2_21\n",
            "1606b0e6_1_122_2_22\n",
            "1606b0e6_1_122_2_23\n",
            "1606b0e6_1_122_2_24\n",
            "1606b0e6_1_122_2_25\n",
            "1606b0e6_1_122_2_26\n",
            "1606b0e6_1_122_2_27\n",
            "1606b0e6_1_122_2_28\n",
            "1606b0e6_1_122_2_29\n",
            "1606b0e6_1_122_2_30\n",
            "1606b0e6_1_122_2_31\n",
            "1606b0e6_1_122_2_32\n",
            "1606b0e6_1_123_2_18\n",
            "1606b0e6_1_123_2_19\n",
            "1606b0e6_1_123_2_20\n",
            "1606b0e6_1_123_2_21\n",
            "1606b0e6_1_123_2_22\n",
            "1606b0e6_1_124_2_18\n",
            "1606b0e6_1_124_2_19\n",
            "1606b0e6_1_124_2_20\n",
            "1606b0e6_1_125_2_18\n",
            "1606b0e6_1_126_2_18\n",
            "1606b0e6_1_127_2_18\n",
            "1606b0e6_1_128_2_18\n",
            "1606b0e6_1_128_2_19\n",
            "1606b0e6_1_128_2_20\n",
            "1606b0e6_1_128_2_21\n",
            "1606b0e6_1_128_2_22\n",
            "1606b0e6_1_128_2_23\n",
            "1606b0e6_1_128_2_24\n",
            "1606b0e6_1_129_2_18\n",
            "1606b0e6_1_129_2_19\n",
            "1606b0e6_1_129_2_20\n",
            "1606b0e6_1_129_2_21\n",
            "1606b0e6_1_130_2_18\n",
            "1606b0e6_1_130_2_19\n",
            "1606b0e6_1_130_2_20\n",
            "1606b0e6_1_130_2_21\n",
            "1606b0e6_1_131_2_18\n",
            "1606b0e6_1_132_2_18\n",
            "1606b0e6_1_133_2_18\n",
            "1606b0e6_1_134_2_18\n",
            "1606b0e6_1_134_2_19\n",
            "1606b0e6_1_134_2_20\n",
            "1606b0e6_1_135_2_18\n",
            "1606b0e6_1_136_2_18\n",
            "1606b0e6_1_136_2_19\n",
            "1606b0e6_1_136_2_20\n",
            "1606b0e6_1_136_2_21\n",
            "1606b0e6_1_136_2_22\n",
            "1606b0e6_1_136_2_23\n",
            "1606b0e6_1_137_2_18\n",
            "1606b0e6_1_137_2_19\n",
            "1606b0e6_1_138_2_18\n",
            "1606b0e6_1_139_2_18\n",
            "1606b0e6_1_139_2_19\n",
            "1606b0e6_1_139_2_20\n",
            "1606b0e6_1_140_2_18\n",
            "1606b0e6_1_141_2_18\n",
            "1606b0e6_1_141_2_19\n",
            "1606b0e6_1_141_2_20\n",
            "1606b0e6_1_141_2_21\n",
            "1606b0e6_1_141_2_22\n",
            "1606b0e6_1_141_2_23\n",
            "1606b0e6_1_141_2_24\n",
            "1606b0e6_1_141_2_25\n",
            "1606b0e6_1_141_2_26\n",
            "1606b0e6_1_141_2_27\n",
            "1606b0e6_1_141_2_28\n",
            "1606b0e6_1_141_2_29\n",
            "1606b0e6_1_141_2_30\n",
            "1606b0e6_1_142_2_18\n",
            "1606b0e6_1_142_2_19\n",
            "1606b0e6_1_142_2_20\n",
            "1606b0e6_1_142_2_21\n",
            "1606b0e6_1_142_2_22\n",
            "1606b0e6_1_142_2_23\n",
            "1606b0e6_1_142_2_24\n",
            "1606b0e6_1_142_2_25\n",
            "1606b0e6_1_142_2_26\n",
            "1606b0e6_1_142_2_27\n",
            "1606b0e6_1_142_2_28\n",
            "1606b0e6_1_142_2_29\n",
            "1606b0e6_1_142_2_30\n",
            "1606b0e6_1_142_2_31\n",
            "1606b0e6_1_142_2_32\n",
            "1606b0e6_1_143_2_18\n",
            "1606b0e6_1_144_2_18\n",
            "1606b0e6_1_144_2_19\n",
            "1606b0e6_1_144_2_20\n",
            "1606b0e6_1_145_2_18\n",
            "1606b0e6_1_145_2_19\n",
            "1606b0e6_1_146_2_18\n",
            "1606b0e6_1_147_2_18\n",
            "1606b0e6_1_147_2_19\n",
            "1606b0e6_1_147_2_20\n",
            "1606b0e6_1_148_2_18\n",
            "1606b0e6_1_149_2_18\n",
            "1606b0e6_1_149_2_19\n",
            "1606b0e6_1_149_2_20\n",
            "1606b0e6_1_149_2_21\n",
            "1606b0e6_1_150_2_18\n",
            "1606b0e6_1_150_2_19\n",
            "1606b0e6_1_150_2_20\n",
            "1606b0e6_1_151_2_18\n",
            "1606b0e6_1_151_2_19\n",
            "1606b0e6_1_151_2_20\n",
            "1606b0e6_1_151_2_21\n",
            "1606b0e6_1_152_2_18\n",
            "1606b0e6_1_152_2_19\n",
            "1606b0e6_1_153_2_18\n",
            "1606b0e6_1_153_2_19\n",
            "1606b0e6_1_153_2_20\n",
            "1606b0e6_1_154_2_18\n",
            "1606b0e6_1_154_2_19\n",
            "1606b0e6_1_154_2_20\n",
            "1606b0e6_1_154_2_21\n",
            "1606b0e6_1_155_2_18\n",
            "1606b0e6_1_155_2_19\n",
            "1606b0e6_1_155_2_20\n",
            "1606b0e6_1_155_2_21\n",
            "1606b0e6_1_155_2_22\n",
            "1606b0e6_1_156_2_18\n",
            "1606b0e6_1_156_2_19\n",
            "1606b0e6_1_156_2_20\n",
            "1606b0e6_1_156_2_21\n",
            "1606b0e6_1_156_2_22\n",
            "1606b0e6_1_157_2_18\n",
            "1606b0e6_1_157_2_19\n",
            "1606b0e6_1_157_2_20\n",
            "1606b0e6_1_157_2_21\n",
            "1606b0e6_1_157_2_22\n",
            "1606b0e6_1_157_2_23\n",
            "1606b0e6_1_157_2_24\n",
            "1606b0e6_1_157_2_25\n",
            "1606b0e6_1_157_2_26\n",
            "1606b0e6_1_157_2_27\n",
            "1606b0e6_1_157_2_28\n",
            "1606b0e6_1_157_2_29\n",
            "1606b0e6_1_157_2_30\n",
            "1606b0e6_1_157_2_31\n",
            "1606b0e6_1_158_2_18\n",
            "1606b0e6_1_159_0_18\n",
            "1606b0e6_1_160_0_18\n",
            "1606b0e6_1_160_0_19\n",
            "1606b0e6_1_160_0_20\n",
            "1606b0e6_1_160_0_21\n",
            "1606b0e6_1_160_0_22\n",
            "1606b0e6_1_160_0_23\n",
            "1606b0e6_1_160_0_24\n",
            "1606b0e6_1_160_0_25\n",
            "1606b0e6_1_160_0_26\n",
            "1606b0e6_1_160_0_27\n",
            "1606b0e6_1_160_0_28\n",
            "1606b0e6_1_160_0_29\n",
            "1606b0e6_1_160_0_30\n",
            "1606b0e6_1_160_0_31\n",
            "1606b0e6_1_160_0_32\n",
            "1606b0e6_1_161_2_18\n",
            "1606b0e6_1_161_2_19\n",
            "1606b0e6_1_161_2_20\n",
            "1606b0e6_1_162_2_18\n",
            "1606b0e6_1_163_2_18\n",
            "1606b0e6_1_163_2_19\n",
            "1606b0e6_1_163_2_20\n",
            "1606b0e6_1_163_2_21\n",
            "1606b0e6_1_163_2_22\n",
            "1606b0e6_1_163_2_23\n",
            "1606b0e6_1_163_2_24\n",
            "1606b0e6_1_163_2_25\n",
            "1606b0e6_1_163_2_26\n",
            "1606b0e6_1_163_2_27\n",
            "1606b0e6_1_163_2_28\n",
            "1606b0e6_1_163_2_29\n",
            "1606b0e6_1_163_2_30\n",
            "1606b0e6_1_163_2_31\n",
            "1606b0e6_1_163_2_32\n",
            "1606b0e6_1_164_2_18\n",
            "1606b0e6_1_164_2_19\n",
            "1606b0e6_1_165_2_18\n",
            "1606b0e6_1_166_2_18\n",
            "1606b0e6_1_167_2_18\n",
            "1606b0e6_1_167_2_19\n",
            "1606b0e6_1_167_2_20\n",
            "1606b0e6_1_167_2_21\n",
            "1606b0e6_1_167_2_22\n",
            "1606b0e6_1_168_2_18\n",
            "1606b0e6_1_168_2_19\n",
            "1606b0e6_1_169_2_18\n",
            "1606b0e6_1_169_2_19\n",
            "1606b0e6_1_169_2_20\n",
            "1606b0e6_1_169_2_21\n",
            "1606b0e6_1_169_2_22\n",
            "1606b0e6_1_169_2_23\n",
            "1606b0e6_1_170_2_18\n",
            "1606b0e6_1_170_2_19\n",
            "1606b0e6_1_170_2_20\n",
            "1606b0e6_1_170_2_21\n",
            "1606b0e6_1_171_2_18\n",
            "1606b0e6_1_172_2_18\n",
            "1606b0e6_1_172_2_19\n",
            "1606b0e6_1_172_2_20\n",
            "1606b0e6_1_172_2_21\n",
            "1606b0e6_1_172_2_22\n",
            "1606b0e6_1_172_2_23\n",
            "1606b0e6_1_172_2_24\n",
            "1606b0e6_1_172_2_25\n",
            "1606b0e6_1_172_2_26\n",
            "1606b0e6_1_172_2_27\n",
            "1606b0e6_1_172_2_28\n",
            "1606b0e6_1_172_2_29\n",
            "1606b0e6_1_173_2_18\n",
            "1606b0e6_1_174_2_18\n",
            "1606b0e6_1_174_2_19\n",
            "1606b0e6_1_174_2_20\n",
            "1606b0e6_1_174_2_21\n",
            "1606b0e6_1_174_2_22\n",
            "1606b0e6_1_174_2_23\n",
            "1606b0e6_1_174_2_24\n",
            "1606b0e6_1_174_2_25\n",
            "1606b0e6_1_174_2_26\n",
            "1606b0e6_1_174_2_27\n",
            "1606b0e6_1_174_2_28\n",
            "1606b0e6_1_174_2_29\n",
            "1606b0e6_1_174_2_30\n",
            "1606b0e6_1_174_2_31\n",
            "1606b0e6_1_174_2_32\n",
            "1606b0e6_1_175_1_18\n",
            "1606b0e6_1_175_1_19\n",
            "1606b0e6_1_175_1_20\n",
            "1606b0e6_1_175_1_21\n",
            "1606b0e6_1_175_1_22\n",
            "1606b0e6_1_175_1_23\n",
            "1606b0e6_1_175_1_24\n",
            "1606b0e6_1_175_1_25\n",
            "1606b0e6_1_175_1_26\n",
            "1606b0e6_1_175_1_27\n",
            "1606b0e6_1_175_1_28\n",
            "1606b0e6_1_175_1_29\n",
            "1606b0e6_1_175_1_30\n",
            "1606b0e6_1_175_1_31\n",
            "1606b0e6_1_175_1_32\n",
            "1606b0e6_1_176_2_18\n",
            "1606b0e6_1_176_2_19\n",
            "1606b0e6_1_177_2_18\n",
            "1606b0e6_1_178_2_18\n",
            "1606b0e6_1_178_2_19\n",
            "1606b0e6_1_178_2_20\n",
            "1606b0e6_1_179_2_18\n",
            "1606b0e6_1_179_2_19\n",
            "1606b0e6_1_179_2_20\n",
            "1606b0e6_1_180_2_18\n",
            "1606b0e6_1_181_2_18\n",
            "1606b0e6_1_182_2_18\n",
            "1606b0e6_1_183_2_18\n",
            "1606b0e6_1_183_2_19\n",
            "1606b0e6_1_183_2_20\n",
            "1606b0e6_1_183_2_21\n",
            "1606b0e6_1_183_2_22\n",
            "1606b0e6_1_183_2_23\n",
            "1606b0e6_1_183_2_24\n",
            "1606b0e6_1_183_2_25\n",
            "1606b0e6_1_183_2_26\n",
            "1606b0e6_1_183_2_27\n",
            "1606b0e6_1_183_2_28\n",
            "1606b0e6_1_184_2_18\n",
            "1606b0e6_1_184_2_19\n",
            "1606b0e6_1_184_2_20\n",
            "1606b0e6_1_184_2_21\n",
            "1606b0e6_1_184_2_22\n",
            "1606b0e6_1_184_2_23\n",
            "1606b0e6_1_184_2_24\n",
            "1606b0e6_1_185_0_18\n",
            "1606b0e6_1_185_0_19\n",
            "1606b0e6_1_185_0_20\n",
            "1606b0e6_1_185_0_21\n",
            "1606b0e6_1_185_0_22\n",
            "1606b0e6_1_185_0_23\n",
            "1606b0e6_1_185_0_24\n",
            "1606b0e6_1_185_0_25\n",
            "1606b0e6_1_185_0_26\n",
            "1606b0e6_1_185_0_27\n",
            "1606b0e6_1_185_0_28\n",
            "1606b0e6_1_185_0_29\n",
            "1606b0e6_1_185_0_30\n",
            "1606b0e6_1_185_0_31\n",
            "1606b0e6_1_185_0_32\n",
            "1606b0e6_1_186_1_18\n",
            "1606b0e6_1_186_1_19\n",
            "1606b0e6_1_186_1_20\n",
            "1606b0e6_1_186_1_21\n",
            "1606b0e6_1_186_1_22\n",
            "1606b0e6_1_186_1_23\n",
            "1606b0e6_1_186_1_24\n",
            "1606b0e6_1_186_1_25\n",
            "1606b0e6_1_186_1_26\n",
            "1606b0e6_1_186_1_27\n",
            "1606b0e6_1_186_1_28\n",
            "1606b0e6_1_186_1_29\n",
            "1606b0e6_1_186_1_30\n",
            "1606b0e6_1_186_1_31\n",
            "1606b0e6_1_186_1_32\n",
            "1606b0e6_1_187_2_18\n",
            "1606b0e6_1_188_2_18\n",
            "1606b0e6_1_189_2_18\n",
            "1606b0e6_1_189_2_19\n",
            "1606b0e6_1_189_2_20\n",
            "1606b0e6_1_189_2_21\n",
            "1606b0e6_1_189_2_22\n",
            "1606b0e6_1_189_2_23\n",
            "1606b0e6_1_190_2_18\n",
            "1606b0e6_1_190_2_19\n",
            "1606b0e6_1_190_2_20\n",
            "1606b0e6_1_190_2_21\n",
            "1606b0e6_1_191_2_18\n",
            "1606b0e6_1_191_2_19\n",
            "1606b0e6_1_192_2_18\n",
            "1606b0e6_1_192_2_19\n",
            "1606b0e6_1_192_2_20\n",
            "1606b0e6_1_192_2_21\n",
            "1606b0e6_1_192_2_22\n",
            "1606b0e6_1_192_2_23\n",
            "1606b0e6_1_192_2_24\n",
            "1606b0e6_1_192_2_25\n",
            "1606b0e6_1_192_2_26\n",
            "1606b0e6_1_192_2_27\n",
            "1606b0e6_1_192_2_28\n",
            "1606b0e6_1_192_2_29\n",
            "1606b0e6_1_192_2_30\n",
            "1606b0e6_1_193_0_18\n",
            "1606b0e6_1_194_2_18\n",
            "1606b0e6_1_195_2_18\n",
            "1606b0e6_1_196_2_18\n",
            "1606b0e6_1_197_1_18\n",
            "1606b0e6_1_198_2_18\n",
            "1606b0e6_1_199_2_18\n",
            "1606b0e6_1_200_2_18\n",
            "1606b0e6_1_201_2_18\n",
            "1606b0e6_1_201_2_19\n",
            "1606b0e6_1_201_2_20\n",
            "1606b0e6_1_202_2_18\n",
            "1606b0e6_1_203_2_18\n",
            "1606b0e6_1_203_2_19\n",
            "1606b0e6_1_203_2_20\n",
            "1606b0e6_1_203_2_21\n",
            "1606b0e6_1_204_2_18\n",
            "1606b0e6_1_204_2_19\n",
            "1606b0e6_1_204_2_20\n",
            "1606b0e6_1_204_2_21\n",
            "1606b0e6_1_204_2_22\n",
            "1606b0e6_1_204_2_23\n",
            "1606b0e6_1_204_2_24\n",
            "1606b0e6_1_204_2_25\n",
            "1606b0e6_1_204_2_26\n",
            "1606b0e6_1_204_2_27\n",
            "1606b0e6_1_204_2_28\n",
            "1606b0e6_1_204_2_29\n",
            "1606b0e6_1_204_2_30\n",
            "1606b0e6_1_204_2_31\n",
            "1606b0e6_1_204_2_32\n",
            "1606b0e6_1_205_2_18\n",
            "1606b0e6_1_206_0_18\n",
            "1606b0e6_1_206_0_19\n",
            "1606b0e6_1_207_2_18\n",
            "1606b0e6_1_208_2_18\n",
            "1606b0e6_1_208_2_19\n",
            "1606b0e6_1_209_2_18\n",
            "1606b0e6_1_210_2_18\n",
            "1606b0e6_1_211_2_18\n",
            "1606b0e6_1_211_2_19\n",
            "1606b0e6_1_211_2_20\n",
            "1606b0e6_1_212_2_18\n",
            "1606b0e6_1_213_2_18\n",
            "1606b0e6_1_214_2_18\n",
            "1606b0e6_1_214_2_19\n",
            "1606b0e6_1_214_2_20\n",
            "1606b0e6_1_214_2_21\n",
            "1606b0e6_1_215_2_18\n",
            "1606b0e6_1_216_2_18\n",
            "1606b0e6_1_216_2_19\n",
            "1606b0e6_1_217_2_18\n",
            "1606b0e6_1_218_2_18\n",
            "1606b0e6_1_218_2_19\n",
            "1606b0e6_1_218_2_20\n",
            "1606b0e6_1_219_2_18\n",
            "1606b0e6_1_220_2_18\n",
            "1606b0e6_1_220_2_19\n",
            "1606b0e6_1_220_2_20\n",
            "1606b0e6_1_220_2_21\n",
            "1606b0e6_1_221_2_18\n",
            "1606b0e6_1_222_2_18\n",
            "1606b0e6_1_222_2_19\n",
            "1606b0e6_1_223_2_18\n",
            "1606b0e6_1_223_2_19\n",
            "1606b0e6_1_223_2_20\n",
            "1606b0e6_1_223_2_21\n",
            "1606b0e6_1_223_2_22\n",
            "1606b0e6_1_223_2_23\n",
            "1606b0e6_1_223_2_24\n",
            "1606b0e6_1_223_2_25\n",
            "1606b0e6_1_223_2_26\n",
            "1606b0e6_1_223_2_27\n",
            "1606b0e6_1_223_2_28\n",
            "1606b0e6_1_223_2_29\n",
            "1606b0e6_1_223_2_30\n",
            "1606b0e6_1_223_2_31\n",
            "1606b0e6_1_223_2_32\n",
            "1606b0e6_1_224_2_18\n",
            "1606b0e6_1_224_2_19\n",
            "1606b0e6_1_224_2_20\n",
            "1606b0e6_1_224_2_21\n",
            "1606b0e6_1_224_2_22\n",
            "1606b0e6_1_225_0_18\n",
            "1606b0e6_1_225_0_19\n",
            "1606b0e6_1_226_2_18\n",
            "1606b0e6_1_226_2_19\n",
            "1606b0e6_1_226_2_20\n",
            "1606b0e6_1_226_2_21\n",
            "1606b0e6_1_226_2_22\n",
            "1606b0e6_1_227_2_18\n",
            "1606b0e6_1_227_2_19\n",
            "1606b0e6_1_228_2_18\n",
            "1606b0e6_1_229_2_18\n",
            "1606b0e6_1_229_2_19\n",
            "1606b0e6_1_229_2_20\n",
            "1606b0e6_1_229_2_21\n",
            "1606b0e6_1_229_2_22\n",
            "1606b0e6_1_229_2_23\n",
            "1606b0e6_1_229_2_24\n",
            "1606b0e6_1_229_2_25\n",
            "1606b0e6_1_229_2_26\n",
            "1606b0e6_1_229_2_27\n",
            "1606b0e6_1_229_2_28\n",
            "1606b0e6_1_229_2_29\n",
            "1606b0e6_1_229_2_30\n",
            "1606b0e6_1_229_2_31\n",
            "1606b0e6_1_229_2_32\n",
            "1606b0e6_1_230_2_18\n",
            "1606b0e6_1_231_2_18\n",
            "1606b0e6_1_232_0_18\n",
            "1606b0e6_1_233_1_18\n",
            "1606b0e6_1_233_1_19\n",
            "1606b0e6_1_234_2_18\n",
            "1606b0e6_1_234_2_19\n",
            "1606b0e6_1_234_2_20\n",
            "1606b0e6_1_235_2_18\n",
            "1606b0e6_1_236_2_18\n",
            "1606b0e6_1_236_2_19\n",
            "1606b0e6_1_236_2_20\n",
            "1606b0e6_1_237_2_18\n",
            "1606b0e6_1_238_2_18\n",
            "1606b0e6_1_239_2_18\n",
            "1606b0e6_1_239_2_19\n",
            "1606b0e6_1_240_2_18\n",
            "1606b0e6_1_240_2_19\n",
            "1606b0e6_1_241_2_18\n",
            "1606b0e6_1_241_2_19\n",
            "1606b0e6_1_242_2_18\n",
            "1606b0e6_1_243_0_18\n",
            "1606b0e6_1_244_2_18\n",
            "1606b0e6_1_244_2_19\n",
            "1606b0e6_1_244_2_20\n",
            "1606b0e6_1_244_2_21\n",
            "1606b0e6_1_244_2_22\n",
            "1606b0e6_1_244_2_23\n",
            "1606b0e6_1_244_2_24\n",
            "1606b0e6_1_244_2_25\n",
            "1606b0e6_1_244_2_26\n",
            "1606b0e6_1_244_2_27\n",
            "1606b0e6_1_244_2_28\n",
            "1606b0e6_1_244_2_29\n",
            "1606b0e6_1_244_2_30\n",
            "1606b0e6_1_244_2_31\n",
            "1606b0e6_1_244_2_32\n",
            "1606b0e6_1_245_2_18\n",
            "1606b0e6_1_246_2_18\n",
            "1606b0e6_1_247_2_18\n",
            "1606b0e6_1_248_2_18\n",
            "1606b0e6_1_248_2_19\n",
            "1606b0e6_1_248_2_20\n",
            "1606b0e6_1_248_2_21\n",
            "1606b0e6_1_248_2_22\n",
            "1606b0e6_1_248_2_23\n",
            "1606b0e6_1_248_2_24\n",
            "1606b0e6_1_248_2_25\n",
            "1606b0e6_1_248_2_26\n",
            "1606b0e6_1_248_2_27\n",
            "1606b0e6_1_248_2_28\n",
            "1606b0e6_1_248_2_29\n",
            "1606b0e6_1_248_2_30\n",
            "1606b0e6_1_248_2_31\n",
            "1606b0e6_1_248_2_32\n",
            "1606b0e6_1_249_2_18\n",
            "1606b0e6_1_249_2_19\n",
            "1606b0e6_1_249_2_20\n",
            "1606b0e6_1_249_2_21\n",
            "1606b0e6_1_249_2_22\n",
            "1606b0e6_1_249_2_23\n",
            "1606b0e6_1_249_2_24\n",
            "1606b0e6_1_249_2_25\n",
            "1606b0e6_1_249_2_26\n",
            "1606b0e6_1_249_2_27\n",
            "1606b0e6_1_249_2_28\n",
            "1606b0e6_1_249_2_29\n",
            "1606b0e6_1_249_2_30\n",
            "1606b0e6_1_250_2_18\n",
            "1606b0e6_1_251_2_18\n",
            "1606b0e6_1_252_0_18\n",
            "1606b0e6_1_253_2_18\n",
            "1606b0e6_1_254_1_18\n",
            "1606b0e6_1_255_2_18\n",
            "1606b0e6_1_256_2_18\n",
            "1606b0e6_1_257_0_18\n",
            "1606b0e6_1_258_0_18\n",
            "1606b0e6_1_258_0_19\n",
            "1606b0e6_1_258_0_20\n",
            "1606b0e6_1_258_0_21\n",
            "1606b0e6_1_258_0_22\n",
            "1606b0e6_1_258_0_23\n",
            "1606b0e6_1_258_0_24\n",
            "1606b0e6_1_258_0_25\n",
            "1606b0e6_1_258_0_26\n",
            "1606b0e6_1_258_0_27\n",
            "1606b0e6_1_258_0_28\n",
            "1606b0e6_1_258_0_29\n",
            "1606b0e6_1_258_0_30\n",
            "1606b0e6_1_259_0_18\n",
            "1606b0e6_1_259_0_19\n",
            "1606b0e6_1_260_2_18\n",
            "1606b0e6_1_260_2_19\n",
            "1606b0e6_1_260_2_20\n",
            "1606b0e6_1_261_2_18\n",
            "1606b0e6_1_262_2_18\n",
            "1606b0e6_1_262_2_19\n",
            "1606b0e6_1_262_2_20\n",
            "1606b0e6_1_262_2_21\n",
            "1606b0e6_1_262_2_22\n",
            "1606b0e6_1_262_2_23\n",
            "1606b0e6_1_262_2_24\n",
            "1606b0e6_1_262_2_25\n",
            "1606b0e6_1_262_2_26\n",
            "1606b0e6_1_262_2_27\n",
            "1606b0e6_1_262_2_28\n",
            "1606b0e6_1_262_2_29\n",
            "1606b0e6_1_262_2_30\n",
            "1606b0e6_1_262_2_31\n",
            "1606b0e6_1_262_2_32\n",
            "1606b0e6_1_263_2_18\n",
            "1606b0e6_1_264_2_18\n",
            "1606b0e6_1_265_2_18\n",
            "1606b0e6_1_266_2_18\n",
            "1606b0e6_1_266_2_19\n",
            "1606b0e6_1_266_2_20\n",
            "1606b0e6_1_266_2_21\n",
            "1606b0e6_1_266_2_22\n",
            "1606b0e6_1_266_2_23\n",
            "1606b0e6_1_266_2_24\n",
            "1606b0e6_1_266_2_25\n",
            "1606b0e6_1_266_2_26\n",
            "1606b0e6_1_266_2_27\n",
            "1606b0e6_1_266_2_28\n",
            "1606b0e6_1_266_2_29\n",
            "1606b0e6_1_266_2_30\n",
            "1606b0e6_1_266_2_31\n",
            "1606b0e6_1_266_2_32\n",
            "1606b0e6_1_267_2_18\n",
            "1606b0e6_1_268_2_18\n",
            "1606b0e6_1_268_2_19\n",
            "1606b0e6_1_268_2_20\n",
            "1606b0e6_1_269_2_18\n",
            "1606b0e6_1_269_2_19\n",
            "1606b0e6_1_270_2_18\n",
            "1606b0e6_1_270_2_19\n",
            "1606b0e6_1_271_2_18\n",
            "1606b0e6_1_272_2_18\n",
            "1606b0e6_1_273_2_18\n",
            "1606b0e6_1_274_2_18\n"
          ]
        },
        {
          "output_type": "error",
          "ename": "FileNotFoundError",
          "evalue": "ignored",
          "traceback": [
            "\u001b[0;31m---------------------------------------------------------------------------\u001b[0m",
            "\u001b[0;31mFileNotFoundError\u001b[0m                         Traceback (most recent call last)",
            "\u001b[0;32m<ipython-input-39-029b7bdf28af>\u001b[0m in \u001b[0;36m<module>\u001b[0;34m\u001b[0m\n\u001b[1;32m     39\u001b[0m       \u001b[0mprint\u001b[0m\u001b[0;34m(\u001b[0m\u001b[0mframe_id\u001b[0m\u001b[0;34m)\u001b[0m\u001b[0;34m\u001b[0m\u001b[0;34m\u001b[0m\u001b[0m\n\u001b[1;32m     40\u001b[0m       \u001b[0mlabel_txt\u001b[0m \u001b[0;34m=\u001b[0m \u001b[0;34mf'{frame_id}.txt'\u001b[0m\u001b[0;34m\u001b[0m\u001b[0;34m\u001b[0m\u001b[0m\n\u001b[0;32m---> 41\u001b[0;31m       \u001b[0;32mwith\u001b[0m \u001b[0mopen\u001b[0m\u001b[0;34m(\u001b[0m\u001b[0;34mf'{FOLDER_LABELS}{video}/labels/{label_txt}'\u001b[0m\u001b[0;34m)\u001b[0m \u001b[0;32mas\u001b[0m \u001b[0mf\u001b[0m\u001b[0;34m:\u001b[0m\u001b[0;34m\u001b[0m\u001b[0;34m\u001b[0m\u001b[0m\n\u001b[0m\u001b[1;32m     42\u001b[0m         \u001b[0mreader\u001b[0m \u001b[0;34m=\u001b[0m \u001b[0mf\u001b[0m\u001b[0;34m.\u001b[0m\u001b[0mread\u001b[0m\u001b[0;34m(\u001b[0m\u001b[0;34m)\u001b[0m\u001b[0;34m\u001b[0m\u001b[0;34m\u001b[0m\u001b[0m\n\u001b[1;32m     43\u001b[0m       \u001b[0mdetections\u001b[0m \u001b[0;34m=\u001b[0m \u001b[0;34m[\u001b[0m\u001b[0mi\u001b[0m\u001b[0;34m.\u001b[0m\u001b[0msplit\u001b[0m\u001b[0;34m(\u001b[0m\u001b[0;34m' '\u001b[0m\u001b[0;34m)\u001b[0m \u001b[0;32mfor\u001b[0m \u001b[0mi\u001b[0m \u001b[0;32min\u001b[0m \u001b[0mreader\u001b[0m\u001b[0;34m.\u001b[0m\u001b[0msplit\u001b[0m\u001b[0;34m(\u001b[0m\u001b[0;34m'\\n'\u001b[0m\u001b[0;34m)\u001b[0m\u001b[0;34m]\u001b[0m\u001b[0;34m[\u001b[0m\u001b[0;34m:\u001b[0m\u001b[0;34m-\u001b[0m\u001b[0;36m1\u001b[0m\u001b[0;34m]\u001b[0m \u001b[0;31m# [:-1] because last element is always \"''\"\u001b[0m\u001b[0;34m\u001b[0m\u001b[0;34m\u001b[0m\u001b[0m\n",
            "\u001b[0;31mFileNotFoundError\u001b[0m: [Errno 2] No such file or directory: '/content/drive/MyDrive/Bundesliga/PositiveFrames/detect/1606b0e6_1/labels/1606b0e6_1_274_2_18.txt'"
          ]
        }
      ]
    },
    {
      "cell_type": "code",
      "source": [
        "POSITIVES_FOLDER = '/content/drive/MyDrive/Bundesliga/PositiveFrames/'\n",
        "os.chdir(POSITIVES_FOLDER)"
      ],
      "metadata": {
        "id": "K5_2jQFo1hyU"
      },
      "execution_count": null,
      "outputs": []
    },
    {
      "cell_type": "code",
      "source": [
        "! pwd"
      ],
      "metadata": {
        "colab": {
          "base_uri": "https://localhost:8080/"
        },
        "id": "O5vxDRyWYoGY",
        "outputId": "c4f39539-9e77-4a24-c890-f46d48d90738"
      },
      "execution_count": null,
      "outputs": [
        {
          "output_type": "stream",
          "name": "stdout",
          "text": [
            "/content/drive/MyDrive/Bundesliga/PositiveFrames\n"
          ]
        }
      ]
    },
    {
      "cell_type": "code",
      "source": [
        "# os.chdir('/content/drive/MyDrive/Bundesliga/')"
      ],
      "metadata": {
        "id": "HRmvoRkH1jtB"
      },
      "execution_count": null,
      "outputs": []
    },
    {
      "cell_type": "code",
      "source": [
        "# ! ls crops"
      ],
      "metadata": {
        "id": "ynyWZMI82Uhc"
      },
      "execution_count": null,
      "outputs": []
    },
    {
      "cell_type": "code",
      "source": [
        "! ls crops/'1606b0e6_0'  | wc -l"
      ],
      "metadata": {
        "colab": {
          "base_uri": "https://localhost:8080/"
        },
        "id": "tKv7HVtL1EjI",
        "outputId": "fb1dc270-4bec-4433-f665-c07545260cd3"
      },
      "execution_count": 236,
      "outputs": [
        {
          "output_type": "stream",
          "name": "stdout",
          "text": [
            "1188\n"
          ]
        }
      ]
    },
    {
      "cell_type": "code",
      "source": [
        "! ls crops/'3c993bd2_1'  | wc -l"
      ],
      "metadata": {
        "colab": {
          "base_uri": "https://localhost:8080/"
        },
        "id": "hLeQA8fxYr7P",
        "outputId": "f0f5fded-6932-4e68-958e-8ebb1c9c50cf"
      },
      "execution_count": null,
      "outputs": [
        {
          "output_type": "stream",
          "name": "stdout",
          "text": [
            "1128\n"
          ]
        }
      ]
    },
    {
      "cell_type": "code",
      "source": [
        "! pwd"
      ],
      "metadata": {
        "colab": {
          "base_uri": "https://localhost:8080/"
        },
        "id": "3--N7wtlrz7C",
        "outputId": "62416d59-e5fa-4417-bfb0-5f21b9a698f8"
      },
      "execution_count": null,
      "outputs": [
        {
          "output_type": "stream",
          "name": "stdout",
          "text": [
            "/content/drive/MyDrive/Bundesliga/PositiveFrames\n"
          ]
        }
      ]
    },
    {
      "cell_type": "markdown",
      "source": [
        "First time checked:"
      ],
      "metadata": {
        "id": "zc4OTg8PG7M3"
      }
    },
    {
      "cell_type": "code",
      "source": [
        "for video_id in video_ids:\n",
        "  print(video_id)\n",
        "  ! ls frames_ms2/$video_id | wc -l"
      ],
      "metadata": {
        "colab": {
          "base_uri": "https://localhost:8080/"
        },
        "id": "-Ob3YTvkrfLD",
        "outputId": "072a8021-9234-4e49-b37c-96b9d0ba565f"
      },
      "execution_count": null,
      "outputs": [
        {
          "output_type": "stream",
          "name": "stdout",
          "text": [
            "1606b0e6_0\n",
            "13860\n",
            "1606b0e6_1\n",
            "2426\n",
            "cfbe2e94_0\n",
            "3040\n",
            "cfbe2e94_0\n",
            "3040\n",
            "ecf251d4_0\n",
            "648\n",
            "3c993bd2_0\n",
            "659\n",
            "3c993bd2_1\n",
            "16036\n",
            "4ffd5986_0\n",
            "3050\n",
            "9a97dae4_1\n",
            "3091\n",
            "35bd9041_0\n",
            "636\n",
            "35bd9041_1\n",
            "587\n",
            "407c5a9e_1\n",
            "670\n"
          ]
        }
      ]
    },
    {
      "cell_type": "markdown",
      "source": [
        "Second time checked:"
      ],
      "metadata": {
        "id": "6CT-6kktG-39"
      }
    },
    {
      "cell_type": "code",
      "source": [
        "for video_id in video_ids:\n",
        "  print(video_id)\n",
        "  ! ls $FOLDER_FRAMES/$video_id | wc -l"
      ],
      "metadata": {
        "colab": {
          "base_uri": "https://localhost:8080/"
        },
        "id": "Wp_Zgw09G6CU",
        "outputId": "cfa2a5b7-072b-4e0d-cae5-4bec1eb9025d"
      },
      "execution_count": null,
      "outputs": [
        {
          "output_type": "stream",
          "name": "stdout",
          "text": [
            "1606b0e6_0\n",
            "13860\n",
            "1606b0e6_1\n",
            "3940\n",
            "cfbe2e94_0\n",
            "4549\n",
            "cfbe2e94_1\n",
            "1378\n",
            "ecf251d4_0\n",
            "9743\n",
            "3c993bd2_0\n",
            "1688\n",
            "3c993bd2_1\n",
            "16036\n",
            "4ffd5986_0\n",
            "4632\n",
            "9a97dae4_1\n",
            "5554\n",
            "35bd9041_0\n",
            "1466\n",
            "35bd9041_1\n",
            "1377\n",
            "407c5a9e_1\n",
            "10498\n"
          ]
        }
      ]
    },
    {
      "cell_type": "markdown",
      "source": [
        "Third time checked:"
      ],
      "metadata": {
        "id": "eVzmF06Og0QN"
      }
    },
    {
      "cell_type": "code",
      "source": [
        "for video_id in video_ids:\n",
        "  print(video_id)\n",
        "  ! ls $FOLDER_FRAMES/$video_id | wc -l"
      ],
      "metadata": {
        "colab": {
          "base_uri": "https://localhost:8080/"
        },
        "id": "dvG3SqNxgzQ4",
        "outputId": "160258fa-faef-44cd-878e-1faa7d14f55d"
      },
      "execution_count": null,
      "outputs": [
        {
          "output_type": "stream",
          "name": "stdout",
          "text": [
            "1606b0e6_0\n",
            "13860\n",
            "1606b0e6_1\n",
            "4374\n",
            "cfbe2e94_0\n",
            "5003\n",
            "cfbe2e94_1\n",
            "2888\n",
            "ecf251d4_0\n",
            "13510\n",
            "3c993bd2_0\n",
            "3364\n",
            "3c993bd2_1\n",
            "16036\n",
            "4ffd5986_0\n",
            "5090\n",
            "9a97dae4_1\n",
            "10185\n",
            "35bd9041_0\n",
            "3081\n",
            "35bd9041_1\n",
            "2923\n",
            "407c5a9e_1\n",
            "12250\n"
          ]
        }
      ]
    },
    {
      "cell_type": "markdown",
      "source": [
        "Fourth time checked - 12/11/22 1.14 am:"
      ],
      "metadata": {
        "id": "WKyRlOVM8nbU"
      }
    },
    {
      "cell_type": "code",
      "source": [
        "for video_id in video_ids:\n",
        "  print(video_id)\n",
        "  ! ls $FOLDER_FRAMES/$video_id | wc -l"
      ],
      "metadata": {
        "colab": {
          "base_uri": "https://localhost:8080/"
        },
        "id": "8kdiUo_s8no0",
        "outputId": "5efbe634-cb4e-49f2-aa04-abd33a6f219e"
      },
      "execution_count": null,
      "outputs": [
        {
          "output_type": "stream",
          "name": "stdout",
          "text": [
            "1606b0e6_0\n",
            "13860\n",
            "1606b0e6_1\n",
            "7823\n",
            "cfbe2e94_0\n",
            "8637\n",
            "cfbe2e94_1\n",
            "6383\n",
            "ecf251d4_0\n",
            "13510\n",
            "3c993bd2_0\n",
            "7248\n",
            "3c993bd2_1\n",
            "16036\n",
            "4ffd5986_0\n",
            "8661\n",
            "9a97dae4_1\n",
            "10185\n",
            "35bd9041_0\n",
            "7049\n",
            "35bd9041_1\n",
            "6522\n",
            "407c5a9e_1\n",
            "12250\n"
          ]
        }
      ]
    },
    {
      "cell_type": "markdown",
      "source": [
        "Fifth time checked - 12/11/22 8.31 am:"
      ],
      "metadata": {
        "id": "75jc8CDxiQrA"
      }
    },
    {
      "cell_type": "code",
      "source": [
        "for video_id in video_ids:\n",
        "  print(video_id)\n",
        "  ! ls $FOLDER_FRAMES/$video_id | wc -l"
      ],
      "metadata": {
        "colab": {
          "base_uri": "https://localhost:8080/"
        },
        "id": "XTv8PPc9iQ9t",
        "outputId": "cd152b70-5468-405c-8ae5-c2cddd0e3a3f"
      },
      "execution_count": 24,
      "outputs": [
        {
          "output_type": "stream",
          "name": "stdout",
          "text": [
            "1606b0e6_0\n",
            "13860\n",
            "1606b0e6_1\n",
            "9594\n",
            "cfbe2e94_0\n",
            "10675\n",
            "cfbe2e94_1\n",
            "9975\n",
            "ecf251d4_0\n",
            "13510\n",
            "3c993bd2_0\n",
            "12247\n",
            "3c993bd2_1\n",
            "16036\n",
            "4ffd5986_0\n",
            "10570\n",
            "9a97dae4_1\n",
            "10185\n",
            "35bd9041_0\n",
            "10633\n",
            "35bd9041_1\n",
            "12565\n",
            "407c5a9e_1\n",
            "12250\n"
          ]
        }
      ]
    },
    {
      "cell_type": "markdown",
      "source": [
        "Sixth time checked - 12/11/22 22.19 h (after Yosef deleted duplicate files):"
      ],
      "metadata": {
        "id": "TS5mj8Cbf3yZ"
      }
    },
    {
      "cell_type": "code",
      "source": [
        "for video_id in video_ids:\n",
        "  print(video_id)\n",
        "  ! ls $FOLDER_FRAMES/$video_id | wc -l"
      ],
      "metadata": {
        "colab": {
          "base_uri": "https://localhost:8080/"
        },
        "id": "koQqEuxw3KZS",
        "outputId": "d4589cec-1b8c-466e-fe4b-51a70a19f87b"
      },
      "execution_count": 25,
      "outputs": [
        {
          "output_type": "stream",
          "name": "stdout",
          "text": [
            "1606b0e6_0\n",
            "13860\n",
            "1606b0e6_1\n",
            "9594\n",
            "cfbe2e94_0\n",
            "10675\n",
            "cfbe2e94_1\n",
            "9975\n",
            "ecf251d4_0\n",
            "13510\n",
            "3c993bd2_0\n",
            "12247\n",
            "3c993bd2_1\n",
            "13160\n",
            "4ffd5986_0\n",
            "10570\n",
            "9a97dae4_1\n",
            "10185\n",
            "35bd9041_0\n",
            "10633\n",
            "35bd9041_1\n",
            "12565\n",
            "407c5a9e_1\n",
            "12250\n"
          ]
        }
      ]
    },
    {
      "cell_type": "code",
      "source": [
        "videos"
      ],
      "metadata": {
        "colab": {
          "base_uri": "https://localhost:8080/"
        },
        "id": "7FuZImRo1DB-",
        "outputId": "6667f3b9-7912-417f-afe2-8e46b9344c19"
      },
      "execution_count": 262,
      "outputs": [
        {
          "output_type": "execute_result",
          "data": {
            "text/plain": [
              "['1606b0e6_0',\n",
              " 'cfbe2e94_0',\n",
              " 'cfbe2e94_1',\n",
              " 'ecf251d4_0',\n",
              " '3c993bd2_1',\n",
              " '4ffd5986_0',\n",
              " '9a97dae4_1',\n",
              " '407c5a9e_1']"
            ]
          },
          "metadata": {},
          "execution_count": 262
        }
      ]
    },
    {
      "cell_type": "markdown",
      "source": [
        "Checking amount of files per video with frames cropped:"
      ],
      "metadata": {
        "id": "7z9P6Onw2_0G"
      }
    },
    {
      "cell_type": "code",
      "source": [
        "for video in videos:\n",
        "  print(video)\n",
        "  ! ls crops/$video | wc -l"
      ],
      "metadata": {
        "colab": {
          "base_uri": "https://localhost:8080/"
        },
        "id": "FLbtsvV60_wP",
        "outputId": "9ed6365f-0c91-4a07-9aef-f74ed7bb587b"
      },
      "execution_count": 36,
      "outputs": [
        {
          "output_type": "stream",
          "name": "stdout",
          "text": [
            "1606b0e6_0\n",
            "1188\n",
            "cfbe2e94_0\n",
            "915\n",
            "cfbe2e94_1\n",
            "855\n",
            "ecf251d4_0\n",
            "1158\n",
            "3c993bd2_1\n",
            "1128\n",
            "4ffd5986_0\n",
            "906\n",
            "9a97dae4_1\n",
            "873\n",
            "35bd9041_1\n",
            "1077\n",
            "407c5a9e_1\n",
            "1050\n"
          ]
        }
      ]
    },
    {
      "cell_type": "code",
      "source": [],
      "metadata": {
        "id": "bCtxr5yIqtnH"
      },
      "execution_count": null,
      "outputs": []
    }
  ]
}