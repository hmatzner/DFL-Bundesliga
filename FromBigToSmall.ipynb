{
  "nbformat": 4,
  "nbformat_minor": 0,
  "metadata": {
    "colab": {
      "provenance": [],
      "collapsed_sections": []
    },
    "kernelspec": {
      "name": "python3",
      "display_name": "Python 3"
    },
    "language_info": {
      "name": "python"
    }
  },
  "cells": [
    {
      "cell_type": "markdown",
      "source": [
        "## Setup"
      ],
      "metadata": {
        "id": "TSD2IAAnU3Z2"
      }
    },
    {
      "cell_type": "code",
      "execution_count": 2,
      "metadata": {
        "id": "W-JMrk7uUwPO"
      },
      "outputs": [],
      "source": [
        "import sys\n",
        "import os\n",
        "import numpy as np\n",
        "import matplotlib.pyplot as plt\n",
        "import cv2\n",
        "from scipy.spatial.distance import cdist\n",
        "from google.colab.patches import cv2_imshow"
      ]
    },
    {
      "cell_type": "code",
      "source": [
        "from os import listdir\n",
        "from os.path import isfile, join\n",
        "import glob"
      ],
      "metadata": {
        "id": "px-ibzlADEtP"
      },
      "execution_count": 49,
      "outputs": []
    },
    {
      "cell_type": "code",
      "source": [
        "from google.colab import drive\n",
        "drive.mount('/content/drive')"
      ],
      "metadata": {
        "colab": {
          "base_uri": "https://localhost:8080/"
        },
        "id": "7BgBuv8oU6X3",
        "outputId": "cb01b1fd-d1d8-483d-8dc0-906cc770f5fc"
      },
      "execution_count": 1,
      "outputs": [
        {
          "output_type": "stream",
          "name": "stdout",
          "text": [
            "Mounted at /content/drive\n"
          ]
        }
      ]
    },
    {
      "cell_type": "code",
      "source": [
        "# # Defining constant variables\n",
        "# YOLOV7_FOLDER = '/content/drive/My Drive/Bundesliga/YOLO7'\n",
        "# VIDEOS_FOLDER = '/yolov7/runs/detect'\n",
        "# CLIPS_FOLDER = YOLOV7_FOLDER + VIDEOS_FOLDER"
      ],
      "metadata": {
        "id": "0NdjFOdCU8-t"
      },
      "execution_count": 2,
      "outputs": []
    },
    {
      "cell_type": "code",
      "source": [
        "POSITIVES_FOLDER = '/content/drive/MyDrive/Bundesliga/PositiveFrames/'\n",
        "FOLDER_FRAMES = 'frames_ms2_1606b0e6_0/'\n",
        "FOLDER_LABELS = 'labels/'\n",
        "os.chdir(POSITIVES_FOLDER)"
      ],
      "metadata": {
        "id": "4Kl0iI3Db6x2"
      },
      "execution_count": 58,
      "outputs": []
    },
    {
      "cell_type": "code",
      "source": [
        "! pwd"
      ],
      "metadata": {
        "colab": {
          "base_uri": "https://localhost:8080/"
        },
        "id": "8ItnilIvcbsW",
        "outputId": "4d0c6ed8-2d51-46c3-e9a3-edd557f4a3fb"
      },
      "execution_count": 5,
      "outputs": [
        {
          "output_type": "stream",
          "name": "stdout",
          "text": [
            "/content/drive/MyDrive/Bundesliga/PositiveFrames\n"
          ]
        }
      ]
    },
    {
      "cell_type": "markdown",
      "source": [
        "## To modify"
      ],
      "metadata": {
        "id": "3VeST5VpXtWS"
      }
    },
    {
      "cell_type": "code",
      "source": [
        "video = '1606b0e6_0' # I don't need this"
      ],
      "metadata": {
        "id": "HMOlbLH0XrJw"
      },
      "execution_count": 32,
      "outputs": []
    },
    {
      "cell_type": "markdown",
      "source": [
        "## Cropping original frames"
      ],
      "metadata": {
        "id": "OgxGdDBfVo1z"
      }
    },
    {
      "cell_type": "code",
      "source": [
        "CLASS_INDEX = 0\n",
        "X_INDEX = 1\n",
        "Y_INDEX = 2\n",
        "PERSON_CLASS = '0'\n",
        "BALL_CLASS = '32'\n",
        "X_SIZE = 1928\n",
        "Y_SIZE = 1024\n",
        "CROP_SIZE = 224 # pixels, size of crop = (CROP_SIZExCROP_SIZE)\n",
        "radius = int(CROP_SIZE / 2)"
      ],
      "metadata": {
        "id": "mPxkGrYLVmj3"
      },
      "execution_count": 7,
      "outputs": []
    },
    {
      "cell_type": "code",
      "source": [
        "! pwd"
      ],
      "metadata": {
        "colab": {
          "base_uri": "https://localhost:8080/"
        },
        "id": "WTPxm-xshC_i",
        "outputId": "de9cb336-b7dc-4c28-bd67-99e6ab6390cc"
      },
      "execution_count": 8,
      "outputs": [
        {
          "output_type": "stream",
          "name": "stdout",
          "text": [
            "/content/drive/MyDrive/Bundesliga/PositiveFrames\n"
          ]
        }
      ]
    },
    {
      "cell_type": "code",
      "source": [
        "# files = [file for file in listdir(FOLDER_FRAMES) if isfile(join(FOLDER_FRAMES, file))] # get a list of files in the directory\n",
        "# filenames = [os.path.splitext(filename)[0] for filename in files] # separate filenames from their extension .jpg"
      ],
      "metadata": {
        "id": "xGk_AYmYVuGG"
      },
      "execution_count": 9,
      "outputs": []
    },
    {
      "cell_type": "code",
      "source": [
        "# files[1]"
      ],
      "metadata": {
        "id": "31ZZEJbfgApQ"
      },
      "execution_count": 10,
      "outputs": []
    },
    {
      "cell_type": "markdown",
      "source": [
        "## Test: doing above by iterating over 2 different folders (frames and labels)"
      ],
      "metadata": {
        "id": "lWB-yCa8hK_M"
      }
    },
    {
      "cell_type": "code",
      "source": [
        "POSITIVES_FOLDER = '/content/drive/MyDrive/Bundesliga/PositiveFrames/'\n",
        "FOLDER_LABELS = POSITIVES_FOLDER + 'detect/'\n",
        "FOLDER_FRAMES = POSITIVES_FOLDER + 'frames_ms2/'\n",
        "\n",
        "FIRST_FRAMES = FOLDER_FRAMES + '1606b0e6_0/'\n",
        "SECOND_FRAMES = FOLDER_FRAMES + '1606b0e6_1/'"
      ],
      "metadata": {
        "id": "IFKn6V_6p4D3"
      },
      "execution_count": 81,
      "outputs": []
    },
    {
      "cell_type": "code",
      "source": [
        "# CURRENT_FOLDER = FIRST_FRAMES # TO CHANGE\n",
        "# os.chdir(CURRENT_FOLDER)\n",
        "# ! pwd"
      ],
      "metadata": {
        "id": "qA0qXb3up4G5"
      },
      "execution_count": 12,
      "outputs": []
    },
    {
      "cell_type": "code",
      "source": [
        "video"
      ],
      "metadata": {
        "colab": {
          "base_uri": "https://localhost:8080/",
          "height": 35
        },
        "id": "B5QgJDvibBcG",
        "outputId": "1b0c36bd-6eb8-43cb-dd06-700e6bf1760d"
      },
      "execution_count": 33,
      "outputs": [
        {
          "output_type": "execute_result",
          "data": {
            "text/plain": [
              "'1606b0e6_0'"
            ],
            "application/vnd.google.colaboratory.intrinsic+json": {
              "type": "string"
            }
          },
          "metadata": {},
          "execution_count": 33
        }
      ]
    },
    {
      "cell_type": "code",
      "source": [
        "! ls $video | wc -l"
      ],
      "metadata": {
        "colab": {
          "base_uri": "https://localhost:8080/"
        },
        "id": "eXuDIcn1qU2s",
        "outputId": "75362b1f-bd3e-4728-c0a4-4574f7d905b6"
      },
      "execution_count": 18,
      "outputs": [
        {
          "output_type": "stream",
          "name": "stdout",
          "text": [
            "13860\n"
          ]
        }
      ]
    },
    {
      "cell_type": "code",
      "source": [
        "# CURRENT_FOLDER = SECOND_FRAMES # TO CHANGE\n",
        "# os.chdir(CURRENT_FOLDER)\n",
        "# ! pwd"
      ],
      "metadata": {
        "id": "VDV_nBxJqega"
      },
      "execution_count": 19,
      "outputs": []
    },
    {
      "cell_type": "code",
      "source": [],
      "metadata": {
        "id": "FON9MstjqU5h"
      },
      "execution_count": null,
      "outputs": []
    },
    {
      "cell_type": "code",
      "source": [
        "# POSITIVES_FOLDER = '/content/drive/MyDrive/Bundesliga/PositiveFrames/'\n",
        "# FOLDER_LABELS = POSITIVES_FOLDER + 'detect/'\n",
        "# FOLDER_FRAMES = POSITIVES_FOLDER + '1606b0e6_0/'"
      ],
      "metadata": {
        "id": "JHRR1sLo8EVG"
      },
      "execution_count": 199,
      "outputs": []
    },
    {
      "cell_type": "code",
      "source": [
        "# files = [file for file in listdir(FIRST_FRAMES) if isfile(join(FIRST_FRAMES, file))] # get a list of files in the directory\n",
        "# filenames = [os.path.splitext(filename)[0] for filename in files] # separate filenames from their extension .jpg"
      ],
      "metadata": {
        "id": "LaPW09B58Jw4"
      },
      "execution_count": 21,
      "outputs": []
    },
    {
      "cell_type": "code",
      "source": [
        "# sum('1606b0e6_0_11' in(file) for file in files)"
      ],
      "metadata": {
        "id": "Qh0LZAzm8SaQ"
      },
      "execution_count": 22,
      "outputs": []
    },
    {
      "cell_type": "code",
      "source": [
        "# sum('1606b0e6_0_24' in(file) for file in files)"
      ],
      "metadata": {
        "id": "aRiibpePFtoq"
      },
      "execution_count": 23,
      "outputs": []
    },
    {
      "cell_type": "code",
      "source": [
        "# filenames[-5:]"
      ],
      "metadata": {
        "id": "u1ANgUomEArr"
      },
      "execution_count": 24,
      "outputs": []
    },
    {
      "cell_type": "markdown",
      "source": [
        "## Main code:"
      ],
      "metadata": {
        "id": "YILd4Fh8KVxf"
      }
    },
    {
      "cell_type": "code",
      "source": [
        "ANY_INDEX = 0"
      ],
      "metadata": {
        "id": "w-v3IscUt8GA"
      },
      "execution_count": 53,
      "outputs": []
    },
    {
      "cell_type": "code",
      "source": [
        "# video = \"_\".join(filenames[ANY_INDEX].split(\"_\", 2)[:2])\n",
        "# rest = ''.join(filenames[ANY_INDEX].split(\"_\", 2)[2:])\n",
        "# y = filenames[ANY_INDEX].split(\"_\")[3]\n",
        "# video, rest, y"
      ],
      "metadata": {
        "id": "eN-NBasZGery"
      },
      "execution_count": 25,
      "outputs": []
    },
    {
      "cell_type": "code",
      "source": [
        "FOLDER_LABELS"
      ],
      "metadata": {
        "colab": {
          "base_uri": "https://localhost:8080/",
          "height": 35
        },
        "id": "i_PBj2ElJmCC",
        "outputId": "e57bf6ee-77b3-4d5e-d8a6-58d90c8cfb6b"
      },
      "execution_count": 26,
      "outputs": [
        {
          "output_type": "execute_result",
          "data": {
            "text/plain": [
              "'/content/drive/MyDrive/Bundesliga/PositiveFrames/detect/'"
            ],
            "application/vnd.google.colaboratory.intrinsic+json": {
              "type": "string"
            }
          },
          "metadata": {},
          "execution_count": 26
        }
      ]
    },
    {
      "cell_type": "code",
      "source": [
        "current_labels = FOLDER_LABELS + video + '/labels/'\n",
        "current_labels"
      ],
      "metadata": {
        "colab": {
          "base_uri": "https://localhost:8080/",
          "height": 35
        },
        "id": "W66O2BcEJn62",
        "outputId": "d89b36cf-81db-42d5-89d7-833e18201022"
      },
      "execution_count": 27,
      "outputs": [
        {
          "output_type": "execute_result",
          "data": {
            "text/plain": [
              "'/content/drive/MyDrive/Bundesliga/PositiveFrames/detect/1606b0e6_0//labels/'"
            ],
            "application/vnd.google.colaboratory.intrinsic+json": {
              "type": "string"
            }
          },
          "metadata": {},
          "execution_count": 27
        }
      ]
    },
    {
      "cell_type": "code",
      "source": [
        "USE_PERSONS = True\n",
        "USE_PERSONS_THRESH = 15\n",
        "FRAMES_PER_EVENT = 35\n",
        "NUM_CLASSES = 3\n",
        "CONFIDENCE_INDEX = 5"
      ],
      "metadata": {
        "id": "2dlnCXa4deQS"
      },
      "execution_count": 28,
      "outputs": []
    },
    {
      "cell_type": "code",
      "source": [
        "video"
      ],
      "metadata": {
        "colab": {
          "base_uri": "https://localhost:8080/",
          "height": 35
        },
        "id": "rujR0I6NuQfb",
        "outputId": "4aa460c6-743e-4bbc-c6bd-2fb2e9fb597a"
      },
      "execution_count": 34,
      "outputs": [
        {
          "output_type": "execute_result",
          "data": {
            "text/plain": [
              "'1606b0e6_0'"
            ],
            "application/vnd.google.colaboratory.intrinsic+json": {
              "type": "string"
            }
          },
          "metadata": {},
          "execution_count": 34
        }
      ]
    },
    {
      "cell_type": "code",
      "source": [
        "EVENTS_PER_VIDEO = {'1606b0e6_0': 396} # MAYBE CODE IT IN A BETTER WAY"
      ],
      "metadata": {
        "id": "eFgtiiTzO2yN"
      },
      "execution_count": 35,
      "outputs": []
    },
    {
      "cell_type": "code",
      "source": [
        "EVENTS_PER_VIDEO[video]"
      ],
      "metadata": {
        "colab": {
          "base_uri": "https://localhost:8080/"
        },
        "id": "bTnwWWyAPEAY",
        "outputId": "f3ec88a0-3823-455f-a816-0310fc435a09"
      },
      "execution_count": 36,
      "outputs": [
        {
          "output_type": "execute_result",
          "data": {
            "text/plain": [
              "396"
            ]
          },
          "metadata": {},
          "execution_count": 36
        }
      ]
    },
    {
      "cell_type": "code",
      "source": [
        "FRAMES_FORMAT = 'VIDEOID_EVENTID_CLASSID_ORDERID.jpg'"
      ],
      "metadata": {
        "id": "-qI3AMSmwJqr"
      },
      "execution_count": 37,
      "outputs": []
    },
    {
      "cell_type": "code",
      "source": [
        "class_meanings = {0: 'challenge', 1: 'throw-in', 2: 'play'}"
      ],
      "metadata": {
        "id": "GMdTtJRX5qlY"
      },
      "execution_count": 38,
      "outputs": []
    },
    {
      "cell_type": "code",
      "source": [
        "# Challenges' frame between tolerances are respectively: 17 yes, 1 yes, 17 yes.\n",
        "# For play and throw-in are respectively: 9 no, 8 yes, 1 yes, 8 yes, 9 no."
      ],
      "metadata": {
        "id": "65PUI4Ul9Nrj"
      },
      "execution_count": 39,
      "outputs": []
    },
    {
      "cell_type": "markdown",
      "source": [
        "Implementation:"
      ],
      "metadata": {
        "id": "gcKkZJBiGvBM"
      }
    },
    {
      "cell_type": "code",
      "source": [
        "POSITIVES_FOLDER = '/content/drive/MyDrive/Bundesliga/PositiveFrames/'\n",
        "FOLDER_LABELS = POSITIVES_FOLDER + 'detect/'\n",
        "FOLDER_FRAMES = POSITIVES_FOLDER + 'frames_ms2/'\n",
        "\n",
        "FIRST_FRAMES = FOLDER_FRAMES + '1606b0e6_0/'\n",
        "SECOND_FRAMES = FOLDER_FRAMES + '1606b0e6_1/'"
      ],
      "metadata": {
        "id": "ACyLvsBe8Dwn"
      },
      "execution_count": 82,
      "outputs": []
    },
    {
      "cell_type": "code",
      "source": [
        "os.chdir(POSITIVES_FOLDER)\n",
        "! pwd"
      ],
      "metadata": {
        "colab": {
          "base_uri": "https://localhost:8080/"
        },
        "id": "zxXCT0VyOISa",
        "outputId": "bb4110e5-245f-4de8-92d0-ddd004a9d49e"
      },
      "execution_count": 83,
      "outputs": [
        {
          "output_type": "stream",
          "name": "stdout",
          "text": [
            "/content/drive/MyDrive/Bundesliga/PositiveFrames\n"
          ]
        }
      ]
    },
    {
      "cell_type": "code",
      "source": [
        "! mkdir crops"
      ],
      "metadata": {
        "colab": {
          "base_uri": "https://localhost:8080/"
        },
        "id": "oEczTD7kl4Jm",
        "outputId": "f2dd4822-9842-40fa-bfa7-a688dcac8bcd"
      },
      "execution_count": 84,
      "outputs": [
        {
          "output_type": "stream",
          "name": "stdout",
          "text": [
            "mkdir: cannot create directory ‘crops’: File exists\n"
          ]
        }
      ]
    },
    {
      "cell_type": "code",
      "source": [
        "FIRST_FRAME_USED = 18"
      ],
      "metadata": {
        "id": "x2kQJbe4mcye"
      },
      "execution_count": 85,
      "outputs": []
    },
    {
      "cell_type": "code",
      "source": [
        "FOLDER_LABELS"
      ],
      "metadata": {
        "colab": {
          "base_uri": "https://localhost:8080/",
          "height": 35
        },
        "id": "1aE0mAfh77Ld",
        "outputId": "e6cdd60f-1da3-462d-d842-b35326416b1e"
      },
      "execution_count": 86,
      "outputs": [
        {
          "output_type": "execute_result",
          "data": {
            "text/plain": [
              "'/content/drive/MyDrive/Bundesliga/PositiveFrames/detect/'"
            ],
            "application/vnd.google.colaboratory.intrinsic+json": {
              "type": "string"
            }
          },
          "metadata": {},
          "execution_count": 86
        }
      ]
    },
    {
      "cell_type": "code",
      "source": [
        "! mkdir crops/$video\n",
        "# We iterate over every event, from 0 to 395\n",
        "for event in range(EVENTS_PER_VIDEO[video]):\n",
        "  # We establish ball = False (in this event, ball wasn't yet recognized)\n",
        "  ball = False\n",
        "  # We should find for example f'1606b0e6_0_{frame}_' and establish that class_ equals what follows it \n",
        "  substring = f'{FOLDER_LABELS}{video}/labels/{video}_{event}_'\n",
        "  file = glob.glob(f'{substring}*.txt')[ANY_INDEX]\n",
        "  len_subs = len(substring)\n",
        "  class_ = int(file[len_subs])\n",
        "\n",
        "  event_id = f'{video}_{event}_{class_}'\n",
        "\n",
        "  # We create a condition based on the class on how to iterate for the frames.\n",
        "  # Challenges' frame between tolerances are respectively: 17 yes, 1 yes, 17 yes.\n",
        "  # For play and throw-in are respectively: 9 no, 8 yes, 1 yes, 8 yes, 9 no.\n",
        "\n",
        "  # if class_ == 0: # if it's a challenge\n",
        "    \n",
        "  # TO AVOID BALL FPs: we iterate over every frames, from 18 to 34\n",
        "  \n",
        "  for frame in range(FIRST_FRAME_USED, FRAMES_PER_EVENT - 2): # - 2 cause we need to use 2 more after the one detected\n",
        "    frame_id = f'{event_id}_{frame}' # e.g. '1606b0e6_0_0_0_0'\n",
        "    print(frame_id)\n",
        "    label_txt = f'{frame_id}.txt'\n",
        "    with open(f'{FOLDER_LABELS}{video}/labels/{label_txt}') as f:\n",
        "      reader = f.read()\n",
        "    detections = [i.split(' ') for i in reader.split('\\n')][:-1] # [:-1] because last element is always \"''\"\n",
        "    # counter = 0\n",
        "\n",
        "    for detection in detections: # in a single frame\n",
        "\n",
        "      # confidences = list() # WE ARE NOT IMPLEMENTING CONFIDENCES FOR NOW AS IT MAY NOT BE RELEVANT\n",
        "      if detection[CLASS_INDEX] == BALL_CLASS:\n",
        "        # Ball is True for this event, it was detected in at least one of the frames.\n",
        "        ball = True\n",
        "        \n",
        "        # confidence = float(detection[CONFIDENCE_INDEX])\n",
        "\n",
        "        x = int(float(detection[X_INDEX]) * X_SIZE)\n",
        "        y = int(float(detection[Y_INDEX]) * Y_SIZE)\n",
        "        ymin = max(y - radius, 0)\n",
        "        ymax = min(y + radius, Y_SIZE)\n",
        "        xmin = max(x - radius, 0)\n",
        "        xmax = min(x + radius, X_SIZE)\n",
        "\n",
        "        # TO AVOID BALL FPs: we throw away detections that make the crop next to a limit of the frame\n",
        "        if ymin == 0 or ymax == Y_SIZE or xmin == 0 or xmax == X_SIZE:\n",
        "          ball = False\n",
        "\n",
        "        # We make sure all crops are 224x224 (this won't apply if code above is implemented)\n",
        "        # if ymin == 0:\n",
        "        #   ymax = CROP_SIZE # = 224\n",
        "        # elif ymax == Y_SIZE:\n",
        "        #   ymin = Y_SIZE - CROP_SIZE # = 1024 - 224\n",
        "        # if xmin == 0:\n",
        "        #   xmax = CROP_SIZE # == 224 \n",
        "        # elif xmax == X_SIZE:\n",
        "        #   xmin = X_SIZE - CROP_SIZE # = 1928 - 224\n",
        "\n",
        "        # break\n",
        "        if ball: # NO IMAGE WILL BE CROPPED IF NO BALL IS SEEN BETWEEN FRAMES 18 AND 34\n",
        "\n",
        "          for r in range(frame - 3, frame): # 3: amount of frames per event\n",
        "            img = cv2.imread(f'{FOLDER_FRAMES}{video}/{event_id}_{r}.jpg')\n",
        "            cropped_image = img[ymin:ymax, xmin:xmax] # We change from (x, y) to (y, x) to work with cv2_imshow\n",
        "            cv2.imwrite(f'{POSITIVES_FOLDER}crops/{video}/{frame_id}_{r}cropped.jpg', cropped_image)\n",
        "          break # breaks loop of detections in a single frame (so there are 3 per frame only)\n",
        "    if ball:      \n",
        "      break # breaks loop of frame in frames per event (so there are 3 per event only)\n",
        "\n",
        "    elif frame == FRAMES_PER_EVENT - 3: # We implement crop on main frame (index 17) based on closest two people\n",
        "      frame_id = f'{event_id}_{FIRST_FRAME_USED - 1}' # -1 so we get main fraim (index 17)\n",
        "      label_txt = f'{frame_id}.txt'\n",
        "      with open(f'{FOLDER_LABELS}{video}/labels/{label_txt}') as f:\n",
        "        reader = f.read()\n",
        "      detections = [i.split(' ') for i in reader.split('\\n')][:-1] # [:-1] because last element is always \"''\"\n",
        "      arr = np.array(detections)\n",
        "      persons = arr[arr[:, 0] == '0']\n",
        "      xy_persons = persons[:, X_INDEX:Y_INDEX + 1].astype(float)\n",
        "      dists = cdist(xy_persons, xy_persons)\n",
        "      dists[dists == 0] = dists.max()\n",
        "      arg1, arg2 = np.unravel_index(dists.argmin(), dists.shape)\n",
        "      two_people = xy_persons[[arg1, arg2]]\n",
        "      frame_center = np.mean(two_people, axis=0)\n",
        "      x, y = frame_center\n",
        "      x = int(x * X_SIZE)\n",
        "      y = int(y * Y_SIZE)\n",
        "      ymin = max(y - radius, 0)\n",
        "      ymax = min(y + radius, Y_SIZE)\n",
        "      xmin = max(x - radius, 0)\n",
        "      xmax = min(x + radius, X_SIZE)\n",
        "\n",
        "      for r in range(FIRST_FRAME_USED - 1, FIRST_FRAME_USED + 2): # here we use -1 and + 2 because we are certain it's from 17 (our main frame)\n",
        "        img = cv2.imread(f'{FOLDER_FRAMES}{video}/{event_id}_{r}.jpg')\n",
        "        cropped_image = img[ymin:ymax, xmin:xmax] # We change from (x, y) to (y, x) to work with cv2_imshow\n",
        "        cv2.imwrite(f'{POSITIVES_FOLDER}crops/{video}/{frame_id}_{r}cropped.jpg', cropped_image)\n",
        "      break\n"
      ],
      "metadata": {
        "colab": {
          "base_uri": "https://localhost:8080/"
        },
        "id": "3j9G9lb6CZD9",
        "outputId": "46afb7fc-16c2-43f9-9c2f-d131a9edd9de"
      },
      "execution_count": 101,
      "outputs": [
        {
          "output_type": "stream",
          "name": "stdout",
          "text": [
            "mkdir: cannot create directory ‘crops/1606b0e6_0’: File exists\n",
            "1606b0e6_0_0_0_18\n",
            "1606b0e6_0_1_0_18\n",
            "1606b0e6_0_2_1_18\n",
            "1606b0e6_0_3_2_18\n",
            "1606b0e6_0_3_2_19\n",
            "1606b0e6_0_3_2_20\n",
            "1606b0e6_0_4_2_18\n",
            "1606b0e6_0_4_2_19\n",
            "1606b0e6_0_5_2_18\n",
            "1606b0e6_0_6_2_18\n",
            "1606b0e6_0_7_2_18\n",
            "1606b0e6_0_8_2_18\n",
            "1606b0e6_0_8_2_19\n",
            "1606b0e6_0_8_2_20\n",
            "1606b0e6_0_8_2_21\n",
            "1606b0e6_0_8_2_22\n",
            "1606b0e6_0_8_2_23\n",
            "1606b0e6_0_8_2_24\n",
            "1606b0e6_0_9_2_18\n",
            "1606b0e6_0_9_2_19\n",
            "1606b0e6_0_9_2_20\n",
            "1606b0e6_0_9_2_21\n",
            "1606b0e6_0_10_2_18\n",
            "1606b0e6_0_10_2_19\n",
            "1606b0e6_0_10_2_20\n",
            "1606b0e6_0_10_2_21\n",
            "1606b0e6_0_10_2_22\n",
            "1606b0e6_0_10_2_23\n",
            "1606b0e6_0_10_2_24\n",
            "1606b0e6_0_10_2_25\n",
            "1606b0e6_0_11_2_18\n",
            "1606b0e6_0_11_2_19\n",
            "1606b0e6_0_11_2_20\n",
            "1606b0e6_0_12_2_18\n",
            "1606b0e6_0_13_2_18\n",
            "1606b0e6_0_14_2_18\n",
            "1606b0e6_0_14_2_19\n",
            "1606b0e6_0_14_2_20\n",
            "1606b0e6_0_15_2_18\n",
            "1606b0e6_0_16_2_18\n",
            "1606b0e6_0_17_2_18\n",
            "1606b0e6_0_18_2_18\n",
            "1606b0e6_0_18_2_19\n",
            "1606b0e6_0_18_2_20\n",
            "1606b0e6_0_18_2_21\n",
            "1606b0e6_0_18_2_22\n",
            "1606b0e6_0_19_2_18\n",
            "1606b0e6_0_20_2_18\n",
            "1606b0e6_0_21_2_18\n",
            "1606b0e6_0_21_2_19\n",
            "1606b0e6_0_21_2_20\n",
            "1606b0e6_0_21_2_21\n",
            "1606b0e6_0_22_2_18\n",
            "1606b0e6_0_23_2_18\n",
            "1606b0e6_0_23_2_19\n",
            "1606b0e6_0_24_2_18\n",
            "1606b0e6_0_24_2_19\n",
            "1606b0e6_0_24_2_20\n",
            "1606b0e6_0_25_2_18\n",
            "1606b0e6_0_26_0_18\n",
            "1606b0e6_0_26_0_19\n",
            "1606b0e6_0_26_0_20\n",
            "1606b0e6_0_26_0_21\n",
            "1606b0e6_0_27_0_18\n",
            "1606b0e6_0_27_0_19\n",
            "1606b0e6_0_27_0_20\n",
            "1606b0e6_0_28_2_18\n",
            "1606b0e6_0_29_2_18\n",
            "1606b0e6_0_30_2_18\n",
            "1606b0e6_0_31_2_18\n",
            "1606b0e6_0_32_2_18\n",
            "1606b0e6_0_33_2_18\n",
            "1606b0e6_0_33_2_19\n",
            "1606b0e6_0_33_2_20\n",
            "1606b0e6_0_34_0_18\n",
            "1606b0e6_0_35_2_18\n",
            "1606b0e6_0_35_2_19\n",
            "1606b0e6_0_36_2_18\n",
            "1606b0e6_0_36_2_19\n",
            "1606b0e6_0_36_2_20\n",
            "1606b0e6_0_36_2_21\n",
            "1606b0e6_0_36_2_22\n",
            "1606b0e6_0_36_2_23\n",
            "1606b0e6_0_37_2_18\n",
            "1606b0e6_0_38_2_18\n",
            "1606b0e6_0_38_2_19\n",
            "1606b0e6_0_39_2_18\n",
            "1606b0e6_0_40_0_18\n",
            "1606b0e6_0_41_0_18\n",
            "1606b0e6_0_42_1_18\n",
            "1606b0e6_0_43_2_18\n",
            "1606b0e6_0_44_2_18\n",
            "1606b0e6_0_44_2_19\n",
            "1606b0e6_0_44_2_20\n",
            "1606b0e6_0_44_2_21\n",
            "1606b0e6_0_44_2_22\n",
            "1606b0e6_0_44_2_23\n",
            "1606b0e6_0_44_2_24\n",
            "1606b0e6_0_44_2_25\n",
            "1606b0e6_0_44_2_26\n",
            "1606b0e6_0_44_2_27\n",
            "1606b0e6_0_44_2_28\n",
            "1606b0e6_0_44_2_29\n",
            "1606b0e6_0_44_2_30\n",
            "1606b0e6_0_44_2_31\n",
            "1606b0e6_0_44_2_32\n",
            "1606b0e6_0_45_0_18\n",
            "1606b0e6_0_45_0_19\n",
            "1606b0e6_0_45_0_20\n",
            "1606b0e6_0_46_2_18\n",
            "1606b0e6_0_47_2_18\n",
            "1606b0e6_0_48_2_18\n",
            "1606b0e6_0_49_2_18\n",
            "1606b0e6_0_50_1_18\n",
            "1606b0e6_0_51_2_18\n",
            "1606b0e6_0_51_2_19\n",
            "1606b0e6_0_52_2_18\n",
            "1606b0e6_0_52_2_19\n",
            "1606b0e6_0_52_2_20\n",
            "1606b0e6_0_52_2_21\n",
            "1606b0e6_0_53_2_18\n",
            "1606b0e6_0_53_2_19\n",
            "1606b0e6_0_53_2_20\n",
            "1606b0e6_0_53_2_21\n",
            "1606b0e6_0_53_2_22\n",
            "1606b0e6_0_54_2_18\n",
            "1606b0e6_0_55_0_18\n",
            "1606b0e6_0_56_2_18\n",
            "1606b0e6_0_56_2_19\n",
            "1606b0e6_0_56_2_20\n",
            "1606b0e6_0_57_2_18\n",
            "1606b0e6_0_57_2_19\n",
            "1606b0e6_0_57_2_20\n",
            "1606b0e6_0_58_2_18\n",
            "1606b0e6_0_58_2_19\n",
            "1606b0e6_0_59_2_18\n",
            "1606b0e6_0_59_2_19\n",
            "1606b0e6_0_60_2_18\n",
            "1606b0e6_0_60_2_19\n",
            "1606b0e6_0_60_2_20\n",
            "1606b0e6_0_60_2_21\n",
            "1606b0e6_0_60_2_22\n",
            "1606b0e6_0_60_2_23\n",
            "1606b0e6_0_60_2_24\n",
            "1606b0e6_0_61_2_18\n",
            "1606b0e6_0_61_2_19\n",
            "1606b0e6_0_61_2_20\n",
            "1606b0e6_0_61_2_21\n",
            "1606b0e6_0_62_2_18\n",
            "1606b0e6_0_62_2_19\n",
            "1606b0e6_0_62_2_20\n",
            "1606b0e6_0_63_2_18\n",
            "1606b0e6_0_63_2_19\n",
            "1606b0e6_0_64_2_18\n",
            "1606b0e6_0_65_2_18\n",
            "1606b0e6_0_66_0_18\n",
            "1606b0e6_0_66_0_19\n",
            "1606b0e6_0_66_0_20\n",
            "1606b0e6_0_66_0_21\n",
            "1606b0e6_0_66_0_22\n",
            "1606b0e6_0_66_0_23\n",
            "1606b0e6_0_66_0_24\n",
            "1606b0e6_0_67_1_18\n",
            "1606b0e6_0_67_1_19\n",
            "1606b0e6_0_68_0_18\n",
            "1606b0e6_0_68_0_19\n",
            "1606b0e6_0_68_0_20\n",
            "1606b0e6_0_68_0_21\n",
            "1606b0e6_0_68_0_22\n",
            "1606b0e6_0_68_0_23\n",
            "1606b0e6_0_68_0_24\n",
            "1606b0e6_0_68_0_25\n",
            "1606b0e6_0_68_0_26\n",
            "1606b0e6_0_68_0_27\n",
            "1606b0e6_0_68_0_28\n",
            "1606b0e6_0_68_0_29\n",
            "1606b0e6_0_69_2_18\n",
            "1606b0e6_0_70_2_18\n",
            "1606b0e6_0_70_2_19\n",
            "1606b0e6_0_71_2_18\n",
            "1606b0e6_0_72_2_18\n",
            "1606b0e6_0_72_2_19\n",
            "1606b0e6_0_72_2_20\n",
            "1606b0e6_0_73_2_18\n",
            "1606b0e6_0_74_2_18\n",
            "1606b0e6_0_75_0_18\n",
            "1606b0e6_0_76_2_18\n",
            "1606b0e6_0_77_2_18\n",
            "1606b0e6_0_78_0_18\n",
            "1606b0e6_0_79_0_18\n",
            "1606b0e6_0_79_0_19\n",
            "1606b0e6_0_80_2_18\n",
            "1606b0e6_0_81_2_18\n",
            "1606b0e6_0_81_2_19\n",
            "1606b0e6_0_81_2_20\n",
            "1606b0e6_0_81_2_21\n",
            "1606b0e6_0_81_2_22\n",
            "1606b0e6_0_81_2_23\n",
            "1606b0e6_0_81_2_24\n",
            "1606b0e6_0_82_2_18\n",
            "1606b0e6_0_83_2_18\n",
            "1606b0e6_0_84_2_18\n",
            "1606b0e6_0_84_2_19\n",
            "1606b0e6_0_84_2_20\n",
            "1606b0e6_0_85_2_18\n",
            "1606b0e6_0_86_2_18\n",
            "1606b0e6_0_86_2_19\n",
            "1606b0e6_0_86_2_20\n",
            "1606b0e6_0_87_2_18\n",
            "1606b0e6_0_88_0_18\n",
            "1606b0e6_0_89_2_18\n",
            "1606b0e6_0_90_2_18\n",
            "1606b0e6_0_91_2_18\n",
            "1606b0e6_0_91_2_19\n",
            "1606b0e6_0_92_2_18\n",
            "1606b0e6_0_93_2_18\n",
            "1606b0e6_0_94_2_18\n",
            "1606b0e6_0_94_2_19\n",
            "1606b0e6_0_94_2_20\n",
            "1606b0e6_0_94_2_21\n",
            "1606b0e6_0_94_2_22\n",
            "1606b0e6_0_94_2_23\n",
            "1606b0e6_0_95_2_18\n",
            "1606b0e6_0_96_2_18\n",
            "1606b0e6_0_97_0_18\n",
            "1606b0e6_0_98_2_18\n",
            "1606b0e6_0_98_2_19\n",
            "1606b0e6_0_99_2_18\n",
            "1606b0e6_0_100_2_18\n",
            "1606b0e6_0_101_2_18\n",
            "1606b0e6_0_102_2_18\n",
            "1606b0e6_0_102_2_19\n",
            "1606b0e6_0_103_2_18\n",
            "1606b0e6_0_103_2_19\n",
            "1606b0e6_0_103_2_20\n",
            "1606b0e6_0_103_2_21\n",
            "1606b0e6_0_104_1_18\n",
            "1606b0e6_0_105_2_18\n",
            "1606b0e6_0_106_2_18\n",
            "1606b0e6_0_107_2_18\n",
            "1606b0e6_0_108_2_18\n",
            "1606b0e6_0_109_2_18\n",
            "1606b0e6_0_109_2_19\n",
            "1606b0e6_0_109_2_20\n",
            "1606b0e6_0_109_2_21\n",
            "1606b0e6_0_109_2_22\n",
            "1606b0e6_0_109_2_23\n",
            "1606b0e6_0_109_2_24\n",
            "1606b0e6_0_109_2_25\n",
            "1606b0e6_0_109_2_26\n",
            "1606b0e6_0_109_2_27\n",
            "1606b0e6_0_110_2_18\n",
            "1606b0e6_0_111_2_18\n",
            "1606b0e6_0_112_2_18\n",
            "1606b0e6_0_113_2_18\n",
            "1606b0e6_0_114_2_18\n",
            "1606b0e6_0_115_2_18\n",
            "1606b0e6_0_115_2_19\n",
            "1606b0e6_0_115_2_20\n",
            "1606b0e6_0_115_2_21\n",
            "1606b0e6_0_116_2_18\n",
            "1606b0e6_0_117_2_18\n",
            "1606b0e6_0_117_2_19\n",
            "1606b0e6_0_117_2_20\n",
            "1606b0e6_0_117_2_21\n",
            "1606b0e6_0_117_2_22\n",
            "1606b0e6_0_118_2_18\n",
            "1606b0e6_0_119_1_18\n",
            "1606b0e6_0_119_1_19\n",
            "1606b0e6_0_119_1_20\n",
            "1606b0e6_0_119_1_21\n",
            "1606b0e6_0_119_1_22\n",
            "1606b0e6_0_119_1_23\n",
            "1606b0e6_0_119_1_24\n",
            "1606b0e6_0_119_1_25\n",
            "1606b0e6_0_119_1_26\n",
            "1606b0e6_0_119_1_27\n",
            "1606b0e6_0_120_2_18\n",
            "1606b0e6_0_120_2_19\n",
            "1606b0e6_0_121_2_18\n",
            "1606b0e6_0_122_1_18\n",
            "1606b0e6_0_122_1_19\n",
            "1606b0e6_0_122_1_20\n",
            "1606b0e6_0_122_1_21\n",
            "1606b0e6_0_122_1_22\n",
            "1606b0e6_0_122_1_23\n",
            "1606b0e6_0_122_1_24\n",
            "1606b0e6_0_122_1_25\n",
            "1606b0e6_0_122_1_26\n",
            "1606b0e6_0_122_1_27\n",
            "1606b0e6_0_123_2_18\n",
            "1606b0e6_0_123_2_19\n",
            "1606b0e6_0_124_2_18\n",
            "1606b0e6_0_124_2_19\n",
            "1606b0e6_0_125_2_18\n",
            "1606b0e6_0_125_2_19\n",
            "1606b0e6_0_125_2_20\n",
            "1606b0e6_0_125_2_21\n",
            "1606b0e6_0_126_2_18\n",
            "1606b0e6_0_126_2_19\n",
            "1606b0e6_0_126_2_20\n",
            "1606b0e6_0_127_2_18\n",
            "1606b0e6_0_127_2_19\n",
            "1606b0e6_0_128_0_18\n",
            "1606b0e6_0_129_1_18\n",
            "1606b0e6_0_130_0_18\n",
            "1606b0e6_0_130_0_19\n",
            "1606b0e6_0_130_0_20\n",
            "1606b0e6_0_131_1_18\n",
            "1606b0e6_0_132_2_18\n",
            "1606b0e6_0_133_2_18\n",
            "1606b0e6_0_134_2_18\n",
            "1606b0e6_0_135_2_18\n",
            "1606b0e6_0_136_2_18\n",
            "1606b0e6_0_137_2_18\n",
            "1606b0e6_0_138_2_18\n",
            "1606b0e6_0_139_2_18\n",
            "1606b0e6_0_140_2_18\n",
            "1606b0e6_0_141_0_18\n",
            "1606b0e6_0_141_0_19\n",
            "1606b0e6_0_141_0_20\n",
            "1606b0e6_0_141_0_21\n",
            "1606b0e6_0_141_0_22\n",
            "1606b0e6_0_141_0_23\n",
            "1606b0e6_0_141_0_24\n",
            "1606b0e6_0_141_0_25\n",
            "1606b0e6_0_141_0_26\n",
            "1606b0e6_0_141_0_27\n",
            "1606b0e6_0_141_0_28\n",
            "1606b0e6_0_141_0_29\n",
            "1606b0e6_0_141_0_30\n",
            "1606b0e6_0_141_0_31\n",
            "1606b0e6_0_141_0_32\n",
            "1606b0e6_0_142_2_18\n",
            "1606b0e6_0_143_2_18\n",
            "1606b0e6_0_144_2_18\n",
            "1606b0e6_0_145_2_18\n",
            "1606b0e6_0_146_0_18\n",
            "1606b0e6_0_147_0_18\n",
            "1606b0e6_0_148_2_18\n",
            "1606b0e6_0_148_2_19\n",
            "1606b0e6_0_148_2_20\n",
            "1606b0e6_0_148_2_21\n",
            "1606b0e6_0_148_2_22\n",
            "1606b0e6_0_148_2_23\n",
            "1606b0e6_0_148_2_24\n",
            "1606b0e6_0_148_2_25\n",
            "1606b0e6_0_148_2_26\n",
            "1606b0e6_0_148_2_27\n",
            "1606b0e6_0_148_2_28\n",
            "1606b0e6_0_148_2_29\n",
            "1606b0e6_0_148_2_30\n",
            "1606b0e6_0_148_2_31\n",
            "1606b0e6_0_148_2_32\n",
            "1606b0e6_0_149_2_18\n",
            "1606b0e6_0_150_2_18\n",
            "1606b0e6_0_151_2_18\n",
            "1606b0e6_0_152_2_18\n",
            "1606b0e6_0_153_2_18\n",
            "1606b0e6_0_154_2_18\n",
            "1606b0e6_0_155_2_18\n",
            "1606b0e6_0_156_2_18\n",
            "1606b0e6_0_157_2_18\n",
            "1606b0e6_0_158_2_18\n",
            "1606b0e6_0_159_2_18\n",
            "1606b0e6_0_160_2_18\n",
            "1606b0e6_0_160_2_19\n",
            "1606b0e6_0_161_2_18\n",
            "1606b0e6_0_161_2_19\n",
            "1606b0e6_0_161_2_20\n",
            "1606b0e6_0_161_2_21\n",
            "1606b0e6_0_161_2_22\n",
            "1606b0e6_0_161_2_23\n",
            "1606b0e6_0_161_2_24\n",
            "1606b0e6_0_161_2_25\n",
            "1606b0e6_0_161_2_26\n",
            "1606b0e6_0_161_2_27\n",
            "1606b0e6_0_161_2_28\n",
            "1606b0e6_0_161_2_29\n",
            "1606b0e6_0_162_2_18\n",
            "1606b0e6_0_163_0_18\n",
            "1606b0e6_0_164_2_18\n",
            "1606b0e6_0_165_2_18\n",
            "1606b0e6_0_165_2_19\n",
            "1606b0e6_0_166_2_18\n",
            "1606b0e6_0_167_2_18\n",
            "1606b0e6_0_168_2_18\n",
            "1606b0e6_0_169_2_18\n",
            "1606b0e6_0_170_2_18\n",
            "1606b0e6_0_171_2_18\n",
            "1606b0e6_0_172_2_18\n",
            "1606b0e6_0_173_2_18\n",
            "1606b0e6_0_173_2_19\n",
            "1606b0e6_0_174_1_18\n",
            "1606b0e6_0_175_2_18\n",
            "1606b0e6_0_176_2_18\n",
            "1606b0e6_0_177_2_18\n",
            "1606b0e6_0_178_2_18\n",
            "1606b0e6_0_179_2_18\n",
            "1606b0e6_0_180_2_18\n",
            "1606b0e6_0_181_2_18\n",
            "1606b0e6_0_182_2_18\n",
            "1606b0e6_0_183_2_18\n",
            "1606b0e6_0_183_2_19\n",
            "1606b0e6_0_183_2_20\n",
            "1606b0e6_0_184_2_18\n",
            "1606b0e6_0_184_2_19\n",
            "1606b0e6_0_184_2_20\n",
            "1606b0e6_0_184_2_21\n",
            "1606b0e6_0_184_2_22\n",
            "1606b0e6_0_184_2_23\n",
            "1606b0e6_0_184_2_24\n",
            "1606b0e6_0_184_2_25\n",
            "1606b0e6_0_184_2_26\n",
            "1606b0e6_0_185_2_18\n",
            "1606b0e6_0_186_2_18\n",
            "1606b0e6_0_187_2_18\n",
            "1606b0e6_0_188_2_18\n",
            "1606b0e6_0_189_2_18\n",
            "1606b0e6_0_190_2_18\n",
            "1606b0e6_0_190_2_19\n",
            "1606b0e6_0_191_2_18\n",
            "1606b0e6_0_191_2_19\n",
            "1606b0e6_0_191_2_20\n",
            "1606b0e6_0_191_2_21\n",
            "1606b0e6_0_191_2_22\n",
            "1606b0e6_0_191_2_23\n",
            "1606b0e6_0_191_2_24\n",
            "1606b0e6_0_192_2_18\n",
            "1606b0e6_0_193_0_18\n",
            "1606b0e6_0_194_2_18\n",
            "1606b0e6_0_195_2_18\n",
            "1606b0e6_0_196_2_18\n",
            "1606b0e6_0_196_2_19\n",
            "1606b0e6_0_197_0_18\n",
            "1606b0e6_0_198_0_18\n",
            "1606b0e6_0_199_2_18\n",
            "1606b0e6_0_200_0_18\n",
            "1606b0e6_0_201_2_18\n",
            "1606b0e6_0_202_2_18\n",
            "1606b0e6_0_203_2_18\n",
            "1606b0e6_0_204_2_18\n",
            "1606b0e6_0_205_2_18\n",
            "1606b0e6_0_206_0_18\n",
            "1606b0e6_0_207_2_18\n",
            "1606b0e6_0_208_2_18\n",
            "1606b0e6_0_209_2_18\n",
            "1606b0e6_0_210_2_18\n",
            "1606b0e6_0_211_2_18\n",
            "1606b0e6_0_212_2_18\n",
            "1606b0e6_0_213_0_18\n",
            "1606b0e6_0_213_0_19\n",
            "1606b0e6_0_213_0_20\n",
            "1606b0e6_0_213_0_21\n",
            "1606b0e6_0_213_0_22\n",
            "1606b0e6_0_213_0_23\n",
            "1606b0e6_0_213_0_24\n",
            "1606b0e6_0_213_0_25\n",
            "1606b0e6_0_213_0_26\n",
            "1606b0e6_0_213_0_27\n",
            "1606b0e6_0_213_0_28\n",
            "1606b0e6_0_213_0_29\n",
            "1606b0e6_0_213_0_30\n",
            "1606b0e6_0_214_2_18\n",
            "1606b0e6_0_215_2_18\n",
            "1606b0e6_0_215_2_19\n",
            "1606b0e6_0_216_2_18\n",
            "1606b0e6_0_216_2_19\n",
            "1606b0e6_0_216_2_20\n",
            "1606b0e6_0_217_0_18\n",
            "1606b0e6_0_218_2_18\n",
            "1606b0e6_0_219_2_18\n",
            "1606b0e6_0_220_1_18\n",
            "1606b0e6_0_221_0_18\n",
            "1606b0e6_0_222_2_18\n",
            "1606b0e6_0_223_0_18\n",
            "1606b0e6_0_224_0_18\n",
            "1606b0e6_0_225_2_18\n",
            "1606b0e6_0_226_2_18\n",
            "1606b0e6_0_227_2_18\n",
            "1606b0e6_0_228_2_18\n",
            "1606b0e6_0_228_2_19\n",
            "1606b0e6_0_229_2_18\n",
            "1606b0e6_0_229_2_19\n",
            "1606b0e6_0_229_2_20\n",
            "1606b0e6_0_229_2_21\n",
            "1606b0e6_0_229_2_22\n",
            "1606b0e6_0_229_2_23\n",
            "1606b0e6_0_230_2_18\n",
            "1606b0e6_0_231_1_18\n",
            "1606b0e6_0_231_1_19\n",
            "1606b0e6_0_231_1_20\n",
            "1606b0e6_0_232_2_18\n",
            "1606b0e6_0_233_2_18\n",
            "1606b0e6_0_234_0_18\n",
            "1606b0e6_0_235_0_18\n",
            "1606b0e6_0_235_0_19\n",
            "1606b0e6_0_235_0_20\n",
            "1606b0e6_0_235_0_21\n",
            "1606b0e6_0_236_2_18\n",
            "1606b0e6_0_237_2_18\n",
            "1606b0e6_0_238_2_18\n",
            "1606b0e6_0_239_2_18\n",
            "1606b0e6_0_240_2_18\n",
            "1606b0e6_0_241_0_18\n",
            "1606b0e6_0_242_2_18\n",
            "1606b0e6_0_242_2_19\n",
            "1606b0e6_0_242_2_20\n",
            "1606b0e6_0_242_2_21\n",
            "1606b0e6_0_242_2_22\n",
            "1606b0e6_0_242_2_23\n",
            "1606b0e6_0_242_2_24\n",
            "1606b0e6_0_242_2_25\n",
            "1606b0e6_0_242_2_26\n",
            "1606b0e6_0_243_1_18\n",
            "1606b0e6_0_244_2_18\n",
            "1606b0e6_0_244_2_19\n",
            "1606b0e6_0_244_2_20\n",
            "1606b0e6_0_244_2_21\n",
            "1606b0e6_0_245_1_18\n",
            "1606b0e6_0_246_0_18\n",
            "1606b0e6_0_246_0_19\n",
            "1606b0e6_0_246_0_20\n",
            "1606b0e6_0_246_0_21\n",
            "1606b0e6_0_246_0_22\n",
            "1606b0e6_0_246_0_23\n",
            "1606b0e6_0_246_0_24\n",
            "1606b0e6_0_246_0_25\n",
            "1606b0e6_0_246_0_26\n",
            "1606b0e6_0_246_0_27\n",
            "1606b0e6_0_246_0_28\n",
            "1606b0e6_0_246_0_29\n",
            "1606b0e6_0_246_0_30\n",
            "1606b0e6_0_247_2_18\n",
            "1606b0e6_0_247_2_19\n",
            "1606b0e6_0_247_2_20\n",
            "1606b0e6_0_247_2_21\n",
            "1606b0e6_0_247_2_22\n",
            "1606b0e6_0_248_0_18\n",
            "1606b0e6_0_249_2_18\n",
            "1606b0e6_0_249_2_19\n",
            "1606b0e6_0_250_2_18\n",
            "1606b0e6_0_251_2_18\n",
            "1606b0e6_0_251_2_19\n",
            "1606b0e6_0_252_0_18\n",
            "1606b0e6_0_253_2_18\n",
            "1606b0e6_0_254_2_18\n",
            "1606b0e6_0_254_2_19\n",
            "1606b0e6_0_255_2_18\n",
            "1606b0e6_0_256_2_18\n",
            "1606b0e6_0_257_2_18\n",
            "1606b0e6_0_258_2_18\n",
            "1606b0e6_0_258_2_19\n",
            "1606b0e6_0_259_2_18\n",
            "1606b0e6_0_260_2_18\n",
            "1606b0e6_0_260_2_19\n",
            "1606b0e6_0_260_2_20\n",
            "1606b0e6_0_260_2_21\n",
            "1606b0e6_0_260_2_22\n",
            "1606b0e6_0_260_2_23\n",
            "1606b0e6_0_260_2_24\n",
            "1606b0e6_0_260_2_25\n",
            "1606b0e6_0_260_2_26\n",
            "1606b0e6_0_260_2_27\n",
            "1606b0e6_0_260_2_28\n",
            "1606b0e6_0_260_2_29\n",
            "1606b0e6_0_260_2_30\n",
            "1606b0e6_0_260_2_31\n",
            "1606b0e6_0_260_2_32\n",
            "1606b0e6_0_261_2_18\n",
            "1606b0e6_0_262_0_18\n",
            "1606b0e6_0_263_2_18\n",
            "1606b0e6_0_264_2_18\n",
            "1606b0e6_0_264_2_19\n",
            "1606b0e6_0_265_2_18\n",
            "1606b0e6_0_265_2_19\n",
            "1606b0e6_0_265_2_20\n",
            "1606b0e6_0_265_2_21\n",
            "1606b0e6_0_265_2_22\n",
            "1606b0e6_0_265_2_23\n",
            "1606b0e6_0_265_2_24\n",
            "1606b0e6_0_265_2_25\n",
            "1606b0e6_0_266_2_18\n",
            "1606b0e6_0_266_2_19\n",
            "1606b0e6_0_266_2_20\n",
            "1606b0e6_0_266_2_21\n",
            "1606b0e6_0_266_2_22\n",
            "1606b0e6_0_266_2_23\n",
            "1606b0e6_0_266_2_24\n",
            "1606b0e6_0_267_2_18\n",
            "1606b0e6_0_267_2_19\n",
            "1606b0e6_0_268_2_18\n",
            "1606b0e6_0_268_2_19\n",
            "1606b0e6_0_268_2_20\n",
            "1606b0e6_0_268_2_21\n",
            "1606b0e6_0_268_2_22\n",
            "1606b0e6_0_268_2_23\n",
            "1606b0e6_0_268_2_24\n",
            "1606b0e6_0_268_2_25\n",
            "1606b0e6_0_268_2_26\n",
            "1606b0e6_0_269_0_18\n",
            "1606b0e6_0_269_0_19\n",
            "1606b0e6_0_269_0_20\n",
            "1606b0e6_0_269_0_21\n",
            "1606b0e6_0_269_0_22\n",
            "1606b0e6_0_269_0_23\n",
            "1606b0e6_0_269_0_24\n",
            "1606b0e6_0_270_2_18\n",
            "1606b0e6_0_270_2_19\n",
            "1606b0e6_0_270_2_20\n",
            "1606b0e6_0_271_2_18\n",
            "1606b0e6_0_271_2_19\n",
            "1606b0e6_0_271_2_20\n",
            "1606b0e6_0_272_2_18\n",
            "1606b0e6_0_273_2_18\n",
            "1606b0e6_0_274_2_18\n",
            "1606b0e6_0_275_2_18\n",
            "1606b0e6_0_276_2_18\n",
            "1606b0e6_0_277_1_18\n",
            "1606b0e6_0_277_1_19\n",
            "1606b0e6_0_277_1_20\n",
            "1606b0e6_0_277_1_21\n",
            "1606b0e6_0_277_1_22\n",
            "1606b0e6_0_277_1_23\n",
            "1606b0e6_0_278_2_18\n",
            "1606b0e6_0_278_2_19\n",
            "1606b0e6_0_278_2_20\n",
            "1606b0e6_0_279_2_18\n",
            "1606b0e6_0_279_2_19\n",
            "1606b0e6_0_280_2_18\n",
            "1606b0e6_0_280_2_19\n",
            "1606b0e6_0_281_2_18\n",
            "1606b0e6_0_281_2_19\n",
            "1606b0e6_0_281_2_20\n",
            "1606b0e6_0_281_2_21\n",
            "1606b0e6_0_281_2_22\n",
            "1606b0e6_0_282_2_18\n",
            "1606b0e6_0_283_2_18\n",
            "1606b0e6_0_284_0_18\n",
            "1606b0e6_0_285_0_18\n",
            "1606b0e6_0_285_0_19\n",
            "1606b0e6_0_286_2_18\n",
            "1606b0e6_0_286_2_19\n",
            "1606b0e6_0_287_2_18\n",
            "1606b0e6_0_288_0_18\n",
            "1606b0e6_0_289_0_18\n",
            "1606b0e6_0_290_0_18\n",
            "1606b0e6_0_291_1_18\n",
            "1606b0e6_0_292_2_18\n",
            "1606b0e6_0_292_2_19\n",
            "1606b0e6_0_293_0_18\n",
            "1606b0e6_0_293_0_19\n",
            "1606b0e6_0_293_0_20\n",
            "1606b0e6_0_294_2_18\n",
            "1606b0e6_0_295_2_18\n",
            "1606b0e6_0_296_2_18\n",
            "1606b0e6_0_297_2_18\n",
            "1606b0e6_0_298_2_18\n",
            "1606b0e6_0_299_2_18\n",
            "1606b0e6_0_300_2_18\n",
            "1606b0e6_0_301_2_18\n",
            "1606b0e6_0_302_2_18\n",
            "1606b0e6_0_303_2_18\n",
            "1606b0e6_0_304_2_18\n",
            "1606b0e6_0_305_2_18\n",
            "1606b0e6_0_305_2_19\n",
            "1606b0e6_0_306_2_18\n",
            "1606b0e6_0_307_0_18\n",
            "1606b0e6_0_308_2_18\n",
            "1606b0e6_0_309_2_18\n",
            "1606b0e6_0_310_1_18\n",
            "1606b0e6_0_311_2_18\n",
            "1606b0e6_0_311_2_19\n",
            "1606b0e6_0_312_2_18\n",
            "1606b0e6_0_312_2_19\n",
            "1606b0e6_0_312_2_20\n",
            "1606b0e6_0_312_2_21\n",
            "1606b0e6_0_313_2_18\n",
            "1606b0e6_0_314_2_18\n",
            "1606b0e6_0_315_1_18\n",
            "1606b0e6_0_316_0_18\n",
            "1606b0e6_0_316_0_19\n",
            "1606b0e6_0_316_0_20\n",
            "1606b0e6_0_317_2_18\n",
            "1606b0e6_0_317_2_19\n",
            "1606b0e6_0_317_2_20\n",
            "1606b0e6_0_318_2_18\n",
            "1606b0e6_0_319_2_18\n",
            "1606b0e6_0_320_2_18\n",
            "1606b0e6_0_321_2_18\n",
            "1606b0e6_0_321_2_19\n",
            "1606b0e6_0_321_2_20\n",
            "1606b0e6_0_321_2_21\n",
            "1606b0e6_0_321_2_22\n",
            "1606b0e6_0_321_2_23\n",
            "1606b0e6_0_322_2_18\n",
            "1606b0e6_0_322_2_19\n",
            "1606b0e6_0_322_2_20\n",
            "1606b0e6_0_323_2_18\n",
            "1606b0e6_0_323_2_19\n",
            "1606b0e6_0_323_2_20\n",
            "1606b0e6_0_324_2_18\n",
            "1606b0e6_0_325_2_18\n",
            "1606b0e6_0_326_0_18\n",
            "1606b0e6_0_327_2_18\n",
            "1606b0e6_0_328_1_18\n",
            "1606b0e6_0_328_1_19\n",
            "1606b0e6_0_328_1_20\n",
            "1606b0e6_0_329_2_18\n",
            "1606b0e6_0_329_2_19\n",
            "1606b0e6_0_330_2_18\n",
            "1606b0e6_0_331_0_18\n",
            "1606b0e6_0_332_2_18\n",
            "1606b0e6_0_333_0_18\n",
            "1606b0e6_0_333_0_19\n",
            "1606b0e6_0_333_0_20\n",
            "1606b0e6_0_334_2_18\n",
            "1606b0e6_0_334_2_19\n",
            "1606b0e6_0_335_2_18\n",
            "1606b0e6_0_336_2_18\n",
            "1606b0e6_0_336_2_19\n",
            "1606b0e6_0_336_2_20\n",
            "1606b0e6_0_336_2_21\n",
            "1606b0e6_0_336_2_22\n",
            "1606b0e6_0_337_2_18\n",
            "1606b0e6_0_337_2_19\n",
            "1606b0e6_0_337_2_20\n",
            "1606b0e6_0_337_2_21\n",
            "1606b0e6_0_337_2_22\n",
            "1606b0e6_0_337_2_23\n",
            "1606b0e6_0_337_2_24\n",
            "1606b0e6_0_338_2_18\n",
            "1606b0e6_0_338_2_19\n",
            "1606b0e6_0_339_0_18\n",
            "1606b0e6_0_340_1_18\n",
            "1606b0e6_0_341_2_18\n",
            "1606b0e6_0_342_2_18\n",
            "1606b0e6_0_343_2_18\n",
            "1606b0e6_0_344_2_18\n",
            "1606b0e6_0_345_2_18\n",
            "1606b0e6_0_345_2_19\n",
            "1606b0e6_0_345_2_20\n",
            "1606b0e6_0_345_2_21\n",
            "1606b0e6_0_345_2_22\n",
            "1606b0e6_0_346_2_18\n",
            "1606b0e6_0_347_2_18\n",
            "1606b0e6_0_348_2_18\n",
            "1606b0e6_0_348_2_19\n",
            "1606b0e6_0_349_2_18\n",
            "1606b0e6_0_350_2_18\n",
            "1606b0e6_0_351_2_18\n",
            "1606b0e6_0_352_2_18\n",
            "1606b0e6_0_353_2_18\n",
            "1606b0e6_0_354_2_18\n",
            "1606b0e6_0_355_2_18\n",
            "1606b0e6_0_356_2_18\n",
            "1606b0e6_0_356_2_19\n",
            "1606b0e6_0_357_2_18\n",
            "1606b0e6_0_357_2_19\n",
            "1606b0e6_0_357_2_20\n",
            "1606b0e6_0_357_2_21\n",
            "1606b0e6_0_357_2_22\n",
            "1606b0e6_0_357_2_23\n",
            "1606b0e6_0_357_2_24\n",
            "1606b0e6_0_357_2_25\n",
            "1606b0e6_0_357_2_26\n",
            "1606b0e6_0_357_2_27\n",
            "1606b0e6_0_357_2_28\n",
            "1606b0e6_0_357_2_29\n",
            "1606b0e6_0_357_2_30\n",
            "1606b0e6_0_357_2_31\n",
            "1606b0e6_0_357_2_32\n",
            "1606b0e6_0_358_2_18\n",
            "1606b0e6_0_358_2_19\n",
            "1606b0e6_0_358_2_20\n",
            "1606b0e6_0_358_2_21\n",
            "1606b0e6_0_359_2_18\n",
            "1606b0e6_0_359_2_19\n",
            "1606b0e6_0_359_2_20\n",
            "1606b0e6_0_359_2_21\n",
            "1606b0e6_0_360_2_18\n",
            "1606b0e6_0_361_2_18\n",
            "1606b0e6_0_362_0_18\n",
            "1606b0e6_0_363_2_18\n",
            "1606b0e6_0_364_2_18\n",
            "1606b0e6_0_364_2_19\n",
            "1606b0e6_0_365_2_18\n",
            "1606b0e6_0_366_2_18\n",
            "1606b0e6_0_367_2_18\n",
            "1606b0e6_0_367_2_19\n",
            "1606b0e6_0_368_2_18\n",
            "1606b0e6_0_368_2_19\n",
            "1606b0e6_0_369_2_18\n",
            "1606b0e6_0_369_2_19\n",
            "1606b0e6_0_370_2_18\n",
            "1606b0e6_0_370_2_19\n",
            "1606b0e6_0_371_0_18\n",
            "1606b0e6_0_372_2_18\n",
            "1606b0e6_0_373_2_18\n",
            "1606b0e6_0_373_2_19\n",
            "1606b0e6_0_373_2_20\n",
            "1606b0e6_0_374_1_18\n",
            "1606b0e6_0_375_2_18\n",
            "1606b0e6_0_376_2_18\n",
            "1606b0e6_0_377_2_18\n",
            "1606b0e6_0_377_2_19\n",
            "1606b0e6_0_378_2_18\n",
            "1606b0e6_0_378_2_19\n",
            "1606b0e6_0_379_2_18\n",
            "1606b0e6_0_379_2_19\n",
            "1606b0e6_0_380_2_18\n",
            "1606b0e6_0_380_2_19\n",
            "1606b0e6_0_380_2_20\n",
            "1606b0e6_0_380_2_21\n",
            "1606b0e6_0_380_2_22\n",
            "1606b0e6_0_381_2_18\n",
            "1606b0e6_0_382_2_18\n",
            "1606b0e6_0_383_2_18\n",
            "1606b0e6_0_384_2_18\n",
            "1606b0e6_0_384_2_19\n",
            "1606b0e6_0_384_2_20\n",
            "1606b0e6_0_385_2_18\n",
            "1606b0e6_0_385_2_19\n",
            "1606b0e6_0_385_2_20\n",
            "1606b0e6_0_385_2_21\n",
            "1606b0e6_0_385_2_22\n",
            "1606b0e6_0_385_2_23\n",
            "1606b0e6_0_386_2_18\n",
            "1606b0e6_0_386_2_19\n",
            "1606b0e6_0_386_2_20\n",
            "1606b0e6_0_387_2_18\n",
            "1606b0e6_0_388_2_18\n",
            "1606b0e6_0_389_2_18\n",
            "1606b0e6_0_389_2_19\n",
            "1606b0e6_0_390_2_18\n",
            "1606b0e6_0_391_2_18\n",
            "1606b0e6_0_392_0_18\n",
            "1606b0e6_0_392_0_19\n",
            "1606b0e6_0_392_0_20\n",
            "1606b0e6_0_393_0_18\n",
            "1606b0e6_0_394_2_18\n",
            "1606b0e6_0_394_2_19\n",
            "1606b0e6_0_395_2_18\n",
            "1606b0e6_0_395_2_19\n",
            "1606b0e6_0_395_2_20\n",
            "1606b0e6_0_395_2_21\n"
          ]
        }
      ]
    },
    {
      "cell_type": "code",
      "source": [
        "POSITIVES_FOLDER = '/content/drive/MyDrive/Bundesliga/PositiveFrames/'\n",
        "os.chdir(POSITIVES_FOLDER)"
      ],
      "metadata": {
        "id": "K5_2jQFo1hyU"
      },
      "execution_count": null,
      "outputs": []
    },
    {
      "cell_type": "code",
      "source": [
        "os.chdir('/content/drive/MyDrive/Bundesliga/')"
      ],
      "metadata": {
        "id": "HRmvoRkH1jtB"
      },
      "execution_count": 63,
      "outputs": []
    },
    {
      "cell_type": "code",
      "source": [
        "! ls crops"
      ],
      "metadata": {
        "colab": {
          "base_uri": "https://localhost:8080/"
        },
        "id": "ynyWZMI82Uhc",
        "outputId": "4fc8854b-4f0c-4520-9342-b74a6c0ac202"
      },
      "execution_count": 102,
      "outputs": [
        {
          "output_type": "stream",
          "name": "stdout",
          "text": [
            "1606b0e6_0\n"
          ]
        }
      ]
    },
    {
      "cell_type": "code",
      "source": [
        "! ls crops/'1606b0e6_0'  | wc -l"
      ],
      "metadata": {
        "colab": {
          "base_uri": "https://localhost:8080/"
        },
        "id": "tKv7HVtL1EjI",
        "outputId": "fabc687e-4971-4d3a-b3d6-e1c7a8b64392"
      },
      "execution_count": 103,
      "outputs": [
        {
          "output_type": "stream",
          "name": "stdout",
          "text": [
            "1188\n"
          ]
        }
      ]
    },
    {
      "cell_type": "code",
      "source": [
        "video_ids = ['1606b0e6_0', '1606b0e6_1',\n",
        "             'cfbe2e94_0', 'cfbe2e94_0',\n",
        "             'ecf251d4_0',\n",
        "             '3c993bd2_0', '3c993bd2_1',\n",
        "             '4ffd5986_0', \n",
        "             '9a97dae4_1', \n",
        "             '35bd9041_0', '35bd9041_1',\n",
        "             '407c5a9e_1']"
      ],
      "metadata": {
        "id": "X8Zc4xNfqdAt"
      },
      "execution_count": 46,
      "outputs": []
    },
    {
      "cell_type": "code",
      "source": [
        "! pwd"
      ],
      "metadata": {
        "colab": {
          "base_uri": "https://localhost:8080/"
        },
        "id": "3--N7wtlrz7C",
        "outputId": "0b65291c-4fb3-4155-f221-ca7622117729"
      },
      "execution_count": 47,
      "outputs": [
        {
          "output_type": "stream",
          "name": "stdout",
          "text": [
            "/content/drive/MyDrive/Bundesliga/PositiveFrames\n"
          ]
        }
      ]
    },
    {
      "cell_type": "markdown",
      "source": [
        "First time checked:"
      ],
      "metadata": {
        "id": "zc4OTg8PG7M3"
      }
    },
    {
      "cell_type": "code",
      "source": [
        "for video_id in video_ids:\n",
        "  print(video_id)\n",
        "  ! ls frames_ms2/$video_id | wc -l"
      ],
      "metadata": {
        "colab": {
          "base_uri": "https://localhost:8080/"
        },
        "id": "-Ob3YTvkrfLD",
        "outputId": "072a8021-9234-4e49-b37c-96b9d0ba565f"
      },
      "execution_count": 48,
      "outputs": [
        {
          "output_type": "stream",
          "name": "stdout",
          "text": [
            "1606b0e6_0\n",
            "13860\n",
            "1606b0e6_1\n",
            "2426\n",
            "cfbe2e94_0\n",
            "3040\n",
            "cfbe2e94_0\n",
            "3040\n",
            "ecf251d4_0\n",
            "648\n",
            "3c993bd2_0\n",
            "659\n",
            "3c993bd2_1\n",
            "16036\n",
            "4ffd5986_0\n",
            "3050\n",
            "9a97dae4_1\n",
            "3091\n",
            "35bd9041_0\n",
            "636\n",
            "35bd9041_1\n",
            "587\n",
            "407c5a9e_1\n",
            "670\n"
          ]
        }
      ]
    },
    {
      "cell_type": "markdown",
      "source": [
        "Second time checked:"
      ],
      "metadata": {
        "id": "6CT-6kktG-39"
      }
    },
    {
      "cell_type": "code",
      "source": [
        "# for video_id in video_ids:\n",
        "#   print(video_id)\n",
        "#   ! ls frames_ms2/$video_id | wc -l"
      ],
      "metadata": {
        "id": "Wp_Zgw09G6CU"
      },
      "execution_count": 105,
      "outputs": []
    },
    {
      "cell_type": "code",
      "source": [
        "def get_positive_intervals(TABULAR_FILENAME):\n",
        "    \"\"\" get intervals for events from tabular data (train.csv file) \"\"\"\n",
        "    \n",
        "    df = pd.read_csv(TABULAR_FILENAME)\n",
        "    df['time_ms'] = round(df['time'] * 1000, 0).astype(int)\n",
        "    # get positive intervals\n",
        "    df_starts = df[df['event']=='start'].copy()\n",
        "    df_ends = df[df['event']=='end'].copy()\n",
        "\n",
        "    df_positive_intervals = pd.DataFrame({'video_id': df_starts['video_id'].values,\n",
        "                                        'start_time_ms': df_starts['time_ms'].values,\n",
        "                                        'end_time_ms': df_ends['time_ms'].values})\n",
        "    return df_positive_intervals\n",
        "    \n",
        "\n",
        "def get_frames_events(video_id, tabular_filename, videos_path, output_path, \n",
        "                      negatives=False, neg_size=None, npz=True, jpg=False, dim=None):\n",
        "    \"\"\"get frames of events for a given video (positive or negative classes),\n",
        "       save npz and/or jpg files\n",
        "       resize (optional)\n",
        "       function takes:\n",
        "            video_id\n",
        "            tabular_filename: filename for tabular data\n",
        "            videos_path: path to folder where the relevant video is located\n",
        "            output_path: path to folder where npz and/or jpg files will be saved\n",
        "            negatives: whether we are taking samples of negative class. \n",
        "                If True, we take only negatives, not positives. If False, we take only positives, not negatives.\n",
        "            neg_size: size of sample of negatives\n",
        "            npz: whether to save an npz file with results\n",
        "            jpg: whether to save jpg files\n",
        "            dim: dimensions of resized images (optional)\n",
        "    \"\"\"\n",
        "\n",
        "    os.chdir(ROOT)\n",
        "    # get times from tabular data\n",
        "    if negatives:\n",
        "        df_positive_intervals = get_positive_intervals(tabular_filename)\n",
        "        times = get_neg_times(df_positive_intervals, video_id, neg_size)\n",
        "    else:\n",
        "        times = get_event_times(tabular_filename)\n",
        "    n_frames = len(times)\n",
        "\n",
        "    # capture video\n",
        "    videoname = ''.join([video_id, '.mp4'])\n",
        "    cap = cv2.VideoCapture(os.path.join(videos_path, videoname))\n",
        "\n",
        "    # initialize result list\n",
        "    res = []\n",
        "\n",
        "    for i, time in enumerate(tqdm(times)):\n",
        "        cap.set(cv2.CAP_PROP_POS_MSEC, time)  # move the time\n",
        "        success, image = cap.read()\n",
        "        if not success:\n",
        "            print(f'{i+1} of {n_frames}, video_id: {video_id}, time: {time}, failed to read.')\n",
        "        # resize\n",
        "        if dim:\n",
        "            image = cv2.resize(image, dim, interpolation = cv2.INTER_AREA)\n",
        "        if npz:\n",
        "            res.append(image)\n",
        "        if jpg:\n",
        "            cv2.imwrite(os.path.join(output_path, f'{video_id}_{time}.jpg'), image)\n",
        "        del image\n",
        "    cap.release()\n",
        "    if npz:\n",
        "        np.savez_compressed(os.path.join(output_path, ''.join([video_id, '.npz'])), np.array(res))\n",
        "\n",
        "    if negatives:\n",
        "        return times"
      ],
      "metadata": {
        "id": "SrmvZkjhxDSZ"
      },
      "execution_count": null,
      "outputs": []
    },
    {
      "cell_type": "markdown",
      "source": [
        "We use persons:"
      ],
      "metadata": {
        "id": "1oqo6VgnKHkr"
      }
    },
    {
      "cell_type": "code",
      "source": [
        "# # We iterate over every event, from 0 to 395\n",
        "# for event in range(EVENTS_PER_VIDEO[video]):\n",
        "#   # We establish ball = False (in this event, ball wasn't yet recognized)\n",
        "#   ball = False\n",
        "#   # We should find for example f'1606b0e6_0_{frame}_' and establish y = what's following that \n",
        "#   substring = f'{FOLDER_LABELS}/{video}/labels/{video}_{event}_'\n",
        "#   file = glob.glob(f'{substring}*.txt')[ANY_INDEX]\n",
        "#   len_subs = len(substring)\n",
        "#   y = int(file[len_subs])\n",
        "#   # We create a condition based on the class on how to iterate for the frames.\n",
        "#   # Challenges' frame between tolerances are respectively: 17 yes, 1 yes, 17 yes.\n",
        "#   # For play and throw-in are respectively: 9 no, 8 yes, 1 yes, 8 yes, 9 no.\n",
        "#   if y == 0: # if it's a challenge\n",
        "\n",
        "#   # We iterate over every frame, from 0 to 34\n",
        "#   for frame in range(FRAMES_PER_EVENT):\n",
        "#     identifier = f'{video}_{event}_{y}_{frame}' # e.g. '1606b0e6_0_0_0_0'\n",
        "#     label_txt = f'{identifier}.txt'\n",
        "#     with open(f'{FOLDER_LABELS}{video}/labels/{label_txt}') as f:\n",
        "#       reader = f.read()\n",
        "#     objects = [i.split(' ') for i in reader.split('\\n')]\n",
        "#     print(identifier)\n",
        "#     counter = 0\n",
        "\n",
        "#     for object_ in objects:\n",
        "#       # confidences = list() # WE ARE NOT IMPLEMENTING CONFIDENCES FOR NOW AS IT MAY NOT BE RELEVANT\n",
        "#       if object_[CLASS_INDEX] == BALL_CLASS:\n",
        "#         # Ball is True for this event, it was detected in at least one of the frames.\n",
        "#         ball = True\n",
        "#         # confidence = float(object_[CONFIDENCE_INDEX])\n",
        "#         x = int(float(object_[X_INDEX]) * X_SIZE)\n",
        "#         y = int(float(object_[Y_INDEX]) * Y_SIZE)\n",
        "#         ymin = max(y - radius, 0)\n",
        "#         ymax = min(y + radius, Y_SIZE)\n",
        "#         xmin = max(x - radius, 0)\n",
        "#         xmax = min(x + radius, X_SIZE)\n",
        "\n",
        "#         # TO AVOID FPs: we throw away detections that make the crop next to a limit of the frame\n",
        "#         if ymin == 0 or ymax == Y_SIZE or xmin == 0 or xmax = X_SIZE:\n",
        "#           ball = False\n",
        "\n",
        "#         # We make sure all crops are 224x224 (this won't apply if code above is implemented)\n",
        "#         # if ymin == 0:\n",
        "#         #   ymax = CROP_SIZE # = 224\n",
        "#         # elif ymax == Y_SIZE:\n",
        "#         #   ymin = Y_SIZE - CROP_SIZE # = 1024 - 224\n",
        "#         # if xmin == 0:\n",
        "#         #   xmax = CROP_SIZE # == 224 \n",
        "#         # elif xmax == X_SIZE:\n",
        "#         #   xmin = X_SIZE - CROP_SIZE # = 1928 - 224\n",
        "\n",
        "#         if ball:\n",
        "#           img = cv2.imread(frame + '.jpg')\n",
        "#           cropped_image = img[ymin:ymax, xmin:xmax] # We change from (x, y) to (y, x) to work with cv2_imshow\n",
        "#           cv2.imwrite(f'{FOLDER_FRAMES}{frame}_cropped.jpg', cropped_image)\n",
        "      \n",
        "#     if not ball and USE_PERSONS:\n",
        "#       counter += 1\n",
        "#     if counter == USE_PERSONS_THRESH: \n",
        "#       # Maybe create a counter += 1, and when the ball is not detected in 15? consecutive frames, generate the location like this:\n",
        "#       FIRST_FILENAME_INDEX = 1\n",
        "#       label_txt = f'{video}_{FIRST_FILENAME_INDEX}.txt'\n",
        "#       with open(f'{FOLDER_LABELS}{label_txt}') as f: # Actually the reading should have happened before, so I may have to check this.\n",
        "#         reader = f.read()\n",
        "#       objects = [i.split(' ') for i in reader.split('\\n')][:-1]\n",
        "#       arr = np.array(objects)\n",
        "#       persons = arr[arr[:, 0] == '0']\n",
        "#       xy_persons = persons[:, X_INDEX:Y_INDEX + 1].astype(float)\n",
        "#       dists = cdist(xy_persons, xy_persons)\n",
        "#       dists[dists == 0] = dists.max()\n",
        "#       arg1, arg2 = np.unravel_index(dists.argmin(), dists.shape)\n",
        "#       two_people = xy_persons[[arg1, arg2]]\n",
        "#       frame_center = np.mean(two_people, axis=0)"
      ],
      "metadata": {
        "colab": {
          "base_uri": "https://localhost:8080/",
          "height": 276
        },
        "id": "H-PcfnszK4Xy",
        "outputId": "d86e0b49-3df5-4dc3-ca1f-44c4c399e990"
      },
      "execution_count": 184,
      "outputs": [
        {
          "output_type": "stream",
          "name": "stdout",
          "text": [
            "1606b0e6_0_0_0_0\n",
            "1606b0e6_0_0_0_1\n"
          ]
        },
        {
          "output_type": "error",
          "ename": "TypeError",
          "evalue": "ignored",
          "traceback": [
            "\u001b[0;31m---------------------------------------------------------------------------\u001b[0m",
            "\u001b[0;31mTypeError\u001b[0m                                 Traceback (most recent call last)",
            "\u001b[0;32m<ipython-input-184-b1bb1f48e59e>\u001b[0m in \u001b[0;36m<module>\u001b[0;34m\u001b[0m\n\u001b[1;32m     31\u001b[0m         \u001b[0mxmax\u001b[0m \u001b[0;34m=\u001b[0m \u001b[0mmin\u001b[0m\u001b[0;34m(\u001b[0m\u001b[0mx\u001b[0m \u001b[0;34m+\u001b[0m \u001b[0mradius\u001b[0m\u001b[0;34m,\u001b[0m \u001b[0mX_SIZE\u001b[0m\u001b[0;34m)\u001b[0m\u001b[0;34m\u001b[0m\u001b[0;34m\u001b[0m\u001b[0m\n\u001b[1;32m     32\u001b[0m \u001b[0;34m\u001b[0m\u001b[0m\n\u001b[0;32m---> 33\u001b[0;31m         \u001b[0mimg\u001b[0m \u001b[0;34m=\u001b[0m \u001b[0mcv2\u001b[0m\u001b[0;34m.\u001b[0m\u001b[0mimread\u001b[0m\u001b[0;34m(\u001b[0m\u001b[0mframe\u001b[0m \u001b[0;34m+\u001b[0m \u001b[0;34m'.jpg'\u001b[0m\u001b[0;34m)\u001b[0m\u001b[0;34m\u001b[0m\u001b[0;34m\u001b[0m\u001b[0m\n\u001b[0m\u001b[1;32m     34\u001b[0m         \u001b[0mcropped_image\u001b[0m \u001b[0;34m=\u001b[0m \u001b[0mimg\u001b[0m\u001b[0;34m[\u001b[0m\u001b[0mymin\u001b[0m\u001b[0;34m:\u001b[0m\u001b[0mymax\u001b[0m\u001b[0;34m,\u001b[0m \u001b[0mxmin\u001b[0m\u001b[0;34m:\u001b[0m\u001b[0mxmax\u001b[0m\u001b[0;34m]\u001b[0m \u001b[0;31m# We change from (x, y) to (y, x) to work with cv2_imshow\u001b[0m\u001b[0;34m\u001b[0m\u001b[0;34m\u001b[0m\u001b[0m\n\u001b[1;32m     35\u001b[0m         \u001b[0mcv2\u001b[0m\u001b[0;34m.\u001b[0m\u001b[0mimwrite\u001b[0m\u001b[0;34m(\u001b[0m\u001b[0;34mf'{FOLDER_FRAMES}{frame}_cropped.jpg'\u001b[0m\u001b[0;34m,\u001b[0m \u001b[0mcropped_image\u001b[0m\u001b[0;34m)\u001b[0m\u001b[0;34m\u001b[0m\u001b[0;34m\u001b[0m\u001b[0m\n",
            "\u001b[0;31mTypeError\u001b[0m: unsupported operand type(s) for +: 'int' and 'str'"
          ]
        }
      ]
    },
    {
      "cell_type": "code",
      "source": [
        "# for i, frame in enumerate(filenames, 1): # frame of video (filenames contains frames of a single video)\n",
        "#   label_txt = f'{video}_{i}.txt'\n",
        "#   with open(f'{FOLDER_LABELS}{label_txt}') as f:\n",
        "#     reader = f.read()\n",
        "#   objects = [i.split(' ') for i in reader.split('\\n')]\n",
        "#   ball = False\n",
        "#   counter = 0\n",
        "\n",
        "#   for object_ in objects:\n",
        "#     if object_[CLASS_INDEX] == BALL_CLASS:\n",
        "#       ball = True\n",
        "#       x = int(float(object_[X_INDEX]) * X_SIZE)\n",
        "#       y = int(float(object_[Y_INDEX]) * Y_SIZE)\n",
        "#       ymin = max(y - radius, 0)\n",
        "#       ymax = min(y + radius, Y_SIZE)\n",
        "#       xmin = max(x - radius, 0)\n",
        "#       xmax = min(x + radius, X_SIZE)\n",
        "\n",
        "#       img = cv2.imread(frame + '.jpg') # IT CROPS MORE THAN 1 WHEN 2 OR MORE BALLS ARE IN A FRAME, BUT IT OVERWRITES IT\n",
        "#       cropped_image = img[ymin:ymax, xmin:xmax] # We change from (x, y) to (y, x) to work with cv2_imshow\n",
        "#       cv2.imwrite(f'{FOLDER_FRAMES}{frame}_cropped.jpg', cropped_image)\n",
        "    \n",
        "#   if not ball and USE_PERSONS:\n",
        "#     counter += 1\n",
        "#   if counter == USE_PERSONS_THRESH: \n",
        "#     # Maybe create a counter += 1, and when the ball is not detected in 15? consecutive frames, generate the location like this:\n",
        "#     FIRST_FILENAME_INDEX = 1\n",
        "#     label_txt = f'{video}_{FIRST_FILENAME_INDEX}.txt'\n",
        "#     with open(f'{FOLDER_LABELS}{label_txt}') as f: # Actually the reading should have happened before, so I may have to check this.\n",
        "#       reader = f.read()\n",
        "#     objects = [i.split(' ') for i in reader.split('\\n')][:-1]\n",
        "#     arr = np.array(objects)\n",
        "#     persons = arr[arr[:, 0] == '0']\n",
        "#     xy_persons = persons[:, X_INDEX:Y_INDEX + 1].astype(float)\n",
        "#     dists = cdist(xy_persons, xy_persons)\n",
        "#     dists[dists == 0] = dists.max()\n",
        "#     arg1, arg2 = np.unravel_index(dists.argmin(), dists.shape)\n",
        "#     two_people = xy_persons[[arg1, arg2]]\n",
        "#     frame_center = np.mean(two_people, axis=0)"
      ],
      "metadata": {
        "colab": {
          "base_uri": "https://localhost:8080/",
          "height": 240
        },
        "id": "mwEvYAVuXiyv",
        "outputId": "4b546fba-2c0d-4b10-8f83-1f2fac233f80"
      },
      "execution_count": 21,
      "outputs": [
        {
          "output_type": "error",
          "ename": "NameError",
          "evalue": "ignored",
          "traceback": [
            "\u001b[0;31m---------------------------------------------------------------------------\u001b[0m",
            "\u001b[0;31mNameError\u001b[0m                                 Traceback (most recent call last)",
            "\u001b[0;32m<ipython-input-21-764482820e0e>\u001b[0m in \u001b[0;36m<module>\u001b[0;34m\u001b[0m\n\u001b[1;32m      1\u001b[0m \u001b[0;32mfor\u001b[0m \u001b[0mi\u001b[0m\u001b[0;34m,\u001b[0m \u001b[0mframe\u001b[0m \u001b[0;32min\u001b[0m \u001b[0menumerate\u001b[0m\u001b[0;34m(\u001b[0m\u001b[0mfilenames\u001b[0m\u001b[0;34m,\u001b[0m \u001b[0;36m1\u001b[0m\u001b[0;34m)\u001b[0m\u001b[0;34m:\u001b[0m \u001b[0;31m# frame of video (filenames contains frames of a single video)\u001b[0m\u001b[0;34m\u001b[0m\u001b[0;34m\u001b[0m\u001b[0m\n\u001b[0;32m----> 2\u001b[0;31m   \u001b[0mlabel_txt\u001b[0m \u001b[0;34m=\u001b[0m \u001b[0;34mf'{video}_{i}.txt'\u001b[0m\u001b[0;34m\u001b[0m\u001b[0;34m\u001b[0m\u001b[0m\n\u001b[0m\u001b[1;32m      3\u001b[0m   \u001b[0;32mwith\u001b[0m \u001b[0mopen\u001b[0m\u001b[0;34m(\u001b[0m\u001b[0;34mf'{FOLDER_LABELS}{label_txt}'\u001b[0m\u001b[0;34m)\u001b[0m \u001b[0;32mas\u001b[0m \u001b[0mf\u001b[0m\u001b[0;34m:\u001b[0m\u001b[0;34m\u001b[0m\u001b[0;34m\u001b[0m\u001b[0m\n\u001b[1;32m      4\u001b[0m     \u001b[0mreader\u001b[0m \u001b[0;34m=\u001b[0m \u001b[0mf\u001b[0m\u001b[0;34m.\u001b[0m\u001b[0mread\u001b[0m\u001b[0;34m(\u001b[0m\u001b[0;34m)\u001b[0m\u001b[0;34m\u001b[0m\u001b[0;34m\u001b[0m\u001b[0m\n\u001b[1;32m      5\u001b[0m   \u001b[0midentified_objects\u001b[0m \u001b[0;34m=\u001b[0m \u001b[0;34m[\u001b[0m\u001b[0mi\u001b[0m\u001b[0;34m.\u001b[0m\u001b[0msplit\u001b[0m\u001b[0;34m(\u001b[0m\u001b[0;34m' '\u001b[0m\u001b[0;34m)\u001b[0m \u001b[0;32mfor\u001b[0m \u001b[0mi\u001b[0m \u001b[0;32min\u001b[0m \u001b[0mreader\u001b[0m\u001b[0;34m.\u001b[0m\u001b[0msplit\u001b[0m\u001b[0;34m(\u001b[0m\u001b[0;34m'\\n'\u001b[0m\u001b[0;34m)\u001b[0m\u001b[0;34m]\u001b[0m\u001b[0;34m\u001b[0m\u001b[0;34m\u001b[0m\u001b[0m\n",
            "\u001b[0;31mNameError\u001b[0m: name 'video' is not defined"
          ]
        }
      ]
    },
    {
      "cell_type": "code",
      "source": [],
      "metadata": {
        "id": "t-mohjVKX1Wi"
      },
      "execution_count": null,
      "outputs": []
    },
    {
      "cell_type": "code",
      "source": [],
      "metadata": {
        "id": "XRNqhoTlX1db"
      },
      "execution_count": null,
      "outputs": []
    },
    {
      "cell_type": "code",
      "source": [],
      "metadata": {
        "id": "Dv6louggX1f9"
      },
      "execution_count": null,
      "outputs": []
    },
    {
      "cell_type": "code",
      "source": [],
      "metadata": {
        "id": "aZ0zUPm8X1iR"
      },
      "execution_count": null,
      "outputs": []
    },
    {
      "cell_type": "code",
      "source": [],
      "metadata": {
        "id": "OudN76PKX1kz"
      },
      "execution_count": null,
      "outputs": []
    },
    {
      "cell_type": "code",
      "source": [],
      "metadata": {
        "id": "riEVe21DX1nH"
      },
      "execution_count": null,
      "outputs": []
    }
  ]
}