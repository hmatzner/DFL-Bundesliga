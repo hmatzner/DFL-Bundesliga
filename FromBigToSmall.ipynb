{
  "nbformat": 4,
  "nbformat_minor": 0,
  "metadata": {
    "colab": {
      "provenance": [],
      "collapsed_sections": []
    },
    "kernelspec": {
      "name": "python3",
      "display_name": "Python 3"
    },
    "language_info": {
      "name": "python"
    }
  },
  "cells": [
    {
      "cell_type": "markdown",
      "source": [
        "# From whole video to multiple pictures all from positive classes."
      ],
      "metadata": {
        "id": "Kd83QmtAoyYB"
      }
    },
    {
      "cell_type": "code",
      "execution_count": 2,
      "metadata": {
        "id": "qrNa6htxf3rn"
      },
      "outputs": [],
      "source": [
        "import sys\n",
        "import os\n",
        "import cv2\n",
        "import numpy as np\n",
        "import matplotlib.pyplot as plt"
      ]
    },
    {
      "cell_type": "code",
      "source": [
        "# Load the Drive helper and mount\n",
        "from google.colab import drive\n",
        "\n",
        "# This will prompt for authorization.\n",
        "drive.mount('/content/drive')"
      ],
      "metadata": {
        "colab": {
          "base_uri": "https://localhost:8080/"
        },
        "id": "vCe51HnIhCts",
        "outputId": "b80ecae5-2a42-400c-965f-77d516aa60f1"
      },
      "execution_count": 3,
      "outputs": [
        {
          "output_type": "stream",
          "name": "stdout",
          "text": [
            "Mounted at /content/drive\n"
          ]
        }
      ]
    },
    {
      "cell_type": "code",
      "source": [
        "YOLOV7_FOLDER = '/content/drive/My Drive/Bundesliga/YOLO7'\n",
        "VIDEOS_FOLDER = '/yolov7/runs/detect'\n",
        "CLIPS_FOLDER = YOLOV7_FOLDER + VIDEOS_FOLDER\n",
        "os.chdir(CLIPS_FOLDER)\n",
        "! pwd"
      ],
      "metadata": {
        "colab": {
          "base_uri": "https://localhost:8080/"
        },
        "id": "vf3afRm3he0s",
        "outputId": "985891c0-6452-44ff-eb64-380d41baa85f"
      },
      "execution_count": 4,
      "outputs": [
        {
          "output_type": "stream",
          "name": "stdout",
          "text": [
            "/content/drive/My Drive/Bundesliga/YOLO7/yolov7/runs/detect\n"
          ]
        }
      ]
    },
    {
      "cell_type": "markdown",
      "source": [
        "### Working with only the first video for the moment"
      ],
      "metadata": {
        "id": "13EQEljTk9mf"
      }
    },
    {
      "cell_type": "code",
      "source": [
        "os.chdir(CLIPS_FOLDER + '/clips')\n",
        "! pwd"
      ],
      "metadata": {
        "colab": {
          "base_uri": "https://localhost:8080/"
        },
        "id": "yxYKrFcZlBq4",
        "outputId": "0b26c562-26a0-43ad-f449-8f3654ecbe75"
      },
      "execution_count": 5,
      "outputs": [
        {
          "output_type": "stream",
          "name": "stdout",
          "text": [
            "/content/drive/My Drive/Bundesliga/YOLO7/yolov7/runs/detect/clips\n"
          ]
        }
      ]
    },
    {
      "cell_type": "code",
      "source": [
        "vidcap = cv2.VideoCapture('08fd33_0.mp4')\n",
        "success, image = vidcap.read()\n",
        "count = 0\n",
        "while success:\n",
        "  cv2.imwrite(\"frame%d.jpg\" % count, image) # save frame as jpg file      \n",
        "  success,image = vidcap.read()\n",
        "  # print('Read a new frame: ', success)\n",
        "  count += 1"
      ],
      "metadata": {
        "id": "DkKwRshLkfWY"
      },
      "execution_count": 65,
      "outputs": []
    },
    {
      "cell_type": "code",
      "source": [
        "from google.colab.patches import cv2_imshow"
      ],
      "metadata": {
        "id": "Z58Oj3XynjxG"
      },
      "execution_count": 6,
      "outputs": []
    },
    {
      "cell_type": "markdown",
      "source": [
        "### Working with high resolution images for YOLO"
      ],
      "metadata": {
        "id": "WOCKXIgL_Dxf"
      }
    },
    {
      "cell_type": "code",
      "source": [
        "EXP_FOLDER = '/exp9'\n",
        "# EXP_FOLDER = '/exp10'"
      ],
      "metadata": {
        "id": "GCLjvujkksMa"
      },
      "execution_count": 6,
      "outputs": []
    },
    {
      "cell_type": "code",
      "source": [
        "os.chdir(CLIPS_FOLDER + EXP_FOLDER) # changing this all the time: /exp9 for 08fd33_0.mp4, exp10 for 0a2d9b_0.mp4\n",
        "! pwd"
      ],
      "metadata": {
        "colab": {
          "base_uri": "https://localhost:8080/"
        },
        "id": "GBUQIzJ9_MuB",
        "outputId": "758be82a-be3b-403f-bf4b-4705b15804e1"
      },
      "execution_count": 7,
      "outputs": [
        {
          "output_type": "stream",
          "name": "stdout",
          "text": [
            "/content/drive/My Drive/Bundesliga/YOLO7/yolov7/runs/detect/exp9\n"
          ]
        }
      ]
    },
    {
      "cell_type": "code",
      "source": [
        "# ! mkdir OriginalFrames"
      ],
      "metadata": {
        "id": "t7G2BHivjvOl"
      },
      "execution_count": 8,
      "outputs": []
    },
    {
      "cell_type": "code",
      "source": [
        "video = '08fd33_0'\n",
        "video_original = f'{video}_original'\n",
        "FOLDER_ORIGINAL = 'OriginalFrames/'\n",
        "FOLDER_LABELS = 'labels/'"
      ],
      "metadata": {
        "id": "a95Cv3ONcMuE"
      },
      "execution_count": 9,
      "outputs": []
    },
    {
      "cell_type": "markdown",
      "source": [
        "Creating frames - not original ones (with YOLO detections):"
      ],
      "metadata": {
        "id": "QRk48SHYaSDR"
      }
    },
    {
      "cell_type": "code",
      "source": [
        "vidcap = cv2.VideoCapture(f'{video}.mp4')\n",
        "success, image = vidcap.read()\n",
        "count = 0\n",
        "while success:\n",
        "  cv2.imwrite(f'frame{count}.jpg', image) # save frame as JPEG file      \n",
        "  success, image = vidcap.read()\n",
        "  count += 1"
      ],
      "metadata": {
        "id": "k4Mx3g2x-Zqg"
      },
      "execution_count": 22,
      "outputs": []
    },
    {
      "cell_type": "markdown",
      "source": [
        "Creating frames - original ones (without YOLO detections) to crop:"
      ],
      "metadata": {
        "id": "QhTAv9f5ZL8K"
      }
    },
    {
      "cell_type": "code",
      "source": [
        "vidcap = cv2.VideoCapture(f'{video_original}.mp4')\n",
        "success, image = vidcap.read()\n",
        "count = 0\n",
        "while success:\n",
        "  cv2.imwrite(f'{FOLDER_ORIGINAL}frame{count}_original.jpg', image) # save frame as JPEG file      \n",
        "  success, image = vidcap.read()\n",
        "  count += 1"
      ],
      "metadata": {
        "id": "DFiTcd2GZKwe"
      },
      "execution_count": 29,
      "outputs": []
    },
    {
      "cell_type": "markdown",
      "source": [
        "Cropping original frames (without YOLO detections):"
      ],
      "metadata": {
        "id": "ZziEDcl9cfBv"
      }
    },
    {
      "cell_type": "code",
      "source": [
        "CLASS_INDEX = 0\n",
        "X_INDEX = 1\n",
        "Y_INDEX = 2\n",
        "PERSON_CLASS = '0'\n",
        "BALL_CLASS = '32'\n",
        "X_SIZE = 1928\n",
        "Y_SIZE = 1024\n",
        "CROP_SIZE = 224 # pixels, size of crop = (CROP_SIZExCROP_SIZE)\n",
        "radius = int(CROP_SIZE / 2)"
      ],
      "metadata": {
        "id": "Yc2d_p7PA_1e"
      },
      "execution_count": 10,
      "outputs": []
    },
    {
      "cell_type": "code",
      "source": [
        "from os import listdir\n",
        "from os.path import isfile, join\n",
        "files = [file for file in listdir(FOLDER_ORIGINAL) if isfile(join(FOLDER_ORIGINAL, file))] # get a list of files in the directory"
      ],
      "metadata": {
        "id": "8WgrBW8QjZfL"
      },
      "execution_count": 11,
      "outputs": []
    },
    {
      "cell_type": "code",
      "source": [
        "filenames = [os.path.splitext(filename)[0] for filename in files] # separate filenames from their extension .jpg"
      ],
      "metadata": {
        "id": "-MitrrqwQ1Id"
      },
      "execution_count": 12,
      "outputs": []
    },
    {
      "cell_type": "code",
      "source": [
        "! pwd"
      ],
      "metadata": {
        "colab": {
          "base_uri": "https://localhost:8080/"
        },
        "id": "WGZbmAWFfDFV",
        "outputId": "ca2a7c4d-fdfe-4420-c643-87d90aaa9e0b"
      },
      "execution_count": 13,
      "outputs": [
        {
          "output_type": "stream",
          "name": "stdout",
          "text": [
            "/content/drive/MyDrive/Bundesliga/YOLO7/yolov7/runs/detect/exp9\n"
          ]
        }
      ]
    },
    {
      "cell_type": "markdown",
      "source": [
        "### Test code to get closest pair of persons from frame (in case a ball is not detected)"
      ],
      "metadata": {
        "id": "uS4Ql5xHk9N-"
      }
    },
    {
      "cell_type": "code",
      "source": [
        "FIRST_FILENAME_INDEX = 1\n",
        "label_txt = f'{video}_{FIRST_FILENAME_INDEX}.txt'\n",
        "with open(f'{FOLDER_LABELS}{label_txt}') as f:\n",
        "  reader = f.read()\n",
        "objects = [i.split(' ') for i in reader.split('\\n')][:-1] # [:-1] because when splitting by '\\n', last element is always [''] "
      ],
      "metadata": {
        "id": "DOOqwbGseCh-"
      },
      "execution_count": 75,
      "outputs": []
    },
    {
      "cell_type": "code",
      "source": [
        "arr = np.array(objects)\n",
        "persons = arr[arr[:, 0] == '0']"
      ],
      "metadata": {
        "id": "k0xU0RWZvUa-"
      },
      "execution_count": 77,
      "outputs": []
    },
    {
      "cell_type": "code",
      "source": [
        "arr.shape, persons.shape"
      ],
      "metadata": {
        "colab": {
          "base_uri": "https://localhost:8080/"
        },
        "id": "y6sayHNhwccI",
        "outputId": "9d49c404-6e10-49c8-e19a-775a722375d8"
      },
      "execution_count": 79,
      "outputs": [
        {
          "output_type": "execute_result",
          "data": {
            "text/plain": [
              "((32, 6), (29, 6))"
            ]
          },
          "metadata": {},
          "execution_count": 79
        }
      ]
    },
    {
      "cell_type": "code",
      "source": [
        "arr"
      ],
      "metadata": {
        "colab": {
          "base_uri": "https://localhost:8080/"
        },
        "id": "VyE1GuCguS9m",
        "outputId": "20f8c73e-7a0e-4207-c96c-55953217ad8e"
      },
      "execution_count": 80,
      "outputs": [
        {
          "output_type": "execute_result",
          "data": {
            "text/plain": [
              "array([['0', '0.915625', '0.156481', '0.00520833', '0.0185185',\n",
              "        '0.254883'],\n",
              "       ['9', '0.90625', '0.308796', '0.00729167', '0.0175926',\n",
              "        '0.276367'],\n",
              "       ['0', '0.640365', '0.443519', '0.00885417', '0.0314815',\n",
              "        '0.281982'],\n",
              "       ['0', '0.446354', '0.961574', '0.028125', '0.0601852', '0.297119'],\n",
              "       ['0', '0.455729', '0.37963', '0.00520833', '0.0259259',\n",
              "        '0.324951'],\n",
              "       ['32', '0.149479', '0.518981', '0.00416667', '0.00648148',\n",
              "        '0.391113'],\n",
              "       ['17', '0.85651', '0.67037', '0.0140625', '0.0425926', '0.392334'],\n",
              "       ['0', '0.86224', '0.647222', '0.0109375', '0.0481481', '0.444336'],\n",
              "       ['0', '0.63776', '0.459259', '0.00885417', '0.037037', '0.459717'],\n",
              "       ['0', '0.452865', '0.410185', '0.00885417', '0.0296296',\n",
              "        '0.467529'],\n",
              "       ['0', '0.625', '0.38287', '0.00729167', '0.0268519', '0.511719'],\n",
              "       ['0', '0.636719', '0.686574', '0.0119792', '0.0564815',\n",
              "        '0.569336'],\n",
              "       ['0', '0.31849', '0.330556', '0.0046875', '0.0222222', '0.626953'],\n",
              "       ['0', '0.457812', '0.615278', '0.0135417', '0.0472222', '0.65332'],\n",
              "       ['0', '0.524479', '0.740741', '0.0145833', '0.0611111', '0.65918'],\n",
              "       ['0', '0.484896', '0.428241', '0.00729167', '0.0305556',\n",
              "        '0.672852'],\n",
              "       ['0', '0.621875', '0.423148', '0.009375', '0.0296296', '0.69043'],\n",
              "       ['0', '0.675781', '0.418981', '0.00885417', '0.0324074',\n",
              "        '0.696289'],\n",
              "       ['0', '0.629687', '0.403241', '0.00729167', '0.0361111',\n",
              "        '0.70752'],\n",
              "       ['0', '0.405469', '0.519907', '0.0161458', '0.0453704',\n",
              "        '0.745605'],\n",
              "       ['0', '0.88776', '0.430556', '0.0109375', '0.0351852', '0.747559'],\n",
              "       ['0', '0.146615', '0.500463', '0.0119792', '0.0398148', '0.75'],\n",
              "       ['0', '0.664844', '0.524537', '0.0151042', '0.0472222',\n",
              "        '0.754395'],\n",
              "       ['0', '0.388021', '0.693519', '0.0197917', '0.0611111',\n",
              "        '0.759766'],\n",
              "       ['0', '0.503125', '0.473611', '0.009375', '0.0398148', '0.780762'],\n",
              "       ['0', '0.818229', '0.594444', '0.0135417', '0.0425926', '0.78418'],\n",
              "       ['0', '0.390625', '0.534722', '0.0114583', '0.0453704',\n",
              "        '0.784668'],\n",
              "       ['0', '0.533333', '0.42037', '0.0114583', '0.0351852', '0.785156'],\n",
              "       ['0', '0.630729', '0.510648', '0.0114583', '0.0416667',\n",
              "        '0.790039'],\n",
              "       ['0', '0.705469', '0.481019', '0.0078125', '0.0416667',\n",
              "        '0.811523'],\n",
              "       ['0', '0.225', '0.465741', '0.00833333', '0.0425926', '0.815918'],\n",
              "       ['0', '0.70599', '0.609259', '0.0130208', '0.05', '0.819824']],\n",
              "      dtype='<U10')"
            ]
          },
          "metadata": {},
          "execution_count": 80
        }
      ]
    },
    {
      "cell_type": "code",
      "source": [
        "xy_persons = persons[:, X_INDEX:Y_INDEX + 1].astype(float) # location (0 to 1) of every person in the frame\n",
        "xy_persons[:3]"
      ],
      "metadata": {
        "colab": {
          "base_uri": "https://localhost:8080/"
        },
        "id": "MUPDpKAC0Ov9",
        "outputId": "42e0a910-5a13-4413-c5af-0ae3d584ef65"
      },
      "execution_count": 81,
      "outputs": [
        {
          "output_type": "execute_result",
          "data": {
            "text/plain": [
              "array([[0.915625, 0.156481],\n",
              "       [0.640365, 0.443519],\n",
              "       [0.446354, 0.961574]])"
            ]
          },
          "metadata": {},
          "execution_count": 81
        }
      ]
    },
    {
      "cell_type": "code",
      "source": [
        "XY_LOCATIONS = arr[:, X_INDEX:Y_INDEX + 1].astype(float)\n",
        "XY_LOCATIONS[:3]"
      ],
      "metadata": {
        "colab": {
          "base_uri": "https://localhost:8080/"
        },
        "id": "4LgDLD94fN4d",
        "outputId": "b8b03d71-1310-46c5-a009-f900c0496c46"
      },
      "execution_count": 82,
      "outputs": [
        {
          "output_type": "execute_result",
          "data": {
            "text/plain": [
              "array([[0.915625, 0.156481],\n",
              "       [0.90625 , 0.308796],\n",
              "       [0.640365, 0.443519]])"
            ]
          },
          "metadata": {},
          "execution_count": 82
        }
      ]
    },
    {
      "cell_type": "code",
      "source": [
        "# from scipy.spatial import KDTree"
      ],
      "metadata": {
        "id": "34l0XxKhhXjr"
      },
      "execution_count": 47,
      "outputs": []
    },
    {
      "cell_type": "code",
      "source": [
        "from scipy.spatial.distance import cdist"
      ],
      "metadata": {
        "id": "ZGyFluW1kctn"
      },
      "execution_count": 48,
      "outputs": []
    },
    {
      "cell_type": "code",
      "source": [
        "points = XY_LOCATIONS\n",
        "\n",
        "# calculate all distances between two sets of points\n",
        "dists = cdist(points, points)\n",
        "# the self distance is 0 -> we don't want this so make it large\n",
        "dists[dists == 0] = dists.max()\n",
        "\n",
        "# get index of smallest distance\n",
        "np.unravel_index(dists.argmin(), dists.shape)"
      ],
      "metadata": {
        "colab": {
          "base_uri": "https://localhost:8080/"
        },
        "id": "zAq-qkPfkVxm",
        "outputId": "bbd5b0b4-1f11-4212-d09c-1402550bb5e2"
      },
      "execution_count": 83,
      "outputs": [
        {
          "output_type": "execute_result",
          "data": {
            "text/plain": [
              "(2, 8)"
            ]
          },
          "metadata": {},
          "execution_count": 83
        }
      ]
    },
    {
      "cell_type": "code",
      "source": [
        "# calculate all distances between two sets of points\n",
        "dists = cdist(xy_persons, xy_persons)\n",
        "# the self distance is 0 -> we don't want this so make it large\n",
        "dists[dists == 0] = dists.max()\n",
        "\n",
        "# get index of smallest distance\n",
        "closest_args = np.unravel_index(dists.argmin(), dists.shape)\n",
        "arg1, arg2 = closest_args\n",
        "arg1, arg2"
      ],
      "metadata": {
        "colab": {
          "base_uri": "https://localhost:8080/"
        },
        "id": "c4CHG2cH03hZ",
        "outputId": "733f14be-76f1-4ee9-9b28-cbb0f325ab17"
      },
      "execution_count": 88,
      "outputs": [
        {
          "output_type": "execute_result",
          "data": {
            "text/plain": [
              "(1, 5)"
            ]
          },
          "metadata": {},
          "execution_count": 88
        }
      ]
    },
    {
      "cell_type": "code",
      "source": [
        "# get position of both players\n",
        "two_people = xy_persons[[arg1, arg2]]\n",
        "two_people"
      ],
      "metadata": {
        "colab": {
          "base_uri": "https://localhost:8080/"
        },
        "id": "8eG34euE7YIz",
        "outputId": "88981659-ad8e-46bc-ff71-6393662c49e1"
      },
      "execution_count": 95,
      "outputs": [
        {
          "output_type": "execute_result",
          "data": {
            "text/plain": [
              "array([[0.640365, 0.443519],\n",
              "       [0.63776 , 0.459259]])"
            ]
          },
          "metadata": {},
          "execution_count": 95
        }
      ]
    },
    {
      "cell_type": "code",
      "source": [
        "# get frame center (average position of closest persons)\n",
        "frame_center = np.mean(two_people, axis=0)\n",
        "frame_center"
      ],
      "metadata": {
        "colab": {
          "base_uri": "https://localhost:8080/"
        },
        "id": "C4p7JAUz8ajQ",
        "outputId": "bbe423ca-fe59-4d9d-c282-b05c77dd3ea4"
      },
      "execution_count": 99,
      "outputs": [
        {
          "output_type": "execute_result",
          "data": {
            "text/plain": [
              "array([0.6390625, 0.451389 ])"
            ]
          },
          "metadata": {},
          "execution_count": 99
        }
      ]
    },
    {
      "cell_type": "markdown",
      "source": [
        "### Main code to get the cropped frames"
      ],
      "metadata": {
        "id": "1HkGti7jlLpt"
      }
    },
    {
      "cell_type": "code",
      "source": [
        "for i, frame in enumerate(filenames, 1): # frame of video (filenames contains frames of a single video)\n",
        "  label_txt = f'{video}_{i}.txt'\n",
        "  with open(f'{FOLDER_LABELS}{label_txt}') as f:\n",
        "    reader = f.read()\n",
        "  identified_objects = [i.split(' ') for i in reader.split('\\n')]\n",
        "\n",
        "  for object_ in objects:\n",
        "    if object_[CLASS_INDEX] == BALL_CLASS:\n",
        "      x = int(float(object_[X_INDEX]) * X_SIZE)\n",
        "      y = int(float(object_[Y_INDEX]) * Y_SIZE)\n",
        "      ymin = max(y - radius, 0)\n",
        "      ymax = min(y + radius, Y_SIZE)\n",
        "      xmin = max(x - radius, 0)\n",
        "      xmax = min(x + radius, X_SIZE)\n",
        "\n",
        "      img = cv2.imread(frame + '.jpg')\n",
        "      cropped_image = img[ymin:ymax, xmin:xmax] # We change from (x, y) to (y, x) to work with cv2_imshow\n",
        "      cv2.imwrite(f'{FOLDER_ORIGINAL}{frame}_cropped.jpg', cropped_image)"
      ],
      "metadata": {
        "id": "rfntXQiiCumc"
      },
      "execution_count": 64,
      "outputs": []
    },
    {
      "cell_type": "code",
      "source": [],
      "metadata": {
        "id": "Jyf_ufJxiVsn"
      },
      "execution_count": null,
      "outputs": []
    },
    {
      "cell_type": "markdown",
      "source": [
        "Doing the same cell above with interpolation:"
      ],
      "metadata": {
        "id": "aJbXktGbkTgJ"
      }
    },
    {
      "cell_type": "code",
      "source": [
        "USE_PERSONS = True"
      ],
      "metadata": {
        "id": "Dicvo5zgkSqv"
      },
      "execution_count": 1,
      "outputs": []
    },
    {
      "cell_type": "code",
      "source": [
        "for i, frame in enumerate(filenames, 1): # frame of video (filenames contains frames of a single video)\n",
        "  label_txt = f'{video}_{i}.txt'\n",
        "  with open(f'{FOLDER_LABELS}{label_txt}') as f:\n",
        "    reader = f.read()\n",
        "  identified_objects = [i.split(' ') for i in reader.split('\\n')]\n",
        "  ball = False\n",
        "\n",
        "  for object_ in identified_objects:\n",
        "    if object_[CLASS_INDEX] == BALL_CLASS:\n",
        "      ball = True\n",
        "      x = int(float(object_[X_INDEX]) * X_SIZE)\n",
        "      y = int(float(object_[Y_INDEX]) * Y_SIZE)\n",
        "      ymin = max(y - radius, 0)\n",
        "      ymax = min(y + radius, Y_SIZE)\n",
        "      xmin = max(x - radius, 0)\n",
        "      xmax = min(x + radius, X_SIZE)\n",
        "\n",
        "      img = cv2.imread(frame + '.jpg')\n",
        "      cropped_image = img[ymin:ymax, xmin:xmax] # We change from (x, y) to (y, x) to work with cv2_imshow\n",
        "      cv2.imwrite(f'{FOLDER_ORIGINAL}{frame}_cropped.jpg', cropped_image)\n",
        "    \n",
        "  if not ball and USE_PERSONS:\n",
        "    pass # Maybe create a counter += 1, and when the ball is not detected in 15? consecutive frames, generate the location like this"
      ],
      "metadata": {
        "id": "qmsEpDLckS0e"
      },
      "execution_count": null,
      "outputs": []
    }
  ]
}