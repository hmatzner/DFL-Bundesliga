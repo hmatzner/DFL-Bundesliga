{
  "nbformat": 4,
  "nbformat_minor": 0,
  "metadata": {
    "colab": {
      "provenance": [],
      "collapsed_sections": []
    },
    "kernelspec": {
      "name": "python3",
      "display_name": "Python 3"
    },
    "language_info": {
      "name": "python"
    }
  },
  "cells": [
    {
      "cell_type": "markdown",
      "source": [
        "# From whole video to multiple pictures all from positive classes."
      ],
      "metadata": {
        "id": "Kd83QmtAoyYB"
      }
    },
    {
      "cell_type": "code",
      "execution_count": 1,
      "metadata": {
        "id": "qrNa6htxf3rn"
      },
      "outputs": [],
      "source": [
        "import sys\n",
        "import os\n",
        "import cv2\n",
        "import numpy as np\n",
        "import matplotlib.pyplot as plt"
      ]
    },
    {
      "cell_type": "code",
      "source": [
        "# Load the Drive helper and mount\n",
        "from google.colab import drive\n",
        "\n",
        "# This will prompt for authorization.\n",
        "drive.mount('/content/drive')"
      ],
      "metadata": {
        "colab": {
          "base_uri": "https://localhost:8080/"
        },
        "id": "vCe51HnIhCts",
        "outputId": "8501cded-ac43-42d5-be00-00aa04ac21d0"
      },
      "execution_count": 2,
      "outputs": [
        {
          "output_type": "stream",
          "name": "stdout",
          "text": [
            "Drive already mounted at /content/drive; to attempt to forcibly remount, call drive.mount(\"/content/drive\", force_remount=True).\n"
          ]
        }
      ]
    },
    {
      "cell_type": "code",
      "source": [
        "YOLOV7_FOLDER = '/content/drive/My Drive/Bundesliga/YOLO7'\n",
        "VIDEOS_FOLDER = '/yolov7/runs/detect'\n",
        "CLIPS_FOLDER = YOLOV7_FOLDER + VIDEOS_FOLDER\n",
        "os.chdir(CLIPS_FOLDER)\n",
        "! pwd"
      ],
      "metadata": {
        "colab": {
          "base_uri": "https://localhost:8080/"
        },
        "id": "vf3afRm3he0s",
        "outputId": "47524479-0773-41df-d667-2131959d9d12"
      },
      "execution_count": 3,
      "outputs": [
        {
          "output_type": "stream",
          "name": "stdout",
          "text": [
            "/content/drive/My Drive/Bundesliga/YOLO7/yolov7/runs/detect\n"
          ]
        }
      ]
    },
    {
      "cell_type": "markdown",
      "source": [
        "### Working with only the first video for the moment"
      ],
      "metadata": {
        "id": "13EQEljTk9mf"
      }
    },
    {
      "cell_type": "code",
      "source": [
        "os.chdir(CLIPS_FOLDER + '/clips')\n",
        "! pwd"
      ],
      "metadata": {
        "colab": {
          "base_uri": "https://localhost:8080/"
        },
        "id": "yxYKrFcZlBq4",
        "outputId": "bb9fe5ec-42b2-4b72-eb90-d54d254a5eb0"
      },
      "execution_count": 4,
      "outputs": [
        {
          "output_type": "stream",
          "name": "stdout",
          "text": [
            "/content/drive/My Drive/Bundesliga/YOLO7/yolov7/runs/detect/clips\n"
          ]
        }
      ]
    },
    {
      "cell_type": "code",
      "source": [
        "vidcap = cv2.VideoCapture('08fd33_0.mp4')\n",
        "success, image = vidcap.read()\n",
        "count = 0\n",
        "while success:\n",
        "  cv2.imwrite(\"frame%d.jpg\" % count, image) # save frame as jpg file      \n",
        "  success,image = vidcap.read()\n",
        "  # print('Read a new frame: ', success)\n",
        "  count += 1"
      ],
      "metadata": {
        "id": "DkKwRshLkfWY"
      },
      "execution_count": 65,
      "outputs": []
    },
    {
      "cell_type": "code",
      "source": [
        "from google.colab.patches import cv2_imshow"
      ],
      "metadata": {
        "id": "Z58Oj3XynjxG"
      },
      "execution_count": 6,
      "outputs": []
    },
    {
      "cell_type": "markdown",
      "source": [
        "### Working with high resolution images for YOLO"
      ],
      "metadata": {
        "id": "WOCKXIgL_Dxf"
      }
    },
    {
      "cell_type": "code",
      "source": [
        "os.chdir(CLIPS_FOLDER + '/exp9')\n",
        "! pwd"
      ],
      "metadata": {
        "colab": {
          "base_uri": "https://localhost:8080/"
        },
        "id": "GBUQIzJ9_MuB",
        "outputId": "daa073b2-7b97-4a66-9b5c-1a08955de535"
      },
      "execution_count": 9,
      "outputs": [
        {
          "output_type": "stream",
          "name": "stdout",
          "text": [
            "/content/drive/My Drive/Bundesliga/YOLO7/yolov7/runs/detect/exp9\n"
          ]
        }
      ]
    },
    {
      "cell_type": "code",
      "source": [
        "# ! mkdir OriginalFrames"
      ],
      "metadata": {
        "id": "t7G2BHivjvOl"
      },
      "execution_count": null,
      "outputs": []
    },
    {
      "cell_type": "code",
      "source": [
        "video = '08fd33_0'\n",
        "video_original = f'{video}_original'\n",
        "FOLDER_ORIGINAL = 'OriginalFrames/'\n",
        "FOLDER_LABELS = 'labels/'"
      ],
      "metadata": {
        "id": "a95Cv3ONcMuE"
      },
      "execution_count": 16,
      "outputs": []
    },
    {
      "cell_type": "markdown",
      "source": [
        "Creating frames - not original ones (with YOLO detections):"
      ],
      "metadata": {
        "id": "QRk48SHYaSDR"
      }
    },
    {
      "cell_type": "code",
      "source": [
        "vidcap = cv2.VideoCapture(f'{video}.mp4')\n",
        "success, image = vidcap.read()\n",
        "count = 0\n",
        "while success:\n",
        "  cv2.imwrite(f'frame{count}.jpg', image) # save frame as JPEG file      \n",
        "  success, image = vidcap.read()\n",
        "  count += 1"
      ],
      "metadata": {
        "id": "k4Mx3g2x-Zqg"
      },
      "execution_count": 22,
      "outputs": []
    },
    {
      "cell_type": "markdown",
      "source": [
        "Creating frames - original ones (without YOLO detections) to crop:"
      ],
      "metadata": {
        "id": "QhTAv9f5ZL8K"
      }
    },
    {
      "cell_type": "code",
      "source": [
        "vidcap = cv2.VideoCapture(f'{video_original}.mp4')\n",
        "success, image = vidcap.read()\n",
        "count = 0\n",
        "while success:\n",
        "  cv2.imwrite(f'{FOLDER_ORIGINAL}frame{count}_original.jpg', image) # save frame as JPEG file      \n",
        "  success, image = vidcap.read()\n",
        "  count += 1"
      ],
      "metadata": {
        "id": "DFiTcd2GZKwe"
      },
      "execution_count": 29,
      "outputs": []
    },
    {
      "cell_type": "markdown",
      "source": [
        "Cropping original frames (without YOLO detections):"
      ],
      "metadata": {
        "id": "ZziEDcl9cfBv"
      }
    },
    {
      "cell_type": "code",
      "source": [
        "CLASS_INDEX = 0\n",
        "X_INDEX = 1\n",
        "Y_INDEX = 2\n",
        "BALL_CLASS = '32'\n",
        "X_SIZE = 1928\n",
        "Y_SIZE = 1024\n",
        "CROP_SIZE = 224 # pixels, size of crop = (CROP_SIZExCROP_SIZE)\n",
        "radius = int(CROP_SIZE / 2)"
      ],
      "metadata": {
        "id": "Yc2d_p7PA_1e"
      },
      "execution_count": 41,
      "outputs": []
    },
    {
      "cell_type": "code",
      "source": [
        "from os import listdir\n",
        "from os.path import isfile, join\n",
        "files = [file for file in listdir(FOLDER_ORIGINAL) if isfile(join(FOLDER_ORIGINAL, file))] # get a list of files in the directory"
      ],
      "metadata": {
        "id": "8WgrBW8QjZfL"
      },
      "execution_count": 54,
      "outputs": []
    },
    {
      "cell_type": "code",
      "source": [
        "filenames = [os.path.splitext(filename)[0] for filename in files] # separate filenames from their extension .jpg"
      ],
      "metadata": {
        "id": "-MitrrqwQ1Id"
      },
      "execution_count": 55,
      "outputs": []
    },
    {
      "cell_type": "code",
      "source": [
        "for i, frame in enumerate(filenames, 1): # frame of video (filenames contains frames of a single video)\n",
        "  label_txt = f'{video}_{i}.txt'\n",
        "  with open(f'{FOLDER_LABELS}{label_txt}') as f:\n",
        "    reader = f.read()\n",
        "  identified_objects = [i.split(' ') for i in reader.split('\\n')]\n",
        "\n",
        "  for object_ in identified_objects:\n",
        "    if object_[CLASS_INDEX] == BALL_CLASS:\n",
        "      x = int(float(object_[X_INDEX]) * X_SIZE)\n",
        "      y = int(float(object_[Y_INDEX]) * Y_SIZE)\n",
        "      ymin = max(y - radius, 0)\n",
        "      ymax = min(y + radius, Y_SIZE)\n",
        "      xmin = max(x - radius, 0)\n",
        "      xmax = min(x + radius, X_SIZE)\n",
        "\n",
        "      img = cv2.imread(frame + '.jpg')\n",
        "      cropped_image = img[ymin:ymax, xmin:xmax] # We change from (x, y) to (y, x) to work with cv2_imshow\n",
        "      cv2.imwrite(f'{FOLDER_ORIGINAL}{frame}_cropped.jpg', cropped_image)"
      ],
      "metadata": {
        "id": "rfntXQiiCumc"
      },
      "execution_count": 64,
      "outputs": []
    }
  ]
}