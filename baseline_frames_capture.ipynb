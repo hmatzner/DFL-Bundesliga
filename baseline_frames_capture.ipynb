{
  "nbformat": 4,
  "nbformat_minor": 0,
  "metadata": {
    "colab": {
      "provenance": [],
      "collapsed_sections": [],
      "toc_visible": true
    },
    "kernelspec": {
      "name": "python3",
      "display_name": "Python 3"
    },
    "language_info": {
      "name": "python"
    },
    "gpuClass": "standard"
  },
  "cells": [
    {
      "cell_type": "markdown",
      "source": [
        "## Setup"
      ],
      "metadata": {
        "id": "Z0VW9981XF17"
      }
    },
    {
      "cell_type": "code",
      "execution_count": 1,
      "metadata": {
        "colab": {
          "base_uri": "https://localhost:8080/"
        },
        "id": "7zQq3vumWj_i",
        "outputId": "ae6ad3d5-5f7b-45f7-9f2f-3735a1d1fba1"
      },
      "outputs": [
        {
          "output_type": "stream",
          "name": "stdout",
          "text": [
            "Mounted at /content/drive\n"
          ]
        }
      ],
      "source": [
        "# Load the Drive helper and mount\n",
        "from google.colab import drive\n",
        "\n",
        "# This will prompt for authorization.\n",
        "drive.mount('/content/drive')"
      ]
    },
    {
      "cell_type": "markdown",
      "source": [
        "### Import libraries"
      ],
      "metadata": {
        "id": "oieLPy-77tml"
      }
    },
    {
      "cell_type": "code",
      "source": [
        "import cv2\n",
        "import matplotlib.pyplot as plt\n",
        "import os\n",
        "import pandas as pd\n",
        "import numpy as np\n",
        "from tqdm import tqdm"
      ],
      "metadata": {
        "id": "Hr6ocvMBFSVG"
      },
      "execution_count": 2,
      "outputs": []
    },
    {
      "cell_type": "code",
      "source": [
        "cv2.__version__"
      ],
      "metadata": {
        "colab": {
          "base_uri": "https://localhost:8080/",
          "height": 35
        },
        "id": "06ScVhaYwZQm",
        "outputId": "ed78d006-cfab-4ded-d722-300e439a4db2"
      },
      "execution_count": 3,
      "outputs": [
        {
          "output_type": "execute_result",
          "data": {
            "text/plain": [
              "'4.6.0'"
            ],
            "application/vnd.google.colaboratory.intrinsic+json": {
              "type": "string"
            }
          },
          "metadata": {},
          "execution_count": 3
        }
      ]
    },
    {
      "cell_type": "markdown",
      "source": [
        "### Set constants"
      ],
      "metadata": {
        "id": "_FoYTxuP7y3d"
      }
    },
    {
      "cell_type": "code",
      "source": [
        "ROOT = \"/content/drive/My Drive/ITC_Bundesliga\"  # ROOT folder, where data file train.csv is located\n",
        "VIDEOS_PATH = \"/content/drive/My Drive/ITC_Bundesliga/train\"\n",
        "TABULAR_FILENAME = 'train.csv'"
      ],
      "metadata": {
        "id": "Cgx304AO7yH4"
      },
      "execution_count": 5,
      "outputs": []
    },
    {
      "cell_type": "markdown",
      "source": [
        "## Process tabular data: functions"
      ],
      "metadata": {
        "id": "WuSPntFm-EJt"
      }
    },
    {
      "cell_type": "code",
      "source": [
        "def get_event_times(TABULAR_FILENAME):\n",
        "    \"\"\" get times in ms of events from tabular data (train.csv file) \"\"\"\n",
        "    \n",
        "    df = pd.read_csv(TABULAR_FILENAME)\n",
        "    df['time_ms'] = round(df['time'] * 1000, 0).astype(int)\n",
        "    video_ids = df['video_id'].unique()\n",
        "    df_events = df[~df['event'].isin(['start', 'end'])].copy()\n",
        "    df_events.loc[:, 'frame_id'] = df_events['video_id'] + df_events['time_ms'].astype(str)\n",
        "    # times of events in ms\n",
        "    times = df_events[df_events['video_id'] == video_id]['time_ms'].values\n",
        "\n",
        "    return times"
      ],
      "metadata": {
        "id": "zymTFIQUAKM9"
      },
      "execution_count": 28,
      "outputs": []
    },
    {
      "cell_type": "code",
      "source": [
        "def get_positive_intervals(TABULAR_FILENAME):\n",
        "    \"\"\" get intervals for events from tabular data (train.csv file) \"\"\"\n",
        "    \n",
        "    df = pd.read_csv(TABULAR_FILENAME)\n",
        "    df['time_ms'] = round(df['time'] * 1000, 0).astype(int)\n",
        "    # get positive intervals\n",
        "    df_starts = df[df['event']=='start'].copy()\n",
        "    df_ends = df[df['event']=='end'].copy()\n",
        "\n",
        "    df_positive_intervals = pd.DataFrame({'video_id': df_starts['video_id'].values,\n",
        "                                        'start_time_ms': df_starts['time_ms'].values,\n",
        "                                        'end_time_ms': df_ends['time_ms'].values})\n",
        "    return df_positive_intervals"
      ],
      "metadata": {
        "id": "I6h565UjAkhR"
      },
      "execution_count": 24,
      "outputs": []
    },
    {
      "cell_type": "code",
      "source": [
        "def get_neg_times(df_positive_intervals, video_id, size=100):\n",
        "    \"\"\"get random times of frames that do not fall in any event interval (negatives) for a given video\n",
        "    function takes: \n",
        "        df_positive_intervals from function get_positive_intervals()\n",
        "        video_id\n",
        "        size: size of negative sample\n",
        "    function returns times of the random sample\n",
        "    \"\"\"\n",
        "\n",
        "    df_positive_intervals_cur = df_positive_intervals[df_positive_intervals['video_id']==video_id]\n",
        "    t_min = df_positive_intervals_cur['start_time_ms'].min()\n",
        "    t_max = df_positive_intervals_cur['end_time_ms'].max()\n",
        "\n",
        "    neg_times = []\n",
        "\n",
        "    while len(neg_times) < size:\n",
        "        rand_n = np.random.randint(low=(t_min+1), high=t_max, dtype=int)\n",
        "        is_in_pos_interval = ((rand_n >= df_positive_intervals_cur['start_time_ms']) & \n",
        "                            (rand_n <= df_positive_intervals_cur['end_time_ms'])).\\\n",
        "                            any()\n",
        "        if (not is_in_pos_interval) and (rand_n not in neg_times):\n",
        "            neg_times.append(rand_n)\n",
        "\n",
        "    return neg_times"
      ],
      "metadata": {
        "id": "EJles6x0bI08"
      },
      "execution_count": 14,
      "outputs": []
    },
    {
      "cell_type": "markdown",
      "source": [
        "## Get frames: function"
      ],
      "metadata": {
        "id": "NBVckSermfSG"
      }
    },
    {
      "cell_type": "code",
      "source": [
        "def get_frames_events(video_id, tabular_filename, videos_path, output_path, \n",
        "                      negatives=False, neg_size=None, npz=True, jpg=False, dim=None):\n",
        "    \"\"\"get frames of events for a given video (positive or negative classes),\n",
        "       save npz and/or jpg files\n",
        "       resize (optional)\n",
        "       function takes:\n",
        "            video_id\n",
        "            tabular_filename: filename for tabular data\n",
        "            videos_path: path to folder where the relevant video is located\n",
        "            output_path: path to folder where npz and/or jpg files will be saved\n",
        "            negatives: whether we are taking samples of negative class. \n",
        "                If True, we take only negatives, not positives. If False, we take only positives, not negatives.\n",
        "            neg_size: size of sample of negatives\n",
        "            npz: whether to save an npz file with results\n",
        "            jpg: whether to save jpg files\n",
        "            dim: dimensions of resized images (optional)\n",
        "    \"\"\"\n",
        "\n",
        "    os.chdir(ROOT)\n",
        "    # get times from tabular data\n",
        "    if negatives:\n",
        "        df_positive_intervals = get_positive_intervals(tabular_filename)\n",
        "        times = get_neg_times(df_positive_intervals, video_id, neg_size)\n",
        "    else:\n",
        "        times = get_event_times(tabular_filename)\n",
        "    n_frames = len(times)\n",
        "\n",
        "    # capture video\n",
        "    videoname = ''.join([video_id, '.mp4'])\n",
        "    cap = cv2.VideoCapture(os.path.join(videos_path, videoname))\n",
        "\n",
        "    # initialize result list\n",
        "    res = []\n",
        "\n",
        "    for i, time in enumerate(tqdm(times)):\n",
        "        cap.set(cv2.CAP_PROP_POS_MSEC, time)  # move the time\n",
        "        success, image = cap.read()\n",
        "        if not success:\n",
        "            print(f'{i+1} of {n_frames}, video_id: {video_id}, time: {time}, failed to read.')\n",
        "        # resize\n",
        "        if dim:\n",
        "            image = cv2.resize(image, dim, interpolation = cv2.INTER_AREA)\n",
        "        if npz:\n",
        "            res.append(image)\n",
        "        if jpg:\n",
        "            cv2.imwrite(os.path.join(output_path, f'{video_id}_{time}.jpg'), image)\n",
        "        del image\n",
        "    cap.release()\n",
        "    if npz:\n",
        "        np.savez_compressed(os.path.join(output_path, ''.join([video_id, '.npz'])), np.array(res))\n",
        "\n",
        "    if negatives:\n",
        "        return times"
      ],
      "metadata": {
        "id": "0684pZ6_FS-h"
      },
      "execution_count": 39,
      "outputs": []
    },
    {
      "cell_type": "markdown",
      "source": [
        "## Get frames and merge sequence of frames in gray scale: function"
      ],
      "metadata": {
        "id": "poasV0ahHVFt"
      }
    },
    {
      "cell_type": "code",
      "source": [
        "def get_frames_events_gray(video_id, tabular_filename, videos_path, output_path, frames=3,\n",
        "                      negatives=False, neg_size=None, npz=True, jpg=False, dim=None):\n",
        "    \"\"\"get frames of events for a given video (positive or negative classes),\n",
        "       get subsequent frames, convert to grayscale and merge them in the RGB channel. \n",
        "       save npz and/or jpg files\n",
        "       resize (optional)\n",
        "       function takes:\n",
        "            video_id\n",
        "            tabular_filename: filename for tabular data\n",
        "            videos_path: path to folder where the relevant video is located\n",
        "            output_path: path to folder where npz and/or jpg files will be saved\n",
        "            frames: number of subsequent frames to take. Default: 3.\n",
        "            negatives: whether we are taking samples of negative class. \n",
        "                If True, we take only negatives, not positives. If False, we take only positives, not negatives.\n",
        "            neg_size: size of sample of negatives\n",
        "            npz: whether to save an npz file with results\n",
        "            jpg: whether to save jpg files\n",
        "            dim: dimensions of resized images (optional)\n",
        "    \"\"\"\n",
        "    os.chdir(ROOT)\n",
        "    # get times from tabular data\n",
        "    if negatives:\n",
        "        df_positive_intervals = get_positive_intervals(tabular_filename)\n",
        "        times = get_neg_times(df_positive_intervals, video_id, neg_size)\n",
        "    else:\n",
        "        times = get_event_times(tabular_filename)\n",
        "    n_frames = len(times)\n",
        "\n",
        "    # capture video\n",
        "    videoname = ''.join([video_id, '.mp4'])\n",
        "    cap = cv2.VideoCapture(os.path.join(videos_path, videoname))\n",
        "\n",
        "    # initialize result list\n",
        "    res = []\n",
        "\n",
        "    for i, time in enumerate(tqdm(times)):\n",
        "        cap.set(cv2.CAP_PROP_POS_MSEC, time)  # move the time\n",
        "        gray_images = []\n",
        "        for i in range(frames):\n",
        "            success, image = cap.read()\n",
        "            if not success:\n",
        "                print(f'{i+1} of {n_frames}, video_id: {video_id}, time: {time}, failed to read.')\n",
        "            gray_image = cv2.cvtColor(image, cv2.COLOR_RGB2GRAY)\n",
        "            gray_images.append(gray_image)\n",
        "        # stack\n",
        "        image = np.stack(gray_images, axis=2)\n",
        "        # resize\n",
        "        if dim:\n",
        "            image = cv2.resize(image, dim, interpolation = cv2.INTER_AREA)\n",
        "        if npz:\n",
        "            res.append(image)\n",
        "        if jpg:\n",
        "            cv2.imwrite(os.path.join(output_path, f'{video_id}_{time}.jpg'), image)\n",
        "        del image\n",
        "    cap.release()\n",
        "    if npz:\n",
        "        np.savez_compressed(os.path.join(output_path, ''.join([video_id, '.npz'])), np.array(res))\n",
        "\n",
        "    if negatives:\n",
        "        return times"
      ],
      "metadata": {
        "id": "dvX2nKlYheDp"
      },
      "execution_count": 43,
      "outputs": []
    }
  ]
}